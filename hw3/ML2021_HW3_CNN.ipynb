{
  "nbformat": 4,
  "nbformat_minor": 0,
  "metadata": {
    "accelerator": "GPU",
    "colab": {
      "name": "HW3-CNN.ipynb",
      "provenance": [],
      "collapsed_sections": [],
      "toc_visible": true
    },
    "kernelspec": {
      "display_name": "Python 3",
      "name": "python3",
      "language": "python"
    }
  },
  "cells": [
    {
      "cell_type": "markdown",
      "metadata": {
        "id": "D_a2USyd4giE"
      },
      "source": [
        "# **Homework 3 - Convolutional Neural Network**\n",
        "\n",
        "This is the example code of homework 3 of the machine learning course by Prof. Hung-yi Lee.\n",
        "\n",
        "In this homework, you are required to build a convolutional neural network for image classification, possibly with some advanced training tips.\n",
        "\n",
        "\n",
        "There are three levels here:\n",
        "\n",
        "**Easy**: Build a simple convolutional neural network as the baseline. (2 pts)\n",
        "\n",
        "**Medium**: Design a better architecture or adopt different data augmentations to improve the performance. (2 pts)\n",
        "\n",
        "**Hard**: Utilize provided unlabeled data to obtain better results. (2 pts)"
      ]
    },
    {
      "cell_type": "markdown",
      "metadata": {
        "id": "VHpJocsDr6iA"
      },
      "source": [
        "## **About the Dataset**\n",
        "\n",
        "The dataset used here is food-11, a collection of food images in 11 classes.\n",
        "\n",
        "For the requirement in the homework, TAs slightly modified the data.\n",
        "Please DO NOT access the original fully-labeled training data or testing labels.\n",
        "\n",
        "Also, the modified dataset is for this course only, and any further distribution or commercial use is forbidden."
      ]
    },
    {
      "cell_type": "code",
      "execution_count": 1,
      "metadata": {},
      "outputs": [],
      "source": [
        "import os\n",
        "\n",
        "os.environ['CUDA_VISIBLE_DEVICES'] = '0'"
      ]
    },
    {
      "cell_type": "markdown",
      "metadata": {
        "id": "BBVSCWWhp6uq"
      },
      "source": [
        "## **Import Packages**\n",
        "\n",
        "First, we need to import packages that will be used later.\n",
        "\n",
        "In this homework, we highly rely on **torchvision**, a library of PyTorch."
      ]
    },
    {
      "cell_type": "code",
      "metadata": {
        "id": "9sVrKci4PUFW"
      },
      "source": [
        "# Import necessary packages.\n",
        "import numpy as np\n",
        "import torch\n",
        "import torch.nn as nn\n",
        "import torchvision\n",
        "import torchvision.transforms as transforms\n",
        "from PIL import Image\n",
        "# \"ConcatDataset\" and \"Subset\" are possibly useful when doing semi-supervised learning.\n",
        "from torch.utils.data import ConcatDataset, DataLoader, Subset\n",
        "from torchvision.datasets import DatasetFolder\n",
        "from copy import deepcopy\n",
        "import seaborn as sns\n",
        "\n",
        "# This is for the progress bar.\n",
        "from tqdm.notebook import tqdm"
      ],
      "execution_count": 2,
      "outputs": []
    },
    {
      "cell_type": "markdown",
      "metadata": {
        "id": "F0i9ZCPrOVN_"
      },
      "source": [
        "## **Dataset, Data Loader, and Transforms**\n",
        "\n",
        "Torchvision provides lots of useful utilities for image preprocessing, data wrapping as well as data augmentation.\n",
        "\n",
        "Here, since our data are stored in folders by class labels, we can directly apply **torchvision.datasets.DatasetFolder** for wrapping data without much effort.\n",
        "\n",
        "Please refer to [PyTorch official website](https://pytorch.org/vision/stable/transforms.html) for details about different transforms."
      ]
    },
    {
      "cell_type": "code",
      "metadata": {
        "id": "gKd2abixQghI"
      },
      "source": [
        "# It is important to do data augmentation in training.\n",
        "# However, not every augmentation is useful.\n",
        "# Please think about what kind of augmentation is helpful for food recognition.\n",
        "# tfm_norm = transforms.Normalize(mean=[0.5, 0.5, 0.5], std=[0.5, 0.5, 0.5])\n",
        "tfm_norm = transforms.Normalize(mean=[0.485, 0.456, 0.406], std=[0.229, 0.224, 0.225])\n",
        "train_tfm = transforms.Compose([\n",
        "    # Resize the image into a fixed shape (height = width = 128)\n",
        "    transforms.Resize(256),\n",
        "    transforms.RandomRotation(180, expand=True),\n",
        "    transforms.RandomCrop(224),\n",
        "    transforms.ColorJitter(brightness=0.2, contrast=0.25, saturation=.15, hue=0.05),\n",
        "    transforms.RandomVerticalFlip(p=0.2),\n",
        "    transforms.RandomHorizontalFlip(p=0.5),\n",
        "    transforms.ToTensor(),\n",
        "    transforms.RandomErasing(p=0.5, scale=(0.05, 0.15), ratio=(0.5, 1.5), value=0, inplace=False),\n",
        "    tfm_norm\n",
        "])\n",
        "\n",
        "# We don't need augmentations in testing and validation.\n",
        "# All we need here is to resize the PIL image and transform it into Tensor.\n",
        "test_tfm = transforms.Compose([\n",
        "    transforms.Resize(224),\n",
        "    transforms.CenterCrop(224),\n",
        "    transforms.ToTensor(),\n",
        "    tfm_norm\n",
        "])\n"
      ],
      "execution_count": 3,
      "outputs": []
    },
    {
      "cell_type": "code",
      "execution_count": 4,
      "metadata": {},
      "outputs": [],
      "source": [
        "class RandomTransformDataset:\n",
        "    def __init__(self, dataset, transform, random_time):\n",
        "        self.dataset = dataset\n",
        "        self.transform = transform\n",
        "        self.random_time = random_time\n",
        "    \n",
        "    def __len__(self):\n",
        "        return len(self.dataset)\n",
        "\n",
        "    def __getitem__(self, idx):\n",
        "        jpg, _ = self.dataset[idx]\n",
        "        imgs = [self.transform(jpg) for i in range(self.random_time)]\n",
        "        return torch.stack(imgs, 0)\n",
        "    \n",
        "    @staticmethod\n",
        "    def merge_batch(imgs):\n",
        "        # (batch, RANDOM_NUM, 3, shape0, shape1)\n",
        "        return imgs.reshape(-1, *imgs.shape[2:])\n",
        "    \n",
        "    def merge_predict(self, predicts):\n",
        "        # (batch*RANOM_NUM, 11)\n",
        "        res = []\n",
        "        labels = torch.argmax(predicts, dim=1).squeeze()\n",
        "        # (batch*RANOM_NUM)\n",
        "        for prob in torch.split(labels, self.random_time):\n",
        "            # (RANDOM_NUM)\n",
        "            # voting\n",
        "            res.append(torch.argmax(torch.bincount(prob)))\n",
        "        # (batch)\n",
        "        return  res\n",
        "\n"
      ]
    },
    {
      "cell_type": "code",
      "execution_count": 5,
      "metadata": {},
      "outputs": [],
      "source": [
        "onehot_lookup = torch.eye(11)\n",
        "def onehot(label):\n",
        "    return onehot_lookup[label]"
      ]
    },
    {
      "cell_type": "code",
      "metadata": {
        "id": "qz6jeMnkQl0_"
      },
      "source": [
        "# Batch size for training, validation, and testing.\n",
        "# A greater batch size usually gives a more stable gradient.\n",
        "# But the GPU memory is limited, so please adjust it carefully.\n",
        "batch_size = 128\n",
        "\n",
        "# Construct datasets.\n",
        "# The argument \"loader\" tells how torchvision reads the data.\n",
        "data_folder = \"/data/ML2021/hw3/\"\n",
        "\n",
        "train_set = DatasetFolder(data_folder+\"food-11/training/labeled\", loader=lambda x: Image.open(x),extensions=\"jpg\", transform=train_tfm, target_transform=onehot)\n",
        "valid_set = DatasetFolder(data_folder+\"food-11/validation\", loader=lambda x: Image.open(x), extensions=\"jpg\", transform=test_tfm, target_transform=onehot)\n",
        "# test_set = DatasetFolder(data_folder+\"food-11/testing\", loader=lambda x: Image.open(x), extensions=\"jpg\", transform=test_tfm)\n",
        "\n",
        "unlabeled_set = DatasetFolder(data_folder+\"food-11/training/unlabeled\", loader=lambda x: Image.open(x), extensions=\"jpg\", transform=train_tfm)\n",
        "unlabeled_set.classes = train_set.classes\n",
        "unlabeled_set.class_to_idx = train_set.class_to_idx\n",
        "\n",
        "# Construct data loaders.\n",
        "train_loader = DataLoader(train_set, batch_size=batch_size, shuffle=True, num_workers=8, pin_memory=True, drop_last=True)\n",
        "train_loader_noshuf = DataLoader(train_set, batch_size=batch_size, shuffle=False, num_workers=8, pin_memory=True)\n",
        "unlab_loader = DataLoader(unlabeled_set, batch_size=batch_size, shuffle=False, num_workers=8, pin_memory=True)\n",
        "valid_loader = DataLoader(valid_set, batch_size=batch_size, shuffle=True, num_workers=2, pin_memory=True)\n",
        "# test_loader = DataLoader(test_set, batch_size=batch_size, shuffle=False)"
      ],
      "execution_count": 6,
      "outputs": []
    },
    {
      "cell_type": "code",
      "execution_count": 7,
      "metadata": {},
      "outputs": [],
      "source": [
        "RANDOM_NUM = 16\n",
        "test_set = DatasetFolder(data_folder+\"food-11/testing\", loader=lambda x: Image.open(x), extensions=\"jpg\", transform=None)\n",
        "rd_test_set = RandomTransformDataset(test_set, train_tfm, random_time=RANDOM_NUM)\n",
        "rd_test_loader = DataLoader(rd_test_set, batch_size=batch_size//RANDOM_NUM*2, shuffle=False, num_workers=16)\n",
        "test_loader = DataLoader(DatasetFolder(data_folder+\"food-11/testing\", loader=lambda x: Image.open(x), extensions=\"jpg\", transform=test_tfm), batch_size=batch_size, shuffle=False, num_workers=16)\n"
      ]
    },
    {
      "cell_type": "markdown",
      "metadata": {
        "id": "j9YhZo7POPYG"
      },
      "source": [
        "## **Model**\n",
        "\n",
        "The basic model here is simply a stack of convolutional layers followed by some fully-connected layers.\n",
        "\n",
        "Since there are three channels for a color image (RGB), the input channels of the network must be three.\n",
        "In each convolutional layer, typically the channels of inputs grow, while the height and width shrink (or remain unchanged, according to some hyperparameters like stride and padding).\n",
        "\n",
        "Before fed into fully-connected layers, the feature map must be flattened into a single one-dimensional vector (for each image).\n",
        "These features are then transformed by the fully-connected layers, and finally, we obtain the \"logits\" for each class.\n",
        "\n",
        "### **WARNING -- You Must Know**\n",
        "You are free to modify the model architecture here for further improvement.\n",
        "However, if you want to use some well-known architectures such as ResNet50, please make sure **NOT** to load the pre-trained weights.\n",
        "Using such pre-trained models is considered cheating and therefore you will be punished.\n",
        "Similarly, it is your responsibility to make sure no pre-trained weights are used if you use **torch.hub** to load any modules.\n",
        "\n",
        "For example, if you use ResNet-18 as your model:\n",
        "\n",
        "model = torchvision.models.resnet18(pretrained=**False**) → This is fine.\n",
        "\n",
        "model = torchvision.models.resnet18(pretrained=**True**)  → This is **NOT** allowed."
      ]
    },
    {
      "cell_type": "code",
      "execution_count": 8,
      "metadata": {},
      "outputs": [],
      "source": [
        "class BlockLinear(nn.Module):\n",
        "    def __init__(self, ch_in, ch_out, act=None, use_bn=True, drop=0):\n",
        "        super(BlockLinear, self).__init__()\n",
        "        list = [\n",
        "            nn.Linear(ch_in, ch_out)\n",
        "        ]\n",
        "        if use_bn: list.append(nn.BatchNorm1d(ch_out))\n",
        "        if act: list.append(act)\n",
        "        if drop > 0: list.append(nn.Dropout(drop))\n",
        "        self.net = nn.Sequential(*list)\n",
        "\n",
        "    def forward(self, x):\n",
        "          return self.net(x)"
      ]
    },
    {
      "cell_type": "code",
      "execution_count": 9,
      "metadata": {},
      "outputs": [],
      "source": [
        "# m = torchvision.models.resnet18(pretrained=False)\n",
        "# for i, j in (m.state_dict().items()):\n",
        "    # print(i, \"\\t\", j.shape)\n",
        "# (m.fc.in_features)\n",
        "# (m.__class__.__name__)"
      ]
    },
    {
      "cell_type": "code",
      "metadata": {
        "id": "Y1c-GwrMQqMl"
      },
      "source": [
        "class Classifier(nn.Module):\n",
        "    def __init__(self, encoder, linears=[], drop=.3):\n",
        "        super(Classifier, self).__init__()\n",
        "        # input image size: [3, 224, 224]\n",
        "        self.name = f'{encoder.__name__}_{\"_\".join([str(n) for n in linears])}'\n",
        "        self.encoder = encoder(pretrained=False)\n",
        "        self.dim = self.encoder.fc.in_features\n",
        "        # self.encoder.fc = BlockLinear(512, 128, act=nn.ReLU(), use_bn=True)\n",
        "        # self.n = [512, 128]\n",
        "        self.n = [self.dim] + linears\n",
        "        self.l = len(self.n)\n",
        "        fc = [\n",
        "            BlockLinear(self.n[i], self.n[i+1], act=nn.ReLU(), use_bn=True, drop=drop)\n",
        "            for i in range(self.l-1)\n",
        "        ]\n",
        "        self.encoder.fc = nn.Sequential(*fc)\n",
        "        self.out = nn.Linear(self.n[-1], 11)\n",
        "\n",
        "    def forward(self, x):\n",
        "        x = self.encoder(x)\n",
        "        x = self.out(x)\n",
        "        return x\n",
        "\n",
        "    def ema_update(self, target, alpha):\n",
        "        one_minus_alpha = 1. - alpha\n",
        "        with torch.no_grad():\n",
        "            for para, tar in zip(self.parameters(), target.parameters()):\n",
        "                para.sub_(one_minus_alpha * (para - tar))\n",
        "            \n",
        "            for para, tar in zip(self.buffers(), target.buffers()):\n",
        "                if para.dtype == torch.float:\n",
        "                    para.sub_(one_minus_alpha * (para - tar))\n",
        "                else:\n",
        "                    para.copy_(tar)\n",
        "\n",
        "            # model_params = OrderedDict(self.named_parameters())\n",
        "            # tar_params = OrderedDict(target.named_parameters())\n",
        "            # assert model_params.keys() == tar_params.keys()\n",
        "\n",
        "            # for name, param in tar_params.items():\n",
        "            #     # see https://www.tensorflow.org/api_docs/python/tf/train/ExponentialMovingAverage\n",
        "            #     # shadow_variable -= (1 - decay) * (shadow_variable - variable)\n",
        "            #     model_params[name].sub_(one_minus_alpha * (model_params[name] - param))"
      ],
      "execution_count": 10,
      "outputs": []
    },
    {
      "cell_type": "markdown",
      "metadata": {
        "id": "aEnGbriXORN3"
      },
      "source": [
        "## **Training**\n",
        "\n",
        "You can finish supervised learning by simply running the provided code without any modification.\n",
        "\n",
        "The function \"get_pseudo_labels\" is used for semi-supervised learning.\n",
        "It is expected to get better performance if you use unlabeled data for semi-supervised learning.\n",
        "However, you have to implement the function on your own and need to adjust several hyperparameters manually.\n",
        "\n",
        "For more details about semi-supervised learning, please refer to [Prof. Lee's slides](https://speech.ee.ntu.edu.tw/~tlkagk/courses/ML_2016/Lecture/semi%20(v3).pdf).\n",
        "\n",
        "Again, please notice that utilizing external data (or pre-trained model) for training is **prohibited**."
      ]
    },
    {
      "cell_type": "code",
      "execution_count": 11,
      "metadata": {},
      "outputs": [],
      "source": [
        "# fix random seed\n",
        "def same_seeds(seed):\n",
        "    torch.manual_seed(seed)\n",
        "    if torch.cuda.is_available():\n",
        "        torch.cuda.manual_seed(seed)\n",
        "        torch.cuda.manual_seed_all(seed)  \n",
        "    np.random.seed(seed)  \n",
        "    torch.backends.cudnn.benchmark = False\n",
        "    torch.backends.cudnn.deterministic = True\n",
        "same_seeds(52728)\n",
        "device = \"cuda\" if torch.cuda.is_available() else \"cpu\""
      ]
    },
    {
      "cell_type": "code",
      "execution_count": 12,
      "metadata": {},
      "outputs": [],
      "source": [
        "# Explicitly define the psudolabels in Subset class\n",
        "class SubsetCustomLabel:\n",
        "    def __init__(self, dataset, labels, indices):\n",
        "        self.dataset = dataset\n",
        "        self.labels = labels\n",
        "        self.indices = indices\n",
        "\n",
        "    def __len__(self):\n",
        "        return len(self.labels)\n",
        "    \n",
        "    def __getitem__(self, idx):\n",
        "        return self.dataset[self.indices[idx]][0], self.labels[idx]\n",
        "    \n",
        "    def set_transform(self, transform):\n",
        "        self.dataset.transform = transform\n"
      ]
    },
    {
      "cell_type": "code",
      "execution_count": 13,
      "metadata": {},
      "outputs": [],
      "source": [
        "class Log:\n",
        "    def __init__(self, log_path='log', clear=True):\n",
        "        self.log_path = log_path\n",
        "        if clear: self.clean_file()\n",
        "        self.log = open(log_path, 'a')\n",
        "    \n",
        "    def clean_file(self):\n",
        "        if self.log_path in os.listdir():\n",
        "            os.remove(self.log_path)\n",
        "            print('remove log')\n",
        "        \n",
        "    def flush(self):\n",
        "        self.log.flush()\n",
        "    \n",
        "    def write(self, log_str, is_print=True):\n",
        "        self.log.write(log_str + \"\\n\")\n",
        "        if is_print: print(log_str)\n",
        "    \n",
        "    def write_epoch(self, total, cur, sections, is_write=True, is_print=True):\n",
        "        log_str = f\"[ {cur + 1:03d}/{total:03d} ]\"\n",
        "        for n, s in sections:\n",
        "            log_str += f\" {self.section(n, s)}\"\n",
        "        if is_write: self.write(log_str, is_print=is_print)\n",
        "        else: return log_str\n",
        "    \n",
        "    def section(self, dest, dict):\n",
        "        log_str = f\"[ {dest:<5} |\"\n",
        "        flg = False\n",
        "        for n, v in dict.items():\n",
        "            if flg:\n",
        "                log_str += \",\"\n",
        "            log_str += f\" {n} = {v:.5f}\"\n",
        "            flg = True\n",
        "        log_str += \" ]\"\n",
        "        return log_str\n",
        "    "
      ]
    },
    {
      "cell_type": "code",
      "metadata": {
        "id": "swlf5EwA-hxA"
      },
      "source": [
        "def get_pseudo_labels(model, dataloader, threshold=0.5, tempreture=3, is_labeled=False, labeld_alpha=.5):\n",
        "    model.eval()\n",
        "    # Define softmax function.\n",
        "    softmax = nn.Softmax(dim=-1)\n",
        "    idx = []\n",
        "    targets = []\n",
        "    if is_labeled:\n",
        "        count = torch.zeros((11, 11), dtype=torch.float32)\n",
        "    else:\n",
        "        count = torch.zeros(11, dtype=torch.float32)\n",
        "    # Iterate over the dataset by batches.\n",
        "    for i, batch in tqdm(enumerate(dataloader), leave=False, desc='PseudoLabels'):\n",
        "        img, ans = batch\n",
        "        with torch.no_grad():\n",
        "            logits = model(img.to(device))\n",
        "\n",
        "        # Obtain the probability distributions by applying softmax on logits.\n",
        "        probs = softmax(logits/tempreture)\n",
        "        \n",
        "        # Filter the data and construct a new dataset.\n",
        "        probs1 = probs.max(dim=1).values\n",
        "        # st = torch.topk(probs, 2, dim=1)\n",
        "        # probs1 = st[0][:, 0]\n",
        "        # probs2 = st[0][:, 1]\n",
        "        # select = (probs1 > threshold) & ((probs1-probs2) > .25)\n",
        "        select = (probs1 > threshold)\n",
        "        if not select.any():\n",
        "            continue\n",
        "        # targets += st[1][select, 0].tolist()\n",
        "        probs_arg = probs[select].argmax(dim=1)\n",
        "\n",
        "        if is_labeled:\n",
        "            count += probs.sum(dim=0).cpu()\n",
        "            # l = ans.to(device).argmax(dim=-1)\n",
        "            # u, id = torch.unique(l.cpu(), return_inverse=True)\n",
        "            # for i in u:\n",
        "            #     count[i] += nn.functional.softmax(logits.cpu()[u[id]==i], dim=1).sum(dim=0)\n",
        "            targets.append(probs.cpu()*(1-labeld_alpha) + ans*labeld_alpha)\n",
        "        else:\n",
        "            # targets += probs_arg.tolist()\n",
        "            # c = torch.bincount(probs_arg).cpu()\n",
        "            targets.append(probs[select].cpu())\n",
        "            c = probs[select].sum(dim=0).cpu()\n",
        "\n",
        "            count[:len(c)] += c\n",
        "            idx += (torch.where(select)[0] + batch_size*i).tolist()\n",
        "\n",
        "    # custom subset\n",
        "    targets = torch.cat(targets, dim=0)\n",
        "    if is_labeled:\n",
        "        new = SubsetCustomLabel(dataloader.dataset, targets, torch.arange(len(dataloader.dataset)).tolist())\n",
        "    else:\n",
        "        new = SubsetCustomLabel(dataloader.dataset, targets, idx)\n",
        "    model.train()\n",
        "    return new, count\n",
        "\n",
        "def get_semi_set(model, threshold=0.5, tempreture=5):\n",
        "    unlabeled_set.transform = tfm_weak\n",
        "    train_set.transform = tfm_weak\n",
        "    \n",
        "    pseudo_set, count = get_pseudo_labels(\n",
        "        model, unlab_loader, threshold=threshold, tempreture=tempreture)\n",
        "    log.write(f\"Use pseudo label: {len(pseudo_set)}\")\n",
        "    log.write(\"Pseudo Labels Distribution:\\n\" + \n",
        "        \", \".join([f'{i+1:02d}: {w*100:05.2f}' for i, w in enumerate(count/count.sum())]))\n",
        "    \n",
        "    labeled_set, confusion = get_pseudo_labels(\n",
        "        model, train_loader_noshuf, threshold=threshold, tempreture=tempreture, is_labeled=True, labeld_alpha=0.5)\n",
        "    \n",
        "    # log.write(\"GT Labels Distribution:\\n\" + \n",
        "        # \", \".join([f'{i+1:02d}: {w*100:05.2f}' for i, w in enumerate(count2/count2.sum())]))\n",
        "    \n",
        "    # count += count2\n",
        "    # concat_dataset = ConcatDataset([train_set, pseudo_set])\n",
        "    # concat_dataset = ConcatDataset([labeled_set, pseudo_set])\n",
        "    # loader = DataLoader(concat_dataset, batch_size=batch_size, shuffle=True, num_workers=8, pin_memory=True, drop_last=True)\n",
        "\n",
        "    labeled_loader = DataLoader(labeled_set, batch_size=batch_size, shuffle=True, num_workers=8, pin_memory=True, drop_last=True)\n",
        "    pseudo_loader = DataLoader(pseudo_set, batch_size=batch_size, shuffle=True, num_workers=8, pin_memory=True, drop_last=True)\n",
        "   \n",
        "    unlabeled_set.transform = tfm_strong\n",
        "    train_set.transform = tfm_strong\n",
        "    return labeled_loader, pseudo_loader, confusion\n",
        "    # return loader, count"
      ],
      "execution_count": 14,
      "outputs": []
    },
    {
      "cell_type": "code",
      "execution_count": 15,
      "metadata": {},
      "outputs": [],
      "source": [
        "def train(model, loader, criterion, shadow_model=None):\n",
        "    model.train()\n",
        "\n",
        "    train_loss = []\n",
        "    train_accs = []\n",
        "    for batch in tqdm(loader, desc='Train', leave=False):\n",
        "        imgs, labels = batch\n",
        "        logits = model(imgs.to(device))\n",
        "        loss = criterion(logits, labels.to(device))\n",
        "        optimizer.zero_grad()\n",
        "        loss.backward()\n",
        "        grad_norm = nn.utils.clip_grad_norm_(model.parameters(), max_norm=10)\n",
        "        optimizer.step()\n",
        "        if shadow_model:\n",
        "            shadow_model.ema_update(model, ema_decay)\n",
        "\n",
        "        acc = (logits.argmax(dim=-1) == labels.to(device).argmax(dim=-1)).float().mean()\n",
        "        # acc = (logits.argmax(dim=-1) == labels.to(device)).float().mean()\n",
        "        train_loss.append(loss.item())\n",
        "        train_accs.append(acc)\n",
        "\n",
        "    train_loss = sum(train_loss) / len(train_loss)\n",
        "    train_acc = sum(train_accs) / len(train_accs)\n",
        "    log_dict = ['Train', {'loss': train_loss, 'acc': train_acc}]\n",
        "    return log_dict\n",
        "\n",
        "def valid(model):    \n",
        "    model.eval()\n",
        "    \n",
        "    valid_loss = []\n",
        "    valid_accs = []\n",
        "    confusion = torch.zeros((11, 11), dtype=float)\n",
        "    for batch in tqdm(valid_loader, desc='Valid', leave=False):\n",
        "        imgs, labels = batch\n",
        "        imgs = imgs.to(device)\n",
        "        with torch.no_grad():\n",
        "            logits = model(imgs)\n",
        "\n",
        "        loss = criterion(logits, labels.to(device))\n",
        "        \n",
        "        l = labels.to(device).argmax(dim=-1)\n",
        "        # acc = (logits.argmax(dim=-1) == labels.to(device)).float().mean()\n",
        "        acc = (logits.argmax(dim=-1) == l).float().mean()\n",
        "        u, id = torch.unique(l.cpu(), return_inverse=True)\n",
        "        for i in u:\n",
        "            confusion[i] += nn.functional.softmax(logits.cpu()[u[id]==i], dim=1).sum(dim=0)\n",
        "\n",
        "        valid_loss.append(loss.item())\n",
        "        valid_accs.append(acc)\n",
        "\n",
        "    valid_loss = sum(valid_loss) / len(valid_loss)\n",
        "    valid_acc = sum(valid_accs) / len(valid_accs)\n",
        "    \n",
        "    log_dict = ['Valid', {'loss': valid_loss, 'acc': valid_acc}]\n",
        "    return log_dict, valid_acc, confusion"
      ]
    },
    {
      "cell_type": "code",
      "execution_count": 16,
      "metadata": {},
      "outputs": [],
      "source": [
        "from torchvision.models import resnet18, resnet34, resnet50, resnet101, resnext50_32x4d\n",
        "# (resnet__, [linears], dropout)\n",
        "model_levels = [\n",
        "    # (resnet18, [128], 0.3),\n",
        "    (resnet34, [256, 64], 0.3),\n",
        "    (resnet50, [512, 128], 0.4),\n",
        "    (resnext50_32x4d, [1024, 256, 64], 0.5),\n",
        "    # (resnet50, [1024, 256, 64], 0.3),\n",
        "]\n",
        "\n",
        "\n",
        "tfm_weak = transforms.Compose([\n",
        "            # transforms.Resize(256),\n",
        "            # transforms.CenterCrop(224),\n",
        "            transforms.RandomResizedCrop(224, scale=(0.8, 1.0), ratio=(.9, 1.1)),\n",
        "            transforms.RandomRotation(180),\n",
        "            transforms.RandomHorizontalFlip(p=0.5),\n",
        "            # transforms.ColorJitter(brightness=0.1, contrast=0.1, saturation=.1, hue=0.05),\n",
        "            transforms.ToTensor(),\n",
        "            tfm_norm\n",
        "        ])\n",
        "tfm_strong = transforms.Compose([\n",
        "            # transforms.Resize(300),\n",
        "            transforms.RandomResizedCrop(224, scale=(0.8, 1.0), ratio=(.8, 1.2)),\n",
        "            transforms.RandomRotation(180),\n",
        "            # transforms.RandomCrop(224),\n",
        "            transforms.RandomHorizontalFlip(p=0.5),\n",
        "            transforms.ColorJitter(brightness=0.3, contrast=0.3, saturation=.3, hue=0.15),\n",
        "            transforms.RandomGrayscale(p=0.2),\n",
        "            transforms.GaussianBlur(5, sigma=(0.1, 1.4)),\n",
        "            transforms.ToTensor(),\n",
        "            transforms.RandomErasing(\n",
        "                p=0.5, scale=(0.05, 0.15), ratio=(0.3, 2), value='random'),\n",
        "            tfm_norm\n",
        "        ])"
      ]
    },
    {
      "cell_type": "code",
      "execution_count": 17,
      "metadata": {},
      "outputs": [
        {
          "output_type": "stream",
          "name": "stdout",
          "text": [
            "remove log\n"
          ]
        }
      ],
      "source": [
        "log = Log()"
      ]
    },
    {
      "cell_type": "code",
      "metadata": {
        "id": "PHaFE-8oQtkC",
        "tags": []
      },
      "source": [
        "torch.cuda.empty_cache()\n",
        "model_path = \"./model_{}.ckpt\"\n",
        "log_soft = nn.LogSoftmax(dim=1)\n",
        "kl_div = nn.KLDivLoss(reduction='none', log_target=False)\n",
        "kl_div_batch = nn.KLDivLoss(reduction='batchmean', log_target=False)\n",
        "# criterion = lambda x, t: (kl_div(log_soft(x), t)*weight).sum(dim=1).mean()\n",
        "criterion = lambda x, t: (kl_div_batch(log_soft(x), t))\n",
        "# weight = torch.ones((1, 11)).float().to(device)\n",
        "\n",
        "# criterion = nn.CrossEntropyLoss()\n",
        "\n",
        "\n",
        "ema_decay = 0.9999\n",
        "epoch_t = 5\n",
        "epoch_s = 8\n",
        "round_s = 10\n",
        "\n",
        "loader = train_loader\n",
        "# ---------- Teacher ----------\n",
        "name_t = 'teacher'\n",
        "name_s = 'student'\n",
        "log.write(\"=\"*10 + f\" {name_t} \" + \"=\"*10)\n",
        "log.flush()\n",
        "\n",
        "# tfm_weak = train_tfm\n",
        "unlabeled_set.transform = tfm_weak\n",
        "train_set.transform = tfm_weak\n",
        "model_ = [resnext50_32x4d, [512, 128], 0.5]\n",
        "model_t = Classifier(*model_).to(device)\n",
        "model_t.load_state_dict(torch.load(model_path.format(name_t)))\n",
        "optimizer = torch.optim.AdamW(\n",
        "    model_t.parameters(), lr=1e-4, weight_decay=5e-4\n",
        ")\n",
        "lr_scheduler = torch.optim.lr_scheduler.CosineAnnealingLR(\n",
        "    optimizer, T_max=epoch_t, eta_min=1e-6, verbose=True)\n",
        "\n",
        "best_acc = 0\n",
        "for epoch in range(epoch_t):\n",
        "    # ---------- Training ----------\n",
        "    train_dict = train(model_t, train_loader, criterion)\n",
        "    # ---------- Validation ----------\n",
        "    valid_dict, valid_acc, _ = valid(model_t)\n",
        "    if valid_acc >= best_acc:\n",
        "        best_acc = valid_acc\n",
        "        best_model = model_t.state_dict()\n",
        "        torch.save(model_t.state_dict(), model_path.format(name_t))\n",
        "        log.write(f'Saving {name_t} model with acc {best_acc:.3f}')\n",
        "    \n",
        "    log.write_epoch(epoch_t, epoch, [train_dict, valid_dict])\n",
        "    log.flush()\n",
        "    lr_scheduler.step()\n",
        "\n",
        "# ---------- Mutual Learning ----------\n",
        "name_s = 'student'\n",
        "log.flush()\n",
        "model_t.load_state_dict(torch.load(model_path.format(name_t)))\n",
        "model_s = deepcopy(model_t) # clone teacher network\n",
        "\n",
        "optimizer = torch.optim.AdamW(\n",
        "    model_s.parameters(), lr=1e-4, weight_decay=1e-4)\n",
        "lr_scheduler = torch.optim.lr_scheduler.CosineAnnealingLR(\n",
        "    optimizer, T_max=epoch_s*round_s, eta_min=0, verbose=True)\n",
        "    \n",
        "best_acc_t = best_acc\n",
        "best_acc = 0\n",
        "for round in range(round_s):\n",
        "    log.write(\"=\"*10 + f\" {name_s}_round {round+1:02d} \" + \"=\"*10)\n",
        "    # ---------- Pseudo Labels ----------\n",
        "    # Label datas by teacher\n",
        "    # model_t.to(device)\n",
        "    valid_dict, valid_acc, confusion = valid(model_t)\n",
        "    valid_dict[0] = 'Teacher Valid'\n",
        "    log.write(log.section(*valid_dict))\n",
        "    if valid_acc > best_acc_t:\n",
        "    # if False:\n",
        "        log.write(f'Saving {name_t} model with acc {valid_acc:.3f}')\n",
        "        torch.save(model_t.state_dict(), model_path.format(name_t))\n",
        "    \n",
        "    unlabeled_set.transform = tfm_weak\n",
        "    train_set.transform = tfm_weak\n",
        "    # model_t.load_state_dict(torch.load(model_path.format(name_t)))\n",
        "    # pseudo_loader, count = get_semi_set(model_t, threshold=.7, tempreture=1.5)\n",
        "    labeled_loader, pseudo_loader, confusion_tr = get_semi_set(model_t, threshold=.7, tempreture=1.5)\n",
        "\n",
        "    # count += 280\n",
        "    count = confusion.diag()\n",
        "    count /= count.sum()\n",
        "    # weight = (count-(1/11))**2\n",
        "    # weight = nn.functional.softmax(weight/1.5, dim=-1).to(device)*11\n",
        "    # weight = ((1/11) / (count+1e-2)).to(device)\n",
        "\n",
        "    count = torch.log(count)/1.2\n",
        "    weight_labeled = nn.functional.softmax(-count, dim=-1).reshape((1, 11)).to(device)*11\n",
        "    weight_pseudo = nn.functional.softmax(count, dim=-1).reshape((1, 11)).to(device)*11\n",
        "    log.write(\"Labeled Weight:\\n\" + \", \".join([f'{i+1:02d}: {w:04.2f}' for i, w in enumerate(weight_labeled[0])]))\n",
        "    log.write(\"Pseudo Weight:\\n\" + \", \".join([f'{i+1:02d}: {w:04.2f}' for i, w in enumerate(weight_pseudo[0])]))\n",
        "\n",
        "    # criterion = nn.CrossEntropyLoss(weight=weight)\n",
        "\n",
        "    r = len(train_set)\n",
        "    r = 2. * float(r) / (r+len(pseudo_loader.dataset))\n",
        "    criterion_labeled = lambda x, t: (2-r)*(kl_div(log_soft(x), t)*weight_labeled).sum(dim=1).mean()\n",
        "    criterion_pseudo = lambda x, t: r*(kl_div(log_soft(x), t)*weight_pseudo).sum(dim=1).mean()\n",
        "    # model_t.to('cpu')\n",
        "    # ---------- Student ----------\n",
        "    \n",
        "    torch.cuda.empty_cache()\n",
        "    unlabeled_set.transform = tfm_strong\n",
        "    train_set.transform = tfm_strong\n",
        "\n",
        "    for epoch in range(epoch_s):\n",
        "        # ---------- Training ----------\n",
        "        # train_dict = train(model_s)\n",
        "        train_dict_l = train(model_s, labeled_loader, criterion_labeled, shadow_model=model_t)\n",
        "        train_dict_p = train(model_s, pseudo_loader, criterion_pseudo, shadow_model=model_t)\n",
        "        train_dict_l[0] = 'Train Labeled'\n",
        "        train_dict_p[0] = 'Train Pseudo'\n",
        "        log.write_epoch(epoch_s, epoch, [train_dict_l, train_dict_p])\n",
        "\n",
        "        # ---------- Validation ----------\n",
        "        valid_dict, valid_acc, _ = valid(model_s)\n",
        "        \n",
        "        if valid_acc >= best_acc:\n",
        "            best_acc = valid_acc\n",
        "            best_model = model_s.state_dict()\n",
        "            torch.save(model_s.state_dict(), model_path.format(name_s))\n",
        "            log.write(f'Saving {name_s} model with acc {best_acc:.3f}')\n",
        "        \n",
        "        # log.write_epoch(epoch_s, epoch, [train_dict_p, valid_dict])        \n",
        "        log.write_epoch(epoch_s, epoch, [valid_dict])        \n",
        "        log.flush()\n",
        "        lr_scheduler.step()\n",
        "        # lr_scheduler.step(valid_acc)"
      ],
      "execution_count": 18,
      "outputs": [
        {
          "output_type": "stream",
          "name": "stdout",
          "text": [
            "========== teacher ==========\n",
            "Adjusting learning rate of group 0 to 1.0000e-04.\n"
          ]
        },
        {
          "output_type": "display_data",
          "data": {
            "text/plain": "Train:   0%|          | 0/24 [00:00<?, ?it/s]",
            "application/vnd.jupyter.widget-view+json": {
              "version_major": 2,
              "version_minor": 0,
              "model_id": "6a050c1b659c4019be4eabd4d587fb5b"
            }
          },
          "metadata": {}
        },
        {
          "output_type": "display_data",
          "data": {
            "text/plain": "Valid:   0%|          | 0/6 [00:00<?, ?it/s]",
            "application/vnd.jupyter.widget-view+json": {
              "version_major": 2,
              "version_minor": 0,
              "model_id": "79a2e63280e445e0a4c0460e130a9e13"
            }
          },
          "metadata": {}
        },
        {
          "output_type": "stream",
          "name": "stdout",
          "text": [
            "Saving teacher model with acc 0.755\n[ 001/005 ] [ Train | loss = 0.01762, acc = 0.99967 ] [ Valid | loss = 0.93579, acc = 0.75521 ]\nAdjusting learning rate of group 0 to 9.0546e-05.\n"
          ]
        },
        {
          "output_type": "display_data",
          "data": {
            "text/plain": "Train:   0%|          | 0/24 [00:00<?, ?it/s]",
            "application/vnd.jupyter.widget-view+json": {
              "version_major": 2,
              "version_minor": 0,
              "model_id": "fb7d227819f041619a5fb0f35f4400ae"
            }
          },
          "metadata": {}
        },
        {
          "output_type": "display_data",
          "data": {
            "text/plain": "Valid:   0%|          | 0/6 [00:00<?, ?it/s]",
            "application/vnd.jupyter.widget-view+json": {
              "version_major": 2,
              "version_minor": 0,
              "model_id": "16bfafff25374e1cbd4659ca25d7b383"
            }
          },
          "metadata": {}
        },
        {
          "output_type": "stream",
          "name": "stdout",
          "text": [
            "Saving teacher model with acc 0.760\n[ 002/005 ] [ Train | loss = 0.01848, acc = 1.00000 ] [ Valid | loss = 0.87702, acc = 0.75964 ]\nAdjusting learning rate of group 0 to 6.5796e-05.\n"
          ]
        },
        {
          "output_type": "display_data",
          "data": {
            "text/plain": "Train:   0%|          | 0/24 [00:00<?, ?it/s]",
            "application/vnd.jupyter.widget-view+json": {
              "version_major": 2,
              "version_minor": 0,
              "model_id": "a8553b26467f4fbd8c92f5fd78d0d1fe"
            }
          },
          "metadata": {}
        },
        {
          "output_type": "display_data",
          "data": {
            "text/plain": "Valid:   0%|          | 0/6 [00:00<?, ?it/s]",
            "application/vnd.jupyter.widget-view+json": {
              "version_major": 2,
              "version_minor": 0,
              "model_id": "4b9cfbd2903140de83690c878aabde70"
            }
          },
          "metadata": {}
        },
        {
          "output_type": "stream",
          "name": "stdout",
          "text": [
            "Saving teacher model with acc 0.771\n[ 003/005 ] [ Train | loss = 0.01562, acc = 0.99967 ] [ Valid | loss = 0.90895, acc = 0.77135 ]\nAdjusting learning rate of group 0 to 3.5204e-05.\n"
          ]
        },
        {
          "output_type": "display_data",
          "data": {
            "text/plain": "Train:   0%|          | 0/24 [00:00<?, ?it/s]",
            "application/vnd.jupyter.widget-view+json": {
              "version_major": 2,
              "version_minor": 0,
              "model_id": "776579d1c3a8469abc7d05f59b97f888"
            }
          },
          "metadata": {}
        },
        {
          "output_type": "display_data",
          "data": {
            "text/plain": "Valid:   0%|          | 0/6 [00:00<?, ?it/s]",
            "application/vnd.jupyter.widget-view+json": {
              "version_major": 2,
              "version_minor": 0,
              "model_id": "d7d611219b6545bcb78432ceb8312746"
            }
          },
          "metadata": {}
        },
        {
          "output_type": "stream",
          "name": "stdout",
          "text": [
            "[ 004/005 ] [ Train | loss = 0.01322, acc = 0.99967 ] [ Valid | loss = 0.92050, acc = 0.75677 ]\nAdjusting learning rate of group 0 to 1.0454e-05.\n"
          ]
        },
        {
          "output_type": "display_data",
          "data": {
            "text/plain": "Train:   0%|          | 0/24 [00:00<?, ?it/s]",
            "application/vnd.jupyter.widget-view+json": {
              "version_major": 2,
              "version_minor": 0,
              "model_id": "f111d0eb72024c72bef4f9c713dce160"
            }
          },
          "metadata": {}
        },
        {
          "output_type": "display_data",
          "data": {
            "text/plain": "Valid:   0%|          | 0/6 [00:00<?, ?it/s]",
            "application/vnd.jupyter.widget-view+json": {
              "version_major": 2,
              "version_minor": 0,
              "model_id": "516df3ffab9e4b949b3955297d4dd56a"
            }
          },
          "metadata": {}
        },
        {
          "output_type": "stream",
          "name": "stdout",
          "text": [
            "Saving teacher model with acc 0.788\n[ 005/005 ] [ Train | loss = 0.01272, acc = 1.00000 ] [ Valid | loss = 0.89525, acc = 0.78750 ]\nAdjusting learning rate of group 0 to 1.0000e-06.\nAdjusting learning rate of group 0 to 1.0000e-04.\n========== student_round 01 ==========\n"
          ]
        },
        {
          "output_type": "display_data",
          "data": {
            "text/plain": "Valid:   0%|          | 0/6 [00:00<?, ?it/s]",
            "application/vnd.jupyter.widget-view+json": {
              "version_major": 2,
              "version_minor": 0,
              "model_id": "6ee050b3eeba4cc2898c05e82bae824d"
            }
          },
          "metadata": {}
        },
        {
          "output_type": "stream",
          "name": "stdout",
          "text": [
            "[ Teacher Valid | loss = 0.91933, acc = 0.78047 ]\n"
          ]
        },
        {
          "output_type": "display_data",
          "data": {
            "text/plain": "PseudoLabels: 0it [00:00, ?it/s]",
            "application/vnd.jupyter.widget-view+json": {
              "version_major": 2,
              "version_minor": 0,
              "model_id": "535efdc696b54d378ec55f828587a0bc"
            }
          },
          "metadata": {}
        },
        {
          "output_type": "stream",
          "name": "stdout",
          "text": [
            "Use pseudo label: 4934\nPseudo Labels Distribution:\n01: 09.17, 02: 03.99, 03: 11.04, 04: 09.26, 05: 09.62, 06: 15.53, 07: 03.64, 08: 00.89, 09: 09.98, 10: 19.09, 11: 07.80\n"
          ]
        },
        {
          "output_type": "display_data",
          "data": {
            "text/plain": "PseudoLabels: 0it [00:00, ?it/s]",
            "application/vnd.jupyter.widget-view+json": {
              "version_major": 2,
              "version_minor": 0,
              "model_id": "e10d732b2b174126a06f9778f0009522"
            }
          },
          "metadata": {}
        },
        {
          "output_type": "stream",
          "name": "stdout",
          "text": [
            "Labeled Weight:\n01: 0.72, 02: 0.95, 03: 0.73, 04: 0.87, 05: 1.04, 06: 0.96, 07: 1.21, 08: 1.19, 09: 1.05, 10: 1.12, 11: 1.17\nPseudo Weight:\n01: 1.35, 02: 1.02, 03: 1.34, 04: 1.11, 05: 0.93, 06: 1.01, 07: 0.80, 08: 0.82, 09: 0.92, 10: 0.87, 11: 0.83\n"
          ]
        },
        {
          "output_type": "display_data",
          "data": {
            "text/plain": "Train:   0%|          | 0/24 [00:00<?, ?it/s]",
            "application/vnd.jupyter.widget-view+json": {
              "version_major": 2,
              "version_minor": 0,
              "model_id": "7e32a63d363b4bfd904c0f8a71639c55"
            }
          },
          "metadata": {}
        },
        {
          "output_type": "display_data",
          "data": {
            "text/plain": "Train:   0%|          | 0/38 [00:00<?, ?it/s]",
            "application/vnd.jupyter.widget-view+json": {
              "version_major": 2,
              "version_minor": 0,
              "model_id": "07c1e09555a54305bf1f770b60cf06e1"
            }
          },
          "metadata": {}
        },
        {
          "output_type": "stream",
          "name": "stdout",
          "text": [
            "[ 001/008 ] [ Train Labeled | loss = 0.84031, acc = 0.79395 ] [ Train Pseudo | loss = 0.56328, acc = 0.78413 ]\n"
          ]
        },
        {
          "output_type": "display_data",
          "data": {
            "text/plain": "Valid:   0%|          | 0/6 [00:00<?, ?it/s]",
            "application/vnd.jupyter.widget-view+json": {
              "version_major": 2,
              "version_minor": 0,
              "model_id": "0bef6761885849efb3cc79b32a4f13d7"
            }
          },
          "metadata": {}
        },
        {
          "output_type": "stream",
          "name": "stdout",
          "text": [
            "Saving student model with acc 0.727\n[ 001/008 ] [ Valid | loss = 1.03319, acc = 0.72734 ]\nAdjusting learning rate of group 0 to 9.9961e-05.\n"
          ]
        },
        {
          "output_type": "display_data",
          "data": {
            "text/plain": "Train:   0%|          | 0/24 [00:00<?, ?it/s]",
            "application/vnd.jupyter.widget-view+json": {
              "version_major": 2,
              "version_minor": 0,
              "model_id": "d45e1e6af0254eb4a2571e7c43ee65e3"
            }
          },
          "metadata": {}
        },
        {
          "output_type": "display_data",
          "data": {
            "text/plain": "Train:   0%|          | 0/38 [00:00<?, ?it/s]",
            "application/vnd.jupyter.widget-view+json": {
              "version_major": 2,
              "version_minor": 0,
              "model_id": "cbae9dbfb1414a2b8fe8ccf03048fd75"
            }
          },
          "metadata": {}
        },
        {
          "output_type": "stream",
          "name": "stdout",
          "text": [
            "[ 002/008 ] [ Train Labeled | loss = 0.67174, acc = 0.82324 ] [ Train Pseudo | loss = 0.50890, acc = 0.78947 ]\n"
          ]
        },
        {
          "output_type": "display_data",
          "data": {
            "text/plain": "Valid:   0%|          | 0/6 [00:00<?, ?it/s]",
            "application/vnd.jupyter.widget-view+json": {
              "version_major": 2,
              "version_minor": 0,
              "model_id": "0923d3bff6d449e5a68994a62aeeccbc"
            }
          },
          "metadata": {}
        },
        {
          "output_type": "stream",
          "name": "stdout",
          "text": [
            "Saving student model with acc 0.761\n[ 002/008 ] [ Valid | loss = 0.87695, acc = 0.76146 ]\nAdjusting learning rate of group 0 to 9.9846e-05.\n"
          ]
        },
        {
          "output_type": "display_data",
          "data": {
            "text/plain": "Train:   0%|          | 0/24 [00:00<?, ?it/s]",
            "application/vnd.jupyter.widget-view+json": {
              "version_major": 2,
              "version_minor": 0,
              "model_id": "0f547643f8114412b84f3cb97597d0a4"
            }
          },
          "metadata": {}
        },
        {
          "output_type": "display_data",
          "data": {
            "text/plain": "Train:   0%|          | 0/38 [00:00<?, ?it/s]",
            "application/vnd.jupyter.widget-view+json": {
              "version_major": 2,
              "version_minor": 0,
              "model_id": "77725b135d6946249370c927b4d2819b"
            }
          },
          "metadata": {}
        },
        {
          "output_type": "stream",
          "name": "stdout",
          "text": [
            "[ 003/008 ] [ Train Labeled | loss = 0.63913, acc = 0.83203 ] [ Train Pseudo | loss = 0.45392, acc = 0.79502 ]\n"
          ]
        },
        {
          "output_type": "display_data",
          "data": {
            "text/plain": "Valid:   0%|          | 0/6 [00:00<?, ?it/s]",
            "application/vnd.jupyter.widget-view+json": {
              "version_major": 2,
              "version_minor": 0,
              "model_id": "de8d4087291f4253a618241564cf2083"
            }
          },
          "metadata": {}
        },
        {
          "output_type": "stream",
          "name": "stdout",
          "text": [
            "[ 003/008 ] [ Valid | loss = 0.81549, acc = 0.76094 ]\nAdjusting learning rate of group 0 to 9.9653e-05.\n"
          ]
        },
        {
          "output_type": "display_data",
          "data": {
            "text/plain": "Train:   0%|          | 0/24 [00:00<?, ?it/s]",
            "application/vnd.jupyter.widget-view+json": {
              "version_major": 2,
              "version_minor": 0,
              "model_id": "90685300496748b7b65611907298c0c6"
            }
          },
          "metadata": {}
        },
        {
          "output_type": "display_data",
          "data": {
            "text/plain": "Train:   0%|          | 0/38 [00:00<?, ?it/s]",
            "application/vnd.jupyter.widget-view+json": {
              "version_major": 2,
              "version_minor": 0,
              "model_id": "968b4c87cbf44116bc036b88f5c718fe"
            }
          },
          "metadata": {}
        },
        {
          "output_type": "stream",
          "name": "stdout",
          "text": [
            "[ 004/008 ] [ Train Labeled | loss = 0.62202, acc = 0.82520 ] [ Train Pseudo | loss = 0.44222, acc = 0.79379 ]\n"
          ]
        },
        {
          "output_type": "display_data",
          "data": {
            "text/plain": "Valid:   0%|          | 0/6 [00:00<?, ?it/s]",
            "application/vnd.jupyter.widget-view+json": {
              "version_major": 2,
              "version_minor": 0,
              "model_id": "a525b36f9fa24055855d671a1bb025ac"
            }
          },
          "metadata": {}
        },
        {
          "output_type": "stream",
          "name": "stdout",
          "text": [
            "[ 004/008 ] [ Valid | loss = 0.91623, acc = 0.73568 ]\nAdjusting learning rate of group 0 to 9.9384e-05.\n"
          ]
        },
        {
          "output_type": "display_data",
          "data": {
            "text/plain": "Train:   0%|          | 0/24 [00:00<?, ?it/s]",
            "application/vnd.jupyter.widget-view+json": {
              "version_major": 2,
              "version_minor": 0,
              "model_id": "4081a1b8e54a46aa9fc5de5a8d700d92"
            }
          },
          "metadata": {}
        },
        {
          "output_type": "display_data",
          "data": {
            "text/plain": "Train:   0%|          | 0/38 [00:00<?, ?it/s]",
            "application/vnd.jupyter.widget-view+json": {
              "version_major": 2,
              "version_minor": 0,
              "model_id": "48b3250f544240fbbfdec4a35dad355a"
            }
          },
          "metadata": {}
        },
        {
          "output_type": "stream",
          "name": "stdout",
          "text": [
            "[ 005/008 ] [ Train Labeled | loss = 0.60438, acc = 0.83073 ] [ Train Pseudo | loss = 0.41813, acc = 0.80345 ]\n"
          ]
        },
        {
          "output_type": "display_data",
          "data": {
            "text/plain": "Valid:   0%|          | 0/6 [00:00<?, ?it/s]",
            "application/vnd.jupyter.widget-view+json": {
              "version_major": 2,
              "version_minor": 0,
              "model_id": "3dbf6e2b2ff648b1bb742d86e77d168e"
            }
          },
          "metadata": {}
        },
        {
          "output_type": "stream",
          "name": "stdout",
          "text": [
            "Saving student model with acc 0.772\n[ 005/008 ] [ Valid | loss = 0.79790, acc = 0.77161 ]\nAdjusting learning rate of group 0 to 9.9039e-05.\n"
          ]
        },
        {
          "output_type": "display_data",
          "data": {
            "text/plain": "Train:   0%|          | 0/24 [00:00<?, ?it/s]",
            "application/vnd.jupyter.widget-view+json": {
              "version_major": 2,
              "version_minor": 0,
              "model_id": "6ec9ce36f2b941b3b6b0cdf2f24ea5dc"
            }
          },
          "metadata": {}
        },
        {
          "output_type": "display_data",
          "data": {
            "text/plain": "Train:   0%|          | 0/38 [00:00<?, ?it/s]",
            "application/vnd.jupyter.widget-view+json": {
              "version_major": 2,
              "version_minor": 0,
              "model_id": "7f9340422142415f8ff3768122ff5fb3"
            }
          },
          "metadata": {}
        },
        {
          "output_type": "stream",
          "name": "stdout",
          "text": [
            "[ 006/008 ] [ Train Labeled | loss = 0.55793, acc = 0.84082 ] [ Train Pseudo | loss = 0.39070, acc = 0.81127 ]\n"
          ]
        },
        {
          "output_type": "display_data",
          "data": {
            "text/plain": "Valid:   0%|          | 0/6 [00:00<?, ?it/s]",
            "application/vnd.jupyter.widget-view+json": {
              "version_major": 2,
              "version_minor": 0,
              "model_id": "07fb7f497a224b9c9e05ef8ed287bd4c"
            }
          },
          "metadata": {}
        },
        {
          "output_type": "stream",
          "name": "stdout",
          "text": [
            "[ 006/008 ] [ Valid | loss = 0.91726, acc = 0.72422 ]\nAdjusting learning rate of group 0 to 9.8618e-05.\n"
          ]
        },
        {
          "output_type": "display_data",
          "data": {
            "text/plain": "Train:   0%|          | 0/24 [00:00<?, ?it/s]",
            "application/vnd.jupyter.widget-view+json": {
              "version_major": 2,
              "version_minor": 0,
              "model_id": "69a839ce5796431f9d6ad681ebec3b3c"
            }
          },
          "metadata": {}
        },
        {
          "output_type": "display_data",
          "data": {
            "text/plain": "Train:   0%|          | 0/38 [00:00<?, ?it/s]",
            "application/vnd.jupyter.widget-view+json": {
              "version_major": 2,
              "version_minor": 0,
              "model_id": "914acad7d0414a4a86d80f0d4ea6e846"
            }
          },
          "metadata": {}
        },
        {
          "output_type": "stream",
          "name": "stdout",
          "text": [
            "[ 007/008 ] [ Train Labeled | loss = 0.63042, acc = 0.82845 ] [ Train Pseudo | loss = 0.39198, acc = 0.80633 ]\n"
          ]
        },
        {
          "output_type": "display_data",
          "data": {
            "text/plain": "Valid:   0%|          | 0/6 [00:00<?, ?it/s]",
            "application/vnd.jupyter.widget-view+json": {
              "version_major": 2,
              "version_minor": 0,
              "model_id": "355921f11cc04d36a00298514044d716"
            }
          },
          "metadata": {}
        },
        {
          "output_type": "stream",
          "name": "stdout",
          "text": [
            "[ 007/008 ] [ Valid | loss = 0.80937, acc = 0.74141 ]\nAdjusting learning rate of group 0 to 9.8123e-05.\n"
          ]
        },
        {
          "output_type": "display_data",
          "data": {
            "text/plain": "Train:   0%|          | 0/24 [00:00<?, ?it/s]",
            "application/vnd.jupyter.widget-view+json": {
              "version_major": 2,
              "version_minor": 0,
              "model_id": "2857074a6c0b480299ec2a6569c6e541"
            }
          },
          "metadata": {}
        },
        {
          "output_type": "display_data",
          "data": {
            "text/plain": "Train:   0%|          | 0/38 [00:00<?, ?it/s]",
            "application/vnd.jupyter.widget-view+json": {
              "version_major": 2,
              "version_minor": 0,
              "model_id": "37da155468c84c7ab19c1f9405e070a3"
            }
          },
          "metadata": {}
        },
        {
          "output_type": "stream",
          "name": "stdout",
          "text": [
            "[ 008/008 ] [ Train Labeled | loss = 0.57151, acc = 0.82845 ] [ Train Pseudo | loss = 0.38048, acc = 0.81188 ]\n"
          ]
        },
        {
          "output_type": "display_data",
          "data": {
            "text/plain": "Valid:   0%|          | 0/6 [00:00<?, ?it/s]",
            "application/vnd.jupyter.widget-view+json": {
              "version_major": 2,
              "version_minor": 0,
              "model_id": "f191d7bb5972481092b37ce099aad3ac"
            }
          },
          "metadata": {}
        },
        {
          "output_type": "stream",
          "name": "stdout",
          "text": [
            "[ 008/008 ] [ Valid | loss = 0.89986, acc = 0.73698 ]\nAdjusting learning rate of group 0 to 9.7553e-05.\n========== student_round 02 ==========\n"
          ]
        },
        {
          "output_type": "display_data",
          "data": {
            "text/plain": "Valid:   0%|          | 0/6 [00:00<?, ?it/s]",
            "application/vnd.jupyter.widget-view+json": {
              "version_major": 2,
              "version_minor": 0,
              "model_id": "ac33d8530e1841e287ab3b4092fde737"
            }
          },
          "metadata": {}
        },
        {
          "output_type": "stream",
          "name": "stdout",
          "text": [
            "[ Teacher Valid | loss = 0.87363, acc = 0.78047 ]\n"
          ]
        },
        {
          "output_type": "display_data",
          "data": {
            "text/plain": "PseudoLabels: 0it [00:00, ?it/s]",
            "application/vnd.jupyter.widget-view+json": {
              "version_major": 2,
              "version_minor": 0,
              "model_id": "9996d3fdec484c88910317c1316a2ef2"
            }
          },
          "metadata": {}
        },
        {
          "output_type": "stream",
          "name": "stdout",
          "text": [
            "Use pseudo label: 4956\nPseudo Labels Distribution:\n01: 09.61, 02: 04.05, 03: 10.83, 04: 09.33, 05: 09.74, 06: 15.13, 07: 03.80, 08: 00.86, 09: 09.87, 10: 19.12, 11: 07.67\n"
          ]
        },
        {
          "output_type": "display_data",
          "data": {
            "text/plain": "PseudoLabels: 0it [00:00, ?it/s]",
            "application/vnd.jupyter.widget-view+json": {
              "version_major": 2,
              "version_minor": 0,
              "model_id": "a328981f3e934f1181e9359927e72136"
            }
          },
          "metadata": {}
        },
        {
          "output_type": "stream",
          "name": "stdout",
          "text": [
            "Labeled Weight:\n01: 0.74, 02: 0.94, 03: 0.72, 04: 0.87, 05: 1.04, 06: 0.96, 07: 1.21, 08: 1.19, 09: 1.06, 10: 1.12, 11: 1.16\nPseudo Weight:\n01: 1.30, 02: 1.04, 03: 1.36, 04: 1.11, 05: 0.94, 06: 1.01, 07: 0.80, 08: 0.81, 09: 0.92, 10: 0.87, 11: 0.84\n"
          ]
        },
        {
          "output_type": "display_data",
          "data": {
            "text/plain": "Train:   0%|          | 0/24 [00:00<?, ?it/s]",
            "application/vnd.jupyter.widget-view+json": {
              "version_major": 2,
              "version_minor": 0,
              "model_id": "d88df6c36e1745bd9f5b2591cfac7ac6"
            }
          },
          "metadata": {}
        },
        {
          "output_type": "display_data",
          "data": {
            "text/plain": "Train:   0%|          | 0/38 [00:00<?, ?it/s]",
            "application/vnd.jupyter.widget-view+json": {
              "version_major": 2,
              "version_minor": 0,
              "model_id": "79577012da514f748024bbd74192ee6c"
            }
          },
          "metadata": {}
        },
        {
          "output_type": "stream",
          "name": "stdout",
          "text": [
            "[ 001/008 ] [ Train Labeled | loss = 0.55224, acc = 0.84082 ] [ Train Pseudo | loss = 0.40588, acc = 0.80037 ]\n"
          ]
        },
        {
          "output_type": "display_data",
          "data": {
            "text/plain": "Valid:   0%|          | 0/6 [00:00<?, ?it/s]",
            "application/vnd.jupyter.widget-view+json": {
              "version_major": 2,
              "version_minor": 0,
              "model_id": "1736373bf61840b2a18d4aa8a05ced5d"
            }
          },
          "metadata": {}
        },
        {
          "output_type": "stream",
          "name": "stdout",
          "text": [
            "[ 001/008 ] [ Valid | loss = 0.82065, acc = 0.71979 ]\nAdjusting learning rate of group 0 to 9.6910e-05.\n"
          ]
        },
        {
          "output_type": "display_data",
          "data": {
            "text/plain": "Train:   0%|          | 0/24 [00:00<?, ?it/s]",
            "application/vnd.jupyter.widget-view+json": {
              "version_major": 2,
              "version_minor": 0,
              "model_id": "296cf0548c854e69adfb79319283d5f6"
            }
          },
          "metadata": {}
        },
        {
          "output_type": "display_data",
          "data": {
            "text/plain": "Train:   0%|          | 0/38 [00:00<?, ?it/s]",
            "application/vnd.jupyter.widget-view+json": {
              "version_major": 2,
              "version_minor": 0,
              "model_id": "3761c9a328c84bd59de47e0dc476eda7"
            }
          },
          "metadata": {}
        },
        {
          "output_type": "stream",
          "name": "stdout",
          "text": [
            "[ 002/008 ] [ Train Labeled | loss = 0.59323, acc = 0.82845 ] [ Train Pseudo | loss = 0.39783, acc = 0.80201 ]\n"
          ]
        },
        {
          "output_type": "display_data",
          "data": {
            "text/plain": "Valid:   0%|          | 0/6 [00:00<?, ?it/s]",
            "application/vnd.jupyter.widget-view+json": {
              "version_major": 2,
              "version_minor": 0,
              "model_id": "f104a3613d9942e9bb01d606ce36c997"
            }
          },
          "metadata": {}
        },
        {
          "output_type": "stream",
          "name": "stdout",
          "text": [
            "[ 002/008 ] [ Valid | loss = 0.88145, acc = 0.72708 ]\nAdjusting learning rate of group 0 to 9.6194e-05.\n"
          ]
        },
        {
          "output_type": "display_data",
          "data": {
            "text/plain": "Train:   0%|          | 0/24 [00:00<?, ?it/s]",
            "application/vnd.jupyter.widget-view+json": {
              "version_major": 2,
              "version_minor": 0,
              "model_id": "a919a64410a0455dac99e6d47b6b08c3"
            }
          },
          "metadata": {}
        },
        {
          "output_type": "display_data",
          "data": {
            "text/plain": "Train:   0%|          | 0/38 [00:00<?, ?it/s]",
            "application/vnd.jupyter.widget-view+json": {
              "version_major": 2,
              "version_minor": 0,
              "model_id": "f991aa567d6444d99e1598050286f4e3"
            }
          },
          "metadata": {}
        },
        {
          "output_type": "stream",
          "name": "stdout",
          "text": [
            "[ 003/008 ] [ Train Labeled | loss = 0.54306, acc = 0.83724 ] [ Train Pseudo | loss = 0.36762, acc = 0.81497 ]\n"
          ]
        },
        {
          "output_type": "display_data",
          "data": {
            "text/plain": "Valid:   0%|          | 0/6 [00:00<?, ?it/s]",
            "application/vnd.jupyter.widget-view+json": {
              "version_major": 2,
              "version_minor": 0,
              "model_id": "d1d179651e68443699e33a1ec0bd0336"
            }
          },
          "metadata": {}
        },
        {
          "output_type": "stream",
          "name": "stdout",
          "text": [
            "[ 003/008 ] [ Valid | loss = 0.83347, acc = 0.75703 ]\nAdjusting learning rate of group 0 to 9.5407e-05.\n"
          ]
        },
        {
          "output_type": "display_data",
          "data": {
            "text/plain": "Train:   0%|          | 0/24 [00:00<?, ?it/s]",
            "application/vnd.jupyter.widget-view+json": {
              "version_major": 2,
              "version_minor": 0,
              "model_id": "22763ab6f8d0486b84528a22dc27d570"
            }
          },
          "metadata": {}
        },
        {
          "output_type": "display_data",
          "data": {
            "text/plain": "Train:   0%|          | 0/38 [00:00<?, ?it/s]",
            "application/vnd.jupyter.widget-view+json": {
              "version_major": 2,
              "version_minor": 0,
              "model_id": "34629811c1034c899a203c4fcffd571b"
            }
          },
          "metadata": {}
        },
        {
          "output_type": "stream",
          "name": "stdout",
          "text": [
            "[ 004/008 ] [ Train Labeled | loss = 0.51077, acc = 0.85286 ] [ Train Pseudo | loss = 0.37106, acc = 0.80962 ]\n"
          ]
        },
        {
          "output_type": "display_data",
          "data": {
            "text/plain": "Valid:   0%|          | 0/6 [00:00<?, ?it/s]",
            "application/vnd.jupyter.widget-view+json": {
              "version_major": 2,
              "version_minor": 0,
              "model_id": "22e816420f6e424fb5dfcf247ef49be9"
            }
          },
          "metadata": {}
        },
        {
          "output_type": "stream",
          "name": "stdout",
          "text": [
            "[ 004/008 ] [ Valid | loss = 0.82302, acc = 0.72943 ]\nAdjusting learning rate of group 0 to 9.4550e-05.\n"
          ]
        },
        {
          "output_type": "display_data",
          "data": {
            "text/plain": "Train:   0%|          | 0/24 [00:00<?, ?it/s]",
            "application/vnd.jupyter.widget-view+json": {
              "version_major": 2,
              "version_minor": 0,
              "model_id": "57c02efa7a764abf8a2b3ed0163e52c7"
            }
          },
          "metadata": {}
        },
        {
          "output_type": "display_data",
          "data": {
            "text/plain": "Train:   0%|          | 0/38 [00:00<?, ?it/s]",
            "application/vnd.jupyter.widget-view+json": {
              "version_major": 2,
              "version_minor": 0,
              "model_id": "6b74acbe4d1146239a44c890012cb448"
            }
          },
          "metadata": {}
        },
        {
          "output_type": "stream",
          "name": "stdout",
          "text": [
            "[ 005/008 ] [ Train Labeled | loss = 0.51994, acc = 0.85091 ] [ Train Pseudo | loss = 0.35360, acc = 0.82196 ]\n"
          ]
        },
        {
          "output_type": "display_data",
          "data": {
            "text/plain": "Valid:   0%|          | 0/6 [00:00<?, ?it/s]",
            "application/vnd.jupyter.widget-view+json": {
              "version_major": 2,
              "version_minor": 0,
              "model_id": "ab401cc690b5497f8e8295dbb0aad93b"
            }
          },
          "metadata": {}
        },
        {
          "output_type": "stream",
          "name": "stdout",
          "text": [
            "[ 005/008 ] [ Valid | loss = 0.80006, acc = 0.76536 ]\nAdjusting learning rate of group 0 to 9.3625e-05.\n"
          ]
        },
        {
          "output_type": "display_data",
          "data": {
            "text/plain": "Train:   0%|          | 0/24 [00:00<?, ?it/s]",
            "application/vnd.jupyter.widget-view+json": {
              "version_major": 2,
              "version_minor": 0,
              "model_id": "8a83cb29046e4b5b9ded5300a3422cc9"
            }
          },
          "metadata": {}
        },
        {
          "output_type": "display_data",
          "data": {
            "text/plain": "Train:   0%|          | 0/38 [00:00<?, ?it/s]",
            "application/vnd.jupyter.widget-view+json": {
              "version_major": 2,
              "version_minor": 0,
              "model_id": "33188e638e2d41cca19e929b0b2cbc65"
            }
          },
          "metadata": {}
        },
        {
          "output_type": "stream",
          "name": "stdout",
          "text": [
            "[ 006/008 ] [ Train Labeled | loss = 0.53552, acc = 0.84375 ] [ Train Pseudo | loss = 0.36522, acc = 0.81517 ]\n"
          ]
        },
        {
          "output_type": "display_data",
          "data": {
            "text/plain": "Valid:   0%|          | 0/6 [00:00<?, ?it/s]",
            "application/vnd.jupyter.widget-view+json": {
              "version_major": 2,
              "version_minor": 0,
              "model_id": "e1a956828c494281ba4673c93f796838"
            }
          },
          "metadata": {}
        },
        {
          "output_type": "stream",
          "name": "stdout",
          "text": [
            "[ 006/008 ] [ Valid | loss = 0.79780, acc = 0.74661 ]\nAdjusting learning rate of group 0 to 9.2632e-05.\n"
          ]
        },
        {
          "output_type": "display_data",
          "data": {
            "text/plain": "Train:   0%|          | 0/24 [00:00<?, ?it/s]",
            "application/vnd.jupyter.widget-view+json": {
              "version_major": 2,
              "version_minor": 0,
              "model_id": "94c47640565f4654b225388a50ff300e"
            }
          },
          "metadata": {}
        },
        {
          "output_type": "display_data",
          "data": {
            "text/plain": "Train:   0%|          | 0/38 [00:00<?, ?it/s]",
            "application/vnd.jupyter.widget-view+json": {
              "version_major": 2,
              "version_minor": 0,
              "model_id": "0151948d4d8249ad9990a860f8ee5066"
            }
          },
          "metadata": {}
        },
        {
          "output_type": "stream",
          "name": "stdout",
          "text": [
            "[ 007/008 ] [ Train Labeled | loss = 0.51435, acc = 0.84538 ] [ Train Pseudo | loss = 0.35695, acc = 0.81332 ]\n"
          ]
        },
        {
          "output_type": "display_data",
          "data": {
            "text/plain": "Valid:   0%|          | 0/6 [00:00<?, ?it/s]",
            "application/vnd.jupyter.widget-view+json": {
              "version_major": 2,
              "version_minor": 0,
              "model_id": "1559ca6a374148c6ba91088e9eb7a20b"
            }
          },
          "metadata": {}
        },
        {
          "output_type": "stream",
          "name": "stdout",
          "text": [
            "[ 007/008 ] [ Valid | loss = 0.79679, acc = 0.75938 ]\nAdjusting learning rate of group 0 to 9.1573e-05.\n"
          ]
        },
        {
          "output_type": "display_data",
          "data": {
            "text/plain": "Train:   0%|          | 0/24 [00:00<?, ?it/s]",
            "application/vnd.jupyter.widget-view+json": {
              "version_major": 2,
              "version_minor": 0,
              "model_id": "549cdb0e4b40489eb767d37820c63ce4"
            }
          },
          "metadata": {}
        },
        {
          "output_type": "display_data",
          "data": {
            "text/plain": "Train:   0%|          | 0/38 [00:00<?, ?it/s]",
            "application/vnd.jupyter.widget-view+json": {
              "version_major": 2,
              "version_minor": 0,
              "model_id": "88f37a7bda524e689cd7cc2e83c1b11d"
            }
          },
          "metadata": {}
        },
        {
          "output_type": "stream",
          "name": "stdout",
          "text": [
            "[ 008/008 ] [ Train Labeled | loss = 0.54604, acc = 0.84277 ] [ Train Pseudo | loss = 0.34009, acc = 0.82586 ]\n"
          ]
        },
        {
          "output_type": "display_data",
          "data": {
            "text/plain": "Valid:   0%|          | 0/6 [00:00<?, ?it/s]",
            "application/vnd.jupyter.widget-view+json": {
              "version_major": 2,
              "version_minor": 0,
              "model_id": "57eef923982d4a08bd4efdfec882f674"
            }
          },
          "metadata": {}
        },
        {
          "output_type": "stream",
          "name": "stdout",
          "text": [
            "[ 008/008 ] [ Valid | loss = 0.84421, acc = 0.75781 ]\nAdjusting learning rate of group 0 to 9.0451e-05.\n========== student_round 03 ==========\n"
          ]
        },
        {
          "output_type": "display_data",
          "data": {
            "text/plain": "Valid:   0%|          | 0/6 [00:00<?, ?it/s]",
            "application/vnd.jupyter.widget-view+json": {
              "version_major": 2,
              "version_minor": 0,
              "model_id": "cbe6e8b8bb1f4fc6ba4d2059b5370eb0"
            }
          },
          "metadata": {}
        },
        {
          "output_type": "stream",
          "name": "stdout",
          "text": [
            "[ Teacher Valid | loss = 0.76313, acc = 0.80286 ]\nSaving teacher model with acc 0.803\n"
          ]
        },
        {
          "output_type": "display_data",
          "data": {
            "text/plain": "PseudoLabels: 0it [00:00, ?it/s]",
            "application/vnd.jupyter.widget-view+json": {
              "version_major": 2,
              "version_minor": 0,
              "model_id": "4b7ce4afda9c441e8a00bd3c38587410"
            }
          },
          "metadata": {}
        },
        {
          "output_type": "stream",
          "name": "stdout",
          "text": [
            "Use pseudo label: 4917\nPseudo Labels Distribution:\n01: 10.15, 02: 03.97, 03: 10.25, 04: 09.23, 05: 09.67, 06: 15.41, 07: 03.93, 08: 00.76, 09: 10.03, 10: 19.06, 11: 07.55\n"
          ]
        },
        {
          "output_type": "display_data",
          "data": {
            "text/plain": "PseudoLabels: 0it [00:00, ?it/s]",
            "application/vnd.jupyter.widget-view+json": {
              "version_major": 2,
              "version_minor": 0,
              "model_id": "1d4257b0535d4763b87d8401eb7ccf9b"
            }
          },
          "metadata": {}
        },
        {
          "output_type": "stream",
          "name": "stdout",
          "text": [
            "Labeled Weight:\n01: 0.77, 02: 0.92, 03: 0.71, 04: 0.87, 05: 1.04, 06: 0.96, 07: 1.22, 08: 1.19, 09: 1.06, 10: 1.12, 11: 1.15\nPseudo Weight:\n01: 1.27, 02: 1.06, 03: 1.38, 04: 1.11, 05: 0.94, 06: 1.01, 07: 0.79, 08: 0.81, 09: 0.92, 10: 0.87, 11: 0.85\n"
          ]
        },
        {
          "output_type": "display_data",
          "data": {
            "text/plain": "Train:   0%|          | 0/24 [00:00<?, ?it/s]",
            "application/vnd.jupyter.widget-view+json": {
              "version_major": 2,
              "version_minor": 0,
              "model_id": "4def7899fee043c49be5663d1c8237a9"
            }
          },
          "metadata": {}
        },
        {
          "output_type": "display_data",
          "data": {
            "text/plain": "Train:   0%|          | 0/38 [00:00<?, ?it/s]",
            "application/vnd.jupyter.widget-view+json": {
              "version_major": 2,
              "version_minor": 0,
              "model_id": "6a4a1864b0cd4df2b0089bb13d5da132"
            }
          },
          "metadata": {}
        },
        {
          "output_type": "stream",
          "name": "stdout",
          "text": [
            "[ 001/008 ] [ Train Labeled | loss = 0.50029, acc = 0.85189 ] [ Train Pseudo | loss = 0.32980, acc = 0.83285 ]\n"
          ]
        },
        {
          "output_type": "display_data",
          "data": {
            "text/plain": "Valid:   0%|          | 0/6 [00:00<?, ?it/s]",
            "application/vnd.jupyter.widget-view+json": {
              "version_major": 2,
              "version_minor": 0,
              "model_id": "32f2e948250e4757ae6bc7f32e84ce31"
            }
          },
          "metadata": {}
        },
        {
          "output_type": "stream",
          "name": "stdout",
          "text": [
            "Saving student model with acc 0.777\n[ 001/008 ] [ Valid | loss = 0.73421, acc = 0.77708 ]\nAdjusting learning rate of group 0 to 8.9266e-05.\n"
          ]
        },
        {
          "output_type": "display_data",
          "data": {
            "text/plain": "Train:   0%|          | 0/24 [00:00<?, ?it/s]",
            "application/vnd.jupyter.widget-view+json": {
              "version_major": 2,
              "version_minor": 0,
              "model_id": "3abd5f85c7e6405fa211a5c5cfeca4ba"
            }
          },
          "metadata": {}
        },
        {
          "output_type": "display_data",
          "data": {
            "text/plain": "Train:   0%|          | 0/38 [00:00<?, ?it/s]",
            "application/vnd.jupyter.widget-view+json": {
              "version_major": 2,
              "version_minor": 0,
              "model_id": "94106c800f0f4ae39970dbeb59c10e32"
            }
          },
          "metadata": {}
        },
        {
          "output_type": "stream",
          "name": "stdout",
          "text": [
            "[ 002/008 ] [ Train Labeled | loss = 0.47105, acc = 0.86458 ] [ Train Pseudo | loss = 0.33416, acc = 0.82936 ]\n"
          ]
        },
        {
          "output_type": "display_data",
          "data": {
            "text/plain": "Valid:   0%|          | 0/6 [00:00<?, ?it/s]",
            "application/vnd.jupyter.widget-view+json": {
              "version_major": 2,
              "version_minor": 0,
              "model_id": "a789e985df9a4700912568e6f8e0a09f"
            }
          },
          "metadata": {}
        },
        {
          "output_type": "stream",
          "name": "stdout",
          "text": [
            "[ 002/008 ] [ Valid | loss = 0.77349, acc = 0.75599 ]\nAdjusting learning rate of group 0 to 8.8020e-05.\n"
          ]
        },
        {
          "output_type": "display_data",
          "data": {
            "text/plain": "Train:   0%|          | 0/24 [00:00<?, ?it/s]",
            "application/vnd.jupyter.widget-view+json": {
              "version_major": 2,
              "version_minor": 0,
              "model_id": "012732e698c0401ab38b1eac1d000150"
            }
          },
          "metadata": {}
        },
        {
          "output_type": "display_data",
          "data": {
            "text/plain": "Train:   0%|          | 0/38 [00:00<?, ?it/s]",
            "application/vnd.jupyter.widget-view+json": {
              "version_major": 2,
              "version_minor": 0,
              "model_id": "48ea858b79e14b3b8ea6e998af13ddfa"
            }
          },
          "metadata": {}
        },
        {
          "output_type": "stream",
          "name": "stdout",
          "text": [
            "[ 003/008 ] [ Train Labeled | loss = 0.47842, acc = 0.85938 ] [ Train Pseudo | loss = 0.32975, acc = 0.83429 ]\n"
          ]
        },
        {
          "output_type": "display_data",
          "data": {
            "text/plain": "Valid:   0%|          | 0/6 [00:00<?, ?it/s]",
            "application/vnd.jupyter.widget-view+json": {
              "version_major": 2,
              "version_minor": 0,
              "model_id": "71634f2cd6154360b884938ed2378172"
            }
          },
          "metadata": {}
        },
        {
          "output_type": "stream",
          "name": "stdout",
          "text": [
            "[ 003/008 ] [ Valid | loss = 0.81681, acc = 0.72995 ]\nAdjusting learning rate of group 0 to 8.6716e-05.\n"
          ]
        },
        {
          "output_type": "display_data",
          "data": {
            "text/plain": "Train:   0%|          | 0/24 [00:00<?, ?it/s]",
            "application/vnd.jupyter.widget-view+json": {
              "version_major": 2,
              "version_minor": 0,
              "model_id": "e44c5d0612514c30a574e0a0c87eb583"
            }
          },
          "metadata": {}
        },
        {
          "output_type": "display_data",
          "data": {
            "text/plain": "Train:   0%|          | 0/38 [00:00<?, ?it/s]",
            "application/vnd.jupyter.widget-view+json": {
              "version_major": 2,
              "version_minor": 0,
              "model_id": "2bb6b0d76e76428b806ce572f93022dd"
            }
          },
          "metadata": {}
        },
        {
          "output_type": "stream",
          "name": "stdout",
          "text": [
            "[ 004/008 ] [ Train Labeled | loss = 0.52256, acc = 0.84115 ] [ Train Pseudo | loss = 0.32090, acc = 0.83635 ]\n"
          ]
        },
        {
          "output_type": "display_data",
          "data": {
            "text/plain": "Valid:   0%|          | 0/6 [00:00<?, ?it/s]",
            "application/vnd.jupyter.widget-view+json": {
              "version_major": 2,
              "version_minor": 0,
              "model_id": "ffbd710b098d4f99828637f789a66efe"
            }
          },
          "metadata": {}
        },
        {
          "output_type": "stream",
          "name": "stdout",
          "text": [
            "Saving student model with acc 0.787\n[ 004/008 ] [ Valid | loss = 0.72845, acc = 0.78672 ]\nAdjusting learning rate of group 0 to 8.5355e-05.\n"
          ]
        },
        {
          "output_type": "display_data",
          "data": {
            "text/plain": "Train:   0%|          | 0/24 [00:00<?, ?it/s]",
            "application/vnd.jupyter.widget-view+json": {
              "version_major": 2,
              "version_minor": 0,
              "model_id": "064aa0798e9442608eb2c566a8f7b76a"
            }
          },
          "metadata": {}
        },
        {
          "output_type": "display_data",
          "data": {
            "text/plain": "Train:   0%|          | 0/38 [00:00<?, ?it/s]",
            "application/vnd.jupyter.widget-view+json": {
              "version_major": 2,
              "version_minor": 0,
              "model_id": "bb42d22fca78488bb93e02a94bd1cdec"
            }
          },
          "metadata": {}
        },
        {
          "output_type": "stream",
          "name": "stdout",
          "text": [
            "[ 005/008 ] [ Train Labeled | loss = 0.47784, acc = 0.85970 ] [ Train Pseudo | loss = 0.31996, acc = 0.83512 ]\n"
          ]
        },
        {
          "output_type": "display_data",
          "data": {
            "text/plain": "Valid:   0%|          | 0/6 [00:00<?, ?it/s]",
            "application/vnd.jupyter.widget-view+json": {
              "version_major": 2,
              "version_minor": 0,
              "model_id": "6c7b2a27b9c2422da96784b155857999"
            }
          },
          "metadata": {}
        },
        {
          "output_type": "stream",
          "name": "stdout",
          "text": [
            "[ 005/008 ] [ Valid | loss = 0.78690, acc = 0.75729 ]\nAdjusting learning rate of group 0 to 8.3940e-05.\n"
          ]
        },
        {
          "output_type": "display_data",
          "data": {
            "text/plain": "Train:   0%|          | 0/24 [00:00<?, ?it/s]",
            "application/vnd.jupyter.widget-view+json": {
              "version_major": 2,
              "version_minor": 0,
              "model_id": "04b855ed18694ab39f834cdbd27cfd67"
            }
          },
          "metadata": {}
        },
        {
          "output_type": "display_data",
          "data": {
            "text/plain": "Train:   0%|          | 0/38 [00:00<?, ?it/s]",
            "application/vnd.jupyter.widget-view+json": {
              "version_major": 2,
              "version_minor": 0,
              "model_id": "427ab67819334827bf0d27eeb45601b7"
            }
          },
          "metadata": {}
        },
        {
          "output_type": "stream",
          "name": "stdout",
          "text": [
            "[ 006/008 ] [ Train Labeled | loss = 0.48148, acc = 0.85449 ] [ Train Pseudo | loss = 0.32638, acc = 0.83059 ]\n"
          ]
        },
        {
          "output_type": "display_data",
          "data": {
            "text/plain": "Valid:   0%|          | 0/6 [00:00<?, ?it/s]",
            "application/vnd.jupyter.widget-view+json": {
              "version_major": 2,
              "version_minor": 0,
              "model_id": "b8008319ef394909a1846f329f68eb86"
            }
          },
          "metadata": {}
        },
        {
          "output_type": "stream",
          "name": "stdout",
          "text": [
            "[ 006/008 ] [ Valid | loss = 0.76411, acc = 0.75521 ]\nAdjusting learning rate of group 0 to 8.2472e-05.\n"
          ]
        },
        {
          "output_type": "display_data",
          "data": {
            "text/plain": "Train:   0%|          | 0/24 [00:00<?, ?it/s]",
            "application/vnd.jupyter.widget-view+json": {
              "version_major": 2,
              "version_minor": 0,
              "model_id": "9673a60467c84a298ff202399ad71d2c"
            }
          },
          "metadata": {}
        },
        {
          "output_type": "display_data",
          "data": {
            "text/plain": "Train:   0%|          | 0/38 [00:00<?, ?it/s]",
            "application/vnd.jupyter.widget-view+json": {
              "version_major": 2,
              "version_minor": 0,
              "model_id": "a89b594783884a948522bc16ced116dd"
            }
          },
          "metadata": {}
        },
        {
          "output_type": "stream",
          "name": "stdout",
          "text": [
            "[ 007/008 ] [ Train Labeled | loss = 0.50348, acc = 0.84701 ] [ Train Pseudo | loss = 0.32194, acc = 0.83779 ]\n"
          ]
        },
        {
          "output_type": "display_data",
          "data": {
            "text/plain": "Valid:   0%|          | 0/6 [00:00<?, ?it/s]",
            "application/vnd.jupyter.widget-view+json": {
              "version_major": 2,
              "version_minor": 0,
              "model_id": "570b5f35fa394255b4c509b95d27d560"
            }
          },
          "metadata": {}
        },
        {
          "output_type": "stream",
          "name": "stdout",
          "text": [
            "[ 007/008 ] [ Valid | loss = 0.78164, acc = 0.76875 ]\nAdjusting learning rate of group 0 to 8.0955e-05.\n"
          ]
        },
        {
          "output_type": "display_data",
          "data": {
            "text/plain": "Train:   0%|          | 0/24 [00:00<?, ?it/s]",
            "application/vnd.jupyter.widget-view+json": {
              "version_major": 2,
              "version_minor": 0,
              "model_id": "64de7e16229d4eeabea0b6bb30a01fb3"
            }
          },
          "metadata": {}
        },
        {
          "output_type": "display_data",
          "data": {
            "text/plain": "Train:   0%|          | 0/38 [00:00<?, ?it/s]",
            "application/vnd.jupyter.widget-view+json": {
              "version_major": 2,
              "version_minor": 0,
              "model_id": "6bfc9b972b564e409cd1fea38585d56e"
            }
          },
          "metadata": {}
        },
        {
          "output_type": "stream",
          "name": "stdout",
          "text": [
            "[ 008/008 ] [ Train Labeled | loss = 0.49486, acc = 0.85384 ] [ Train Pseudo | loss = 0.31982, acc = 0.83368 ]\n"
          ]
        },
        {
          "output_type": "display_data",
          "data": {
            "text/plain": "Valid:   0%|          | 0/6 [00:00<?, ?it/s]",
            "application/vnd.jupyter.widget-view+json": {
              "version_major": 2,
              "version_minor": 0,
              "model_id": "144b0788c450431ab80006e4a05701ab"
            }
          },
          "metadata": {}
        },
        {
          "output_type": "stream",
          "name": "stdout",
          "text": [
            "Saving student model with acc 0.791\n[ 008/008 ] [ Valid | loss = 0.70552, acc = 0.79115 ]\nAdjusting learning rate of group 0 to 7.9389e-05.\n========== student_round 04 ==========\n"
          ]
        },
        {
          "output_type": "display_data",
          "data": {
            "text/plain": "Valid:   0%|          | 0/6 [00:00<?, ?it/s]",
            "application/vnd.jupyter.widget-view+json": {
              "version_major": 2,
              "version_minor": 0,
              "model_id": "4be2b17485dd40b7bea2964383cc68cd"
            }
          },
          "metadata": {}
        },
        {
          "output_type": "stream",
          "name": "stdout",
          "text": [
            "[ Teacher Valid | loss = 0.82212, acc = 0.78490 ]\n"
          ]
        },
        {
          "output_type": "display_data",
          "data": {
            "text/plain": "PseudoLabels: 0it [00:00, ?it/s]",
            "application/vnd.jupyter.widget-view+json": {
              "version_major": 2,
              "version_minor": 0,
              "model_id": "7eab56f93a3a4bb78c7a21eb53e9cfdb"
            }
          },
          "metadata": {}
        },
        {
          "output_type": "stream",
          "name": "stdout",
          "text": [
            "Use pseudo label: 4926\nPseudo Labels Distribution:\n01: 10.34, 02: 03.74, 03: 10.29, 04: 09.21, 05: 09.87, 06: 15.44, 07: 03.98, 08: 00.77, 09: 10.04, 10: 18.95, 11: 07.38\n"
          ]
        },
        {
          "output_type": "display_data",
          "data": {
            "text/plain": "PseudoLabels: 0it [00:00, ?it/s]",
            "application/vnd.jupyter.widget-view+json": {
              "version_major": 2,
              "version_minor": 0,
              "model_id": "bbf17dd23877457b83f2826d3099c38c"
            }
          },
          "metadata": {}
        },
        {
          "output_type": "stream",
          "name": "stdout",
          "text": [
            "Labeled Weight:\n01: 0.78, 02: 0.90, 03: 0.70, 04: 0.88, 05: 1.04, 06: 0.96, 07: 1.23, 08: 1.19, 09: 1.06, 10: 1.12, 11: 1.14\nPseudo Weight:\n01: 1.24, 02: 1.07, 03: 1.39, 04: 1.11, 05: 0.94, 06: 1.01, 07: 0.79, 08: 0.81, 09: 0.91, 10: 0.87, 11: 0.85\n"
          ]
        },
        {
          "output_type": "display_data",
          "data": {
            "text/plain": "Train:   0%|          | 0/24 [00:00<?, ?it/s]",
            "application/vnd.jupyter.widget-view+json": {
              "version_major": 2,
              "version_minor": 0,
              "model_id": "e28a45c6f66a49dea8eda3d29d6b4ef4"
            }
          },
          "metadata": {}
        },
        {
          "output_type": "display_data",
          "data": {
            "text/plain": "Train:   0%|          | 0/38 [00:00<?, ?it/s]",
            "application/vnd.jupyter.widget-view+json": {
              "version_major": 2,
              "version_minor": 0,
              "model_id": "e0ea70efaf484cfa82407b9898c11725"
            }
          },
          "metadata": {}
        },
        {
          "output_type": "stream",
          "name": "stdout",
          "text": [
            "[ 001/008 ] [ Train Labeled | loss = 0.48361, acc = 0.85059 ] [ Train Pseudo | loss = 0.32468, acc = 0.83285 ]\n"
          ]
        },
        {
          "output_type": "display_data",
          "data": {
            "text/plain": "Valid:   0%|          | 0/6 [00:00<?, ?it/s]",
            "application/vnd.jupyter.widget-view+json": {
              "version_major": 2,
              "version_minor": 0,
              "model_id": "6318e3525bc54590a078960bb711bd45"
            }
          },
          "metadata": {}
        },
        {
          "output_type": "stream",
          "name": "stdout",
          "text": [
            "[ 001/008 ] [ Valid | loss = 0.80133, acc = 0.73359 ]\nAdjusting learning rate of group 0 to 7.7779e-05.\n"
          ]
        },
        {
          "output_type": "display_data",
          "data": {
            "text/plain": "Train:   0%|          | 0/24 [00:00<?, ?it/s]",
            "application/vnd.jupyter.widget-view+json": {
              "version_major": 2,
              "version_minor": 0,
              "model_id": "a63cb79b6d8541d880d9d9a82618fbbd"
            }
          },
          "metadata": {}
        },
        {
          "output_type": "display_data",
          "data": {
            "text/plain": "Train:   0%|          | 0/38 [00:00<?, ?it/s]",
            "application/vnd.jupyter.widget-view+json": {
              "version_major": 2,
              "version_minor": 0,
              "model_id": "6c73754a299d4038b557c8133e4360ae"
            }
          },
          "metadata": {}
        },
        {
          "output_type": "stream",
          "name": "stdout",
          "text": [
            "[ 002/008 ] [ Train Labeled | loss = 0.48213, acc = 0.85807 ] [ Train Pseudo | loss = 0.30511, acc = 0.84683 ]\n"
          ]
        },
        {
          "output_type": "display_data",
          "data": {
            "text/plain": "Valid:   0%|          | 0/6 [00:00<?, ?it/s]",
            "application/vnd.jupyter.widget-view+json": {
              "version_major": 2,
              "version_minor": 0,
              "model_id": "b26d00d85374416fb81d130f671f69e3"
            }
          },
          "metadata": {}
        },
        {
          "output_type": "stream",
          "name": "stdout",
          "text": [
            "[ 002/008 ] [ Valid | loss = 0.77356, acc = 0.76172 ]\nAdjusting learning rate of group 0 to 7.6125e-05.\n"
          ]
        },
        {
          "output_type": "display_data",
          "data": {
            "text/plain": "Train:   0%|          | 0/24 [00:00<?, ?it/s]",
            "application/vnd.jupyter.widget-view+json": {
              "version_major": 2,
              "version_minor": 0,
              "model_id": "c5db466be96940b7a02031e452081543"
            }
          },
          "metadata": {}
        },
        {
          "output_type": "display_data",
          "data": {
            "text/plain": "Train:   0%|          | 0/38 [00:00<?, ?it/s]",
            "application/vnd.jupyter.widget-view+json": {
              "version_major": 2,
              "version_minor": 0,
              "model_id": "5cafa74e3b2a4952bd30da427563b7bc"
            }
          },
          "metadata": {}
        },
        {
          "output_type": "stream",
          "name": "stdout",
          "text": [
            "[ 003/008 ] [ Train Labeled | loss = 0.45401, acc = 0.87402 ] [ Train Pseudo | loss = 0.30809, acc = 0.83902 ]\n"
          ]
        },
        {
          "output_type": "display_data",
          "data": {
            "text/plain": "Valid:   0%|          | 0/6 [00:00<?, ?it/s]",
            "application/vnd.jupyter.widget-view+json": {
              "version_major": 2,
              "version_minor": 0,
              "model_id": "4e7dc8ac4e094810b8ef25d6a3554428"
            }
          },
          "metadata": {}
        },
        {
          "output_type": "stream",
          "name": "stdout",
          "text": [
            "[ 003/008 ] [ Valid | loss = 0.81370, acc = 0.74115 ]\nAdjusting learning rate of group 0 to 7.4431e-05.\n"
          ]
        },
        {
          "output_type": "display_data",
          "data": {
            "text/plain": "Train:   0%|          | 0/24 [00:00<?, ?it/s]",
            "application/vnd.jupyter.widget-view+json": {
              "version_major": 2,
              "version_minor": 0,
              "model_id": "684eb6170cad47a1a919d64525ef5ded"
            }
          },
          "metadata": {}
        },
        {
          "output_type": "display_data",
          "data": {
            "text/plain": "Train:   0%|          | 0/38 [00:00<?, ?it/s]",
            "application/vnd.jupyter.widget-view+json": {
              "version_major": 2,
              "version_minor": 0,
              "model_id": "98f22778cccc4ed1af59fac9259f32bd"
            }
          },
          "metadata": {}
        },
        {
          "output_type": "stream",
          "name": "stdout",
          "text": [
            "[ 004/008 ] [ Train Labeled | loss = 0.44504, acc = 0.86296 ] [ Train Pseudo | loss = 0.31377, acc = 0.83697 ]\n"
          ]
        },
        {
          "output_type": "display_data",
          "data": {
            "text/plain": "Valid:   0%|          | 0/6 [00:00<?, ?it/s]",
            "application/vnd.jupyter.widget-view+json": {
              "version_major": 2,
              "version_minor": 0,
              "model_id": "0e5efaa806a64a1786501a577494d057"
            }
          },
          "metadata": {}
        },
        {
          "output_type": "stream",
          "name": "stdout",
          "text": [
            "[ 004/008 ] [ Valid | loss = 0.77627, acc = 0.76224 ]\nAdjusting learning rate of group 0 to 7.2700e-05.\n"
          ]
        },
        {
          "output_type": "display_data",
          "data": {
            "text/plain": "Train:   0%|          | 0/24 [00:00<?, ?it/s]",
            "application/vnd.jupyter.widget-view+json": {
              "version_major": 2,
              "version_minor": 0,
              "model_id": "5e8c94e24243482aaae8ae7160b179d8"
            }
          },
          "metadata": {}
        },
        {
          "output_type": "display_data",
          "data": {
            "text/plain": "Train:   0%|          | 0/38 [00:00<?, ?it/s]",
            "application/vnd.jupyter.widget-view+json": {
              "version_major": 2,
              "version_minor": 0,
              "model_id": "8ee889f9ee3548508870f8287213cc6a"
            }
          },
          "metadata": {}
        },
        {
          "output_type": "stream",
          "name": "stdout",
          "text": [
            "[ 005/008 ] [ Train Labeled | loss = 0.45902, acc = 0.86328 ] [ Train Pseudo | loss = 0.30127, acc = 0.84663 ]\n"
          ]
        },
        {
          "output_type": "display_data",
          "data": {
            "text/plain": "Valid:   0%|          | 0/6 [00:00<?, ?it/s]",
            "application/vnd.jupyter.widget-view+json": {
              "version_major": 2,
              "version_minor": 0,
              "model_id": "542f8d1265aa4671af699874e6283f35"
            }
          },
          "metadata": {}
        },
        {
          "output_type": "stream",
          "name": "stdout",
          "text": [
            "[ 005/008 ] [ Valid | loss = 0.83409, acc = 0.74714 ]\nAdjusting learning rate of group 0 to 7.0933e-05.\n"
          ]
        },
        {
          "output_type": "display_data",
          "data": {
            "text/plain": "Train:   0%|          | 0/24 [00:00<?, ?it/s]",
            "application/vnd.jupyter.widget-view+json": {
              "version_major": 2,
              "version_minor": 0,
              "model_id": "c20ebbe67eb24d5ab0db66b1c0ef8594"
            }
          },
          "metadata": {}
        },
        {
          "output_type": "display_data",
          "data": {
            "text/plain": "Train:   0%|          | 0/38 [00:00<?, ?it/s]",
            "application/vnd.jupyter.widget-view+json": {
              "version_major": 2,
              "version_minor": 0,
              "model_id": "23464b8bae6447d985e6bc921d3c2d3f"
            }
          },
          "metadata": {}
        },
        {
          "output_type": "stream",
          "name": "stdout",
          "text": [
            "[ 006/008 ] [ Train Labeled | loss = 0.45104, acc = 0.86686 ] [ Train Pseudo | loss = 0.31158, acc = 0.83635 ]\n"
          ]
        },
        {
          "output_type": "display_data",
          "data": {
            "text/plain": "Valid:   0%|          | 0/6 [00:00<?, ?it/s]",
            "application/vnd.jupyter.widget-view+json": {
              "version_major": 2,
              "version_minor": 0,
              "model_id": "266db57b96b7424f85ea6fe504aa197d"
            }
          },
          "metadata": {}
        },
        {
          "output_type": "stream",
          "name": "stdout",
          "text": [
            "[ 006/008 ] [ Valid | loss = 0.72767, acc = 0.78490 ]\nAdjusting learning rate of group 0 to 6.9134e-05.\n"
          ]
        },
        {
          "output_type": "display_data",
          "data": {
            "text/plain": "Train:   0%|          | 0/24 [00:00<?, ?it/s]",
            "application/vnd.jupyter.widget-view+json": {
              "version_major": 2,
              "version_minor": 0,
              "model_id": "94f7b805d2564896a5628791847d58aa"
            }
          },
          "metadata": {}
        },
        {
          "output_type": "display_data",
          "data": {
            "text/plain": "Train:   0%|          | 0/38 [00:00<?, ?it/s]",
            "application/vnd.jupyter.widget-view+json": {
              "version_major": 2,
              "version_minor": 0,
              "model_id": "374646259b6545dcb2372948b88638a6"
            }
          },
          "metadata": {}
        },
        {
          "output_type": "stream",
          "name": "stdout",
          "text": [
            "[ 007/008 ] [ Train Labeled | loss = 0.41750, acc = 0.87760 ] [ Train Pseudo | loss = 0.29635, acc = 0.85095 ]\n"
          ]
        },
        {
          "output_type": "display_data",
          "data": {
            "text/plain": "Valid:   0%|          | 0/6 [00:00<?, ?it/s]",
            "application/vnd.jupyter.widget-view+json": {
              "version_major": 2,
              "version_minor": 0,
              "model_id": "d2a7144ef8334ee0939954c43ed6d77d"
            }
          },
          "metadata": {}
        },
        {
          "output_type": "stream",
          "name": "stdout",
          "text": [
            "[ 007/008 ] [ Valid | loss = 0.75094, acc = 0.77526 ]\nAdjusting learning rate of group 0 to 6.7306e-05.\n"
          ]
        },
        {
          "output_type": "display_data",
          "data": {
            "text/plain": "Train:   0%|          | 0/24 [00:00<?, ?it/s]",
            "application/vnd.jupyter.widget-view+json": {
              "version_major": 2,
              "version_minor": 0,
              "model_id": "563928dd006f4aff93a267219a5e1758"
            }
          },
          "metadata": {}
        },
        {
          "output_type": "display_data",
          "data": {
            "text/plain": "Train:   0%|          | 0/38 [00:00<?, ?it/s]",
            "application/vnd.jupyter.widget-view+json": {
              "version_major": 2,
              "version_minor": 0,
              "model_id": "de6e950f4b454d8094a6b6cf7208d642"
            }
          },
          "metadata": {}
        },
        {
          "output_type": "stream",
          "name": "stdout",
          "text": [
            "[ 008/008 ] [ Train Labeled | loss = 0.44215, acc = 0.86589 ] [ Train Pseudo | loss = 0.28253, acc = 0.85424 ]\n"
          ]
        },
        {
          "output_type": "display_data",
          "data": {
            "text/plain": "Valid:   0%|          | 0/6 [00:00<?, ?it/s]",
            "application/vnd.jupyter.widget-view+json": {
              "version_major": 2,
              "version_minor": 0,
              "model_id": "d26b2eed47344bd0bc755e104688f57e"
            }
          },
          "metadata": {}
        },
        {
          "output_type": "stream",
          "name": "stdout",
          "text": [
            "[ 008/008 ] [ Valid | loss = 0.69577, acc = 0.78698 ]\nAdjusting learning rate of group 0 to 6.5451e-05.\n========== student_round 05 ==========\n"
          ]
        },
        {
          "output_type": "display_data",
          "data": {
            "text/plain": "Valid:   0%|          | 0/6 [00:00<?, ?it/s]",
            "application/vnd.jupyter.widget-view+json": {
              "version_major": 2,
              "version_minor": 0,
              "model_id": "632bb2d0e0354c32b9fb62eb19462e0c"
            }
          },
          "metadata": {}
        },
        {
          "output_type": "stream",
          "name": "stdout",
          "text": [
            "[ Teacher Valid | loss = 0.86973, acc = 0.76641 ]\n"
          ]
        },
        {
          "output_type": "display_data",
          "data": {
            "text/plain": "PseudoLabels: 0it [00:00, ?it/s]",
            "application/vnd.jupyter.widget-view+json": {
              "version_major": 2,
              "version_minor": 0,
              "model_id": "789630c512554e6fb42ba0a2eec0a295"
            }
          },
          "metadata": {}
        },
        {
          "output_type": "stream",
          "name": "stdout",
          "text": [
            "Use pseudo label: 4814\nPseudo Labels Distribution:\n01: 10.90, 02: 03.82, 03: 09.91, 04: 09.20, 05: 09.84, 06: 15.08, 07: 04.01, 08: 00.90, 09: 09.81, 10: 19.13, 11: 07.41\n"
          ]
        },
        {
          "output_type": "display_data",
          "data": {
            "text/plain": "PseudoLabels: 0it [00:00, ?it/s]",
            "application/vnd.jupyter.widget-view+json": {
              "version_major": 2,
              "version_minor": 0,
              "model_id": "6fb0a37d9d964a0493e01a51ce860303"
            }
          },
          "metadata": {}
        },
        {
          "output_type": "stream",
          "name": "stdout",
          "text": [
            "Labeled Weight:\n01: 0.80, 02: 0.89, 03: 0.70, 04: 0.88, 05: 1.04, 06: 0.96, 07: 1.23, 08: 1.19, 09: 1.06, 10: 1.12, 11: 1.13\nPseudo Weight:\n01: 1.22, 02: 1.09, 03: 1.40, 04: 1.11, 05: 0.93, 06: 1.01, 07: 0.79, 08: 0.81, 09: 0.91, 10: 0.87, 11: 0.86\n"
          ]
        },
        {
          "output_type": "display_data",
          "data": {
            "text/plain": "Train:   0%|          | 0/24 [00:00<?, ?it/s]",
            "application/vnd.jupyter.widget-view+json": {
              "version_major": 2,
              "version_minor": 0,
              "model_id": "94e4466c8a694ba8ba15b88430653516"
            }
          },
          "metadata": {}
        },
        {
          "output_type": "display_data",
          "data": {
            "text/plain": "Train:   0%|          | 0/37 [00:00<?, ?it/s]",
            "application/vnd.jupyter.widget-view+json": {
              "version_major": 2,
              "version_minor": 0,
              "model_id": "87e97ac4178249a3bc9402864f888a35"
            }
          },
          "metadata": {}
        },
        {
          "output_type": "stream",
          "name": "stdout",
          "text": [
            "[ 001/008 ] [ Train Labeled | loss = 0.42086, acc = 0.86654 ] [ Train Pseudo | loss = 0.29273, acc = 0.84312 ]\n"
          ]
        },
        {
          "output_type": "display_data",
          "data": {
            "text/plain": "Valid:   0%|          | 0/6 [00:00<?, ?it/s]",
            "application/vnd.jupyter.widget-view+json": {
              "version_major": 2,
              "version_minor": 0,
              "model_id": "a0459a2da1d2451f8f7f2ae9cc2c5e4f"
            }
          },
          "metadata": {}
        },
        {
          "output_type": "stream",
          "name": "stdout",
          "text": [
            "[ 001/008 ] [ Valid | loss = 0.73453, acc = 0.76823 ]\nAdjusting learning rate of group 0 to 6.3572e-05.\n"
          ]
        },
        {
          "output_type": "display_data",
          "data": {
            "text/plain": "Train:   0%|          | 0/24 [00:00<?, ?it/s]",
            "application/vnd.jupyter.widget-view+json": {
              "version_major": 2,
              "version_minor": 0,
              "model_id": "e36297021c2246849fe352ac4a9fa6bc"
            }
          },
          "metadata": {}
        },
        {
          "output_type": "display_data",
          "data": {
            "text/plain": "Train:   0%|          | 0/37 [00:00<?, ?it/s]",
            "application/vnd.jupyter.widget-view+json": {
              "version_major": 2,
              "version_minor": 0,
              "model_id": "a329d9079f104bd8858e9bca0692f4d6"
            }
          },
          "metadata": {}
        },
        {
          "output_type": "stream",
          "name": "stdout",
          "text": [
            "[ 002/008 ] [ Train Labeled | loss = 0.41461, acc = 0.87240 ] [ Train Pseudo | loss = 0.28690, acc = 0.85621 ]\n"
          ]
        },
        {
          "output_type": "display_data",
          "data": {
            "text/plain": "Valid:   0%|          | 0/6 [00:00<?, ?it/s]",
            "application/vnd.jupyter.widget-view+json": {
              "version_major": 2,
              "version_minor": 0,
              "model_id": "d16b818fc20543eca306706c27960657"
            }
          },
          "metadata": {}
        },
        {
          "output_type": "stream",
          "name": "stdout",
          "text": [
            "[ 002/008 ] [ Valid | loss = 0.73493, acc = 0.78828 ]\nAdjusting learning rate of group 0 to 6.1672e-05.\n"
          ]
        },
        {
          "output_type": "display_data",
          "data": {
            "text/plain": "Train:   0%|          | 0/24 [00:00<?, ?it/s]",
            "application/vnd.jupyter.widget-view+json": {
              "version_major": 2,
              "version_minor": 0,
              "model_id": "31bdab359d31481e9d6a9137d0c1638c"
            }
          },
          "metadata": {}
        },
        {
          "output_type": "display_data",
          "data": {
            "text/plain": "Train:   0%|          | 0/37 [00:00<?, ?it/s]",
            "application/vnd.jupyter.widget-view+json": {
              "version_major": 2,
              "version_minor": 0,
              "model_id": "3c04fa2764e2412aa271c10afb51e007"
            }
          },
          "metadata": {}
        },
        {
          "output_type": "stream",
          "name": "stdout",
          "text": [
            "[ 003/008 ] [ Train Labeled | loss = 0.41710, acc = 0.87435 ] [ Train Pseudo | loss = 0.29434, acc = 0.84417 ]\n"
          ]
        },
        {
          "output_type": "display_data",
          "data": {
            "text/plain": "Valid:   0%|          | 0/6 [00:00<?, ?it/s]",
            "application/vnd.jupyter.widget-view+json": {
              "version_major": 2,
              "version_minor": 0,
              "model_id": "13394157266847b9b521b272398d2d25"
            }
          },
          "metadata": {}
        },
        {
          "output_type": "stream",
          "name": "stdout",
          "text": [
            "[ 003/008 ] [ Valid | loss = 0.83665, acc = 0.74948 ]\nAdjusting learning rate of group 0 to 5.9755e-05.\n"
          ]
        },
        {
          "output_type": "display_data",
          "data": {
            "text/plain": "Train:   0%|          | 0/24 [00:00<?, ?it/s]",
            "application/vnd.jupyter.widget-view+json": {
              "version_major": 2,
              "version_minor": 0,
              "model_id": "59e85cb443ab4c2aa89b11ecbc0b3c1a"
            }
          },
          "metadata": {}
        },
        {
          "output_type": "display_data",
          "data": {
            "text/plain": "Train:   0%|          | 0/37 [00:00<?, ?it/s]",
            "application/vnd.jupyter.widget-view+json": {
              "version_major": 2,
              "version_minor": 0,
              "model_id": "5fb422260a3149c58de906d483be473a"
            }
          },
          "metadata": {}
        },
        {
          "output_type": "stream",
          "name": "stdout",
          "text": [
            "[ 004/008 ] [ Train Labeled | loss = 0.41412, acc = 0.87467 ] [ Train Pseudo | loss = 0.28172, acc = 0.86106 ]\n"
          ]
        },
        {
          "output_type": "display_data",
          "data": {
            "text/plain": "Valid:   0%|          | 0/6 [00:00<?, ?it/s]",
            "application/vnd.jupyter.widget-view+json": {
              "version_major": 2,
              "version_minor": 0,
              "model_id": "1f031c8064e7471092058dd5a8ec11b4"
            }
          },
          "metadata": {}
        },
        {
          "output_type": "stream",
          "name": "stdout",
          "text": [
            "[ 004/008 ] [ Valid | loss = 0.75239, acc = 0.75651 ]\nAdjusting learning rate of group 0 to 5.7822e-05.\n"
          ]
        },
        {
          "output_type": "display_data",
          "data": {
            "text/plain": "Train:   0%|          | 0/24 [00:00<?, ?it/s]",
            "application/vnd.jupyter.widget-view+json": {
              "version_major": 2,
              "version_minor": 0,
              "model_id": "9d9b87c016d7454d8f3881e7c704e89e"
            }
          },
          "metadata": {}
        },
        {
          "output_type": "display_data",
          "data": {
            "text/plain": "Train:   0%|          | 0/37 [00:00<?, ?it/s]",
            "application/vnd.jupyter.widget-view+json": {
              "version_major": 2,
              "version_minor": 0,
              "model_id": "d1e3d755730a48f8988dedbbe46e825f"
            }
          },
          "metadata": {}
        },
        {
          "output_type": "stream",
          "name": "stdout",
          "text": [
            "[ 005/008 ] [ Train Labeled | loss = 0.40420, acc = 0.87272 ] [ Train Pseudo | loss = 0.29096, acc = 0.85431 ]\n"
          ]
        },
        {
          "output_type": "display_data",
          "data": {
            "text/plain": "Valid:   0%|          | 0/6 [00:00<?, ?it/s]",
            "application/vnd.jupyter.widget-view+json": {
              "version_major": 2,
              "version_minor": 0,
              "model_id": "b78c3e5103b64174a2314f2c8b24299a"
            }
          },
          "metadata": {}
        },
        {
          "output_type": "stream",
          "name": "stdout",
          "text": [
            "[ 005/008 ] [ Valid | loss = 0.74928, acc = 0.76953 ]\nAdjusting learning rate of group 0 to 5.5877e-05.\n"
          ]
        },
        {
          "output_type": "display_data",
          "data": {
            "text/plain": "Train:   0%|          | 0/24 [00:00<?, ?it/s]",
            "application/vnd.jupyter.widget-view+json": {
              "version_major": 2,
              "version_minor": 0,
              "model_id": "71f3bb6f463543558914d517be658237"
            }
          },
          "metadata": {}
        },
        {
          "output_type": "display_data",
          "data": {
            "text/plain": "Train:   0%|          | 0/37 [00:00<?, ?it/s]",
            "application/vnd.jupyter.widget-view+json": {
              "version_major": 2,
              "version_minor": 0,
              "model_id": "59c85dc4e028405ab4384472533a7c97"
            }
          },
          "metadata": {}
        },
        {
          "output_type": "stream",
          "name": "stdout",
          "text": [
            "[ 006/008 ] [ Train Labeled | loss = 0.40647, acc = 0.87305 ] [ Train Pseudo | loss = 0.27322, acc = 0.85367 ]\n"
          ]
        },
        {
          "output_type": "display_data",
          "data": {
            "text/plain": "Valid:   0%|          | 0/6 [00:00<?, ?it/s]",
            "application/vnd.jupyter.widget-view+json": {
              "version_major": 2,
              "version_minor": 0,
              "model_id": "11b1760f85a34d2695a9eff39c431743"
            }
          },
          "metadata": {}
        },
        {
          "output_type": "stream",
          "name": "stdout",
          "text": [
            "[ 006/008 ] [ Valid | loss = 0.80720, acc = 0.75729 ]\nAdjusting learning rate of group 0 to 5.3923e-05.\n"
          ]
        },
        {
          "output_type": "display_data",
          "data": {
            "text/plain": "Train:   0%|          | 0/24 [00:00<?, ?it/s]",
            "application/vnd.jupyter.widget-view+json": {
              "version_major": 2,
              "version_minor": 0,
              "model_id": "d17ac93b0eb949f3833390e034aa7c3d"
            }
          },
          "metadata": {}
        },
        {
          "output_type": "display_data",
          "data": {
            "text/plain": "Train:   0%|          | 0/37 [00:00<?, ?it/s]",
            "application/vnd.jupyter.widget-view+json": {
              "version_major": 2,
              "version_minor": 0,
              "model_id": "a211f61206c645178b3806ba24209e47"
            }
          },
          "metadata": {}
        },
        {
          "output_type": "stream",
          "name": "stdout",
          "text": [
            "[ 007/008 ] [ Train Labeled | loss = 0.39298, acc = 0.88216 ] [ Train Pseudo | loss = 0.29145, acc = 0.84903 ]\n"
          ]
        },
        {
          "output_type": "display_data",
          "data": {
            "text/plain": "Valid:   0%|          | 0/6 [00:00<?, ?it/s]",
            "application/vnd.jupyter.widget-view+json": {
              "version_major": 2,
              "version_minor": 0,
              "model_id": "3bfda49989f44fd38702023f03b75ded"
            }
          },
          "metadata": {}
        },
        {
          "output_type": "stream",
          "name": "stdout",
          "text": [
            "[ 007/008 ] [ Valid | loss = 0.72389, acc = 0.77057 ]\nAdjusting learning rate of group 0 to 5.1963e-05.\n"
          ]
        },
        {
          "output_type": "display_data",
          "data": {
            "text/plain": "Train:   0%|          | 0/24 [00:00<?, ?it/s]",
            "application/vnd.jupyter.widget-view+json": {
              "version_major": 2,
              "version_minor": 0,
              "model_id": "9e8be776e96b40399363257da293c32b"
            }
          },
          "metadata": {}
        },
        {
          "output_type": "display_data",
          "data": {
            "text/plain": "Train:   0%|          | 0/37 [00:00<?, ?it/s]",
            "application/vnd.jupyter.widget-view+json": {
              "version_major": 2,
              "version_minor": 0,
              "model_id": "141ab08662fb4ed5bcce21c1cea75de3"
            }
          },
          "metadata": {}
        },
        {
          "output_type": "stream",
          "name": "stdout",
          "text": [
            "[ 008/008 ] [ Train Labeled | loss = 0.39387, acc = 0.88639 ] [ Train Pseudo | loss = 0.26501, acc = 0.86677 ]\n"
          ]
        },
        {
          "output_type": "display_data",
          "data": {
            "text/plain": "Valid:   0%|          | 0/6 [00:00<?, ?it/s]",
            "application/vnd.jupyter.widget-view+json": {
              "version_major": 2,
              "version_minor": 0,
              "model_id": "2590a3faeb7847a082f9d968e59a326b"
            }
          },
          "metadata": {}
        },
        {
          "output_type": "stream",
          "name": "stdout",
          "text": [
            "[ 008/008 ] [ Valid | loss = 0.74217, acc = 0.77526 ]\nAdjusting learning rate of group 0 to 5.0000e-05.\n========== student_round 06 ==========\n"
          ]
        },
        {
          "output_type": "display_data",
          "data": {
            "text/plain": "Valid:   0%|          | 0/6 [00:00<?, ?it/s]",
            "application/vnd.jupyter.widget-view+json": {
              "version_major": 2,
              "version_minor": 0,
              "model_id": "6d2db70ece9d40418d690072b7f703a5"
            }
          },
          "metadata": {}
        },
        {
          "output_type": "stream",
          "name": "stdout",
          "text": [
            "[ Teacher Valid | loss = 0.87680, acc = 0.77474 ]\n"
          ]
        },
        {
          "output_type": "display_data",
          "data": {
            "text/plain": "PseudoLabels: 0it [00:00, ?it/s]",
            "application/vnd.jupyter.widget-view+json": {
              "version_major": 2,
              "version_minor": 0,
              "model_id": "386f16eae6a047759461689ce80d1e1a"
            }
          },
          "metadata": {}
        },
        {
          "output_type": "stream",
          "name": "stdout",
          "text": [
            "Use pseudo label: 4856\nPseudo Labels Distribution:\n01: 10.97, 02: 03.65, 03: 10.07, 04: 09.35, 05: 09.79, 06: 15.24, 07: 04.00, 08: 00.82, 09: 09.62, 10: 19.09, 11: 07.41\n"
          ]
        },
        {
          "output_type": "display_data",
          "data": {
            "text/plain": "PseudoLabels: 0it [00:00, ?it/s]",
            "application/vnd.jupyter.widget-view+json": {
              "version_major": 2,
              "version_minor": 0,
              "model_id": "d0f9faca8d13446ea274d2a7f87f4a6b"
            }
          },
          "metadata": {}
        },
        {
          "output_type": "stream",
          "name": "stdout",
          "text": [
            "Labeled Weight:\n01: 0.81, 02: 0.88, 03: 0.69, 04: 0.87, 05: 1.04, 06: 0.97, 07: 1.23, 08: 1.20, 09: 1.06, 10: 1.12, 11: 1.12\nPseudo Weight:\n01: 1.20, 02: 1.11, 03: 1.40, 04: 1.11, 05: 0.93, 06: 1.00, 07: 0.79, 08: 0.81, 09: 0.92, 10: 0.87, 11: 0.87\n"
          ]
        },
        {
          "output_type": "display_data",
          "data": {
            "text/plain": "Train:   0%|          | 0/24 [00:00<?, ?it/s]",
            "application/vnd.jupyter.widget-view+json": {
              "version_major": 2,
              "version_minor": 0,
              "model_id": "a268092edb4047ecbc54b54105cef7f1"
            }
          },
          "metadata": {}
        },
        {
          "output_type": "display_data",
          "data": {
            "text/plain": "Train:   0%|          | 0/37 [00:00<?, ?it/s]",
            "application/vnd.jupyter.widget-view+json": {
              "version_major": 2,
              "version_minor": 0,
              "model_id": "9066d5bea61d4603869f27efb729b86c"
            }
          },
          "metadata": {}
        },
        {
          "output_type": "stream",
          "name": "stdout",
          "text": [
            "[ 001/008 ] [ Train Labeled | loss = 0.42597, acc = 0.86914 ] [ Train Pseudo | loss = 0.27552, acc = 0.85811 ]\n"
          ]
        },
        {
          "output_type": "display_data",
          "data": {
            "text/plain": "Valid:   0%|          | 0/6 [00:00<?, ?it/s]",
            "application/vnd.jupyter.widget-view+json": {
              "version_major": 2,
              "version_minor": 0,
              "model_id": "fd7c0a2b5c09461e8840a68506aa2be0"
            }
          },
          "metadata": {}
        },
        {
          "output_type": "stream",
          "name": "stdout",
          "text": [
            "[ 001/008 ] [ Valid | loss = 0.74586, acc = 0.75521 ]\nAdjusting learning rate of group 0 to 4.8037e-05.\n"
          ]
        },
        {
          "output_type": "display_data",
          "data": {
            "text/plain": "Train:   0%|          | 0/24 [00:00<?, ?it/s]",
            "application/vnd.jupyter.widget-view+json": {
              "version_major": 2,
              "version_minor": 0,
              "model_id": "8a73f2871a494bfdb351001567753c48"
            }
          },
          "metadata": {}
        },
        {
          "output_type": "display_data",
          "data": {
            "text/plain": "Train:   0%|          | 0/37 [00:00<?, ?it/s]",
            "application/vnd.jupyter.widget-view+json": {
              "version_major": 2,
              "version_minor": 0,
              "model_id": "0c763b12402943d9913f32476b7d0c2d"
            }
          },
          "metadata": {}
        },
        {
          "output_type": "stream",
          "name": "stdout",
          "text": [
            "[ 002/008 ] [ Train Labeled | loss = 0.40671, acc = 0.88151 ] [ Train Pseudo | loss = 0.26522, acc = 0.86698 ]\n"
          ]
        },
        {
          "output_type": "display_data",
          "data": {
            "text/plain": "Valid:   0%|          | 0/6 [00:00<?, ?it/s]",
            "application/vnd.jupyter.widget-view+json": {
              "version_major": 2,
              "version_minor": 0,
              "model_id": "fdfcc5dddb8a4d0a8e1ca57840ac2a3d"
            }
          },
          "metadata": {}
        },
        {
          "output_type": "stream",
          "name": "stdout",
          "text": [
            "[ 002/008 ] [ Valid | loss = 0.81408, acc = 0.75026 ]\nAdjusting learning rate of group 0 to 4.6077e-05.\n"
          ]
        },
        {
          "output_type": "display_data",
          "data": {
            "text/plain": "Train:   0%|          | 0/24 [00:00<?, ?it/s]",
            "application/vnd.jupyter.widget-view+json": {
              "version_major": 2,
              "version_minor": 0,
              "model_id": "19640ac985ce4ba88d134cf26abb8368"
            }
          },
          "metadata": {}
        },
        {
          "output_type": "display_data",
          "data": {
            "text/plain": "Train:   0%|          | 0/37 [00:00<?, ?it/s]",
            "application/vnd.jupyter.widget-view+json": {
              "version_major": 2,
              "version_minor": 0,
              "model_id": "5f40a1cf3f8842c7b07c8f5b8fcf7e33"
            }
          },
          "metadata": {}
        },
        {
          "output_type": "stream",
          "name": "stdout",
          "text": [
            "[ 003/008 ] [ Train Labeled | loss = 0.37201, acc = 0.88574 ] [ Train Pseudo | loss = 0.25574, acc = 0.86803 ]\n"
          ]
        },
        {
          "output_type": "display_data",
          "data": {
            "text/plain": "Valid:   0%|          | 0/6 [00:00<?, ?it/s]",
            "application/vnd.jupyter.widget-view+json": {
              "version_major": 2,
              "version_minor": 0,
              "model_id": "045f152c99c34cb2a4be6564e6f1bdbd"
            }
          },
          "metadata": {}
        },
        {
          "output_type": "stream",
          "name": "stdout",
          "text": [
            "[ 003/008 ] [ Valid | loss = 0.77836, acc = 0.76042 ]\nAdjusting learning rate of group 0 to 4.4123e-05.\n"
          ]
        },
        {
          "output_type": "display_data",
          "data": {
            "text/plain": "Train:   0%|          | 0/24 [00:00<?, ?it/s]",
            "application/vnd.jupyter.widget-view+json": {
              "version_major": 2,
              "version_minor": 0,
              "model_id": "1559a367a57843c6905f0e44d78b426f"
            }
          },
          "metadata": {}
        },
        {
          "output_type": "display_data",
          "data": {
            "text/plain": "Train:   0%|          | 0/37 [00:00<?, ?it/s]",
            "application/vnd.jupyter.widget-view+json": {
              "version_major": 2,
              "version_minor": 0,
              "model_id": "274cf7a09d0e487ca64212a9a6443406"
            }
          },
          "metadata": {}
        },
        {
          "output_type": "stream",
          "name": "stdout",
          "text": [
            "[ 004/008 ] [ Train Labeled | loss = 0.37400, acc = 0.88411 ] [ Train Pseudo | loss = 0.26661, acc = 0.87057 ]\n"
          ]
        },
        {
          "output_type": "display_data",
          "data": {
            "text/plain": "Valid:   0%|          | 0/6 [00:00<?, ?it/s]",
            "application/vnd.jupyter.widget-view+json": {
              "version_major": 2,
              "version_minor": 0,
              "model_id": "079901608b59467d8740f92fa29eeccc"
            }
          },
          "metadata": {}
        },
        {
          "output_type": "stream",
          "name": "stdout",
          "text": [
            "[ 004/008 ] [ Valid | loss = 0.71772, acc = 0.77214 ]\nAdjusting learning rate of group 0 to 4.2178e-05.\n"
          ]
        },
        {
          "output_type": "display_data",
          "data": {
            "text/plain": "Train:   0%|          | 0/24 [00:00<?, ?it/s]",
            "application/vnd.jupyter.widget-view+json": {
              "version_major": 2,
              "version_minor": 0,
              "model_id": "83b8617e232f45e6931b3b6bb8c4eb73"
            }
          },
          "metadata": {}
        },
        {
          "output_type": "display_data",
          "data": {
            "text/plain": "Train:   0%|          | 0/37 [00:00<?, ?it/s]",
            "application/vnd.jupyter.widget-view+json": {
              "version_major": 2,
              "version_minor": 0,
              "model_id": "9205134b9fb641c39213ef3ad9a69e7e"
            }
          },
          "metadata": {}
        },
        {
          "output_type": "stream",
          "name": "stdout",
          "text": [
            "[ 005/008 ] [ Train Labeled | loss = 0.38084, acc = 0.88672 ] [ Train Pseudo | loss = 0.26245, acc = 0.86444 ]\n"
          ]
        },
        {
          "output_type": "display_data",
          "data": {
            "text/plain": "Valid:   0%|          | 0/6 [00:00<?, ?it/s]",
            "application/vnd.jupyter.widget-view+json": {
              "version_major": 2,
              "version_minor": 0,
              "model_id": "b6aded89e5ba42dcb1fe2e51bcc683ee"
            }
          },
          "metadata": {}
        },
        {
          "output_type": "stream",
          "name": "stdout",
          "text": [
            "[ 005/008 ] [ Valid | loss = 0.75996, acc = 0.74818 ]\nAdjusting learning rate of group 0 to 4.0245e-05.\n"
          ]
        },
        {
          "output_type": "display_data",
          "data": {
            "text/plain": "Train:   0%|          | 0/24 [00:00<?, ?it/s]",
            "application/vnd.jupyter.widget-view+json": {
              "version_major": 2,
              "version_minor": 0,
              "model_id": "760d3ac1f5d54b4b8b3bd16fcf9f82a1"
            }
          },
          "metadata": {}
        },
        {
          "output_type": "display_data",
          "data": {
            "text/plain": "Train:   0%|          | 0/37 [00:00<?, ?it/s]",
            "application/vnd.jupyter.widget-view+json": {
              "version_major": 2,
              "version_minor": 0,
              "model_id": "74bdf57766f04ec180a93f39017d6d84"
            }
          },
          "metadata": {}
        },
        {
          "output_type": "stream",
          "name": "stdout",
          "text": [
            "[ 006/008 ] [ Train Labeled | loss = 0.34294, acc = 0.90202 ] [ Train Pseudo | loss = 0.25646, acc = 0.86972 ]\n"
          ]
        },
        {
          "output_type": "display_data",
          "data": {
            "text/plain": "Valid:   0%|          | 0/6 [00:00<?, ?it/s]",
            "application/vnd.jupyter.widget-view+json": {
              "version_major": 2,
              "version_minor": 0,
              "model_id": "657a1008c96b40f48886da871a8e1b21"
            }
          },
          "metadata": {}
        },
        {
          "output_type": "stream",
          "name": "stdout",
          "text": [
            "[ 006/008 ] [ Valid | loss = 0.76737, acc = 0.76120 ]\nAdjusting learning rate of group 0 to 3.8328e-05.\n"
          ]
        },
        {
          "output_type": "display_data",
          "data": {
            "text/plain": "Train:   0%|          | 0/24 [00:00<?, ?it/s]",
            "application/vnd.jupyter.widget-view+json": {
              "version_major": 2,
              "version_minor": 0,
              "model_id": "a5ec7b7f43254de09b35b491db9f0cde"
            }
          },
          "metadata": {}
        },
        {
          "output_type": "display_data",
          "data": {
            "text/plain": "Train:   0%|          | 0/37 [00:00<?, ?it/s]",
            "application/vnd.jupyter.widget-view+json": {
              "version_major": 2,
              "version_minor": 0,
              "model_id": "53e294e236c64ea9b11bd4cee1a2d4dd"
            }
          },
          "metadata": {}
        },
        {
          "output_type": "stream",
          "name": "stdout",
          "text": [
            "[ 007/008 ] [ Train Labeled | loss = 0.35635, acc = 0.89746 ] [ Train Pseudo | loss = 0.26120, acc = 0.86529 ]\n"
          ]
        },
        {
          "output_type": "display_data",
          "data": {
            "text/plain": "Valid:   0%|          | 0/6 [00:00<?, ?it/s]",
            "application/vnd.jupyter.widget-view+json": {
              "version_major": 2,
              "version_minor": 0,
              "model_id": "dd1777c33dbf4f7c96d812ece6d4b9ba"
            }
          },
          "metadata": {}
        },
        {
          "output_type": "stream",
          "name": "stdout",
          "text": [
            "[ 007/008 ] [ Valid | loss = 0.75162, acc = 0.76172 ]\nAdjusting learning rate of group 0 to 3.6428e-05.\n"
          ]
        },
        {
          "output_type": "display_data",
          "data": {
            "text/plain": "Train:   0%|          | 0/24 [00:00<?, ?it/s]",
            "application/vnd.jupyter.widget-view+json": {
              "version_major": 2,
              "version_minor": 0,
              "model_id": "a6c13049171d45b3a35c05e4ca60bd01"
            }
          },
          "metadata": {}
        },
        {
          "output_type": "display_data",
          "data": {
            "text/plain": "Train:   0%|          | 0/37 [00:00<?, ?it/s]",
            "application/vnd.jupyter.widget-view+json": {
              "version_major": 2,
              "version_minor": 0,
              "model_id": "7027248a1b094037b2b749423df631bf"
            }
          },
          "metadata": {}
        },
        {
          "output_type": "stream",
          "name": "stdout",
          "text": [
            "[ 008/008 ] [ Train Labeled | loss = 0.36077, acc = 0.88997 ] [ Train Pseudo | loss = 0.25127, acc = 0.87796 ]\n"
          ]
        },
        {
          "output_type": "display_data",
          "data": {
            "text/plain": "Valid:   0%|          | 0/6 [00:00<?, ?it/s]",
            "application/vnd.jupyter.widget-view+json": {
              "version_major": 2,
              "version_minor": 0,
              "model_id": "5ce997afedc54d6ea3df4aeda582c15d"
            }
          },
          "metadata": {}
        },
        {
          "output_type": "stream",
          "name": "stdout",
          "text": [
            "[ 008/008 ] [ Valid | loss = 0.73666, acc = 0.77917 ]\nAdjusting learning rate of group 0 to 3.4549e-05.\n========== student_round 07 ==========\n"
          ]
        },
        {
          "output_type": "display_data",
          "data": {
            "text/plain": "Valid:   0%|          | 0/6 [00:00<?, ?it/s]",
            "application/vnd.jupyter.widget-view+json": {
              "version_major": 2,
              "version_minor": 0,
              "model_id": "93ee1b09463b45119a1bb79d6fbc27a5"
            }
          },
          "metadata": {}
        },
        {
          "output_type": "stream",
          "name": "stdout",
          "text": [
            "[ Teacher Valid | loss = 0.82994, acc = 0.77474 ]\n"
          ]
        },
        {
          "output_type": "display_data",
          "data": {
            "text/plain": "PseudoLabels: 0it [00:00, ?it/s]",
            "application/vnd.jupyter.widget-view+json": {
              "version_major": 2,
              "version_minor": 0,
              "model_id": "de13a3cc10684ad485211fede6e23fdc"
            }
          },
          "metadata": {}
        },
        {
          "output_type": "stream",
          "name": "stdout",
          "text": [
            "Use pseudo label: 4735\nPseudo Labels Distribution:\n01: 11.30, 02: 03.52, 03: 09.91, 04: 09.53, 05: 09.88, 06: 14.67, 07: 03.97, 08: 00.77, 09: 09.75, 10: 19.31, 11: 07.38\n"
          ]
        },
        {
          "output_type": "display_data",
          "data": {
            "text/plain": "PseudoLabels: 0it [00:00, ?it/s]",
            "application/vnd.jupyter.widget-view+json": {
              "version_major": 2,
              "version_minor": 0,
              "model_id": "ed3286ed739c4bdc971243559a416bf9"
            }
          },
          "metadata": {}
        },
        {
          "output_type": "stream",
          "name": "stdout",
          "text": [
            "Labeled Weight:\n01: 0.82, 02: 0.87, 03: 0.69, 04: 0.87, 05: 1.05, 06: 0.97, 07: 1.24, 08: 1.20, 09: 1.06, 10: 1.12, 11: 1.11\nPseudo Weight:\n01: 1.18, 02: 1.12, 03: 1.40, 04: 1.11, 05: 0.93, 06: 1.00, 07: 0.79, 08: 0.81, 09: 0.92, 10: 0.87, 11: 0.87\n"
          ]
        },
        {
          "output_type": "display_data",
          "data": {
            "text/plain": "Train:   0%|          | 0/24 [00:00<?, ?it/s]",
            "application/vnd.jupyter.widget-view+json": {
              "version_major": 2,
              "version_minor": 0,
              "model_id": "271937b23fdf41a2a61caf60f988b4f9"
            }
          },
          "metadata": {}
        },
        {
          "output_type": "display_data",
          "data": {
            "text/plain": "Train:   0%|          | 0/36 [00:00<?, ?it/s]",
            "application/vnd.jupyter.widget-view+json": {
              "version_major": 2,
              "version_minor": 0,
              "model_id": "1cbc62b3050441f78c4aebc50cb838c2"
            }
          },
          "metadata": {}
        },
        {
          "output_type": "stream",
          "name": "stdout",
          "text": [
            "[ 001/008 ] [ Train Labeled | loss = 0.35856, acc = 0.89388 ] [ Train Pseudo | loss = 0.25723, acc = 0.87196 ]\n"
          ]
        },
        {
          "output_type": "display_data",
          "data": {
            "text/plain": "Valid:   0%|          | 0/6 [00:00<?, ?it/s]",
            "application/vnd.jupyter.widget-view+json": {
              "version_major": 2,
              "version_minor": 0,
              "model_id": "7d1e6a76e5dd426e854454fec9e01686"
            }
          },
          "metadata": {}
        },
        {
          "output_type": "stream",
          "name": "stdout",
          "text": [
            "[ 001/008 ] [ Valid | loss = 0.73223, acc = 0.76432 ]\nAdjusting learning rate of group 0 to 3.2694e-05.\n"
          ]
        },
        {
          "output_type": "display_data",
          "data": {
            "text/plain": "Train:   0%|          | 0/24 [00:00<?, ?it/s]",
            "application/vnd.jupyter.widget-view+json": {
              "version_major": 2,
              "version_minor": 0,
              "model_id": "ffe647b1c72b4ba7b786802b0b259fe1"
            }
          },
          "metadata": {}
        },
        {
          "output_type": "display_data",
          "data": {
            "text/plain": "Train:   0%|          | 0/36 [00:00<?, ?it/s]",
            "application/vnd.jupyter.widget-view+json": {
              "version_major": 2,
              "version_minor": 0,
              "model_id": "8d1d4c5f68db44148688d1a8fb3cd1d0"
            }
          },
          "metadata": {}
        },
        {
          "output_type": "stream",
          "name": "stdout",
          "text": [
            "[ 002/008 ] [ Train Labeled | loss = 0.35876, acc = 0.89258 ] [ Train Pseudo | loss = 0.25983, acc = 0.86762 ]\n"
          ]
        },
        {
          "output_type": "display_data",
          "data": {
            "text/plain": "Valid:   0%|          | 0/6 [00:00<?, ?it/s]",
            "application/vnd.jupyter.widget-view+json": {
              "version_major": 2,
              "version_minor": 0,
              "model_id": "aff0a65a6f5549d6b67b961662eab007"
            }
          },
          "metadata": {}
        },
        {
          "output_type": "stream",
          "name": "stdout",
          "text": [
            "[ 002/008 ] [ Valid | loss = 0.72004, acc = 0.78490 ]\nAdjusting learning rate of group 0 to 3.0866e-05.\n"
          ]
        },
        {
          "output_type": "display_data",
          "data": {
            "text/plain": "Train:   0%|          | 0/24 [00:00<?, ?it/s]",
            "application/vnd.jupyter.widget-view+json": {
              "version_major": 2,
              "version_minor": 0,
              "model_id": "296f7f325f4b42a2bd73501e8035d861"
            }
          },
          "metadata": {}
        },
        {
          "output_type": "display_data",
          "data": {
            "text/plain": "Train:   0%|          | 0/36 [00:00<?, ?it/s]",
            "application/vnd.jupyter.widget-view+json": {
              "version_major": 2,
              "version_minor": 0,
              "model_id": "19e194374a6245d4a4ffe9781cd104db"
            }
          },
          "metadata": {}
        },
        {
          "output_type": "stream",
          "name": "stdout",
          "text": [
            "[ 003/008 ] [ Train Labeled | loss = 0.32676, acc = 0.90332 ] [ Train Pseudo | loss = 0.25541, acc = 0.87240 ]\n"
          ]
        },
        {
          "output_type": "display_data",
          "data": {
            "text/plain": "Valid:   0%|          | 0/6 [00:00<?, ?it/s]",
            "application/vnd.jupyter.widget-view+json": {
              "version_major": 2,
              "version_minor": 0,
              "model_id": "3c1c8ef31f894a74b3a9b7db799abd25"
            }
          },
          "metadata": {}
        },
        {
          "output_type": "stream",
          "name": "stdout",
          "text": [
            "[ 003/008 ] [ Valid | loss = 0.78097, acc = 0.76641 ]\nAdjusting learning rate of group 0 to 2.9067e-05.\n"
          ]
        },
        {
          "output_type": "display_data",
          "data": {
            "text/plain": "Train:   0%|          | 0/24 [00:00<?, ?it/s]",
            "application/vnd.jupyter.widget-view+json": {
              "version_major": 2,
              "version_minor": 0,
              "model_id": "19451151b0f9438697bb49ad5efdbbf7"
            }
          },
          "metadata": {}
        },
        {
          "output_type": "error",
          "ename": "KeyboardInterrupt",
          "evalue": "",
          "traceback": [
            "\u001b[0;31m---------------------------------------------------------------------------\u001b[0m",
            "\u001b[0;31mKeyboardInterrupt\u001b[0m                         Traceback (most recent call last)",
            "\u001b[0;32m<ipython-input-18-fe7dc4385df4>\u001b[0m in \u001b[0;36m<module>\u001b[0;34m\u001b[0m\n\u001b[1;32m    112\u001b[0m         \u001b[0;31m# ---------- Training ----------\u001b[0m\u001b[0;34m\u001b[0m\u001b[0;34m\u001b[0m\u001b[0;34m\u001b[0m\u001b[0m\n\u001b[1;32m    113\u001b[0m         \u001b[0;31m# train_dict = train(model_s)\u001b[0m\u001b[0;34m\u001b[0m\u001b[0;34m\u001b[0m\u001b[0;34m\u001b[0m\u001b[0m\n\u001b[0;32m--> 114\u001b[0;31m         \u001b[0mtrain_dict_l\u001b[0m \u001b[0;34m=\u001b[0m \u001b[0mtrain\u001b[0m\u001b[0;34m(\u001b[0m\u001b[0mmodel_s\u001b[0m\u001b[0;34m,\u001b[0m \u001b[0mlabeled_loader\u001b[0m\u001b[0;34m,\u001b[0m \u001b[0mcriterion_labeled\u001b[0m\u001b[0;34m,\u001b[0m \u001b[0mshadow_model\u001b[0m\u001b[0;34m=\u001b[0m\u001b[0mmodel_t\u001b[0m\u001b[0;34m)\u001b[0m\u001b[0;34m\u001b[0m\u001b[0;34m\u001b[0m\u001b[0m\n\u001b[0m\u001b[1;32m    115\u001b[0m         \u001b[0mtrain_dict_p\u001b[0m \u001b[0;34m=\u001b[0m \u001b[0mtrain\u001b[0m\u001b[0;34m(\u001b[0m\u001b[0mmodel_s\u001b[0m\u001b[0;34m,\u001b[0m \u001b[0mpseudo_loader\u001b[0m\u001b[0;34m,\u001b[0m \u001b[0mcriterion_pseudo\u001b[0m\u001b[0;34m,\u001b[0m \u001b[0mshadow_model\u001b[0m\u001b[0;34m=\u001b[0m\u001b[0mmodel_t\u001b[0m\u001b[0;34m)\u001b[0m\u001b[0;34m\u001b[0m\u001b[0;34m\u001b[0m\u001b[0m\n\u001b[1;32m    116\u001b[0m         \u001b[0mtrain_dict_l\u001b[0m\u001b[0;34m[\u001b[0m\u001b[0;36m0\u001b[0m\u001b[0;34m]\u001b[0m \u001b[0;34m=\u001b[0m \u001b[0;34m'Train Labeled'\u001b[0m\u001b[0;34m\u001b[0m\u001b[0;34m\u001b[0m\u001b[0m\n",
            "\u001b[0;32m<ipython-input-15-99ac7a2fe96e>\u001b[0m in \u001b[0;36mtrain\u001b[0;34m(model, loader, criterion, shadow_model)\u001b[0m\n\u001b[1;32m      9\u001b[0m         \u001b[0mloss\u001b[0m \u001b[0;34m=\u001b[0m \u001b[0mcriterion\u001b[0m\u001b[0;34m(\u001b[0m\u001b[0mlogits\u001b[0m\u001b[0;34m,\u001b[0m \u001b[0mlabels\u001b[0m\u001b[0;34m.\u001b[0m\u001b[0mto\u001b[0m\u001b[0;34m(\u001b[0m\u001b[0mdevice\u001b[0m\u001b[0;34m)\u001b[0m\u001b[0;34m)\u001b[0m\u001b[0;34m\u001b[0m\u001b[0;34m\u001b[0m\u001b[0m\n\u001b[1;32m     10\u001b[0m         \u001b[0moptimizer\u001b[0m\u001b[0;34m.\u001b[0m\u001b[0mzero_grad\u001b[0m\u001b[0;34m(\u001b[0m\u001b[0;34m)\u001b[0m\u001b[0;34m\u001b[0m\u001b[0;34m\u001b[0m\u001b[0m\n\u001b[0;32m---> 11\u001b[0;31m         \u001b[0mloss\u001b[0m\u001b[0;34m.\u001b[0m\u001b[0mbackward\u001b[0m\u001b[0;34m(\u001b[0m\u001b[0;34m)\u001b[0m\u001b[0;34m\u001b[0m\u001b[0;34m\u001b[0m\u001b[0m\n\u001b[0m\u001b[1;32m     12\u001b[0m         \u001b[0mgrad_norm\u001b[0m \u001b[0;34m=\u001b[0m \u001b[0mnn\u001b[0m\u001b[0;34m.\u001b[0m\u001b[0mutils\u001b[0m\u001b[0;34m.\u001b[0m\u001b[0mclip_grad_norm_\u001b[0m\u001b[0;34m(\u001b[0m\u001b[0mmodel\u001b[0m\u001b[0;34m.\u001b[0m\u001b[0mparameters\u001b[0m\u001b[0;34m(\u001b[0m\u001b[0;34m)\u001b[0m\u001b[0;34m,\u001b[0m \u001b[0mmax_norm\u001b[0m\u001b[0;34m=\u001b[0m\u001b[0;36m10\u001b[0m\u001b[0;34m)\u001b[0m\u001b[0;34m\u001b[0m\u001b[0;34m\u001b[0m\u001b[0m\n\u001b[1;32m     13\u001b[0m         \u001b[0moptimizer\u001b[0m\u001b[0;34m.\u001b[0m\u001b[0mstep\u001b[0m\u001b[0;34m(\u001b[0m\u001b[0;34m)\u001b[0m\u001b[0;34m\u001b[0m\u001b[0;34m\u001b[0m\u001b[0m\n",
            "\u001b[0;32m~/anaconda3/envs/torch/lib/python3.8/site-packages/torch/tensor.py\u001b[0m in \u001b[0;36mbackward\u001b[0;34m(self, gradient, retain_graph, create_graph, inputs)\u001b[0m\n\u001b[1;32m    243\u001b[0m                 \u001b[0mcreate_graph\u001b[0m\u001b[0;34m=\u001b[0m\u001b[0mcreate_graph\u001b[0m\u001b[0;34m,\u001b[0m\u001b[0;34m\u001b[0m\u001b[0;34m\u001b[0m\u001b[0m\n\u001b[1;32m    244\u001b[0m                 inputs=inputs)\n\u001b[0;32m--> 245\u001b[0;31m         \u001b[0mtorch\u001b[0m\u001b[0;34m.\u001b[0m\u001b[0mautograd\u001b[0m\u001b[0;34m.\u001b[0m\u001b[0mbackward\u001b[0m\u001b[0;34m(\u001b[0m\u001b[0mself\u001b[0m\u001b[0;34m,\u001b[0m \u001b[0mgradient\u001b[0m\u001b[0;34m,\u001b[0m \u001b[0mretain_graph\u001b[0m\u001b[0;34m,\u001b[0m \u001b[0mcreate_graph\u001b[0m\u001b[0;34m,\u001b[0m \u001b[0minputs\u001b[0m\u001b[0;34m=\u001b[0m\u001b[0minputs\u001b[0m\u001b[0;34m)\u001b[0m\u001b[0;34m\u001b[0m\u001b[0;34m\u001b[0m\u001b[0m\n\u001b[0m\u001b[1;32m    246\u001b[0m \u001b[0;34m\u001b[0m\u001b[0m\n\u001b[1;32m    247\u001b[0m     \u001b[0;32mdef\u001b[0m \u001b[0mregister_hook\u001b[0m\u001b[0;34m(\u001b[0m\u001b[0mself\u001b[0m\u001b[0;34m,\u001b[0m \u001b[0mhook\u001b[0m\u001b[0;34m)\u001b[0m\u001b[0;34m:\u001b[0m\u001b[0;34m\u001b[0m\u001b[0;34m\u001b[0m\u001b[0m\n",
            "\u001b[0;32m~/anaconda3/envs/torch/lib/python3.8/site-packages/torch/autograd/__init__.py\u001b[0m in \u001b[0;36mbackward\u001b[0;34m(tensors, grad_tensors, retain_graph, create_graph, grad_variables, inputs)\u001b[0m\n\u001b[1;32m    143\u001b[0m         \u001b[0mretain_graph\u001b[0m \u001b[0;34m=\u001b[0m \u001b[0mcreate_graph\u001b[0m\u001b[0;34m\u001b[0m\u001b[0;34m\u001b[0m\u001b[0m\n\u001b[1;32m    144\u001b[0m \u001b[0;34m\u001b[0m\u001b[0m\n\u001b[0;32m--> 145\u001b[0;31m     Variable._execution_engine.run_backward(\n\u001b[0m\u001b[1;32m    146\u001b[0m         \u001b[0mtensors\u001b[0m\u001b[0;34m,\u001b[0m \u001b[0mgrad_tensors_\u001b[0m\u001b[0;34m,\u001b[0m \u001b[0mretain_graph\u001b[0m\u001b[0;34m,\u001b[0m \u001b[0mcreate_graph\u001b[0m\u001b[0;34m,\u001b[0m \u001b[0minputs\u001b[0m\u001b[0;34m,\u001b[0m\u001b[0;34m\u001b[0m\u001b[0;34m\u001b[0m\u001b[0m\n\u001b[1;32m    147\u001b[0m         allow_unreachable=True, accumulate_grad=True)  # allow_unreachable flag\n",
            "\u001b[0;31mKeyboardInterrupt\u001b[0m: "
          ]
        }
      ]
    },
    {
      "source": [
        "1. calculate weight based on confusion of valid\n",
        "    - remove logit of fake labels?\n",
        "    - argmax or confidence?\n",
        "2. different weight on label and pseudo label depend on confidence\n",
        "    - High confidence: less on labeled, more on pseudo label"
      ],
      "cell_type": "markdown",
      "metadata": {}
    },
    {
      "cell_type": "code",
      "execution_count": 19,
      "metadata": {},
      "outputs": [],
      "source": [
        "torch.cuda.empty_cache()"
      ]
    },
    {
      "cell_type": "code",
      "execution_count": 20,
      "metadata": {},
      "outputs": [
        {
          "output_type": "execute_result",
          "data": {
            "text/plain": [
              "<AxesSubplot:>"
            ]
          },
          "metadata": {},
          "execution_count": 20
        },
        {
          "output_type": "display_data",
          "data": {
            "text/plain": "<Figure size 432x288 with 2 Axes>",
            "image/svg+xml": "<?xml version=\"1.0\" encoding=\"utf-8\" standalone=\"no\"?>\n<!DOCTYPE svg PUBLIC \"-//W3C//DTD SVG 1.1//EN\"\n  \"http://www.w3.org/Graphics/SVG/1.1/DTD/svg11.dtd\">\n<!-- Created with matplotlib (https://matplotlib.org/) -->\n<svg height=\"248.518125pt\" version=\"1.1\" viewBox=\"0 0 352.617625 248.518125\" width=\"352.617625pt\" xmlns=\"http://www.w3.org/2000/svg\" xmlns:xlink=\"http://www.w3.org/1999/xlink\">\n <metadata>\n  <rdf:RDF xmlns:cc=\"http://creativecommons.org/ns#\" xmlns:dc=\"http://purl.org/dc/elements/1.1/\" xmlns:rdf=\"http://www.w3.org/1999/02/22-rdf-syntax-ns#\">\n   <cc:Work>\n    <dc:type rdf:resource=\"http://purl.org/dc/dcmitype/StillImage\"/>\n    <dc:date>2021-04-07T00:14:58.153159</dc:date>\n    <dc:format>image/svg+xml</dc:format>\n    <dc:creator>\n     <cc:Agent>\n      <dc:title>Matplotlib v3.3.4, https://matplotlib.org/</dc:title>\n     </cc:Agent>\n    </dc:creator>\n   </cc:Work>\n  </rdf:RDF>\n </metadata>\n <defs>\n  <style type=\"text/css\">*{stroke-linecap:butt;stroke-linejoin:round;}</style>\n </defs>\n <g id=\"figure_1\">\n  <g id=\"patch_1\">\n   <path d=\"M -0 248.518125 \nL 352.617625 248.518125 \nL 352.617625 0 \nL -0 0 \nz\n\" style=\"fill:none;\"/>\n  </g>\n  <g id=\"axes_1\">\n   <g id=\"patch_2\">\n    <path d=\"M 23.878125 224.64 \nL 291.718125 224.64 \nL 291.718125 7.2 \nL 23.878125 7.2 \nz\n\" style=\"fill:#ffffff;\"/>\n   </g>\n   <g id=\"QuadMesh_1\">\n    <path clip-path=\"url(#p2df2f45837)\" d=\"M 23.878125 7.2 \nL 48.227216 7.2 \nL 48.227216 26.967273 \nL 23.878125 26.967273 \nL 23.878125 7.2 \n\" style=\"fill:#faebdd;\"/>\n    <path clip-path=\"url(#p2df2f45837)\" d=\"M 48.227216 7.2 \nL 72.576307 7.2 \nL 72.576307 26.967273 \nL 48.227216 26.967273 \nL 48.227216 7.2 \n\" style=\"fill:#03051a;\"/>\n    <path clip-path=\"url(#p2df2f45837)\" d=\"M 72.576307 7.2 \nL 96.925398 7.2 \nL 96.925398 26.967273 \nL 72.576307 26.967273 \nL 72.576307 7.2 \n\" style=\"fill:#5e1f52;\"/>\n    <path clip-path=\"url(#p2df2f45837)\" d=\"M 96.925398 7.2 \nL 121.274489 7.2 \nL 121.274489 26.967273 \nL 96.925398 26.967273 \nL 96.925398 7.2 \n\" style=\"fill:#681f55;\"/>\n    <path clip-path=\"url(#p2df2f45837)\" d=\"M 121.274489 7.2 \nL 145.62358 7.2 \nL 145.62358 26.967273 \nL 121.274489 26.967273 \nL 121.274489 7.2 \n\" style=\"fill:#921c5b;\"/>\n    <path clip-path=\"url(#p2df2f45837)\" d=\"M 145.62358 7.2 \nL 169.97267 7.2 \nL 169.97267 26.967273 \nL 145.62358 26.967273 \nL 145.62358 7.2 \n\" style=\"fill:#601f52;\"/>\n    <path clip-path=\"url(#p2df2f45837)\" d=\"M 169.97267 7.2 \nL 194.321761 7.2 \nL 194.321761 26.967273 \nL 169.97267 26.967273 \nL 169.97267 7.2 \n\" style=\"fill:#5b1e51;\"/>\n    <path clip-path=\"url(#p2df2f45837)\" d=\"M 194.321761 7.2 \nL 218.670852 7.2 \nL 218.670852 26.967273 \nL 194.321761 26.967273 \nL 194.321761 7.2 \n\" style=\"fill:#3d1a42;\"/>\n    <path clip-path=\"url(#p2df2f45837)\" d=\"M 218.670852 7.2 \nL 243.019943 7.2 \nL 243.019943 26.967273 \nL 218.670852 26.967273 \nL 218.670852 7.2 \n\" style=\"fill:#541e4e;\"/>\n    <path clip-path=\"url(#p2df2f45837)\" d=\"M 243.019943 7.2 \nL 267.369034 7.2 \nL 267.369034 26.967273 \nL 243.019943 26.967273 \nL 243.019943 7.2 \n\" style=\"fill:#7d1f5a;\"/>\n    <path clip-path=\"url(#p2df2f45837)\" d=\"M 267.369034 7.2 \nL 291.718125 7.2 \nL 291.718125 26.967273 \nL 267.369034 26.967273 \nL 267.369034 7.2 \n\" style=\"fill:#03051a;\"/>\n    <path clip-path=\"url(#p2df2f45837)\" d=\"M 23.878125 26.967273 \nL 48.227216 26.967273 \nL 48.227216 46.734545 \nL 23.878125 46.734545 \nL 23.878125 26.967273 \n\" style=\"fill:#faebdd;\"/>\n    <path clip-path=\"url(#p2df2f45837)\" d=\"M 48.227216 26.967273 \nL 72.576307 26.967273 \nL 72.576307 46.734545 \nL 48.227216 46.734545 \nL 48.227216 26.967273 \n\" style=\"fill:#03051a;\"/>\n    <path clip-path=\"url(#p2df2f45837)\" d=\"M 72.576307 26.967273 \nL 96.925398 26.967273 \nL 96.925398 46.734545 \nL 72.576307 46.734545 \nL 72.576307 26.967273 \n\" style=\"fill:#5e1f52;\"/>\n    <path clip-path=\"url(#p2df2f45837)\" d=\"M 96.925398 26.967273 \nL 121.274489 26.967273 \nL 121.274489 46.734545 \nL 96.925398 46.734545 \nL 96.925398 26.967273 \n\" style=\"fill:#681f55;\"/>\n    <path clip-path=\"url(#p2df2f45837)\" d=\"M 121.274489 26.967273 \nL 145.62358 26.967273 \nL 145.62358 46.734545 \nL 121.274489 46.734545 \nL 121.274489 26.967273 \n\" style=\"fill:#921c5b;\"/>\n    <path clip-path=\"url(#p2df2f45837)\" d=\"M 145.62358 26.967273 \nL 169.97267 26.967273 \nL 169.97267 46.734545 \nL 145.62358 46.734545 \nL 145.62358 26.967273 \n\" style=\"fill:#601f52;\"/>\n    <path clip-path=\"url(#p2df2f45837)\" d=\"M 169.97267 26.967273 \nL 194.321761 26.967273 \nL 194.321761 46.734545 \nL 169.97267 46.734545 \nL 169.97267 26.967273 \n\" style=\"fill:#5b1e51;\"/>\n    <path clip-path=\"url(#p2df2f45837)\" d=\"M 194.321761 26.967273 \nL 218.670852 26.967273 \nL 218.670852 46.734545 \nL 194.321761 46.734545 \nL 194.321761 26.967273 \n\" style=\"fill:#3d1a42;\"/>\n    <path clip-path=\"url(#p2df2f45837)\" d=\"M 218.670852 26.967273 \nL 243.019943 26.967273 \nL 243.019943 46.734545 \nL 218.670852 46.734545 \nL 218.670852 26.967273 \n\" style=\"fill:#541e4e;\"/>\n    <path clip-path=\"url(#p2df2f45837)\" d=\"M 243.019943 26.967273 \nL 267.369034 26.967273 \nL 267.369034 46.734545 \nL 243.019943 46.734545 \nL 243.019943 26.967273 \n\" style=\"fill:#7d1f5a;\"/>\n    <path clip-path=\"url(#p2df2f45837)\" d=\"M 267.369034 26.967273 \nL 291.718125 26.967273 \nL 291.718125 46.734545 \nL 267.369034 46.734545 \nL 267.369034 26.967273 \n\" style=\"fill:#03051a;\"/>\n    <path clip-path=\"url(#p2df2f45837)\" d=\"M 23.878125 46.734545 \nL 48.227216 46.734545 \nL 48.227216 66.501818 \nL 23.878125 66.501818 \nL 23.878125 46.734545 \n\" style=\"fill:#faebdd;\"/>\n    <path clip-path=\"url(#p2df2f45837)\" d=\"M 48.227216 46.734545 \nL 72.576307 46.734545 \nL 72.576307 66.501818 \nL 48.227216 66.501818 \nL 48.227216 46.734545 \n\" style=\"fill:#03051a;\"/>\n    <path clip-path=\"url(#p2df2f45837)\" d=\"M 72.576307 46.734545 \nL 96.925398 46.734545 \nL 96.925398 66.501818 \nL 72.576307 66.501818 \nL 72.576307 46.734545 \n\" style=\"fill:#5e1f52;\"/>\n    <path clip-path=\"url(#p2df2f45837)\" d=\"M 96.925398 46.734545 \nL 121.274489 46.734545 \nL 121.274489 66.501818 \nL 96.925398 66.501818 \nL 96.925398 46.734545 \n\" style=\"fill:#681f55;\"/>\n    <path clip-path=\"url(#p2df2f45837)\" d=\"M 121.274489 46.734545 \nL 145.62358 46.734545 \nL 145.62358 66.501818 \nL 121.274489 66.501818 \nL 121.274489 46.734545 \n\" style=\"fill:#921c5b;\"/>\n    <path clip-path=\"url(#p2df2f45837)\" d=\"M 145.62358 46.734545 \nL 169.97267 46.734545 \nL 169.97267 66.501818 \nL 145.62358 66.501818 \nL 145.62358 46.734545 \n\" style=\"fill:#601f52;\"/>\n    <path clip-path=\"url(#p2df2f45837)\" d=\"M 169.97267 46.734545 \nL 194.321761 46.734545 \nL 194.321761 66.501818 \nL 169.97267 66.501818 \nL 169.97267 46.734545 \n\" style=\"fill:#5b1e51;\"/>\n    <path clip-path=\"url(#p2df2f45837)\" d=\"M 194.321761 46.734545 \nL 218.670852 46.734545 \nL 218.670852 66.501818 \nL 194.321761 66.501818 \nL 194.321761 46.734545 \n\" style=\"fill:#3d1a42;\"/>\n    <path clip-path=\"url(#p2df2f45837)\" d=\"M 218.670852 46.734545 \nL 243.019943 46.734545 \nL 243.019943 66.501818 \nL 218.670852 66.501818 \nL 218.670852 46.734545 \n\" style=\"fill:#541e4e;\"/>\n    <path clip-path=\"url(#p2df2f45837)\" d=\"M 243.019943 46.734545 \nL 267.369034 46.734545 \nL 267.369034 66.501818 \nL 243.019943 66.501818 \nL 243.019943 46.734545 \n\" style=\"fill:#7d1f5a;\"/>\n    <path clip-path=\"url(#p2df2f45837)\" d=\"M 267.369034 46.734545 \nL 291.718125 46.734545 \nL 291.718125 66.501818 \nL 267.369034 66.501818 \nL 267.369034 46.734545 \n\" style=\"fill:#03051a;\"/>\n    <path clip-path=\"url(#p2df2f45837)\" d=\"M 23.878125 66.501818 \nL 48.227216 66.501818 \nL 48.227216 86.269091 \nL 23.878125 86.269091 \nL 23.878125 66.501818 \n\" style=\"fill:#faebdd;\"/>\n    <path clip-path=\"url(#p2df2f45837)\" d=\"M 48.227216 66.501818 \nL 72.576307 66.501818 \nL 72.576307 86.269091 \nL 48.227216 86.269091 \nL 48.227216 66.501818 \n\" style=\"fill:#03051a;\"/>\n    <path clip-path=\"url(#p2df2f45837)\" d=\"M 72.576307 66.501818 \nL 96.925398 66.501818 \nL 96.925398 86.269091 \nL 72.576307 86.269091 \nL 72.576307 66.501818 \n\" style=\"fill:#5e1f52;\"/>\n    <path clip-path=\"url(#p2df2f45837)\" d=\"M 96.925398 66.501818 \nL 121.274489 66.501818 \nL 121.274489 86.269091 \nL 96.925398 86.269091 \nL 96.925398 66.501818 \n\" style=\"fill:#681f55;\"/>\n    <path clip-path=\"url(#p2df2f45837)\" d=\"M 121.274489 66.501818 \nL 145.62358 66.501818 \nL 145.62358 86.269091 \nL 121.274489 86.269091 \nL 121.274489 66.501818 \n\" style=\"fill:#921c5b;\"/>\n    <path clip-path=\"url(#p2df2f45837)\" d=\"M 145.62358 66.501818 \nL 169.97267 66.501818 \nL 169.97267 86.269091 \nL 145.62358 86.269091 \nL 145.62358 66.501818 \n\" style=\"fill:#601f52;\"/>\n    <path clip-path=\"url(#p2df2f45837)\" d=\"M 169.97267 66.501818 \nL 194.321761 66.501818 \nL 194.321761 86.269091 \nL 169.97267 86.269091 \nL 169.97267 66.501818 \n\" style=\"fill:#5b1e51;\"/>\n    <path clip-path=\"url(#p2df2f45837)\" d=\"M 194.321761 66.501818 \nL 218.670852 66.501818 \nL 218.670852 86.269091 \nL 194.321761 86.269091 \nL 194.321761 66.501818 \n\" style=\"fill:#3d1a42;\"/>\n    <path clip-path=\"url(#p2df2f45837)\" d=\"M 218.670852 66.501818 \nL 243.019943 66.501818 \nL 243.019943 86.269091 \nL 218.670852 86.269091 \nL 218.670852 66.501818 \n\" style=\"fill:#541e4e;\"/>\n    <path clip-path=\"url(#p2df2f45837)\" d=\"M 243.019943 66.501818 \nL 267.369034 66.501818 \nL 267.369034 86.269091 \nL 243.019943 86.269091 \nL 243.019943 66.501818 \n\" style=\"fill:#7d1f5a;\"/>\n    <path clip-path=\"url(#p2df2f45837)\" d=\"M 267.369034 66.501818 \nL 291.718125 66.501818 \nL 291.718125 86.269091 \nL 267.369034 86.269091 \nL 267.369034 66.501818 \n\" style=\"fill:#03051a;\"/>\n    <path clip-path=\"url(#p2df2f45837)\" d=\"M 23.878125 86.269091 \nL 48.227216 86.269091 \nL 48.227216 106.036364 \nL 23.878125 106.036364 \nL 23.878125 86.269091 \n\" style=\"fill:#faebdd;\"/>\n    <path clip-path=\"url(#p2df2f45837)\" d=\"M 48.227216 86.269091 \nL 72.576307 86.269091 \nL 72.576307 106.036364 \nL 48.227216 106.036364 \nL 48.227216 86.269091 \n\" style=\"fill:#03051a;\"/>\n    <path clip-path=\"url(#p2df2f45837)\" d=\"M 72.576307 86.269091 \nL 96.925398 86.269091 \nL 96.925398 106.036364 \nL 72.576307 106.036364 \nL 72.576307 86.269091 \n\" style=\"fill:#5e1f52;\"/>\n    <path clip-path=\"url(#p2df2f45837)\" d=\"M 96.925398 86.269091 \nL 121.274489 86.269091 \nL 121.274489 106.036364 \nL 96.925398 106.036364 \nL 96.925398 86.269091 \n\" style=\"fill:#681f55;\"/>\n    <path clip-path=\"url(#p2df2f45837)\" d=\"M 121.274489 86.269091 \nL 145.62358 86.269091 \nL 145.62358 106.036364 \nL 121.274489 106.036364 \nL 121.274489 86.269091 \n\" style=\"fill:#921c5b;\"/>\n    <path clip-path=\"url(#p2df2f45837)\" d=\"M 145.62358 86.269091 \nL 169.97267 86.269091 \nL 169.97267 106.036364 \nL 145.62358 106.036364 \nL 145.62358 86.269091 \n\" style=\"fill:#601f52;\"/>\n    <path clip-path=\"url(#p2df2f45837)\" d=\"M 169.97267 86.269091 \nL 194.321761 86.269091 \nL 194.321761 106.036364 \nL 169.97267 106.036364 \nL 169.97267 86.269091 \n\" style=\"fill:#5b1e51;\"/>\n    <path clip-path=\"url(#p2df2f45837)\" d=\"M 194.321761 86.269091 \nL 218.670852 86.269091 \nL 218.670852 106.036364 \nL 194.321761 106.036364 \nL 194.321761 86.269091 \n\" style=\"fill:#3d1a42;\"/>\n    <path clip-path=\"url(#p2df2f45837)\" d=\"M 218.670852 86.269091 \nL 243.019943 86.269091 \nL 243.019943 106.036364 \nL 218.670852 106.036364 \nL 218.670852 86.269091 \n\" style=\"fill:#541e4e;\"/>\n    <path clip-path=\"url(#p2df2f45837)\" d=\"M 243.019943 86.269091 \nL 267.369034 86.269091 \nL 267.369034 106.036364 \nL 243.019943 106.036364 \nL 243.019943 86.269091 \n\" style=\"fill:#7d1f5a;\"/>\n    <path clip-path=\"url(#p2df2f45837)\" d=\"M 267.369034 86.269091 \nL 291.718125 86.269091 \nL 291.718125 106.036364 \nL 267.369034 106.036364 \nL 267.369034 86.269091 \n\" style=\"fill:#03051a;\"/>\n    <path clip-path=\"url(#p2df2f45837)\" d=\"M 23.878125 106.036364 \nL 48.227216 106.036364 \nL 48.227216 125.803636 \nL 23.878125 125.803636 \nL 23.878125 106.036364 \n\" style=\"fill:#faebdd;\"/>\n    <path clip-path=\"url(#p2df2f45837)\" d=\"M 48.227216 106.036364 \nL 72.576307 106.036364 \nL 72.576307 125.803636 \nL 48.227216 125.803636 \nL 48.227216 106.036364 \n\" style=\"fill:#03051a;\"/>\n    <path clip-path=\"url(#p2df2f45837)\" d=\"M 72.576307 106.036364 \nL 96.925398 106.036364 \nL 96.925398 125.803636 \nL 72.576307 125.803636 \nL 72.576307 106.036364 \n\" style=\"fill:#5e1f52;\"/>\n    <path clip-path=\"url(#p2df2f45837)\" d=\"M 96.925398 106.036364 \nL 121.274489 106.036364 \nL 121.274489 125.803636 \nL 96.925398 125.803636 \nL 96.925398 106.036364 \n\" style=\"fill:#681f55;\"/>\n    <path clip-path=\"url(#p2df2f45837)\" d=\"M 121.274489 106.036364 \nL 145.62358 106.036364 \nL 145.62358 125.803636 \nL 121.274489 125.803636 \nL 121.274489 106.036364 \n\" style=\"fill:#921c5b;\"/>\n    <path clip-path=\"url(#p2df2f45837)\" d=\"M 145.62358 106.036364 \nL 169.97267 106.036364 \nL 169.97267 125.803636 \nL 145.62358 125.803636 \nL 145.62358 106.036364 \n\" style=\"fill:#601f52;\"/>\n    <path clip-path=\"url(#p2df2f45837)\" d=\"M 169.97267 106.036364 \nL 194.321761 106.036364 \nL 194.321761 125.803636 \nL 169.97267 125.803636 \nL 169.97267 106.036364 \n\" style=\"fill:#5b1e51;\"/>\n    <path clip-path=\"url(#p2df2f45837)\" d=\"M 194.321761 106.036364 \nL 218.670852 106.036364 \nL 218.670852 125.803636 \nL 194.321761 125.803636 \nL 194.321761 106.036364 \n\" style=\"fill:#3d1a42;\"/>\n    <path clip-path=\"url(#p2df2f45837)\" d=\"M 218.670852 106.036364 \nL 243.019943 106.036364 \nL 243.019943 125.803636 \nL 218.670852 125.803636 \nL 218.670852 106.036364 \n\" style=\"fill:#541e4e;\"/>\n    <path clip-path=\"url(#p2df2f45837)\" d=\"M 243.019943 106.036364 \nL 267.369034 106.036364 \nL 267.369034 125.803636 \nL 243.019943 125.803636 \nL 243.019943 106.036364 \n\" style=\"fill:#7d1f5a;\"/>\n    <path clip-path=\"url(#p2df2f45837)\" d=\"M 267.369034 106.036364 \nL 291.718125 106.036364 \nL 291.718125 125.803636 \nL 267.369034 125.803636 \nL 267.369034 106.036364 \n\" style=\"fill:#03051a;\"/>\n    <path clip-path=\"url(#p2df2f45837)\" d=\"M 23.878125 125.803636 \nL 48.227216 125.803636 \nL 48.227216 145.570909 \nL 23.878125 145.570909 \nL 23.878125 125.803636 \n\" style=\"fill:#faebdd;\"/>\n    <path clip-path=\"url(#p2df2f45837)\" d=\"M 48.227216 125.803636 \nL 72.576307 125.803636 \nL 72.576307 145.570909 \nL 48.227216 145.570909 \nL 48.227216 125.803636 \n\" style=\"fill:#03051a;\"/>\n    <path clip-path=\"url(#p2df2f45837)\" d=\"M 72.576307 125.803636 \nL 96.925398 125.803636 \nL 96.925398 145.570909 \nL 72.576307 145.570909 \nL 72.576307 125.803636 \n\" style=\"fill:#5e1f52;\"/>\n    <path clip-path=\"url(#p2df2f45837)\" d=\"M 96.925398 125.803636 \nL 121.274489 125.803636 \nL 121.274489 145.570909 \nL 96.925398 145.570909 \nL 96.925398 125.803636 \n\" style=\"fill:#681f55;\"/>\n    <path clip-path=\"url(#p2df2f45837)\" d=\"M 121.274489 125.803636 \nL 145.62358 125.803636 \nL 145.62358 145.570909 \nL 121.274489 145.570909 \nL 121.274489 125.803636 \n\" style=\"fill:#921c5b;\"/>\n    <path clip-path=\"url(#p2df2f45837)\" d=\"M 145.62358 125.803636 \nL 169.97267 125.803636 \nL 169.97267 145.570909 \nL 145.62358 145.570909 \nL 145.62358 125.803636 \n\" style=\"fill:#601f52;\"/>\n    <path clip-path=\"url(#p2df2f45837)\" d=\"M 169.97267 125.803636 \nL 194.321761 125.803636 \nL 194.321761 145.570909 \nL 169.97267 145.570909 \nL 169.97267 125.803636 \n\" style=\"fill:#5b1e51;\"/>\n    <path clip-path=\"url(#p2df2f45837)\" d=\"M 194.321761 125.803636 \nL 218.670852 125.803636 \nL 218.670852 145.570909 \nL 194.321761 145.570909 \nL 194.321761 125.803636 \n\" style=\"fill:#3d1a42;\"/>\n    <path clip-path=\"url(#p2df2f45837)\" d=\"M 218.670852 125.803636 \nL 243.019943 125.803636 \nL 243.019943 145.570909 \nL 218.670852 145.570909 \nL 218.670852 125.803636 \n\" style=\"fill:#541e4e;\"/>\n    <path clip-path=\"url(#p2df2f45837)\" d=\"M 243.019943 125.803636 \nL 267.369034 125.803636 \nL 267.369034 145.570909 \nL 243.019943 145.570909 \nL 243.019943 125.803636 \n\" style=\"fill:#7d1f5a;\"/>\n    <path clip-path=\"url(#p2df2f45837)\" d=\"M 267.369034 125.803636 \nL 291.718125 125.803636 \nL 291.718125 145.570909 \nL 267.369034 145.570909 \nL 267.369034 125.803636 \n\" style=\"fill:#03051a;\"/>\n    <path clip-path=\"url(#p2df2f45837)\" d=\"M 23.878125 145.570909 \nL 48.227216 145.570909 \nL 48.227216 165.338182 \nL 23.878125 165.338182 \nL 23.878125 145.570909 \n\" style=\"fill:#faebdd;\"/>\n    <path clip-path=\"url(#p2df2f45837)\" d=\"M 48.227216 145.570909 \nL 72.576307 145.570909 \nL 72.576307 165.338182 \nL 48.227216 165.338182 \nL 48.227216 145.570909 \n\" style=\"fill:#03051a;\"/>\n    <path clip-path=\"url(#p2df2f45837)\" d=\"M 72.576307 145.570909 \nL 96.925398 145.570909 \nL 96.925398 165.338182 \nL 72.576307 165.338182 \nL 72.576307 145.570909 \n\" style=\"fill:#5e1f52;\"/>\n    <path clip-path=\"url(#p2df2f45837)\" d=\"M 96.925398 145.570909 \nL 121.274489 145.570909 \nL 121.274489 165.338182 \nL 96.925398 165.338182 \nL 96.925398 145.570909 \n\" style=\"fill:#681f55;\"/>\n    <path clip-path=\"url(#p2df2f45837)\" d=\"M 121.274489 145.570909 \nL 145.62358 145.570909 \nL 145.62358 165.338182 \nL 121.274489 165.338182 \nL 121.274489 145.570909 \n\" style=\"fill:#921c5b;\"/>\n    <path clip-path=\"url(#p2df2f45837)\" d=\"M 145.62358 145.570909 \nL 169.97267 145.570909 \nL 169.97267 165.338182 \nL 145.62358 165.338182 \nL 145.62358 145.570909 \n\" style=\"fill:#601f52;\"/>\n    <path clip-path=\"url(#p2df2f45837)\" d=\"M 169.97267 145.570909 \nL 194.321761 145.570909 \nL 194.321761 165.338182 \nL 169.97267 165.338182 \nL 169.97267 145.570909 \n\" style=\"fill:#5b1e51;\"/>\n    <path clip-path=\"url(#p2df2f45837)\" d=\"M 194.321761 145.570909 \nL 218.670852 145.570909 \nL 218.670852 165.338182 \nL 194.321761 165.338182 \nL 194.321761 145.570909 \n\" style=\"fill:#3d1a42;\"/>\n    <path clip-path=\"url(#p2df2f45837)\" d=\"M 218.670852 145.570909 \nL 243.019943 145.570909 \nL 243.019943 165.338182 \nL 218.670852 165.338182 \nL 218.670852 145.570909 \n\" style=\"fill:#541e4e;\"/>\n    <path clip-path=\"url(#p2df2f45837)\" d=\"M 243.019943 145.570909 \nL 267.369034 145.570909 \nL 267.369034 165.338182 \nL 243.019943 165.338182 \nL 243.019943 145.570909 \n\" style=\"fill:#7d1f5a;\"/>\n    <path clip-path=\"url(#p2df2f45837)\" d=\"M 267.369034 145.570909 \nL 291.718125 145.570909 \nL 291.718125 165.338182 \nL 267.369034 165.338182 \nL 267.369034 145.570909 \n\" style=\"fill:#03051a;\"/>\n    <path clip-path=\"url(#p2df2f45837)\" d=\"M 23.878125 165.338182 \nL 48.227216 165.338182 \nL 48.227216 185.105455 \nL 23.878125 185.105455 \nL 23.878125 165.338182 \n\" style=\"fill:#faebdd;\"/>\n    <path clip-path=\"url(#p2df2f45837)\" d=\"M 48.227216 165.338182 \nL 72.576307 165.338182 \nL 72.576307 185.105455 \nL 48.227216 185.105455 \nL 48.227216 165.338182 \n\" style=\"fill:#03051a;\"/>\n    <path clip-path=\"url(#p2df2f45837)\" d=\"M 72.576307 165.338182 \nL 96.925398 165.338182 \nL 96.925398 185.105455 \nL 72.576307 185.105455 \nL 72.576307 165.338182 \n\" style=\"fill:#5e1f52;\"/>\n    <path clip-path=\"url(#p2df2f45837)\" d=\"M 96.925398 165.338182 \nL 121.274489 165.338182 \nL 121.274489 185.105455 \nL 96.925398 185.105455 \nL 96.925398 165.338182 \n\" style=\"fill:#681f55;\"/>\n    <path clip-path=\"url(#p2df2f45837)\" d=\"M 121.274489 165.338182 \nL 145.62358 165.338182 \nL 145.62358 185.105455 \nL 121.274489 185.105455 \nL 121.274489 165.338182 \n\" style=\"fill:#921c5b;\"/>\n    <path clip-path=\"url(#p2df2f45837)\" d=\"M 145.62358 165.338182 \nL 169.97267 165.338182 \nL 169.97267 185.105455 \nL 145.62358 185.105455 \nL 145.62358 165.338182 \n\" style=\"fill:#601f52;\"/>\n    <path clip-path=\"url(#p2df2f45837)\" d=\"M 169.97267 165.338182 \nL 194.321761 165.338182 \nL 194.321761 185.105455 \nL 169.97267 185.105455 \nL 169.97267 165.338182 \n\" style=\"fill:#5b1e51;\"/>\n    <path clip-path=\"url(#p2df2f45837)\" d=\"M 194.321761 165.338182 \nL 218.670852 165.338182 \nL 218.670852 185.105455 \nL 194.321761 185.105455 \nL 194.321761 165.338182 \n\" style=\"fill:#3d1a42;\"/>\n    <path clip-path=\"url(#p2df2f45837)\" d=\"M 218.670852 165.338182 \nL 243.019943 165.338182 \nL 243.019943 185.105455 \nL 218.670852 185.105455 \nL 218.670852 165.338182 \n\" style=\"fill:#541e4e;\"/>\n    <path clip-path=\"url(#p2df2f45837)\" d=\"M 243.019943 165.338182 \nL 267.369034 165.338182 \nL 267.369034 185.105455 \nL 243.019943 185.105455 \nL 243.019943 165.338182 \n\" style=\"fill:#7d1f5a;\"/>\n    <path clip-path=\"url(#p2df2f45837)\" d=\"M 267.369034 165.338182 \nL 291.718125 165.338182 \nL 291.718125 185.105455 \nL 267.369034 185.105455 \nL 267.369034 165.338182 \n\" style=\"fill:#03051a;\"/>\n    <path clip-path=\"url(#p2df2f45837)\" d=\"M 23.878125 185.105455 \nL 48.227216 185.105455 \nL 48.227216 204.872727 \nL 23.878125 204.872727 \nL 23.878125 185.105455 \n\" style=\"fill:#faebdd;\"/>\n    <path clip-path=\"url(#p2df2f45837)\" d=\"M 48.227216 185.105455 \nL 72.576307 185.105455 \nL 72.576307 204.872727 \nL 48.227216 204.872727 \nL 48.227216 185.105455 \n\" style=\"fill:#03051a;\"/>\n    <path clip-path=\"url(#p2df2f45837)\" d=\"M 72.576307 185.105455 \nL 96.925398 185.105455 \nL 96.925398 204.872727 \nL 72.576307 204.872727 \nL 72.576307 185.105455 \n\" style=\"fill:#5e1f52;\"/>\n    <path clip-path=\"url(#p2df2f45837)\" d=\"M 96.925398 185.105455 \nL 121.274489 185.105455 \nL 121.274489 204.872727 \nL 96.925398 204.872727 \nL 96.925398 185.105455 \n\" style=\"fill:#681f55;\"/>\n    <path clip-path=\"url(#p2df2f45837)\" d=\"M 121.274489 185.105455 \nL 145.62358 185.105455 \nL 145.62358 204.872727 \nL 121.274489 204.872727 \nL 121.274489 185.105455 \n\" style=\"fill:#921c5b;\"/>\n    <path clip-path=\"url(#p2df2f45837)\" d=\"M 145.62358 185.105455 \nL 169.97267 185.105455 \nL 169.97267 204.872727 \nL 145.62358 204.872727 \nL 145.62358 185.105455 \n\" style=\"fill:#601f52;\"/>\n    <path clip-path=\"url(#p2df2f45837)\" d=\"M 169.97267 185.105455 \nL 194.321761 185.105455 \nL 194.321761 204.872727 \nL 169.97267 204.872727 \nL 169.97267 185.105455 \n\" style=\"fill:#5b1e51;\"/>\n    <path clip-path=\"url(#p2df2f45837)\" d=\"M 194.321761 185.105455 \nL 218.670852 185.105455 \nL 218.670852 204.872727 \nL 194.321761 204.872727 \nL 194.321761 185.105455 \n\" style=\"fill:#3d1a42;\"/>\n    <path clip-path=\"url(#p2df2f45837)\" d=\"M 218.670852 185.105455 \nL 243.019943 185.105455 \nL 243.019943 204.872727 \nL 218.670852 204.872727 \nL 218.670852 185.105455 \n\" style=\"fill:#541e4e;\"/>\n    <path clip-path=\"url(#p2df2f45837)\" d=\"M 243.019943 185.105455 \nL 267.369034 185.105455 \nL 267.369034 204.872727 \nL 243.019943 204.872727 \nL 243.019943 185.105455 \n\" style=\"fill:#7d1f5a;\"/>\n    <path clip-path=\"url(#p2df2f45837)\" d=\"M 267.369034 185.105455 \nL 291.718125 185.105455 \nL 291.718125 204.872727 \nL 267.369034 204.872727 \nL 267.369034 185.105455 \n\" style=\"fill:#03051a;\"/>\n    <path clip-path=\"url(#p2df2f45837)\" d=\"M 23.878125 204.872727 \nL 48.227216 204.872727 \nL 48.227216 224.64 \nL 23.878125 224.64 \nL 23.878125 204.872727 \n\" style=\"fill:#faebdd;\"/>\n    <path clip-path=\"url(#p2df2f45837)\" d=\"M 48.227216 204.872727 \nL 72.576307 204.872727 \nL 72.576307 224.64 \nL 48.227216 224.64 \nL 48.227216 204.872727 \n\" style=\"fill:#03051a;\"/>\n    <path clip-path=\"url(#p2df2f45837)\" d=\"M 72.576307 204.872727 \nL 96.925398 204.872727 \nL 96.925398 224.64 \nL 72.576307 224.64 \nL 72.576307 204.872727 \n\" style=\"fill:#5e1f52;\"/>\n    <path clip-path=\"url(#p2df2f45837)\" d=\"M 96.925398 204.872727 \nL 121.274489 204.872727 \nL 121.274489 224.64 \nL 96.925398 224.64 \nL 96.925398 204.872727 \n\" style=\"fill:#681f55;\"/>\n    <path clip-path=\"url(#p2df2f45837)\" d=\"M 121.274489 204.872727 \nL 145.62358 204.872727 \nL 145.62358 224.64 \nL 121.274489 224.64 \nL 121.274489 204.872727 \n\" style=\"fill:#921c5b;\"/>\n    <path clip-path=\"url(#p2df2f45837)\" d=\"M 145.62358 204.872727 \nL 169.97267 204.872727 \nL 169.97267 224.64 \nL 145.62358 224.64 \nL 145.62358 204.872727 \n\" style=\"fill:#601f52;\"/>\n    <path clip-path=\"url(#p2df2f45837)\" d=\"M 169.97267 204.872727 \nL 194.321761 204.872727 \nL 194.321761 224.64 \nL 169.97267 224.64 \nL 169.97267 204.872727 \n\" style=\"fill:#5b1e51;\"/>\n    <path clip-path=\"url(#p2df2f45837)\" d=\"M 194.321761 204.872727 \nL 218.670852 204.872727 \nL 218.670852 224.64 \nL 194.321761 224.64 \nL 194.321761 204.872727 \n\" style=\"fill:#3d1a42;\"/>\n    <path clip-path=\"url(#p2df2f45837)\" d=\"M 218.670852 204.872727 \nL 243.019943 204.872727 \nL 243.019943 224.64 \nL 218.670852 224.64 \nL 218.670852 204.872727 \n\" style=\"fill:#541e4e;\"/>\n    <path clip-path=\"url(#p2df2f45837)\" d=\"M 243.019943 204.872727 \nL 267.369034 204.872727 \nL 267.369034 224.64 \nL 243.019943 224.64 \nL 243.019943 204.872727 \n\" style=\"fill:#7d1f5a;\"/>\n    <path clip-path=\"url(#p2df2f45837)\" d=\"M 267.369034 204.872727 \nL 291.718125 204.872727 \nL 291.718125 224.64 \nL 267.369034 224.64 \nL 267.369034 204.872727 \n\" style=\"fill:#03051a;\"/>\n   </g>\n   <g id=\"matplotlib.axis_1\">\n    <g id=\"xtick_1\">\n     <g id=\"line2d_1\">\n      <defs>\n       <path d=\"M 0 0 \nL 0 3.5 \n\" id=\"mf759a673c3\" style=\"stroke:#000000;stroke-width:0.8;\"/>\n      </defs>\n      <g>\n       <use style=\"stroke:#000000;stroke-width:0.8;\" x=\"36.05267\" xlink:href=\"#mf759a673c3\" y=\"224.64\"/>\n      </g>\n     </g>\n     <g id=\"text_1\">\n      <!-- 0 -->\n      <g transform=\"translate(32.87142 239.238437)scale(0.1 -0.1)\">\n       <defs>\n        <path d=\"M 31.78125 66.40625 \nQ 24.171875 66.40625 20.328125 58.90625 \nQ 16.5 51.421875 16.5 36.375 \nQ 16.5 21.390625 20.328125 13.890625 \nQ 24.171875 6.390625 31.78125 6.390625 \nQ 39.453125 6.390625 43.28125 13.890625 \nQ 47.125 21.390625 47.125 36.375 \nQ 47.125 51.421875 43.28125 58.90625 \nQ 39.453125 66.40625 31.78125 66.40625 \nz\nM 31.78125 74.21875 \nQ 44.046875 74.21875 50.515625 64.515625 \nQ 56.984375 54.828125 56.984375 36.375 \nQ 56.984375 17.96875 50.515625 8.265625 \nQ 44.046875 -1.421875 31.78125 -1.421875 \nQ 19.53125 -1.421875 13.0625 8.265625 \nQ 6.59375 17.96875 6.59375 36.375 \nQ 6.59375 54.828125 13.0625 64.515625 \nQ 19.53125 74.21875 31.78125 74.21875 \nz\n\" id=\"DejaVuSans-48\"/>\n       </defs>\n       <use xlink:href=\"#DejaVuSans-48\"/>\n      </g>\n     </g>\n    </g>\n    <g id=\"xtick_2\">\n     <g id=\"line2d_2\">\n      <g>\n       <use style=\"stroke:#000000;stroke-width:0.8;\" x=\"60.401761\" xlink:href=\"#mf759a673c3\" y=\"224.64\"/>\n      </g>\n     </g>\n     <g id=\"text_2\">\n      <!-- 1 -->\n      <g transform=\"translate(57.220511 239.238437)scale(0.1 -0.1)\">\n       <defs>\n        <path d=\"M 12.40625 8.296875 \nL 28.515625 8.296875 \nL 28.515625 63.921875 \nL 10.984375 60.40625 \nL 10.984375 69.390625 \nL 28.421875 72.90625 \nL 38.28125 72.90625 \nL 38.28125 8.296875 \nL 54.390625 8.296875 \nL 54.390625 0 \nL 12.40625 0 \nz\n\" id=\"DejaVuSans-49\"/>\n       </defs>\n       <use xlink:href=\"#DejaVuSans-49\"/>\n      </g>\n     </g>\n    </g>\n    <g id=\"xtick_3\">\n     <g id=\"line2d_3\">\n      <g>\n       <use style=\"stroke:#000000;stroke-width:0.8;\" x=\"84.750852\" xlink:href=\"#mf759a673c3\" y=\"224.64\"/>\n      </g>\n     </g>\n     <g id=\"text_3\">\n      <!-- 2 -->\n      <g transform=\"translate(81.569602 239.238437)scale(0.1 -0.1)\">\n       <defs>\n        <path d=\"M 19.1875 8.296875 \nL 53.609375 8.296875 \nL 53.609375 0 \nL 7.328125 0 \nL 7.328125 8.296875 \nQ 12.9375 14.109375 22.625 23.890625 \nQ 32.328125 33.6875 34.8125 36.53125 \nQ 39.546875 41.84375 41.421875 45.53125 \nQ 43.3125 49.21875 43.3125 52.78125 \nQ 43.3125 58.59375 39.234375 62.25 \nQ 35.15625 65.921875 28.609375 65.921875 \nQ 23.96875 65.921875 18.8125 64.3125 \nQ 13.671875 62.703125 7.8125 59.421875 \nL 7.8125 69.390625 \nQ 13.765625 71.78125 18.9375 73 \nQ 24.125 74.21875 28.421875 74.21875 \nQ 39.75 74.21875 46.484375 68.546875 \nQ 53.21875 62.890625 53.21875 53.421875 \nQ 53.21875 48.921875 51.53125 44.890625 \nQ 49.859375 40.875 45.40625 35.40625 \nQ 44.1875 33.984375 37.640625 27.21875 \nQ 31.109375 20.453125 19.1875 8.296875 \nz\n\" id=\"DejaVuSans-50\"/>\n       </defs>\n       <use xlink:href=\"#DejaVuSans-50\"/>\n      </g>\n     </g>\n    </g>\n    <g id=\"xtick_4\">\n     <g id=\"line2d_4\">\n      <g>\n       <use style=\"stroke:#000000;stroke-width:0.8;\" x=\"109.099943\" xlink:href=\"#mf759a673c3\" y=\"224.64\"/>\n      </g>\n     </g>\n     <g id=\"text_4\">\n      <!-- 3 -->\n      <g transform=\"translate(105.918693 239.238437)scale(0.1 -0.1)\">\n       <defs>\n        <path d=\"M 40.578125 39.3125 \nQ 47.65625 37.796875 51.625 33 \nQ 55.609375 28.21875 55.609375 21.1875 \nQ 55.609375 10.40625 48.1875 4.484375 \nQ 40.765625 -1.421875 27.09375 -1.421875 \nQ 22.515625 -1.421875 17.65625 -0.515625 \nQ 12.796875 0.390625 7.625 2.203125 \nL 7.625 11.71875 \nQ 11.71875 9.328125 16.59375 8.109375 \nQ 21.484375 6.890625 26.8125 6.890625 \nQ 36.078125 6.890625 40.9375 10.546875 \nQ 45.796875 14.203125 45.796875 21.1875 \nQ 45.796875 27.640625 41.28125 31.265625 \nQ 36.765625 34.90625 28.71875 34.90625 \nL 20.21875 34.90625 \nL 20.21875 43.015625 \nL 29.109375 43.015625 \nQ 36.375 43.015625 40.234375 45.921875 \nQ 44.09375 48.828125 44.09375 54.296875 \nQ 44.09375 59.90625 40.109375 62.90625 \nQ 36.140625 65.921875 28.71875 65.921875 \nQ 24.65625 65.921875 20.015625 65.03125 \nQ 15.375 64.15625 9.8125 62.3125 \nL 9.8125 71.09375 \nQ 15.4375 72.65625 20.34375 73.4375 \nQ 25.25 74.21875 29.59375 74.21875 \nQ 40.828125 74.21875 47.359375 69.109375 \nQ 53.90625 64.015625 53.90625 55.328125 \nQ 53.90625 49.265625 50.4375 45.09375 \nQ 46.96875 40.921875 40.578125 39.3125 \nz\n\" id=\"DejaVuSans-51\"/>\n       </defs>\n       <use xlink:href=\"#DejaVuSans-51\"/>\n      </g>\n     </g>\n    </g>\n    <g id=\"xtick_5\">\n     <g id=\"line2d_5\">\n      <g>\n       <use style=\"stroke:#000000;stroke-width:0.8;\" x=\"133.449034\" xlink:href=\"#mf759a673c3\" y=\"224.64\"/>\n      </g>\n     </g>\n     <g id=\"text_5\">\n      <!-- 4 -->\n      <g transform=\"translate(130.267784 239.238437)scale(0.1 -0.1)\">\n       <defs>\n        <path d=\"M 37.796875 64.3125 \nL 12.890625 25.390625 \nL 37.796875 25.390625 \nz\nM 35.203125 72.90625 \nL 47.609375 72.90625 \nL 47.609375 25.390625 \nL 58.015625 25.390625 \nL 58.015625 17.1875 \nL 47.609375 17.1875 \nL 47.609375 0 \nL 37.796875 0 \nL 37.796875 17.1875 \nL 4.890625 17.1875 \nL 4.890625 26.703125 \nz\n\" id=\"DejaVuSans-52\"/>\n       </defs>\n       <use xlink:href=\"#DejaVuSans-52\"/>\n      </g>\n     </g>\n    </g>\n    <g id=\"xtick_6\">\n     <g id=\"line2d_6\">\n      <g>\n       <use style=\"stroke:#000000;stroke-width:0.8;\" x=\"157.798125\" xlink:href=\"#mf759a673c3\" y=\"224.64\"/>\n      </g>\n     </g>\n     <g id=\"text_6\">\n      <!-- 5 -->\n      <g transform=\"translate(154.616875 239.238437)scale(0.1 -0.1)\">\n       <defs>\n        <path d=\"M 10.796875 72.90625 \nL 49.515625 72.90625 \nL 49.515625 64.59375 \nL 19.828125 64.59375 \nL 19.828125 46.734375 \nQ 21.96875 47.46875 24.109375 47.828125 \nQ 26.265625 48.1875 28.421875 48.1875 \nQ 40.625 48.1875 47.75 41.5 \nQ 54.890625 34.8125 54.890625 23.390625 \nQ 54.890625 11.625 47.5625 5.09375 \nQ 40.234375 -1.421875 26.90625 -1.421875 \nQ 22.3125 -1.421875 17.546875 -0.640625 \nQ 12.796875 0.140625 7.71875 1.703125 \nL 7.71875 11.625 \nQ 12.109375 9.234375 16.796875 8.0625 \nQ 21.484375 6.890625 26.703125 6.890625 \nQ 35.15625 6.890625 40.078125 11.328125 \nQ 45.015625 15.765625 45.015625 23.390625 \nQ 45.015625 31 40.078125 35.4375 \nQ 35.15625 39.890625 26.703125 39.890625 \nQ 22.75 39.890625 18.8125 39.015625 \nQ 14.890625 38.140625 10.796875 36.28125 \nz\n\" id=\"DejaVuSans-53\"/>\n       </defs>\n       <use xlink:href=\"#DejaVuSans-53\"/>\n      </g>\n     </g>\n    </g>\n    <g id=\"xtick_7\">\n     <g id=\"line2d_7\">\n      <g>\n       <use style=\"stroke:#000000;stroke-width:0.8;\" x=\"182.147216\" xlink:href=\"#mf759a673c3\" y=\"224.64\"/>\n      </g>\n     </g>\n     <g id=\"text_7\">\n      <!-- 6 -->\n      <g transform=\"translate(178.965966 239.238437)scale(0.1 -0.1)\">\n       <defs>\n        <path d=\"M 33.015625 40.375 \nQ 26.375 40.375 22.484375 35.828125 \nQ 18.609375 31.296875 18.609375 23.390625 \nQ 18.609375 15.53125 22.484375 10.953125 \nQ 26.375 6.390625 33.015625 6.390625 \nQ 39.65625 6.390625 43.53125 10.953125 \nQ 47.40625 15.53125 47.40625 23.390625 \nQ 47.40625 31.296875 43.53125 35.828125 \nQ 39.65625 40.375 33.015625 40.375 \nz\nM 52.59375 71.296875 \nL 52.59375 62.3125 \nQ 48.875 64.0625 45.09375 64.984375 \nQ 41.3125 65.921875 37.59375 65.921875 \nQ 27.828125 65.921875 22.671875 59.328125 \nQ 17.53125 52.734375 16.796875 39.40625 \nQ 19.671875 43.65625 24.015625 45.921875 \nQ 28.375 48.1875 33.59375 48.1875 \nQ 44.578125 48.1875 50.953125 41.515625 \nQ 57.328125 34.859375 57.328125 23.390625 \nQ 57.328125 12.15625 50.6875 5.359375 \nQ 44.046875 -1.421875 33.015625 -1.421875 \nQ 20.359375 -1.421875 13.671875 8.265625 \nQ 6.984375 17.96875 6.984375 36.375 \nQ 6.984375 53.65625 15.1875 63.9375 \nQ 23.390625 74.21875 37.203125 74.21875 \nQ 40.921875 74.21875 44.703125 73.484375 \nQ 48.484375 72.75 52.59375 71.296875 \nz\n\" id=\"DejaVuSans-54\"/>\n       </defs>\n       <use xlink:href=\"#DejaVuSans-54\"/>\n      </g>\n     </g>\n    </g>\n    <g id=\"xtick_8\">\n     <g id=\"line2d_8\">\n      <g>\n       <use style=\"stroke:#000000;stroke-width:0.8;\" x=\"206.496307\" xlink:href=\"#mf759a673c3\" y=\"224.64\"/>\n      </g>\n     </g>\n     <g id=\"text_8\">\n      <!-- 7 -->\n      <g transform=\"translate(203.315057 239.238437)scale(0.1 -0.1)\">\n       <defs>\n        <path d=\"M 8.203125 72.90625 \nL 55.078125 72.90625 \nL 55.078125 68.703125 \nL 28.609375 0 \nL 18.3125 0 \nL 43.21875 64.59375 \nL 8.203125 64.59375 \nz\n\" id=\"DejaVuSans-55\"/>\n       </defs>\n       <use xlink:href=\"#DejaVuSans-55\"/>\n      </g>\n     </g>\n    </g>\n    <g id=\"xtick_9\">\n     <g id=\"line2d_9\">\n      <g>\n       <use style=\"stroke:#000000;stroke-width:0.8;\" x=\"230.845398\" xlink:href=\"#mf759a673c3\" y=\"224.64\"/>\n      </g>\n     </g>\n     <g id=\"text_9\">\n      <!-- 8 -->\n      <g transform=\"translate(227.664148 239.238437)scale(0.1 -0.1)\">\n       <defs>\n        <path d=\"M 31.78125 34.625 \nQ 24.75 34.625 20.71875 30.859375 \nQ 16.703125 27.09375 16.703125 20.515625 \nQ 16.703125 13.921875 20.71875 10.15625 \nQ 24.75 6.390625 31.78125 6.390625 \nQ 38.8125 6.390625 42.859375 10.171875 \nQ 46.921875 13.96875 46.921875 20.515625 \nQ 46.921875 27.09375 42.890625 30.859375 \nQ 38.875 34.625 31.78125 34.625 \nz\nM 21.921875 38.8125 \nQ 15.578125 40.375 12.03125 44.71875 \nQ 8.5 49.078125 8.5 55.328125 \nQ 8.5 64.0625 14.71875 69.140625 \nQ 20.953125 74.21875 31.78125 74.21875 \nQ 42.671875 74.21875 48.875 69.140625 \nQ 55.078125 64.0625 55.078125 55.328125 \nQ 55.078125 49.078125 51.53125 44.71875 \nQ 48 40.375 41.703125 38.8125 \nQ 48.828125 37.15625 52.796875 32.3125 \nQ 56.78125 27.484375 56.78125 20.515625 \nQ 56.78125 9.90625 50.3125 4.234375 \nQ 43.84375 -1.421875 31.78125 -1.421875 \nQ 19.734375 -1.421875 13.25 4.234375 \nQ 6.78125 9.90625 6.78125 20.515625 \nQ 6.78125 27.484375 10.78125 32.3125 \nQ 14.796875 37.15625 21.921875 38.8125 \nz\nM 18.3125 54.390625 \nQ 18.3125 48.734375 21.84375 45.5625 \nQ 25.390625 42.390625 31.78125 42.390625 \nQ 38.140625 42.390625 41.71875 45.5625 \nQ 45.3125 48.734375 45.3125 54.390625 \nQ 45.3125 60.0625 41.71875 63.234375 \nQ 38.140625 66.40625 31.78125 66.40625 \nQ 25.390625 66.40625 21.84375 63.234375 \nQ 18.3125 60.0625 18.3125 54.390625 \nz\n\" id=\"DejaVuSans-56\"/>\n       </defs>\n       <use xlink:href=\"#DejaVuSans-56\"/>\n      </g>\n     </g>\n    </g>\n    <g id=\"xtick_10\">\n     <g id=\"line2d_10\">\n      <g>\n       <use style=\"stroke:#000000;stroke-width:0.8;\" x=\"255.194489\" xlink:href=\"#mf759a673c3\" y=\"224.64\"/>\n      </g>\n     </g>\n     <g id=\"text_10\">\n      <!-- 9 -->\n      <g transform=\"translate(252.013239 239.238437)scale(0.1 -0.1)\">\n       <defs>\n        <path d=\"M 10.984375 1.515625 \nL 10.984375 10.5 \nQ 14.703125 8.734375 18.5 7.8125 \nQ 22.3125 6.890625 25.984375 6.890625 \nQ 35.75 6.890625 40.890625 13.453125 \nQ 46.046875 20.015625 46.78125 33.40625 \nQ 43.953125 29.203125 39.59375 26.953125 \nQ 35.25 24.703125 29.984375 24.703125 \nQ 19.046875 24.703125 12.671875 31.3125 \nQ 6.296875 37.9375 6.296875 49.421875 \nQ 6.296875 60.640625 12.9375 67.421875 \nQ 19.578125 74.21875 30.609375 74.21875 \nQ 43.265625 74.21875 49.921875 64.515625 \nQ 56.59375 54.828125 56.59375 36.375 \nQ 56.59375 19.140625 48.40625 8.859375 \nQ 40.234375 -1.421875 26.421875 -1.421875 \nQ 22.703125 -1.421875 18.890625 -0.6875 \nQ 15.09375 0.046875 10.984375 1.515625 \nz\nM 30.609375 32.421875 \nQ 37.25 32.421875 41.125 36.953125 \nQ 45.015625 41.5 45.015625 49.421875 \nQ 45.015625 57.28125 41.125 61.84375 \nQ 37.25 66.40625 30.609375 66.40625 \nQ 23.96875 66.40625 20.09375 61.84375 \nQ 16.21875 57.28125 16.21875 49.421875 \nQ 16.21875 41.5 20.09375 36.953125 \nQ 23.96875 32.421875 30.609375 32.421875 \nz\n\" id=\"DejaVuSans-57\"/>\n       </defs>\n       <use xlink:href=\"#DejaVuSans-57\"/>\n      </g>\n     </g>\n    </g>\n    <g id=\"xtick_11\">\n     <g id=\"line2d_11\">\n      <g>\n       <use style=\"stroke:#000000;stroke-width:0.8;\" x=\"279.54358\" xlink:href=\"#mf759a673c3\" y=\"224.64\"/>\n      </g>\n     </g>\n     <g id=\"text_11\">\n      <!-- 10 -->\n      <g transform=\"translate(273.18108 239.238437)scale(0.1 -0.1)\">\n       <use xlink:href=\"#DejaVuSans-49\"/>\n       <use x=\"63.623047\" xlink:href=\"#DejaVuSans-48\"/>\n      </g>\n     </g>\n    </g>\n   </g>\n   <g id=\"matplotlib.axis_2\">\n    <g id=\"ytick_1\">\n     <g id=\"line2d_12\">\n      <defs>\n       <path d=\"M 0 0 \nL -3.5 0 \n\" id=\"mfc62aec28d\" style=\"stroke:#000000;stroke-width:0.8;\"/>\n      </defs>\n      <g>\n       <use style=\"stroke:#000000;stroke-width:0.8;\" x=\"23.878125\" xlink:href=\"#mfc62aec28d\" y=\"17.083636\"/>\n      </g>\n     </g>\n     <g id=\"text_12\">\n      <!-- 0 -->\n      <g transform=\"translate(14.798438 19.646918)rotate(-90)scale(0.1 -0.1)\">\n       <use xlink:href=\"#DejaVuSans-48\"/>\n      </g>\n     </g>\n    </g>\n    <g id=\"ytick_2\">\n     <g id=\"line2d_13\">\n      <g>\n       <use style=\"stroke:#000000;stroke-width:0.8;\" x=\"23.878125\" xlink:href=\"#mfc62aec28d\" y=\"36.850909\"/>\n      </g>\n     </g>\n     <g id=\"text_13\">\n      <!-- 1 -->\n      <g transform=\"translate(14.798438 39.41419)rotate(-90)scale(0.1 -0.1)\">\n       <use xlink:href=\"#DejaVuSans-49\"/>\n      </g>\n     </g>\n    </g>\n    <g id=\"ytick_3\">\n     <g id=\"line2d_14\">\n      <g>\n       <use style=\"stroke:#000000;stroke-width:0.8;\" x=\"23.878125\" xlink:href=\"#mfc62aec28d\" y=\"56.618182\"/>\n      </g>\n     </g>\n     <g id=\"text_14\">\n      <!-- 2 -->\n      <g transform=\"translate(14.798438 59.181463)rotate(-90)scale(0.1 -0.1)\">\n       <use xlink:href=\"#DejaVuSans-50\"/>\n      </g>\n     </g>\n    </g>\n    <g id=\"ytick_4\">\n     <g id=\"line2d_15\">\n      <g>\n       <use style=\"stroke:#000000;stroke-width:0.8;\" x=\"23.878125\" xlink:href=\"#mfc62aec28d\" y=\"76.385455\"/>\n      </g>\n     </g>\n     <g id=\"text_15\">\n      <!-- 3 -->\n      <g transform=\"translate(14.798438 78.948736)rotate(-90)scale(0.1 -0.1)\">\n       <use xlink:href=\"#DejaVuSans-51\"/>\n      </g>\n     </g>\n    </g>\n    <g id=\"ytick_5\">\n     <g id=\"line2d_16\">\n      <g>\n       <use style=\"stroke:#000000;stroke-width:0.8;\" x=\"23.878125\" xlink:href=\"#mfc62aec28d\" y=\"96.152727\"/>\n      </g>\n     </g>\n     <g id=\"text_16\">\n      <!-- 4 -->\n      <g transform=\"translate(14.798438 98.716009)rotate(-90)scale(0.1 -0.1)\">\n       <use xlink:href=\"#DejaVuSans-52\"/>\n      </g>\n     </g>\n    </g>\n    <g id=\"ytick_6\">\n     <g id=\"line2d_17\">\n      <g>\n       <use style=\"stroke:#000000;stroke-width:0.8;\" x=\"23.878125\" xlink:href=\"#mfc62aec28d\" y=\"115.92\"/>\n      </g>\n     </g>\n     <g id=\"text_17\">\n      <!-- 5 -->\n      <g transform=\"translate(14.798438 118.483281)rotate(-90)scale(0.1 -0.1)\">\n       <use xlink:href=\"#DejaVuSans-53\"/>\n      </g>\n     </g>\n    </g>\n    <g id=\"ytick_7\">\n     <g id=\"line2d_18\">\n      <g>\n       <use style=\"stroke:#000000;stroke-width:0.8;\" x=\"23.878125\" xlink:href=\"#mfc62aec28d\" y=\"135.687273\"/>\n      </g>\n     </g>\n     <g id=\"text_18\">\n      <!-- 6 -->\n      <g transform=\"translate(14.798438 138.250554)rotate(-90)scale(0.1 -0.1)\">\n       <use xlink:href=\"#DejaVuSans-54\"/>\n      </g>\n     </g>\n    </g>\n    <g id=\"ytick_8\">\n     <g id=\"line2d_19\">\n      <g>\n       <use style=\"stroke:#000000;stroke-width:0.8;\" x=\"23.878125\" xlink:href=\"#mfc62aec28d\" y=\"155.454545\"/>\n      </g>\n     </g>\n     <g id=\"text_19\">\n      <!-- 7 -->\n      <g transform=\"translate(14.798438 158.017827)rotate(-90)scale(0.1 -0.1)\">\n       <use xlink:href=\"#DejaVuSans-55\"/>\n      </g>\n     </g>\n    </g>\n    <g id=\"ytick_9\">\n     <g id=\"line2d_20\">\n      <g>\n       <use style=\"stroke:#000000;stroke-width:0.8;\" x=\"23.878125\" xlink:href=\"#mfc62aec28d\" y=\"175.221818\"/>\n      </g>\n     </g>\n     <g id=\"text_20\">\n      <!-- 8 -->\n      <g transform=\"translate(14.798438 177.785099)rotate(-90)scale(0.1 -0.1)\">\n       <use xlink:href=\"#DejaVuSans-56\"/>\n      </g>\n     </g>\n    </g>\n    <g id=\"ytick_10\">\n     <g id=\"line2d_21\">\n      <g>\n       <use style=\"stroke:#000000;stroke-width:0.8;\" x=\"23.878125\" xlink:href=\"#mfc62aec28d\" y=\"194.989091\"/>\n      </g>\n     </g>\n     <g id=\"text_21\">\n      <!-- 9 -->\n      <g transform=\"translate(14.798438 197.552372)rotate(-90)scale(0.1 -0.1)\">\n       <use xlink:href=\"#DejaVuSans-57\"/>\n      </g>\n     </g>\n    </g>\n    <g id=\"ytick_11\">\n     <g id=\"line2d_22\">\n      <g>\n       <use style=\"stroke:#000000;stroke-width:0.8;\" x=\"23.878125\" xlink:href=\"#mfc62aec28d\" y=\"214.756364\"/>\n      </g>\n     </g>\n     <g id=\"text_22\">\n      <!-- 10 -->\n      <g transform=\"translate(14.798438 223.682145)rotate(-90)scale(0.1 -0.1)\">\n       <use xlink:href=\"#DejaVuSans-49\"/>\n       <use x=\"63.623047\" xlink:href=\"#DejaVuSans-48\"/>\n      </g>\n     </g>\n    </g>\n   </g>\n   <g id=\"text_23\">\n    <!-- 3.2e+02 -->\n    <g style=\"fill:#262626;\" transform=\"translate(14.472202 19.843011)scale(0.1 -0.1)\">\n     <defs>\n      <path d=\"M 10.6875 12.40625 \nL 21 12.40625 \nL 21 0 \nL 10.6875 0 \nz\n\" id=\"DejaVuSans-46\"/>\n      <path d=\"M 56.203125 29.59375 \nL 56.203125 25.203125 \nL 14.890625 25.203125 \nQ 15.484375 15.921875 20.484375 11.0625 \nQ 25.484375 6.203125 34.421875 6.203125 \nQ 39.59375 6.203125 44.453125 7.46875 \nQ 49.3125 8.734375 54.109375 11.28125 \nL 54.109375 2.78125 \nQ 49.265625 0.734375 44.1875 -0.34375 \nQ 39.109375 -1.421875 33.890625 -1.421875 \nQ 20.796875 -1.421875 13.15625 6.1875 \nQ 5.515625 13.8125 5.515625 26.8125 \nQ 5.515625 40.234375 12.765625 48.109375 \nQ 20.015625 56 32.328125 56 \nQ 43.359375 56 49.78125 48.890625 \nQ 56.203125 41.796875 56.203125 29.59375 \nz\nM 47.21875 32.234375 \nQ 47.125 39.59375 43.09375 43.984375 \nQ 39.0625 48.390625 32.421875 48.390625 \nQ 24.90625 48.390625 20.390625 44.140625 \nQ 15.875 39.890625 15.1875 32.171875 \nz\n\" id=\"DejaVuSans-101\"/>\n      <path d=\"M 46 62.703125 \nL 46 35.5 \nL 73.1875 35.5 \nL 73.1875 27.203125 \nL 46 27.203125 \nL 46 0 \nL 37.796875 0 \nL 37.796875 27.203125 \nL 10.59375 27.203125 \nL 10.59375 35.5 \nL 37.796875 35.5 \nL 37.796875 62.703125 \nz\n\" id=\"DejaVuSans-43\"/>\n     </defs>\n     <use xlink:href=\"#DejaVuSans-51\"/>\n     <use x=\"63.623047\" xlink:href=\"#DejaVuSans-46\"/>\n     <use x=\"95.410156\" xlink:href=\"#DejaVuSans-50\"/>\n     <use x=\"159.033203\" xlink:href=\"#DejaVuSans-101\"/>\n     <use x=\"220.556641\" xlink:href=\"#DejaVuSans-43\"/>\n     <use x=\"304.345703\" xlink:href=\"#DejaVuSans-48\"/>\n     <use x=\"367.96875\" xlink:href=\"#DejaVuSans-50\"/>\n    </g>\n   </g>\n   <g id=\"text_24\">\n    <!-- 2.7e+02 -->\n    <g style=\"fill:#ffffff;\" transform=\"translate(38.821293 19.843011)scale(0.1 -0.1)\">\n     <use xlink:href=\"#DejaVuSans-50\"/>\n     <use x=\"63.623047\" xlink:href=\"#DejaVuSans-46\"/>\n     <use x=\"95.410156\" xlink:href=\"#DejaVuSans-55\"/>\n     <use x=\"159.033203\" xlink:href=\"#DejaVuSans-101\"/>\n     <use x=\"220.556641\" xlink:href=\"#DejaVuSans-43\"/>\n     <use x=\"304.345703\" xlink:href=\"#DejaVuSans-48\"/>\n     <use x=\"367.96875\" xlink:href=\"#DejaVuSans-50\"/>\n    </g>\n   </g>\n   <g id=\"text_25\">\n    <!-- 2.8e+02 -->\n    <g style=\"fill:#ffffff;\" transform=\"translate(63.170384 19.843011)scale(0.1 -0.1)\">\n     <use xlink:href=\"#DejaVuSans-50\"/>\n     <use x=\"63.623047\" xlink:href=\"#DejaVuSans-46\"/>\n     <use x=\"95.410156\" xlink:href=\"#DejaVuSans-56\"/>\n     <use x=\"159.033203\" xlink:href=\"#DejaVuSans-101\"/>\n     <use x=\"220.556641\" xlink:href=\"#DejaVuSans-43\"/>\n     <use x=\"304.345703\" xlink:href=\"#DejaVuSans-48\"/>\n     <use x=\"367.96875\" xlink:href=\"#DejaVuSans-50\"/>\n    </g>\n   </g>\n   <g id=\"text_26\">\n    <!-- 2.8e+02 -->\n    <g style=\"fill:#ffffff;\" transform=\"translate(87.519474 19.843011)scale(0.1 -0.1)\">\n     <use xlink:href=\"#DejaVuSans-50\"/>\n     <use x=\"63.623047\" xlink:href=\"#DejaVuSans-46\"/>\n     <use x=\"95.410156\" xlink:href=\"#DejaVuSans-56\"/>\n     <use x=\"159.033203\" xlink:href=\"#DejaVuSans-101\"/>\n     <use x=\"220.556641\" xlink:href=\"#DejaVuSans-43\"/>\n     <use x=\"304.345703\" xlink:href=\"#DejaVuSans-48\"/>\n     <use x=\"367.96875\" xlink:href=\"#DejaVuSans-50\"/>\n    </g>\n   </g>\n   <g id=\"text_27\">\n    <!-- 2.8e+02 -->\n    <g style=\"fill:#ffffff;\" transform=\"translate(111.868565 19.843011)scale(0.1 -0.1)\">\n     <use xlink:href=\"#DejaVuSans-50\"/>\n     <use x=\"63.623047\" xlink:href=\"#DejaVuSans-46\"/>\n     <use x=\"95.410156\" xlink:href=\"#DejaVuSans-56\"/>\n     <use x=\"159.033203\" xlink:href=\"#DejaVuSans-101\"/>\n     <use x=\"220.556641\" xlink:href=\"#DejaVuSans-43\"/>\n     <use x=\"304.345703\" xlink:href=\"#DejaVuSans-48\"/>\n     <use x=\"367.96875\" xlink:href=\"#DejaVuSans-50\"/>\n    </g>\n   </g>\n   <g id=\"text_28\">\n    <!-- 2.8e+02 -->\n    <g style=\"fill:#ffffff;\" transform=\"translate(136.217656 19.843011)scale(0.1 -0.1)\">\n     <use xlink:href=\"#DejaVuSans-50\"/>\n     <use x=\"63.623047\" xlink:href=\"#DejaVuSans-46\"/>\n     <use x=\"95.410156\" xlink:href=\"#DejaVuSans-56\"/>\n     <use x=\"159.033203\" xlink:href=\"#DejaVuSans-101\"/>\n     <use x=\"220.556641\" xlink:href=\"#DejaVuSans-43\"/>\n     <use x=\"304.345703\" xlink:href=\"#DejaVuSans-48\"/>\n     <use x=\"367.96875\" xlink:href=\"#DejaVuSans-50\"/>\n    </g>\n   </g>\n   <g id=\"text_29\">\n    <!-- 2.8e+02 -->\n    <g style=\"fill:#ffffff;\" transform=\"translate(160.566747 19.843011)scale(0.1 -0.1)\">\n     <use xlink:href=\"#DejaVuSans-50\"/>\n     <use x=\"63.623047\" xlink:href=\"#DejaVuSans-46\"/>\n     <use x=\"95.410156\" xlink:href=\"#DejaVuSans-56\"/>\n     <use x=\"159.033203\" xlink:href=\"#DejaVuSans-101\"/>\n     <use x=\"220.556641\" xlink:href=\"#DejaVuSans-43\"/>\n     <use x=\"304.345703\" xlink:href=\"#DejaVuSans-48\"/>\n     <use x=\"367.96875\" xlink:href=\"#DejaVuSans-50\"/>\n    </g>\n   </g>\n   <g id=\"text_30\">\n    <!-- 2.7e+02 -->\n    <g style=\"fill:#ffffff;\" transform=\"translate(184.915838 19.843011)scale(0.1 -0.1)\">\n     <use xlink:href=\"#DejaVuSans-50\"/>\n     <use x=\"63.623047\" xlink:href=\"#DejaVuSans-46\"/>\n     <use x=\"95.410156\" xlink:href=\"#DejaVuSans-55\"/>\n     <use x=\"159.033203\" xlink:href=\"#DejaVuSans-101\"/>\n     <use x=\"220.556641\" xlink:href=\"#DejaVuSans-43\"/>\n     <use x=\"304.345703\" xlink:href=\"#DejaVuSans-48\"/>\n     <use x=\"367.96875\" xlink:href=\"#DejaVuSans-50\"/>\n    </g>\n   </g>\n   <g id=\"text_31\">\n    <!-- 2.8e+02 -->\n    <g style=\"fill:#ffffff;\" transform=\"translate(209.264929 19.843011)scale(0.1 -0.1)\">\n     <use xlink:href=\"#DejaVuSans-50\"/>\n     <use x=\"63.623047\" xlink:href=\"#DejaVuSans-46\"/>\n     <use x=\"95.410156\" xlink:href=\"#DejaVuSans-56\"/>\n     <use x=\"159.033203\" xlink:href=\"#DejaVuSans-101\"/>\n     <use x=\"220.556641\" xlink:href=\"#DejaVuSans-43\"/>\n     <use x=\"304.345703\" xlink:href=\"#DejaVuSans-48\"/>\n     <use x=\"367.96875\" xlink:href=\"#DejaVuSans-50\"/>\n    </g>\n   </g>\n   <g id=\"text_32\">\n    <!-- 2.8e+02 -->\n    <g style=\"fill:#ffffff;\" transform=\"translate(233.61402 19.843011)scale(0.1 -0.1)\">\n     <use xlink:href=\"#DejaVuSans-50\"/>\n     <use x=\"63.623047\" xlink:href=\"#DejaVuSans-46\"/>\n     <use x=\"95.410156\" xlink:href=\"#DejaVuSans-56\"/>\n     <use x=\"159.033203\" xlink:href=\"#DejaVuSans-101\"/>\n     <use x=\"220.556641\" xlink:href=\"#DejaVuSans-43\"/>\n     <use x=\"304.345703\" xlink:href=\"#DejaVuSans-48\"/>\n     <use x=\"367.96875\" xlink:href=\"#DejaVuSans-50\"/>\n    </g>\n   </g>\n   <g id=\"text_33\">\n    <!-- 2.7e+02 -->\n    <g style=\"fill:#ffffff;\" transform=\"translate(257.963111 19.843011)scale(0.1 -0.1)\">\n     <use xlink:href=\"#DejaVuSans-50\"/>\n     <use x=\"63.623047\" xlink:href=\"#DejaVuSans-46\"/>\n     <use x=\"95.410156\" xlink:href=\"#DejaVuSans-55\"/>\n     <use x=\"159.033203\" xlink:href=\"#DejaVuSans-101\"/>\n     <use x=\"220.556641\" xlink:href=\"#DejaVuSans-43\"/>\n     <use x=\"304.345703\" xlink:href=\"#DejaVuSans-48\"/>\n     <use x=\"367.96875\" xlink:href=\"#DejaVuSans-50\"/>\n    </g>\n   </g>\n   <g id=\"text_34\">\n    <!-- 3.2e+02 -->\n    <g style=\"fill:#262626;\" transform=\"translate(14.472202 39.610284)scale(0.1 -0.1)\">\n     <use xlink:href=\"#DejaVuSans-51\"/>\n     <use x=\"63.623047\" xlink:href=\"#DejaVuSans-46\"/>\n     <use x=\"95.410156\" xlink:href=\"#DejaVuSans-50\"/>\n     <use x=\"159.033203\" xlink:href=\"#DejaVuSans-101\"/>\n     <use x=\"220.556641\" xlink:href=\"#DejaVuSans-43\"/>\n     <use x=\"304.345703\" xlink:href=\"#DejaVuSans-48\"/>\n     <use x=\"367.96875\" xlink:href=\"#DejaVuSans-50\"/>\n    </g>\n   </g>\n   <g id=\"text_35\">\n    <!-- 2.7e+02 -->\n    <g style=\"fill:#ffffff;\" transform=\"translate(38.821293 39.610284)scale(0.1 -0.1)\">\n     <use xlink:href=\"#DejaVuSans-50\"/>\n     <use x=\"63.623047\" xlink:href=\"#DejaVuSans-46\"/>\n     <use x=\"95.410156\" xlink:href=\"#DejaVuSans-55\"/>\n     <use x=\"159.033203\" xlink:href=\"#DejaVuSans-101\"/>\n     <use x=\"220.556641\" xlink:href=\"#DejaVuSans-43\"/>\n     <use x=\"304.345703\" xlink:href=\"#DejaVuSans-48\"/>\n     <use x=\"367.96875\" xlink:href=\"#DejaVuSans-50\"/>\n    </g>\n   </g>\n   <g id=\"text_36\">\n    <!-- 2.8e+02 -->\n    <g style=\"fill:#ffffff;\" transform=\"translate(63.170384 39.610284)scale(0.1 -0.1)\">\n     <use xlink:href=\"#DejaVuSans-50\"/>\n     <use x=\"63.623047\" xlink:href=\"#DejaVuSans-46\"/>\n     <use x=\"95.410156\" xlink:href=\"#DejaVuSans-56\"/>\n     <use x=\"159.033203\" xlink:href=\"#DejaVuSans-101\"/>\n     <use x=\"220.556641\" xlink:href=\"#DejaVuSans-43\"/>\n     <use x=\"304.345703\" xlink:href=\"#DejaVuSans-48\"/>\n     <use x=\"367.96875\" xlink:href=\"#DejaVuSans-50\"/>\n    </g>\n   </g>\n   <g id=\"text_37\">\n    <!-- 2.8e+02 -->\n    <g style=\"fill:#ffffff;\" transform=\"translate(87.519474 39.610284)scale(0.1 -0.1)\">\n     <use xlink:href=\"#DejaVuSans-50\"/>\n     <use x=\"63.623047\" xlink:href=\"#DejaVuSans-46\"/>\n     <use x=\"95.410156\" xlink:href=\"#DejaVuSans-56\"/>\n     <use x=\"159.033203\" xlink:href=\"#DejaVuSans-101\"/>\n     <use x=\"220.556641\" xlink:href=\"#DejaVuSans-43\"/>\n     <use x=\"304.345703\" xlink:href=\"#DejaVuSans-48\"/>\n     <use x=\"367.96875\" xlink:href=\"#DejaVuSans-50\"/>\n    </g>\n   </g>\n   <g id=\"text_38\">\n    <!-- 2.8e+02 -->\n    <g style=\"fill:#ffffff;\" transform=\"translate(111.868565 39.610284)scale(0.1 -0.1)\">\n     <use xlink:href=\"#DejaVuSans-50\"/>\n     <use x=\"63.623047\" xlink:href=\"#DejaVuSans-46\"/>\n     <use x=\"95.410156\" xlink:href=\"#DejaVuSans-56\"/>\n     <use x=\"159.033203\" xlink:href=\"#DejaVuSans-101\"/>\n     <use x=\"220.556641\" xlink:href=\"#DejaVuSans-43\"/>\n     <use x=\"304.345703\" xlink:href=\"#DejaVuSans-48\"/>\n     <use x=\"367.96875\" xlink:href=\"#DejaVuSans-50\"/>\n    </g>\n   </g>\n   <g id=\"text_39\">\n    <!-- 2.8e+02 -->\n    <g style=\"fill:#ffffff;\" transform=\"translate(136.217656 39.610284)scale(0.1 -0.1)\">\n     <use xlink:href=\"#DejaVuSans-50\"/>\n     <use x=\"63.623047\" xlink:href=\"#DejaVuSans-46\"/>\n     <use x=\"95.410156\" xlink:href=\"#DejaVuSans-56\"/>\n     <use x=\"159.033203\" xlink:href=\"#DejaVuSans-101\"/>\n     <use x=\"220.556641\" xlink:href=\"#DejaVuSans-43\"/>\n     <use x=\"304.345703\" xlink:href=\"#DejaVuSans-48\"/>\n     <use x=\"367.96875\" xlink:href=\"#DejaVuSans-50\"/>\n    </g>\n   </g>\n   <g id=\"text_40\">\n    <!-- 2.8e+02 -->\n    <g style=\"fill:#ffffff;\" transform=\"translate(160.566747 39.610284)scale(0.1 -0.1)\">\n     <use xlink:href=\"#DejaVuSans-50\"/>\n     <use x=\"63.623047\" xlink:href=\"#DejaVuSans-46\"/>\n     <use x=\"95.410156\" xlink:href=\"#DejaVuSans-56\"/>\n     <use x=\"159.033203\" xlink:href=\"#DejaVuSans-101\"/>\n     <use x=\"220.556641\" xlink:href=\"#DejaVuSans-43\"/>\n     <use x=\"304.345703\" xlink:href=\"#DejaVuSans-48\"/>\n     <use x=\"367.96875\" xlink:href=\"#DejaVuSans-50\"/>\n    </g>\n   </g>\n   <g id=\"text_41\">\n    <!-- 2.7e+02 -->\n    <g style=\"fill:#ffffff;\" transform=\"translate(184.915838 39.610284)scale(0.1 -0.1)\">\n     <use xlink:href=\"#DejaVuSans-50\"/>\n     <use x=\"63.623047\" xlink:href=\"#DejaVuSans-46\"/>\n     <use x=\"95.410156\" xlink:href=\"#DejaVuSans-55\"/>\n     <use x=\"159.033203\" xlink:href=\"#DejaVuSans-101\"/>\n     <use x=\"220.556641\" xlink:href=\"#DejaVuSans-43\"/>\n     <use x=\"304.345703\" xlink:href=\"#DejaVuSans-48\"/>\n     <use x=\"367.96875\" xlink:href=\"#DejaVuSans-50\"/>\n    </g>\n   </g>\n   <g id=\"text_42\">\n    <!-- 2.8e+02 -->\n    <g style=\"fill:#ffffff;\" transform=\"translate(209.264929 39.610284)scale(0.1 -0.1)\">\n     <use xlink:href=\"#DejaVuSans-50\"/>\n     <use x=\"63.623047\" xlink:href=\"#DejaVuSans-46\"/>\n     <use x=\"95.410156\" xlink:href=\"#DejaVuSans-56\"/>\n     <use x=\"159.033203\" xlink:href=\"#DejaVuSans-101\"/>\n     <use x=\"220.556641\" xlink:href=\"#DejaVuSans-43\"/>\n     <use x=\"304.345703\" xlink:href=\"#DejaVuSans-48\"/>\n     <use x=\"367.96875\" xlink:href=\"#DejaVuSans-50\"/>\n    </g>\n   </g>\n   <g id=\"text_43\">\n    <!-- 2.8e+02 -->\n    <g style=\"fill:#ffffff;\" transform=\"translate(233.61402 39.610284)scale(0.1 -0.1)\">\n     <use xlink:href=\"#DejaVuSans-50\"/>\n     <use x=\"63.623047\" xlink:href=\"#DejaVuSans-46\"/>\n     <use x=\"95.410156\" xlink:href=\"#DejaVuSans-56\"/>\n     <use x=\"159.033203\" xlink:href=\"#DejaVuSans-101\"/>\n     <use x=\"220.556641\" xlink:href=\"#DejaVuSans-43\"/>\n     <use x=\"304.345703\" xlink:href=\"#DejaVuSans-48\"/>\n     <use x=\"367.96875\" xlink:href=\"#DejaVuSans-50\"/>\n    </g>\n   </g>\n   <g id=\"text_44\">\n    <!-- 2.7e+02 -->\n    <g style=\"fill:#ffffff;\" transform=\"translate(257.963111 39.610284)scale(0.1 -0.1)\">\n     <use xlink:href=\"#DejaVuSans-50\"/>\n     <use x=\"63.623047\" xlink:href=\"#DejaVuSans-46\"/>\n     <use x=\"95.410156\" xlink:href=\"#DejaVuSans-55\"/>\n     <use x=\"159.033203\" xlink:href=\"#DejaVuSans-101\"/>\n     <use x=\"220.556641\" xlink:href=\"#DejaVuSans-43\"/>\n     <use x=\"304.345703\" xlink:href=\"#DejaVuSans-48\"/>\n     <use x=\"367.96875\" xlink:href=\"#DejaVuSans-50\"/>\n    </g>\n   </g>\n   <g id=\"text_45\">\n    <!-- 3.2e+02 -->\n    <g style=\"fill:#262626;\" transform=\"translate(14.472202 59.377557)scale(0.1 -0.1)\">\n     <use xlink:href=\"#DejaVuSans-51\"/>\n     <use x=\"63.623047\" xlink:href=\"#DejaVuSans-46\"/>\n     <use x=\"95.410156\" xlink:href=\"#DejaVuSans-50\"/>\n     <use x=\"159.033203\" xlink:href=\"#DejaVuSans-101\"/>\n     <use x=\"220.556641\" xlink:href=\"#DejaVuSans-43\"/>\n     <use x=\"304.345703\" xlink:href=\"#DejaVuSans-48\"/>\n     <use x=\"367.96875\" xlink:href=\"#DejaVuSans-50\"/>\n    </g>\n   </g>\n   <g id=\"text_46\">\n    <!-- 2.7e+02 -->\n    <g style=\"fill:#ffffff;\" transform=\"translate(38.821293 59.377557)scale(0.1 -0.1)\">\n     <use xlink:href=\"#DejaVuSans-50\"/>\n     <use x=\"63.623047\" xlink:href=\"#DejaVuSans-46\"/>\n     <use x=\"95.410156\" xlink:href=\"#DejaVuSans-55\"/>\n     <use x=\"159.033203\" xlink:href=\"#DejaVuSans-101\"/>\n     <use x=\"220.556641\" xlink:href=\"#DejaVuSans-43\"/>\n     <use x=\"304.345703\" xlink:href=\"#DejaVuSans-48\"/>\n     <use x=\"367.96875\" xlink:href=\"#DejaVuSans-50\"/>\n    </g>\n   </g>\n   <g id=\"text_47\">\n    <!-- 2.8e+02 -->\n    <g style=\"fill:#ffffff;\" transform=\"translate(63.170384 59.377557)scale(0.1 -0.1)\">\n     <use xlink:href=\"#DejaVuSans-50\"/>\n     <use x=\"63.623047\" xlink:href=\"#DejaVuSans-46\"/>\n     <use x=\"95.410156\" xlink:href=\"#DejaVuSans-56\"/>\n     <use x=\"159.033203\" xlink:href=\"#DejaVuSans-101\"/>\n     <use x=\"220.556641\" xlink:href=\"#DejaVuSans-43\"/>\n     <use x=\"304.345703\" xlink:href=\"#DejaVuSans-48\"/>\n     <use x=\"367.96875\" xlink:href=\"#DejaVuSans-50\"/>\n    </g>\n   </g>\n   <g id=\"text_48\">\n    <!-- 2.8e+02 -->\n    <g style=\"fill:#ffffff;\" transform=\"translate(87.519474 59.377557)scale(0.1 -0.1)\">\n     <use xlink:href=\"#DejaVuSans-50\"/>\n     <use x=\"63.623047\" xlink:href=\"#DejaVuSans-46\"/>\n     <use x=\"95.410156\" xlink:href=\"#DejaVuSans-56\"/>\n     <use x=\"159.033203\" xlink:href=\"#DejaVuSans-101\"/>\n     <use x=\"220.556641\" xlink:href=\"#DejaVuSans-43\"/>\n     <use x=\"304.345703\" xlink:href=\"#DejaVuSans-48\"/>\n     <use x=\"367.96875\" xlink:href=\"#DejaVuSans-50\"/>\n    </g>\n   </g>\n   <g id=\"text_49\">\n    <!-- 2.8e+02 -->\n    <g style=\"fill:#ffffff;\" transform=\"translate(111.868565 59.377557)scale(0.1 -0.1)\">\n     <use xlink:href=\"#DejaVuSans-50\"/>\n     <use x=\"63.623047\" xlink:href=\"#DejaVuSans-46\"/>\n     <use x=\"95.410156\" xlink:href=\"#DejaVuSans-56\"/>\n     <use x=\"159.033203\" xlink:href=\"#DejaVuSans-101\"/>\n     <use x=\"220.556641\" xlink:href=\"#DejaVuSans-43\"/>\n     <use x=\"304.345703\" xlink:href=\"#DejaVuSans-48\"/>\n     <use x=\"367.96875\" xlink:href=\"#DejaVuSans-50\"/>\n    </g>\n   </g>\n   <g id=\"text_50\">\n    <!-- 2.8e+02 -->\n    <g style=\"fill:#ffffff;\" transform=\"translate(136.217656 59.377557)scale(0.1 -0.1)\">\n     <use xlink:href=\"#DejaVuSans-50\"/>\n     <use x=\"63.623047\" xlink:href=\"#DejaVuSans-46\"/>\n     <use x=\"95.410156\" xlink:href=\"#DejaVuSans-56\"/>\n     <use x=\"159.033203\" xlink:href=\"#DejaVuSans-101\"/>\n     <use x=\"220.556641\" xlink:href=\"#DejaVuSans-43\"/>\n     <use x=\"304.345703\" xlink:href=\"#DejaVuSans-48\"/>\n     <use x=\"367.96875\" xlink:href=\"#DejaVuSans-50\"/>\n    </g>\n   </g>\n   <g id=\"text_51\">\n    <!-- 2.8e+02 -->\n    <g style=\"fill:#ffffff;\" transform=\"translate(160.566747 59.377557)scale(0.1 -0.1)\">\n     <use xlink:href=\"#DejaVuSans-50\"/>\n     <use x=\"63.623047\" xlink:href=\"#DejaVuSans-46\"/>\n     <use x=\"95.410156\" xlink:href=\"#DejaVuSans-56\"/>\n     <use x=\"159.033203\" xlink:href=\"#DejaVuSans-101\"/>\n     <use x=\"220.556641\" xlink:href=\"#DejaVuSans-43\"/>\n     <use x=\"304.345703\" xlink:href=\"#DejaVuSans-48\"/>\n     <use x=\"367.96875\" xlink:href=\"#DejaVuSans-50\"/>\n    </g>\n   </g>\n   <g id=\"text_52\">\n    <!-- 2.7e+02 -->\n    <g style=\"fill:#ffffff;\" transform=\"translate(184.915838 59.377557)scale(0.1 -0.1)\">\n     <use xlink:href=\"#DejaVuSans-50\"/>\n     <use x=\"63.623047\" xlink:href=\"#DejaVuSans-46\"/>\n     <use x=\"95.410156\" xlink:href=\"#DejaVuSans-55\"/>\n     <use x=\"159.033203\" xlink:href=\"#DejaVuSans-101\"/>\n     <use x=\"220.556641\" xlink:href=\"#DejaVuSans-43\"/>\n     <use x=\"304.345703\" xlink:href=\"#DejaVuSans-48\"/>\n     <use x=\"367.96875\" xlink:href=\"#DejaVuSans-50\"/>\n    </g>\n   </g>\n   <g id=\"text_53\">\n    <!-- 2.8e+02 -->\n    <g style=\"fill:#ffffff;\" transform=\"translate(209.264929 59.377557)scale(0.1 -0.1)\">\n     <use xlink:href=\"#DejaVuSans-50\"/>\n     <use x=\"63.623047\" xlink:href=\"#DejaVuSans-46\"/>\n     <use x=\"95.410156\" xlink:href=\"#DejaVuSans-56\"/>\n     <use x=\"159.033203\" xlink:href=\"#DejaVuSans-101\"/>\n     <use x=\"220.556641\" xlink:href=\"#DejaVuSans-43\"/>\n     <use x=\"304.345703\" xlink:href=\"#DejaVuSans-48\"/>\n     <use x=\"367.96875\" xlink:href=\"#DejaVuSans-50\"/>\n    </g>\n   </g>\n   <g id=\"text_54\">\n    <!-- 2.8e+02 -->\n    <g style=\"fill:#ffffff;\" transform=\"translate(233.61402 59.377557)scale(0.1 -0.1)\">\n     <use xlink:href=\"#DejaVuSans-50\"/>\n     <use x=\"63.623047\" xlink:href=\"#DejaVuSans-46\"/>\n     <use x=\"95.410156\" xlink:href=\"#DejaVuSans-56\"/>\n     <use x=\"159.033203\" xlink:href=\"#DejaVuSans-101\"/>\n     <use x=\"220.556641\" xlink:href=\"#DejaVuSans-43\"/>\n     <use x=\"304.345703\" xlink:href=\"#DejaVuSans-48\"/>\n     <use x=\"367.96875\" xlink:href=\"#DejaVuSans-50\"/>\n    </g>\n   </g>\n   <g id=\"text_55\">\n    <!-- 2.7e+02 -->\n    <g style=\"fill:#ffffff;\" transform=\"translate(257.963111 59.377557)scale(0.1 -0.1)\">\n     <use xlink:href=\"#DejaVuSans-50\"/>\n     <use x=\"63.623047\" xlink:href=\"#DejaVuSans-46\"/>\n     <use x=\"95.410156\" xlink:href=\"#DejaVuSans-55\"/>\n     <use x=\"159.033203\" xlink:href=\"#DejaVuSans-101\"/>\n     <use x=\"220.556641\" xlink:href=\"#DejaVuSans-43\"/>\n     <use x=\"304.345703\" xlink:href=\"#DejaVuSans-48\"/>\n     <use x=\"367.96875\" xlink:href=\"#DejaVuSans-50\"/>\n    </g>\n   </g>\n   <g id=\"text_56\">\n    <!-- 3.2e+02 -->\n    <g style=\"fill:#262626;\" transform=\"translate(14.472202 79.14483)scale(0.1 -0.1)\">\n     <use xlink:href=\"#DejaVuSans-51\"/>\n     <use x=\"63.623047\" xlink:href=\"#DejaVuSans-46\"/>\n     <use x=\"95.410156\" xlink:href=\"#DejaVuSans-50\"/>\n     <use x=\"159.033203\" xlink:href=\"#DejaVuSans-101\"/>\n     <use x=\"220.556641\" xlink:href=\"#DejaVuSans-43\"/>\n     <use x=\"304.345703\" xlink:href=\"#DejaVuSans-48\"/>\n     <use x=\"367.96875\" xlink:href=\"#DejaVuSans-50\"/>\n    </g>\n   </g>\n   <g id=\"text_57\">\n    <!-- 2.7e+02 -->\n    <g style=\"fill:#ffffff;\" transform=\"translate(38.821293 79.14483)scale(0.1 -0.1)\">\n     <use xlink:href=\"#DejaVuSans-50\"/>\n     <use x=\"63.623047\" xlink:href=\"#DejaVuSans-46\"/>\n     <use x=\"95.410156\" xlink:href=\"#DejaVuSans-55\"/>\n     <use x=\"159.033203\" xlink:href=\"#DejaVuSans-101\"/>\n     <use x=\"220.556641\" xlink:href=\"#DejaVuSans-43\"/>\n     <use x=\"304.345703\" xlink:href=\"#DejaVuSans-48\"/>\n     <use x=\"367.96875\" xlink:href=\"#DejaVuSans-50\"/>\n    </g>\n   </g>\n   <g id=\"text_58\">\n    <!-- 2.8e+02 -->\n    <g style=\"fill:#ffffff;\" transform=\"translate(63.170384 79.14483)scale(0.1 -0.1)\">\n     <use xlink:href=\"#DejaVuSans-50\"/>\n     <use x=\"63.623047\" xlink:href=\"#DejaVuSans-46\"/>\n     <use x=\"95.410156\" xlink:href=\"#DejaVuSans-56\"/>\n     <use x=\"159.033203\" xlink:href=\"#DejaVuSans-101\"/>\n     <use x=\"220.556641\" xlink:href=\"#DejaVuSans-43\"/>\n     <use x=\"304.345703\" xlink:href=\"#DejaVuSans-48\"/>\n     <use x=\"367.96875\" xlink:href=\"#DejaVuSans-50\"/>\n    </g>\n   </g>\n   <g id=\"text_59\">\n    <!-- 2.8e+02 -->\n    <g style=\"fill:#ffffff;\" transform=\"translate(87.519474 79.14483)scale(0.1 -0.1)\">\n     <use xlink:href=\"#DejaVuSans-50\"/>\n     <use x=\"63.623047\" xlink:href=\"#DejaVuSans-46\"/>\n     <use x=\"95.410156\" xlink:href=\"#DejaVuSans-56\"/>\n     <use x=\"159.033203\" xlink:href=\"#DejaVuSans-101\"/>\n     <use x=\"220.556641\" xlink:href=\"#DejaVuSans-43\"/>\n     <use x=\"304.345703\" xlink:href=\"#DejaVuSans-48\"/>\n     <use x=\"367.96875\" xlink:href=\"#DejaVuSans-50\"/>\n    </g>\n   </g>\n   <g id=\"text_60\">\n    <!-- 2.8e+02 -->\n    <g style=\"fill:#ffffff;\" transform=\"translate(111.868565 79.14483)scale(0.1 -0.1)\">\n     <use xlink:href=\"#DejaVuSans-50\"/>\n     <use x=\"63.623047\" xlink:href=\"#DejaVuSans-46\"/>\n     <use x=\"95.410156\" xlink:href=\"#DejaVuSans-56\"/>\n     <use x=\"159.033203\" xlink:href=\"#DejaVuSans-101\"/>\n     <use x=\"220.556641\" xlink:href=\"#DejaVuSans-43\"/>\n     <use x=\"304.345703\" xlink:href=\"#DejaVuSans-48\"/>\n     <use x=\"367.96875\" xlink:href=\"#DejaVuSans-50\"/>\n    </g>\n   </g>\n   <g id=\"text_61\">\n    <!-- 2.8e+02 -->\n    <g style=\"fill:#ffffff;\" transform=\"translate(136.217656 79.14483)scale(0.1 -0.1)\">\n     <use xlink:href=\"#DejaVuSans-50\"/>\n     <use x=\"63.623047\" xlink:href=\"#DejaVuSans-46\"/>\n     <use x=\"95.410156\" xlink:href=\"#DejaVuSans-56\"/>\n     <use x=\"159.033203\" xlink:href=\"#DejaVuSans-101\"/>\n     <use x=\"220.556641\" xlink:href=\"#DejaVuSans-43\"/>\n     <use x=\"304.345703\" xlink:href=\"#DejaVuSans-48\"/>\n     <use x=\"367.96875\" xlink:href=\"#DejaVuSans-50\"/>\n    </g>\n   </g>\n   <g id=\"text_62\">\n    <!-- 2.8e+02 -->\n    <g style=\"fill:#ffffff;\" transform=\"translate(160.566747 79.14483)scale(0.1 -0.1)\">\n     <use xlink:href=\"#DejaVuSans-50\"/>\n     <use x=\"63.623047\" xlink:href=\"#DejaVuSans-46\"/>\n     <use x=\"95.410156\" xlink:href=\"#DejaVuSans-56\"/>\n     <use x=\"159.033203\" xlink:href=\"#DejaVuSans-101\"/>\n     <use x=\"220.556641\" xlink:href=\"#DejaVuSans-43\"/>\n     <use x=\"304.345703\" xlink:href=\"#DejaVuSans-48\"/>\n     <use x=\"367.96875\" xlink:href=\"#DejaVuSans-50\"/>\n    </g>\n   </g>\n   <g id=\"text_63\">\n    <!-- 2.7e+02 -->\n    <g style=\"fill:#ffffff;\" transform=\"translate(184.915838 79.14483)scale(0.1 -0.1)\">\n     <use xlink:href=\"#DejaVuSans-50\"/>\n     <use x=\"63.623047\" xlink:href=\"#DejaVuSans-46\"/>\n     <use x=\"95.410156\" xlink:href=\"#DejaVuSans-55\"/>\n     <use x=\"159.033203\" xlink:href=\"#DejaVuSans-101\"/>\n     <use x=\"220.556641\" xlink:href=\"#DejaVuSans-43\"/>\n     <use x=\"304.345703\" xlink:href=\"#DejaVuSans-48\"/>\n     <use x=\"367.96875\" xlink:href=\"#DejaVuSans-50\"/>\n    </g>\n   </g>\n   <g id=\"text_64\">\n    <!-- 2.8e+02 -->\n    <g style=\"fill:#ffffff;\" transform=\"translate(209.264929 79.14483)scale(0.1 -0.1)\">\n     <use xlink:href=\"#DejaVuSans-50\"/>\n     <use x=\"63.623047\" xlink:href=\"#DejaVuSans-46\"/>\n     <use x=\"95.410156\" xlink:href=\"#DejaVuSans-56\"/>\n     <use x=\"159.033203\" xlink:href=\"#DejaVuSans-101\"/>\n     <use x=\"220.556641\" xlink:href=\"#DejaVuSans-43\"/>\n     <use x=\"304.345703\" xlink:href=\"#DejaVuSans-48\"/>\n     <use x=\"367.96875\" xlink:href=\"#DejaVuSans-50\"/>\n    </g>\n   </g>\n   <g id=\"text_65\">\n    <!-- 2.8e+02 -->\n    <g style=\"fill:#ffffff;\" transform=\"translate(233.61402 79.14483)scale(0.1 -0.1)\">\n     <use xlink:href=\"#DejaVuSans-50\"/>\n     <use x=\"63.623047\" xlink:href=\"#DejaVuSans-46\"/>\n     <use x=\"95.410156\" xlink:href=\"#DejaVuSans-56\"/>\n     <use x=\"159.033203\" xlink:href=\"#DejaVuSans-101\"/>\n     <use x=\"220.556641\" xlink:href=\"#DejaVuSans-43\"/>\n     <use x=\"304.345703\" xlink:href=\"#DejaVuSans-48\"/>\n     <use x=\"367.96875\" xlink:href=\"#DejaVuSans-50\"/>\n    </g>\n   </g>\n   <g id=\"text_66\">\n    <!-- 2.7e+02 -->\n    <g style=\"fill:#ffffff;\" transform=\"translate(257.963111 79.14483)scale(0.1 -0.1)\">\n     <use xlink:href=\"#DejaVuSans-50\"/>\n     <use x=\"63.623047\" xlink:href=\"#DejaVuSans-46\"/>\n     <use x=\"95.410156\" xlink:href=\"#DejaVuSans-55\"/>\n     <use x=\"159.033203\" xlink:href=\"#DejaVuSans-101\"/>\n     <use x=\"220.556641\" xlink:href=\"#DejaVuSans-43\"/>\n     <use x=\"304.345703\" xlink:href=\"#DejaVuSans-48\"/>\n     <use x=\"367.96875\" xlink:href=\"#DejaVuSans-50\"/>\n    </g>\n   </g>\n   <g id=\"text_67\">\n    <!-- 3.2e+02 -->\n    <g style=\"fill:#262626;\" transform=\"translate(14.472202 98.912102)scale(0.1 -0.1)\">\n     <use xlink:href=\"#DejaVuSans-51\"/>\n     <use x=\"63.623047\" xlink:href=\"#DejaVuSans-46\"/>\n     <use x=\"95.410156\" xlink:href=\"#DejaVuSans-50\"/>\n     <use x=\"159.033203\" xlink:href=\"#DejaVuSans-101\"/>\n     <use x=\"220.556641\" xlink:href=\"#DejaVuSans-43\"/>\n     <use x=\"304.345703\" xlink:href=\"#DejaVuSans-48\"/>\n     <use x=\"367.96875\" xlink:href=\"#DejaVuSans-50\"/>\n    </g>\n   </g>\n   <g id=\"text_68\">\n    <!-- 2.7e+02 -->\n    <g style=\"fill:#ffffff;\" transform=\"translate(38.821293 98.912102)scale(0.1 -0.1)\">\n     <use xlink:href=\"#DejaVuSans-50\"/>\n     <use x=\"63.623047\" xlink:href=\"#DejaVuSans-46\"/>\n     <use x=\"95.410156\" xlink:href=\"#DejaVuSans-55\"/>\n     <use x=\"159.033203\" xlink:href=\"#DejaVuSans-101\"/>\n     <use x=\"220.556641\" xlink:href=\"#DejaVuSans-43\"/>\n     <use x=\"304.345703\" xlink:href=\"#DejaVuSans-48\"/>\n     <use x=\"367.96875\" xlink:href=\"#DejaVuSans-50\"/>\n    </g>\n   </g>\n   <g id=\"text_69\">\n    <!-- 2.8e+02 -->\n    <g style=\"fill:#ffffff;\" transform=\"translate(63.170384 98.912102)scale(0.1 -0.1)\">\n     <use xlink:href=\"#DejaVuSans-50\"/>\n     <use x=\"63.623047\" xlink:href=\"#DejaVuSans-46\"/>\n     <use x=\"95.410156\" xlink:href=\"#DejaVuSans-56\"/>\n     <use x=\"159.033203\" xlink:href=\"#DejaVuSans-101\"/>\n     <use x=\"220.556641\" xlink:href=\"#DejaVuSans-43\"/>\n     <use x=\"304.345703\" xlink:href=\"#DejaVuSans-48\"/>\n     <use x=\"367.96875\" xlink:href=\"#DejaVuSans-50\"/>\n    </g>\n   </g>\n   <g id=\"text_70\">\n    <!-- 2.8e+02 -->\n    <g style=\"fill:#ffffff;\" transform=\"translate(87.519474 98.912102)scale(0.1 -0.1)\">\n     <use xlink:href=\"#DejaVuSans-50\"/>\n     <use x=\"63.623047\" xlink:href=\"#DejaVuSans-46\"/>\n     <use x=\"95.410156\" xlink:href=\"#DejaVuSans-56\"/>\n     <use x=\"159.033203\" xlink:href=\"#DejaVuSans-101\"/>\n     <use x=\"220.556641\" xlink:href=\"#DejaVuSans-43\"/>\n     <use x=\"304.345703\" xlink:href=\"#DejaVuSans-48\"/>\n     <use x=\"367.96875\" xlink:href=\"#DejaVuSans-50\"/>\n    </g>\n   </g>\n   <g id=\"text_71\">\n    <!-- 2.8e+02 -->\n    <g style=\"fill:#ffffff;\" transform=\"translate(111.868565 98.912102)scale(0.1 -0.1)\">\n     <use xlink:href=\"#DejaVuSans-50\"/>\n     <use x=\"63.623047\" xlink:href=\"#DejaVuSans-46\"/>\n     <use x=\"95.410156\" xlink:href=\"#DejaVuSans-56\"/>\n     <use x=\"159.033203\" xlink:href=\"#DejaVuSans-101\"/>\n     <use x=\"220.556641\" xlink:href=\"#DejaVuSans-43\"/>\n     <use x=\"304.345703\" xlink:href=\"#DejaVuSans-48\"/>\n     <use x=\"367.96875\" xlink:href=\"#DejaVuSans-50\"/>\n    </g>\n   </g>\n   <g id=\"text_72\">\n    <!-- 2.8e+02 -->\n    <g style=\"fill:#ffffff;\" transform=\"translate(136.217656 98.912102)scale(0.1 -0.1)\">\n     <use xlink:href=\"#DejaVuSans-50\"/>\n     <use x=\"63.623047\" xlink:href=\"#DejaVuSans-46\"/>\n     <use x=\"95.410156\" xlink:href=\"#DejaVuSans-56\"/>\n     <use x=\"159.033203\" xlink:href=\"#DejaVuSans-101\"/>\n     <use x=\"220.556641\" xlink:href=\"#DejaVuSans-43\"/>\n     <use x=\"304.345703\" xlink:href=\"#DejaVuSans-48\"/>\n     <use x=\"367.96875\" xlink:href=\"#DejaVuSans-50\"/>\n    </g>\n   </g>\n   <g id=\"text_73\">\n    <!-- 2.8e+02 -->\n    <g style=\"fill:#ffffff;\" transform=\"translate(160.566747 98.912102)scale(0.1 -0.1)\">\n     <use xlink:href=\"#DejaVuSans-50\"/>\n     <use x=\"63.623047\" xlink:href=\"#DejaVuSans-46\"/>\n     <use x=\"95.410156\" xlink:href=\"#DejaVuSans-56\"/>\n     <use x=\"159.033203\" xlink:href=\"#DejaVuSans-101\"/>\n     <use x=\"220.556641\" xlink:href=\"#DejaVuSans-43\"/>\n     <use x=\"304.345703\" xlink:href=\"#DejaVuSans-48\"/>\n     <use x=\"367.96875\" xlink:href=\"#DejaVuSans-50\"/>\n    </g>\n   </g>\n   <g id=\"text_74\">\n    <!-- 2.7e+02 -->\n    <g style=\"fill:#ffffff;\" transform=\"translate(184.915838 98.912102)scale(0.1 -0.1)\">\n     <use xlink:href=\"#DejaVuSans-50\"/>\n     <use x=\"63.623047\" xlink:href=\"#DejaVuSans-46\"/>\n     <use x=\"95.410156\" xlink:href=\"#DejaVuSans-55\"/>\n     <use x=\"159.033203\" xlink:href=\"#DejaVuSans-101\"/>\n     <use x=\"220.556641\" xlink:href=\"#DejaVuSans-43\"/>\n     <use x=\"304.345703\" xlink:href=\"#DejaVuSans-48\"/>\n     <use x=\"367.96875\" xlink:href=\"#DejaVuSans-50\"/>\n    </g>\n   </g>\n   <g id=\"text_75\">\n    <!-- 2.8e+02 -->\n    <g style=\"fill:#ffffff;\" transform=\"translate(209.264929 98.912102)scale(0.1 -0.1)\">\n     <use xlink:href=\"#DejaVuSans-50\"/>\n     <use x=\"63.623047\" xlink:href=\"#DejaVuSans-46\"/>\n     <use x=\"95.410156\" xlink:href=\"#DejaVuSans-56\"/>\n     <use x=\"159.033203\" xlink:href=\"#DejaVuSans-101\"/>\n     <use x=\"220.556641\" xlink:href=\"#DejaVuSans-43\"/>\n     <use x=\"304.345703\" xlink:href=\"#DejaVuSans-48\"/>\n     <use x=\"367.96875\" xlink:href=\"#DejaVuSans-50\"/>\n    </g>\n   </g>\n   <g id=\"text_76\">\n    <!-- 2.8e+02 -->\n    <g style=\"fill:#ffffff;\" transform=\"translate(233.61402 98.912102)scale(0.1 -0.1)\">\n     <use xlink:href=\"#DejaVuSans-50\"/>\n     <use x=\"63.623047\" xlink:href=\"#DejaVuSans-46\"/>\n     <use x=\"95.410156\" xlink:href=\"#DejaVuSans-56\"/>\n     <use x=\"159.033203\" xlink:href=\"#DejaVuSans-101\"/>\n     <use x=\"220.556641\" xlink:href=\"#DejaVuSans-43\"/>\n     <use x=\"304.345703\" xlink:href=\"#DejaVuSans-48\"/>\n     <use x=\"367.96875\" xlink:href=\"#DejaVuSans-50\"/>\n    </g>\n   </g>\n   <g id=\"text_77\">\n    <!-- 2.7e+02 -->\n    <g style=\"fill:#ffffff;\" transform=\"translate(257.963111 98.912102)scale(0.1 -0.1)\">\n     <use xlink:href=\"#DejaVuSans-50\"/>\n     <use x=\"63.623047\" xlink:href=\"#DejaVuSans-46\"/>\n     <use x=\"95.410156\" xlink:href=\"#DejaVuSans-55\"/>\n     <use x=\"159.033203\" xlink:href=\"#DejaVuSans-101\"/>\n     <use x=\"220.556641\" xlink:href=\"#DejaVuSans-43\"/>\n     <use x=\"304.345703\" xlink:href=\"#DejaVuSans-48\"/>\n     <use x=\"367.96875\" xlink:href=\"#DejaVuSans-50\"/>\n    </g>\n   </g>\n   <g id=\"text_78\">\n    <!-- 3.2e+02 -->\n    <g style=\"fill:#262626;\" transform=\"translate(14.472202 118.679375)scale(0.1 -0.1)\">\n     <use xlink:href=\"#DejaVuSans-51\"/>\n     <use x=\"63.623047\" xlink:href=\"#DejaVuSans-46\"/>\n     <use x=\"95.410156\" xlink:href=\"#DejaVuSans-50\"/>\n     <use x=\"159.033203\" xlink:href=\"#DejaVuSans-101\"/>\n     <use x=\"220.556641\" xlink:href=\"#DejaVuSans-43\"/>\n     <use x=\"304.345703\" xlink:href=\"#DejaVuSans-48\"/>\n     <use x=\"367.96875\" xlink:href=\"#DejaVuSans-50\"/>\n    </g>\n   </g>\n   <g id=\"text_79\">\n    <!-- 2.7e+02 -->\n    <g style=\"fill:#ffffff;\" transform=\"translate(38.821293 118.679375)scale(0.1 -0.1)\">\n     <use xlink:href=\"#DejaVuSans-50\"/>\n     <use x=\"63.623047\" xlink:href=\"#DejaVuSans-46\"/>\n     <use x=\"95.410156\" xlink:href=\"#DejaVuSans-55\"/>\n     <use x=\"159.033203\" xlink:href=\"#DejaVuSans-101\"/>\n     <use x=\"220.556641\" xlink:href=\"#DejaVuSans-43\"/>\n     <use x=\"304.345703\" xlink:href=\"#DejaVuSans-48\"/>\n     <use x=\"367.96875\" xlink:href=\"#DejaVuSans-50\"/>\n    </g>\n   </g>\n   <g id=\"text_80\">\n    <!-- 2.8e+02 -->\n    <g style=\"fill:#ffffff;\" transform=\"translate(63.170384 118.679375)scale(0.1 -0.1)\">\n     <use xlink:href=\"#DejaVuSans-50\"/>\n     <use x=\"63.623047\" xlink:href=\"#DejaVuSans-46\"/>\n     <use x=\"95.410156\" xlink:href=\"#DejaVuSans-56\"/>\n     <use x=\"159.033203\" xlink:href=\"#DejaVuSans-101\"/>\n     <use x=\"220.556641\" xlink:href=\"#DejaVuSans-43\"/>\n     <use x=\"304.345703\" xlink:href=\"#DejaVuSans-48\"/>\n     <use x=\"367.96875\" xlink:href=\"#DejaVuSans-50\"/>\n    </g>\n   </g>\n   <g id=\"text_81\">\n    <!-- 2.8e+02 -->\n    <g style=\"fill:#ffffff;\" transform=\"translate(87.519474 118.679375)scale(0.1 -0.1)\">\n     <use xlink:href=\"#DejaVuSans-50\"/>\n     <use x=\"63.623047\" xlink:href=\"#DejaVuSans-46\"/>\n     <use x=\"95.410156\" xlink:href=\"#DejaVuSans-56\"/>\n     <use x=\"159.033203\" xlink:href=\"#DejaVuSans-101\"/>\n     <use x=\"220.556641\" xlink:href=\"#DejaVuSans-43\"/>\n     <use x=\"304.345703\" xlink:href=\"#DejaVuSans-48\"/>\n     <use x=\"367.96875\" xlink:href=\"#DejaVuSans-50\"/>\n    </g>\n   </g>\n   <g id=\"text_82\">\n    <!-- 2.8e+02 -->\n    <g style=\"fill:#ffffff;\" transform=\"translate(111.868565 118.679375)scale(0.1 -0.1)\">\n     <use xlink:href=\"#DejaVuSans-50\"/>\n     <use x=\"63.623047\" xlink:href=\"#DejaVuSans-46\"/>\n     <use x=\"95.410156\" xlink:href=\"#DejaVuSans-56\"/>\n     <use x=\"159.033203\" xlink:href=\"#DejaVuSans-101\"/>\n     <use x=\"220.556641\" xlink:href=\"#DejaVuSans-43\"/>\n     <use x=\"304.345703\" xlink:href=\"#DejaVuSans-48\"/>\n     <use x=\"367.96875\" xlink:href=\"#DejaVuSans-50\"/>\n    </g>\n   </g>\n   <g id=\"text_83\">\n    <!-- 2.8e+02 -->\n    <g style=\"fill:#ffffff;\" transform=\"translate(136.217656 118.679375)scale(0.1 -0.1)\">\n     <use xlink:href=\"#DejaVuSans-50\"/>\n     <use x=\"63.623047\" xlink:href=\"#DejaVuSans-46\"/>\n     <use x=\"95.410156\" xlink:href=\"#DejaVuSans-56\"/>\n     <use x=\"159.033203\" xlink:href=\"#DejaVuSans-101\"/>\n     <use x=\"220.556641\" xlink:href=\"#DejaVuSans-43\"/>\n     <use x=\"304.345703\" xlink:href=\"#DejaVuSans-48\"/>\n     <use x=\"367.96875\" xlink:href=\"#DejaVuSans-50\"/>\n    </g>\n   </g>\n   <g id=\"text_84\">\n    <!-- 2.8e+02 -->\n    <g style=\"fill:#ffffff;\" transform=\"translate(160.566747 118.679375)scale(0.1 -0.1)\">\n     <use xlink:href=\"#DejaVuSans-50\"/>\n     <use x=\"63.623047\" xlink:href=\"#DejaVuSans-46\"/>\n     <use x=\"95.410156\" xlink:href=\"#DejaVuSans-56\"/>\n     <use x=\"159.033203\" xlink:href=\"#DejaVuSans-101\"/>\n     <use x=\"220.556641\" xlink:href=\"#DejaVuSans-43\"/>\n     <use x=\"304.345703\" xlink:href=\"#DejaVuSans-48\"/>\n     <use x=\"367.96875\" xlink:href=\"#DejaVuSans-50\"/>\n    </g>\n   </g>\n   <g id=\"text_85\">\n    <!-- 2.7e+02 -->\n    <g style=\"fill:#ffffff;\" transform=\"translate(184.915838 118.679375)scale(0.1 -0.1)\">\n     <use xlink:href=\"#DejaVuSans-50\"/>\n     <use x=\"63.623047\" xlink:href=\"#DejaVuSans-46\"/>\n     <use x=\"95.410156\" xlink:href=\"#DejaVuSans-55\"/>\n     <use x=\"159.033203\" xlink:href=\"#DejaVuSans-101\"/>\n     <use x=\"220.556641\" xlink:href=\"#DejaVuSans-43\"/>\n     <use x=\"304.345703\" xlink:href=\"#DejaVuSans-48\"/>\n     <use x=\"367.96875\" xlink:href=\"#DejaVuSans-50\"/>\n    </g>\n   </g>\n   <g id=\"text_86\">\n    <!-- 2.8e+02 -->\n    <g style=\"fill:#ffffff;\" transform=\"translate(209.264929 118.679375)scale(0.1 -0.1)\">\n     <use xlink:href=\"#DejaVuSans-50\"/>\n     <use x=\"63.623047\" xlink:href=\"#DejaVuSans-46\"/>\n     <use x=\"95.410156\" xlink:href=\"#DejaVuSans-56\"/>\n     <use x=\"159.033203\" xlink:href=\"#DejaVuSans-101\"/>\n     <use x=\"220.556641\" xlink:href=\"#DejaVuSans-43\"/>\n     <use x=\"304.345703\" xlink:href=\"#DejaVuSans-48\"/>\n     <use x=\"367.96875\" xlink:href=\"#DejaVuSans-50\"/>\n    </g>\n   </g>\n   <g id=\"text_87\">\n    <!-- 2.8e+02 -->\n    <g style=\"fill:#ffffff;\" transform=\"translate(233.61402 118.679375)scale(0.1 -0.1)\">\n     <use xlink:href=\"#DejaVuSans-50\"/>\n     <use x=\"63.623047\" xlink:href=\"#DejaVuSans-46\"/>\n     <use x=\"95.410156\" xlink:href=\"#DejaVuSans-56\"/>\n     <use x=\"159.033203\" xlink:href=\"#DejaVuSans-101\"/>\n     <use x=\"220.556641\" xlink:href=\"#DejaVuSans-43\"/>\n     <use x=\"304.345703\" xlink:href=\"#DejaVuSans-48\"/>\n     <use x=\"367.96875\" xlink:href=\"#DejaVuSans-50\"/>\n    </g>\n   </g>\n   <g id=\"text_88\">\n    <!-- 2.7e+02 -->\n    <g style=\"fill:#ffffff;\" transform=\"translate(257.963111 118.679375)scale(0.1 -0.1)\">\n     <use xlink:href=\"#DejaVuSans-50\"/>\n     <use x=\"63.623047\" xlink:href=\"#DejaVuSans-46\"/>\n     <use x=\"95.410156\" xlink:href=\"#DejaVuSans-55\"/>\n     <use x=\"159.033203\" xlink:href=\"#DejaVuSans-101\"/>\n     <use x=\"220.556641\" xlink:href=\"#DejaVuSans-43\"/>\n     <use x=\"304.345703\" xlink:href=\"#DejaVuSans-48\"/>\n     <use x=\"367.96875\" xlink:href=\"#DejaVuSans-50\"/>\n    </g>\n   </g>\n   <g id=\"text_89\">\n    <!-- 3.2e+02 -->\n    <g style=\"fill:#262626;\" transform=\"translate(14.472202 138.446648)scale(0.1 -0.1)\">\n     <use xlink:href=\"#DejaVuSans-51\"/>\n     <use x=\"63.623047\" xlink:href=\"#DejaVuSans-46\"/>\n     <use x=\"95.410156\" xlink:href=\"#DejaVuSans-50\"/>\n     <use x=\"159.033203\" xlink:href=\"#DejaVuSans-101\"/>\n     <use x=\"220.556641\" xlink:href=\"#DejaVuSans-43\"/>\n     <use x=\"304.345703\" xlink:href=\"#DejaVuSans-48\"/>\n     <use x=\"367.96875\" xlink:href=\"#DejaVuSans-50\"/>\n    </g>\n   </g>\n   <g id=\"text_90\">\n    <!-- 2.7e+02 -->\n    <g style=\"fill:#ffffff;\" transform=\"translate(38.821293 138.446648)scale(0.1 -0.1)\">\n     <use xlink:href=\"#DejaVuSans-50\"/>\n     <use x=\"63.623047\" xlink:href=\"#DejaVuSans-46\"/>\n     <use x=\"95.410156\" xlink:href=\"#DejaVuSans-55\"/>\n     <use x=\"159.033203\" xlink:href=\"#DejaVuSans-101\"/>\n     <use x=\"220.556641\" xlink:href=\"#DejaVuSans-43\"/>\n     <use x=\"304.345703\" xlink:href=\"#DejaVuSans-48\"/>\n     <use x=\"367.96875\" xlink:href=\"#DejaVuSans-50\"/>\n    </g>\n   </g>\n   <g id=\"text_91\">\n    <!-- 2.8e+02 -->\n    <g style=\"fill:#ffffff;\" transform=\"translate(63.170384 138.446648)scale(0.1 -0.1)\">\n     <use xlink:href=\"#DejaVuSans-50\"/>\n     <use x=\"63.623047\" xlink:href=\"#DejaVuSans-46\"/>\n     <use x=\"95.410156\" xlink:href=\"#DejaVuSans-56\"/>\n     <use x=\"159.033203\" xlink:href=\"#DejaVuSans-101\"/>\n     <use x=\"220.556641\" xlink:href=\"#DejaVuSans-43\"/>\n     <use x=\"304.345703\" xlink:href=\"#DejaVuSans-48\"/>\n     <use x=\"367.96875\" xlink:href=\"#DejaVuSans-50\"/>\n    </g>\n   </g>\n   <g id=\"text_92\">\n    <!-- 2.8e+02 -->\n    <g style=\"fill:#ffffff;\" transform=\"translate(87.519474 138.446648)scale(0.1 -0.1)\">\n     <use xlink:href=\"#DejaVuSans-50\"/>\n     <use x=\"63.623047\" xlink:href=\"#DejaVuSans-46\"/>\n     <use x=\"95.410156\" xlink:href=\"#DejaVuSans-56\"/>\n     <use x=\"159.033203\" xlink:href=\"#DejaVuSans-101\"/>\n     <use x=\"220.556641\" xlink:href=\"#DejaVuSans-43\"/>\n     <use x=\"304.345703\" xlink:href=\"#DejaVuSans-48\"/>\n     <use x=\"367.96875\" xlink:href=\"#DejaVuSans-50\"/>\n    </g>\n   </g>\n   <g id=\"text_93\">\n    <!-- 2.8e+02 -->\n    <g style=\"fill:#ffffff;\" transform=\"translate(111.868565 138.446648)scale(0.1 -0.1)\">\n     <use xlink:href=\"#DejaVuSans-50\"/>\n     <use x=\"63.623047\" xlink:href=\"#DejaVuSans-46\"/>\n     <use x=\"95.410156\" xlink:href=\"#DejaVuSans-56\"/>\n     <use x=\"159.033203\" xlink:href=\"#DejaVuSans-101\"/>\n     <use x=\"220.556641\" xlink:href=\"#DejaVuSans-43\"/>\n     <use x=\"304.345703\" xlink:href=\"#DejaVuSans-48\"/>\n     <use x=\"367.96875\" xlink:href=\"#DejaVuSans-50\"/>\n    </g>\n   </g>\n   <g id=\"text_94\">\n    <!-- 2.8e+02 -->\n    <g style=\"fill:#ffffff;\" transform=\"translate(136.217656 138.446648)scale(0.1 -0.1)\">\n     <use xlink:href=\"#DejaVuSans-50\"/>\n     <use x=\"63.623047\" xlink:href=\"#DejaVuSans-46\"/>\n     <use x=\"95.410156\" xlink:href=\"#DejaVuSans-56\"/>\n     <use x=\"159.033203\" xlink:href=\"#DejaVuSans-101\"/>\n     <use x=\"220.556641\" xlink:href=\"#DejaVuSans-43\"/>\n     <use x=\"304.345703\" xlink:href=\"#DejaVuSans-48\"/>\n     <use x=\"367.96875\" xlink:href=\"#DejaVuSans-50\"/>\n    </g>\n   </g>\n   <g id=\"text_95\">\n    <!-- 2.8e+02 -->\n    <g style=\"fill:#ffffff;\" transform=\"translate(160.566747 138.446648)scale(0.1 -0.1)\">\n     <use xlink:href=\"#DejaVuSans-50\"/>\n     <use x=\"63.623047\" xlink:href=\"#DejaVuSans-46\"/>\n     <use x=\"95.410156\" xlink:href=\"#DejaVuSans-56\"/>\n     <use x=\"159.033203\" xlink:href=\"#DejaVuSans-101\"/>\n     <use x=\"220.556641\" xlink:href=\"#DejaVuSans-43\"/>\n     <use x=\"304.345703\" xlink:href=\"#DejaVuSans-48\"/>\n     <use x=\"367.96875\" xlink:href=\"#DejaVuSans-50\"/>\n    </g>\n   </g>\n   <g id=\"text_96\">\n    <!-- 2.7e+02 -->\n    <g style=\"fill:#ffffff;\" transform=\"translate(184.915838 138.446648)scale(0.1 -0.1)\">\n     <use xlink:href=\"#DejaVuSans-50\"/>\n     <use x=\"63.623047\" xlink:href=\"#DejaVuSans-46\"/>\n     <use x=\"95.410156\" xlink:href=\"#DejaVuSans-55\"/>\n     <use x=\"159.033203\" xlink:href=\"#DejaVuSans-101\"/>\n     <use x=\"220.556641\" xlink:href=\"#DejaVuSans-43\"/>\n     <use x=\"304.345703\" xlink:href=\"#DejaVuSans-48\"/>\n     <use x=\"367.96875\" xlink:href=\"#DejaVuSans-50\"/>\n    </g>\n   </g>\n   <g id=\"text_97\">\n    <!-- 2.8e+02 -->\n    <g style=\"fill:#ffffff;\" transform=\"translate(209.264929 138.446648)scale(0.1 -0.1)\">\n     <use xlink:href=\"#DejaVuSans-50\"/>\n     <use x=\"63.623047\" xlink:href=\"#DejaVuSans-46\"/>\n     <use x=\"95.410156\" xlink:href=\"#DejaVuSans-56\"/>\n     <use x=\"159.033203\" xlink:href=\"#DejaVuSans-101\"/>\n     <use x=\"220.556641\" xlink:href=\"#DejaVuSans-43\"/>\n     <use x=\"304.345703\" xlink:href=\"#DejaVuSans-48\"/>\n     <use x=\"367.96875\" xlink:href=\"#DejaVuSans-50\"/>\n    </g>\n   </g>\n   <g id=\"text_98\">\n    <!-- 2.8e+02 -->\n    <g style=\"fill:#ffffff;\" transform=\"translate(233.61402 138.446648)scale(0.1 -0.1)\">\n     <use xlink:href=\"#DejaVuSans-50\"/>\n     <use x=\"63.623047\" xlink:href=\"#DejaVuSans-46\"/>\n     <use x=\"95.410156\" xlink:href=\"#DejaVuSans-56\"/>\n     <use x=\"159.033203\" xlink:href=\"#DejaVuSans-101\"/>\n     <use x=\"220.556641\" xlink:href=\"#DejaVuSans-43\"/>\n     <use x=\"304.345703\" xlink:href=\"#DejaVuSans-48\"/>\n     <use x=\"367.96875\" xlink:href=\"#DejaVuSans-50\"/>\n    </g>\n   </g>\n   <g id=\"text_99\">\n    <!-- 2.7e+02 -->\n    <g style=\"fill:#ffffff;\" transform=\"translate(257.963111 138.446648)scale(0.1 -0.1)\">\n     <use xlink:href=\"#DejaVuSans-50\"/>\n     <use x=\"63.623047\" xlink:href=\"#DejaVuSans-46\"/>\n     <use x=\"95.410156\" xlink:href=\"#DejaVuSans-55\"/>\n     <use x=\"159.033203\" xlink:href=\"#DejaVuSans-101\"/>\n     <use x=\"220.556641\" xlink:href=\"#DejaVuSans-43\"/>\n     <use x=\"304.345703\" xlink:href=\"#DejaVuSans-48\"/>\n     <use x=\"367.96875\" xlink:href=\"#DejaVuSans-50\"/>\n    </g>\n   </g>\n   <g id=\"text_100\">\n    <!-- 3.2e+02 -->\n    <g style=\"fill:#262626;\" transform=\"translate(14.472202 158.21392)scale(0.1 -0.1)\">\n     <use xlink:href=\"#DejaVuSans-51\"/>\n     <use x=\"63.623047\" xlink:href=\"#DejaVuSans-46\"/>\n     <use x=\"95.410156\" xlink:href=\"#DejaVuSans-50\"/>\n     <use x=\"159.033203\" xlink:href=\"#DejaVuSans-101\"/>\n     <use x=\"220.556641\" xlink:href=\"#DejaVuSans-43\"/>\n     <use x=\"304.345703\" xlink:href=\"#DejaVuSans-48\"/>\n     <use x=\"367.96875\" xlink:href=\"#DejaVuSans-50\"/>\n    </g>\n   </g>\n   <g id=\"text_101\">\n    <!-- 2.7e+02 -->\n    <g style=\"fill:#ffffff;\" transform=\"translate(38.821293 158.21392)scale(0.1 -0.1)\">\n     <use xlink:href=\"#DejaVuSans-50\"/>\n     <use x=\"63.623047\" xlink:href=\"#DejaVuSans-46\"/>\n     <use x=\"95.410156\" xlink:href=\"#DejaVuSans-55\"/>\n     <use x=\"159.033203\" xlink:href=\"#DejaVuSans-101\"/>\n     <use x=\"220.556641\" xlink:href=\"#DejaVuSans-43\"/>\n     <use x=\"304.345703\" xlink:href=\"#DejaVuSans-48\"/>\n     <use x=\"367.96875\" xlink:href=\"#DejaVuSans-50\"/>\n    </g>\n   </g>\n   <g id=\"text_102\">\n    <!-- 2.8e+02 -->\n    <g style=\"fill:#ffffff;\" transform=\"translate(63.170384 158.21392)scale(0.1 -0.1)\">\n     <use xlink:href=\"#DejaVuSans-50\"/>\n     <use x=\"63.623047\" xlink:href=\"#DejaVuSans-46\"/>\n     <use x=\"95.410156\" xlink:href=\"#DejaVuSans-56\"/>\n     <use x=\"159.033203\" xlink:href=\"#DejaVuSans-101\"/>\n     <use x=\"220.556641\" xlink:href=\"#DejaVuSans-43\"/>\n     <use x=\"304.345703\" xlink:href=\"#DejaVuSans-48\"/>\n     <use x=\"367.96875\" xlink:href=\"#DejaVuSans-50\"/>\n    </g>\n   </g>\n   <g id=\"text_103\">\n    <!-- 2.8e+02 -->\n    <g style=\"fill:#ffffff;\" transform=\"translate(87.519474 158.21392)scale(0.1 -0.1)\">\n     <use xlink:href=\"#DejaVuSans-50\"/>\n     <use x=\"63.623047\" xlink:href=\"#DejaVuSans-46\"/>\n     <use x=\"95.410156\" xlink:href=\"#DejaVuSans-56\"/>\n     <use x=\"159.033203\" xlink:href=\"#DejaVuSans-101\"/>\n     <use x=\"220.556641\" xlink:href=\"#DejaVuSans-43\"/>\n     <use x=\"304.345703\" xlink:href=\"#DejaVuSans-48\"/>\n     <use x=\"367.96875\" xlink:href=\"#DejaVuSans-50\"/>\n    </g>\n   </g>\n   <g id=\"text_104\">\n    <!-- 2.8e+02 -->\n    <g style=\"fill:#ffffff;\" transform=\"translate(111.868565 158.21392)scale(0.1 -0.1)\">\n     <use xlink:href=\"#DejaVuSans-50\"/>\n     <use x=\"63.623047\" xlink:href=\"#DejaVuSans-46\"/>\n     <use x=\"95.410156\" xlink:href=\"#DejaVuSans-56\"/>\n     <use x=\"159.033203\" xlink:href=\"#DejaVuSans-101\"/>\n     <use x=\"220.556641\" xlink:href=\"#DejaVuSans-43\"/>\n     <use x=\"304.345703\" xlink:href=\"#DejaVuSans-48\"/>\n     <use x=\"367.96875\" xlink:href=\"#DejaVuSans-50\"/>\n    </g>\n   </g>\n   <g id=\"text_105\">\n    <!-- 2.8e+02 -->\n    <g style=\"fill:#ffffff;\" transform=\"translate(136.217656 158.21392)scale(0.1 -0.1)\">\n     <use xlink:href=\"#DejaVuSans-50\"/>\n     <use x=\"63.623047\" xlink:href=\"#DejaVuSans-46\"/>\n     <use x=\"95.410156\" xlink:href=\"#DejaVuSans-56\"/>\n     <use x=\"159.033203\" xlink:href=\"#DejaVuSans-101\"/>\n     <use x=\"220.556641\" xlink:href=\"#DejaVuSans-43\"/>\n     <use x=\"304.345703\" xlink:href=\"#DejaVuSans-48\"/>\n     <use x=\"367.96875\" xlink:href=\"#DejaVuSans-50\"/>\n    </g>\n   </g>\n   <g id=\"text_106\">\n    <!-- 2.8e+02 -->\n    <g style=\"fill:#ffffff;\" transform=\"translate(160.566747 158.21392)scale(0.1 -0.1)\">\n     <use xlink:href=\"#DejaVuSans-50\"/>\n     <use x=\"63.623047\" xlink:href=\"#DejaVuSans-46\"/>\n     <use x=\"95.410156\" xlink:href=\"#DejaVuSans-56\"/>\n     <use x=\"159.033203\" xlink:href=\"#DejaVuSans-101\"/>\n     <use x=\"220.556641\" xlink:href=\"#DejaVuSans-43\"/>\n     <use x=\"304.345703\" xlink:href=\"#DejaVuSans-48\"/>\n     <use x=\"367.96875\" xlink:href=\"#DejaVuSans-50\"/>\n    </g>\n   </g>\n   <g id=\"text_107\">\n    <!-- 2.7e+02 -->\n    <g style=\"fill:#ffffff;\" transform=\"translate(184.915838 158.21392)scale(0.1 -0.1)\">\n     <use xlink:href=\"#DejaVuSans-50\"/>\n     <use x=\"63.623047\" xlink:href=\"#DejaVuSans-46\"/>\n     <use x=\"95.410156\" xlink:href=\"#DejaVuSans-55\"/>\n     <use x=\"159.033203\" xlink:href=\"#DejaVuSans-101\"/>\n     <use x=\"220.556641\" xlink:href=\"#DejaVuSans-43\"/>\n     <use x=\"304.345703\" xlink:href=\"#DejaVuSans-48\"/>\n     <use x=\"367.96875\" xlink:href=\"#DejaVuSans-50\"/>\n    </g>\n   </g>\n   <g id=\"text_108\">\n    <!-- 2.8e+02 -->\n    <g style=\"fill:#ffffff;\" transform=\"translate(209.264929 158.21392)scale(0.1 -0.1)\">\n     <use xlink:href=\"#DejaVuSans-50\"/>\n     <use x=\"63.623047\" xlink:href=\"#DejaVuSans-46\"/>\n     <use x=\"95.410156\" xlink:href=\"#DejaVuSans-56\"/>\n     <use x=\"159.033203\" xlink:href=\"#DejaVuSans-101\"/>\n     <use x=\"220.556641\" xlink:href=\"#DejaVuSans-43\"/>\n     <use x=\"304.345703\" xlink:href=\"#DejaVuSans-48\"/>\n     <use x=\"367.96875\" xlink:href=\"#DejaVuSans-50\"/>\n    </g>\n   </g>\n   <g id=\"text_109\">\n    <!-- 2.8e+02 -->\n    <g style=\"fill:#ffffff;\" transform=\"translate(233.61402 158.21392)scale(0.1 -0.1)\">\n     <use xlink:href=\"#DejaVuSans-50\"/>\n     <use x=\"63.623047\" xlink:href=\"#DejaVuSans-46\"/>\n     <use x=\"95.410156\" xlink:href=\"#DejaVuSans-56\"/>\n     <use x=\"159.033203\" xlink:href=\"#DejaVuSans-101\"/>\n     <use x=\"220.556641\" xlink:href=\"#DejaVuSans-43\"/>\n     <use x=\"304.345703\" xlink:href=\"#DejaVuSans-48\"/>\n     <use x=\"367.96875\" xlink:href=\"#DejaVuSans-50\"/>\n    </g>\n   </g>\n   <g id=\"text_110\">\n    <!-- 2.7e+02 -->\n    <g style=\"fill:#ffffff;\" transform=\"translate(257.963111 158.21392)scale(0.1 -0.1)\">\n     <use xlink:href=\"#DejaVuSans-50\"/>\n     <use x=\"63.623047\" xlink:href=\"#DejaVuSans-46\"/>\n     <use x=\"95.410156\" xlink:href=\"#DejaVuSans-55\"/>\n     <use x=\"159.033203\" xlink:href=\"#DejaVuSans-101\"/>\n     <use x=\"220.556641\" xlink:href=\"#DejaVuSans-43\"/>\n     <use x=\"304.345703\" xlink:href=\"#DejaVuSans-48\"/>\n     <use x=\"367.96875\" xlink:href=\"#DejaVuSans-50\"/>\n    </g>\n   </g>\n   <g id=\"text_111\">\n    <!-- 3.2e+02 -->\n    <g style=\"fill:#262626;\" transform=\"translate(14.472202 177.981193)scale(0.1 -0.1)\">\n     <use xlink:href=\"#DejaVuSans-51\"/>\n     <use x=\"63.623047\" xlink:href=\"#DejaVuSans-46\"/>\n     <use x=\"95.410156\" xlink:href=\"#DejaVuSans-50\"/>\n     <use x=\"159.033203\" xlink:href=\"#DejaVuSans-101\"/>\n     <use x=\"220.556641\" xlink:href=\"#DejaVuSans-43\"/>\n     <use x=\"304.345703\" xlink:href=\"#DejaVuSans-48\"/>\n     <use x=\"367.96875\" xlink:href=\"#DejaVuSans-50\"/>\n    </g>\n   </g>\n   <g id=\"text_112\">\n    <!-- 2.7e+02 -->\n    <g style=\"fill:#ffffff;\" transform=\"translate(38.821293 177.981193)scale(0.1 -0.1)\">\n     <use xlink:href=\"#DejaVuSans-50\"/>\n     <use x=\"63.623047\" xlink:href=\"#DejaVuSans-46\"/>\n     <use x=\"95.410156\" xlink:href=\"#DejaVuSans-55\"/>\n     <use x=\"159.033203\" xlink:href=\"#DejaVuSans-101\"/>\n     <use x=\"220.556641\" xlink:href=\"#DejaVuSans-43\"/>\n     <use x=\"304.345703\" xlink:href=\"#DejaVuSans-48\"/>\n     <use x=\"367.96875\" xlink:href=\"#DejaVuSans-50\"/>\n    </g>\n   </g>\n   <g id=\"text_113\">\n    <!-- 2.8e+02 -->\n    <g style=\"fill:#ffffff;\" transform=\"translate(63.170384 177.981193)scale(0.1 -0.1)\">\n     <use xlink:href=\"#DejaVuSans-50\"/>\n     <use x=\"63.623047\" xlink:href=\"#DejaVuSans-46\"/>\n     <use x=\"95.410156\" xlink:href=\"#DejaVuSans-56\"/>\n     <use x=\"159.033203\" xlink:href=\"#DejaVuSans-101\"/>\n     <use x=\"220.556641\" xlink:href=\"#DejaVuSans-43\"/>\n     <use x=\"304.345703\" xlink:href=\"#DejaVuSans-48\"/>\n     <use x=\"367.96875\" xlink:href=\"#DejaVuSans-50\"/>\n    </g>\n   </g>\n   <g id=\"text_114\">\n    <!-- 2.8e+02 -->\n    <g style=\"fill:#ffffff;\" transform=\"translate(87.519474 177.981193)scale(0.1 -0.1)\">\n     <use xlink:href=\"#DejaVuSans-50\"/>\n     <use x=\"63.623047\" xlink:href=\"#DejaVuSans-46\"/>\n     <use x=\"95.410156\" xlink:href=\"#DejaVuSans-56\"/>\n     <use x=\"159.033203\" xlink:href=\"#DejaVuSans-101\"/>\n     <use x=\"220.556641\" xlink:href=\"#DejaVuSans-43\"/>\n     <use x=\"304.345703\" xlink:href=\"#DejaVuSans-48\"/>\n     <use x=\"367.96875\" xlink:href=\"#DejaVuSans-50\"/>\n    </g>\n   </g>\n   <g id=\"text_115\">\n    <!-- 2.8e+02 -->\n    <g style=\"fill:#ffffff;\" transform=\"translate(111.868565 177.981193)scale(0.1 -0.1)\">\n     <use xlink:href=\"#DejaVuSans-50\"/>\n     <use x=\"63.623047\" xlink:href=\"#DejaVuSans-46\"/>\n     <use x=\"95.410156\" xlink:href=\"#DejaVuSans-56\"/>\n     <use x=\"159.033203\" xlink:href=\"#DejaVuSans-101\"/>\n     <use x=\"220.556641\" xlink:href=\"#DejaVuSans-43\"/>\n     <use x=\"304.345703\" xlink:href=\"#DejaVuSans-48\"/>\n     <use x=\"367.96875\" xlink:href=\"#DejaVuSans-50\"/>\n    </g>\n   </g>\n   <g id=\"text_116\">\n    <!-- 2.8e+02 -->\n    <g style=\"fill:#ffffff;\" transform=\"translate(136.217656 177.981193)scale(0.1 -0.1)\">\n     <use xlink:href=\"#DejaVuSans-50\"/>\n     <use x=\"63.623047\" xlink:href=\"#DejaVuSans-46\"/>\n     <use x=\"95.410156\" xlink:href=\"#DejaVuSans-56\"/>\n     <use x=\"159.033203\" xlink:href=\"#DejaVuSans-101\"/>\n     <use x=\"220.556641\" xlink:href=\"#DejaVuSans-43\"/>\n     <use x=\"304.345703\" xlink:href=\"#DejaVuSans-48\"/>\n     <use x=\"367.96875\" xlink:href=\"#DejaVuSans-50\"/>\n    </g>\n   </g>\n   <g id=\"text_117\">\n    <!-- 2.8e+02 -->\n    <g style=\"fill:#ffffff;\" transform=\"translate(160.566747 177.981193)scale(0.1 -0.1)\">\n     <use xlink:href=\"#DejaVuSans-50\"/>\n     <use x=\"63.623047\" xlink:href=\"#DejaVuSans-46\"/>\n     <use x=\"95.410156\" xlink:href=\"#DejaVuSans-56\"/>\n     <use x=\"159.033203\" xlink:href=\"#DejaVuSans-101\"/>\n     <use x=\"220.556641\" xlink:href=\"#DejaVuSans-43\"/>\n     <use x=\"304.345703\" xlink:href=\"#DejaVuSans-48\"/>\n     <use x=\"367.96875\" xlink:href=\"#DejaVuSans-50\"/>\n    </g>\n   </g>\n   <g id=\"text_118\">\n    <!-- 2.7e+02 -->\n    <g style=\"fill:#ffffff;\" transform=\"translate(184.915838 177.981193)scale(0.1 -0.1)\">\n     <use xlink:href=\"#DejaVuSans-50\"/>\n     <use x=\"63.623047\" xlink:href=\"#DejaVuSans-46\"/>\n     <use x=\"95.410156\" xlink:href=\"#DejaVuSans-55\"/>\n     <use x=\"159.033203\" xlink:href=\"#DejaVuSans-101\"/>\n     <use x=\"220.556641\" xlink:href=\"#DejaVuSans-43\"/>\n     <use x=\"304.345703\" xlink:href=\"#DejaVuSans-48\"/>\n     <use x=\"367.96875\" xlink:href=\"#DejaVuSans-50\"/>\n    </g>\n   </g>\n   <g id=\"text_119\">\n    <!-- 2.8e+02 -->\n    <g style=\"fill:#ffffff;\" transform=\"translate(209.264929 177.981193)scale(0.1 -0.1)\">\n     <use xlink:href=\"#DejaVuSans-50\"/>\n     <use x=\"63.623047\" xlink:href=\"#DejaVuSans-46\"/>\n     <use x=\"95.410156\" xlink:href=\"#DejaVuSans-56\"/>\n     <use x=\"159.033203\" xlink:href=\"#DejaVuSans-101\"/>\n     <use x=\"220.556641\" xlink:href=\"#DejaVuSans-43\"/>\n     <use x=\"304.345703\" xlink:href=\"#DejaVuSans-48\"/>\n     <use x=\"367.96875\" xlink:href=\"#DejaVuSans-50\"/>\n    </g>\n   </g>\n   <g id=\"text_120\">\n    <!-- 2.8e+02 -->\n    <g style=\"fill:#ffffff;\" transform=\"translate(233.61402 177.981193)scale(0.1 -0.1)\">\n     <use xlink:href=\"#DejaVuSans-50\"/>\n     <use x=\"63.623047\" xlink:href=\"#DejaVuSans-46\"/>\n     <use x=\"95.410156\" xlink:href=\"#DejaVuSans-56\"/>\n     <use x=\"159.033203\" xlink:href=\"#DejaVuSans-101\"/>\n     <use x=\"220.556641\" xlink:href=\"#DejaVuSans-43\"/>\n     <use x=\"304.345703\" xlink:href=\"#DejaVuSans-48\"/>\n     <use x=\"367.96875\" xlink:href=\"#DejaVuSans-50\"/>\n    </g>\n   </g>\n   <g id=\"text_121\">\n    <!-- 2.7e+02 -->\n    <g style=\"fill:#ffffff;\" transform=\"translate(257.963111 177.981193)scale(0.1 -0.1)\">\n     <use xlink:href=\"#DejaVuSans-50\"/>\n     <use x=\"63.623047\" xlink:href=\"#DejaVuSans-46\"/>\n     <use x=\"95.410156\" xlink:href=\"#DejaVuSans-55\"/>\n     <use x=\"159.033203\" xlink:href=\"#DejaVuSans-101\"/>\n     <use x=\"220.556641\" xlink:href=\"#DejaVuSans-43\"/>\n     <use x=\"304.345703\" xlink:href=\"#DejaVuSans-48\"/>\n     <use x=\"367.96875\" xlink:href=\"#DejaVuSans-50\"/>\n    </g>\n   </g>\n   <g id=\"text_122\">\n    <!-- 3.2e+02 -->\n    <g style=\"fill:#262626;\" transform=\"translate(14.472202 197.748466)scale(0.1 -0.1)\">\n     <use xlink:href=\"#DejaVuSans-51\"/>\n     <use x=\"63.623047\" xlink:href=\"#DejaVuSans-46\"/>\n     <use x=\"95.410156\" xlink:href=\"#DejaVuSans-50\"/>\n     <use x=\"159.033203\" xlink:href=\"#DejaVuSans-101\"/>\n     <use x=\"220.556641\" xlink:href=\"#DejaVuSans-43\"/>\n     <use x=\"304.345703\" xlink:href=\"#DejaVuSans-48\"/>\n     <use x=\"367.96875\" xlink:href=\"#DejaVuSans-50\"/>\n    </g>\n   </g>\n   <g id=\"text_123\">\n    <!-- 2.7e+02 -->\n    <g style=\"fill:#ffffff;\" transform=\"translate(38.821293 197.748466)scale(0.1 -0.1)\">\n     <use xlink:href=\"#DejaVuSans-50\"/>\n     <use x=\"63.623047\" xlink:href=\"#DejaVuSans-46\"/>\n     <use x=\"95.410156\" xlink:href=\"#DejaVuSans-55\"/>\n     <use x=\"159.033203\" xlink:href=\"#DejaVuSans-101\"/>\n     <use x=\"220.556641\" xlink:href=\"#DejaVuSans-43\"/>\n     <use x=\"304.345703\" xlink:href=\"#DejaVuSans-48\"/>\n     <use x=\"367.96875\" xlink:href=\"#DejaVuSans-50\"/>\n    </g>\n   </g>\n   <g id=\"text_124\">\n    <!-- 2.8e+02 -->\n    <g style=\"fill:#ffffff;\" transform=\"translate(63.170384 197.748466)scale(0.1 -0.1)\">\n     <use xlink:href=\"#DejaVuSans-50\"/>\n     <use x=\"63.623047\" xlink:href=\"#DejaVuSans-46\"/>\n     <use x=\"95.410156\" xlink:href=\"#DejaVuSans-56\"/>\n     <use x=\"159.033203\" xlink:href=\"#DejaVuSans-101\"/>\n     <use x=\"220.556641\" xlink:href=\"#DejaVuSans-43\"/>\n     <use x=\"304.345703\" xlink:href=\"#DejaVuSans-48\"/>\n     <use x=\"367.96875\" xlink:href=\"#DejaVuSans-50\"/>\n    </g>\n   </g>\n   <g id=\"text_125\">\n    <!-- 2.8e+02 -->\n    <g style=\"fill:#ffffff;\" transform=\"translate(87.519474 197.748466)scale(0.1 -0.1)\">\n     <use xlink:href=\"#DejaVuSans-50\"/>\n     <use x=\"63.623047\" xlink:href=\"#DejaVuSans-46\"/>\n     <use x=\"95.410156\" xlink:href=\"#DejaVuSans-56\"/>\n     <use x=\"159.033203\" xlink:href=\"#DejaVuSans-101\"/>\n     <use x=\"220.556641\" xlink:href=\"#DejaVuSans-43\"/>\n     <use x=\"304.345703\" xlink:href=\"#DejaVuSans-48\"/>\n     <use x=\"367.96875\" xlink:href=\"#DejaVuSans-50\"/>\n    </g>\n   </g>\n   <g id=\"text_126\">\n    <!-- 2.8e+02 -->\n    <g style=\"fill:#ffffff;\" transform=\"translate(111.868565 197.748466)scale(0.1 -0.1)\">\n     <use xlink:href=\"#DejaVuSans-50\"/>\n     <use x=\"63.623047\" xlink:href=\"#DejaVuSans-46\"/>\n     <use x=\"95.410156\" xlink:href=\"#DejaVuSans-56\"/>\n     <use x=\"159.033203\" xlink:href=\"#DejaVuSans-101\"/>\n     <use x=\"220.556641\" xlink:href=\"#DejaVuSans-43\"/>\n     <use x=\"304.345703\" xlink:href=\"#DejaVuSans-48\"/>\n     <use x=\"367.96875\" xlink:href=\"#DejaVuSans-50\"/>\n    </g>\n   </g>\n   <g id=\"text_127\">\n    <!-- 2.8e+02 -->\n    <g style=\"fill:#ffffff;\" transform=\"translate(136.217656 197.748466)scale(0.1 -0.1)\">\n     <use xlink:href=\"#DejaVuSans-50\"/>\n     <use x=\"63.623047\" xlink:href=\"#DejaVuSans-46\"/>\n     <use x=\"95.410156\" xlink:href=\"#DejaVuSans-56\"/>\n     <use x=\"159.033203\" xlink:href=\"#DejaVuSans-101\"/>\n     <use x=\"220.556641\" xlink:href=\"#DejaVuSans-43\"/>\n     <use x=\"304.345703\" xlink:href=\"#DejaVuSans-48\"/>\n     <use x=\"367.96875\" xlink:href=\"#DejaVuSans-50\"/>\n    </g>\n   </g>\n   <g id=\"text_128\">\n    <!-- 2.8e+02 -->\n    <g style=\"fill:#ffffff;\" transform=\"translate(160.566747 197.748466)scale(0.1 -0.1)\">\n     <use xlink:href=\"#DejaVuSans-50\"/>\n     <use x=\"63.623047\" xlink:href=\"#DejaVuSans-46\"/>\n     <use x=\"95.410156\" xlink:href=\"#DejaVuSans-56\"/>\n     <use x=\"159.033203\" xlink:href=\"#DejaVuSans-101\"/>\n     <use x=\"220.556641\" xlink:href=\"#DejaVuSans-43\"/>\n     <use x=\"304.345703\" xlink:href=\"#DejaVuSans-48\"/>\n     <use x=\"367.96875\" xlink:href=\"#DejaVuSans-50\"/>\n    </g>\n   </g>\n   <g id=\"text_129\">\n    <!-- 2.7e+02 -->\n    <g style=\"fill:#ffffff;\" transform=\"translate(184.915838 197.748466)scale(0.1 -0.1)\">\n     <use xlink:href=\"#DejaVuSans-50\"/>\n     <use x=\"63.623047\" xlink:href=\"#DejaVuSans-46\"/>\n     <use x=\"95.410156\" xlink:href=\"#DejaVuSans-55\"/>\n     <use x=\"159.033203\" xlink:href=\"#DejaVuSans-101\"/>\n     <use x=\"220.556641\" xlink:href=\"#DejaVuSans-43\"/>\n     <use x=\"304.345703\" xlink:href=\"#DejaVuSans-48\"/>\n     <use x=\"367.96875\" xlink:href=\"#DejaVuSans-50\"/>\n    </g>\n   </g>\n   <g id=\"text_130\">\n    <!-- 2.8e+02 -->\n    <g style=\"fill:#ffffff;\" transform=\"translate(209.264929 197.748466)scale(0.1 -0.1)\">\n     <use xlink:href=\"#DejaVuSans-50\"/>\n     <use x=\"63.623047\" xlink:href=\"#DejaVuSans-46\"/>\n     <use x=\"95.410156\" xlink:href=\"#DejaVuSans-56\"/>\n     <use x=\"159.033203\" xlink:href=\"#DejaVuSans-101\"/>\n     <use x=\"220.556641\" xlink:href=\"#DejaVuSans-43\"/>\n     <use x=\"304.345703\" xlink:href=\"#DejaVuSans-48\"/>\n     <use x=\"367.96875\" xlink:href=\"#DejaVuSans-50\"/>\n    </g>\n   </g>\n   <g id=\"text_131\">\n    <!-- 2.8e+02 -->\n    <g style=\"fill:#ffffff;\" transform=\"translate(233.61402 197.748466)scale(0.1 -0.1)\">\n     <use xlink:href=\"#DejaVuSans-50\"/>\n     <use x=\"63.623047\" xlink:href=\"#DejaVuSans-46\"/>\n     <use x=\"95.410156\" xlink:href=\"#DejaVuSans-56\"/>\n     <use x=\"159.033203\" xlink:href=\"#DejaVuSans-101\"/>\n     <use x=\"220.556641\" xlink:href=\"#DejaVuSans-43\"/>\n     <use x=\"304.345703\" xlink:href=\"#DejaVuSans-48\"/>\n     <use x=\"367.96875\" xlink:href=\"#DejaVuSans-50\"/>\n    </g>\n   </g>\n   <g id=\"text_132\">\n    <!-- 2.7e+02 -->\n    <g style=\"fill:#ffffff;\" transform=\"translate(257.963111 197.748466)scale(0.1 -0.1)\">\n     <use xlink:href=\"#DejaVuSans-50\"/>\n     <use x=\"63.623047\" xlink:href=\"#DejaVuSans-46\"/>\n     <use x=\"95.410156\" xlink:href=\"#DejaVuSans-55\"/>\n     <use x=\"159.033203\" xlink:href=\"#DejaVuSans-101\"/>\n     <use x=\"220.556641\" xlink:href=\"#DejaVuSans-43\"/>\n     <use x=\"304.345703\" xlink:href=\"#DejaVuSans-48\"/>\n     <use x=\"367.96875\" xlink:href=\"#DejaVuSans-50\"/>\n    </g>\n   </g>\n   <g id=\"text_133\">\n    <!-- 3.2e+02 -->\n    <g style=\"fill:#262626;\" transform=\"translate(14.472202 217.515739)scale(0.1 -0.1)\">\n     <use xlink:href=\"#DejaVuSans-51\"/>\n     <use x=\"63.623047\" xlink:href=\"#DejaVuSans-46\"/>\n     <use x=\"95.410156\" xlink:href=\"#DejaVuSans-50\"/>\n     <use x=\"159.033203\" xlink:href=\"#DejaVuSans-101\"/>\n     <use x=\"220.556641\" xlink:href=\"#DejaVuSans-43\"/>\n     <use x=\"304.345703\" xlink:href=\"#DejaVuSans-48\"/>\n     <use x=\"367.96875\" xlink:href=\"#DejaVuSans-50\"/>\n    </g>\n   </g>\n   <g id=\"text_134\">\n    <!-- 2.7e+02 -->\n    <g style=\"fill:#ffffff;\" transform=\"translate(38.821293 217.515739)scale(0.1 -0.1)\">\n     <use xlink:href=\"#DejaVuSans-50\"/>\n     <use x=\"63.623047\" xlink:href=\"#DejaVuSans-46\"/>\n     <use x=\"95.410156\" xlink:href=\"#DejaVuSans-55\"/>\n     <use x=\"159.033203\" xlink:href=\"#DejaVuSans-101\"/>\n     <use x=\"220.556641\" xlink:href=\"#DejaVuSans-43\"/>\n     <use x=\"304.345703\" xlink:href=\"#DejaVuSans-48\"/>\n     <use x=\"367.96875\" xlink:href=\"#DejaVuSans-50\"/>\n    </g>\n   </g>\n   <g id=\"text_135\">\n    <!-- 2.8e+02 -->\n    <g style=\"fill:#ffffff;\" transform=\"translate(63.170384 217.515739)scale(0.1 -0.1)\">\n     <use xlink:href=\"#DejaVuSans-50\"/>\n     <use x=\"63.623047\" xlink:href=\"#DejaVuSans-46\"/>\n     <use x=\"95.410156\" xlink:href=\"#DejaVuSans-56\"/>\n     <use x=\"159.033203\" xlink:href=\"#DejaVuSans-101\"/>\n     <use x=\"220.556641\" xlink:href=\"#DejaVuSans-43\"/>\n     <use x=\"304.345703\" xlink:href=\"#DejaVuSans-48\"/>\n     <use x=\"367.96875\" xlink:href=\"#DejaVuSans-50\"/>\n    </g>\n   </g>\n   <g id=\"text_136\">\n    <!-- 2.8e+02 -->\n    <g style=\"fill:#ffffff;\" transform=\"translate(87.519474 217.515739)scale(0.1 -0.1)\">\n     <use xlink:href=\"#DejaVuSans-50\"/>\n     <use x=\"63.623047\" xlink:href=\"#DejaVuSans-46\"/>\n     <use x=\"95.410156\" xlink:href=\"#DejaVuSans-56\"/>\n     <use x=\"159.033203\" xlink:href=\"#DejaVuSans-101\"/>\n     <use x=\"220.556641\" xlink:href=\"#DejaVuSans-43\"/>\n     <use x=\"304.345703\" xlink:href=\"#DejaVuSans-48\"/>\n     <use x=\"367.96875\" xlink:href=\"#DejaVuSans-50\"/>\n    </g>\n   </g>\n   <g id=\"text_137\">\n    <!-- 2.8e+02 -->\n    <g style=\"fill:#ffffff;\" transform=\"translate(111.868565 217.515739)scale(0.1 -0.1)\">\n     <use xlink:href=\"#DejaVuSans-50\"/>\n     <use x=\"63.623047\" xlink:href=\"#DejaVuSans-46\"/>\n     <use x=\"95.410156\" xlink:href=\"#DejaVuSans-56\"/>\n     <use x=\"159.033203\" xlink:href=\"#DejaVuSans-101\"/>\n     <use x=\"220.556641\" xlink:href=\"#DejaVuSans-43\"/>\n     <use x=\"304.345703\" xlink:href=\"#DejaVuSans-48\"/>\n     <use x=\"367.96875\" xlink:href=\"#DejaVuSans-50\"/>\n    </g>\n   </g>\n   <g id=\"text_138\">\n    <!-- 2.8e+02 -->\n    <g style=\"fill:#ffffff;\" transform=\"translate(136.217656 217.515739)scale(0.1 -0.1)\">\n     <use xlink:href=\"#DejaVuSans-50\"/>\n     <use x=\"63.623047\" xlink:href=\"#DejaVuSans-46\"/>\n     <use x=\"95.410156\" xlink:href=\"#DejaVuSans-56\"/>\n     <use x=\"159.033203\" xlink:href=\"#DejaVuSans-101\"/>\n     <use x=\"220.556641\" xlink:href=\"#DejaVuSans-43\"/>\n     <use x=\"304.345703\" xlink:href=\"#DejaVuSans-48\"/>\n     <use x=\"367.96875\" xlink:href=\"#DejaVuSans-50\"/>\n    </g>\n   </g>\n   <g id=\"text_139\">\n    <!-- 2.8e+02 -->\n    <g style=\"fill:#ffffff;\" transform=\"translate(160.566747 217.515739)scale(0.1 -0.1)\">\n     <use xlink:href=\"#DejaVuSans-50\"/>\n     <use x=\"63.623047\" xlink:href=\"#DejaVuSans-46\"/>\n     <use x=\"95.410156\" xlink:href=\"#DejaVuSans-56\"/>\n     <use x=\"159.033203\" xlink:href=\"#DejaVuSans-101\"/>\n     <use x=\"220.556641\" xlink:href=\"#DejaVuSans-43\"/>\n     <use x=\"304.345703\" xlink:href=\"#DejaVuSans-48\"/>\n     <use x=\"367.96875\" xlink:href=\"#DejaVuSans-50\"/>\n    </g>\n   </g>\n   <g id=\"text_140\">\n    <!-- 2.7e+02 -->\n    <g style=\"fill:#ffffff;\" transform=\"translate(184.915838 217.515739)scale(0.1 -0.1)\">\n     <use xlink:href=\"#DejaVuSans-50\"/>\n     <use x=\"63.623047\" xlink:href=\"#DejaVuSans-46\"/>\n     <use x=\"95.410156\" xlink:href=\"#DejaVuSans-55\"/>\n     <use x=\"159.033203\" xlink:href=\"#DejaVuSans-101\"/>\n     <use x=\"220.556641\" xlink:href=\"#DejaVuSans-43\"/>\n     <use x=\"304.345703\" xlink:href=\"#DejaVuSans-48\"/>\n     <use x=\"367.96875\" xlink:href=\"#DejaVuSans-50\"/>\n    </g>\n   </g>\n   <g id=\"text_141\">\n    <!-- 2.8e+02 -->\n    <g style=\"fill:#ffffff;\" transform=\"translate(209.264929 217.515739)scale(0.1 -0.1)\">\n     <use xlink:href=\"#DejaVuSans-50\"/>\n     <use x=\"63.623047\" xlink:href=\"#DejaVuSans-46\"/>\n     <use x=\"95.410156\" xlink:href=\"#DejaVuSans-56\"/>\n     <use x=\"159.033203\" xlink:href=\"#DejaVuSans-101\"/>\n     <use x=\"220.556641\" xlink:href=\"#DejaVuSans-43\"/>\n     <use x=\"304.345703\" xlink:href=\"#DejaVuSans-48\"/>\n     <use x=\"367.96875\" xlink:href=\"#DejaVuSans-50\"/>\n    </g>\n   </g>\n   <g id=\"text_142\">\n    <!-- 2.8e+02 -->\n    <g style=\"fill:#ffffff;\" transform=\"translate(233.61402 217.515739)scale(0.1 -0.1)\">\n     <use xlink:href=\"#DejaVuSans-50\"/>\n     <use x=\"63.623047\" xlink:href=\"#DejaVuSans-46\"/>\n     <use x=\"95.410156\" xlink:href=\"#DejaVuSans-56\"/>\n     <use x=\"159.033203\" xlink:href=\"#DejaVuSans-101\"/>\n     <use x=\"220.556641\" xlink:href=\"#DejaVuSans-43\"/>\n     <use x=\"304.345703\" xlink:href=\"#DejaVuSans-48\"/>\n     <use x=\"367.96875\" xlink:href=\"#DejaVuSans-50\"/>\n    </g>\n   </g>\n   <g id=\"text_143\">\n    <!-- 2.7e+02 -->\n    <g style=\"fill:#ffffff;\" transform=\"translate(257.963111 217.515739)scale(0.1 -0.1)\">\n     <use xlink:href=\"#DejaVuSans-50\"/>\n     <use x=\"63.623047\" xlink:href=\"#DejaVuSans-46\"/>\n     <use x=\"95.410156\" xlink:href=\"#DejaVuSans-55\"/>\n     <use x=\"159.033203\" xlink:href=\"#DejaVuSans-101\"/>\n     <use x=\"220.556641\" xlink:href=\"#DejaVuSans-43\"/>\n     <use x=\"304.345703\" xlink:href=\"#DejaVuSans-48\"/>\n     <use x=\"367.96875\" xlink:href=\"#DejaVuSans-50\"/>\n    </g>\n   </g>\n  </g>\n  <g id=\"axes_2\">\n   <g id=\"patch_3\">\n    <path clip-path=\"url(#p258be2e581)\" d=\"M 308.458125 224.64 \nL 308.458125 223.790625 \nL 308.458125 8.049375 \nL 308.458125 7.2 \nL 319.330125 7.2 \nL 319.330125 8.049375 \nL 319.330125 223.790625 \nL 319.330125 224.64 \nz\n\" style=\"fill:#ffffff;stroke:#ffffff;stroke-linejoin:miter;stroke-width:0.01;\"/>\n   </g>\n   <image height=\"217\" id=\"image9171f8d0ff\" transform=\"scale(1 -1)translate(0 -217)\" width=\"11\" x=\"308\" xlink:href=\"data:image/png;base64,\niVBORw0KGgoAAAANSUhEUgAAAAsAAADZCAYAAAD2WsoCAAABX0lEQVR4nNWa2w0DMQjAeN0S3X/OXlfAH5ZovhEyhqS5qDnP543lmszcxtLgAMFdJWUurcAiGCgzsuFhHPHc6dk4MXWoQLEpNzKb7dZsaBgTaDb2y5wNrd0QY7/Mk58EjzZIzIbXbm9brUPp8HvqoA2AIarTmJGNI8wIg+1ukpkVuP48+FsbJJjY8DDmBgZrN2EehHHEhoYx7z61uAfrBgaykWExwwIBRjNmEgxEi+oSnAXTJLhIMMKAmdexMV1fKbNYIDjsGHM1sAGZAQZSJ9oYbTYQs6auwFWGYYQ3G14wuPeQxx6qjmUGN3OWGdwLJgiGx8wwwM8mzEyeLFBmGEze6zQbQZ4NPRtJbES3hIGa4nnO0QoU200yoz0IPnlVG6SDHgaywc461EFLHdzdGoZXIMrcaPhvMLN2o3nWNmzemDrRBinwxvBnP1Jmc/iJZ9Ju9C+LKwWydmtnnVXgD2R4KiPLLY7SAAAAAElFTkSuQmCC\" y=\"-7\"/>\n   <g id=\"matplotlib.axis_3\"/>\n   <g id=\"matplotlib.axis_4\">\n    <g id=\"ytick_12\">\n     <g id=\"line2d_23\">\n      <defs>\n       <path d=\"M 0 0 \nL 3.5 0 \n\" id=\"mfa78558241\" style=\"stroke:#000000;stroke-width:0.8;\"/>\n      </defs>\n      <g>\n       <use style=\"stroke:#000000;stroke-width:0.8;\" x=\"319.330125\" xlink:href=\"#mfa78558241\" y=\"208.70505\"/>\n      </g>\n     </g>\n     <g id=\"text_144\">\n      <!-- 270 -->\n      <g transform=\"translate(326.330125 212.504269)scale(0.1 -0.1)\">\n       <use xlink:href=\"#DejaVuSans-50\"/>\n       <use x=\"63.623047\" xlink:href=\"#DejaVuSans-55\"/>\n       <use x=\"127.246094\" xlink:href=\"#DejaVuSans-48\"/>\n      </g>\n     </g>\n    </g>\n    <g id=\"ytick_13\">\n     <g id=\"line2d_24\">\n      <g>\n       <use style=\"stroke:#000000;stroke-width:0.8;\" x=\"319.330125\" xlink:href=\"#mfa78558241\" y=\"164.122403\"/>\n      </g>\n     </g>\n     <g id=\"text_145\">\n      <!-- 280 -->\n      <g transform=\"translate(326.330125 167.921621)scale(0.1 -0.1)\">\n       <use xlink:href=\"#DejaVuSans-50\"/>\n       <use x=\"63.623047\" xlink:href=\"#DejaVuSans-56\"/>\n       <use x=\"127.246094\" xlink:href=\"#DejaVuSans-48\"/>\n      </g>\n     </g>\n    </g>\n    <g id=\"ytick_14\">\n     <g id=\"line2d_25\">\n      <g>\n       <use style=\"stroke:#000000;stroke-width:0.8;\" x=\"319.330125\" xlink:href=\"#mfa78558241\" y=\"119.539755\"/>\n      </g>\n     </g>\n     <g id=\"text_146\">\n      <!-- 290 -->\n      <g transform=\"translate(326.330125 123.338974)scale(0.1 -0.1)\">\n       <use xlink:href=\"#DejaVuSans-50\"/>\n       <use x=\"63.623047\" xlink:href=\"#DejaVuSans-57\"/>\n       <use x=\"127.246094\" xlink:href=\"#DejaVuSans-48\"/>\n      </g>\n     </g>\n    </g>\n    <g id=\"ytick_15\">\n     <g id=\"line2d_26\">\n      <g>\n       <use style=\"stroke:#000000;stroke-width:0.8;\" x=\"319.330125\" xlink:href=\"#mfa78558241\" y=\"74.957107\"/>\n      </g>\n     </g>\n     <g id=\"text_147\">\n      <!-- 300 -->\n      <g transform=\"translate(326.330125 78.756326)scale(0.1 -0.1)\">\n       <use xlink:href=\"#DejaVuSans-51\"/>\n       <use x=\"63.623047\" xlink:href=\"#DejaVuSans-48\"/>\n       <use x=\"127.246094\" xlink:href=\"#DejaVuSans-48\"/>\n      </g>\n     </g>\n    </g>\n    <g id=\"ytick_16\">\n     <g id=\"line2d_27\">\n      <g>\n       <use style=\"stroke:#000000;stroke-width:0.8;\" x=\"319.330125\" xlink:href=\"#mfa78558241\" y=\"30.37446\"/>\n      </g>\n     </g>\n     <g id=\"text_148\">\n      <!-- 310 -->\n      <g transform=\"translate(326.330125 34.173678)scale(0.1 -0.1)\">\n       <use xlink:href=\"#DejaVuSans-51\"/>\n       <use x=\"63.623047\" xlink:href=\"#DejaVuSans-49\"/>\n       <use x=\"127.246094\" xlink:href=\"#DejaVuSans-48\"/>\n      </g>\n     </g>\n    </g>\n   </g>\n   <g id=\"patch_4\">\n    <path d=\"M 308.458125 224.64 \nL 308.458125 223.790625 \nL 308.458125 8.049375 \nL 308.458125 7.2 \nL 319.330125 7.2 \nL 319.330125 8.049375 \nL 319.330125 223.790625 \nL 319.330125 224.64 \nz\n\" style=\"fill:none;\"/>\n   </g>\n  </g>\n </g>\n <defs>\n  <clipPath id=\"p2df2f45837\">\n   <rect height=\"217.44\" width=\"267.84\" x=\"23.878125\" y=\"7.2\"/>\n  </clipPath>\n  <clipPath id=\"p258be2e581\">\n   <rect height=\"217.44\" width=\"10.872\" x=\"308.458125\" y=\"7.2\"/>\n  </clipPath>\n </defs>\n</svg>\n",
            "image/png": "[encoded data removed]"
          },
          "metadata": {
            "needs_background": "light"
          }
        }
      ],
      "source": [
        "sns.heatmap(confusion_tr, annot=True)"
      ]
    },
    {
      "cell_type": "markdown",
      "metadata": {
        "id": "2o1oCMXy61_3"
      },
      "source": [
        "## **Testing**\n",
        "\n",
        "For inference, we need to make sure the model is in eval mode, and the order of the dataset should not be shuffled (\"shuffle=False\" in test_loader).\n",
        "\n",
        "Last but not least, don't forget to save the predictions into a single CSV file.\n",
        "The format of CSV file should follow the rules mentioned in the slides.\n",
        "\n",
        "### **WARNING -- Keep in Mind**\n",
        "\n",
        "Cheating includes but not limited to:\n",
        "1.   using testing labels,\n",
        "2.   submitting results to previous Kaggle competitions,\n",
        "3.   sharing predictions with others,\n",
        "4.   copying codes from any creatures on Earth,\n",
        "5.   asking other people to do it for you.\n",
        "\n",
        "Any violations bring you punishments from getting a discount on the final grade to failing the course.\n",
        "\n",
        "It is your responsibility to check whether your code violates the rules.\n",
        "When citing codes from the Internet, you should know what these codes exactly do.\n",
        "You will **NOT** be tolerated if you break the rule and claim you don't know what these codes do.\n"
      ]
    },
    {
      "source": [
        "it = iter(test_loader)\n",
        "a = next(it)[0].to(device)\n",
        "ae_model.eval()\n",
        "b = ae_model(a)\n",
        "import cv2\n",
        "b = b.to('cpu').detach().numpy().transpose([0, 2, 3, 1])\n",
        "a = a.to('cpu').detach().numpy().transpose([0, 2, 3, 1])\n",
        "def norm(img):\n",
        "    for i in range(3):\n",
        "        ch = img[:, :, i]\n",
        "        a = ch.min()\n",
        "        b = ch.max()\n",
        "        img[:, :, i] = (ch-a)/(b-a)\n",
        "    return (img*255).astype('uint8')\n",
        "for i, img in enumerate(b):\n",
        "    cv2.imwrite(f\"img/{i}.png\", norm(img))\n",
        "    cv2.imwrite(f\"img/{i}_.png\", norm(a[i]))\n",
        "    if i == 0:\n",
        "        break"
      ],
      "cell_type": "markdown",
      "metadata": {}
    },
    {
      "cell_type": "code",
      "metadata": {
        "id": "4HznI9_-ocrq"
      },
      "source": [
        "# device = \"cuda\" if torch.cuda.is_available() else \"cpu\"\n",
        "model = Classifier(*model_).to(device)\n",
        "model_path = f'./model_{name_t}.ckpt'\n",
        "model.load_state_dict(torch.load(model_path))\n",
        "model.eval()\n",
        "\n",
        "# Initialize a list to store the predictions.\n",
        "predictions = []\n",
        "\n",
        "# Iterate the testing set by batches.\n",
        "for batch in tqdm(rd_test_loader):\n",
        "    # imgs, _ = batch\n",
        "    imgs = rd_test_set.merge_batch(batch)\n",
        "\n",
        "    # We don't need gradient in testing, and we don't even have labels to compute loss.\n",
        "    # Using torch.no_grad() accelerates the forward process.\n",
        "    with torch.no_grad():\n",
        "        logits = model(imgs.to(device))\n",
        "    \n",
        "    # Take the class with greatest logit as prediction and record it.\n",
        "    # predictions.extend(logits.argmax(dim=-1).cpu().numpy().tolist())\n",
        "    predictions.extend(rd_test_set.merge_predict(logits))"
      ],
      "execution_count": 21,
      "outputs": [
        {
          "output_type": "display_data",
          "data": {
            "text/plain": "  0%|          | 0/210 [00:00<?, ?it/s]",
            "application/vnd.jupyter.widget-view+json": {
              "version_major": 2,
              "version_minor": 0,
              "model_id": "3fd5958500024a50bc5a8417f7b8ca51"
            }
          },
          "metadata": {}
        }
      ]
    },
    {
      "cell_type": "code",
      "metadata": {
        "id": "3t2q2Th85ZUE"
      },
      "source": [
        "# Save predictions into the file.\n",
        "with open(\"predict.csv\", \"w\") as f:\n",
        "\n",
        "    # The first row must be \"Id, Category\"\n",
        "    f.write(\"Id,Category\\n\")\n",
        "\n",
        "    # For the rest of the rows, each image id corresponds to a predicted class.\n",
        "    for i, pred in  enumerate(predictions):\n",
        "         f.write(f\"{i},{pred}\\n\")"
      ],
      "execution_count": 22,
      "outputs": []
    },
    {
      "cell_type": "code",
      "execution_count": 23,
      "metadata": {},
      "outputs": [],
      "source": [
        "torch.cuda.empty_cache()"
      ]
    }
  ]
}