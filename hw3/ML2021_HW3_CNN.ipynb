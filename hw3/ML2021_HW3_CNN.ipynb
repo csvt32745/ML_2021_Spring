{
  "nbformat": 4,
  "nbformat_minor": 0,
  "metadata": {
    "accelerator": "GPU",
    "colab": {
      "name": "HW3-CNN.ipynb",
      "provenance": [],
      "collapsed_sections": [],
      "toc_visible": true
    },
    "kernelspec": {
      "display_name": "Python 3",
      "name": "python3",
      "language": "python"
    }
  },
  "cells": [
    {
      "cell_type": "markdown",
      "metadata": {
        "id": "D_a2USyd4giE"
      },
      "source": [
        "# **Homework 3 - Convolutional Neural Network**\n",
        "\n",
        "This is the example code of homework 3 of the machine learning course by Prof. Hung-yi Lee.\n",
        "\n",
        "In this homework, you are required to build a convolutional neural network for image classification, possibly with some advanced training tips.\n",
        "\n",
        "\n",
        "There are three levels here:\n",
        "\n",
        "**Easy**: Build a simple convolutional neural network as the baseline. (2 pts)\n",
        "\n",
        "**Medium**: Design a better architecture or adopt different data augmentations to improve the performance. (2 pts)\n",
        "\n",
        "**Hard**: Utilize provided unlabeled data to obtain better results. (2 pts)"
      ]
    },
    {
      "cell_type": "markdown",
      "metadata": {
        "id": "VHpJocsDr6iA"
      },
      "source": [
        "## **About the Dataset**\n",
        "\n",
        "The dataset used here is food-11, a collection of food images in 11 classes.\n",
        "\n",
        "For the requirement in the homework, TAs slightly modified the data.\n",
        "Please DO NOT access the original fully-labeled training data or testing labels.\n",
        "\n",
        "Also, the modified dataset is for this course only, and any further distribution or commercial use is forbidden."
      ]
    },
    {
      "cell_type": "code",
      "execution_count": 1,
      "metadata": {},
      "outputs": [],
      "source": [
        "import os\n",
        "\n",
        "os.environ['CUDA_VISIBLE_DEVICES'] = '1'"
      ]
    },
    {
      "cell_type": "code",
      "metadata": {
        "id": "zhzdomRTOKoJ"
      },
      "source": [
        "# Download the dataset\n",
        "# You may choose where to download the data.\n",
        "\n",
        "# Google Drive\n",
        "# !gdown --id '1awF7pZ9Dz7X1jn1_QAiKN-_v56veCEKy' --output food-11.zip\n",
        "\n",
        "# Dropbox\n",
        "# !wget https://www.dropbox.com/s/m9q6273jl3djall/food-11.zip -O food-11.zip\n",
        "\n",
        "# Unzip the dataset.\n",
        "# This may take some time.\n",
        "# !unzip -q food-11.zip"
      ],
      "execution_count": 2,
      "outputs": []
    },
    {
      "cell_type": "markdown",
      "metadata": {
        "id": "BBVSCWWhp6uq"
      },
      "source": [
        "## **Import Packages**\n",
        "\n",
        "First, we need to import packages that will be used later.\n",
        "\n",
        "In this homework, we highly rely on **torchvision**, a library of PyTorch."
      ]
    },
    {
      "cell_type": "code",
      "metadata": {
        "id": "9sVrKci4PUFW"
      },
      "source": [
        "# Import necessary packages.\n",
        "import numpy as np\n",
        "import torch\n",
        "import torch.nn as nn\n",
        "import torchvision\n",
        "import torchvision.transforms as transforms\n",
        "from PIL import Image\n",
        "# \"ConcatDataset\" and \"Subset\" are possibly useful when doing semi-supervised learning.\n",
        "from torch.utils.data import ConcatDataset, DataLoader, Subset\n",
        "from torchvision.datasets import DatasetFolder\n",
        "\n",
        "# This is for the progress bar.\n",
        "from tqdm.notebook import tqdm"
      ],
      "execution_count": 3,
      "outputs": []
    },
    {
      "cell_type": "markdown",
      "metadata": {
        "id": "F0i9ZCPrOVN_"
      },
      "source": [
        "## **Dataset, Data Loader, and Transforms**\n",
        "\n",
        "Torchvision provides lots of useful utilities for image preprocessing, data wrapping as well as data augmentation.\n",
        "\n",
        "Here, since our data are stored in folders by class labels, we can directly apply **torchvision.datasets.DatasetFolder** for wrapping data without much effort.\n",
        "\n",
        "Please refer to [PyTorch official website](https://pytorch.org/vision/stable/transforms.html) for details about different transforms."
      ]
    },
    {
      "cell_type": "code",
      "metadata": {
        "id": "gKd2abixQghI"
      },
      "source": [
        "# It is important to do data augmentation in training.\n",
        "# However, not every augmentation is useful.\n",
        "# Please think about what kind of augmentation is helpful for food recognition.\n",
        "train_tfm = transforms.Compose([\n",
        "    # Resize the image into a fixed shape (height = width = 128)\n",
        "    transforms.Resize(224),\n",
        "    transforms.CenterCrop(224),\n",
        "    transforms.RandomRotation(60),\n",
        "    transforms.ColorJitter(brightness=0.2, contrast=0.25, saturation=.15, hue=0.05),\n",
        "    transforms.RandomVerticalFlip(p=0.1),\n",
        "    transforms.RandomHorizontalFlip(p=0.5),\n",
        "    transforms.ToTensor(),\n",
        "    transforms.RandomErasing(p=0.5, scale=(0.05, 0.15), ratio=(0.5, 1.5), value=0, inplace=False),\n",
        "    transforms.Normalize(mean = (0.5, 0.5, 0.5), std = (0.25, 0.25, 0.25)),\n",
        "])\n",
        "\n",
        "# We don't need augmentations in testing and validation.\n",
        "# All we need here is to resize the PIL image and transform it into Tensor.\n",
        "test_tfm = transforms.Compose([\n",
        "    transforms.Resize(224),\n",
        "    transforms.CenterCrop(224),\n",
        "    transforms.ToTensor(),\n",
        "    transforms.Normalize(mean = (0.5, 0.5, 0.5), std = (0.25, 0.25, 0.25)),\n",
        "])\n"
      ],
      "execution_count": 4,
      "outputs": []
    },
    {
      "cell_type": "code",
      "metadata": {
        "id": "qz6jeMnkQl0_"
      },
      "source": [
        "# Batch size for training, validation, and testing.\n",
        "# A greater batch size usually gives a more stable gradient.\n",
        "# But the GPU memory is limited, so please adjust it carefully.\n",
        "batch_size = 128\n",
        "\n",
        "# Construct datasets.\n",
        "# The argument \"loader\" tells how torchvision reads the data.\n",
        "data_folder = \"/data/ML2021/hw3/\"\n",
        "\n",
        "train_set = DatasetFolder(data_folder+\"food-11/training/labeled\", loader=lambda x: Image.open(x),extensions=\"jpg\", transform=train_tfm)\n",
        "valid_set = DatasetFolder(data_folder+\"food-11/validation\", loader=lambda x: Image.open(x),extensions=\"jpg\", transform=test_tfm)\n",
        "unlabeled_set = DatasetFolder(data_folder+\"food-11/training/unlabeled\", loader=lambda x: Image.open(x), extensions=\"jpg\", transform=train_tfm)\n",
        "test_set = DatasetFolder(data_folder+\"food-11/testing\", loader=lambda x: Image.open(x), extensions=\"jpg\", transform=test_tfm)\n",
        "\n",
        "# Construct data loaders.\n",
        "train_loader = DataLoader(train_set, batch_size=batch_size, shuffle=True, num_workers=8, pin_memory=True)\n",
        "valid_loader = DataLoader(valid_set, batch_size=batch_size, shuffle=True, num_workers=2, pin_memory=True)\n",
        "unlab_loader = DataLoader(unlabeled_set, batch_size=batch_size, shuffle=False, num_workers=8, pin_memory=True)\n",
        "test_loader = DataLoader(test_set, batch_size=batch_size, shuffle=False)"
      ],
      "execution_count": 5,
      "outputs": []
    },
    {
      "cell_type": "markdown",
      "metadata": {
        "id": "j9YhZo7POPYG"
      },
      "source": [
        "## **Model**\n",
        "\n",
        "The basic model here is simply a stack of convolutional layers followed by some fully-connected layers.\n",
        "\n",
        "Since there are three channels for a color image (RGB), the input channels of the network must be three.\n",
        "In each convolutional layer, typically the channels of inputs grow, while the height and width shrink (or remain unchanged, according to some hyperparameters like stride and padding).\n",
        "\n",
        "Before fed into fully-connected layers, the feature map must be flattened into a single one-dimensional vector (for each image).\n",
        "These features are then transformed by the fully-connected layers, and finally, we obtain the \"logits\" for each class.\n",
        "\n",
        "### **WARNING -- You Must Know**\n",
        "You are free to modify the model architecture here for further improvement.\n",
        "However, if you want to use some well-known architectures such as ResNet50, please make sure **NOT** to load the pre-trained weights.\n",
        "Using such pre-trained models is considered cheating and therefore you will be punished.\n",
        "Similarly, it is your responsibility to make sure no pre-trained weights are used if you use **torch.hub** to load any modules.\n",
        "\n",
        "For example, if you use ResNet-18 as your model:\n",
        "\n",
        "model = torchvision.models.resnet18(pretrained=**False**) → This is fine.\n",
        "\n",
        "model = torchvision.models.resnet18(pretrained=**True**)  → This is **NOT** allowed."
      ]
    },
    {
      "cell_type": "code",
      "execution_count": 6,
      "metadata": {},
      "outputs": [],
      "source": [
        "class BlockConv2d(nn.Module):\n",
        "    def __init__(self, ch_in, ch_out, k, stride=1,\n",
        "            act=None, pooling=None, use_bn=True, drop=0, is_dconv=False, is_pad=True):\n",
        "\n",
        "        super(BlockConv2d, self).__init__()\n",
        "        pad = k//2 if is_pad else 0\n",
        "        if is_dconv:\n",
        "            conv = nn.ConvTranspose2d(ch_in, ch_out, k, padding=pad, stride=stride, output_padding=stride-1)\n",
        "        else:\n",
        "            conv = nn.Conv2d(ch_in, ch_out, k, padding=pad, stride=stride)\n",
        "            \n",
        "        list = [\n",
        "            conv\n",
        "        ]\n",
        "        if use_bn: list.append(nn.BatchNorm2d(ch_out))\n",
        "        if act: list.append(act)\n",
        "        if pooling: list.append(pooling)\n",
        "        if drop > 0: list.append(nn.Dropout2d(drop))\n",
        "        self.net = nn.Sequential(*list)\n",
        "\n",
        "    def forward(self, x):\n",
        "          return self.net(x)\n",
        "\n",
        "class BlockLinear(nn.Module):\n",
        "    def __init__(self, ch_in, ch_out, act=None, use_bn=True, drop=0):\n",
        "        super(BlockLinear, self).__init__()\n",
        "        list = [\n",
        "            nn.Linear(ch_in, ch_out)\n",
        "        ]\n",
        "        if use_bn: list.append(nn.BatchNorm1d(ch_out))\n",
        "        if act: list.append(act)\n",
        "        if drop > 0: list.append(nn.Dropout(drop))\n",
        "        self.net = nn.Sequential(*list)\n",
        "\n",
        "    def forward(self, x):\n",
        "          return self.net(x)"
      ]
    },
    {
      "cell_type": "code",
      "execution_count": 7,
      "metadata": {},
      "outputs": [],
      "source": [
        "class AE(nn.Module):\n",
        "    def __init__(self):\n",
        "        super(AE, self).__init__()\n",
        "        self.act = nn.ReLU()\n",
        "        # \n",
        "        self.n_0 = [3] + [64, 256]\n",
        "        self.k_0 = [5]*2\n",
        "        self.p_0 = [4]*2\n",
        "        self.l_0 = len(self.k_0)\n",
        "        self.encoder = [\n",
        "            BlockConv2d(\n",
        "                self.n_0[i], self.n_0[i+1], self.k_0[i], \n",
        "                act=self.act, pooling=nn.MaxPool2d(self.p_0[i], self.p_0[i]),\n",
        "                use_bn=True, drop=0.3)\n",
        "            for i in range(self.l_0)]\n",
        "        self.encoder = nn.Sequential(*self.encoder)\n",
        "\n",
        "        # self.n_1 = self.n_0[::-1]\n",
        "        self.n_1 = [256, 64]\n",
        "        self.k_1 = [self.k_0[-1]]\n",
        "        self.p_1 = [self.p_0[-1]]\n",
        "        self.l_1 = len(self.k_1)\n",
        "\n",
        "        self.decoder = [\n",
        "            BlockConv2d(self.n_1[i], self.n_1[i+1], self.k_1[i], stride=self.p_1[i],\n",
        "            act=self.act, use_bn=True, drop=0.1, is_dconv=True)\n",
        "            for i in range(self.l_1)]\n",
        "        # self.decoder = nn.ModuleList(self.decoder)\n",
        "        self.decoder = nn.Sequential(*self.decoder)\n",
        "        self.out = nn.ConvTranspose2d(self.n_1[-1], 3, 5, padding=5//2, stride=4, output_padding=3)\n",
        "        \n",
        "        \n",
        "    def forward(self, x):\n",
        "        x = self.encoder(x)\n",
        "        # print(x.shape)\n",
        "        x = self.decoder(x)\n",
        "        # for d in self.decoder:\n",
        "        #     x = d(x)\n",
        "        #     print(x.shape)\n",
        "\n",
        "        x = self.out(x)\n",
        "        # print(x.shape)\n",
        "        return x\n",
        "        \n"
      ]
    },
    {
      "cell_type": "code",
      "execution_count": 8,
      "metadata": {},
      "outputs": [],
      "source": [
        "# m = torchvision.models.resnet18(pretrained=False)\n",
        "# for i, j in (m.state_dict().items()):\n",
        "    # print(i, \"\\t\", j.shape)\n",
        "# m.fc"
      ]
    },
    {
      "cell_type": "code",
      "metadata": {
        "id": "Y1c-GwrMQqMl"
      },
      "source": [
        "class Classifier(nn.Module):\n",
        "    def __init__(self, encoder=None):\n",
        "        super(Classifier, self).__init__()\n",
        "        # The arguments for commonly used modules:\n",
        "        # torch.nn.Conv2d(in_channels, out_channels, kernel_size, stride, padding)\n",
        "        # torch.nn.MaxPool2d(kernel_size, stride, padding)\n",
        "\n",
        "        # input image size: [3, 128, 128]\n",
        "        self.act = nn.ReLU()\n",
        "        if encoder:\n",
        "            self.encoder = torchvision.models.resnet34(pretrained=False)\n",
        "            self.encoder.fc = BlockLinear(512, 128, act=nn.ReLU(), use_bn=True, drop=0.2)\n",
        "        else:\n",
        "        # \n",
        "            self.n_0 = [3] + [64]*2 + [128]*2 + [256]\n",
        "            self.k_0 = [3]*5\n",
        "            self.p_0 = [1, 2]*2+[4]\n",
        "            self.l_0 = len(self.k_0)\n",
        "            self.encoder = [\n",
        "                BlockConv2d(\n",
        "                    self.n_0[i], self.n_0[i+1], self.k_0[i], \n",
        "                    act=self.act, pooling=nn.MaxPool2d(self.p_0[i], self.p_0[i]),\n",
        "                    use_bn=True, drop=0.2)\n",
        "                for i in range(self.l_0)]\n",
        "            self.encoder = nn.Sequential(*self.encoder)\n",
        "\n",
        "        # 512x8x8\n",
        "        \n",
        "        # self.n = [256*8*8] + [512, 128]\n",
        "        # self.n = [1024] + [256]\n",
        "        # self.l = len(self.n)\n",
        "        # self.fc = [\n",
        "            \n",
        "        # ]\n",
        "        # self.fc += [\n",
        "        #     BlockLinear(self.n[i], self.n[i+1], act=nn.ReLU(), use_bn=True, drop=0.2)\n",
        "        #     for i in range(self.l-1)\n",
        "        # ]\n",
        "        # self.fc = nn.Sequential(*self.fc)\n",
        "        self.out = nn.Linear(128, 11)\n",
        "\n",
        "    def forward(self, x):\n",
        "        # input (x): [batch_size, 3, 128, 128]\n",
        "        # output: [batch_size, 11]\n",
        "        x = self.encoder(x)\n",
        "        # x = x.flatten(1)\n",
        "        # print(x.shape)\n",
        "        # x = self.fc(x)\n",
        "        x = self.out(x)\n",
        "        return x"
      ],
      "execution_count": 9,
      "outputs": []
    },
    {
      "cell_type": "markdown",
      "metadata": {
        "id": "aEnGbriXORN3"
      },
      "source": [
        "## **Training**\n",
        "\n",
        "You can finish supervised learning by simply running the provided code without any modification.\n",
        "\n",
        "The function \"get_pseudo_labels\" is used for semi-supervised learning.\n",
        "It is expected to get better performance if you use unlabeled data for semi-supervised learning.\n",
        "However, you have to implement the function on your own and need to adjust several hyperparameters manually.\n",
        "\n",
        "For more details about semi-supervised learning, please refer to [Prof. Lee's slides](https://speech.ee.ntu.edu.tw/~tlkagk/courses/ML_2016/Lecture/semi%20(v3).pdf).\n",
        "\n",
        "Again, please notice that utilizing external data (or pre-trained model) for training is **prohibited**."
      ]
    },
    {
      "cell_type": "code",
      "metadata": {
        "id": "swlf5EwA-hxA"
      },
      "source": [
        "def get_pseudo_labels(dataset, model, threshold=0.5):\n",
        "    # This functions generates pseudo-labels of a dataset using given model.\n",
        "    # It returns an instance of DatasetFolder containing images whose prediction confidences exceed a given threshold.\n",
        "    # You are NOT allowed to use any models trained on external data for pseudo-labeling.\n",
        "    device = \"cuda\" if torch.cuda.is_available() else \"cpu\"\n",
        "\n",
        "    # Make sure the model is in eval mode.\n",
        "    model.eval()\n",
        "    # Define softmax function.\n",
        "    softmax = nn.Softmax(dim=-1)\n",
        "    idx = []\n",
        "    targets = []\n",
        "    # Iterate over the dataset by batches.\n",
        "    for i, batch in tqdm(enumerate(unlab_loader), leave=False, desc='PseudoLabels'):\n",
        "        img, _ = batch\n",
        "        # Forward the data\n",
        "        # Using torch.no_grad() accelerates the forward process.\n",
        "        with torch.no_grad():\n",
        "            logits = model(img.to(device))\n",
        "\n",
        "        # Obtain the probability distributions by applying softmax on logits.\n",
        "        probs = softmax(logits)\n",
        "        st = torch.topk(probs, 2, dim=1)\n",
        "        \n",
        "        # ---------- TODO ----------\n",
        "        # Filter the data and construct a new dataset.\n",
        "        probs1 = st[0][:, 0]\n",
        "        # probs2 = st[0][:, 1]\n",
        "        # select = (probs1 > threshold) & ((probs1-probs2) > .25)\n",
        "        select = (probs1 > threshold)\n",
        "        targets += st[1][select, 0].tolist()\n",
        "        idx += (torch.where(select)[0] + batch_size*i).tolist()\n",
        "\n",
        "    new = Subset(dataset, idx)\n",
        "    new.targets = targets\n",
        "    # # Turn off the eval mode.\n",
        "    model.train()\n",
        "    return new"
      ],
      "execution_count": 10,
      "outputs": []
    },
    {
      "cell_type": "code",
      "execution_count": 11,
      "metadata": {},
      "outputs": [],
      "source": [
        "# device = \"cuda\" if torch.cuda.is_available() else \"cpu\"\n",
        "\n",
        "# ae_model = AE().to(device)\n",
        "# ae_criterion = nn.MSELoss(reduction='mean')\n",
        "# ae_optimizer = torch.optim.Adam(ae_model.parameters(), lr=5e-4, weight_decay=1e-7)\n",
        "\n",
        "# n_epochs = 20\n",
        "# ae_loader = DataLoader(ConcatDataset([train_set, unlabeled_set]), batch_size=batch_size, shuffle=True, num_workers=8, pin_memory=True)\n",
        "# for epoch in range(n_epochs):\n",
        "#     ae_model.train()\n",
        "#     ae_loss = []\n",
        "#     # for batch in train_loader:\n",
        "#     for batch in tqdm(ae_loader, desc='AutoEncoder', leave=False):\n",
        "#         imgs = batch[0].to(device)\n",
        "#         out = ae_model(imgs)\n",
        "#         # print(imgs.shape, out.shape)\n",
        "#         loss = ae_criterion(out, imgs)\n",
        "#         ae_optimizer.zero_grad()\n",
        "#         loss.backward()\n",
        "#         ae_optimizer.step()\n",
        "#         ae_loss.append(loss.item())\n",
        "#     # \n",
        "#     ae_loss = np.mean(ae_loss)\n",
        "#     print(f\"[ AE\\t| {epoch + 1:03d}/{n_epochs:03d} ] loss = {ae_loss:.5f}\")\n"
      ]
    },
    {
      "cell_type": "code",
      "execution_count": 12,
      "metadata": {},
      "outputs": [
        {
          "output_type": "stream",
          "name": "stdout",
          "text": [
            "remove log\n"
          ]
        }
      ],
      "source": [
        "log_path = 'log'\n",
        "if log_path in os.listdir():\n",
        "    os.remove(log_path)\n",
        "    print('remove log')\n",
        "log = open(log_path, 'a')"
      ]
    },
    {
      "cell_type": "code",
      "metadata": {
        "id": "PHaFE-8oQtkC"
      },
      "source": [
        "device = \"cuda\" if torch.cuda.is_available() else \"cpu\"\n",
        "model_path = \"./model.ckpt\"\n",
        "\n",
        "try:\n",
        "    model = Classifier(1).to(device)\n",
        "except NameError:\n",
        "    print(\"Use new encoder\")\n",
        "    model = Classifier().to(device)\n",
        "criterion = nn.CrossEntropyLoss()\n",
        "optimizer = torch.optim.Adam(model.parameters(), lr=5e-4, weight_decay=3e-3)\n",
        "lr_scheduler = torch.optim.lr_scheduler.ReduceLROnPlateau(\n",
        "    optimizer, mode='max', factor=0.8, patience=8, threshold=3e-4, min_lr=5e-5, verbose=True\n",
        ")\n",
        "\n",
        "\n",
        "n_epochs = 200\n",
        "best_acc = 0\n",
        "valid_acc = 0\n",
        "# Whether to do semi-supervised learning.\n",
        "do_semi = True\n",
        "semi_flg = False\n",
        "semi_count = 0\n",
        "loader = train_loader\n",
        "for epoch in range(n_epochs):\n",
        "    # ---------- TODO ----------\n",
        "    # In each epoch, relabel the unlabeled dataset for semi-supervised learning.\n",
        "    # Then you can combine the labeled dataset and pseudo-labeled dataset for the training.\n",
        "    # if (~semi_flg) and valid_acc >= .5:\n",
        "    if False:\n",
        "        # Obtain pseudo-labels for unlabeled data using trained model.\n",
        "        pseudo_set = get_pseudo_labels(unlabeled_set, model, threshold=0.9)\n",
        "\n",
        "        # Construct a new dataset and a data loader for training.\n",
        "        # This is used in semi-supervised learning only.\n",
        "        concat_dataset = ConcatDataset([train_set, pseudo_set])\n",
        "        loader = DataLoader(concat_dataset, batch_size=batch_size, shuffle=True, num_workers=8, pin_memory=True)\n",
        "        semi_flg = True\n",
        "        log_str = f\"Use pseudo label: {len(concat_dataset)}\"\n",
        "        print(log_str)\n",
        "        log.write(log_str+\"\\n\")\n",
        "\n",
        "    if semi_count >= 2:\n",
        "        loader = train_loader\n",
        "        semi_flg = False\n",
        "        semi_count = 0\n",
        "        log_str = \"Abort pseudo label\"\n",
        "        print(log_str)\n",
        "        log.write(log_str+\"\\n\")\n",
        "\n",
        "    # ---------- Training ----------\n",
        "    model.train()\n",
        "\n",
        "    train_loss = []\n",
        "    train_accs = []\n",
        "\n",
        "    # for batch in train_loader:\n",
        "    for batch in tqdm(loader, desc='Train', leave=False):\n",
        "\n",
        "        imgs, labels = batch\n",
        "        logits = model(imgs.to(device))\n",
        "        loss = criterion(logits, labels.to(device))\n",
        "        optimizer.zero_grad()\n",
        "        loss.backward()\n",
        "        grad_norm = nn.utils.clip_grad_norm_(model.parameters(), max_norm=10)\n",
        "        optimizer.step()\n",
        "\n",
        "        acc = (logits.argmax(dim=-1) == labels.to(device)).float().mean()\n",
        "        train_loss.append(loss.item())\n",
        "        train_accs.append(acc)\n",
        "\n",
        "    train_loss = sum(train_loss) / len(train_loss)\n",
        "    train_acc = sum(train_accs) / len(train_accs)\n",
        "\n",
        "    log_str1 = (f\"[ Train | {epoch + 1:03d}/{n_epochs:03d} ] loss = {train_loss:.5f}, acc = {train_acc:.5f}\")\n",
        "    # print(log)\n",
        "    # ---------- Validation ----------\n",
        "    model.eval()\n",
        "    \n",
        "    valid_loss = []\n",
        "    valid_accs = []\n",
        "\n",
        "    # for batch in valid_loader:\n",
        "    for batch in tqdm(valid_loader, desc='Valid', leave=False):\n",
        "        imgs, labels = batch\n",
        "        imgs = imgs.to(device)\n",
        "        with torch.no_grad():\n",
        "          logits = model(imgs)\n",
        "\n",
        "        loss = criterion(logits, labels.to(device))\n",
        "        acc = (logits.argmax(dim=-1) == labels.to(device)).float().mean()\n",
        "        valid_loss.append(loss.item())\n",
        "        valid_accs.append(acc)\n",
        "\n",
        "    valid_loss = sum(valid_loss) / len(valid_loss)\n",
        "    valid_acc = sum(valid_accs) / len(valid_accs)\n",
        "    if valid_acc >= best_acc:\n",
        "        best_acc = valid_acc\n",
        "        best_model = model.state_dict()\n",
        "        torch.save(model.state_dict(), model_path)\n",
        "        log_str = ('saving model with acc {:.3f}'.format(best_acc))\n",
        "        print(log_str)\n",
        "        log.write(log_str+\"\\n\")\n",
        "        semi_count = 0\n",
        "    else:\n",
        "        if semi_flg: semi_count += 1\n",
        "\n",
        "    log_str1 += f\"\\t[ Valid\\t| {epoch + 1:03d}/{n_epochs:03d} ]  loss = {valid_loss:.5f}, acc = {valid_acc:.5f}\"\n",
        "    print(log_str1)\n",
        "    log.write(log_str1+\"\\n\")\n",
        "    log.flush()\n",
        "    lr_scheduler.step(valid_acc)\n",
        "    # print(f\"[ Valid\\t| {epoch + 1:03d}/{n_epochs:03d} ] ae_loss = {valid_ae:.5f}, loss = {valid_loss:.5f}, acc = {valid_acc:.5f}\")"
      ],
      "execution_count": 13,
      "outputs": [
        {
          "output_type": "display_data",
          "data": {
            "text/plain": "Train:   0%|          | 0/25 [00:00<?, ?it/s]",
            "application/vnd.jupyter.widget-view+json": {
              "version_major": 2,
              "version_minor": 0,
              "model_id": "2b23df902f454c588264a4bb40bf647d"
            }
          },
          "metadata": {}
        },
        {
          "output_type": "display_data",
          "data": {
            "text/plain": "Valid:   0%|          | 0/6 [00:00<?, ?it/s]",
            "application/vnd.jupyter.widget-view+json": {
              "version_major": 2,
              "version_minor": 0,
              "model_id": "816aeedf19ab4908a2d18f46466d6c9f"
            }
          },
          "metadata": {}
        },
        {
          "output_type": "stream",
          "name": "stdout",
          "text": [
            "saving model with acc 0.134\n[ Train | 001/200 ] loss = 2.26348, acc = 0.18781\t[ Valid\t| 001/200 ]  loss = 3.89402, acc = 0.13359\n"
          ]
        },
        {
          "output_type": "display_data",
          "data": {
            "text/plain": "Train:   0%|          | 0/25 [00:00<?, ?it/s]",
            "application/vnd.jupyter.widget-view+json": {
              "version_major": 2,
              "version_minor": 0,
              "model_id": "2144fbcd67e84ec59e4adaa87fb4be65"
            }
          },
          "metadata": {}
        },
        {
          "output_type": "display_data",
          "data": {
            "text/plain": "Valid:   0%|          | 0/6 [00:00<?, ?it/s]",
            "application/vnd.jupyter.widget-view+json": {
              "version_major": 2,
              "version_minor": 0,
              "model_id": "b053c676ff8d463eaf569c8faded1c56"
            }
          },
          "metadata": {}
        },
        {
          "output_type": "stream",
          "name": "stdout",
          "text": [
            "saving model with acc 0.247\n[ Train | 002/200 ] loss = 2.09713, acc = 0.25062\t[ Valid\t| 002/200 ]  loss = 2.33481, acc = 0.24740\n"
          ]
        },
        {
          "output_type": "display_data",
          "data": {
            "text/plain": "Train:   0%|          | 0/25 [00:00<?, ?it/s]",
            "application/vnd.jupyter.widget-view+json": {
              "version_major": 2,
              "version_minor": 0,
              "model_id": "9a9a191d0a2e40df8a11da541be014b4"
            }
          },
          "metadata": {}
        },
        {
          "output_type": "display_data",
          "data": {
            "text/plain": "Valid:   0%|          | 0/6 [00:00<?, ?it/s]",
            "application/vnd.jupyter.widget-view+json": {
              "version_major": 2,
              "version_minor": 0,
              "model_id": "deb65d82019144eea7b40955d0ab644d"
            }
          },
          "metadata": {}
        },
        {
          "output_type": "stream",
          "name": "stdout",
          "text": [
            "[ Train | 003/200 ] loss = 2.07886, acc = 0.27656\t[ Valid\t| 003/200 ]  loss = 2.53025, acc = 0.19062\n"
          ]
        },
        {
          "output_type": "display_data",
          "data": {
            "text/plain": "Train:   0%|          | 0/25 [00:00<?, ?it/s]",
            "application/vnd.jupyter.widget-view+json": {
              "version_major": 2,
              "version_minor": 0,
              "model_id": "064862aa2a16477b9ca860fffd69fa09"
            }
          },
          "metadata": {}
        },
        {
          "output_type": "display_data",
          "data": {
            "text/plain": "Valid:   0%|          | 0/6 [00:00<?, ?it/s]",
            "application/vnd.jupyter.widget-view+json": {
              "version_major": 2,
              "version_minor": 0,
              "model_id": "edaf7e7d80bf45ee9d9865f2c7fd8325"
            }
          },
          "metadata": {}
        },
        {
          "output_type": "stream",
          "name": "stdout",
          "text": [
            "saving model with acc 0.254\n[ Train | 004/200 ] loss = 2.04318, acc = 0.27687\t[ Valid\t| 004/200 ]  loss = 2.22737, acc = 0.25365\n"
          ]
        },
        {
          "output_type": "display_data",
          "data": {
            "text/plain": "Train:   0%|          | 0/25 [00:00<?, ?it/s]",
            "application/vnd.jupyter.widget-view+json": {
              "version_major": 2,
              "version_minor": 0,
              "model_id": "3e7663622e9b4bd2bba765ade8fcb61a"
            }
          },
          "metadata": {}
        },
        {
          "output_type": "display_data",
          "data": {
            "text/plain": "Valid:   0%|          | 0/6 [00:00<?, ?it/s]",
            "application/vnd.jupyter.widget-view+json": {
              "version_major": 2,
              "version_minor": 0,
              "model_id": "ff11e03e83af4076846ad6d4f2c70977"
            }
          },
          "metadata": {}
        },
        {
          "output_type": "stream",
          "name": "stdout",
          "text": [
            "[ Train | 005/200 ] loss = 1.99389, acc = 0.29688\t[ Valid\t| 005/200 ]  loss = 2.64558, acc = 0.22865\n"
          ]
        },
        {
          "output_type": "display_data",
          "data": {
            "text/plain": "Train:   0%|          | 0/25 [00:00<?, ?it/s]",
            "application/vnd.jupyter.widget-view+json": {
              "version_major": 2,
              "version_minor": 0,
              "model_id": "87240f4a10824ebba06e261bd0ee8668"
            }
          },
          "metadata": {}
        },
        {
          "output_type": "display_data",
          "data": {
            "text/plain": "Valid:   0%|          | 0/6 [00:00<?, ?it/s]",
            "application/vnd.jupyter.widget-view+json": {
              "version_major": 2,
              "version_minor": 0,
              "model_id": "042865ed3d4748d782627b30e8c17352"
            }
          },
          "metadata": {}
        },
        {
          "output_type": "stream",
          "name": "stdout",
          "text": [
            "[ Train | 006/200 ] loss = 2.00670, acc = 0.28813\t[ Valid\t| 006/200 ]  loss = 2.34388, acc = 0.23203\n"
          ]
        },
        {
          "output_type": "display_data",
          "data": {
            "text/plain": "Train:   0%|          | 0/25 [00:00<?, ?it/s]",
            "application/vnd.jupyter.widget-view+json": {
              "version_major": 2,
              "version_minor": 0,
              "model_id": "31919b46d7634ada9f50cd90d7d627e8"
            }
          },
          "metadata": {}
        },
        {
          "output_type": "display_data",
          "data": {
            "text/plain": "Valid:   0%|          | 0/6 [00:00<?, ?it/s]",
            "application/vnd.jupyter.widget-view+json": {
              "version_major": 2,
              "version_minor": 0,
              "model_id": "97f233d970b74ef9a5472303c372dae4"
            }
          },
          "metadata": {}
        },
        {
          "output_type": "stream",
          "name": "stdout",
          "text": [
            "saving model with acc 0.276\n[ Train | 007/200 ] loss = 1.94840, acc = 0.31344\t[ Valid\t| 007/200 ]  loss = 1.95279, acc = 0.27552\n"
          ]
        },
        {
          "output_type": "display_data",
          "data": {
            "text/plain": "Train:   0%|          | 0/25 [00:00<?, ?it/s]",
            "application/vnd.jupyter.widget-view+json": {
              "version_major": 2,
              "version_minor": 0,
              "model_id": "2eaa5c24b29648adbdb2994533e5941e"
            }
          },
          "metadata": {}
        },
        {
          "output_type": "display_data",
          "data": {
            "text/plain": "Valid:   0%|          | 0/6 [00:00<?, ?it/s]",
            "application/vnd.jupyter.widget-view+json": {
              "version_major": 2,
              "version_minor": 0,
              "model_id": "47421a37d853442883fbefee10c50a53"
            }
          },
          "metadata": {}
        },
        {
          "output_type": "stream",
          "name": "stdout",
          "text": [
            "saving model with acc 0.281\n[ Train | 008/200 ] loss = 1.96620, acc = 0.30719\t[ Valid\t| 008/200 ]  loss = 2.20801, acc = 0.28099\n"
          ]
        },
        {
          "output_type": "display_data",
          "data": {
            "text/plain": "Train:   0%|          | 0/25 [00:00<?, ?it/s]",
            "application/vnd.jupyter.widget-view+json": {
              "version_major": 2,
              "version_minor": 0,
              "model_id": "cc9966686a5549c1bb574bee13809e05"
            }
          },
          "metadata": {}
        },
        {
          "output_type": "display_data",
          "data": {
            "text/plain": "Valid:   0%|          | 0/6 [00:00<?, ?it/s]",
            "application/vnd.jupyter.widget-view+json": {
              "version_major": 2,
              "version_minor": 0,
              "model_id": "62cf9c9c8d824dc3b8976b7a4c453d06"
            }
          },
          "metadata": {}
        },
        {
          "output_type": "stream",
          "name": "stdout",
          "text": [
            "saving model with acc 0.336\n[ Train | 009/200 ] loss = 1.95945, acc = 0.30531\t[ Valid\t| 009/200 ]  loss = 2.10767, acc = 0.33594\n"
          ]
        },
        {
          "output_type": "display_data",
          "data": {
            "text/plain": "Train:   0%|          | 0/25 [00:00<?, ?it/s]",
            "application/vnd.jupyter.widget-view+json": {
              "version_major": 2,
              "version_minor": 0,
              "model_id": "c66697acf7d34edb96a2c31148a3275e"
            }
          },
          "metadata": {}
        },
        {
          "output_type": "display_data",
          "data": {
            "text/plain": "Valid:   0%|          | 0/6 [00:00<?, ?it/s]",
            "application/vnd.jupyter.widget-view+json": {
              "version_major": 2,
              "version_minor": 0,
              "model_id": "cd9557cbd0354de6b96447752ef21ab2"
            }
          },
          "metadata": {}
        },
        {
          "output_type": "stream",
          "name": "stdout",
          "text": [
            "saving model with acc 0.365\n[ Train | 010/200 ] loss = 1.88202, acc = 0.32031\t[ Valid\t| 010/200 ]  loss = 1.83375, acc = 0.36536\n"
          ]
        },
        {
          "output_type": "display_data",
          "data": {
            "text/plain": "Train:   0%|          | 0/25 [00:00<?, ?it/s]",
            "application/vnd.jupyter.widget-view+json": {
              "version_major": 2,
              "version_minor": 0,
              "model_id": "e08a66e5d1fa42c29b15f6e715dff46f"
            }
          },
          "metadata": {}
        },
        {
          "output_type": "display_data",
          "data": {
            "text/plain": "Valid:   0%|          | 0/6 [00:00<?, ?it/s]",
            "application/vnd.jupyter.widget-view+json": {
              "version_major": 2,
              "version_minor": 0,
              "model_id": "af05122344d7413faf55b0d30aed942d"
            }
          },
          "metadata": {}
        },
        {
          "output_type": "stream",
          "name": "stdout",
          "text": [
            "[ Train | 011/200 ] loss = 1.92827, acc = 0.32156\t[ Valid\t| 011/200 ]  loss = 3.11779, acc = 0.19401\n"
          ]
        },
        {
          "output_type": "display_data",
          "data": {
            "text/plain": "Train:   0%|          | 0/25 [00:00<?, ?it/s]",
            "application/vnd.jupyter.widget-view+json": {
              "version_major": 2,
              "version_minor": 0,
              "model_id": "fa1d5d7c7a8c45a6b066f1ea6085560d"
            }
          },
          "metadata": {}
        },
        {
          "output_type": "display_data",
          "data": {
            "text/plain": "Valid:   0%|          | 0/6 [00:00<?, ?it/s]",
            "application/vnd.jupyter.widget-view+json": {
              "version_major": 2,
              "version_minor": 0,
              "model_id": "43fce2b5ad1f4dc1811b40670d8900c8"
            }
          },
          "metadata": {}
        },
        {
          "output_type": "stream",
          "name": "stdout",
          "text": [
            "[ Train | 012/200 ] loss = 1.86487, acc = 0.35313\t[ Valid\t| 012/200 ]  loss = 1.96257, acc = 0.33880\n"
          ]
        },
        {
          "output_type": "display_data",
          "data": {
            "text/plain": "Train:   0%|          | 0/25 [00:00<?, ?it/s]",
            "application/vnd.jupyter.widget-view+json": {
              "version_major": 2,
              "version_minor": 0,
              "model_id": "0a477b8a54e84718b50882f223fdb1ed"
            }
          },
          "metadata": {}
        },
        {
          "output_type": "display_data",
          "data": {
            "text/plain": "Valid:   0%|          | 0/6 [00:00<?, ?it/s]",
            "application/vnd.jupyter.widget-view+json": {
              "version_major": 2,
              "version_minor": 0,
              "model_id": "11cde36f495c49fd8f903c1ff5f04e95"
            }
          },
          "metadata": {}
        },
        {
          "output_type": "stream",
          "name": "stdout",
          "text": [
            "[ Train | 013/200 ] loss = 1.89368, acc = 0.32375\t[ Valid\t| 013/200 ]  loss = 1.87740, acc = 0.36458\n"
          ]
        },
        {
          "output_type": "display_data",
          "data": {
            "text/plain": "Train:   0%|          | 0/25 [00:00<?, ?it/s]",
            "application/vnd.jupyter.widget-view+json": {
              "version_major": 2,
              "version_minor": 0,
              "model_id": "9cc53fc099c846ca99c839b8176d3dac"
            }
          },
          "metadata": {}
        },
        {
          "output_type": "display_data",
          "data": {
            "text/plain": "Valid:   0%|          | 0/6 [00:00<?, ?it/s]",
            "application/vnd.jupyter.widget-view+json": {
              "version_major": 2,
              "version_minor": 0,
              "model_id": "3357c6c86f6d4a1c8174a404d1cb2584"
            }
          },
          "metadata": {}
        },
        {
          "output_type": "stream",
          "name": "stdout",
          "text": [
            "saving model with acc 0.410\n[ Train | 014/200 ] loss = 1.81273, acc = 0.36344\t[ Valid\t| 014/200 ]  loss = 1.70303, acc = 0.41042\n"
          ]
        },
        {
          "output_type": "display_data",
          "data": {
            "text/plain": "Train:   0%|          | 0/25 [00:00<?, ?it/s]",
            "application/vnd.jupyter.widget-view+json": {
              "version_major": 2,
              "version_minor": 0,
              "model_id": "61f556b5207f409fb8e04592fd02dfe8"
            }
          },
          "metadata": {}
        },
        {
          "output_type": "display_data",
          "data": {
            "text/plain": "Valid:   0%|          | 0/6 [00:00<?, ?it/s]",
            "application/vnd.jupyter.widget-view+json": {
              "version_major": 2,
              "version_minor": 0,
              "model_id": "d1aff03fbabc4853a30c0c051ae1f82e"
            }
          },
          "metadata": {}
        },
        {
          "output_type": "stream",
          "name": "stdout",
          "text": [
            "[ Train | 015/200 ] loss = 1.82284, acc = 0.36937\t[ Valid\t| 015/200 ]  loss = 1.86521, acc = 0.37839\n"
          ]
        },
        {
          "output_type": "display_data",
          "data": {
            "text/plain": "Train:   0%|          | 0/25 [00:00<?, ?it/s]",
            "application/vnd.jupyter.widget-view+json": {
              "version_major": 2,
              "version_minor": 0,
              "model_id": "2b54738199d04d3ba6d02cdc21b6a493"
            }
          },
          "metadata": {}
        },
        {
          "output_type": "display_data",
          "data": {
            "text/plain": "Valid:   0%|          | 0/6 [00:00<?, ?it/s]",
            "application/vnd.jupyter.widget-view+json": {
              "version_major": 2,
              "version_minor": 0,
              "model_id": "1346717ecc5a4817b919e70aca177597"
            }
          },
          "metadata": {}
        },
        {
          "output_type": "stream",
          "name": "stdout",
          "text": [
            "[ Train | 016/200 ] loss = 1.80496, acc = 0.36937\t[ Valid\t| 016/200 ]  loss = 1.79525, acc = 0.36380\n"
          ]
        },
        {
          "output_type": "display_data",
          "data": {
            "text/plain": "Train:   0%|          | 0/25 [00:00<?, ?it/s]",
            "application/vnd.jupyter.widget-view+json": {
              "version_major": 2,
              "version_minor": 0,
              "model_id": "540f1b4822cb4166b3b7045fd78914e9"
            }
          },
          "metadata": {}
        },
        {
          "output_type": "display_data",
          "data": {
            "text/plain": "Valid:   0%|          | 0/6 [00:00<?, ?it/s]",
            "application/vnd.jupyter.widget-view+json": {
              "version_major": 2,
              "version_minor": 0,
              "model_id": "4d7710a6683c421fad9ce6611042b176"
            }
          },
          "metadata": {}
        },
        {
          "output_type": "stream",
          "name": "stdout",
          "text": [
            "[ Train | 017/200 ] loss = 1.77741, acc = 0.38094\t[ Valid\t| 017/200 ]  loss = 1.96582, acc = 0.34141\n"
          ]
        },
        {
          "output_type": "display_data",
          "data": {
            "text/plain": "Train:   0%|          | 0/25 [00:00<?, ?it/s]",
            "application/vnd.jupyter.widget-view+json": {
              "version_major": 2,
              "version_minor": 0,
              "model_id": "64639a93e3c1427cae5e5a97302028c5"
            }
          },
          "metadata": {}
        },
        {
          "output_type": "display_data",
          "data": {
            "text/plain": "Valid:   0%|          | 0/6 [00:00<?, ?it/s]",
            "application/vnd.jupyter.widget-view+json": {
              "version_major": 2,
              "version_minor": 0,
              "model_id": "0982628a6e9e4e88a2ae5c6d29fc719c"
            }
          },
          "metadata": {}
        },
        {
          "output_type": "stream",
          "name": "stdout",
          "text": [
            "[ Train | 018/200 ] loss = 1.81020, acc = 0.36500\t[ Valid\t| 018/200 ]  loss = 1.90764, acc = 0.38099\n"
          ]
        },
        {
          "output_type": "display_data",
          "data": {
            "text/plain": "Train:   0%|          | 0/25 [00:00<?, ?it/s]",
            "application/vnd.jupyter.widget-view+json": {
              "version_major": 2,
              "version_minor": 0,
              "model_id": "4285caa395364dc8bd959a304147cf57"
            }
          },
          "metadata": {}
        },
        {
          "output_type": "display_data",
          "data": {
            "text/plain": "Valid:   0%|          | 0/6 [00:00<?, ?it/s]",
            "application/vnd.jupyter.widget-view+json": {
              "version_major": 2,
              "version_minor": 0,
              "model_id": "27c2a60a836e43939637598148635598"
            }
          },
          "metadata": {}
        },
        {
          "output_type": "stream",
          "name": "stdout",
          "text": [
            "[ Train | 019/200 ] loss = 1.73691, acc = 0.38844\t[ Valid\t| 019/200 ]  loss = 1.75664, acc = 0.39323\n"
          ]
        },
        {
          "output_type": "display_data",
          "data": {
            "text/plain": "Train:   0%|          | 0/25 [00:00<?, ?it/s]",
            "application/vnd.jupyter.widget-view+json": {
              "version_major": 2,
              "version_minor": 0,
              "model_id": "e7356cfc668f487aa559da81a2108f97"
            }
          },
          "metadata": {}
        },
        {
          "output_type": "display_data",
          "data": {
            "text/plain": "Valid:   0%|          | 0/6 [00:00<?, ?it/s]",
            "application/vnd.jupyter.widget-view+json": {
              "version_major": 2,
              "version_minor": 0,
              "model_id": "015c646d153044ecb66cb2e7cabb2b50"
            }
          },
          "metadata": {}
        },
        {
          "output_type": "stream",
          "name": "stdout",
          "text": [
            "[ Train | 020/200 ] loss = 1.80752, acc = 0.37250\t[ Valid\t| 020/200 ]  loss = 1.90547, acc = 0.31589\n"
          ]
        },
        {
          "output_type": "display_data",
          "data": {
            "text/plain": "Train:   0%|          | 0/25 [00:00<?, ?it/s]",
            "application/vnd.jupyter.widget-view+json": {
              "version_major": 2,
              "version_minor": 0,
              "model_id": "fd5f0d3891f5419f9493e7ad07f42cee"
            }
          },
          "metadata": {}
        },
        {
          "output_type": "display_data",
          "data": {
            "text/plain": "Valid:   0%|          | 0/6 [00:00<?, ?it/s]",
            "application/vnd.jupyter.widget-view+json": {
              "version_major": 2,
              "version_minor": 0,
              "model_id": "8d785086604c4ad6a6d55f2ff5d96ebd"
            }
          },
          "metadata": {}
        },
        {
          "output_type": "stream",
          "name": "stdout",
          "text": [
            "saving model with acc 0.430\n[ Train | 021/200 ] loss = 1.72983, acc = 0.39656\t[ Valid\t| 021/200 ]  loss = 1.76406, acc = 0.43021\n"
          ]
        },
        {
          "output_type": "display_data",
          "data": {
            "text/plain": "Train:   0%|          | 0/25 [00:00<?, ?it/s]",
            "application/vnd.jupyter.widget-view+json": {
              "version_major": 2,
              "version_minor": 0,
              "model_id": "a55e8024f05e449aba374e2993369dbf"
            }
          },
          "metadata": {}
        },
        {
          "output_type": "display_data",
          "data": {
            "text/plain": "Valid:   0%|          | 0/6 [00:00<?, ?it/s]",
            "application/vnd.jupyter.widget-view+json": {
              "version_major": 2,
              "version_minor": 0,
              "model_id": "51e048a284ef4a56bb6886450a678578"
            }
          },
          "metadata": {}
        },
        {
          "output_type": "stream",
          "name": "stdout",
          "text": [
            "[ Train | 022/200 ] loss = 1.72911, acc = 0.39281\t[ Valid\t| 022/200 ]  loss = 1.77344, acc = 0.36589\n"
          ]
        },
        {
          "output_type": "display_data",
          "data": {
            "text/plain": "Train:   0%|          | 0/25 [00:00<?, ?it/s]",
            "application/vnd.jupyter.widget-view+json": {
              "version_major": 2,
              "version_minor": 0,
              "model_id": "f7218c9caa714425945e030fd0cd72c8"
            }
          },
          "metadata": {}
        },
        {
          "output_type": "display_data",
          "data": {
            "text/plain": "Valid:   0%|          | 0/6 [00:00<?, ?it/s]",
            "application/vnd.jupyter.widget-view+json": {
              "version_major": 2,
              "version_minor": 0,
              "model_id": "4ca8d1473d544f859712eb2676738b76"
            }
          },
          "metadata": {}
        },
        {
          "output_type": "stream",
          "name": "stdout",
          "text": [
            "[ Train | 023/200 ] loss = 1.65939, acc = 0.42063\t[ Valid\t| 023/200 ]  loss = 1.83242, acc = 0.35391\n"
          ]
        },
        {
          "output_type": "display_data",
          "data": {
            "text/plain": "Train:   0%|          | 0/25 [00:00<?, ?it/s]",
            "application/vnd.jupyter.widget-view+json": {
              "version_major": 2,
              "version_minor": 0,
              "model_id": "6b7ca6e2610b45b18d898b79328d1416"
            }
          },
          "metadata": {}
        },
        {
          "output_type": "display_data",
          "data": {
            "text/plain": "Valid:   0%|          | 0/6 [00:00<?, ?it/s]",
            "application/vnd.jupyter.widget-view+json": {
              "version_major": 2,
              "version_minor": 0,
              "model_id": "5a81b5a316814263bd663b02f94686ce"
            }
          },
          "metadata": {}
        },
        {
          "output_type": "stream",
          "name": "stdout",
          "text": [
            "[ Train | 024/200 ] loss = 1.67513, acc = 0.41219\t[ Valid\t| 024/200 ]  loss = 1.88612, acc = 0.38385\n"
          ]
        },
        {
          "output_type": "display_data",
          "data": {
            "text/plain": "Train:   0%|          | 0/25 [00:00<?, ?it/s]",
            "application/vnd.jupyter.widget-view+json": {
              "version_major": 2,
              "version_minor": 0,
              "model_id": "84cf09dda533469cb08bb26a1ae8f51e"
            }
          },
          "metadata": {}
        },
        {
          "output_type": "display_data",
          "data": {
            "text/plain": "Valid:   0%|          | 0/6 [00:00<?, ?it/s]",
            "application/vnd.jupyter.widget-view+json": {
              "version_major": 2,
              "version_minor": 0,
              "model_id": "b9e9f246158e4a939130cd736839e7d3"
            }
          },
          "metadata": {}
        },
        {
          "output_type": "stream",
          "name": "stdout",
          "text": [
            "[ Train | 025/200 ] loss = 1.65718, acc = 0.42031\t[ Valid\t| 025/200 ]  loss = 1.85097, acc = 0.38880\n"
          ]
        },
        {
          "output_type": "display_data",
          "data": {
            "text/plain": "Train:   0%|          | 0/25 [00:00<?, ?it/s]",
            "application/vnd.jupyter.widget-view+json": {
              "version_major": 2,
              "version_minor": 0,
              "model_id": "21021ea59d6c44508e5f6842c258dcdc"
            }
          },
          "metadata": {}
        },
        {
          "output_type": "display_data",
          "data": {
            "text/plain": "Valid:   0%|          | 0/6 [00:00<?, ?it/s]",
            "application/vnd.jupyter.widget-view+json": {
              "version_major": 2,
              "version_minor": 0,
              "model_id": "4c5f8767e063452897de5e5e8bf28c58"
            }
          },
          "metadata": {}
        },
        {
          "output_type": "stream",
          "name": "stdout",
          "text": [
            "[ Train | 026/200 ] loss = 1.68789, acc = 0.41375\t[ Valid\t| 026/200 ]  loss = 1.90403, acc = 0.36953\n"
          ]
        },
        {
          "output_type": "display_data",
          "data": {
            "text/plain": "Train:   0%|          | 0/25 [00:00<?, ?it/s]",
            "application/vnd.jupyter.widget-view+json": {
              "version_major": 2,
              "version_minor": 0,
              "model_id": "4e65df7faefb453281bde8b6a7397ed7"
            }
          },
          "metadata": {}
        },
        {
          "output_type": "display_data",
          "data": {
            "text/plain": "Valid:   0%|          | 0/6 [00:00<?, ?it/s]",
            "application/vnd.jupyter.widget-view+json": {
              "version_major": 2,
              "version_minor": 0,
              "model_id": "14156716421a4ae482b7cf756fe1fc04"
            }
          },
          "metadata": {}
        },
        {
          "output_type": "stream",
          "name": "stdout",
          "text": [
            "[ Train | 027/200 ] loss = 1.69011, acc = 0.40031\t[ Valid\t| 027/200 ]  loss = 1.89747, acc = 0.37656\n"
          ]
        },
        {
          "output_type": "display_data",
          "data": {
            "text/plain": "Train:   0%|          | 0/25 [00:00<?, ?it/s]",
            "application/vnd.jupyter.widget-view+json": {
              "version_major": 2,
              "version_minor": 0,
              "model_id": "05ac3de075af4407b4ec9cbfbcb25c65"
            }
          },
          "metadata": {}
        },
        {
          "output_type": "display_data",
          "data": {
            "text/plain": "Valid:   0%|          | 0/6 [00:00<?, ?it/s]",
            "application/vnd.jupyter.widget-view+json": {
              "version_major": 2,
              "version_minor": 0,
              "model_id": "f9ae10a77c344e418a4abd5f1a4c0380"
            }
          },
          "metadata": {}
        },
        {
          "output_type": "stream",
          "name": "stdout",
          "text": [
            "[ Train | 028/200 ] loss = 1.61741, acc = 0.43406\t[ Valid\t| 028/200 ]  loss = 1.70541, acc = 0.41432\n"
          ]
        },
        {
          "output_type": "display_data",
          "data": {
            "text/plain": "Train:   0%|          | 0/25 [00:00<?, ?it/s]",
            "application/vnd.jupyter.widget-view+json": {
              "version_major": 2,
              "version_minor": 0,
              "model_id": "5c8d4be8186e48fb9b3eed7ad9490314"
            }
          },
          "metadata": {}
        },
        {
          "output_type": "display_data",
          "data": {
            "text/plain": "Valid:   0%|          | 0/6 [00:00<?, ?it/s]",
            "application/vnd.jupyter.widget-view+json": {
              "version_major": 2,
              "version_minor": 0,
              "model_id": "cb1e29f5260a40b48a56b3608453cd5b"
            }
          },
          "metadata": {}
        },
        {
          "output_type": "stream",
          "name": "stdout",
          "text": [
            "[ Train | 029/200 ] loss = 1.63699, acc = 0.42594\t[ Valid\t| 029/200 ]  loss = 1.73000, acc = 0.40911\n"
          ]
        },
        {
          "output_type": "display_data",
          "data": {
            "text/plain": "Train:   0%|          | 0/25 [00:00<?, ?it/s]",
            "application/vnd.jupyter.widget-view+json": {
              "version_major": 2,
              "version_minor": 0,
              "model_id": "006dd556fe204fccb7012e50fe0c843c"
            }
          },
          "metadata": {}
        },
        {
          "output_type": "display_data",
          "data": {
            "text/plain": "Valid:   0%|          | 0/6 [00:00<?, ?it/s]",
            "application/vnd.jupyter.widget-view+json": {
              "version_major": 2,
              "version_minor": 0,
              "model_id": "ae79c0143bd047669e8d888f92be6f70"
            }
          },
          "metadata": {}
        },
        {
          "output_type": "stream",
          "name": "stdout",
          "text": [
            "[ Train | 030/200 ] loss = 1.66601, acc = 0.42344\t[ Valid\t| 030/200 ]  loss = 1.97355, acc = 0.33255\nEpoch    30: reducing learning rate of group 0 to 4.0000e-04.\n"
          ]
        },
        {
          "output_type": "display_data",
          "data": {
            "text/plain": "Train:   0%|          | 0/25 [00:00<?, ?it/s]",
            "application/vnd.jupyter.widget-view+json": {
              "version_major": 2,
              "version_minor": 0,
              "model_id": "d6888081a69e4730a0633b2fc58889ec"
            }
          },
          "metadata": {}
        },
        {
          "output_type": "display_data",
          "data": {
            "text/plain": "Valid:   0%|          | 0/6 [00:00<?, ?it/s]",
            "application/vnd.jupyter.widget-view+json": {
              "version_major": 2,
              "version_minor": 0,
              "model_id": "31b477eee25e45ddb131bd2a66f5c1c0"
            }
          },
          "metadata": {}
        },
        {
          "output_type": "stream",
          "name": "stdout",
          "text": [
            "[ Train | 031/200 ] loss = 1.65080, acc = 0.41813\t[ Valid\t| 031/200 ]  loss = 1.85748, acc = 0.37995\n"
          ]
        },
        {
          "output_type": "display_data",
          "data": {
            "text/plain": "Train:   0%|          | 0/25 [00:00<?, ?it/s]",
            "application/vnd.jupyter.widget-view+json": {
              "version_major": 2,
              "version_minor": 0,
              "model_id": "6031e7036d054a618c3efb98bd10f418"
            }
          },
          "metadata": {}
        },
        {
          "output_type": "display_data",
          "data": {
            "text/plain": "Valid:   0%|          | 0/6 [00:00<?, ?it/s]",
            "application/vnd.jupyter.widget-view+json": {
              "version_major": 2,
              "version_minor": 0,
              "model_id": "8370c5c238bd4a06b1ac9d0de70b0ae3"
            }
          },
          "metadata": {}
        },
        {
          "output_type": "stream",
          "name": "stdout",
          "text": [
            "saving model with acc 0.443\n[ Train | 032/200 ] loss = 1.61232, acc = 0.44156\t[ Valid\t| 032/200 ]  loss = 1.69228, acc = 0.44271\n"
          ]
        },
        {
          "output_type": "display_data",
          "data": {
            "text/plain": "Train:   0%|          | 0/25 [00:00<?, ?it/s]",
            "application/vnd.jupyter.widget-view+json": {
              "version_major": 2,
              "version_minor": 0,
              "model_id": "d2054ceb6e314348a04d63b2c8f3d880"
            }
          },
          "metadata": {}
        },
        {
          "output_type": "display_data",
          "data": {
            "text/plain": "Valid:   0%|          | 0/6 [00:00<?, ?it/s]",
            "application/vnd.jupyter.widget-view+json": {
              "version_major": 2,
              "version_minor": 0,
              "model_id": "34909fa6aec3456388387412cbc209d6"
            }
          },
          "metadata": {}
        },
        {
          "output_type": "stream",
          "name": "stdout",
          "text": [
            "saving model with acc 0.446\n[ Train | 033/200 ] loss = 1.57943, acc = 0.44281\t[ Valid\t| 033/200 ]  loss = 1.76581, acc = 0.44557\n"
          ]
        },
        {
          "output_type": "display_data",
          "data": {
            "text/plain": "Train:   0%|          | 0/25 [00:00<?, ?it/s]",
            "application/vnd.jupyter.widget-view+json": {
              "version_major": 2,
              "version_minor": 0,
              "model_id": "02fdec34b2834a708a0fb2f57a059599"
            }
          },
          "metadata": {}
        },
        {
          "output_type": "display_data",
          "data": {
            "text/plain": "Valid:   0%|          | 0/6 [00:00<?, ?it/s]",
            "application/vnd.jupyter.widget-view+json": {
              "version_major": 2,
              "version_minor": 0,
              "model_id": "83291cc881b542d3a2bc9279a900bfdc"
            }
          },
          "metadata": {}
        },
        {
          "output_type": "stream",
          "name": "stdout",
          "text": [
            "saving model with acc 0.462\n[ Train | 034/200 ] loss = 1.55657, acc = 0.45344\t[ Valid\t| 034/200 ]  loss = 1.57364, acc = 0.46172\n"
          ]
        },
        {
          "output_type": "display_data",
          "data": {
            "text/plain": "Train:   0%|          | 0/25 [00:00<?, ?it/s]",
            "application/vnd.jupyter.widget-view+json": {
              "version_major": 2,
              "version_minor": 0,
              "model_id": "25f5ad0eafea4b8098ff1463d371a83f"
            }
          },
          "metadata": {}
        },
        {
          "output_type": "display_data",
          "data": {
            "text/plain": "Valid:   0%|          | 0/6 [00:00<?, ?it/s]",
            "application/vnd.jupyter.widget-view+json": {
              "version_major": 2,
              "version_minor": 0,
              "model_id": "558291e40db6442eb9d9bfc73e86fb28"
            }
          },
          "metadata": {}
        },
        {
          "output_type": "stream",
          "name": "stdout",
          "text": [
            "[ Train | 035/200 ] loss = 1.52770, acc = 0.46469\t[ Valid\t| 035/200 ]  loss = 1.76005, acc = 0.42083\n"
          ]
        },
        {
          "output_type": "display_data",
          "data": {
            "text/plain": "Train:   0%|          | 0/25 [00:00<?, ?it/s]",
            "application/vnd.jupyter.widget-view+json": {
              "version_major": 2,
              "version_minor": 0,
              "model_id": "56b7de721231415292f0d280077dead5"
            }
          },
          "metadata": {}
        },
        {
          "output_type": "display_data",
          "data": {
            "text/plain": "Valid:   0%|          | 0/6 [00:00<?, ?it/s]",
            "application/vnd.jupyter.widget-view+json": {
              "version_major": 2,
              "version_minor": 0,
              "model_id": "104a680b6835442e893401b663536f7a"
            }
          },
          "metadata": {}
        },
        {
          "output_type": "stream",
          "name": "stdout",
          "text": [
            "[ Train | 036/200 ] loss = 1.55138, acc = 0.45812\t[ Valid\t| 036/200 ]  loss = 1.82036, acc = 0.38411\n"
          ]
        },
        {
          "output_type": "display_data",
          "data": {
            "text/plain": "Train:   0%|          | 0/25 [00:00<?, ?it/s]",
            "application/vnd.jupyter.widget-view+json": {
              "version_major": 2,
              "version_minor": 0,
              "model_id": "3b2b72c445124b95af8fe0c2d6218382"
            }
          },
          "metadata": {}
        },
        {
          "output_type": "display_data",
          "data": {
            "text/plain": "Valid:   0%|          | 0/6 [00:00<?, ?it/s]",
            "application/vnd.jupyter.widget-view+json": {
              "version_major": 2,
              "version_minor": 0,
              "model_id": "0b78db0fb50046bb934c64c2994c46d6"
            }
          },
          "metadata": {}
        },
        {
          "output_type": "stream",
          "name": "stdout",
          "text": [
            "[ Train | 037/200 ] loss = 1.57448, acc = 0.45312\t[ Valid\t| 037/200 ]  loss = 1.66569, acc = 0.44453\n"
          ]
        },
        {
          "output_type": "display_data",
          "data": {
            "text/plain": "Train:   0%|          | 0/25 [00:00<?, ?it/s]",
            "application/vnd.jupyter.widget-view+json": {
              "version_major": 2,
              "version_minor": 0,
              "model_id": "58372ffc797c43198bba233786d1c84b"
            }
          },
          "metadata": {}
        },
        {
          "output_type": "display_data",
          "data": {
            "text/plain": "Valid:   0%|          | 0/6 [00:00<?, ?it/s]",
            "application/vnd.jupyter.widget-view+json": {
              "version_major": 2,
              "version_minor": 0,
              "model_id": "4c647847135f4e8490b11cfe44531842"
            }
          },
          "metadata": {}
        },
        {
          "output_type": "stream",
          "name": "stdout",
          "text": [
            "[ Train | 038/200 ] loss = 1.52271, acc = 0.45750\t[ Valid\t| 038/200 ]  loss = 1.81614, acc = 0.38828\n"
          ]
        },
        {
          "output_type": "display_data",
          "data": {
            "text/plain": "Train:   0%|          | 0/25 [00:00<?, ?it/s]",
            "application/vnd.jupyter.widget-view+json": {
              "version_major": 2,
              "version_minor": 0,
              "model_id": "7f865f225dfd46208ede35d5e81260f5"
            }
          },
          "metadata": {}
        },
        {
          "output_type": "display_data",
          "data": {
            "text/plain": "Valid:   0%|          | 0/6 [00:00<?, ?it/s]",
            "application/vnd.jupyter.widget-view+json": {
              "version_major": 2,
              "version_minor": 0,
              "model_id": "6b4c449736f645f7a68c5eb08c7560ba"
            }
          },
          "metadata": {}
        },
        {
          "output_type": "stream",
          "name": "stdout",
          "text": [
            "[ Train | 039/200 ] loss = 1.49654, acc = 0.48219\t[ Valid\t| 039/200 ]  loss = 1.70460, acc = 0.41380\n"
          ]
        },
        {
          "output_type": "display_data",
          "data": {
            "text/plain": "Train:   0%|          | 0/25 [00:00<?, ?it/s]",
            "application/vnd.jupyter.widget-view+json": {
              "version_major": 2,
              "version_minor": 0,
              "model_id": "d6ffa94594c341a2b6c2e37840c4a15d"
            }
          },
          "metadata": {}
        },
        {
          "output_type": "display_data",
          "data": {
            "text/plain": "Valid:   0%|          | 0/6 [00:00<?, ?it/s]",
            "application/vnd.jupyter.widget-view+json": {
              "version_major": 2,
              "version_minor": 0,
              "model_id": "bb7ebfe0345244c7b77e203d79ef901e"
            }
          },
          "metadata": {}
        },
        {
          "output_type": "stream",
          "name": "stdout",
          "text": [
            "[ Train | 040/200 ] loss = 1.53632, acc = 0.45906\t[ Valid\t| 040/200 ]  loss = 1.58103, acc = 0.44583\n"
          ]
        },
        {
          "output_type": "display_data",
          "data": {
            "text/plain": "Train:   0%|          | 0/25 [00:00<?, ?it/s]",
            "application/vnd.jupyter.widget-view+json": {
              "version_major": 2,
              "version_minor": 0,
              "model_id": "ffd6de2258ca4c848273664b66948d2e"
            }
          },
          "metadata": {}
        },
        {
          "output_type": "display_data",
          "data": {
            "text/plain": "Valid:   0%|          | 0/6 [00:00<?, ?it/s]",
            "application/vnd.jupyter.widget-view+json": {
              "version_major": 2,
              "version_minor": 0,
              "model_id": "0d4bdb220a334d339d9926f49b4af905"
            }
          },
          "metadata": {}
        },
        {
          "output_type": "stream",
          "name": "stdout",
          "text": [
            "[ Train | 041/200 ] loss = 1.53105, acc = 0.46562\t[ Valid\t| 041/200 ]  loss = 1.63714, acc = 0.44089\n"
          ]
        },
        {
          "output_type": "display_data",
          "data": {
            "text/plain": "Train:   0%|          | 0/25 [00:00<?, ?it/s]",
            "application/vnd.jupyter.widget-view+json": {
              "version_major": 2,
              "version_minor": 0,
              "model_id": "1315488c37124d97ac23f6c9573be360"
            }
          },
          "metadata": {}
        },
        {
          "output_type": "display_data",
          "data": {
            "text/plain": "Valid:   0%|          | 0/6 [00:00<?, ?it/s]",
            "application/vnd.jupyter.widget-view+json": {
              "version_major": 2,
              "version_minor": 0,
              "model_id": "f9449d3aa8294cfc9c00d953161d5164"
            }
          },
          "metadata": {}
        },
        {
          "output_type": "stream",
          "name": "stdout",
          "text": [
            "[ Train | 042/200 ] loss = 1.47397, acc = 0.49031\t[ Valid\t| 042/200 ]  loss = 1.86523, acc = 0.38854\n"
          ]
        },
        {
          "output_type": "display_data",
          "data": {
            "text/plain": "Train:   0%|          | 0/25 [00:00<?, ?it/s]",
            "application/vnd.jupyter.widget-view+json": {
              "version_major": 2,
              "version_minor": 0,
              "model_id": "ab880259f5f24052b733c9d12141f18f"
            }
          },
          "metadata": {}
        },
        {
          "output_type": "display_data",
          "data": {
            "text/plain": "Valid:   0%|          | 0/6 [00:00<?, ?it/s]",
            "application/vnd.jupyter.widget-view+json": {
              "version_major": 2,
              "version_minor": 0,
              "model_id": "9f7e1255984b410297b4a9f1a680f7c7"
            }
          },
          "metadata": {}
        },
        {
          "output_type": "stream",
          "name": "stdout",
          "text": [
            "[ Train | 043/200 ] loss = 1.49185, acc = 0.47969\t[ Valid\t| 043/200 ]  loss = 1.85085, acc = 0.44063\nEpoch    43: reducing learning rate of group 0 to 3.2000e-04.\n"
          ]
        },
        {
          "output_type": "display_data",
          "data": {
            "text/plain": "Train:   0%|          | 0/25 [00:00<?, ?it/s]",
            "application/vnd.jupyter.widget-view+json": {
              "version_major": 2,
              "version_minor": 0,
              "model_id": "bd6bfb34defc4fa8b250a94960a73662"
            }
          },
          "metadata": {}
        },
        {
          "output_type": "display_data",
          "data": {
            "text/plain": "Valid:   0%|          | 0/6 [00:00<?, ?it/s]",
            "application/vnd.jupyter.widget-view+json": {
              "version_major": 2,
              "version_minor": 0,
              "model_id": "a061465c85eb49ccb23732528e612b63"
            }
          },
          "metadata": {}
        },
        {
          "output_type": "stream",
          "name": "stdout",
          "text": [
            "saving model with acc 0.483\n[ Train | 044/200 ] loss = 1.44835, acc = 0.49531\t[ Valid\t| 044/200 ]  loss = 1.53510, acc = 0.48307\n"
          ]
        },
        {
          "output_type": "display_data",
          "data": {
            "text/plain": "Train:   0%|          | 0/25 [00:00<?, ?it/s]",
            "application/vnd.jupyter.widget-view+json": {
              "version_major": 2,
              "version_minor": 0,
              "model_id": "f5df0999adb64f73bb61a55ce584d62b"
            }
          },
          "metadata": {}
        },
        {
          "output_type": "display_data",
          "data": {
            "text/plain": "Valid:   0%|          | 0/6 [00:00<?, ?it/s]",
            "application/vnd.jupyter.widget-view+json": {
              "version_major": 2,
              "version_minor": 0,
              "model_id": "81299ffe6c154644b9ed5ccf45a66bb2"
            }
          },
          "metadata": {}
        },
        {
          "output_type": "stream",
          "name": "stdout",
          "text": [
            "[ Train | 045/200 ] loss = 1.36718, acc = 0.52938\t[ Valid\t| 045/200 ]  loss = 1.74350, acc = 0.44635\n"
          ]
        },
        {
          "output_type": "display_data",
          "data": {
            "text/plain": "Train:   0%|          | 0/25 [00:00<?, ?it/s]",
            "application/vnd.jupyter.widget-view+json": {
              "version_major": 2,
              "version_minor": 0,
              "model_id": "836eac349a5f492396e3304b9c4c15b8"
            }
          },
          "metadata": {}
        },
        {
          "output_type": "display_data",
          "data": {
            "text/plain": "Valid:   0%|          | 0/6 [00:00<?, ?it/s]",
            "application/vnd.jupyter.widget-view+json": {
              "version_major": 2,
              "version_minor": 0,
              "model_id": "0e31ad21de504527ab0a8e48732367d3"
            }
          },
          "metadata": {}
        },
        {
          "output_type": "stream",
          "name": "stdout",
          "text": [
            "[ Train | 046/200 ] loss = 1.39701, acc = 0.52281\t[ Valid\t| 046/200 ]  loss = 1.66795, acc = 0.42292\n"
          ]
        },
        {
          "output_type": "display_data",
          "data": {
            "text/plain": "Train:   0%|          | 0/25 [00:00<?, ?it/s]",
            "application/vnd.jupyter.widget-view+json": {
              "version_major": 2,
              "version_minor": 0,
              "model_id": "fda266922d05428f847610ec1fadf4d2"
            }
          },
          "metadata": {}
        },
        {
          "output_type": "display_data",
          "data": {
            "text/plain": "Valid:   0%|          | 0/6 [00:00<?, ?it/s]",
            "application/vnd.jupyter.widget-view+json": {
              "version_major": 2,
              "version_minor": 0,
              "model_id": "493e02624c85441bb7eff8b29822c85a"
            }
          },
          "metadata": {}
        },
        {
          "output_type": "stream",
          "name": "stdout",
          "text": [
            "[ Train | 047/200 ] loss = 1.35329, acc = 0.52344\t[ Valid\t| 047/200 ]  loss = 1.53802, acc = 0.45469\n"
          ]
        },
        {
          "output_type": "display_data",
          "data": {
            "text/plain": "Train:   0%|          | 0/25 [00:00<?, ?it/s]",
            "application/vnd.jupyter.widget-view+json": {
              "version_major": 2,
              "version_minor": 0,
              "model_id": "5ce46a7da87c496681892f9bb8dcb7eb"
            }
          },
          "metadata": {}
        },
        {
          "output_type": "display_data",
          "data": {
            "text/plain": "Valid:   0%|          | 0/6 [00:00<?, ?it/s]",
            "application/vnd.jupyter.widget-view+json": {
              "version_major": 2,
              "version_minor": 0,
              "model_id": "e5c3614642db4469874e0fd5436a3ba5"
            }
          },
          "metadata": {}
        },
        {
          "output_type": "stream",
          "name": "stdout",
          "text": [
            "[ Train | 048/200 ] loss = 1.37247, acc = 0.53031\t[ Valid\t| 048/200 ]  loss = 1.65700, acc = 0.47396\n"
          ]
        },
        {
          "output_type": "display_data",
          "data": {
            "text/plain": "Train:   0%|          | 0/25 [00:00<?, ?it/s]",
            "application/vnd.jupyter.widget-view+json": {
              "version_major": 2,
              "version_minor": 0,
              "model_id": "b064cc8a59784660844ab6ae206731ae"
            }
          },
          "metadata": {}
        },
        {
          "output_type": "display_data",
          "data": {
            "text/plain": "Valid:   0%|          | 0/6 [00:00<?, ?it/s]",
            "application/vnd.jupyter.widget-view+json": {
              "version_major": 2,
              "version_minor": 0,
              "model_id": "6c715a505eaf404eb6ebef05e3b6bf2a"
            }
          },
          "metadata": {}
        },
        {
          "output_type": "stream",
          "name": "stdout",
          "text": [
            "[ Train | 049/200 ] loss = 1.34793, acc = 0.53812\t[ Valid\t| 049/200 ]  loss = 1.63217, acc = 0.43828\n"
          ]
        },
        {
          "output_type": "display_data",
          "data": {
            "text/plain": "Train:   0%|          | 0/25 [00:00<?, ?it/s]",
            "application/vnd.jupyter.widget-view+json": {
              "version_major": 2,
              "version_minor": 0,
              "model_id": "c9d47f07cf334c4bb45d392f44341b9a"
            }
          },
          "metadata": {}
        },
        {
          "output_type": "display_data",
          "data": {
            "text/plain": "Valid:   0%|          | 0/6 [00:00<?, ?it/s]",
            "application/vnd.jupyter.widget-view+json": {
              "version_major": 2,
              "version_minor": 0,
              "model_id": "a3c9dc6f68d444f48268d8df5336bf41"
            }
          },
          "metadata": {}
        },
        {
          "output_type": "stream",
          "name": "stdout",
          "text": [
            "saving model with acc 0.496\n[ Train | 050/200 ] loss = 1.36568, acc = 0.52969\t[ Valid\t| 050/200 ]  loss = 1.49054, acc = 0.49635\n"
          ]
        },
        {
          "output_type": "display_data",
          "data": {
            "text/plain": "Train:   0%|          | 0/25 [00:00<?, ?it/s]",
            "application/vnd.jupyter.widget-view+json": {
              "version_major": 2,
              "version_minor": 0,
              "model_id": "bf0c8162e64c4f1a873a418d4059222f"
            }
          },
          "metadata": {}
        },
        {
          "output_type": "display_data",
          "data": {
            "text/plain": "Valid:   0%|          | 0/6 [00:00<?, ?it/s]",
            "application/vnd.jupyter.widget-view+json": {
              "version_major": 2,
              "version_minor": 0,
              "model_id": "b13f0a47110d4a09bdbce28345ad7dbb"
            }
          },
          "metadata": {}
        },
        {
          "output_type": "stream",
          "name": "stdout",
          "text": [
            "saving model with acc 0.499\n[ Train | 051/200 ] loss = 1.32529, acc = 0.54219\t[ Valid\t| 051/200 ]  loss = 1.54018, acc = 0.49922\n"
          ]
        },
        {
          "output_type": "display_data",
          "data": {
            "text/plain": "Train:   0%|          | 0/25 [00:00<?, ?it/s]",
            "application/vnd.jupyter.widget-view+json": {
              "version_major": 2,
              "version_minor": 0,
              "model_id": "2d421b481bf14102bd3a63298650148c"
            }
          },
          "metadata": {}
        },
        {
          "output_type": "display_data",
          "data": {
            "text/plain": "Valid:   0%|          | 0/6 [00:00<?, ?it/s]",
            "application/vnd.jupyter.widget-view+json": {
              "version_major": 2,
              "version_minor": 0,
              "model_id": "e71aa4f6ef264984b9624c96515d9c21"
            }
          },
          "metadata": {}
        },
        {
          "output_type": "stream",
          "name": "stdout",
          "text": [
            "saving model with acc 0.501\n[ Train | 052/200 ] loss = 1.30450, acc = 0.55156\t[ Valid\t| 052/200 ]  loss = 1.58071, acc = 0.50052\n"
          ]
        },
        {
          "output_type": "display_data",
          "data": {
            "text/plain": "Train:   0%|          | 0/25 [00:00<?, ?it/s]",
            "application/vnd.jupyter.widget-view+json": {
              "version_major": 2,
              "version_minor": 0,
              "model_id": "b3f5b9fa3ebc4a4fa4a40147a71f8ad1"
            }
          },
          "metadata": {}
        },
        {
          "output_type": "display_data",
          "data": {
            "text/plain": "Valid:   0%|          | 0/6 [00:00<?, ?it/s]",
            "application/vnd.jupyter.widget-view+json": {
              "version_major": 2,
              "version_minor": 0,
              "model_id": "9013c2e4af8f4d2fb1ffe02221f7256a"
            }
          },
          "metadata": {}
        },
        {
          "output_type": "stream",
          "name": "stdout",
          "text": [
            "[ Train | 053/200 ] loss = 1.32946, acc = 0.55750\t[ Valid\t| 053/200 ]  loss = 1.70952, acc = 0.45937\n"
          ]
        },
        {
          "output_type": "display_data",
          "data": {
            "text/plain": "Train:   0%|          | 0/25 [00:00<?, ?it/s]",
            "application/vnd.jupyter.widget-view+json": {
              "version_major": 2,
              "version_minor": 0,
              "model_id": "acfe836b42874bc6b760541b6dc8400e"
            }
          },
          "metadata": {}
        },
        {
          "output_type": "display_data",
          "data": {
            "text/plain": "Valid:   0%|          | 0/6 [00:00<?, ?it/s]",
            "application/vnd.jupyter.widget-view+json": {
              "version_major": 2,
              "version_minor": 0,
              "model_id": "a848d1100b284f4f96ec12d01ac4f594"
            }
          },
          "metadata": {}
        },
        {
          "output_type": "stream",
          "name": "stdout",
          "text": [
            "saving model with acc 0.503\n[ Train | 054/200 ] loss = 1.27544, acc = 0.56000\t[ Valid\t| 054/200 ]  loss = 1.58427, acc = 0.50313\n"
          ]
        },
        {
          "output_type": "display_data",
          "data": {
            "text/plain": "Train:   0%|          | 0/25 [00:00<?, ?it/s]",
            "application/vnd.jupyter.widget-view+json": {
              "version_major": 2,
              "version_minor": 0,
              "model_id": "3931e082fed9445ebfa3209ef9245828"
            }
          },
          "metadata": {}
        },
        {
          "output_type": "display_data",
          "data": {
            "text/plain": "Valid:   0%|          | 0/6 [00:00<?, ?it/s]",
            "application/vnd.jupyter.widget-view+json": {
              "version_major": 2,
              "version_minor": 0,
              "model_id": "6b801a048e664578901789cc15916d18"
            }
          },
          "metadata": {}
        },
        {
          "output_type": "stream",
          "name": "stdout",
          "text": [
            "[ Train | 055/200 ] loss = 1.28687, acc = 0.56906\t[ Valid\t| 055/200 ]  loss = 1.63089, acc = 0.48750\n"
          ]
        },
        {
          "output_type": "display_data",
          "data": {
            "text/plain": "Train:   0%|          | 0/25 [00:00<?, ?it/s]",
            "application/vnd.jupyter.widget-view+json": {
              "version_major": 2,
              "version_minor": 0,
              "model_id": "d6461e8fede94519ac75213495c9116b"
            }
          },
          "metadata": {}
        },
        {
          "output_type": "display_data",
          "data": {
            "text/plain": "Valid:   0%|          | 0/6 [00:00<?, ?it/s]",
            "application/vnd.jupyter.widget-view+json": {
              "version_major": 2,
              "version_minor": 0,
              "model_id": "29ad8ec0940046feb395b3b48da7ebab"
            }
          },
          "metadata": {}
        },
        {
          "output_type": "stream",
          "name": "stdout",
          "text": [
            "saving model with acc 0.537\n[ Train | 056/200 ] loss = 1.28243, acc = 0.56375\t[ Valid\t| 056/200 ]  loss = 1.39257, acc = 0.53698\n"
          ]
        },
        {
          "output_type": "display_data",
          "data": {
            "text/plain": "Train:   0%|          | 0/25 [00:00<?, ?it/s]",
            "application/vnd.jupyter.widget-view+json": {
              "version_major": 2,
              "version_minor": 0,
              "model_id": "fb93fb50624d443f8fb615d62d02c464"
            }
          },
          "metadata": {}
        },
        {
          "output_type": "display_data",
          "data": {
            "text/plain": "Valid:   0%|          | 0/6 [00:00<?, ?it/s]",
            "application/vnd.jupyter.widget-view+json": {
              "version_major": 2,
              "version_minor": 0,
              "model_id": "539a630f3fce41908ef5af8359d74c64"
            }
          },
          "metadata": {}
        },
        {
          "output_type": "stream",
          "name": "stdout",
          "text": [
            "saving model with acc 0.553\n[ Train | 057/200 ] loss = 1.20019, acc = 0.60344\t[ Valid\t| 057/200 ]  loss = 1.34946, acc = 0.55286\n"
          ]
        },
        {
          "output_type": "display_data",
          "data": {
            "text/plain": "Train:   0%|          | 0/25 [00:00<?, ?it/s]",
            "application/vnd.jupyter.widget-view+json": {
              "version_major": 2,
              "version_minor": 0,
              "model_id": "e3ed35d682dc4433a875126998540894"
            }
          },
          "metadata": {}
        },
        {
          "output_type": "display_data",
          "data": {
            "text/plain": "Valid:   0%|          | 0/6 [00:00<?, ?it/s]",
            "application/vnd.jupyter.widget-view+json": {
              "version_major": 2,
              "version_minor": 0,
              "model_id": "289dec4dda4f4f33bf9aff62123ad826"
            }
          },
          "metadata": {}
        },
        {
          "output_type": "stream",
          "name": "stdout",
          "text": [
            "[ Train | 058/200 ] loss = 1.28908, acc = 0.56156\t[ Valid\t| 058/200 ]  loss = 1.69916, acc = 0.48229\n"
          ]
        },
        {
          "output_type": "display_data",
          "data": {
            "text/plain": "Train:   0%|          | 0/25 [00:00<?, ?it/s]",
            "application/vnd.jupyter.widget-view+json": {
              "version_major": 2,
              "version_minor": 0,
              "model_id": "2583f55b2e3e482cb74d9ddd33853b29"
            }
          },
          "metadata": {}
        },
        {
          "output_type": "display_data",
          "data": {
            "text/plain": "Valid:   0%|          | 0/6 [00:00<?, ?it/s]",
            "application/vnd.jupyter.widget-view+json": {
              "version_major": 2,
              "version_minor": 0,
              "model_id": "5566b417c9a84680b87b86301abe7d6b"
            }
          },
          "metadata": {}
        },
        {
          "output_type": "stream",
          "name": "stdout",
          "text": [
            "saving model with acc 0.553\n[ Train | 059/200 ] loss = 1.20973, acc = 0.58750\t[ Valid\t| 059/200 ]  loss = 1.39038, acc = 0.55313\n"
          ]
        },
        {
          "output_type": "display_data",
          "data": {
            "text/plain": "Train:   0%|          | 0/25 [00:00<?, ?it/s]",
            "application/vnd.jupyter.widget-view+json": {
              "version_major": 2,
              "version_minor": 0,
              "model_id": "6d1c7d777b2c44b6a36b75884dbae111"
            }
          },
          "metadata": {}
        },
        {
          "output_type": "display_data",
          "data": {
            "text/plain": "Valid:   0%|          | 0/6 [00:00<?, ?it/s]",
            "application/vnd.jupyter.widget-view+json": {
              "version_major": 2,
              "version_minor": 0,
              "model_id": "39763fc936c64277be276294c7c44b07"
            }
          },
          "metadata": {}
        },
        {
          "output_type": "stream",
          "name": "stdout",
          "text": [
            "[ Train | 060/200 ] loss = 1.17614, acc = 0.58906\t[ Valid\t| 060/200 ]  loss = 1.43604, acc = 0.54922\n"
          ]
        },
        {
          "output_type": "display_data",
          "data": {
            "text/plain": "Train:   0%|          | 0/25 [00:00<?, ?it/s]",
            "application/vnd.jupyter.widget-view+json": {
              "version_major": 2,
              "version_minor": 0,
              "model_id": "03d6f45f8a3a4df7b82e48e54bde1ee6"
            }
          },
          "metadata": {}
        },
        {
          "output_type": "display_data",
          "data": {
            "text/plain": "Valid:   0%|          | 0/6 [00:00<?, ?it/s]",
            "application/vnd.jupyter.widget-view+json": {
              "version_major": 2,
              "version_minor": 0,
              "model_id": "634ecc0e02f246a59b92fd782009664b"
            }
          },
          "metadata": {}
        },
        {
          "output_type": "stream",
          "name": "stdout",
          "text": [
            "saving model with acc 0.567\n[ Train | 061/200 ] loss = 1.16984, acc = 0.60656\t[ Valid\t| 061/200 ]  loss = 1.28221, acc = 0.56745\n"
          ]
        },
        {
          "output_type": "display_data",
          "data": {
            "text/plain": "Train:   0%|          | 0/25 [00:00<?, ?it/s]",
            "application/vnd.jupyter.widget-view+json": {
              "version_major": 2,
              "version_minor": 0,
              "model_id": "ba4656e73f4a4e32b13cfb7310fd1e2d"
            }
          },
          "metadata": {}
        },
        {
          "output_type": "display_data",
          "data": {
            "text/plain": "Valid:   0%|          | 0/6 [00:00<?, ?it/s]",
            "application/vnd.jupyter.widget-view+json": {
              "version_major": 2,
              "version_minor": 0,
              "model_id": "dd49e0c5f88848409962e092cdf4b02c"
            }
          },
          "metadata": {}
        },
        {
          "output_type": "stream",
          "name": "stdout",
          "text": [
            "[ Train | 062/200 ] loss = 1.23110, acc = 0.58125\t[ Valid\t| 062/200 ]  loss = 1.36281, acc = 0.54115\n"
          ]
        },
        {
          "output_type": "display_data",
          "data": {
            "text/plain": "Train:   0%|          | 0/25 [00:00<?, ?it/s]",
            "application/vnd.jupyter.widget-view+json": {
              "version_major": 2,
              "version_minor": 0,
              "model_id": "4fec75e42a08425087c6d988212eeaf5"
            }
          },
          "metadata": {}
        },
        {
          "output_type": "display_data",
          "data": {
            "text/plain": "Valid:   0%|          | 0/6 [00:00<?, ?it/s]",
            "application/vnd.jupyter.widget-view+json": {
              "version_major": 2,
              "version_minor": 0,
              "model_id": "51011324d48647e7905514a333a052af"
            }
          },
          "metadata": {}
        },
        {
          "output_type": "stream",
          "name": "stdout",
          "text": [
            "[ Train | 063/200 ] loss = 1.21135, acc = 0.58562\t[ Valid\t| 063/200 ]  loss = 1.66026, acc = 0.49219\n"
          ]
        },
        {
          "output_type": "display_data",
          "data": {
            "text/plain": "Train:   0%|          | 0/25 [00:00<?, ?it/s]",
            "application/vnd.jupyter.widget-view+json": {
              "version_major": 2,
              "version_minor": 0,
              "model_id": "f0ab758c6842438982e0455223c9a836"
            }
          },
          "metadata": {}
        },
        {
          "output_type": "display_data",
          "data": {
            "text/plain": "Valid:   0%|          | 0/6 [00:00<?, ?it/s]",
            "application/vnd.jupyter.widget-view+json": {
              "version_major": 2,
              "version_minor": 0,
              "model_id": "37a59607f9ce47e4b8cc790185a9758f"
            }
          },
          "metadata": {}
        },
        {
          "output_type": "stream",
          "name": "stdout",
          "text": [
            "[ Train | 064/200 ] loss = 1.11276, acc = 0.63187\t[ Valid\t| 064/200 ]  loss = 1.53174, acc = 0.54870\n"
          ]
        },
        {
          "output_type": "display_data",
          "data": {
            "text/plain": "Train:   0%|          | 0/25 [00:00<?, ?it/s]",
            "application/vnd.jupyter.widget-view+json": {
              "version_major": 2,
              "version_minor": 0,
              "model_id": "b9a645c25e6c4132949ff5d42b6c32c4"
            }
          },
          "metadata": {}
        },
        {
          "output_type": "display_data",
          "data": {
            "text/plain": "Valid:   0%|          | 0/6 [00:00<?, ?it/s]",
            "application/vnd.jupyter.widget-view+json": {
              "version_major": 2,
              "version_minor": 0,
              "model_id": "c1ffaeeba0b446c8938bf5ddd112a97b"
            }
          },
          "metadata": {}
        },
        {
          "output_type": "stream",
          "name": "stdout",
          "text": [
            "[ Train | 065/200 ] loss = 1.14539, acc = 0.60531\t[ Valid\t| 065/200 ]  loss = 1.48880, acc = 0.54531\n"
          ]
        },
        {
          "output_type": "display_data",
          "data": {
            "text/plain": "Train:   0%|          | 0/25 [00:00<?, ?it/s]",
            "application/vnd.jupyter.widget-view+json": {
              "version_major": 2,
              "version_minor": 0,
              "model_id": "eca0969b25fd48c495261e638ea07fcc"
            }
          },
          "metadata": {}
        },
        {
          "output_type": "display_data",
          "data": {
            "text/plain": "Valid:   0%|          | 0/6 [00:00<?, ?it/s]",
            "application/vnd.jupyter.widget-view+json": {
              "version_major": 2,
              "version_minor": 0,
              "model_id": "df29f01b07ed417695e06d7709f75040"
            }
          },
          "metadata": {}
        },
        {
          "output_type": "stream",
          "name": "stdout",
          "text": [
            "[ Train | 066/200 ] loss = 1.13766, acc = 0.61187\t[ Valid\t| 066/200 ]  loss = 1.53921, acc = 0.52891\n"
          ]
        },
        {
          "output_type": "display_data",
          "data": {
            "text/plain": "Train:   0%|          | 0/25 [00:00<?, ?it/s]",
            "application/vnd.jupyter.widget-view+json": {
              "version_major": 2,
              "version_minor": 0,
              "model_id": "6f744e44dd16427185ee99c00a3ab9ac"
            }
          },
          "metadata": {}
        },
        {
          "output_type": "display_data",
          "data": {
            "text/plain": "Valid:   0%|          | 0/6 [00:00<?, ?it/s]",
            "application/vnd.jupyter.widget-view+json": {
              "version_major": 2,
              "version_minor": 0,
              "model_id": "5693a90ebeaf4cff8e5187893b6b9b4a"
            }
          },
          "metadata": {}
        },
        {
          "output_type": "stream",
          "name": "stdout",
          "text": [
            "[ Train | 067/200 ] loss = 1.11842, acc = 0.62250\t[ Valid\t| 067/200 ]  loss = 1.67257, acc = 0.51302\n"
          ]
        },
        {
          "output_type": "display_data",
          "data": {
            "text/plain": "Train:   0%|          | 0/25 [00:00<?, ?it/s]",
            "application/vnd.jupyter.widget-view+json": {
              "version_major": 2,
              "version_minor": 0,
              "model_id": "b7ed18a29f5147d6a045b702a0930b2e"
            }
          },
          "metadata": {}
        },
        {
          "output_type": "display_data",
          "data": {
            "text/plain": "Valid:   0%|          | 0/6 [00:00<?, ?it/s]",
            "application/vnd.jupyter.widget-view+json": {
              "version_major": 2,
              "version_minor": 0,
              "model_id": "5bddf642e14442e2b27aa967acd24df4"
            }
          },
          "metadata": {}
        },
        {
          "output_type": "stream",
          "name": "stdout",
          "text": [
            "[ Train | 068/200 ] loss = 1.10558, acc = 0.62937\t[ Valid\t| 068/200 ]  loss = 1.49071, acc = 0.54453\n"
          ]
        },
        {
          "output_type": "display_data",
          "data": {
            "text/plain": "Train:   0%|          | 0/25 [00:00<?, ?it/s]",
            "application/vnd.jupyter.widget-view+json": {
              "version_major": 2,
              "version_minor": 0,
              "model_id": "2ac017eb9a2f454fa277e5216171a23c"
            }
          },
          "metadata": {}
        },
        {
          "output_type": "display_data",
          "data": {
            "text/plain": "Valid:   0%|          | 0/6 [00:00<?, ?it/s]",
            "application/vnd.jupyter.widget-view+json": {
              "version_major": 2,
              "version_minor": 0,
              "model_id": "736eb5b2474f44538b5a03c34e80263e"
            }
          },
          "metadata": {}
        },
        {
          "output_type": "stream",
          "name": "stdout",
          "text": [
            "[ Train | 069/200 ] loss = 1.10142, acc = 0.63063\t[ Valid\t| 069/200 ]  loss = 1.32063, acc = 0.53854\n"
          ]
        },
        {
          "output_type": "display_data",
          "data": {
            "text/plain": "Train:   0%|          | 0/25 [00:00<?, ?it/s]",
            "application/vnd.jupyter.widget-view+json": {
              "version_major": 2,
              "version_minor": 0,
              "model_id": "98c638ad910b4618a7779b8818f73040"
            }
          },
          "metadata": {}
        },
        {
          "output_type": "display_data",
          "data": {
            "text/plain": "Valid:   0%|          | 0/6 [00:00<?, ?it/s]",
            "application/vnd.jupyter.widget-view+json": {
              "version_major": 2,
              "version_minor": 0,
              "model_id": "1b44318b02904cafa22864771189ed34"
            }
          },
          "metadata": {}
        },
        {
          "output_type": "stream",
          "name": "stdout",
          "text": [
            "[ Train | 070/200 ] loss = 1.07967, acc = 0.63781\t[ Valid\t| 070/200 ]  loss = 1.45827, acc = 0.54297\nEpoch    70: reducing learning rate of group 0 to 2.5600e-04.\n"
          ]
        },
        {
          "output_type": "display_data",
          "data": {
            "text/plain": "Train:   0%|          | 0/25 [00:00<?, ?it/s]",
            "application/vnd.jupyter.widget-view+json": {
              "version_major": 2,
              "version_minor": 0,
              "model_id": "7da00cf71a1b45d891744ca2ce0e0e44"
            }
          },
          "metadata": {}
        },
        {
          "output_type": "display_data",
          "data": {
            "text/plain": "Valid:   0%|          | 0/6 [00:00<?, ?it/s]",
            "application/vnd.jupyter.widget-view+json": {
              "version_major": 2,
              "version_minor": 0,
              "model_id": "731b1549beb14348a528324a00fa0e8f"
            }
          },
          "metadata": {}
        },
        {
          "output_type": "stream",
          "name": "stdout",
          "text": [
            "[ Train | 071/200 ] loss = 1.03595, acc = 0.65187\t[ Valid\t| 071/200 ]  loss = 1.36775, acc = 0.55677\n"
          ]
        },
        {
          "output_type": "display_data",
          "data": {
            "text/plain": "Train:   0%|          | 0/25 [00:00<?, ?it/s]",
            "application/vnd.jupyter.widget-view+json": {
              "version_major": 2,
              "version_minor": 0,
              "model_id": "f602b99fc8ba4957a3a98d196d3b89e7"
            }
          },
          "metadata": {}
        },
        {
          "output_type": "display_data",
          "data": {
            "text/plain": "Valid:   0%|          | 0/6 [00:00<?, ?it/s]",
            "application/vnd.jupyter.widget-view+json": {
              "version_major": 2,
              "version_minor": 0,
              "model_id": "e8d4529ccfd44f2991b2f2445425adfb"
            }
          },
          "metadata": {}
        },
        {
          "output_type": "stream",
          "name": "stdout",
          "text": [
            "saving model with acc 0.612\n[ Train | 072/200 ] loss = 0.98573, acc = 0.66812\t[ Valid\t| 072/200 ]  loss = 1.17330, acc = 0.61172\n"
          ]
        },
        {
          "output_type": "display_data",
          "data": {
            "text/plain": "Train:   0%|          | 0/25 [00:00<?, ?it/s]",
            "application/vnd.jupyter.widget-view+json": {
              "version_major": 2,
              "version_minor": 0,
              "model_id": "f3c7b7180bf9408eb38920d1c313fa85"
            }
          },
          "metadata": {}
        },
        {
          "output_type": "display_data",
          "data": {
            "text/plain": "Valid:   0%|          | 0/6 [00:00<?, ?it/s]",
            "application/vnd.jupyter.widget-view+json": {
              "version_major": 2,
              "version_minor": 0,
              "model_id": "c5e12767454d4de8b3fd10fb49822637"
            }
          },
          "metadata": {}
        },
        {
          "output_type": "stream",
          "name": "stdout",
          "text": [
            "[ Train | 073/200 ] loss = 0.98996, acc = 0.66781\t[ Valid\t| 073/200 ]  loss = 1.22192, acc = 0.60573\n"
          ]
        },
        {
          "output_type": "display_data",
          "data": {
            "text/plain": "Train:   0%|          | 0/25 [00:00<?, ?it/s]",
            "application/vnd.jupyter.widget-view+json": {
              "version_major": 2,
              "version_minor": 0,
              "model_id": "74c6676343184c7381f8f10bccfccaab"
            }
          },
          "metadata": {}
        },
        {
          "output_type": "display_data",
          "data": {
            "text/plain": "Valid:   0%|          | 0/6 [00:00<?, ?it/s]",
            "application/vnd.jupyter.widget-view+json": {
              "version_major": 2,
              "version_minor": 0,
              "model_id": "983b4a27e7554e10b6edb5b5b8e59314"
            }
          },
          "metadata": {}
        },
        {
          "output_type": "stream",
          "name": "stdout",
          "text": [
            "[ Train | 074/200 ] loss = 1.02459, acc = 0.65031\t[ Valid\t| 074/200 ]  loss = 1.33973, acc = 0.55729\n"
          ]
        },
        {
          "output_type": "display_data",
          "data": {
            "text/plain": "Train:   0%|          | 0/25 [00:00<?, ?it/s]",
            "application/vnd.jupyter.widget-view+json": {
              "version_major": 2,
              "version_minor": 0,
              "model_id": "02a8ece5afa54f6fbf719360993119ac"
            }
          },
          "metadata": {}
        },
        {
          "output_type": "display_data",
          "data": {
            "text/plain": "Valid:   0%|          | 0/6 [00:00<?, ?it/s]",
            "application/vnd.jupyter.widget-view+json": {
              "version_major": 2,
              "version_minor": 0,
              "model_id": "33e944d6447443e9b9b64658ce990746"
            }
          },
          "metadata": {}
        },
        {
          "output_type": "stream",
          "name": "stdout",
          "text": [
            "[ Train | 075/200 ] loss = 0.98411, acc = 0.68437\t[ Valid\t| 075/200 ]  loss = 1.46476, acc = 0.52813\n"
          ]
        },
        {
          "output_type": "display_data",
          "data": {
            "text/plain": "Train:   0%|          | 0/25 [00:00<?, ?it/s]",
            "application/vnd.jupyter.widget-view+json": {
              "version_major": 2,
              "version_minor": 0,
              "model_id": "0ce39ac420854dc8837ceefec7490d13"
            }
          },
          "metadata": {}
        },
        {
          "output_type": "display_data",
          "data": {
            "text/plain": "Valid:   0%|          | 0/6 [00:00<?, ?it/s]",
            "application/vnd.jupyter.widget-view+json": {
              "version_major": 2,
              "version_minor": 0,
              "model_id": "b7d58f2468b34c689fdda9eb3f2b3636"
            }
          },
          "metadata": {}
        },
        {
          "output_type": "stream",
          "name": "stdout",
          "text": [
            "[ Train | 076/200 ] loss = 1.00163, acc = 0.66406\t[ Valid\t| 076/200 ]  loss = 1.31998, acc = 0.57708\n"
          ]
        },
        {
          "output_type": "display_data",
          "data": {
            "text/plain": "Train:   0%|          | 0/25 [00:00<?, ?it/s]",
            "application/vnd.jupyter.widget-view+json": {
              "version_major": 2,
              "version_minor": 0,
              "model_id": "c4d76f7490474d0ea6fc0d8e9129e374"
            }
          },
          "metadata": {}
        },
        {
          "output_type": "display_data",
          "data": {
            "text/plain": "Valid:   0%|          | 0/6 [00:00<?, ?it/s]",
            "application/vnd.jupyter.widget-view+json": {
              "version_major": 2,
              "version_minor": 0,
              "model_id": "8f859fad64504a4cbedcbd7b9a0af6c9"
            }
          },
          "metadata": {}
        },
        {
          "output_type": "stream",
          "name": "stdout",
          "text": [
            "saving model with acc 0.630\n[ Train | 077/200 ] loss = 0.92490, acc = 0.69281\t[ Valid\t| 077/200 ]  loss = 1.20204, acc = 0.63021\n"
          ]
        },
        {
          "output_type": "display_data",
          "data": {
            "text/plain": "Train:   0%|          | 0/25 [00:00<?, ?it/s]",
            "application/vnd.jupyter.widget-view+json": {
              "version_major": 2,
              "version_minor": 0,
              "model_id": "9c377a2048eb4b7d947277c86b5b3d2d"
            }
          },
          "metadata": {}
        },
        {
          "output_type": "display_data",
          "data": {
            "text/plain": "Valid:   0%|          | 0/6 [00:00<?, ?it/s]",
            "application/vnd.jupyter.widget-view+json": {
              "version_major": 2,
              "version_minor": 0,
              "model_id": "bd3d5c5b1ad649f883b976ee89c90cd2"
            }
          },
          "metadata": {}
        },
        {
          "output_type": "stream",
          "name": "stdout",
          "text": [
            "[ Train | 078/200 ] loss = 0.92447, acc = 0.69281\t[ Valid\t| 078/200 ]  loss = 1.34514, acc = 0.56484\n"
          ]
        },
        {
          "output_type": "display_data",
          "data": {
            "text/plain": "Train:   0%|          | 0/25 [00:00<?, ?it/s]",
            "application/vnd.jupyter.widget-view+json": {
              "version_major": 2,
              "version_minor": 0,
              "model_id": "93a9da4daff84551a08324a7d4141e1c"
            }
          },
          "metadata": {}
        },
        {
          "output_type": "display_data",
          "data": {
            "text/plain": "Valid:   0%|          | 0/6 [00:00<?, ?it/s]",
            "application/vnd.jupyter.widget-view+json": {
              "version_major": 2,
              "version_minor": 0,
              "model_id": "4947174a5df04da282b48f05a09c997e"
            }
          },
          "metadata": {}
        },
        {
          "output_type": "stream",
          "name": "stdout",
          "text": [
            "saving model with acc 0.653\n[ Train | 079/200 ] loss = 0.94537, acc = 0.68062\t[ Valid\t| 079/200 ]  loss = 1.14973, acc = 0.65260\n"
          ]
        },
        {
          "output_type": "display_data",
          "data": {
            "text/plain": "Train:   0%|          | 0/25 [00:00<?, ?it/s]",
            "application/vnd.jupyter.widget-view+json": {
              "version_major": 2,
              "version_minor": 0,
              "model_id": "1996c25051f84619bb4978cc316b62a0"
            }
          },
          "metadata": {}
        },
        {
          "output_type": "display_data",
          "data": {
            "text/plain": "Valid:   0%|          | 0/6 [00:00<?, ?it/s]",
            "application/vnd.jupyter.widget-view+json": {
              "version_major": 2,
              "version_minor": 0,
              "model_id": "991d7b2eb6b04524bccf1e4e5a215a29"
            }
          },
          "metadata": {}
        },
        {
          "output_type": "stream",
          "name": "stdout",
          "text": [
            "[ Train | 080/200 ] loss = 0.91412, acc = 0.69437\t[ Valid\t| 080/200 ]  loss = 1.10665, acc = 0.62865\n"
          ]
        },
        {
          "output_type": "display_data",
          "data": {
            "text/plain": "Train:   0%|          | 0/25 [00:00<?, ?it/s]",
            "application/vnd.jupyter.widget-view+json": {
              "version_major": 2,
              "version_minor": 0,
              "model_id": "aa16b8e45c2140018466c42e1b90abe0"
            }
          },
          "metadata": {}
        },
        {
          "output_type": "display_data",
          "data": {
            "text/plain": "Valid:   0%|          | 0/6 [00:00<?, ?it/s]",
            "application/vnd.jupyter.widget-view+json": {
              "version_major": 2,
              "version_minor": 0,
              "model_id": "2444e269a650423d9c1d0241a18696b3"
            }
          },
          "metadata": {}
        },
        {
          "output_type": "stream",
          "name": "stdout",
          "text": [
            "[ Train | 081/200 ] loss = 0.92955, acc = 0.68844\t[ Valid\t| 081/200 ]  loss = 1.43103, acc = 0.55859\n"
          ]
        },
        {
          "output_type": "display_data",
          "data": {
            "text/plain": "Train:   0%|          | 0/25 [00:00<?, ?it/s]",
            "application/vnd.jupyter.widget-view+json": {
              "version_major": 2,
              "version_minor": 0,
              "model_id": "316a4d624a2943b0a288d6393905adf4"
            }
          },
          "metadata": {}
        },
        {
          "output_type": "display_data",
          "data": {
            "text/plain": "Valid:   0%|          | 0/6 [00:00<?, ?it/s]",
            "application/vnd.jupyter.widget-view+json": {
              "version_major": 2,
              "version_minor": 0,
              "model_id": "9823428500844c0c9f90ea3b23864de2"
            }
          },
          "metadata": {}
        },
        {
          "output_type": "stream",
          "name": "stdout",
          "text": [
            "[ Train | 082/200 ] loss = 0.91531, acc = 0.70125\t[ Valid\t| 082/200 ]  loss = 1.41391, acc = 0.55078\n"
          ]
        },
        {
          "output_type": "display_data",
          "data": {
            "text/plain": "Train:   0%|          | 0/25 [00:00<?, ?it/s]",
            "application/vnd.jupyter.widget-view+json": {
              "version_major": 2,
              "version_minor": 0,
              "model_id": "01985b96330143f58bbc1470adb622a0"
            }
          },
          "metadata": {}
        },
        {
          "output_type": "display_data",
          "data": {
            "text/plain": "Valid:   0%|          | 0/6 [00:00<?, ?it/s]",
            "application/vnd.jupyter.widget-view+json": {
              "version_major": 2,
              "version_minor": 0,
              "model_id": "63f5cc0d7b7a4af9b749d4af646b48d1"
            }
          },
          "metadata": {}
        },
        {
          "output_type": "stream",
          "name": "stdout",
          "text": [
            "[ Train | 083/200 ] loss = 0.91764, acc = 0.68969\t[ Valid\t| 083/200 ]  loss = 1.25689, acc = 0.59271\n"
          ]
        },
        {
          "output_type": "display_data",
          "data": {
            "text/plain": "Train:   0%|          | 0/25 [00:00<?, ?it/s]",
            "application/vnd.jupyter.widget-view+json": {
              "version_major": 2,
              "version_minor": 0,
              "model_id": "ba20ee84f9674b3d9f5b9011710b2a32"
            }
          },
          "metadata": {}
        },
        {
          "output_type": "display_data",
          "data": {
            "text/plain": "Valid:   0%|          | 0/6 [00:00<?, ?it/s]",
            "application/vnd.jupyter.widget-view+json": {
              "version_major": 2,
              "version_minor": 0,
              "model_id": "deafd1e65eff4f5aac7814bbf06c63b5"
            }
          },
          "metadata": {}
        },
        {
          "output_type": "stream",
          "name": "stdout",
          "text": [
            "[ Train | 084/200 ] loss = 0.91337, acc = 0.68937\t[ Valid\t| 084/200 ]  loss = 1.33300, acc = 0.58255\n"
          ]
        },
        {
          "output_type": "display_data",
          "data": {
            "text/plain": "Train:   0%|          | 0/25 [00:00<?, ?it/s]",
            "application/vnd.jupyter.widget-view+json": {
              "version_major": 2,
              "version_minor": 0,
              "model_id": "551f9449df7048b2a7b6f7eac1663752"
            }
          },
          "metadata": {}
        },
        {
          "output_type": "display_data",
          "data": {
            "text/plain": "Valid:   0%|          | 0/6 [00:00<?, ?it/s]",
            "application/vnd.jupyter.widget-view+json": {
              "version_major": 2,
              "version_minor": 0,
              "model_id": "2d0f98c66a0f44bca9dde9453c3dd5b0"
            }
          },
          "metadata": {}
        },
        {
          "output_type": "stream",
          "name": "stdout",
          "text": [
            "[ Train | 085/200 ] loss = 0.88918, acc = 0.69969\t[ Valid\t| 085/200 ]  loss = 1.11114, acc = 0.64323\n"
          ]
        },
        {
          "output_type": "display_data",
          "data": {
            "text/plain": "Train:   0%|          | 0/25 [00:00<?, ?it/s]",
            "application/vnd.jupyter.widget-view+json": {
              "version_major": 2,
              "version_minor": 0,
              "model_id": "0e0b7a0972034389a42a48198a594e42"
            }
          },
          "metadata": {}
        },
        {
          "output_type": "display_data",
          "data": {
            "text/plain": "Valid:   0%|          | 0/6 [00:00<?, ?it/s]",
            "application/vnd.jupyter.widget-view+json": {
              "version_major": 2,
              "version_minor": 0,
              "model_id": "d0e2a1829bc643a1bbf51bc51e7c31a8"
            }
          },
          "metadata": {}
        },
        {
          "output_type": "stream",
          "name": "stdout",
          "text": [
            "[ Train | 086/200 ] loss = 0.86396, acc = 0.72062\t[ Valid\t| 086/200 ]  loss = 1.10421, acc = 0.63958\n"
          ]
        },
        {
          "output_type": "display_data",
          "data": {
            "text/plain": "Train:   0%|          | 0/25 [00:00<?, ?it/s]",
            "application/vnd.jupyter.widget-view+json": {
              "version_major": 2,
              "version_minor": 0,
              "model_id": "7b24bc0bc101450daf14dbecd986e058"
            }
          },
          "metadata": {}
        },
        {
          "output_type": "display_data",
          "data": {
            "text/plain": "Valid:   0%|          | 0/6 [00:00<?, ?it/s]",
            "application/vnd.jupyter.widget-view+json": {
              "version_major": 2,
              "version_minor": 0,
              "model_id": "ee7b079bb8864f19af5dcea945520aaa"
            }
          },
          "metadata": {}
        },
        {
          "output_type": "stream",
          "name": "stdout",
          "text": [
            "[ Train | 087/200 ] loss = 0.84764, acc = 0.71406\t[ Valid\t| 087/200 ]  loss = 1.33145, acc = 0.58203\n"
          ]
        },
        {
          "output_type": "display_data",
          "data": {
            "text/plain": "Train:   0%|          | 0/25 [00:00<?, ?it/s]",
            "application/vnd.jupyter.widget-view+json": {
              "version_major": 2,
              "version_minor": 0,
              "model_id": "ea26acba6d1640709bf1d22d0ce8791f"
            }
          },
          "metadata": {}
        },
        {
          "output_type": "display_data",
          "data": {
            "text/plain": "Valid:   0%|          | 0/6 [00:00<?, ?it/s]",
            "application/vnd.jupyter.widget-view+json": {
              "version_major": 2,
              "version_minor": 0,
              "model_id": "fc8668ff0ff4416ea39a69ca1c201c4f"
            }
          },
          "metadata": {}
        },
        {
          "output_type": "stream",
          "name": "stdout",
          "text": [
            "[ Train | 088/200 ] loss = 0.83334, acc = 0.71219\t[ Valid\t| 088/200 ]  loss = 1.31851, acc = 0.58854\nEpoch    88: reducing learning rate of group 0 to 2.0480e-04.\n"
          ]
        },
        {
          "output_type": "display_data",
          "data": {
            "text/plain": "Train:   0%|          | 0/25 [00:00<?, ?it/s]",
            "application/vnd.jupyter.widget-view+json": {
              "version_major": 2,
              "version_minor": 0,
              "model_id": "08611097336f44f8aef7976129325503"
            }
          },
          "metadata": {}
        },
        {
          "output_type": "display_data",
          "data": {
            "text/plain": "Valid:   0%|          | 0/6 [00:00<?, ?it/s]",
            "application/vnd.jupyter.widget-view+json": {
              "version_major": 2,
              "version_minor": 0,
              "model_id": "d450490030944ef0b37ccd47cd8629ef"
            }
          },
          "metadata": {}
        },
        {
          "output_type": "stream",
          "name": "stdout",
          "text": [
            "[ Train | 089/200 ] loss = 0.81532, acc = 0.71969\t[ Valid\t| 089/200 ]  loss = 1.10171, acc = 0.65156\n"
          ]
        },
        {
          "output_type": "display_data",
          "data": {
            "text/plain": "Train:   0%|          | 0/25 [00:00<?, ?it/s]",
            "application/vnd.jupyter.widget-view+json": {
              "version_major": 2,
              "version_minor": 0,
              "model_id": "a1dea1c064d04affbcaa1943294eb268"
            }
          },
          "metadata": {}
        },
        {
          "output_type": "display_data",
          "data": {
            "text/plain": "Valid:   0%|          | 0/6 [00:00<?, ?it/s]",
            "application/vnd.jupyter.widget-view+json": {
              "version_major": 2,
              "version_minor": 0,
              "model_id": "ad7253229c1c4496bedd3ed2ea124fad"
            }
          },
          "metadata": {}
        },
        {
          "output_type": "stream",
          "name": "stdout",
          "text": [
            "saving model with acc 0.669\n[ Train | 090/200 ] loss = 0.81630, acc = 0.72969\t[ Valid\t| 090/200 ]  loss = 1.08548, acc = 0.66927\n"
          ]
        },
        {
          "output_type": "display_data",
          "data": {
            "text/plain": "Train:   0%|          | 0/25 [00:00<?, ?it/s]",
            "application/vnd.jupyter.widget-view+json": {
              "version_major": 2,
              "version_minor": 0,
              "model_id": "3a92e10d61a84f94970d5414d62efe39"
            }
          },
          "metadata": {}
        },
        {
          "output_type": "display_data",
          "data": {
            "text/plain": "Valid:   0%|          | 0/6 [00:00<?, ?it/s]",
            "application/vnd.jupyter.widget-view+json": {
              "version_major": 2,
              "version_minor": 0,
              "model_id": "50c630efbace419c9f4cc15f66a039fc"
            }
          },
          "metadata": {}
        },
        {
          "output_type": "stream",
          "name": "stdout",
          "text": [
            "[ Train | 091/200 ] loss = 0.83405, acc = 0.72281\t[ Valid\t| 091/200 ]  loss = 1.23182, acc = 0.61563\n"
          ]
        },
        {
          "output_type": "display_data",
          "data": {
            "text/plain": "Train:   0%|          | 0/25 [00:00<?, ?it/s]",
            "application/vnd.jupyter.widget-view+json": {
              "version_major": 2,
              "version_minor": 0,
              "model_id": "65860a3f9779410cab7359ad2ca11964"
            }
          },
          "metadata": {}
        },
        {
          "output_type": "display_data",
          "data": {
            "text/plain": "Valid:   0%|          | 0/6 [00:00<?, ?it/s]",
            "application/vnd.jupyter.widget-view+json": {
              "version_major": 2,
              "version_minor": 0,
              "model_id": "d7f5c42e5451414487944d2398fc7afb"
            }
          },
          "metadata": {}
        },
        {
          "output_type": "stream",
          "name": "stdout",
          "text": [
            "saving model with acc 0.703\n[ Train | 092/200 ] loss = 0.75303, acc = 0.74937\t[ Valid\t| 092/200 ]  loss = 0.97792, acc = 0.70312\n"
          ]
        },
        {
          "output_type": "display_data",
          "data": {
            "text/plain": "Train:   0%|          | 0/25 [00:00<?, ?it/s]",
            "application/vnd.jupyter.widget-view+json": {
              "version_major": 2,
              "version_minor": 0,
              "model_id": "bef2759073d84ccabed060f4d8365b87"
            }
          },
          "metadata": {}
        },
        {
          "output_type": "display_data",
          "data": {
            "text/plain": "Valid:   0%|          | 0/6 [00:00<?, ?it/s]",
            "application/vnd.jupyter.widget-view+json": {
              "version_major": 2,
              "version_minor": 0,
              "model_id": "5d604067a5a34fac9bc7305b7d08811a"
            }
          },
          "metadata": {}
        },
        {
          "output_type": "stream",
          "name": "stdout",
          "text": [
            "[ Train | 093/200 ] loss = 0.74957, acc = 0.74656\t[ Valid\t| 093/200 ]  loss = 1.23373, acc = 0.63229\n"
          ]
        },
        {
          "output_type": "display_data",
          "data": {
            "text/plain": "Train:   0%|          | 0/25 [00:00<?, ?it/s]",
            "application/vnd.jupyter.widget-view+json": {
              "version_major": 2,
              "version_minor": 0,
              "model_id": "bcc8a569b15743fcbabb1a7375d3ddee"
            }
          },
          "metadata": {}
        },
        {
          "output_type": "display_data",
          "data": {
            "text/plain": "Valid:   0%|          | 0/6 [00:00<?, ?it/s]",
            "application/vnd.jupyter.widget-view+json": {
              "version_major": 2,
              "version_minor": 0,
              "model_id": "cfee496281aa4c678c468bacf2882876"
            }
          },
          "metadata": {}
        },
        {
          "output_type": "stream",
          "name": "stdout",
          "text": [
            "[ Train | 094/200 ] loss = 0.78468, acc = 0.73594\t[ Valid\t| 094/200 ]  loss = 1.53423, acc = 0.55938\n"
          ]
        },
        {
          "output_type": "display_data",
          "data": {
            "text/plain": "Train:   0%|          | 0/25 [00:00<?, ?it/s]",
            "application/vnd.jupyter.widget-view+json": {
              "version_major": 2,
              "version_minor": 0,
              "model_id": "ab74a6e1554346f89d8fd407d68a3622"
            }
          },
          "metadata": {}
        },
        {
          "output_type": "display_data",
          "data": {
            "text/plain": "Valid:   0%|          | 0/6 [00:00<?, ?it/s]",
            "application/vnd.jupyter.widget-view+json": {
              "version_major": 2,
              "version_minor": 0,
              "model_id": "33c2d03962c34ea8b14a57c4ef0620fd"
            }
          },
          "metadata": {}
        },
        {
          "output_type": "stream",
          "name": "stdout",
          "text": [
            "[ Train | 095/200 ] loss = 0.76956, acc = 0.74625\t[ Valid\t| 095/200 ]  loss = 1.27343, acc = 0.61328\n"
          ]
        },
        {
          "output_type": "display_data",
          "data": {
            "text/plain": "Train:   0%|          | 0/25 [00:00<?, ?it/s]",
            "application/vnd.jupyter.widget-view+json": {
              "version_major": 2,
              "version_minor": 0,
              "model_id": "433bcd630fd540a18260764b70d4ead3"
            }
          },
          "metadata": {}
        },
        {
          "output_type": "display_data",
          "data": {
            "text/plain": "Valid:   0%|          | 0/6 [00:00<?, ?it/s]",
            "application/vnd.jupyter.widget-view+json": {
              "version_major": 2,
              "version_minor": 0,
              "model_id": "419351833b054fdfbbdecc85e168e60e"
            }
          },
          "metadata": {}
        },
        {
          "output_type": "stream",
          "name": "stdout",
          "text": [
            "[ Train | 096/200 ] loss = 0.76042, acc = 0.76094\t[ Valid\t| 096/200 ]  loss = 1.20286, acc = 0.62839\n"
          ]
        },
        {
          "output_type": "display_data",
          "data": {
            "text/plain": "Train:   0%|          | 0/25 [00:00<?, ?it/s]",
            "application/vnd.jupyter.widget-view+json": {
              "version_major": 2,
              "version_minor": 0,
              "model_id": "33f21613d9454d5882502da2a50e8d4e"
            }
          },
          "metadata": {}
        },
        {
          "output_type": "display_data",
          "data": {
            "text/plain": "Valid:   0%|          | 0/6 [00:00<?, ?it/s]",
            "application/vnd.jupyter.widget-view+json": {
              "version_major": 2,
              "version_minor": 0,
              "model_id": "ba5125d53bcb4a40a3a9e77d253b3db6"
            }
          },
          "metadata": {}
        },
        {
          "output_type": "stream",
          "name": "stdout",
          "text": [
            "[ Train | 097/200 ] loss = 0.74789, acc = 0.75500\t[ Valid\t| 097/200 ]  loss = 1.32656, acc = 0.60703\n"
          ]
        },
        {
          "output_type": "display_data",
          "data": {
            "text/plain": "Train:   0%|          | 0/25 [00:00<?, ?it/s]",
            "application/vnd.jupyter.widget-view+json": {
              "version_major": 2,
              "version_minor": 0,
              "model_id": "274e703fee03481eaa8d8539bffbcf67"
            }
          },
          "metadata": {}
        },
        {
          "output_type": "display_data",
          "data": {
            "text/plain": "Valid:   0%|          | 0/6 [00:00<?, ?it/s]",
            "application/vnd.jupyter.widget-view+json": {
              "version_major": 2,
              "version_minor": 0,
              "model_id": "82912b4ff3bd4361b373f95721eded81"
            }
          },
          "metadata": {}
        },
        {
          "output_type": "stream",
          "name": "stdout",
          "text": [
            "[ Train | 098/200 ] loss = 0.71735, acc = 0.77344\t[ Valid\t| 098/200 ]  loss = 1.18708, acc = 0.62943\n"
          ]
        },
        {
          "output_type": "display_data",
          "data": {
            "text/plain": "Train:   0%|          | 0/25 [00:00<?, ?it/s]",
            "application/vnd.jupyter.widget-view+json": {
              "version_major": 2,
              "version_minor": 0,
              "model_id": "e923c2f51f3545adb30f0dbe1d102ea9"
            }
          },
          "metadata": {}
        },
        {
          "output_type": "display_data",
          "data": {
            "text/plain": "Valid:   0%|          | 0/6 [00:00<?, ?it/s]",
            "application/vnd.jupyter.widget-view+json": {
              "version_major": 2,
              "version_minor": 0,
              "model_id": "9389169334d845179ffadfed618e8307"
            }
          },
          "metadata": {}
        },
        {
          "output_type": "stream",
          "name": "stdout",
          "text": [
            "[ Train | 099/200 ] loss = 0.73760, acc = 0.74437\t[ Valid\t| 099/200 ]  loss = 1.20297, acc = 0.63594\n"
          ]
        },
        {
          "output_type": "display_data",
          "data": {
            "text/plain": "Train:   0%|          | 0/25 [00:00<?, ?it/s]",
            "application/vnd.jupyter.widget-view+json": {
              "version_major": 2,
              "version_minor": 0,
              "model_id": "82082db8b50e4cd9aec88220091fa761"
            }
          },
          "metadata": {}
        },
        {
          "output_type": "display_data",
          "data": {
            "text/plain": "Valid:   0%|          | 0/6 [00:00<?, ?it/s]",
            "application/vnd.jupyter.widget-view+json": {
              "version_major": 2,
              "version_minor": 0,
              "model_id": "bcbd684260b149a1ac2d5205fd678458"
            }
          },
          "metadata": {}
        },
        {
          "output_type": "stream",
          "name": "stdout",
          "text": [
            "[ Train | 100/200 ] loss = 0.73319, acc = 0.76656\t[ Valid\t| 100/200 ]  loss = 1.27638, acc = 0.61823\n"
          ]
        },
        {
          "output_type": "display_data",
          "data": {
            "text/plain": "Train:   0%|          | 0/25 [00:00<?, ?it/s]",
            "application/vnd.jupyter.widget-view+json": {
              "version_major": 2,
              "version_minor": 0,
              "model_id": "6d2766cedd0640169f98a4afec8f3230"
            }
          },
          "metadata": {}
        },
        {
          "output_type": "display_data",
          "data": {
            "text/plain": "Valid:   0%|          | 0/6 [00:00<?, ?it/s]",
            "application/vnd.jupyter.widget-view+json": {
              "version_major": 2,
              "version_minor": 0,
              "model_id": "945a0fe6a2af409c9739c8a094d7c441"
            }
          },
          "metadata": {}
        },
        {
          "output_type": "stream",
          "name": "stdout",
          "text": [
            "[ Train | 101/200 ] loss = 0.69195, acc = 0.77250\t[ Valid\t| 101/200 ]  loss = 1.05980, acc = 0.67448\nEpoch   101: reducing learning rate of group 0 to 1.6384e-04.\n"
          ]
        },
        {
          "output_type": "display_data",
          "data": {
            "text/plain": "Train:   0%|          | 0/25 [00:00<?, ?it/s]",
            "application/vnd.jupyter.widget-view+json": {
              "version_major": 2,
              "version_minor": 0,
              "model_id": "8d387b95d9204d7e8e619516b3d9f326"
            }
          },
          "metadata": {}
        },
        {
          "output_type": "display_data",
          "data": {
            "text/plain": "Valid:   0%|          | 0/6 [00:00<?, ?it/s]",
            "application/vnd.jupyter.widget-view+json": {
              "version_major": 2,
              "version_minor": 0,
              "model_id": "dabb89f2b3e94291bb976b46930a9937"
            }
          },
          "metadata": {}
        },
        {
          "output_type": "stream",
          "name": "stdout",
          "text": [
            "[ Train | 102/200 ] loss = 0.64436, acc = 0.78875\t[ Valid\t| 102/200 ]  loss = 1.26642, acc = 0.61745\n"
          ]
        },
        {
          "output_type": "display_data",
          "data": {
            "text/plain": "Train:   0%|          | 0/25 [00:00<?, ?it/s]",
            "application/vnd.jupyter.widget-view+json": {
              "version_major": 2,
              "version_minor": 0,
              "model_id": "521be9fa39604b14ae11d3a6b6b8ea9e"
            }
          },
          "metadata": {}
        },
        {
          "output_type": "display_data",
          "data": {
            "text/plain": "Valid:   0%|          | 0/6 [00:00<?, ?it/s]",
            "application/vnd.jupyter.widget-view+json": {
              "version_major": 2,
              "version_minor": 0,
              "model_id": "8cb5c9487e354b5f93f969d027b86477"
            }
          },
          "metadata": {}
        },
        {
          "output_type": "stream",
          "name": "stdout",
          "text": [
            "[ Train | 103/200 ] loss = 0.63856, acc = 0.78187\t[ Valid\t| 103/200 ]  loss = 1.19908, acc = 0.61328\n"
          ]
        },
        {
          "output_type": "display_data",
          "data": {
            "text/plain": "Train:   0%|          | 0/25 [00:00<?, ?it/s]",
            "application/vnd.jupyter.widget-view+json": {
              "version_major": 2,
              "version_minor": 0,
              "model_id": "6ed45ce5755a44fcacadb9cfb60450a6"
            }
          },
          "metadata": {}
        },
        {
          "output_type": "display_data",
          "data": {
            "text/plain": "Valid:   0%|          | 0/6 [00:00<?, ?it/s]",
            "application/vnd.jupyter.widget-view+json": {
              "version_major": 2,
              "version_minor": 0,
              "model_id": "fc10030ed32a43339c7f796c0bfbf8fd"
            }
          },
          "metadata": {}
        },
        {
          "output_type": "stream",
          "name": "stdout",
          "text": [
            "[ Train | 104/200 ] loss = 0.61058, acc = 0.80750\t[ Valid\t| 104/200 ]  loss = 1.04593, acc = 0.68385\n"
          ]
        },
        {
          "output_type": "display_data",
          "data": {
            "text/plain": "Train:   0%|          | 0/25 [00:00<?, ?it/s]",
            "application/vnd.jupyter.widget-view+json": {
              "version_major": 2,
              "version_minor": 0,
              "model_id": "a2143b934072494b9cb23042db97091d"
            }
          },
          "metadata": {}
        },
        {
          "output_type": "display_data",
          "data": {
            "text/plain": "Valid:   0%|          | 0/6 [00:00<?, ?it/s]",
            "application/vnd.jupyter.widget-view+json": {
              "version_major": 2,
              "version_minor": 0,
              "model_id": "0351c7514ff14a3a81f8b950639220e1"
            }
          },
          "metadata": {}
        },
        {
          "output_type": "stream",
          "name": "stdout",
          "text": [
            "[ Train | 105/200 ] loss = 0.61499, acc = 0.80187\t[ Valid\t| 105/200 ]  loss = 1.05912, acc = 0.67891\n"
          ]
        },
        {
          "output_type": "display_data",
          "data": {
            "text/plain": "Train:   0%|          | 0/25 [00:00<?, ?it/s]",
            "application/vnd.jupyter.widget-view+json": {
              "version_major": 2,
              "version_minor": 0,
              "model_id": "be40e4c99b684a4d891d286ea8411a92"
            }
          },
          "metadata": {}
        },
        {
          "output_type": "display_data",
          "data": {
            "text/plain": "Valid:   0%|          | 0/6 [00:00<?, ?it/s]",
            "application/vnd.jupyter.widget-view+json": {
              "version_major": 2,
              "version_minor": 0,
              "model_id": "cb705793abe447938d50bf538540143d"
            }
          },
          "metadata": {}
        },
        {
          "output_type": "stream",
          "name": "stdout",
          "text": [
            "[ Train | 106/200 ] loss = 0.65804, acc = 0.79281\t[ Valid\t| 106/200 ]  loss = 1.34542, acc = 0.64193\n"
          ]
        },
        {
          "output_type": "display_data",
          "data": {
            "text/plain": "Train:   0%|          | 0/25 [00:00<?, ?it/s]",
            "application/vnd.jupyter.widget-view+json": {
              "version_major": 2,
              "version_minor": 0,
              "model_id": "69409be6bcab4e0ea11a932c675cc8ab"
            }
          },
          "metadata": {}
        },
        {
          "output_type": "display_data",
          "data": {
            "text/plain": "Valid:   0%|          | 0/6 [00:00<?, ?it/s]",
            "application/vnd.jupyter.widget-view+json": {
              "version_major": 2,
              "version_minor": 0,
              "model_id": "ded754a1bffd4af9a00ce45448255469"
            }
          },
          "metadata": {}
        },
        {
          "output_type": "stream",
          "name": "stdout",
          "text": [
            "[ Train | 107/200 ] loss = 0.65174, acc = 0.78688\t[ Valid\t| 107/200 ]  loss = 1.02832, acc = 0.67240\n"
          ]
        },
        {
          "output_type": "display_data",
          "data": {
            "text/plain": "Train:   0%|          | 0/25 [00:00<?, ?it/s]",
            "application/vnd.jupyter.widget-view+json": {
              "version_major": 2,
              "version_minor": 0,
              "model_id": "9f1b28f38aa2458cbf2b2a2506e213e7"
            }
          },
          "metadata": {}
        },
        {
          "output_type": "display_data",
          "data": {
            "text/plain": "Valid:   0%|          | 0/6 [00:00<?, ?it/s]",
            "application/vnd.jupyter.widget-view+json": {
              "version_major": 2,
              "version_minor": 0,
              "model_id": "ffb38dc8c3a34bf1be85967db651fd24"
            }
          },
          "metadata": {}
        },
        {
          "output_type": "stream",
          "name": "stdout",
          "text": [
            "[ Train | 108/200 ] loss = 0.61454, acc = 0.79188\t[ Valid\t| 108/200 ]  loss = 1.05834, acc = 0.65339\n"
          ]
        },
        {
          "output_type": "display_data",
          "data": {
            "text/plain": "Train:   0%|          | 0/25 [00:00<?, ?it/s]",
            "application/vnd.jupyter.widget-view+json": {
              "version_major": 2,
              "version_minor": 0,
              "model_id": "05dcdf92d637447e99d490ffedf8a7ca"
            }
          },
          "metadata": {}
        },
        {
          "output_type": "display_data",
          "data": {
            "text/plain": "Valid:   0%|          | 0/6 [00:00<?, ?it/s]",
            "application/vnd.jupyter.widget-view+json": {
              "version_major": 2,
              "version_minor": 0,
              "model_id": "7f2392b86ad24b96a7fc9f2c08f18227"
            }
          },
          "metadata": {}
        },
        {
          "output_type": "stream",
          "name": "stdout",
          "text": [
            "[ Train | 109/200 ] loss = 0.60459, acc = 0.80375\t[ Valid\t| 109/200 ]  loss = 1.08489, acc = 0.64792\n"
          ]
        },
        {
          "output_type": "display_data",
          "data": {
            "text/plain": "Train:   0%|          | 0/25 [00:00<?, ?it/s]",
            "application/vnd.jupyter.widget-view+json": {
              "version_major": 2,
              "version_minor": 0,
              "model_id": "6d3ca880fd5d4b22ab88a389afe5a2aa"
            }
          },
          "metadata": {}
        },
        {
          "output_type": "display_data",
          "data": {
            "text/plain": "Valid:   0%|          | 0/6 [00:00<?, ?it/s]",
            "application/vnd.jupyter.widget-view+json": {
              "version_major": 2,
              "version_minor": 0,
              "model_id": "79142fb32a3f4ab78294b7635a0fbad6"
            }
          },
          "metadata": {}
        },
        {
          "output_type": "stream",
          "name": "stdout",
          "text": [
            "[ Train | 110/200 ] loss = 0.61066, acc = 0.80125\t[ Valid\t| 110/200 ]  loss = 1.05155, acc = 0.65469\nEpoch   110: reducing learning rate of group 0 to 1.3107e-04.\n"
          ]
        },
        {
          "output_type": "display_data",
          "data": {
            "text/plain": "Train:   0%|          | 0/25 [00:00<?, ?it/s]",
            "application/vnd.jupyter.widget-view+json": {
              "version_major": 2,
              "version_minor": 0,
              "model_id": "79775e5b2fb247c08658a822f98fc801"
            }
          },
          "metadata": {}
        },
        {
          "output_type": "display_data",
          "data": {
            "text/plain": "Valid:   0%|          | 0/6 [00:00<?, ?it/s]",
            "application/vnd.jupyter.widget-view+json": {
              "version_major": 2,
              "version_minor": 0,
              "model_id": "aee7280073504873962c64b67af19c2e"
            }
          },
          "metadata": {}
        },
        {
          "output_type": "stream",
          "name": "stdout",
          "text": [
            "[ Train | 111/200 ] loss = 0.60666, acc = 0.81250\t[ Valid\t| 111/200 ]  loss = 1.29898, acc = 0.60807\n"
          ]
        },
        {
          "output_type": "display_data",
          "data": {
            "text/plain": "Train:   0%|          | 0/25 [00:00<?, ?it/s]",
            "application/vnd.jupyter.widget-view+json": {
              "version_major": 2,
              "version_minor": 0,
              "model_id": "9488ceb5195648d7ba86e764ef5872bb"
            }
          },
          "metadata": {}
        },
        {
          "output_type": "display_data",
          "data": {
            "text/plain": "Valid:   0%|          | 0/6 [00:00<?, ?it/s]",
            "application/vnd.jupyter.widget-view+json": {
              "version_major": 2,
              "version_minor": 0,
              "model_id": "1d6f506dbe9742f4ac3e9b06a3c27939"
            }
          },
          "metadata": {}
        },
        {
          "output_type": "stream",
          "name": "stdout",
          "text": [
            "saving model with acc 0.715\n[ Train | 112/200 ] loss = 0.57641, acc = 0.81219\t[ Valid\t| 112/200 ]  loss = 0.98106, acc = 0.71484\n"
          ]
        },
        {
          "output_type": "display_data",
          "data": {
            "text/plain": "Train:   0%|          | 0/25 [00:00<?, ?it/s]",
            "application/vnd.jupyter.widget-view+json": {
              "version_major": 2,
              "version_minor": 0,
              "model_id": "3ac9840ecb1c433eac511161c5a465b7"
            }
          },
          "metadata": {}
        },
        {
          "output_type": "display_data",
          "data": {
            "text/plain": "Valid:   0%|          | 0/6 [00:00<?, ?it/s]",
            "application/vnd.jupyter.widget-view+json": {
              "version_major": 2,
              "version_minor": 0,
              "model_id": "b6628fb13d084af583e1b05ed255ba03"
            }
          },
          "metadata": {}
        },
        {
          "output_type": "stream",
          "name": "stdout",
          "text": [
            "[ Train | 113/200 ] loss = 0.55122, acc = 0.82687\t[ Valid\t| 113/200 ]  loss = 1.11660, acc = 0.67891\n"
          ]
        },
        {
          "output_type": "display_data",
          "data": {
            "text/plain": "Train:   0%|          | 0/25 [00:00<?, ?it/s]",
            "application/vnd.jupyter.widget-view+json": {
              "version_major": 2,
              "version_minor": 0,
              "model_id": "40e33055b44e4e4c9685929a2a7c052c"
            }
          },
          "metadata": {}
        },
        {
          "output_type": "display_data",
          "data": {
            "text/plain": "Valid:   0%|          | 0/6 [00:00<?, ?it/s]",
            "application/vnd.jupyter.widget-view+json": {
              "version_major": 2,
              "version_minor": 0,
              "model_id": "40cca27b619d4165aab615f9d33838ed"
            }
          },
          "metadata": {}
        },
        {
          "output_type": "stream",
          "name": "stdout",
          "text": [
            "[ Train | 114/200 ] loss = 0.57339, acc = 0.81969\t[ Valid\t| 114/200 ]  loss = 1.24728, acc = 0.63698\n"
          ]
        },
        {
          "output_type": "display_data",
          "data": {
            "text/plain": "Train:   0%|          | 0/25 [00:00<?, ?it/s]",
            "application/vnd.jupyter.widget-view+json": {
              "version_major": 2,
              "version_minor": 0,
              "model_id": "d815c17e8be846cdadebf5a0a0acb65a"
            }
          },
          "metadata": {}
        },
        {
          "output_type": "display_data",
          "data": {
            "text/plain": "Valid:   0%|          | 0/6 [00:00<?, ?it/s]",
            "application/vnd.jupyter.widget-view+json": {
              "version_major": 2,
              "version_minor": 0,
              "model_id": "0ee00de625a848a59eb6ebba3ffe4b72"
            }
          },
          "metadata": {}
        },
        {
          "output_type": "stream",
          "name": "stdout",
          "text": [
            "[ Train | 115/200 ] loss = 0.55441, acc = 0.81625\t[ Valid\t| 115/200 ]  loss = 1.24131, acc = 0.65391\n"
          ]
        },
        {
          "output_type": "display_data",
          "data": {
            "text/plain": "Train:   0%|          | 0/25 [00:00<?, ?it/s]",
            "application/vnd.jupyter.widget-view+json": {
              "version_major": 2,
              "version_minor": 0,
              "model_id": "1a2cd837fd194463b24b5ea8c7e8509f"
            }
          },
          "metadata": {}
        },
        {
          "output_type": "display_data",
          "data": {
            "text/plain": "Valid:   0%|          | 0/6 [00:00<?, ?it/s]",
            "application/vnd.jupyter.widget-view+json": {
              "version_major": 2,
              "version_minor": 0,
              "model_id": "f6ad64905fca4f2ab88189ac4bf33eb0"
            }
          },
          "metadata": {}
        },
        {
          "output_type": "stream",
          "name": "stdout",
          "text": [
            "saving model with acc 0.730\n[ Train | 116/200 ] loss = 0.50573, acc = 0.83656\t[ Valid\t| 116/200 ]  loss = 0.87107, acc = 0.73021\n"
          ]
        },
        {
          "output_type": "display_data",
          "data": {
            "text/plain": "Train:   0%|          | 0/25 [00:00<?, ?it/s]",
            "application/vnd.jupyter.widget-view+json": {
              "version_major": 2,
              "version_minor": 0,
              "model_id": "f4fa86f7613c49ee80d5908216fe8bb7"
            }
          },
          "metadata": {}
        },
        {
          "output_type": "display_data",
          "data": {
            "text/plain": "Valid:   0%|          | 0/6 [00:00<?, ?it/s]",
            "application/vnd.jupyter.widget-view+json": {
              "version_major": 2,
              "version_minor": 0,
              "model_id": "3a6174132d4e4c8f88f0aedc117be97c"
            }
          },
          "metadata": {}
        },
        {
          "output_type": "stream",
          "name": "stdout",
          "text": [
            "[ Train | 117/200 ] loss = 0.52855, acc = 0.82875\t[ Valid\t| 117/200 ]  loss = 1.00162, acc = 0.69740\n"
          ]
        },
        {
          "output_type": "display_data",
          "data": {
            "text/plain": "Train:   0%|          | 0/25 [00:00<?, ?it/s]",
            "application/vnd.jupyter.widget-view+json": {
              "version_major": 2,
              "version_minor": 0,
              "model_id": "cc1931e956f64b98b1eaf09a3fe51843"
            }
          },
          "metadata": {}
        },
        {
          "output_type": "display_data",
          "data": {
            "text/plain": "Valid:   0%|          | 0/6 [00:00<?, ?it/s]",
            "application/vnd.jupyter.widget-view+json": {
              "version_major": 2,
              "version_minor": 0,
              "model_id": "f84b6fc8922541e5bb68193ff43921a3"
            }
          },
          "metadata": {}
        },
        {
          "output_type": "stream",
          "name": "stdout",
          "text": [
            "[ Train | 118/200 ] loss = 0.53450, acc = 0.82406\t[ Valid\t| 118/200 ]  loss = 1.20643, acc = 0.63047\n"
          ]
        },
        {
          "output_type": "display_data",
          "data": {
            "text/plain": "Train:   0%|          | 0/25 [00:00<?, ?it/s]",
            "application/vnd.jupyter.widget-view+json": {
              "version_major": 2,
              "version_minor": 0,
              "model_id": "5d6f2acedaeb439fb6c8f9addc323227"
            }
          },
          "metadata": {}
        },
        {
          "output_type": "display_data",
          "data": {
            "text/plain": "Valid:   0%|          | 0/6 [00:00<?, ?it/s]",
            "application/vnd.jupyter.widget-view+json": {
              "version_major": 2,
              "version_minor": 0,
              "model_id": "af0f758c59fb40909f58334c95890c7a"
            }
          },
          "metadata": {}
        },
        {
          "output_type": "stream",
          "name": "stdout",
          "text": [
            "saving model with acc 0.730\n[ Train | 119/200 ] loss = 0.52888, acc = 0.83594\t[ Valid\t| 119/200 ]  loss = 0.90110, acc = 0.73021\n"
          ]
        },
        {
          "output_type": "display_data",
          "data": {
            "text/plain": "Train:   0%|          | 0/25 [00:00<?, ?it/s]",
            "application/vnd.jupyter.widget-view+json": {
              "version_major": 2,
              "version_minor": 0,
              "model_id": "9e47b50593eb401185afe142bb60e58a"
            }
          },
          "metadata": {}
        },
        {
          "output_type": "display_data",
          "data": {
            "text/plain": "Valid:   0%|          | 0/6 [00:00<?, ?it/s]",
            "application/vnd.jupyter.widget-view+json": {
              "version_major": 2,
              "version_minor": 0,
              "model_id": "202c28e03fee41f9bdeff20b17abae99"
            }
          },
          "metadata": {}
        },
        {
          "output_type": "stream",
          "name": "stdout",
          "text": [
            "[ Train | 120/200 ] loss = 0.51212, acc = 0.83219\t[ Valid\t| 120/200 ]  loss = 0.91383, acc = 0.72266\n"
          ]
        },
        {
          "output_type": "display_data",
          "data": {
            "text/plain": "Train:   0%|          | 0/25 [00:00<?, ?it/s]",
            "application/vnd.jupyter.widget-view+json": {
              "version_major": 2,
              "version_minor": 0,
              "model_id": "20f02b81b89642c1bf0d89a193960983"
            }
          },
          "metadata": {}
        },
        {
          "output_type": "display_data",
          "data": {
            "text/plain": "Valid:   0%|          | 0/6 [00:00<?, ?it/s]",
            "application/vnd.jupyter.widget-view+json": {
              "version_major": 2,
              "version_minor": 0,
              "model_id": "4e67c7e17ede409f88985a9cac52e676"
            }
          },
          "metadata": {}
        },
        {
          "output_type": "stream",
          "name": "stdout",
          "text": [
            "[ Train | 121/200 ] loss = 0.47068, acc = 0.85125\t[ Valid\t| 121/200 ]  loss = 1.13240, acc = 0.68411\n"
          ]
        },
        {
          "output_type": "display_data",
          "data": {
            "text/plain": "Train:   0%|          | 0/25 [00:00<?, ?it/s]",
            "application/vnd.jupyter.widget-view+json": {
              "version_major": 2,
              "version_minor": 0,
              "model_id": "10da75ca82274993b6e4782dfecd08e5"
            }
          },
          "metadata": {}
        },
        {
          "output_type": "display_data",
          "data": {
            "text/plain": "Valid:   0%|          | 0/6 [00:00<?, ?it/s]",
            "application/vnd.jupyter.widget-view+json": {
              "version_major": 2,
              "version_minor": 0,
              "model_id": "fc2274b5b38d4d92a6a39c20712cb3c4"
            }
          },
          "metadata": {}
        },
        {
          "output_type": "stream",
          "name": "stdout",
          "text": [
            "[ Train | 122/200 ] loss = 0.52604, acc = 0.82094\t[ Valid\t| 122/200 ]  loss = 1.21107, acc = 0.65026\n"
          ]
        },
        {
          "output_type": "display_data",
          "data": {
            "text/plain": "Train:   0%|          | 0/25 [00:00<?, ?it/s]",
            "application/vnd.jupyter.widget-view+json": {
              "version_major": 2,
              "version_minor": 0,
              "model_id": "0949ad2947714c7580234c1717e7906b"
            }
          },
          "metadata": {}
        },
        {
          "output_type": "display_data",
          "data": {
            "text/plain": "Valid:   0%|          | 0/6 [00:00<?, ?it/s]",
            "application/vnd.jupyter.widget-view+json": {
              "version_major": 2,
              "version_minor": 0,
              "model_id": "17f726d42a1e4b40863723f717b756d8"
            }
          },
          "metadata": {}
        },
        {
          "output_type": "stream",
          "name": "stdout",
          "text": [
            "[ Train | 123/200 ] loss = 0.54366, acc = 0.82406\t[ Valid\t| 123/200 ]  loss = 0.95158, acc = 0.71016\n"
          ]
        },
        {
          "output_type": "display_data",
          "data": {
            "text/plain": "Train:   0%|          | 0/25 [00:00<?, ?it/s]",
            "application/vnd.jupyter.widget-view+json": {
              "version_major": 2,
              "version_minor": 0,
              "model_id": "62998a801c57442f8c8f171672da6fd9"
            }
          },
          "metadata": {}
        },
        {
          "output_type": "display_data",
          "data": {
            "text/plain": "Valid:   0%|          | 0/6 [00:00<?, ?it/s]",
            "application/vnd.jupyter.widget-view+json": {
              "version_major": 2,
              "version_minor": 0,
              "model_id": "869201212aae41ae9c5e1fa238ad0c8a"
            }
          },
          "metadata": {}
        },
        {
          "output_type": "stream",
          "name": "stdout",
          "text": [
            "[ Train | 124/200 ] loss = 0.49926, acc = 0.84000\t[ Valid\t| 124/200 ]  loss = 0.96508, acc = 0.72526\n"
          ]
        },
        {
          "output_type": "display_data",
          "data": {
            "text/plain": "Train:   0%|          | 0/25 [00:00<?, ?it/s]",
            "application/vnd.jupyter.widget-view+json": {
              "version_major": 2,
              "version_minor": 0,
              "model_id": "9843d512b8414697815f6f035cd5e786"
            }
          },
          "metadata": {}
        },
        {
          "output_type": "display_data",
          "data": {
            "text/plain": "Valid:   0%|          | 0/6 [00:00<?, ?it/s]",
            "application/vnd.jupyter.widget-view+json": {
              "version_major": 2,
              "version_minor": 0,
              "model_id": "14b7c5af4d6b427b9c9c0c0f6f41e73d"
            }
          },
          "metadata": {}
        },
        {
          "output_type": "stream",
          "name": "stdout",
          "text": [
            "saving model with acc 0.734\n[ Train | 125/200 ] loss = 0.49124, acc = 0.83969\t[ Valid\t| 125/200 ]  loss = 0.94052, acc = 0.73359\n"
          ]
        },
        {
          "output_type": "display_data",
          "data": {
            "text/plain": "Train:   0%|          | 0/25 [00:00<?, ?it/s]",
            "application/vnd.jupyter.widget-view+json": {
              "version_major": 2,
              "version_minor": 0,
              "model_id": "0d32ddeb816d43eb8a1e5e40ad9deafa"
            }
          },
          "metadata": {}
        },
        {
          "output_type": "display_data",
          "data": {
            "text/plain": "Valid:   0%|          | 0/6 [00:00<?, ?it/s]",
            "application/vnd.jupyter.widget-view+json": {
              "version_major": 2,
              "version_minor": 0,
              "model_id": "0f0ed0e23053412b9c6b3ea486a3ba4b"
            }
          },
          "metadata": {}
        },
        {
          "output_type": "stream",
          "name": "stdout",
          "text": [
            "[ Train | 126/200 ] loss = 0.49403, acc = 0.83750\t[ Valid\t| 126/200 ]  loss = 1.21364, acc = 0.65703\n"
          ]
        },
        {
          "output_type": "display_data",
          "data": {
            "text/plain": "Train:   0%|          | 0/25 [00:00<?, ?it/s]",
            "application/vnd.jupyter.widget-view+json": {
              "version_major": 2,
              "version_minor": 0,
              "model_id": "511ecf8533cb45bfa046f2c3cedbaf61"
            }
          },
          "metadata": {}
        },
        {
          "output_type": "display_data",
          "data": {
            "text/plain": "Valid:   0%|          | 0/6 [00:00<?, ?it/s]",
            "application/vnd.jupyter.widget-view+json": {
              "version_major": 2,
              "version_minor": 0,
              "model_id": "c3d4223324584315833ecaee2cf72494"
            }
          },
          "metadata": {}
        },
        {
          "output_type": "stream",
          "name": "stdout",
          "text": [
            "[ Train | 127/200 ] loss = 0.52901, acc = 0.83562\t[ Valid\t| 127/200 ]  loss = 1.08979, acc = 0.69609\n"
          ]
        },
        {
          "output_type": "display_data",
          "data": {
            "text/plain": "Train:   0%|          | 0/25 [00:00<?, ?it/s]",
            "application/vnd.jupyter.widget-view+json": {
              "version_major": 2,
              "version_minor": 0,
              "model_id": "1aa33f0d83ff48e98205f6201d5ff95e"
            }
          },
          "metadata": {}
        },
        {
          "output_type": "display_data",
          "data": {
            "text/plain": "Valid:   0%|          | 0/6 [00:00<?, ?it/s]",
            "application/vnd.jupyter.widget-view+json": {
              "version_major": 2,
              "version_minor": 0,
              "model_id": "af1683c53b7a4a9e8ef74788ebde662e"
            }
          },
          "metadata": {}
        },
        {
          "output_type": "stream",
          "name": "stdout",
          "text": [
            "[ Train | 128/200 ] loss = 0.50102, acc = 0.84031\t[ Valid\t| 128/200 ]  loss = 1.10171, acc = 0.68151\n"
          ]
        },
        {
          "output_type": "display_data",
          "data": {
            "text/plain": "Train:   0%|          | 0/25 [00:00<?, ?it/s]",
            "application/vnd.jupyter.widget-view+json": {
              "version_major": 2,
              "version_minor": 0,
              "model_id": "42874cdc6ddb4af0ba96a2f342ee369c"
            }
          },
          "metadata": {}
        },
        {
          "output_type": "display_data",
          "data": {
            "text/plain": "Valid:   0%|          | 0/6 [00:00<?, ?it/s]",
            "application/vnd.jupyter.widget-view+json": {
              "version_major": 2,
              "version_minor": 0,
              "model_id": "c8572a3c308b42239edc3c6197820f3e"
            }
          },
          "metadata": {}
        },
        {
          "output_type": "stream",
          "name": "stdout",
          "text": [
            "[ Train | 129/200 ] loss = 0.51352, acc = 0.84187\t[ Valid\t| 129/200 ]  loss = 1.26348, acc = 0.66615\n"
          ]
        },
        {
          "output_type": "display_data",
          "data": {
            "text/plain": "Train:   0%|          | 0/25 [00:00<?, ?it/s]",
            "application/vnd.jupyter.widget-view+json": {
              "version_major": 2,
              "version_minor": 0,
              "model_id": "03dc605aa0c749bebfd0513e922965db"
            }
          },
          "metadata": {}
        },
        {
          "output_type": "display_data",
          "data": {
            "text/plain": "Valid:   0%|          | 0/6 [00:00<?, ?it/s]",
            "application/vnd.jupyter.widget-view+json": {
              "version_major": 2,
              "version_minor": 0,
              "model_id": "f6349e27064f4f2a9685b3b7103b8dea"
            }
          },
          "metadata": {}
        },
        {
          "output_type": "stream",
          "name": "stdout",
          "text": [
            "[ Train | 130/200 ] loss = 0.43577, acc = 0.85469\t[ Valid\t| 130/200 ]  loss = 1.11097, acc = 0.66016\n"
          ]
        },
        {
          "output_type": "display_data",
          "data": {
            "text/plain": "Train:   0%|          | 0/25 [00:00<?, ?it/s]",
            "application/vnd.jupyter.widget-view+json": {
              "version_major": 2,
              "version_minor": 0,
              "model_id": "0c72b8afc98348a3920f091c08de4d44"
            }
          },
          "metadata": {}
        },
        {
          "output_type": "display_data",
          "data": {
            "text/plain": "Valid:   0%|          | 0/6 [00:00<?, ?it/s]",
            "application/vnd.jupyter.widget-view+json": {
              "version_major": 2,
              "version_minor": 0,
              "model_id": "72f0394887464d20a287a1d6a6d6f353"
            }
          },
          "metadata": {}
        },
        {
          "output_type": "stream",
          "name": "stdout",
          "text": [
            "[ Train | 131/200 ] loss = 0.48244, acc = 0.83687\t[ Valid\t| 131/200 ]  loss = 1.16585, acc = 0.66979\n"
          ]
        },
        {
          "output_type": "display_data",
          "data": {
            "text/plain": "Train:   0%|          | 0/25 [00:00<?, ?it/s]",
            "application/vnd.jupyter.widget-view+json": {
              "version_major": 2,
              "version_minor": 0,
              "model_id": "3239aab6321847e9b490e75513a8f4bf"
            }
          },
          "metadata": {}
        },
        {
          "output_type": "display_data",
          "data": {
            "text/plain": "Valid:   0%|          | 0/6 [00:00<?, ?it/s]",
            "application/vnd.jupyter.widget-view+json": {
              "version_major": 2,
              "version_minor": 0,
              "model_id": "6338faf79f2c40c2baa65a1350beaec7"
            }
          },
          "metadata": {}
        },
        {
          "output_type": "stream",
          "name": "stdout",
          "text": [
            "saving model with acc 0.735\n[ Train | 132/200 ] loss = 0.46509, acc = 0.85250\t[ Valid\t| 132/200 ]  loss = 0.95806, acc = 0.73490\n"
          ]
        },
        {
          "output_type": "display_data",
          "data": {
            "text/plain": "Train:   0%|          | 0/25 [00:00<?, ?it/s]",
            "application/vnd.jupyter.widget-view+json": {
              "version_major": 2,
              "version_minor": 0,
              "model_id": "155c9cc528514720ad4dbe8d21cf928d"
            }
          },
          "metadata": {}
        },
        {
          "output_type": "display_data",
          "data": {
            "text/plain": "Valid:   0%|          | 0/6 [00:00<?, ?it/s]",
            "application/vnd.jupyter.widget-view+json": {
              "version_major": 2,
              "version_minor": 0,
              "model_id": "88d1707caf37454aa2db162c503f6aea"
            }
          },
          "metadata": {}
        },
        {
          "output_type": "stream",
          "name": "stdout",
          "text": [
            "[ Train | 133/200 ] loss = 0.47926, acc = 0.85031\t[ Valid\t| 133/200 ]  loss = 1.14625, acc = 0.69922\n"
          ]
        },
        {
          "output_type": "display_data",
          "data": {
            "text/plain": "Train:   0%|          | 0/25 [00:00<?, ?it/s]",
            "application/vnd.jupyter.widget-view+json": {
              "version_major": 2,
              "version_minor": 0,
              "model_id": "55d2e99da22241c8a53edbf687d429e5"
            }
          },
          "metadata": {}
        },
        {
          "output_type": "display_data",
          "data": {
            "text/plain": "Valid:   0%|          | 0/6 [00:00<?, ?it/s]",
            "application/vnd.jupyter.widget-view+json": {
              "version_major": 2,
              "version_minor": 0,
              "model_id": "8d4deedb67ec4b2cb80ff72d9b0be938"
            }
          },
          "metadata": {}
        },
        {
          "output_type": "stream",
          "name": "stdout",
          "text": [
            "[ Train | 134/200 ] loss = 0.45032, acc = 0.85125\t[ Valid\t| 134/200 ]  loss = 0.93489, acc = 0.69688\n"
          ]
        },
        {
          "output_type": "display_data",
          "data": {
            "text/plain": "Train:   0%|          | 0/25 [00:00<?, ?it/s]",
            "application/vnd.jupyter.widget-view+json": {
              "version_major": 2,
              "version_minor": 0,
              "model_id": "7495e95f812f4dc7a0ac014b6e1de3be"
            }
          },
          "metadata": {}
        },
        {
          "output_type": "display_data",
          "data": {
            "text/plain": "Valid:   0%|          | 0/6 [00:00<?, ?it/s]",
            "application/vnd.jupyter.widget-view+json": {
              "version_major": 2,
              "version_minor": 0,
              "model_id": "9ba392021d974258b1378652125006fd"
            }
          },
          "metadata": {}
        },
        {
          "output_type": "stream",
          "name": "stdout",
          "text": [
            "[ Train | 135/200 ] loss = 0.47345, acc = 0.84719\t[ Valid\t| 135/200 ]  loss = 1.16689, acc = 0.67526\n"
          ]
        },
        {
          "output_type": "display_data",
          "data": {
            "text/plain": "Train:   0%|          | 0/25 [00:00<?, ?it/s]",
            "application/vnd.jupyter.widget-view+json": {
              "version_major": 2,
              "version_minor": 0,
              "model_id": "34f0b6294fdb4ce8b21f96c3604116f4"
            }
          },
          "metadata": {}
        },
        {
          "output_type": "display_data",
          "data": {
            "text/plain": "Valid:   0%|          | 0/6 [00:00<?, ?it/s]",
            "application/vnd.jupyter.widget-view+json": {
              "version_major": 2,
              "version_minor": 0,
              "model_id": "b3dcaed19d854acea9c89876ea0c7e17"
            }
          },
          "metadata": {}
        },
        {
          "output_type": "stream",
          "name": "stdout",
          "text": [
            "[ Train | 136/200 ] loss = 0.45733, acc = 0.85531\t[ Valid\t| 136/200 ]  loss = 1.18278, acc = 0.65521\n"
          ]
        },
        {
          "output_type": "display_data",
          "data": {
            "text/plain": "Train:   0%|          | 0/25 [00:00<?, ?it/s]",
            "application/vnd.jupyter.widget-view+json": {
              "version_major": 2,
              "version_minor": 0,
              "model_id": "c45e754cd95a4e9495e9651039d434b9"
            }
          },
          "metadata": {}
        },
        {
          "output_type": "display_data",
          "data": {
            "text/plain": "Valid:   0%|          | 0/6 [00:00<?, ?it/s]",
            "application/vnd.jupyter.widget-view+json": {
              "version_major": 2,
              "version_minor": 0,
              "model_id": "9039296cc16348cca476b17d5fe1c769"
            }
          },
          "metadata": {}
        },
        {
          "output_type": "stream",
          "name": "stdout",
          "text": [
            "[ Train | 137/200 ] loss = 0.42947, acc = 0.86437\t[ Valid\t| 137/200 ]  loss = 1.09067, acc = 0.68672\n"
          ]
        },
        {
          "output_type": "display_data",
          "data": {
            "text/plain": "Train:   0%|          | 0/25 [00:00<?, ?it/s]",
            "application/vnd.jupyter.widget-view+json": {
              "version_major": 2,
              "version_minor": 0,
              "model_id": "11ffbfd44fbe40f0b4b64ceb0b025b2e"
            }
          },
          "metadata": {}
        },
        {
          "output_type": "display_data",
          "data": {
            "text/plain": "Valid:   0%|          | 0/6 [00:00<?, ?it/s]",
            "application/vnd.jupyter.widget-view+json": {
              "version_major": 2,
              "version_minor": 0,
              "model_id": "93a3c4697a674543878d1a98b2f961df"
            }
          },
          "metadata": {}
        },
        {
          "output_type": "stream",
          "name": "stdout",
          "text": [
            "[ Train | 138/200 ] loss = 0.43271, acc = 0.85250\t[ Valid\t| 138/200 ]  loss = 1.02806, acc = 0.70000\n"
          ]
        },
        {
          "output_type": "display_data",
          "data": {
            "text/plain": "Train:   0%|          | 0/25 [00:00<?, ?it/s]",
            "application/vnd.jupyter.widget-view+json": {
              "version_major": 2,
              "version_minor": 0,
              "model_id": "75a6ba6745094c29814d92e509e7a495"
            }
          },
          "metadata": {}
        },
        {
          "output_type": "display_data",
          "data": {
            "text/plain": "Valid:   0%|          | 0/6 [00:00<?, ?it/s]",
            "application/vnd.jupyter.widget-view+json": {
              "version_major": 2,
              "version_minor": 0,
              "model_id": "d83bf8f404cc4cd1a885a9b515604783"
            }
          },
          "metadata": {}
        },
        {
          "output_type": "stream",
          "name": "stdout",
          "text": [
            "[ Train | 139/200 ] loss = 0.45496, acc = 0.84906\t[ Valid\t| 139/200 ]  loss = 0.98271, acc = 0.72109\n"
          ]
        },
        {
          "output_type": "display_data",
          "data": {
            "text/plain": "Train:   0%|          | 0/25 [00:00<?, ?it/s]",
            "application/vnd.jupyter.widget-view+json": {
              "version_major": 2,
              "version_minor": 0,
              "model_id": "bf1e862c013a4eb6b617c227cb821fa3"
            }
          },
          "metadata": {}
        },
        {
          "output_type": "display_data",
          "data": {
            "text/plain": "Valid:   0%|          | 0/6 [00:00<?, ?it/s]",
            "application/vnd.jupyter.widget-view+json": {
              "version_major": 2,
              "version_minor": 0,
              "model_id": "e09945b35fba42e481d960caeb79f5a3"
            }
          },
          "metadata": {}
        },
        {
          "output_type": "stream",
          "name": "stdout",
          "text": [
            "[ Train | 140/200 ] loss = 0.45249, acc = 0.85000\t[ Valid\t| 140/200 ]  loss = 1.27861, acc = 0.66484\n"
          ]
        },
        {
          "output_type": "display_data",
          "data": {
            "text/plain": "Train:   0%|          | 0/25 [00:00<?, ?it/s]",
            "application/vnd.jupyter.widget-view+json": {
              "version_major": 2,
              "version_minor": 0,
              "model_id": "3100c1c4294242d592c10bc96e194b5b"
            }
          },
          "metadata": {}
        },
        {
          "output_type": "display_data",
          "data": {
            "text/plain": "Valid:   0%|          | 0/6 [00:00<?, ?it/s]",
            "application/vnd.jupyter.widget-view+json": {
              "version_major": 2,
              "version_minor": 0,
              "model_id": "6ae3c84b966d4da0a23a5c1a659df9ee"
            }
          },
          "metadata": {}
        },
        {
          "output_type": "stream",
          "name": "stdout",
          "text": [
            "[ Train | 141/200 ] loss = 0.38303, acc = 0.87594\t[ Valid\t| 141/200 ]  loss = 1.22535, acc = 0.68307\nEpoch   141: reducing learning rate of group 0 to 1.0486e-04.\n"
          ]
        },
        {
          "output_type": "display_data",
          "data": {
            "text/plain": "Train:   0%|          | 0/25 [00:00<?, ?it/s]",
            "application/vnd.jupyter.widget-view+json": {
              "version_major": 2,
              "version_minor": 0,
              "model_id": "ded2c7959d7c474097e07bcb4c709005"
            }
          },
          "metadata": {}
        },
        {
          "output_type": "display_data",
          "data": {
            "text/plain": "Valid:   0%|          | 0/6 [00:00<?, ?it/s]",
            "application/vnd.jupyter.widget-view+json": {
              "version_major": 2,
              "version_minor": 0,
              "model_id": "4467c49608354cd699a5b4e17ea3b5eb"
            }
          },
          "metadata": {}
        },
        {
          "output_type": "stream",
          "name": "stdout",
          "text": [
            "[ Train | 142/200 ] loss = 0.39445, acc = 0.87531\t[ Valid\t| 142/200 ]  loss = 1.12873, acc = 0.68099\n"
          ]
        },
        {
          "output_type": "display_data",
          "data": {
            "text/plain": "Train:   0%|          | 0/25 [00:00<?, ?it/s]",
            "application/vnd.jupyter.widget-view+json": {
              "version_major": 2,
              "version_minor": 0,
              "model_id": "85f2c3c1058e464ba7f80c7184c13810"
            }
          },
          "metadata": {}
        },
        {
          "output_type": "display_data",
          "data": {
            "text/plain": "Valid:   0%|          | 0/6 [00:00<?, ?it/s]",
            "application/vnd.jupyter.widget-view+json": {
              "version_major": 2,
              "version_minor": 0,
              "model_id": "bd36050a5bbb43058a86d4f16dbc654a"
            }
          },
          "metadata": {}
        },
        {
          "output_type": "stream",
          "name": "stdout",
          "text": [
            "[ Train | 143/200 ] loss = 0.39812, acc = 0.87125\t[ Valid\t| 143/200 ]  loss = 1.09736, acc = 0.67708\n"
          ]
        },
        {
          "output_type": "display_data",
          "data": {
            "text/plain": "Train:   0%|          | 0/25 [00:00<?, ?it/s]",
            "application/vnd.jupyter.widget-view+json": {
              "version_major": 2,
              "version_minor": 0,
              "model_id": "8521b4268dec4203ac15d620c49c14f5"
            }
          },
          "metadata": {}
        },
        {
          "output_type": "display_data",
          "data": {
            "text/plain": "Valid:   0%|          | 0/6 [00:00<?, ?it/s]",
            "application/vnd.jupyter.widget-view+json": {
              "version_major": 2,
              "version_minor": 0,
              "model_id": "afa82946b94d49cba25bc067e89f72b8"
            }
          },
          "metadata": {}
        },
        {
          "output_type": "stream",
          "name": "stdout",
          "text": [
            "[ Train | 144/200 ] loss = 0.37008, acc = 0.88781\t[ Valid\t| 144/200 ]  loss = 1.14098, acc = 0.68359\n"
          ]
        },
        {
          "output_type": "display_data",
          "data": {
            "text/plain": "Train:   0%|          | 0/25 [00:00<?, ?it/s]",
            "application/vnd.jupyter.widget-view+json": {
              "version_major": 2,
              "version_minor": 0,
              "model_id": "56477a52c6ef4f65ad54393a8f293fac"
            }
          },
          "metadata": {}
        },
        {
          "output_type": "display_data",
          "data": {
            "text/plain": "Valid:   0%|          | 0/6 [00:00<?, ?it/s]",
            "application/vnd.jupyter.widget-view+json": {
              "version_major": 2,
              "version_minor": 0,
              "model_id": "73bcecc743ef4445a6cbad780672cc75"
            }
          },
          "metadata": {}
        },
        {
          "output_type": "stream",
          "name": "stdout",
          "text": [
            "[ Train | 145/200 ] loss = 0.36515, acc = 0.88750\t[ Valid\t| 145/200 ]  loss = 1.26768, acc = 0.65208\n"
          ]
        },
        {
          "output_type": "display_data",
          "data": {
            "text/plain": "Train:   0%|          | 0/25 [00:00<?, ?it/s]",
            "application/vnd.jupyter.widget-view+json": {
              "version_major": 2,
              "version_minor": 0,
              "model_id": "7bf66bc3494e4da5b51f11eaca946635"
            }
          },
          "metadata": {}
        },
        {
          "output_type": "display_data",
          "data": {
            "text/plain": "Valid:   0%|          | 0/6 [00:00<?, ?it/s]",
            "application/vnd.jupyter.widget-view+json": {
              "version_major": 2,
              "version_minor": 0,
              "model_id": "5176533ddd6f44749f7764d15bea5ec1"
            }
          },
          "metadata": {}
        },
        {
          "output_type": "stream",
          "name": "stdout",
          "text": [
            "[ Train | 146/200 ] loss = 0.36404, acc = 0.88000\t[ Valid\t| 146/200 ]  loss = 0.99142, acc = 0.71276\n"
          ]
        },
        {
          "output_type": "display_data",
          "data": {
            "text/plain": "Train:   0%|          | 0/25 [00:00<?, ?it/s]",
            "application/vnd.jupyter.widget-view+json": {
              "version_major": 2,
              "version_minor": 0,
              "model_id": "9ac567a1bb7244f591a22f4372bf94c8"
            }
          },
          "metadata": {}
        },
        {
          "output_type": "display_data",
          "data": {
            "text/plain": "Valid:   0%|          | 0/6 [00:00<?, ?it/s]",
            "application/vnd.jupyter.widget-view+json": {
              "version_major": 2,
              "version_minor": 0,
              "model_id": "d6640de7b37d440197e601635bf29231"
            }
          },
          "metadata": {}
        },
        {
          "output_type": "stream",
          "name": "stdout",
          "text": [
            "[ Train | 147/200 ] loss = 0.35925, acc = 0.88781\t[ Valid\t| 147/200 ]  loss = 1.02094, acc = 0.68516\n"
          ]
        },
        {
          "output_type": "display_data",
          "data": {
            "text/plain": "Train:   0%|          | 0/25 [00:00<?, ?it/s]",
            "application/vnd.jupyter.widget-view+json": {
              "version_major": 2,
              "version_minor": 0,
              "model_id": "89269df5359f4478bd0114dbe78c7903"
            }
          },
          "metadata": {}
        },
        {
          "output_type": "display_data",
          "data": {
            "text/plain": "Valid:   0%|          | 0/6 [00:00<?, ?it/s]",
            "application/vnd.jupyter.widget-view+json": {
              "version_major": 2,
              "version_minor": 0,
              "model_id": "3040841bf61b4797b0e8072d5f568d52"
            }
          },
          "metadata": {}
        },
        {
          "output_type": "stream",
          "name": "stdout",
          "text": [
            "[ Train | 148/200 ] loss = 0.39238, acc = 0.87406\t[ Valid\t| 148/200 ]  loss = 1.06571, acc = 0.70156\n"
          ]
        },
        {
          "output_type": "display_data",
          "data": {
            "text/plain": "Train:   0%|          | 0/25 [00:00<?, ?it/s]",
            "application/vnd.jupyter.widget-view+json": {
              "version_major": 2,
              "version_minor": 0,
              "model_id": "3310591a9856453592cb019733d9bb17"
            }
          },
          "metadata": {}
        },
        {
          "output_type": "display_data",
          "data": {
            "text/plain": "Valid:   0%|          | 0/6 [00:00<?, ?it/s]",
            "application/vnd.jupyter.widget-view+json": {
              "version_major": 2,
              "version_minor": 0,
              "model_id": "b98588c767284fb181de6a42f8eceb3c"
            }
          },
          "metadata": {}
        },
        {
          "output_type": "stream",
          "name": "stdout",
          "text": [
            "[ Train | 149/200 ] loss = 0.38131, acc = 0.87656\t[ Valid\t| 149/200 ]  loss = 1.06757, acc = 0.70573\n"
          ]
        },
        {
          "output_type": "display_data",
          "data": {
            "text/plain": "Train:   0%|          | 0/25 [00:00<?, ?it/s]",
            "application/vnd.jupyter.widget-view+json": {
              "version_major": 2,
              "version_minor": 0,
              "model_id": "9c34b85b75394884aeab7a1f5b064f3e"
            }
          },
          "metadata": {}
        },
        {
          "output_type": "display_data",
          "data": {
            "text/plain": "Valid:   0%|          | 0/6 [00:00<?, ?it/s]",
            "application/vnd.jupyter.widget-view+json": {
              "version_major": 2,
              "version_minor": 0,
              "model_id": "c87d34f4820246eabf1e9ab42255d1c8"
            }
          },
          "metadata": {}
        },
        {
          "output_type": "stream",
          "name": "stdout",
          "text": [
            "[ Train | 150/200 ] loss = 0.37716, acc = 0.88500\t[ Valid\t| 150/200 ]  loss = 1.09171, acc = 0.67630\nEpoch   150: reducing learning rate of group 0 to 8.3886e-05.\n"
          ]
        },
        {
          "output_type": "display_data",
          "data": {
            "text/plain": "Train:   0%|          | 0/25 [00:00<?, ?it/s]",
            "application/vnd.jupyter.widget-view+json": {
              "version_major": 2,
              "version_minor": 0,
              "model_id": "083e6ce16adf4a8384ef8c84fe3a5633"
            }
          },
          "metadata": {}
        },
        {
          "output_type": "display_data",
          "data": {
            "text/plain": "Valid:   0%|          | 0/6 [00:00<?, ?it/s]",
            "application/vnd.jupyter.widget-view+json": {
              "version_major": 2,
              "version_minor": 0,
              "model_id": "2720e7b5cc334b77aa25e2aa696ac1c0"
            }
          },
          "metadata": {}
        },
        {
          "output_type": "stream",
          "name": "stdout",
          "text": [
            "[ Train | 151/200 ] loss = 0.32058, acc = 0.90219\t[ Valid\t| 151/200 ]  loss = 1.07469, acc = 0.69870\n"
          ]
        },
        {
          "output_type": "display_data",
          "data": {
            "text/plain": "Train:   0%|          | 0/25 [00:00<?, ?it/s]",
            "application/vnd.jupyter.widget-view+json": {
              "version_major": 2,
              "version_minor": 0,
              "model_id": "2636ae88886046e695f2829d44c08ac8"
            }
          },
          "metadata": {}
        },
        {
          "output_type": "display_data",
          "data": {
            "text/plain": "Valid:   0%|          | 0/6 [00:00<?, ?it/s]",
            "application/vnd.jupyter.widget-view+json": {
              "version_major": 2,
              "version_minor": 0,
              "model_id": "d78ed7d9e8164a439a1e70682dce81b9"
            }
          },
          "metadata": {}
        },
        {
          "output_type": "stream",
          "name": "stdout",
          "text": [
            "[ Train | 152/200 ] loss = 0.33116, acc = 0.89594\t[ Valid\t| 152/200 ]  loss = 1.05432, acc = 0.68411\n"
          ]
        },
        {
          "output_type": "display_data",
          "data": {
            "text/plain": "Train:   0%|          | 0/25 [00:00<?, ?it/s]",
            "application/vnd.jupyter.widget-view+json": {
              "version_major": 2,
              "version_minor": 0,
              "model_id": "80172162bb15458fadb36df3b11fda14"
            }
          },
          "metadata": {}
        },
        {
          "output_type": "display_data",
          "data": {
            "text/plain": "Valid:   0%|          | 0/6 [00:00<?, ?it/s]",
            "application/vnd.jupyter.widget-view+json": {
              "version_major": 2,
              "version_minor": 0,
              "model_id": "3272bf25523b4ec2adfeda1b30b2cade"
            }
          },
          "metadata": {}
        },
        {
          "output_type": "stream",
          "name": "stdout",
          "text": [
            "[ Train | 153/200 ] loss = 0.29133, acc = 0.90531\t[ Valid\t| 153/200 ]  loss = 1.07289, acc = 0.72005\n"
          ]
        },
        {
          "output_type": "display_data",
          "data": {
            "text/plain": "Train:   0%|          | 0/25 [00:00<?, ?it/s]",
            "application/vnd.jupyter.widget-view+json": {
              "version_major": 2,
              "version_minor": 0,
              "model_id": "1d6a2dcc77a74ca999806ef697a319cd"
            }
          },
          "metadata": {}
        },
        {
          "output_type": "display_data",
          "data": {
            "text/plain": "Valid:   0%|          | 0/6 [00:00<?, ?it/s]",
            "application/vnd.jupyter.widget-view+json": {
              "version_major": 2,
              "version_minor": 0,
              "model_id": "fad88b0c2bb7420ab679e80fa7bce9ad"
            }
          },
          "metadata": {}
        },
        {
          "output_type": "stream",
          "name": "stdout",
          "text": [
            "[ Train | 154/200 ] loss = 0.34309, acc = 0.89219\t[ Valid\t| 154/200 ]  loss = 1.09035, acc = 0.69401\n"
          ]
        },
        {
          "output_type": "display_data",
          "data": {
            "text/plain": "Train:   0%|          | 0/25 [00:00<?, ?it/s]",
            "application/vnd.jupyter.widget-view+json": {
              "version_major": 2,
              "version_minor": 0,
              "model_id": "30defe56644e4d8988e7f33386b8a3a2"
            }
          },
          "metadata": {}
        },
        {
          "output_type": "display_data",
          "data": {
            "text/plain": "Valid:   0%|          | 0/6 [00:00<?, ?it/s]",
            "application/vnd.jupyter.widget-view+json": {
              "version_major": 2,
              "version_minor": 0,
              "model_id": "d132570cebe340d68cfd3514e821ac65"
            }
          },
          "metadata": {}
        },
        {
          "output_type": "stream",
          "name": "stdout",
          "text": [
            "[ Train | 155/200 ] loss = 0.33986, acc = 0.89344\t[ Valid\t| 155/200 ]  loss = 1.00168, acc = 0.69844\n"
          ]
        },
        {
          "output_type": "display_data",
          "data": {
            "text/plain": "Train:   0%|          | 0/25 [00:00<?, ?it/s]",
            "application/vnd.jupyter.widget-view+json": {
              "version_major": 2,
              "version_minor": 0,
              "model_id": "fa21210fa7be44aca4952aceab08ebe6"
            }
          },
          "metadata": {}
        },
        {
          "output_type": "display_data",
          "data": {
            "text/plain": "Valid:   0%|          | 0/6 [00:00<?, ?it/s]",
            "application/vnd.jupyter.widget-view+json": {
              "version_major": 2,
              "version_minor": 0,
              "model_id": "20d6409a524d4dcaac91d4b9925b23a7"
            }
          },
          "metadata": {}
        },
        {
          "output_type": "stream",
          "name": "stdout",
          "text": [
            "saving model with acc 0.740\n[ Train | 156/200 ] loss = 0.31507, acc = 0.89937\t[ Valid\t| 156/200 ]  loss = 0.97289, acc = 0.73958\n"
          ]
        },
        {
          "output_type": "display_data",
          "data": {
            "text/plain": "Train:   0%|          | 0/25 [00:00<?, ?it/s]",
            "application/vnd.jupyter.widget-view+json": {
              "version_major": 2,
              "version_minor": 0,
              "model_id": "1662e3faf2554b438a385e902f62a818"
            }
          },
          "metadata": {}
        },
        {
          "output_type": "display_data",
          "data": {
            "text/plain": "Valid:   0%|          | 0/6 [00:00<?, ?it/s]",
            "application/vnd.jupyter.widget-view+json": {
              "version_major": 2,
              "version_minor": 0,
              "model_id": "dd26ecfb48ba47ecb099b00845822e1b"
            }
          },
          "metadata": {}
        },
        {
          "output_type": "stream",
          "name": "stdout",
          "text": [
            "[ Train | 157/200 ] loss = 0.29541, acc = 0.91469\t[ Valid\t| 157/200 ]  loss = 1.01911, acc = 0.72266\n"
          ]
        },
        {
          "output_type": "display_data",
          "data": {
            "text/plain": "Train:   0%|          | 0/25 [00:00<?, ?it/s]",
            "application/vnd.jupyter.widget-view+json": {
              "version_major": 2,
              "version_minor": 0,
              "model_id": "3fd740c41a0e45b99682e4433454e444"
            }
          },
          "metadata": {}
        },
        {
          "output_type": "display_data",
          "data": {
            "text/plain": "Valid:   0%|          | 0/6 [00:00<?, ?it/s]",
            "application/vnd.jupyter.widget-view+json": {
              "version_major": 2,
              "version_minor": 0,
              "model_id": "4ee9dc9e8636406ab859a5e57a86f66b"
            }
          },
          "metadata": {}
        },
        {
          "output_type": "stream",
          "name": "stdout",
          "text": [
            "[ Train | 158/200 ] loss = 0.27873, acc = 0.91781\t[ Valid\t| 158/200 ]  loss = 1.05813, acc = 0.69323\n"
          ]
        },
        {
          "output_type": "display_data",
          "data": {
            "text/plain": "Train:   0%|          | 0/25 [00:00<?, ?it/s]",
            "application/vnd.jupyter.widget-view+json": {
              "version_major": 2,
              "version_minor": 0,
              "model_id": "cacbe72b6a6249e3bde899375759a29a"
            }
          },
          "metadata": {}
        },
        {
          "output_type": "display_data",
          "data": {
            "text/plain": "Valid:   0%|          | 0/6 [00:00<?, ?it/s]",
            "application/vnd.jupyter.widget-view+json": {
              "version_major": 2,
              "version_minor": 0,
              "model_id": "ddb5a59627c743adb57746f40f1978f7"
            }
          },
          "metadata": {}
        },
        {
          "output_type": "stream",
          "name": "stdout",
          "text": [
            "[ Train | 159/200 ] loss = 0.31314, acc = 0.90594\t[ Valid\t| 159/200 ]  loss = 1.01659, acc = 0.73724\n"
          ]
        },
        {
          "output_type": "display_data",
          "data": {
            "text/plain": "Train:   0%|          | 0/25 [00:00<?, ?it/s]",
            "application/vnd.jupyter.widget-view+json": {
              "version_major": 2,
              "version_minor": 0,
              "model_id": "3cc974df426a4c0ca812de65e0690d55"
            }
          },
          "metadata": {}
        },
        {
          "output_type": "display_data",
          "data": {
            "text/plain": "Valid:   0%|          | 0/6 [00:00<?, ?it/s]",
            "application/vnd.jupyter.widget-view+json": {
              "version_major": 2,
              "version_minor": 0,
              "model_id": "57ca7c24f4c74e19b8f5724020764839"
            }
          },
          "metadata": {}
        },
        {
          "output_type": "stream",
          "name": "stdout",
          "text": [
            "[ Train | 160/200 ] loss = 0.29892, acc = 0.90937\t[ Valid\t| 160/200 ]  loss = 1.01083, acc = 0.71302\n"
          ]
        },
        {
          "output_type": "display_data",
          "data": {
            "text/plain": "Train:   0%|          | 0/25 [00:00<?, ?it/s]",
            "application/vnd.jupyter.widget-view+json": {
              "version_major": 2,
              "version_minor": 0,
              "model_id": "fba986674b7749c6ad42a1712a222d37"
            }
          },
          "metadata": {}
        },
        {
          "output_type": "display_data",
          "data": {
            "text/plain": "Valid:   0%|          | 0/6 [00:00<?, ?it/s]",
            "application/vnd.jupyter.widget-view+json": {
              "version_major": 2,
              "version_minor": 0,
              "model_id": "1c4d64e8bf88423480a916225a377967"
            }
          },
          "metadata": {}
        },
        {
          "output_type": "stream",
          "name": "stdout",
          "text": [
            "[ Train | 161/200 ] loss = 0.31422, acc = 0.89781\t[ Valid\t| 161/200 ]  loss = 1.07604, acc = 0.70000\n"
          ]
        },
        {
          "output_type": "display_data",
          "data": {
            "text/plain": "Train:   0%|          | 0/25 [00:00<?, ?it/s]",
            "application/vnd.jupyter.widget-view+json": {
              "version_major": 2,
              "version_minor": 0,
              "model_id": "81377b007ee14ebcbe03d96061c1ff99"
            }
          },
          "metadata": {}
        },
        {
          "output_type": "display_data",
          "data": {
            "text/plain": "Valid:   0%|          | 0/6 [00:00<?, ?it/s]",
            "application/vnd.jupyter.widget-view+json": {
              "version_major": 2,
              "version_minor": 0,
              "model_id": "af259da0f4804e4e86b688d0cefb9b18"
            }
          },
          "metadata": {}
        },
        {
          "output_type": "stream",
          "name": "stdout",
          "text": [
            "[ Train | 162/200 ] loss = 0.31445, acc = 0.89375\t[ Valid\t| 162/200 ]  loss = 0.98522, acc = 0.71927\n"
          ]
        },
        {
          "output_type": "display_data",
          "data": {
            "text/plain": "Train:   0%|          | 0/25 [00:00<?, ?it/s]",
            "application/vnd.jupyter.widget-view+json": {
              "version_major": 2,
              "version_minor": 0,
              "model_id": "9338991b16e342ac88e33ce274648b62"
            }
          },
          "metadata": {}
        },
        {
          "output_type": "display_data",
          "data": {
            "text/plain": "Valid:   0%|          | 0/6 [00:00<?, ?it/s]",
            "application/vnd.jupyter.widget-view+json": {
              "version_major": 2,
              "version_minor": 0,
              "model_id": "c113113d7b8c48a48520e4c83e51967c"
            }
          },
          "metadata": {}
        },
        {
          "output_type": "stream",
          "name": "stdout",
          "text": [
            "[ Train | 163/200 ] loss = 0.31527, acc = 0.90156\t[ Valid\t| 163/200 ]  loss = 0.94568, acc = 0.72708\n"
          ]
        },
        {
          "output_type": "display_data",
          "data": {
            "text/plain": "Train:   0%|          | 0/25 [00:00<?, ?it/s]",
            "application/vnd.jupyter.widget-view+json": {
              "version_major": 2,
              "version_minor": 0,
              "model_id": "7efa6e006d0243c4b0c20cdf3ddcd0c3"
            }
          },
          "metadata": {}
        },
        {
          "output_type": "display_data",
          "data": {
            "text/plain": "Valid:   0%|          | 0/6 [00:00<?, ?it/s]",
            "application/vnd.jupyter.widget-view+json": {
              "version_major": 2,
              "version_minor": 0,
              "model_id": "5efcebe866d940c08bb06f4ee6cd69bd"
            }
          },
          "metadata": {}
        },
        {
          "output_type": "stream",
          "name": "stdout",
          "text": [
            "[ Train | 164/200 ] loss = 0.31391, acc = 0.89969\t[ Valid\t| 164/200 ]  loss = 1.24313, acc = 0.65417\n"
          ]
        },
        {
          "output_type": "display_data",
          "data": {
            "text/plain": "Train:   0%|          | 0/25 [00:00<?, ?it/s]",
            "application/vnd.jupyter.widget-view+json": {
              "version_major": 2,
              "version_minor": 0,
              "model_id": "ebf8988630ac445ba7d0e604416ab0d7"
            }
          },
          "metadata": {}
        },
        {
          "output_type": "display_data",
          "data": {
            "text/plain": "Valid:   0%|          | 0/6 [00:00<?, ?it/s]",
            "application/vnd.jupyter.widget-view+json": {
              "version_major": 2,
              "version_minor": 0,
              "model_id": "57008a68b6b14472b23635f9afc30826"
            }
          },
          "metadata": {}
        },
        {
          "output_type": "stream",
          "name": "stdout",
          "text": [
            "[ Train | 165/200 ] loss = 0.29694, acc = 0.91094\t[ Valid\t| 165/200 ]  loss = 1.10274, acc = 0.70547\nEpoch   165: reducing learning rate of group 0 to 6.7109e-05.\n"
          ]
        },
        {
          "output_type": "display_data",
          "data": {
            "text/plain": "Train:   0%|          | 0/25 [00:00<?, ?it/s]",
            "application/vnd.jupyter.widget-view+json": {
              "version_major": 2,
              "version_minor": 0,
              "model_id": "892253c025d74897abf9ad40912ab77e"
            }
          },
          "metadata": {}
        },
        {
          "output_type": "display_data",
          "data": {
            "text/plain": "Valid:   0%|          | 0/6 [00:00<?, ?it/s]",
            "application/vnd.jupyter.widget-view+json": {
              "version_major": 2,
              "version_minor": 0,
              "model_id": "62e44d2d1bcc48a4bd4325bcc65e2d9a"
            }
          },
          "metadata": {}
        },
        {
          "output_type": "stream",
          "name": "stdout",
          "text": [
            "[ Train | 166/200 ] loss = 0.26572, acc = 0.90562\t[ Valid\t| 166/200 ]  loss = 0.95366, acc = 0.73438\n"
          ]
        },
        {
          "output_type": "display_data",
          "data": {
            "text/plain": "Train:   0%|          | 0/25 [00:00<?, ?it/s]",
            "application/vnd.jupyter.widget-view+json": {
              "version_major": 2,
              "version_minor": 0,
              "model_id": "4ad57012ee8741e990b4b20a2d50cffd"
            }
          },
          "metadata": {}
        },
        {
          "output_type": "display_data",
          "data": {
            "text/plain": "Valid:   0%|          | 0/6 [00:00<?, ?it/s]",
            "application/vnd.jupyter.widget-view+json": {
              "version_major": 2,
              "version_minor": 0,
              "model_id": "4f5ad8964ae34fefb768ffbed7531368"
            }
          },
          "metadata": {}
        },
        {
          "output_type": "stream",
          "name": "stdout",
          "text": [
            "saving model with acc 0.745\n[ Train | 167/200 ] loss = 0.28676, acc = 0.91906\t[ Valid\t| 167/200 ]  loss = 0.92954, acc = 0.74531\n"
          ]
        },
        {
          "output_type": "display_data",
          "data": {
            "text/plain": "Train:   0%|          | 0/25 [00:00<?, ?it/s]",
            "application/vnd.jupyter.widget-view+json": {
              "version_major": 2,
              "version_minor": 0,
              "model_id": "629fd35df493447ea65a0c7f6accb207"
            }
          },
          "metadata": {}
        },
        {
          "output_type": "display_data",
          "data": {
            "text/plain": "Valid:   0%|          | 0/6 [00:00<?, ?it/s]",
            "application/vnd.jupyter.widget-view+json": {
              "version_major": 2,
              "version_minor": 0,
              "model_id": "6f3fb86385d549728656f7001e5e4bfd"
            }
          },
          "metadata": {}
        },
        {
          "output_type": "stream",
          "name": "stdout",
          "text": [
            "[ Train | 168/200 ] loss = 0.24735, acc = 0.92531\t[ Valid\t| 168/200 ]  loss = 0.99552, acc = 0.72708\n"
          ]
        },
        {
          "output_type": "display_data",
          "data": {
            "text/plain": "Train:   0%|          | 0/25 [00:00<?, ?it/s]",
            "application/vnd.jupyter.widget-view+json": {
              "version_major": 2,
              "version_minor": 0,
              "model_id": "41510729718c4951885f1adc3ec54428"
            }
          },
          "metadata": {}
        },
        {
          "output_type": "display_data",
          "data": {
            "text/plain": "Valid:   0%|          | 0/6 [00:00<?, ?it/s]",
            "application/vnd.jupyter.widget-view+json": {
              "version_major": 2,
              "version_minor": 0,
              "model_id": "d097e6910b2143f998d7180818ef9b04"
            }
          },
          "metadata": {}
        },
        {
          "output_type": "stream",
          "name": "stdout",
          "text": [
            "[ Train | 169/200 ] loss = 0.26229, acc = 0.92125\t[ Valid\t| 169/200 ]  loss = 1.07626, acc = 0.69557\n"
          ]
        },
        {
          "output_type": "display_data",
          "data": {
            "text/plain": "Train:   0%|          | 0/25 [00:00<?, ?it/s]",
            "application/vnd.jupyter.widget-view+json": {
              "version_major": 2,
              "version_minor": 0,
              "model_id": "aa7f06c0b32d464f8dd1fb15fe35e445"
            }
          },
          "metadata": {}
        },
        {
          "output_type": "display_data",
          "data": {
            "text/plain": "Valid:   0%|          | 0/6 [00:00<?, ?it/s]",
            "application/vnd.jupyter.widget-view+json": {
              "version_major": 2,
              "version_minor": 0,
              "model_id": "bb4892b651f74f91be9a61c805d9ee54"
            }
          },
          "metadata": {}
        },
        {
          "output_type": "stream",
          "name": "stdout",
          "text": [
            "[ Train | 170/200 ] loss = 0.25072, acc = 0.91594\t[ Valid\t| 170/200 ]  loss = 0.95704, acc = 0.73073\n"
          ]
        },
        {
          "output_type": "display_data",
          "data": {
            "text/plain": "Train:   0%|          | 0/25 [00:00<?, ?it/s]",
            "application/vnd.jupyter.widget-view+json": {
              "version_major": 2,
              "version_minor": 0,
              "model_id": "df1b97edb2f34b74b0db3a70d3f60af1"
            }
          },
          "metadata": {}
        },
        {
          "output_type": "display_data",
          "data": {
            "text/plain": "Valid:   0%|          | 0/6 [00:00<?, ?it/s]",
            "application/vnd.jupyter.widget-view+json": {
              "version_major": 2,
              "version_minor": 0,
              "model_id": "e8b2e196d1a44a56842cf83e1c62c3aa"
            }
          },
          "metadata": {}
        },
        {
          "output_type": "stream",
          "name": "stdout",
          "text": [
            "[ Train | 171/200 ] loss = 0.25696, acc = 0.92687\t[ Valid\t| 171/200 ]  loss = 0.91250, acc = 0.73411\n"
          ]
        },
        {
          "output_type": "display_data",
          "data": {
            "text/plain": "Train:   0%|          | 0/25 [00:00<?, ?it/s]",
            "application/vnd.jupyter.widget-view+json": {
              "version_major": 2,
              "version_minor": 0,
              "model_id": "d249681e9ae143bd96c6244a49138612"
            }
          },
          "metadata": {}
        },
        {
          "output_type": "display_data",
          "data": {
            "text/plain": "Valid:   0%|          | 0/6 [00:00<?, ?it/s]",
            "application/vnd.jupyter.widget-view+json": {
              "version_major": 2,
              "version_minor": 0,
              "model_id": "bb0de0cdbab443e8b27eaf8edcac0e4e"
            }
          },
          "metadata": {}
        },
        {
          "output_type": "stream",
          "name": "stdout",
          "text": [
            "[ Train | 172/200 ] loss = 0.26655, acc = 0.92312\t[ Valid\t| 172/200 ]  loss = 0.99417, acc = 0.72760\n"
          ]
        },
        {
          "output_type": "display_data",
          "data": {
            "text/plain": "Train:   0%|          | 0/25 [00:00<?, ?it/s]",
            "application/vnd.jupyter.widget-view+json": {
              "version_major": 2,
              "version_minor": 0,
              "model_id": "6a493ac853fe4220b4219f146454aa6b"
            }
          },
          "metadata": {}
        },
        {
          "output_type": "display_data",
          "data": {
            "text/plain": "Valid:   0%|          | 0/6 [00:00<?, ?it/s]",
            "application/vnd.jupyter.widget-view+json": {
              "version_major": 2,
              "version_minor": 0,
              "model_id": "4ab908c72f104b9897c3b4676e670f95"
            }
          },
          "metadata": {}
        },
        {
          "output_type": "stream",
          "name": "stdout",
          "text": [
            "[ Train | 173/200 ] loss = 0.27994, acc = 0.91656\t[ Valid\t| 173/200 ]  loss = 0.98818, acc = 0.73646\n"
          ]
        },
        {
          "output_type": "display_data",
          "data": {
            "text/plain": "Train:   0%|          | 0/25 [00:00<?, ?it/s]",
            "application/vnd.jupyter.widget-view+json": {
              "version_major": 2,
              "version_minor": 0,
              "model_id": "39ff84a55c4747619e8fbd12a3fa7c77"
            }
          },
          "metadata": {}
        },
        {
          "output_type": "display_data",
          "data": {
            "text/plain": "Valid:   0%|          | 0/6 [00:00<?, ?it/s]",
            "application/vnd.jupyter.widget-view+json": {
              "version_major": 2,
              "version_minor": 0,
              "model_id": "42d549586e124c2fb1a08d6d5730b57c"
            }
          },
          "metadata": {}
        },
        {
          "output_type": "stream",
          "name": "stdout",
          "text": [
            "[ Train | 174/200 ] loss = 0.27834, acc = 0.92219\t[ Valid\t| 174/200 ]  loss = 0.93842, acc = 0.72656\n"
          ]
        },
        {
          "output_type": "display_data",
          "data": {
            "text/plain": "Train:   0%|          | 0/25 [00:00<?, ?it/s]",
            "application/vnd.jupyter.widget-view+json": {
              "version_major": 2,
              "version_minor": 0,
              "model_id": "caa34fc578804ca29cca0327bc78d09f"
            }
          },
          "metadata": {}
        },
        {
          "output_type": "display_data",
          "data": {
            "text/plain": "Valid:   0%|          | 0/6 [00:00<?, ?it/s]",
            "application/vnd.jupyter.widget-view+json": {
              "version_major": 2,
              "version_minor": 0,
              "model_id": "c2557ea3a9de4365af84d1e6daacc913"
            }
          },
          "metadata": {}
        },
        {
          "output_type": "stream",
          "name": "stdout",
          "text": [
            "[ Train | 175/200 ] loss = 0.23983, acc = 0.92656\t[ Valid\t| 175/200 ]  loss = 1.04833, acc = 0.72786\n"
          ]
        },
        {
          "output_type": "display_data",
          "data": {
            "text/plain": "Train:   0%|          | 0/25 [00:00<?, ?it/s]",
            "application/vnd.jupyter.widget-view+json": {
              "version_major": 2,
              "version_minor": 0,
              "model_id": "1ad719e270ad4a708ad371ee48dc8e8b"
            }
          },
          "metadata": {}
        },
        {
          "output_type": "display_data",
          "data": {
            "text/plain": "Valid:   0%|          | 0/6 [00:00<?, ?it/s]",
            "application/vnd.jupyter.widget-view+json": {
              "version_major": 2,
              "version_minor": 0,
              "model_id": "c0892d8c7c3049419ccfa93459825fe5"
            }
          },
          "metadata": {}
        },
        {
          "output_type": "stream",
          "name": "stdout",
          "text": [
            "[ Train | 176/200 ] loss = 0.25858, acc = 0.91625\t[ Valid\t| 176/200 ]  loss = 0.99287, acc = 0.70911\nEpoch   176: reducing learning rate of group 0 to 5.3687e-05.\n"
          ]
        },
        {
          "output_type": "display_data",
          "data": {
            "text/plain": "Train:   0%|          | 0/25 [00:00<?, ?it/s]",
            "application/vnd.jupyter.widget-view+json": {
              "version_major": 2,
              "version_minor": 0,
              "model_id": "c3fd915138d246cb8ef0d6f797058f13"
            }
          },
          "metadata": {}
        },
        {
          "output_type": "display_data",
          "data": {
            "text/plain": "Valid:   0%|          | 0/6 [00:00<?, ?it/s]",
            "application/vnd.jupyter.widget-view+json": {
              "version_major": 2,
              "version_minor": 0,
              "model_id": "679f079029a6491e8d0eadeeb97bccad"
            }
          },
          "metadata": {}
        },
        {
          "output_type": "stream",
          "name": "stdout",
          "text": [
            "saving model with acc 0.751\n[ Train | 177/200 ] loss = 0.28930, acc = 0.91969\t[ Valid\t| 177/200 ]  loss = 0.95705, acc = 0.75052\n"
          ]
        },
        {
          "output_type": "display_data",
          "data": {
            "text/plain": "Train:   0%|          | 0/25 [00:00<?, ?it/s]",
            "application/vnd.jupyter.widget-view+json": {
              "version_major": 2,
              "version_minor": 0,
              "model_id": "e9f65685da7d46a08bd2977743fc80c0"
            }
          },
          "metadata": {}
        },
        {
          "output_type": "display_data",
          "data": {
            "text/plain": "Valid:   0%|          | 0/6 [00:00<?, ?it/s]",
            "application/vnd.jupyter.widget-view+json": {
              "version_major": 2,
              "version_minor": 0,
              "model_id": "125a9717def948759ee4245b585c403a"
            }
          },
          "metadata": {}
        },
        {
          "output_type": "stream",
          "name": "stdout",
          "text": [
            "[ Train | 178/200 ] loss = 0.25882, acc = 0.92844\t[ Valid\t| 178/200 ]  loss = 0.94625, acc = 0.72292\n"
          ]
        },
        {
          "output_type": "display_data",
          "data": {
            "text/plain": "Train:   0%|          | 0/25 [00:00<?, ?it/s]",
            "application/vnd.jupyter.widget-view+json": {
              "version_major": 2,
              "version_minor": 0,
              "model_id": "dea3d600ad644f3586908146e3aec7ef"
            }
          },
          "metadata": {}
        },
        {
          "output_type": "display_data",
          "data": {
            "text/plain": "Valid:   0%|          | 0/6 [00:00<?, ?it/s]",
            "application/vnd.jupyter.widget-view+json": {
              "version_major": 2,
              "version_minor": 0,
              "model_id": "aa5497fbaefa4cc397df3575c52bfe53"
            }
          },
          "metadata": {}
        },
        {
          "output_type": "stream",
          "name": "stdout",
          "text": [
            "saving model with acc 0.763\n[ Train | 179/200 ] loss = 0.20018, acc = 0.94500\t[ Valid\t| 179/200 ]  loss = 0.85966, acc = 0.76328\n"
          ]
        },
        {
          "output_type": "display_data",
          "data": {
            "text/plain": "Train:   0%|          | 0/25 [00:00<?, ?it/s]",
            "application/vnd.jupyter.widget-view+json": {
              "version_major": 2,
              "version_minor": 0,
              "model_id": "3d63d74341fd47e187f907d69d9cb6e2"
            }
          },
          "metadata": {}
        },
        {
          "output_type": "display_data",
          "data": {
            "text/plain": "Valid:   0%|          | 0/6 [00:00<?, ?it/s]",
            "application/vnd.jupyter.widget-view+json": {
              "version_major": 2,
              "version_minor": 0,
              "model_id": "3b28685bcd984bc29aa1d1e4e3754ada"
            }
          },
          "metadata": {}
        },
        {
          "output_type": "stream",
          "name": "stdout",
          "text": [
            "[ Train | 180/200 ] loss = 0.26476, acc = 0.92625\t[ Valid\t| 180/200 ]  loss = 0.93347, acc = 0.74792\n"
          ]
        },
        {
          "output_type": "display_data",
          "data": {
            "text/plain": "Train:   0%|          | 0/25 [00:00<?, ?it/s]",
            "application/vnd.jupyter.widget-view+json": {
              "version_major": 2,
              "version_minor": 0,
              "model_id": "8e252cb68762489398db2bfc57bd2932"
            }
          },
          "metadata": {}
        },
        {
          "output_type": "display_data",
          "data": {
            "text/plain": "Valid:   0%|          | 0/6 [00:00<?, ?it/s]",
            "application/vnd.jupyter.widget-view+json": {
              "version_major": 2,
              "version_minor": 0,
              "model_id": "6f2cf5e0a8494d95b192b29bf1752e26"
            }
          },
          "metadata": {}
        },
        {
          "output_type": "stream",
          "name": "stdout",
          "text": [
            "[ Train | 181/200 ] loss = 0.24245, acc = 0.93281\t[ Valid\t| 181/200 ]  loss = 0.93766, acc = 0.73802\n"
          ]
        },
        {
          "output_type": "display_data",
          "data": {
            "text/plain": "Train:   0%|          | 0/25 [00:00<?, ?it/s]",
            "application/vnd.jupyter.widget-view+json": {
              "version_major": 2,
              "version_minor": 0,
              "model_id": "89768008b67c4aa0bb3a29ed375b7cc8"
            }
          },
          "metadata": {}
        },
        {
          "output_type": "display_data",
          "data": {
            "text/plain": "Valid:   0%|          | 0/6 [00:00<?, ?it/s]",
            "application/vnd.jupyter.widget-view+json": {
              "version_major": 2,
              "version_minor": 0,
              "model_id": "d5937e8bcf31449c99487c53ef78e2d5"
            }
          },
          "metadata": {}
        },
        {
          "output_type": "stream",
          "name": "stdout",
          "text": [
            "[ Train | 182/200 ] loss = 0.20953, acc = 0.94000\t[ Valid\t| 182/200 ]  loss = 0.97799, acc = 0.75130\n"
          ]
        },
        {
          "output_type": "display_data",
          "data": {
            "text/plain": "Train:   0%|          | 0/25 [00:00<?, ?it/s]",
            "application/vnd.jupyter.widget-view+json": {
              "version_major": 2,
              "version_minor": 0,
              "model_id": "110dfc77e3de4047b3a8649433ec2ac5"
            }
          },
          "metadata": {}
        },
        {
          "output_type": "display_data",
          "data": {
            "text/plain": "Valid:   0%|          | 0/6 [00:00<?, ?it/s]",
            "application/vnd.jupyter.widget-view+json": {
              "version_major": 2,
              "version_minor": 0,
              "model_id": "43bf470a612d46ea9b286fa23d3a3494"
            }
          },
          "metadata": {}
        },
        {
          "output_type": "stream",
          "name": "stdout",
          "text": [
            "saving model with acc 0.784\n[ Train | 183/200 ] loss = 0.23504, acc = 0.92844\t[ Valid\t| 183/200 ]  loss = 0.82828, acc = 0.78411\n"
          ]
        },
        {
          "output_type": "display_data",
          "data": {
            "text/plain": "Train:   0%|          | 0/25 [00:00<?, ?it/s]",
            "application/vnd.jupyter.widget-view+json": {
              "version_major": 2,
              "version_minor": 0,
              "model_id": "7d336a1309d14e9f9e9d06e55afa3d6a"
            }
          },
          "metadata": {}
        },
        {
          "output_type": "display_data",
          "data": {
            "text/plain": "Valid:   0%|          | 0/6 [00:00<?, ?it/s]",
            "application/vnd.jupyter.widget-view+json": {
              "version_major": 2,
              "version_minor": 0,
              "model_id": "fa95edbe8480498f9310767ebc7229d2"
            }
          },
          "metadata": {}
        },
        {
          "output_type": "stream",
          "name": "stdout",
          "text": [
            "[ Train | 184/200 ] loss = 0.22581, acc = 0.93031\t[ Valid\t| 184/200 ]  loss = 1.01972, acc = 0.70547\n"
          ]
        },
        {
          "output_type": "display_data",
          "data": {
            "text/plain": "Train:   0%|          | 0/25 [00:00<?, ?it/s]",
            "application/vnd.jupyter.widget-view+json": {
              "version_major": 2,
              "version_minor": 0,
              "model_id": "b1265d3d38f64bf5b5c22c7fd83eb8f1"
            }
          },
          "metadata": {}
        },
        {
          "output_type": "display_data",
          "data": {
            "text/plain": "Valid:   0%|          | 0/6 [00:00<?, ?it/s]",
            "application/vnd.jupyter.widget-view+json": {
              "version_major": 2,
              "version_minor": 0,
              "model_id": "3a21a880a66c47b08a12aa2a8c52e03c"
            }
          },
          "metadata": {}
        },
        {
          "output_type": "stream",
          "name": "stdout",
          "text": [
            "[ Train | 185/200 ] loss = 0.20898, acc = 0.93750\t[ Valid\t| 185/200 ]  loss = 0.98282, acc = 0.72786\n"
          ]
        },
        {
          "output_type": "display_data",
          "data": {
            "text/plain": "Train:   0%|          | 0/25 [00:00<?, ?it/s]",
            "application/vnd.jupyter.widget-view+json": {
              "version_major": 2,
              "version_minor": 0,
              "model_id": "263ff4c8577b4f7e9f9474b9280700ef"
            }
          },
          "metadata": {}
        },
        {
          "output_type": "display_data",
          "data": {
            "text/plain": "Valid:   0%|          | 0/6 [00:00<?, ?it/s]",
            "application/vnd.jupyter.widget-view+json": {
              "version_major": 2,
              "version_minor": 0,
              "model_id": "943cfec9724b4d07986452fbeafe5e1f"
            }
          },
          "metadata": {}
        },
        {
          "output_type": "stream",
          "name": "stdout",
          "text": [
            "[ Train | 186/200 ] loss = 0.19404, acc = 0.94437\t[ Valid\t| 186/200 ]  loss = 0.88946, acc = 0.76406\n"
          ]
        },
        {
          "output_type": "display_data",
          "data": {
            "text/plain": "Train:   0%|          | 0/25 [00:00<?, ?it/s]",
            "application/vnd.jupyter.widget-view+json": {
              "version_major": 2,
              "version_minor": 0,
              "model_id": "33042f7955d54b67a3a0b22f10eadc3b"
            }
          },
          "metadata": {}
        },
        {
          "output_type": "display_data",
          "data": {
            "text/plain": "Valid:   0%|          | 0/6 [00:00<?, ?it/s]",
            "application/vnd.jupyter.widget-view+json": {
              "version_major": 2,
              "version_minor": 0,
              "model_id": "ab76184788f1413a9e67a89bed6df4a3"
            }
          },
          "metadata": {}
        },
        {
          "output_type": "stream",
          "name": "stdout",
          "text": [
            "[ Train | 187/200 ] loss = 0.18966, acc = 0.94656\t[ Valid\t| 187/200 ]  loss = 0.95093, acc = 0.74479\n"
          ]
        },
        {
          "output_type": "display_data",
          "data": {
            "text/plain": "Train:   0%|          | 0/25 [00:00<?, ?it/s]",
            "application/vnd.jupyter.widget-view+json": {
              "version_major": 2,
              "version_minor": 0,
              "model_id": "4126beed70aa40d09b902278fc4d51d8"
            }
          },
          "metadata": {}
        },
        {
          "output_type": "display_data",
          "data": {
            "text/plain": "Valid:   0%|          | 0/6 [00:00<?, ?it/s]",
            "application/vnd.jupyter.widget-view+json": {
              "version_major": 2,
              "version_minor": 0,
              "model_id": "07cf95f4e58e4615a8a413cb265faf3e"
            }
          },
          "metadata": {}
        },
        {
          "output_type": "stream",
          "name": "stdout",
          "text": [
            "[ Train | 188/200 ] loss = 0.24105, acc = 0.92312\t[ Valid\t| 188/200 ]  loss = 1.01512, acc = 0.73932\n"
          ]
        },
        {
          "output_type": "display_data",
          "data": {
            "text/plain": "Train:   0%|          | 0/25 [00:00<?, ?it/s]",
            "application/vnd.jupyter.widget-view+json": {
              "version_major": 2,
              "version_minor": 0,
              "model_id": "0593ab2f51b6405e97163d692e5e0969"
            }
          },
          "metadata": {}
        },
        {
          "output_type": "display_data",
          "data": {
            "text/plain": "Valid:   0%|          | 0/6 [00:00<?, ?it/s]",
            "application/vnd.jupyter.widget-view+json": {
              "version_major": 2,
              "version_minor": 0,
              "model_id": "8acc5061680f4080a21cb2a73ef23e8c"
            }
          },
          "metadata": {}
        },
        {
          "output_type": "stream",
          "name": "stdout",
          "text": [
            "[ Train | 189/200 ] loss = 0.19564, acc = 0.94500\t[ Valid\t| 189/200 ]  loss = 0.85594, acc = 0.75885\n"
          ]
        },
        {
          "output_type": "display_data",
          "data": {
            "text/plain": "Train:   0%|          | 0/25 [00:00<?, ?it/s]",
            "application/vnd.jupyter.widget-view+json": {
              "version_major": 2,
              "version_minor": 0,
              "model_id": "3ba979280b8d4c29b1fa98ffdcc203a5"
            }
          },
          "metadata": {}
        },
        {
          "output_type": "display_data",
          "data": {
            "text/plain": "Valid:   0%|          | 0/6 [00:00<?, ?it/s]",
            "application/vnd.jupyter.widget-view+json": {
              "version_major": 2,
              "version_minor": 0,
              "model_id": "7c073892e43d45299a1598bb9bc5ecc6"
            }
          },
          "metadata": {}
        },
        {
          "output_type": "stream",
          "name": "stdout",
          "text": [
            "[ Train | 190/200 ] loss = 0.25362, acc = 0.92500\t[ Valid\t| 190/200 ]  loss = 1.01721, acc = 0.72943\n"
          ]
        },
        {
          "output_type": "display_data",
          "data": {
            "text/plain": "Train:   0%|          | 0/25 [00:00<?, ?it/s]",
            "application/vnd.jupyter.widget-view+json": {
              "version_major": 2,
              "version_minor": 0,
              "model_id": "99578814b8eb49de94b288eeba9bee4e"
            }
          },
          "metadata": {}
        },
        {
          "output_type": "display_data",
          "data": {
            "text/plain": "Valid:   0%|          | 0/6 [00:00<?, ?it/s]",
            "application/vnd.jupyter.widget-view+json": {
              "version_major": 2,
              "version_minor": 0,
              "model_id": "26c53b1899d54429a989c5d979187bf5"
            }
          },
          "metadata": {}
        },
        {
          "output_type": "stream",
          "name": "stdout",
          "text": [
            "[ Train | 191/200 ] loss = 0.20116, acc = 0.93875\t[ Valid\t| 191/200 ]  loss = 1.04398, acc = 0.72135\n"
          ]
        },
        {
          "output_type": "display_data",
          "data": {
            "text/plain": "Train:   0%|          | 0/25 [00:00<?, ?it/s]",
            "application/vnd.jupyter.widget-view+json": {
              "version_major": 2,
              "version_minor": 0,
              "model_id": "e6631f6c3fa54fab8d09a4f233c70196"
            }
          },
          "metadata": {}
        },
        {
          "output_type": "display_data",
          "data": {
            "text/plain": "Valid:   0%|          | 0/6 [00:00<?, ?it/s]",
            "application/vnd.jupyter.widget-view+json": {
              "version_major": 2,
              "version_minor": 0,
              "model_id": "05adf25874a44d658a6492482354572f"
            }
          },
          "metadata": {}
        },
        {
          "output_type": "stream",
          "name": "stdout",
          "text": [
            "[ Train | 192/200 ] loss = 0.19863, acc = 0.93750\t[ Valid\t| 192/200 ]  loss = 1.00214, acc = 0.76693\nEpoch   192: reducing learning rate of group 0 to 5.0000e-05.\n"
          ]
        },
        {
          "output_type": "display_data",
          "data": {
            "text/plain": "Train:   0%|          | 0/25 [00:00<?, ?it/s]",
            "application/vnd.jupyter.widget-view+json": {
              "version_major": 2,
              "version_minor": 0,
              "model_id": "6bc41a956a2c456eb57d95b773eeacd0"
            }
          },
          "metadata": {}
        },
        {
          "output_type": "display_data",
          "data": {
            "text/plain": "Valid:   0%|          | 0/6 [00:00<?, ?it/s]",
            "application/vnd.jupyter.widget-view+json": {
              "version_major": 2,
              "version_minor": 0,
              "model_id": "0341da52be71405bae95c377e6bd3be6"
            }
          },
          "metadata": {}
        },
        {
          "output_type": "stream",
          "name": "stdout",
          "text": [
            "[ Train | 193/200 ] loss = 0.21238, acc = 0.93656\t[ Valid\t| 193/200 ]  loss = 0.90697, acc = 0.74792\n"
          ]
        },
        {
          "output_type": "display_data",
          "data": {
            "text/plain": "Train:   0%|          | 0/25 [00:00<?, ?it/s]",
            "application/vnd.jupyter.widget-view+json": {
              "version_major": 2,
              "version_minor": 0,
              "model_id": "a0e322efb2164dafa703356bdd5d68b9"
            }
          },
          "metadata": {}
        },
        {
          "output_type": "display_data",
          "data": {
            "text/plain": "Valid:   0%|          | 0/6 [00:00<?, ?it/s]",
            "application/vnd.jupyter.widget-view+json": {
              "version_major": 2,
              "version_minor": 0,
              "model_id": "36f291bfca8f43948f2ed1e84ffdccd5"
            }
          },
          "metadata": {}
        },
        {
          "output_type": "stream",
          "name": "stdout",
          "text": [
            "[ Train | 194/200 ] loss = 0.18139, acc = 0.94406\t[ Valid\t| 194/200 ]  loss = 0.94516, acc = 0.73307\n"
          ]
        },
        {
          "output_type": "display_data",
          "data": {
            "text/plain": "Train:   0%|          | 0/25 [00:00<?, ?it/s]",
            "application/vnd.jupyter.widget-view+json": {
              "version_major": 2,
              "version_minor": 0,
              "model_id": "915b6dd04d8a4767bac60a43710b2328"
            }
          },
          "metadata": {}
        },
        {
          "output_type": "display_data",
          "data": {
            "text/plain": "Valid:   0%|          | 0/6 [00:00<?, ?it/s]",
            "application/vnd.jupyter.widget-view+json": {
              "version_major": 2,
              "version_minor": 0,
              "model_id": "19ecbaf61c184921a4923ccb7a952bf2"
            }
          },
          "metadata": {}
        },
        {
          "output_type": "stream",
          "name": "stdout",
          "text": [
            "[ Train | 195/200 ] loss = 0.18256, acc = 0.95406\t[ Valid\t| 195/200 ]  loss = 0.92801, acc = 0.76146\n"
          ]
        },
        {
          "output_type": "display_data",
          "data": {
            "text/plain": "Train:   0%|          | 0/25 [00:00<?, ?it/s]",
            "application/vnd.jupyter.widget-view+json": {
              "version_major": 2,
              "version_minor": 0,
              "model_id": "d7c9837f267f405ba1fd4cc3d391b076"
            }
          },
          "metadata": {}
        },
        {
          "output_type": "display_data",
          "data": {
            "text/plain": "Valid:   0%|          | 0/6 [00:00<?, ?it/s]",
            "application/vnd.jupyter.widget-view+json": {
              "version_major": 2,
              "version_minor": 0,
              "model_id": "acd807f53c9d438e9af59bd0a257556c"
            }
          },
          "metadata": {}
        },
        {
          "output_type": "stream",
          "name": "stdout",
          "text": [
            "[ Train | 196/200 ] loss = 0.17491, acc = 0.94969\t[ Valid\t| 196/200 ]  loss = 1.07709, acc = 0.74141\n"
          ]
        },
        {
          "output_type": "display_data",
          "data": {
            "text/plain": "Train:   0%|          | 0/25 [00:00<?, ?it/s]",
            "application/vnd.jupyter.widget-view+json": {
              "version_major": 2,
              "version_minor": 0,
              "model_id": "9d809bb3ab264c10983ab2c9facd88a2"
            }
          },
          "metadata": {}
        },
        {
          "output_type": "display_data",
          "data": {
            "text/plain": "Valid:   0%|          | 0/6 [00:00<?, ?it/s]",
            "application/vnd.jupyter.widget-view+json": {
              "version_major": 2,
              "version_minor": 0,
              "model_id": "281c0e4067ae4e9bace66339e813e95b"
            }
          },
          "metadata": {}
        },
        {
          "output_type": "stream",
          "name": "stdout",
          "text": [
            "[ Train | 197/200 ] loss = 0.20162, acc = 0.93906\t[ Valid\t| 197/200 ]  loss = 1.11974, acc = 0.72786\n"
          ]
        },
        {
          "output_type": "display_data",
          "data": {
            "text/plain": "Train:   0%|          | 0/25 [00:00<?, ?it/s]",
            "application/vnd.jupyter.widget-view+json": {
              "version_major": 2,
              "version_minor": 0,
              "model_id": "2225929db6964f24951386124851431b"
            }
          },
          "metadata": {}
        },
        {
          "output_type": "display_data",
          "data": {
            "text/plain": "Valid:   0%|          | 0/6 [00:00<?, ?it/s]",
            "application/vnd.jupyter.widget-view+json": {
              "version_major": 2,
              "version_minor": 0,
              "model_id": "395e5de6d5a24dfca446611f6d7fa855"
            }
          },
          "metadata": {}
        },
        {
          "output_type": "stream",
          "name": "stdout",
          "text": [
            "[ Train | 198/200 ] loss = 0.23276, acc = 0.92469\t[ Valid\t| 198/200 ]  loss = 0.95614, acc = 0.75495\n"
          ]
        },
        {
          "output_type": "display_data",
          "data": {
            "text/plain": "Train:   0%|          | 0/25 [00:00<?, ?it/s]",
            "application/vnd.jupyter.widget-view+json": {
              "version_major": 2,
              "version_minor": 0,
              "model_id": "ac977fc062f84b4992935adead291041"
            }
          },
          "metadata": {}
        },
        {
          "output_type": "display_data",
          "data": {
            "text/plain": "Valid:   0%|          | 0/6 [00:00<?, ?it/s]",
            "application/vnd.jupyter.widget-view+json": {
              "version_major": 2,
              "version_minor": 0,
              "model_id": "83825d7771e243bdab944ddbf67adafd"
            }
          },
          "metadata": {}
        },
        {
          "output_type": "stream",
          "name": "stdout",
          "text": [
            "[ Train | 199/200 ] loss = 0.18374, acc = 0.94437\t[ Valid\t| 199/200 ]  loss = 0.96522, acc = 0.73099\n"
          ]
        },
        {
          "output_type": "display_data",
          "data": {
            "text/plain": "Train:   0%|          | 0/25 [00:00<?, ?it/s]",
            "application/vnd.jupyter.widget-view+json": {
              "version_major": 2,
              "version_minor": 0,
              "model_id": "d0a2afc1ebbe4ac5aff92d4defc4d346"
            }
          },
          "metadata": {}
        },
        {
          "output_type": "display_data",
          "data": {
            "text/plain": "Valid:   0%|          | 0/6 [00:00<?, ?it/s]",
            "application/vnd.jupyter.widget-view+json": {
              "version_major": 2,
              "version_minor": 0,
              "model_id": "103447ad90284648838970351d551f25"
            }
          },
          "metadata": {}
        },
        {
          "output_type": "stream",
          "name": "stdout",
          "text": [
            "[ Train | 200/200 ] loss = 0.19482, acc = 0.93937\t[ Valid\t| 200/200 ]  loss = 0.99726, acc = 0.73490\n"
          ]
        }
      ]
    },
    {
      "cell_type": "markdown",
      "metadata": {
        "id": "2o1oCMXy61_3"
      },
      "source": [
        "## **Testing**\n",
        "\n",
        "For inference, we need to make sure the model is in eval mode, and the order of the dataset should not be shuffled (\"shuffle=False\" in test_loader).\n",
        "\n",
        "Last but not least, don't forget to save the predictions into a single CSV file.\n",
        "The format of CSV file should follow the rules mentioned in the slides.\n",
        "\n",
        "### **WARNING -- Keep in Mind**\n",
        "\n",
        "Cheating includes but not limited to:\n",
        "1.   using testing labels,\n",
        "2.   submitting results to previous Kaggle competitions,\n",
        "3.   sharing predictions with others,\n",
        "4.   copying codes from any creatures on Earth,\n",
        "5.   asking other people to do it for you.\n",
        "\n",
        "Any violations bring you punishments from getting a discount on the final grade to failing the course.\n",
        "\n",
        "It is your responsibility to check whether your code violates the rules.\n",
        "When citing codes from the Internet, you should know what these codes exactly do.\n",
        "You will **NOT** be tolerated if you break the rule and claim you don't know what these codes do.\n"
      ]
    },
    {
      "source": [
        "it = iter(test_loader)\n",
        "a = next(it)[0].to(device)\n",
        "ae_model.eval()\n",
        "b = ae_model(a)\n",
        "import cv2\n",
        "b = b.to('cpu').detach().numpy().transpose([0, 2, 3, 1])\n",
        "a = a.to('cpu').detach().numpy().transpose([0, 2, 3, 1])\n",
        "def norm(img):\n",
        "    for i in range(3):\n",
        "        ch = img[:, :, i]\n",
        "        a = ch.min()\n",
        "        b = ch.max()\n",
        "        img[:, :, i] = (ch-a)/(b-a)\n",
        "    return (img*255).astype('uint8')\n",
        "for i, img in enumerate(b):\n",
        "    cv2.imwrite(f\"img/{i}.png\", norm(img))\n",
        "    cv2.imwrite(f\"img/{i}_.png\", norm(a[i]))\n",
        "    if i == 0:\n",
        "        break"
      ],
      "cell_type": "markdown",
      "metadata": {}
    },
    {
      "cell_type": "code",
      "metadata": {
        "id": "4HznI9_-ocrq"
      },
      "source": [
        "# Make sure the model is in eval mode.\n",
        "# Some modules like Dropout or BatchNorm affect if the model is in training mode.\n",
        "model = Classifier(1).to(device)\n",
        "model.load_state_dict(torch.load(model_path))\n",
        "model.eval()\n",
        "\n",
        "# Initialize a list to store the predictions.\n",
        "predictions = []\n",
        "\n",
        "# Iterate the testing set by batches.\n",
        "for batch in tqdm(test_loader):\n",
        "    # A batch consists of image data and corresponding labels.\n",
        "    # But here the variable \"labels\" is useless since we do not have the ground-truth.\n",
        "    # If printing out the labels, you will find that it is always 0.\n",
        "    # This is because the wrapper (DatasetFolder) returns images and labels for each batch,\n",
        "    # so we have to create fake labels to make it work normally.\n",
        "    imgs, labels = batch\n",
        "\n",
        "    # We don't need gradient in testing, and we don't even have labels to compute loss.\n",
        "    # Using torch.no_grad() accelerates the forward process.\n",
        "    with torch.no_grad():\n",
        "        logits = model(imgs.to(device))\n",
        "\n",
        "    # Take the class with greatest logit as prediction and record it.\n",
        "    predictions.extend(logits.argmax(dim=-1).cpu().numpy().tolist())"
      ],
      "execution_count": 14,
      "outputs": [
        {
          "output_type": "display_data",
          "data": {
            "text/plain": "  0%|          | 0/27 [00:00<?, ?it/s]",
            "application/vnd.jupyter.widget-view+json": {
              "version_major": 2,
              "version_minor": 0,
              "model_id": "206591a7f5984e47afbe00ce3e1b4985"
            }
          },
          "metadata": {}
        }
      ]
    },
    {
      "cell_type": "code",
      "metadata": {
        "id": "3t2q2Th85ZUE"
      },
      "source": [
        "# Save predictions into the file.\n",
        "with open(\"predict.csv\", \"w\") as f:\n",
        "\n",
        "    # The first row must be \"Id, Category\"\n",
        "    f.write(\"Id,Category\\n\")\n",
        "\n",
        "    # For the rest of the rows, each image id corresponds to a predicted class.\n",
        "    for i, pred in  enumerate(predictions):\n",
        "         f.write(f\"{i},{pred}\\n\")"
      ],
      "execution_count": 15,
      "outputs": []
    }
  ]
}