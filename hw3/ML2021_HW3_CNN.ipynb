{
  "nbformat": 4,
  "nbformat_minor": 0,
  "metadata": {
    "accelerator": "GPU",
    "colab": {
      "name": "HW3-CNN.ipynb",
      "provenance": [],
      "collapsed_sections": [],
      "toc_visible": true
    },
    "kernelspec": {
      "display_name": "Python 3",
      "name": "python3",
      "language": "python"
    }
  },
  "cells": [
    {
      "cell_type": "markdown",
      "metadata": {
        "id": "D_a2USyd4giE"
      },
      "source": [
        "# **Homework 3 - Convolutional Neural Network**\n",
        "\n",
        "This is the example code of homework 3 of the machine learning course by Prof. Hung-yi Lee.\n",
        "\n",
        "In this homework, you are required to build a convolutional neural network for image classification, possibly with some advanced training tips.\n",
        "\n",
        "\n",
        "There are three levels here:\n",
        "\n",
        "**Easy**: Build a simple convolutional neural network as the baseline. (2 pts)\n",
        "\n",
        "**Medium**: Design a better architecture or adopt different data augmentations to improve the performance. (2 pts)\n",
        "\n",
        "**Hard**: Utilize provided unlabeled data to obtain better results. (2 pts)"
      ]
    },
    {
      "cell_type": "markdown",
      "metadata": {
        "id": "VHpJocsDr6iA"
      },
      "source": [
        "## **About the Dataset**\n",
        "\n",
        "The dataset used here is food-11, a collection of food images in 11 classes.\n",
        "\n",
        "For the requirement in the homework, TAs slightly modified the data.\n",
        "Please DO NOT access the original fully-labeled training data or testing labels.\n",
        "\n",
        "Also, the modified dataset is for this course only, and any further distribution or commercial use is forbidden."
      ]
    },
    {
      "cell_type": "code",
      "execution_count": 1,
      "metadata": {},
      "outputs": [],
      "source": [
        "import os\n",
        "\n",
        "os.environ['CUDA_VISIBLE_DEVICES'] = '1'"
      ]
    },
    {
      "cell_type": "code",
      "metadata": {
        "id": "zhzdomRTOKoJ"
      },
      "source": [
        "# Download the dataset\n",
        "# You may choose where to download the data.\n",
        "\n",
        "# Google Drive\n",
        "# !gdown --id '1awF7pZ9Dz7X1jn1_QAiKN-_v56veCEKy' --output food-11.zip\n",
        "\n",
        "# Dropbox\n",
        "# !wget https://www.dropbox.com/s/m9q6273jl3djall/food-11.zip -O food-11.zip\n",
        "\n",
        "# Unzip the dataset.\n",
        "# This may take some time.\n",
        "# !unzip -q food-11.zip"
      ],
      "execution_count": 2,
      "outputs": []
    },
    {
      "cell_type": "markdown",
      "metadata": {
        "id": "BBVSCWWhp6uq"
      },
      "source": [
        "## **Import Packages**\n",
        "\n",
        "First, we need to import packages that will be used later.\n",
        "\n",
        "In this homework, we highly rely on **torchvision**, a library of PyTorch."
      ]
    },
    {
      "cell_type": "code",
      "metadata": {
        "id": "9sVrKci4PUFW"
      },
      "source": [
        "# Import necessary packages.\n",
        "import numpy as np\n",
        "import torch\n",
        "import torch.nn as nn\n",
        "import torchvision\n",
        "import torchvision.transforms as transforms\n",
        "from PIL import Image\n",
        "# \"ConcatDataset\" and \"Subset\" are possibly useful when doing semi-supervised learning.\n",
        "from torch.utils.data import ConcatDataset, DataLoader, Subset\n",
        "from torchvision.datasets import DatasetFolder\n",
        "\n",
        "# This is for the progress bar.\n",
        "from tqdm.notebook import tqdm"
      ],
      "execution_count": 3,
      "outputs": []
    },
    {
      "cell_type": "markdown",
      "metadata": {
        "id": "F0i9ZCPrOVN_"
      },
      "source": [
        "## **Dataset, Data Loader, and Transforms**\n",
        "\n",
        "Torchvision provides lots of useful utilities for image preprocessing, data wrapping as well as data augmentation.\n",
        "\n",
        "Here, since our data are stored in folders by class labels, we can directly apply **torchvision.datasets.DatasetFolder** for wrapping data without much effort.\n",
        "\n",
        "Please refer to [PyTorch official website](https://pytorch.org/vision/stable/transforms.html) for details about different transforms."
      ]
    },
    {
      "cell_type": "code",
      "metadata": {
        "id": "gKd2abixQghI"
      },
      "source": [
        "# It is important to do data augmentation in training.\n",
        "# However, not every augmentation is useful.\n",
        "# Please think about what kind of augmentation is helpful for food recognition.\n",
        "train_tfm = transforms.Compose([\n",
        "    # Resize the image into a fixed shape (height = width = 128)\n",
        "    transforms.Resize(256),\n",
        "    transforms.RandomRotation(180, expand=True),\n",
        "    transforms.RandomCrop(224),\n",
        "    # transforms.CenterCrop(224),\n",
        "    transforms.ColorJitter(brightness=0.2, contrast=0.25, saturation=.15, hue=0.05),\n",
        "    transforms.RandomVerticalFlip(p=0.2),\n",
        "    transforms.RandomHorizontalFlip(p=0.5),\n",
        "    transforms.ToTensor(),\n",
        "    transforms.RandomErasing(p=0.5, scale=(0.05, 0.15), ratio=(0.5, 1.5), value=0, inplace=False),\n",
        "    transforms.Normalize(mean = (0.5, 0.5, 0.5), std = (0.5, 0.5, 0.5)),\n",
        "])\n",
        "\n",
        "# We don't need augmentations in testing and validation.\n",
        "# All we need here is to resize the PIL image and transform it into Tensor.\n",
        "test_tfm = transforms.Compose([\n",
        "    transforms.Resize(256),\n",
        "    transforms.CenterCrop(224),\n",
        "    transforms.ToTensor(),\n",
        "    transforms.Normalize(mean = (0.5, 0.5, 0.5), std = (0.5, 0.5, 0.5)),\n",
        "])\n"
      ],
      "execution_count": 4,
      "outputs": []
    },
    {
      "cell_type": "code",
      "execution_count": 5,
      "metadata": {},
      "outputs": [],
      "source": [
        "class RandomTransformDataset:\n",
        "    def __init__(self, dataset, transform, random_time):\n",
        "        self.dataset = dataset\n",
        "        self.transform = transform\n",
        "        self.random_time = random_time\n",
        "    \n",
        "    def __len__(self):\n",
        "        return len(self.dataset)\n",
        "\n",
        "    def __getitem__(self, idx):\n",
        "        jpg, _ = self.dataset[idx]\n",
        "        imgs = [self.transform(jpg) for i in range(self.random_time)]\n",
        "        return torch.stack(imgs, 0)\n",
        "    \n",
        "    @staticmethod\n",
        "    def merge_batch(imgs):\n",
        "        # (batch, RANDOM_NUM, 3, shape0, shape1)\n",
        "        return imgs.reshape(-1, *imgs.shape[2:])\n",
        "    \n",
        "    def merge_predict(self, predicts):\n",
        "        # (batch*RANOM_NUM, 11)\n",
        "        res = []\n",
        "        labels = torch.argmax(predicts, dim=1).squeeze()\n",
        "        # (batch*RANOM_NUM)\n",
        "        for prob in torch.split(labels, self.random_time):\n",
        "            # (RANDOM_NUM)\n",
        "            # voting\n",
        "            res.append(torch.argmax(torch.bincount(prob)))\n",
        "        # (batch)\n",
        "        return  res\n",
        "\n"
      ]
    },
    {
      "cell_type": "code",
      "metadata": {
        "id": "qz6jeMnkQl0_"
      },
      "source": [
        "# Batch size for training, validation, and testing.\n",
        "# A greater batch size usually gives a more stable gradient.\n",
        "# But the GPU memory is limited, so please adjust it carefully.\n",
        "batch_size = 128\n",
        "\n",
        "# Construct datasets.\n",
        "# The argument \"loader\" tells how torchvision reads the data.\n",
        "data_folder = \"/data/ML2021/hw3/\"\n",
        "\n",
        "train_set = DatasetFolder(data_folder+\"food-11/training/labeled\", loader=lambda x: Image.open(x),extensions=\"jpg\", transform=train_tfm)\n",
        "valid_set = DatasetFolder(data_folder+\"food-11/validation\", loader=lambda x: Image.open(x), extensions=\"jpg\", transform=test_tfm)\n",
        "# test_set = DatasetFolder(data_folder+\"food-11/testing\", loader=lambda x: Image.open(x), extensions=\"jpg\", transform=test_tfm)\n",
        "\n",
        "unlabeled_set = DatasetFolder(data_folder+\"food-11/training/unlabeled\", loader=lambda x: Image.open(x), extensions=\"jpg\", transform=train_tfm)\n",
        "unlabeled_set.classes = train_set.classes\n",
        "unlabeled_set.class_to_idx = train_set.class_to_idx\n",
        "\n",
        "# Construct data loaders.\n",
        "train_loader = DataLoader(train_set, batch_size=batch_size, shuffle=True, num_workers=8, pin_memory=True,drop_last=True)\n",
        "unlab_loader = DataLoader(unlabeled_set, batch_size=batch_size, shuffle=False, num_workers=8, pin_memory=True)\n",
        "valid_loader = DataLoader(valid_set, batch_size=batch_size, shuffle=True, num_workers=2, pin_memory=True)\n",
        "# test_loader = DataLoader(test_set, batch_size=batch_size, shuffle=False)"
      ],
      "execution_count": 6,
      "outputs": []
    },
    {
      "cell_type": "code",
      "execution_count": 7,
      "metadata": {},
      "outputs": [],
      "source": [
        "RANDOM_NUM = 32\n",
        "test_set = DatasetFolder(data_folder+\"food-11/testing\", loader=lambda x: Image.open(x), extensions=\"jpg\", transform=None)\n",
        "rd_test_set = RandomTransformDataset(test_set, train_tfm, random_time=RANDOM_NUM)\n",
        "rd_test_loader = DataLoader(rd_test_set, batch_size=batch_size//RANDOM_NUM*2, shuffle=False, num_workers=16)\n",
        "test_loader = DataLoader(DatasetFolder(data_folder+\"food-11/testing\", loader=lambda x: Image.open(x), extensions=\"jpg\", transform=test_tfm), batch_size=batch_size, shuffle=False, num_workers=16)\n"
      ]
    },
    {
      "cell_type": "markdown",
      "metadata": {
        "id": "j9YhZo7POPYG"
      },
      "source": [
        "## **Model**\n",
        "\n",
        "The basic model here is simply a stack of convolutional layers followed by some fully-connected layers.\n",
        "\n",
        "Since there are three channels for a color image (RGB), the input channels of the network must be three.\n",
        "In each convolutional layer, typically the channels of inputs grow, while the height and width shrink (or remain unchanged, according to some hyperparameters like stride and padding).\n",
        "\n",
        "Before fed into fully-connected layers, the feature map must be flattened into a single one-dimensional vector (for each image).\n",
        "These features are then transformed by the fully-connected layers, and finally, we obtain the \"logits\" for each class.\n",
        "\n",
        "### **WARNING -- You Must Know**\n",
        "You are free to modify the model architecture here for further improvement.\n",
        "However, if you want to use some well-known architectures such as ResNet50, please make sure **NOT** to load the pre-trained weights.\n",
        "Using such pre-trained models is considered cheating and therefore you will be punished.\n",
        "Similarly, it is your responsibility to make sure no pre-trained weights are used if you use **torch.hub** to load any modules.\n",
        "\n",
        "For example, if you use ResNet-18 as your model:\n",
        "\n",
        "model = torchvision.models.resnet18(pretrained=**False**) → This is fine.\n",
        "\n",
        "model = torchvision.models.resnet18(pretrained=**True**)  → This is **NOT** allowed."
      ]
    },
    {
      "cell_type": "code",
      "execution_count": 8,
      "metadata": {},
      "outputs": [],
      "source": [
        "class BlockConv2d(nn.Module):\n",
        "    def __init__(self, ch_in, ch_out, k, stride=1,\n",
        "            act=None, pooling=None, use_bn=True, drop=0, is_dconv=False, is_pad=True):\n",
        "\n",
        "        super(BlockConv2d, self).__init__()\n",
        "        pad = k//2 if is_pad else 0\n",
        "        if is_dconv:\n",
        "            conv = nn.ConvTranspose2d(ch_in, ch_out, k, padding=pad, stride=stride, output_padding=stride-1)\n",
        "        else:\n",
        "            conv = nn.Conv2d(ch_in, ch_out, k, padding=pad, stride=stride)\n",
        "            \n",
        "        list = [\n",
        "            conv\n",
        "        ]\n",
        "        if use_bn: list.append(nn.BatchNorm2d(ch_out))\n",
        "        if act: list.append(act)\n",
        "        if pooling: list.append(pooling)\n",
        "        if drop > 0: list.append(nn.Dropout2d(drop))\n",
        "        self.net = nn.Sequential(*list)\n",
        "\n",
        "    def forward(self, x):\n",
        "          return self.net(x)\n",
        "\n",
        "class BlockLinear(nn.Module):\n",
        "    def __init__(self, ch_in, ch_out, act=None, use_bn=True, drop=0):\n",
        "        super(BlockLinear, self).__init__()\n",
        "        list = [\n",
        "            nn.Linear(ch_in, ch_out)\n",
        "        ]\n",
        "        if use_bn: list.append(nn.BatchNorm1d(ch_out))\n",
        "        if act: list.append(act)\n",
        "        if drop > 0: list.append(nn.Dropout(drop))\n",
        "        self.net = nn.Sequential(*list)\n",
        "\n",
        "    def forward(self, x):\n",
        "          return self.net(x)"
      ]
    },
    {
      "cell_type": "code",
      "execution_count": 9,
      "metadata": {},
      "outputs": [],
      "source": [
        "# m = torchvision.models.resnext50_32x4d(pretrained=False)\n",
        "# for i, j in (m.state_dict().items()):\n",
        "    # print(i, \"\\t\", j.shape)\n",
        "# m.fc"
      ]
    },
    {
      "cell_type": "code",
      "metadata": {
        "id": "Y1c-GwrMQqMl"
      },
      "source": [
        "class Classifier(nn.Module):\n",
        "    def __init__(self, encoder=None):\n",
        "        super(Classifier, self).__init__()\n",
        "        # The arguments for commonly used modules:\n",
        "        # torch.nn.Conv2d(in_channels, out_channels, kernel_size, stride, padding)\n",
        "        # torch.nn.MaxPool2d(kernel_size, stride, padding)\n",
        "\n",
        "        # input image size: [3, 128, 128]\n",
        "        self.act = nn.ReLU()\n",
        "        if encoder:\n",
        "            self.encoder = torchvision.models.resnext50_32x4d(pretrained=False)\n",
        "            # self.encoder.fc = BlockLinear(512, 128, act=nn.ReLU(), use_bn=True)\n",
        "            # self.n = [512, 128]\n",
        "            self.n = [2048, 512, 128]\n",
        "            self.l = len(self.n)\n",
        "            fc = [\n",
        "                BlockLinear(self.n[i], self.n[i+1], act=nn.ReLU(), use_bn=True)\n",
        "                for i in range(self.l-1)\n",
        "            ]\n",
        "            self.encoder.fc = nn.Sequential(*fc)\n",
        "        else:\n",
        "        # \n",
        "            self.n_0 = [3] + [64]*2 + [128]*2 + [256]\n",
        "            self.k_0 = [3]*5\n",
        "            self.p_0 = [1, 2]*2+[4]\n",
        "            self.l_0 = len(self.k_0)\n",
        "            self.encoder = [\n",
        "                BlockConv2d(\n",
        "                    self.n_0[i], self.n_0[i+1], self.k_0[i], \n",
        "                    act=self.act, pooling=nn.MaxPool2d(self.p_0[i], self.p_0[i]),\n",
        "                    use_bn=True, drop=0.2)\n",
        "                for i in range(self.l_0)]\n",
        "            self.encoder = nn.Sequential(*self.encoder)\n",
        "\n",
        "        # 512x8x8\n",
        "        \n",
        "        self.out = nn.Linear(self.n[-1], 11)\n",
        "\n",
        "    def forward(self, x):\n",
        "        # input (x): [batch_size, 3, 128, 128]\n",
        "        # output: [batch_size, 11]\n",
        "        x = self.encoder(x)\n",
        "        # x = x.flatten(1)\n",
        "        # print(x.shape)\n",
        "        # x = self.fc(x)\n",
        "        x = self.out(x)\n",
        "        return x"
      ],
      "execution_count": 10,
      "outputs": []
    },
    {
      "cell_type": "markdown",
      "metadata": {
        "id": "aEnGbriXORN3"
      },
      "source": [
        "## **Training**\n",
        "\n",
        "You can finish supervised learning by simply running the provided code without any modification.\n",
        "\n",
        "The function \"get_pseudo_labels\" is used for semi-supervised learning.\n",
        "It is expected to get better performance if you use unlabeled data for semi-supervised learning.\n",
        "However, you have to implement the function on your own and need to adjust several hyperparameters manually.\n",
        "\n",
        "For more details about semi-supervised learning, please refer to [Prof. Lee's slides](https://speech.ee.ntu.edu.tw/~tlkagk/courses/ML_2016/Lecture/semi%20(v3).pdf).\n",
        "\n",
        "Again, please notice that utilizing external data (or pre-trained model) for training is **prohibited**."
      ]
    },
    {
      "cell_type": "code",
      "execution_count": 11,
      "metadata": {},
      "outputs": [],
      "source": [
        "# Explicitly define the psudolabels in Subset class\n",
        "def get_pseudosample(self, idx):\n",
        "    return self.dataset[self.indices[idx]][0], self.labels[idx]\n",
        "\n",
        "def init_pseudolabel(self, dataset, labels, indices):\n",
        "    self.dataset = dataset\n",
        "    self.labels = labels\n",
        "    self.indices = indices\n",
        "Subset.__getitem__ = get_pseudosample\n",
        "Subset.__init__ = init_pseudolabel"
      ]
    },
    {
      "cell_type": "code",
      "metadata": {
        "id": "swlf5EwA-hxA"
      },
      "source": [
        "def get_pseudo_labels(dataset, model, threshold=0.5):\n",
        "    # This functions generates pseudo-labels of a dataset using given model.\n",
        "    # It returns an instance of DatasetFolder containing images whose prediction confidences exceed a given threshold.\n",
        "    # You are NOT allowed to use any models trained on external data for pseudo-labeling.\n",
        "    device = \"cuda\" if torch.cuda.is_available() else \"cpu\"\n",
        "\n",
        "    # Make sure the model is in eval mode.\n",
        "    model.eval()\n",
        "    # Define softmax function.\n",
        "    softmax = nn.Softmax(dim=-1)\n",
        "    idx = []\n",
        "    targets = []\n",
        "    # Iterate over the dataset by batches.\n",
        "    for i, batch in tqdm(enumerate(unlab_loader), leave=False, desc='PseudoLabels'):\n",
        "        img, _ = batch\n",
        "        with torch.no_grad():\n",
        "            logits = model(img.to(device))\n",
        "\n",
        "        # Obtain the probability distributions by applying softmax on logits.\n",
        "        probs = softmax(logits)\n",
        "        st = torch.topk(probs, 2, dim=1)\n",
        "        \n",
        "        # ---------- TODO ----------\n",
        "        # Filter the data and construct a new dataset.\n",
        "        probs1 = st[0][:, 0]\n",
        "        # probs2 = st[0][:, 1]\n",
        "        # select = (probs1 > threshold) & ((probs1-probs2) > .25)\n",
        "        select = (probs1 > threshold)\n",
        "        targets += st[1][select, 0].tolist()\n",
        "        idx += (torch.where(select)[0] + batch_size*i).tolist()\n",
        "\n",
        "    # custom subset\n",
        "    new = Subset(dataset, targets, idx)\n",
        "    model.train()\n",
        "    return new"
      ],
      "execution_count": 12,
      "outputs": []
    },
    {
      "cell_type": "code",
      "execution_count": 13,
      "metadata": {},
      "outputs": [
        {
          "output_type": "stream",
          "name": "stdout",
          "text": [
            "remove log\n"
          ]
        }
      ],
      "source": [
        "log_path = 'log'\n",
        "if log_path in os.listdir():\n",
        "    os.remove(log_path)\n",
        "    print('remove log')\n",
        "log = open(log_path, 'a')"
      ]
    },
    {
      "cell_type": "code",
      "metadata": {
        "id": "PHaFE-8oQtkC",
        "tags": []
      },
      "source": [
        "device = \"cuda\" if torch.cuda.is_available() else \"cpu\"\n",
        "model_path = \"./model.ckpt\"\n",
        "\n",
        "try:\n",
        "    model = Classifier(1).to(device)\n",
        "except NameError:\n",
        "    print(\"Use new encoder\")\n",
        "    model = Classifier().to(device)\n",
        "# model.load_state_dict(torch.load(model_path))\n",
        "\n",
        "\n",
        "criterion = nn.CrossEntropyLoss()\n",
        "optimizer = torch.optim.Adam(model.parameters(), lr=1e-3, weight_decay=1e-4)\n",
        "lr_scheduler = torch.optim.lr_scheduler.ReduceLROnPlateau(\n",
        "    optimizer, mode='max', factor=0.8, patience=8, threshold=2e-4, min_lr=1e-5, verbose=True\n",
        ")\n",
        "\n",
        "\n",
        "n_epochs = 200\n",
        "best_acc = 0\n",
        "valid_acc = 0\n",
        "\n",
        "best_semi = 0\n",
        "semi_flg = False\n",
        "semi_count = 0\n",
        "\n",
        "loader = train_loader\n",
        "for epoch in range(n_epochs):\n",
        "    # ---------- TODO ----------\n",
        "    # In each epoch, relabel the unlabeled dataset for semi-supervised learning.\n",
        "    # Then you can combine the labeled dataset and pseudo-labeled dataset for the training.\n",
        "    if valid_acc >= .65:\n",
        "    # if False:\n",
        "    # if True:\n",
        "        # Otain pseudo-labels for unlabeled data using trained model.\n",
        "        pseudo_set = get_pseudo_labels(unlabeled_set, model, threshold=0.7)\n",
        "\n",
        "        # Construct a new dataset and a data loader for training.\n",
        "        # This is used in semi-supervised learning only.\n",
        "        concat_dataset = ConcatDataset([train_set, pseudo_set])\n",
        "        loader = DataLoader(concat_dataset, batch_size=batch_size, shuffle=True, num_workers=8, pin_memory=True, drop_last=True)\n",
        "        semi_flg = True\n",
        "        best_semi = 0\n",
        "        log_str = f\"Use pseudo label: {len(concat_dataset)}\"\n",
        "        print(log_str)\n",
        "        log.write(log_str+\"\\n\")\n",
        "    else:\n",
        "        loader = train_loader\n",
        "\n",
        "    # if semi_count >= 5:\n",
        "    #     loader = train_loader\n",
        "    #     semi_flg = False\n",
        "    #     semi_count = 0\n",
        "    #     log_str = \"Abort pseudo label\"\n",
        "    #     print(log_str)\n",
        "    #     log.write(log_str+\"\\n\")\n",
        "\n",
        "    # ---------- Training ----------\n",
        "    model.train()\n",
        "\n",
        "    train_loss = []\n",
        "    train_accs = []\n",
        "\n",
        "    # for batch in train_loader:\n",
        "    for batch in tqdm(loader, desc='Train', leave=False):\n",
        "\n",
        "        imgs, labels = batch\n",
        "        logits = model(imgs.to(device))\n",
        "        loss = criterion(logits, labels.to(device))\n",
        "        optimizer.zero_grad()\n",
        "        loss.backward()\n",
        "        grad_norm = nn.utils.clip_grad_norm_(model.parameters(), max_norm=10)\n",
        "        optimizer.step()\n",
        "\n",
        "        acc = (logits.argmax(dim=-1) == labels.to(device)).float().mean()\n",
        "        train_loss.append(loss.item())\n",
        "        train_accs.append(acc)\n",
        "\n",
        "    train_loss = sum(train_loss) / len(train_loss)\n",
        "    train_acc = sum(train_accs) / len(train_accs)\n",
        "\n",
        "    log_str1 = (f\"[ Train | {epoch + 1:03d}/{n_epochs:03d} ] loss = {train_loss:.5f}, acc = {train_acc:.5f}\")\n",
        "    # print(log)\n",
        "    # ---------- Validation ----------\n",
        "    model.eval()\n",
        "    \n",
        "    valid_loss = []\n",
        "    valid_accs = []\n",
        "\n",
        "    # for batch in valid_loader:\n",
        "    for batch in tqdm(valid_loader, desc='Valid', leave=False):\n",
        "        imgs, labels = batch\n",
        "        imgs = imgs.to(device)\n",
        "        with torch.no_grad():\n",
        "          logits = model(imgs)\n",
        "\n",
        "        loss = criterion(logits, labels.to(device))\n",
        "        acc = (logits.argmax(dim=-1) == labels.to(device)).float().mean()\n",
        "        valid_loss.append(loss.item())\n",
        "        valid_accs.append(acc)\n",
        "\n",
        "    valid_loss = sum(valid_loss) / len(valid_loss)\n",
        "    valid_acc = sum(valid_accs) / len(valid_accs)\n",
        "    if valid_acc >= best_acc:\n",
        "        best_acc = valid_acc\n",
        "        best_model = model.state_dict()\n",
        "        torch.save(model.state_dict(), model_path)\n",
        "        log_str = ('saving model with acc {:.3f}'.format(best_acc))\n",
        "        print(log_str)\n",
        "        log.write(log_str+\"\\n\")\n",
        "        semi_count = 0\n",
        "    \n",
        "    # semi early stop\n",
        "    # if semi_flg:\n",
        "    #     if valid_acc > best_semi:\n",
        "    #         best_semi = valid_acc\n",
        "    #         semi_count = 0\n",
        "    #     else:\n",
        "    #         semi_count += 1\n",
        "\n",
        "    log_str1 += f\"\\t[ Valid\\t| {epoch + 1:03d}/{n_epochs:03d} ]  loss = {valid_loss:.5f}, acc = {valid_acc:.5f}\"\n",
        "    print(log_str1)\n",
        "    log.write(log_str1+\"\\n\")\n",
        "    log.flush()\n",
        "    lr_scheduler.step(valid_acc)\n",
        "    # print(f\"[ Valid\\t| {epoch + 1:03d}/{n_epochs:03d} ] ae_loss = {valid_ae:.5f}, loss = {valid_loss:.5f}, acc = {valid_acc:.5f}\")"
      ],
      "execution_count": 20,
      "outputs": [
        {
          "output_type": "display_data",
          "data": {
            "text/plain": "Train:   0%|          | 0/24 [00:00<?, ?it/s]",
            "application/vnd.jupyter.widget-view+json": {
              "version_major": 2,
              "version_minor": 0,
              "model_id": "700b62362d8242ffb4a19d0279cba5f8"
            }
          },
          "metadata": {}
        },
        {
          "output_type": "display_data",
          "data": {
            "text/plain": "Valid:   0%|          | 0/6 [00:00<?, ?it/s]",
            "application/vnd.jupyter.widget-view+json": {
              "version_major": 2,
              "version_minor": 0,
              "model_id": "4f1eec2b53a5451fa2217b4836ef981c"
            }
          },
          "metadata": {}
        },
        {
          "output_type": "stream",
          "name": "stdout",
          "text": [
            "saving model with acc 0.730\n[ Train | 001/200 ] loss = 0.23250, acc = 0.92253\t[ Valid\t| 001/200 ]  loss = 1.22877, acc = 0.73047\n"
          ]
        },
        {
          "output_type": "display_data",
          "data": {
            "text/plain": "PseudoLabels: 0it [00:00, ?it/s]",
            "application/vnd.jupyter.widget-view+json": {
              "version_major": 2,
              "version_minor": 0,
              "model_id": "2c0c2557dd094028859319155a6578b5"
            }
          },
          "metadata": {}
        },
        {
          "output_type": "stream",
          "name": "stdout",
          "text": [
            "Use pseudo label: 8344\n"
          ]
        },
        {
          "output_type": "display_data",
          "data": {
            "text/plain": "Train:   0%|          | 0/65 [00:00<?, ?it/s]",
            "application/vnd.jupyter.widget-view+json": {
              "version_major": 2,
              "version_minor": 0,
              "model_id": "0de24c3b5cc2422e972abefeb19738f7"
            }
          },
          "metadata": {}
        },
        {
          "output_type": "display_data",
          "data": {
            "text/plain": "Valid:   0%|          | 0/6 [00:00<?, ?it/s]",
            "application/vnd.jupyter.widget-view+json": {
              "version_major": 2,
              "version_minor": 0,
              "model_id": "4ba6103c927a4ab08c0516aabb1f7192"
            }
          },
          "metadata": {}
        },
        {
          "output_type": "stream",
          "name": "stdout",
          "text": [
            "[ Train | 002/200 ] loss = 0.67673, acc = 0.80072\t[ Valid\t| 002/200 ]  loss = 1.54019, acc = 0.69766\n"
          ]
        },
        {
          "output_type": "display_data",
          "data": {
            "text/plain": "PseudoLabels: 0it [00:00, ?it/s]",
            "application/vnd.jupyter.widget-view+json": {
              "version_major": 2,
              "version_minor": 0,
              "model_id": "a24aa8914c534c549ebea5dddb089f6f"
            }
          },
          "metadata": {}
        },
        {
          "output_type": "stream",
          "name": "stdout",
          "text": [
            "Use pseudo label: 8036\n"
          ]
        },
        {
          "output_type": "display_data",
          "data": {
            "text/plain": "Train:   0%|          | 0/62 [00:00<?, ?it/s]",
            "application/vnd.jupyter.widget-view+json": {
              "version_major": 2,
              "version_minor": 0,
              "model_id": "10bc3610df7c4e21a09ef364fbf6f9fb"
            }
          },
          "metadata": {}
        },
        {
          "output_type": "display_data",
          "data": {
            "text/plain": "Valid:   0%|          | 0/6 [00:00<?, ?it/s]",
            "application/vnd.jupyter.widget-view+json": {
              "version_major": 2,
              "version_minor": 0,
              "model_id": "d56d1410279648fa9151f2f9c4e8601e"
            }
          },
          "metadata": {}
        },
        {
          "output_type": "stream",
          "name": "stdout",
          "text": [
            "[ Train | 003/200 ] loss = 0.54754, acc = 0.82271\t[ Valid\t| 003/200 ]  loss = 1.29909, acc = 0.70755\n"
          ]
        },
        {
          "output_type": "display_data",
          "data": {
            "text/plain": "PseudoLabels: 0it [00:00, ?it/s]",
            "application/vnd.jupyter.widget-view+json": {
              "version_major": 2,
              "version_minor": 0,
              "model_id": "714d6a5ed18b41cc9aff3b6f59da53f1"
            }
          },
          "metadata": {}
        },
        {
          "output_type": "stream",
          "name": "stdout",
          "text": [
            "Use pseudo label: 7948\n"
          ]
        },
        {
          "output_type": "display_data",
          "data": {
            "text/plain": "Train:   0%|          | 0/62 [00:00<?, ?it/s]",
            "application/vnd.jupyter.widget-view+json": {
              "version_major": 2,
              "version_minor": 0,
              "model_id": "f53b719d6cee4f80b21faf99e2c888a9"
            }
          },
          "metadata": {}
        },
        {
          "output_type": "display_data",
          "data": {
            "text/plain": "Valid:   0%|          | 0/6 [00:00<?, ?it/s]",
            "application/vnd.jupyter.widget-view+json": {
              "version_major": 2,
              "version_minor": 0,
              "model_id": "7ca2f4125e1e4adbbef46ef10f8cc9f3"
            }
          },
          "metadata": {}
        },
        {
          "output_type": "stream",
          "name": "stdout",
          "text": [
            "saving model with acc 0.735\n[ Train | 004/200 ] loss = 0.54586, acc = 0.81842\t[ Valid\t| 004/200 ]  loss = 0.98844, acc = 0.73490\n"
          ]
        },
        {
          "output_type": "display_data",
          "data": {
            "text/plain": "PseudoLabels: 0it [00:00, ?it/s]",
            "application/vnd.jupyter.widget-view+json": {
              "version_major": 2,
              "version_minor": 0,
              "model_id": "54f25a7837964ce28b15e573f195678b"
            }
          },
          "metadata": {}
        },
        {
          "output_type": "stream",
          "name": "stdout",
          "text": [
            "Use pseudo label: 7772\n"
          ]
        },
        {
          "output_type": "display_data",
          "data": {
            "text/plain": "Train:   0%|          | 0/60 [00:00<?, ?it/s]",
            "application/vnd.jupyter.widget-view+json": {
              "version_major": 2,
              "version_minor": 0,
              "model_id": "3ee8868620b9416a8941e7f2a7531764"
            }
          },
          "metadata": {}
        },
        {
          "output_type": "display_data",
          "data": {
            "text/plain": "Valid:   0%|          | 0/6 [00:00<?, ?it/s]",
            "application/vnd.jupyter.widget-view+json": {
              "version_major": 2,
              "version_minor": 0,
              "model_id": "1badfd0ce6f0494f9f1f49d1afb7a7a9"
            }
          },
          "metadata": {}
        },
        {
          "output_type": "stream",
          "name": "stdout",
          "text": [
            "[ Train | 005/200 ] loss = 0.40190, acc = 0.86667\t[ Valid\t| 005/200 ]  loss = 1.10860, acc = 0.71510\n"
          ]
        },
        {
          "output_type": "display_data",
          "data": {
            "text/plain": "PseudoLabels: 0it [00:00, ?it/s]",
            "application/vnd.jupyter.widget-view+json": {
              "version_major": 2,
              "version_minor": 0,
              "model_id": "220f66f5d14b409fb3d436c14855646e"
            }
          },
          "metadata": {}
        },
        {
          "output_type": "stream",
          "name": "stdout",
          "text": [
            "Use pseudo label: 7760\n"
          ]
        },
        {
          "output_type": "display_data",
          "data": {
            "text/plain": "Train:   0%|          | 0/60 [00:00<?, ?it/s]",
            "application/vnd.jupyter.widget-view+json": {
              "version_major": 2,
              "version_minor": 0,
              "model_id": "ca914db535354a6d850e5c85b06693be"
            }
          },
          "metadata": {}
        },
        {
          "output_type": "display_data",
          "data": {
            "text/plain": "Valid:   0%|          | 0/6 [00:00<?, ?it/s]",
            "application/vnd.jupyter.widget-view+json": {
              "version_major": 2,
              "version_minor": 0,
              "model_id": "b30f8e69960f4a3a8d9962316509cfd4"
            }
          },
          "metadata": {}
        },
        {
          "output_type": "stream",
          "name": "stdout",
          "text": [
            "[ Train | 006/200 ] loss = 0.41435, acc = 0.86563\t[ Valid\t| 006/200 ]  loss = 1.07993, acc = 0.73359\n"
          ]
        },
        {
          "output_type": "display_data",
          "data": {
            "text/plain": "PseudoLabels: 0it [00:00, ?it/s]",
            "application/vnd.jupyter.widget-view+json": {
              "version_major": 2,
              "version_minor": 0,
              "model_id": "5bb15b5f9f4d41938b83567d7aa41eaa"
            }
          },
          "metadata": {}
        },
        {
          "output_type": "stream",
          "name": "stdout",
          "text": [
            "Use pseudo label: 7880\n"
          ]
        },
        {
          "output_type": "display_data",
          "data": {
            "text/plain": "Train:   0%|          | 0/61 [00:00<?, ?it/s]",
            "application/vnd.jupyter.widget-view+json": {
              "version_major": 2,
              "version_minor": 0,
              "model_id": "4963ed11804c4a1897718d448b584767"
            }
          },
          "metadata": {}
        },
        {
          "output_type": "display_data",
          "data": {
            "text/plain": "Valid:   0%|          | 0/6 [00:00<?, ?it/s]",
            "application/vnd.jupyter.widget-view+json": {
              "version_major": 2,
              "version_minor": 0,
              "model_id": "ea5d9a033b0a4b768225ba72d75d368e"
            }
          },
          "metadata": {}
        },
        {
          "output_type": "stream",
          "name": "stdout",
          "text": [
            "[ Train | 007/200 ] loss = 0.45888, acc = 0.85336\t[ Valid\t| 007/200 ]  loss = 1.21655, acc = 0.71641\n"
          ]
        },
        {
          "output_type": "display_data",
          "data": {
            "text/plain": "PseudoLabels: 0it [00:00, ?it/s]",
            "application/vnd.jupyter.widget-view+json": {
              "version_major": 2,
              "version_minor": 0,
              "model_id": "32d964b3d8704bd38ef9e443a1e9f1e5"
            }
          },
          "metadata": {}
        },
        {
          "output_type": "stream",
          "name": "stdout",
          "text": [
            "Use pseudo label: 7885\n"
          ]
        },
        {
          "output_type": "display_data",
          "data": {
            "text/plain": "Train:   0%|          | 0/61 [00:00<?, ?it/s]",
            "application/vnd.jupyter.widget-view+json": {
              "version_major": 2,
              "version_minor": 0,
              "model_id": "134b7deb953846dd8a700c1fff1c60d0"
            }
          },
          "metadata": {}
        },
        {
          "output_type": "display_data",
          "data": {
            "text/plain": "Valid:   0%|          | 0/6 [00:00<?, ?it/s]",
            "application/vnd.jupyter.widget-view+json": {
              "version_major": 2,
              "version_minor": 0,
              "model_id": "0e2a312ec03f4c32971406978d41a3a3"
            }
          },
          "metadata": {}
        },
        {
          "output_type": "stream",
          "name": "stdout",
          "text": [
            "[ Train | 008/200 ] loss = 0.42675, acc = 0.85873\t[ Valid\t| 008/200 ]  loss = 0.85568, acc = 0.73047\n"
          ]
        },
        {
          "output_type": "display_data",
          "data": {
            "text/plain": "PseudoLabels: 0it [00:00, ?it/s]",
            "application/vnd.jupyter.widget-view+json": {
              "version_major": 2,
              "version_minor": 0,
              "model_id": "0ac8582fdf1d4830aa5aac465e2e2c45"
            }
          },
          "metadata": {}
        },
        {
          "output_type": "stream",
          "name": "stdout",
          "text": [
            "Use pseudo label: 7879\n"
          ]
        },
        {
          "output_type": "display_data",
          "data": {
            "text/plain": "Train:   0%|          | 0/61 [00:00<?, ?it/s]",
            "application/vnd.jupyter.widget-view+json": {
              "version_major": 2,
              "version_minor": 0,
              "model_id": "304876433ffe402c9ee8dd90c2cc4eed"
            }
          },
          "metadata": {}
        },
        {
          "output_type": "display_data",
          "data": {
            "text/plain": "Valid:   0%|          | 0/6 [00:00<?, ?it/s]",
            "application/vnd.jupyter.widget-view+json": {
              "version_major": 2,
              "version_minor": 0,
              "model_id": "92c4a98b79214fff98e2a092d40c1113"
            }
          },
          "metadata": {}
        },
        {
          "output_type": "stream",
          "name": "stdout",
          "text": [
            "[ Train | 009/200 ] loss = 0.40306, acc = 0.86860\t[ Valid\t| 009/200 ]  loss = 1.11800, acc = 0.68828\n"
          ]
        },
        {
          "output_type": "display_data",
          "data": {
            "text/plain": "PseudoLabels: 0it [00:00, ?it/s]",
            "application/vnd.jupyter.widget-view+json": {
              "version_major": 2,
              "version_minor": 0,
              "model_id": "99a6fe064d914e8d9f332d15ba5300b9"
            }
          },
          "metadata": {}
        },
        {
          "output_type": "stream",
          "name": "stdout",
          "text": [
            "Use pseudo label: 7646\n"
          ]
        },
        {
          "output_type": "display_data",
          "data": {
            "text/plain": "Train:   0%|          | 0/59 [00:00<?, ?it/s]",
            "application/vnd.jupyter.widget-view+json": {
              "version_major": 2,
              "version_minor": 0,
              "model_id": "82e2df5878a94e0c9ce492e4caa0425e"
            }
          },
          "metadata": {}
        },
        {
          "output_type": "display_data",
          "data": {
            "text/plain": "Valid:   0%|          | 0/6 [00:00<?, ?it/s]",
            "application/vnd.jupyter.widget-view+json": {
              "version_major": 2,
              "version_minor": 0,
              "model_id": "abe6576a41fd45da8bf5135e2298d92d"
            }
          },
          "metadata": {}
        },
        {
          "output_type": "stream",
          "name": "stdout",
          "text": [
            "[ Train | 010/200 ] loss = 0.56057, acc = 0.81727\t[ Valid\t| 010/200 ]  loss = 1.03208, acc = 0.72604\n"
          ]
        },
        {
          "output_type": "display_data",
          "data": {
            "text/plain": "PseudoLabels: 0it [00:00, ?it/s]",
            "application/vnd.jupyter.widget-view+json": {
              "version_major": 2,
              "version_minor": 0,
              "model_id": "64de1c2e05d648b4b9f1c8b3808f0556"
            }
          },
          "metadata": {}
        },
        {
          "output_type": "stream",
          "name": "stdout",
          "text": [
            "Use pseudo label: 7725\n"
          ]
        },
        {
          "output_type": "display_data",
          "data": {
            "text/plain": "Train:   0%|          | 0/60 [00:00<?, ?it/s]",
            "application/vnd.jupyter.widget-view+json": {
              "version_major": 2,
              "version_minor": 0,
              "model_id": "9c2177d88d264746bdc07ce43f80ccc7"
            }
          },
          "metadata": {}
        },
        {
          "output_type": "display_data",
          "data": {
            "text/plain": "Valid:   0%|          | 0/6 [00:00<?, ?it/s]",
            "application/vnd.jupyter.widget-view+json": {
              "version_major": 2,
              "version_minor": 0,
              "model_id": "83fcf06356794fbbb19fbcdf1b5bfb7e"
            }
          },
          "metadata": {}
        },
        {
          "output_type": "stream",
          "name": "stdout",
          "text": [
            "[ Train | 011/200 ] loss = 0.42721, acc = 0.85833\t[ Valid\t| 011/200 ]  loss = 1.08258, acc = 0.66120\n"
          ]
        },
        {
          "output_type": "display_data",
          "data": {
            "text/plain": "PseudoLabels: 0it [00:00, ?it/s]",
            "application/vnd.jupyter.widget-view+json": {
              "version_major": 2,
              "version_minor": 0,
              "model_id": "8b0f2ad640e549678051ded7506a0da1"
            }
          },
          "metadata": {}
        },
        {
          "output_type": "stream",
          "name": "stdout",
          "text": [
            "Use pseudo label: 7706\n"
          ]
        },
        {
          "output_type": "display_data",
          "data": {
            "text/plain": "Train:   0%|          | 0/60 [00:00<?, ?it/s]",
            "application/vnd.jupyter.widget-view+json": {
              "version_major": 2,
              "version_minor": 0,
              "model_id": "7f6f78eacdcf4d4d8f696f301b6fe655"
            }
          },
          "metadata": {}
        },
        {
          "output_type": "display_data",
          "data": {
            "text/plain": "Valid:   0%|          | 0/6 [00:00<?, ?it/s]",
            "application/vnd.jupyter.widget-view+json": {
              "version_major": 2,
              "version_minor": 0,
              "model_id": "b6aaf58ee1464ef9b3078fa081962eaa"
            }
          },
          "metadata": {}
        },
        {
          "output_type": "stream",
          "name": "stdout",
          "text": [
            "[ Train | 012/200 ] loss = 0.35712, acc = 0.88151\t[ Valid\t| 012/200 ]  loss = 1.19256, acc = 0.67292\n"
          ]
        },
        {
          "output_type": "display_data",
          "data": {
            "text/plain": "PseudoLabels: 0it [00:00, ?it/s]",
            "application/vnd.jupyter.widget-view+json": {
              "version_major": 2,
              "version_minor": 0,
              "model_id": "4756e04486164eb69afb6417f5307134"
            }
          },
          "metadata": {}
        },
        {
          "output_type": "stream",
          "name": "stdout",
          "text": [
            "Use pseudo label: 8005\n"
          ]
        },
        {
          "output_type": "display_data",
          "data": {
            "text/plain": "Train:   0%|          | 0/62 [00:00<?, ?it/s]",
            "application/vnd.jupyter.widget-view+json": {
              "version_major": 2,
              "version_minor": 0,
              "model_id": "7d1d2278598d4b16bd034e57484263c2"
            }
          },
          "metadata": {}
        },
        {
          "output_type": "display_data",
          "data": {
            "text/plain": "Valid:   0%|          | 0/6 [00:00<?, ?it/s]",
            "application/vnd.jupyter.widget-view+json": {
              "version_major": 2,
              "version_minor": 0,
              "model_id": "8b5c6ad2716a47ae9a22e4713bfd1544"
            }
          },
          "metadata": {}
        },
        {
          "output_type": "stream",
          "name": "stdout",
          "text": [
            "[ Train | 013/200 ] loss = 0.42321, acc = 0.85736\t[ Valid\t| 013/200 ]  loss = 1.17540, acc = 0.70677\nEpoch    13: reducing learning rate of group 0 to 8.0000e-04.\n"
          ]
        },
        {
          "output_type": "display_data",
          "data": {
            "text/plain": "PseudoLabels: 0it [00:00, ?it/s]",
            "application/vnd.jupyter.widget-view+json": {
              "version_major": 2,
              "version_minor": 0,
              "model_id": "a561fcafc8f24ce798414f7af577ccd0"
            }
          },
          "metadata": {}
        },
        {
          "output_type": "stream",
          "name": "stdout",
          "text": [
            "Use pseudo label: 7799\n"
          ]
        },
        {
          "output_type": "display_data",
          "data": {
            "text/plain": "Train:   0%|          | 0/60 [00:00<?, ?it/s]",
            "application/vnd.jupyter.widget-view+json": {
              "version_major": 2,
              "version_minor": 0,
              "model_id": "2bd6c41e0f1348d19344dec727d4949e"
            }
          },
          "metadata": {}
        },
        {
          "output_type": "display_data",
          "data": {
            "text/plain": "Valid:   0%|          | 0/6 [00:00<?, ?it/s]",
            "application/vnd.jupyter.widget-view+json": {
              "version_major": 2,
              "version_minor": 0,
              "model_id": "81e01467560149119732ba4e60feca49"
            }
          },
          "metadata": {}
        },
        {
          "output_type": "stream",
          "name": "stdout",
          "text": [
            "[ Train | 014/200 ] loss = 0.40974, acc = 0.86289\t[ Valid\t| 014/200 ]  loss = 1.03185, acc = 0.72214\n"
          ]
        },
        {
          "output_type": "display_data",
          "data": {
            "text/plain": "PseudoLabels: 0it [00:00, ?it/s]",
            "application/vnd.jupyter.widget-view+json": {
              "version_major": 2,
              "version_minor": 0,
              "model_id": "6d6cfe6877a54c95a639237e9baedf9f"
            }
          },
          "metadata": {}
        },
        {
          "output_type": "stream",
          "name": "stdout",
          "text": [
            "Use pseudo label: 7940\n"
          ]
        },
        {
          "output_type": "display_data",
          "data": {
            "text/plain": "Train:   0%|          | 0/62 [00:00<?, ?it/s]",
            "application/vnd.jupyter.widget-view+json": {
              "version_major": 2,
              "version_minor": 0,
              "model_id": "2b3bef602f8d4f2da36ec9d22f8466af"
            }
          },
          "metadata": {}
        },
        {
          "output_type": "display_data",
          "data": {
            "text/plain": "Valid:   0%|          | 0/6 [00:00<?, ?it/s]",
            "application/vnd.jupyter.widget-view+json": {
              "version_major": 2,
              "version_minor": 0,
              "model_id": "ad974614cf274fe593d8b6d254b6155d"
            }
          },
          "metadata": {}
        },
        {
          "output_type": "stream",
          "name": "stdout",
          "text": [
            "saving model with acc 0.740\n[ Train | 015/200 ] loss = 0.36900, acc = 0.87878\t[ Valid\t| 015/200 ]  loss = 0.90610, acc = 0.73984\n"
          ]
        },
        {
          "output_type": "display_data",
          "data": {
            "text/plain": "PseudoLabels: 0it [00:00, ?it/s]",
            "application/vnd.jupyter.widget-view+json": {
              "version_major": 2,
              "version_minor": 0,
              "model_id": "f11434c7e115432dad18d2e9f4f2259b"
            }
          },
          "metadata": {}
        },
        {
          "output_type": "stream",
          "name": "stdout",
          "text": [
            "Use pseudo label: 8145\n"
          ]
        },
        {
          "output_type": "display_data",
          "data": {
            "text/plain": "Train:   0%|          | 0/63 [00:00<?, ?it/s]",
            "application/vnd.jupyter.widget-view+json": {
              "version_major": 2,
              "version_minor": 0,
              "model_id": "2f4ae4205b5f43f18e30f7cfe1ae8681"
            }
          },
          "metadata": {}
        },
        {
          "output_type": "display_data",
          "data": {
            "text/plain": "Valid:   0%|          | 0/6 [00:00<?, ?it/s]",
            "application/vnd.jupyter.widget-view+json": {
              "version_major": 2,
              "version_minor": 0,
              "model_id": "9f77117effc84708ac1280d32b953145"
            }
          },
          "metadata": {}
        },
        {
          "output_type": "stream",
          "name": "stdout",
          "text": [
            "saving model with acc 0.759\n[ Train | 016/200 ] loss = 0.35100, acc = 0.88430\t[ Valid\t| 016/200 ]  loss = 0.89852, acc = 0.75911\n"
          ]
        },
        {
          "output_type": "display_data",
          "data": {
            "text/plain": "PseudoLabels: 0it [00:00, ?it/s]",
            "application/vnd.jupyter.widget-view+json": {
              "version_major": 2,
              "version_minor": 0,
              "model_id": "cdd5ce6ec8dc4e43b9fc8bddda7e743e"
            }
          },
          "metadata": {}
        },
        {
          "output_type": "stream",
          "name": "stdout",
          "text": [
            "Use pseudo label: 8163\n"
          ]
        },
        {
          "output_type": "display_data",
          "data": {
            "text/plain": "Train:   0%|          | 0/63 [00:00<?, ?it/s]",
            "application/vnd.jupyter.widget-view+json": {
              "version_major": 2,
              "version_minor": 0,
              "model_id": "352f7662edf64507b79e2e954fd5e172"
            }
          },
          "metadata": {}
        },
        {
          "output_type": "display_data",
          "data": {
            "text/plain": "Valid:   0%|          | 0/6 [00:00<?, ?it/s]",
            "application/vnd.jupyter.widget-view+json": {
              "version_major": 2,
              "version_minor": 0,
              "model_id": "cc44775852074c87be059740bb435eda"
            }
          },
          "metadata": {}
        },
        {
          "output_type": "stream",
          "name": "stdout",
          "text": [
            "saving model with acc 0.765\n[ Train | 017/200 ] loss = 0.37120, acc = 0.87773\t[ Valid\t| 017/200 ]  loss = 0.89936, acc = 0.76484\n"
          ]
        },
        {
          "output_type": "display_data",
          "data": {
            "text/plain": "PseudoLabels: 0it [00:00, ?it/s]",
            "application/vnd.jupyter.widget-view+json": {
              "version_major": 2,
              "version_minor": 0,
              "model_id": "45ec183985344d15989913f87b361d22"
            }
          },
          "metadata": {}
        },
        {
          "output_type": "stream",
          "name": "stdout",
          "text": [
            "Use pseudo label: 8103\n"
          ]
        },
        {
          "output_type": "display_data",
          "data": {
            "text/plain": "Train:   0%|          | 0/63 [00:00<?, ?it/s]",
            "application/vnd.jupyter.widget-view+json": {
              "version_major": 2,
              "version_minor": 0,
              "model_id": "6ae0604d84e14bfc952c0af0a098720a"
            }
          },
          "metadata": {}
        },
        {
          "output_type": "display_data",
          "data": {
            "text/plain": "Valid:   0%|          | 0/6 [00:00<?, ?it/s]",
            "application/vnd.jupyter.widget-view+json": {
              "version_major": 2,
              "version_minor": 0,
              "model_id": "dbd20a63d74847f69d2b080d8e1221c9"
            }
          },
          "metadata": {}
        },
        {
          "output_type": "stream",
          "name": "stdout",
          "text": [
            "[ Train | 018/200 ] loss = 0.35830, acc = 0.87748\t[ Valid\t| 018/200 ]  loss = 0.87481, acc = 0.74740\n"
          ]
        },
        {
          "output_type": "display_data",
          "data": {
            "text/plain": "PseudoLabels: 0it [00:00, ?it/s]",
            "application/vnd.jupyter.widget-view+json": {
              "version_major": 2,
              "version_minor": 0,
              "model_id": "e4a02aba14464d4999bf67656b4abe37"
            }
          },
          "metadata": {}
        },
        {
          "output_type": "stream",
          "name": "stdout",
          "text": [
            "Use pseudo label: 8187\n"
          ]
        },
        {
          "output_type": "display_data",
          "data": {
            "text/plain": "Train:   0%|          | 0/63 [00:00<?, ?it/s]",
            "application/vnd.jupyter.widget-view+json": {
              "version_major": 2,
              "version_minor": 0,
              "model_id": "42f2bdb5a7294415bed84c4088acfc9b"
            }
          },
          "metadata": {}
        },
        {
          "output_type": "display_data",
          "data": {
            "text/plain": "Valid:   0%|          | 0/6 [00:00<?, ?it/s]",
            "application/vnd.jupyter.widget-view+json": {
              "version_major": 2,
              "version_minor": 0,
              "model_id": "e1853b3efea340c3a3d5705c26f138d9"
            }
          },
          "metadata": {}
        },
        {
          "output_type": "stream",
          "name": "stdout",
          "text": [
            "[ Train | 019/200 ] loss = 0.35770, acc = 0.88256\t[ Valid\t| 019/200 ]  loss = 0.93618, acc = 0.73438\n"
          ]
        },
        {
          "output_type": "display_data",
          "data": {
            "text/plain": "PseudoLabels: 0it [00:00, ?it/s]",
            "application/vnd.jupyter.widget-view+json": {
              "version_major": 2,
              "version_minor": 0,
              "model_id": "7ea75855d4224cd3b6a081f4222bd9ac"
            }
          },
          "metadata": {}
        },
        {
          "output_type": "stream",
          "name": "stdout",
          "text": [
            "Use pseudo label: 8266\n"
          ]
        },
        {
          "output_type": "display_data",
          "data": {
            "text/plain": "Train:   0%|          | 0/64 [00:00<?, ?it/s]",
            "application/vnd.jupyter.widget-view+json": {
              "version_major": 2,
              "version_minor": 0,
              "model_id": "ed5f0b30d9b443e795f2fc20ce573e19"
            }
          },
          "metadata": {}
        },
        {
          "output_type": "display_data",
          "data": {
            "text/plain": "Valid:   0%|          | 0/6 [00:00<?, ?it/s]",
            "application/vnd.jupyter.widget-view+json": {
              "version_major": 2,
              "version_minor": 0,
              "model_id": "1619f5a02731414297998229a5b04b6c"
            }
          },
          "metadata": {}
        },
        {
          "output_type": "stream",
          "name": "stdout",
          "text": [
            "saving model with acc 0.783\n[ Train | 020/200 ] loss = 0.40703, acc = 0.86548\t[ Valid\t| 020/200 ]  loss = 0.73980, acc = 0.78333\n"
          ]
        },
        {
          "output_type": "display_data",
          "data": {
            "text/plain": "PseudoLabels: 0it [00:00, ?it/s]",
            "application/vnd.jupyter.widget-view+json": {
              "version_major": 2,
              "version_minor": 0,
              "model_id": "dcc0957b5ace45c8839fce959337f7f2"
            }
          },
          "metadata": {}
        },
        {
          "output_type": "stream",
          "name": "stdout",
          "text": [
            "Use pseudo label: 8221\n"
          ]
        },
        {
          "output_type": "display_data",
          "data": {
            "text/plain": "Train:   0%|          | 0/64 [00:00<?, ?it/s]",
            "application/vnd.jupyter.widget-view+json": {
              "version_major": 2,
              "version_minor": 0,
              "model_id": "fa92d68cb46646ac99230ec4205279a1"
            }
          },
          "metadata": {}
        },
        {
          "output_type": "display_data",
          "data": {
            "text/plain": "Valid:   0%|          | 0/6 [00:00<?, ?it/s]",
            "application/vnd.jupyter.widget-view+json": {
              "version_major": 2,
              "version_minor": 0,
              "model_id": "a9e6cb04451a468b8932e74ed86ea3fd"
            }
          },
          "metadata": {}
        },
        {
          "output_type": "stream",
          "name": "stdout",
          "text": [
            "[ Train | 021/200 ] loss = 0.35722, acc = 0.88184\t[ Valid\t| 021/200 ]  loss = 0.97801, acc = 0.74349\n"
          ]
        },
        {
          "output_type": "display_data",
          "data": {
            "text/plain": "PseudoLabels: 0it [00:00, ?it/s]",
            "application/vnd.jupyter.widget-view+json": {
              "version_major": 2,
              "version_minor": 0,
              "model_id": "3014aed9e64b4fd5a5049bf615bd3364"
            }
          },
          "metadata": {}
        },
        {
          "output_type": "stream",
          "name": "stdout",
          "text": [
            "Use pseudo label: 8115\n"
          ]
        },
        {
          "output_type": "display_data",
          "data": {
            "text/plain": "Train:   0%|          | 0/63 [00:00<?, ?it/s]",
            "application/vnd.jupyter.widget-view+json": {
              "version_major": 2,
              "version_minor": 0,
              "model_id": "4ba43a4db66846b194187c8a8563243f"
            }
          },
          "metadata": {}
        },
        {
          "output_type": "display_data",
          "data": {
            "text/plain": "Valid:   0%|          | 0/6 [00:00<?, ?it/s]",
            "application/vnd.jupyter.widget-view+json": {
              "version_major": 2,
              "version_minor": 0,
              "model_id": "f66adc6d25a841bfbb4fe885703c35d4"
            }
          },
          "metadata": {}
        },
        {
          "output_type": "stream",
          "name": "stdout",
          "text": [
            "[ Train | 022/200 ] loss = 0.35816, acc = 0.87661\t[ Valid\t| 022/200 ]  loss = 0.96044, acc = 0.72708\n"
          ]
        },
        {
          "output_type": "display_data",
          "data": {
            "text/plain": "PseudoLabels: 0it [00:00, ?it/s]",
            "application/vnd.jupyter.widget-view+json": {
              "version_major": 2,
              "version_minor": 0,
              "model_id": "5ebb6baa656442ac87e6f1ea337e4104"
            }
          },
          "metadata": {}
        },
        {
          "output_type": "stream",
          "name": "stdout",
          "text": [
            "Use pseudo label: 8178\n"
          ]
        },
        {
          "output_type": "display_data",
          "data": {
            "text/plain": "Train:   0%|          | 0/63 [00:00<?, ?it/s]",
            "application/vnd.jupyter.widget-view+json": {
              "version_major": 2,
              "version_minor": 0,
              "model_id": "2b3dc964af8040c38edc89390b3d1082"
            }
          },
          "metadata": {}
        },
        {
          "output_type": "display_data",
          "data": {
            "text/plain": "Valid:   0%|          | 0/6 [00:00<?, ?it/s]",
            "application/vnd.jupyter.widget-view+json": {
              "version_major": 2,
              "version_minor": 0,
              "model_id": "cfd65347b8e04f13961ac5a7489dad6d"
            }
          },
          "metadata": {}
        },
        {
          "output_type": "stream",
          "name": "stdout",
          "text": [
            "[ Train | 023/200 ] loss = 0.37325, acc = 0.87674\t[ Valid\t| 023/200 ]  loss = 0.84732, acc = 0.75417\n"
          ]
        },
        {
          "output_type": "display_data",
          "data": {
            "text/plain": "PseudoLabels: 0it [00:00, ?it/s]",
            "application/vnd.jupyter.widget-view+json": {
              "version_major": 2,
              "version_minor": 0,
              "model_id": "be7621d272c94e68a3b4a69299064c40"
            }
          },
          "metadata": {}
        },
        {
          "output_type": "stream",
          "name": "stdout",
          "text": [
            "Use pseudo label: 8307\n"
          ]
        },
        {
          "output_type": "display_data",
          "data": {
            "text/plain": "Train:   0%|          | 0/64 [00:00<?, ?it/s]",
            "application/vnd.jupyter.widget-view+json": {
              "version_major": 2,
              "version_minor": 0,
              "model_id": "65696f07512c47a6a53055ffe4dac2b8"
            }
          },
          "metadata": {}
        },
        {
          "output_type": "display_data",
          "data": {
            "text/plain": "Valid:   0%|          | 0/6 [00:00<?, ?it/s]",
            "application/vnd.jupyter.widget-view+json": {
              "version_major": 2,
              "version_minor": 0,
              "model_id": "e95d9eff58a84061b8dba901b3973001"
            }
          },
          "metadata": {}
        },
        {
          "output_type": "stream",
          "name": "stdout",
          "text": [
            "[ Train | 024/200 ] loss = 0.35692, acc = 0.88086\t[ Valid\t| 024/200 ]  loss = 0.99859, acc = 0.73750\n"
          ]
        },
        {
          "output_type": "display_data",
          "data": {
            "text/plain": "PseudoLabels: 0it [00:00, ?it/s]",
            "application/vnd.jupyter.widget-view+json": {
              "version_major": 2,
              "version_minor": 0,
              "model_id": "c8b8fbb46fab42e4a7f54a4624725dad"
            }
          },
          "metadata": {}
        },
        {
          "output_type": "stream",
          "name": "stdout",
          "text": [
            "Use pseudo label: 8046\n"
          ]
        },
        {
          "output_type": "display_data",
          "data": {
            "text/plain": "Train:   0%|          | 0/62 [00:00<?, ?it/s]",
            "application/vnd.jupyter.widget-view+json": {
              "version_major": 2,
              "version_minor": 0,
              "model_id": "e78cafa2d7b34027aa8a2a5282c390ee"
            }
          },
          "metadata": {}
        },
        {
          "output_type": "display_data",
          "data": {
            "text/plain": "Valid:   0%|          | 0/6 [00:00<?, ?it/s]",
            "application/vnd.jupyter.widget-view+json": {
              "version_major": 2,
              "version_minor": 0,
              "model_id": "0bc2da53d2274663beeae77745481859"
            }
          },
          "metadata": {}
        },
        {
          "output_type": "stream",
          "name": "stdout",
          "text": [
            "[ Train | 025/200 ] loss = 0.37009, acc = 0.87500\t[ Valid\t| 025/200 ]  loss = 1.02018, acc = 0.73542\n"
          ]
        },
        {
          "output_type": "display_data",
          "data": {
            "text/plain": "PseudoLabels: 0it [00:00, ?it/s]",
            "application/vnd.jupyter.widget-view+json": {
              "version_major": 2,
              "version_minor": 0,
              "model_id": "27ed9bbeb7f74a4bbef4d8e949dcb8b1"
            }
          },
          "metadata": {}
        },
        {
          "output_type": "stream",
          "name": "stdout",
          "text": [
            "Use pseudo label: 7917\n"
          ]
        },
        {
          "output_type": "display_data",
          "data": {
            "text/plain": "Train:   0%|          | 0/61 [00:00<?, ?it/s]",
            "application/vnd.jupyter.widget-view+json": {
              "version_major": 2,
              "version_minor": 0,
              "model_id": "79c1def6d8204d6888249a79aa49c5cc"
            }
          },
          "metadata": {}
        },
        {
          "output_type": "display_data",
          "data": {
            "text/plain": "Valid:   0%|          | 0/6 [00:00<?, ?it/s]",
            "application/vnd.jupyter.widget-view+json": {
              "version_major": 2,
              "version_minor": 0,
              "model_id": "d597873d898841fca3b6ddd539d110d3"
            }
          },
          "metadata": {}
        },
        {
          "output_type": "stream",
          "name": "stdout",
          "text": [
            "[ Train | 026/200 ] loss = 0.40243, acc = 0.86616\t[ Valid\t| 026/200 ]  loss = 0.89265, acc = 0.72396\n"
          ]
        },
        {
          "output_type": "display_data",
          "data": {
            "text/plain": "PseudoLabels: 0it [00:00, ?it/s]",
            "application/vnd.jupyter.widget-view+json": {
              "version_major": 2,
              "version_minor": 0,
              "model_id": "b5db9b0d456140da9bdcd777e3614040"
            }
          },
          "metadata": {}
        },
        {
          "output_type": "stream",
          "name": "stdout",
          "text": [
            "Use pseudo label: 8051\n"
          ]
        },
        {
          "output_type": "display_data",
          "data": {
            "text/plain": "Train:   0%|          | 0/62 [00:00<?, ?it/s]",
            "application/vnd.jupyter.widget-view+json": {
              "version_major": 2,
              "version_minor": 0,
              "model_id": "4476991b998647e3a61ceeecb2471418"
            }
          },
          "metadata": {}
        },
        {
          "output_type": "display_data",
          "data": {
            "text/plain": "Valid:   0%|          | 0/6 [00:00<?, ?it/s]",
            "application/vnd.jupyter.widget-view+json": {
              "version_major": 2,
              "version_minor": 0,
              "model_id": "a9eccbe53e3f41e398e5cef0b8ed176f"
            }
          },
          "metadata": {}
        },
        {
          "output_type": "stream",
          "name": "stdout",
          "text": [
            "[ Train | 027/200 ] loss = 0.33182, acc = 0.88924\t[ Valid\t| 027/200 ]  loss = 0.89245, acc = 0.76276\n"
          ]
        },
        {
          "output_type": "display_data",
          "data": {
            "text/plain": "PseudoLabels: 0it [00:00, ?it/s]",
            "application/vnd.jupyter.widget-view+json": {
              "version_major": 2,
              "version_minor": 0,
              "model_id": "e53806bab3ef4150b927c4918ed634d0"
            }
          },
          "metadata": {}
        },
        {
          "output_type": "stream",
          "name": "stdout",
          "text": [
            "Use pseudo label: 8219\n"
          ]
        },
        {
          "output_type": "display_data",
          "data": {
            "text/plain": "Train:   0%|          | 0/64 [00:00<?, ?it/s]",
            "application/vnd.jupyter.widget-view+json": {
              "version_major": 2,
              "version_minor": 0,
              "model_id": "9d5b8518d61a40e5aab33fee08d63095"
            }
          },
          "metadata": {}
        },
        {
          "output_type": "display_data",
          "data": {
            "text/plain": "Valid:   0%|          | 0/6 [00:00<?, ?it/s]",
            "application/vnd.jupyter.widget-view+json": {
              "version_major": 2,
              "version_minor": 0,
              "model_id": "b2740150ac8445e78004db7cc6dfa1bd"
            }
          },
          "metadata": {}
        },
        {
          "output_type": "stream",
          "name": "stdout",
          "text": [
            "[ Train | 028/200 ] loss = 0.33860, acc = 0.88855\t[ Valid\t| 028/200 ]  loss = 0.86057, acc = 0.77083\n"
          ]
        },
        {
          "output_type": "display_data",
          "data": {
            "text/plain": "PseudoLabels: 0it [00:00, ?it/s]",
            "application/vnd.jupyter.widget-view+json": {
              "version_major": 2,
              "version_minor": 0,
              "model_id": "65eea844e3924a7d9c1d328f10127fdd"
            }
          },
          "metadata": {}
        },
        {
          "output_type": "stream",
          "name": "stdout",
          "text": [
            "Use pseudo label: 8187\n"
          ]
        },
        {
          "output_type": "display_data",
          "data": {
            "text/plain": "Train:   0%|          | 0/63 [00:00<?, ?it/s]",
            "application/vnd.jupyter.widget-view+json": {
              "version_major": 2,
              "version_minor": 0,
              "model_id": "d02755442abe4beda47e5837ae27772e"
            }
          },
          "metadata": {}
        },
        {
          "output_type": "display_data",
          "data": {
            "text/plain": "Valid:   0%|          | 0/6 [00:00<?, ?it/s]",
            "application/vnd.jupyter.widget-view+json": {
              "version_major": 2,
              "version_minor": 0,
              "model_id": "163ff6300cb94112a654fb907eb936aa"
            }
          },
          "metadata": {}
        },
        {
          "output_type": "stream",
          "name": "stdout",
          "text": [
            "[ Train | 029/200 ] loss = 0.33126, acc = 0.88938\t[ Valid\t| 029/200 ]  loss = 0.87497, acc = 0.74609\nEpoch    29: reducing learning rate of group 0 to 6.4000e-04.\n"
          ]
        },
        {
          "output_type": "display_data",
          "data": {
            "text/plain": "PseudoLabels: 0it [00:00, ?it/s]",
            "application/vnd.jupyter.widget-view+json": {
              "version_major": 2,
              "version_minor": 0,
              "model_id": "da0cebe98de346fc9d07e9e488b10145"
            }
          },
          "metadata": {}
        },
        {
          "output_type": "stream",
          "name": "stdout",
          "text": [
            "Use pseudo label: 8045\n"
          ]
        },
        {
          "output_type": "display_data",
          "data": {
            "text/plain": "Train:   0%|          | 0/62 [00:00<?, ?it/s]",
            "application/vnd.jupyter.widget-view+json": {
              "version_major": 2,
              "version_minor": 0,
              "model_id": "d577055f785c43d18b4bee733d7f3ce4"
            }
          },
          "metadata": {}
        },
        {
          "output_type": "display_data",
          "data": {
            "text/plain": "Valid:   0%|          | 0/6 [00:00<?, ?it/s]",
            "application/vnd.jupyter.widget-view+json": {
              "version_major": 2,
              "version_minor": 0,
              "model_id": "32e8bd2bbb0e4520a6ee01f1ea06b817"
            }
          },
          "metadata": {}
        },
        {
          "output_type": "stream",
          "name": "stdout",
          "text": [
            "[ Train | 030/200 ] loss = 0.35732, acc = 0.88558\t[ Valid\t| 030/200 ]  loss = 0.96004, acc = 0.73464\n"
          ]
        },
        {
          "output_type": "display_data",
          "data": {
            "text/plain": "PseudoLabels: 0it [00:00, ?it/s]",
            "application/vnd.jupyter.widget-view+json": {
              "version_major": 2,
              "version_minor": 0,
              "model_id": "3420941a7cf54b97ba8f615b31272cd3"
            }
          },
          "metadata": {}
        },
        {
          "output_type": "stream",
          "name": "stdout",
          "text": [
            "Use pseudo label: 8098\n"
          ]
        },
        {
          "output_type": "display_data",
          "data": {
            "text/plain": "Train:   0%|          | 0/63 [00:00<?, ?it/s]",
            "application/vnd.jupyter.widget-view+json": {
              "version_major": 2,
              "version_minor": 0,
              "model_id": "68b8edf5cbda4aeaa4bfe6c888c89dd0"
            }
          },
          "metadata": {}
        },
        {
          "output_type": "display_data",
          "data": {
            "text/plain": "Valid:   0%|          | 0/6 [00:00<?, ?it/s]",
            "application/vnd.jupyter.widget-view+json": {
              "version_major": 2,
              "version_minor": 0,
              "model_id": "78e6c1ac51674d518b900b7ad14d715a"
            }
          },
          "metadata": {}
        },
        {
          "output_type": "stream",
          "name": "stdout",
          "text": [
            "[ Train | 031/200 ] loss = 0.34060, acc = 0.88765\t[ Valid\t| 031/200 ]  loss = 0.92982, acc = 0.73464\n"
          ]
        },
        {
          "output_type": "display_data",
          "data": {
            "text/plain": "PseudoLabels: 0it [00:00, ?it/s]",
            "application/vnd.jupyter.widget-view+json": {
              "version_major": 2,
              "version_minor": 0,
              "model_id": "06b4f8f4be9846fab9f52832b541c114"
            }
          },
          "metadata": {}
        },
        {
          "output_type": "stream",
          "name": "stdout",
          "text": [
            "Use pseudo label: 8265\n"
          ]
        },
        {
          "output_type": "display_data",
          "data": {
            "text/plain": "Train:   0%|          | 0/64 [00:00<?, ?it/s]",
            "application/vnd.jupyter.widget-view+json": {
              "version_major": 2,
              "version_minor": 0,
              "model_id": "3a927caa8c744efcbe344b5011a9d327"
            }
          },
          "metadata": {}
        },
        {
          "output_type": "display_data",
          "data": {
            "text/plain": "Valid:   0%|          | 0/6 [00:00<?, ?it/s]",
            "application/vnd.jupyter.widget-view+json": {
              "version_major": 2,
              "version_minor": 0,
              "model_id": "39077a34fa384f49a0854678e49c2d3a"
            }
          },
          "metadata": {}
        },
        {
          "output_type": "stream",
          "name": "stdout",
          "text": [
            "[ Train | 032/200 ] loss = 0.34475, acc = 0.88831\t[ Valid\t| 032/200 ]  loss = 0.85051, acc = 0.76042\n"
          ]
        },
        {
          "output_type": "display_data",
          "data": {
            "text/plain": "PseudoLabels: 0it [00:00, ?it/s]",
            "application/vnd.jupyter.widget-view+json": {
              "version_major": 2,
              "version_minor": 0,
              "model_id": "c0e83a45a7a6475c80ba899a9b1c0f90"
            }
          },
          "metadata": {}
        },
        {
          "output_type": "stream",
          "name": "stdout",
          "text": [
            "Use pseudo label: 8329\n"
          ]
        },
        {
          "output_type": "display_data",
          "data": {
            "text/plain": "Train:   0%|          | 0/65 [00:00<?, ?it/s]",
            "application/vnd.jupyter.widget-view+json": {
              "version_major": 2,
              "version_minor": 0,
              "model_id": "edccfb2616494e59b5e06796d005d340"
            }
          },
          "metadata": {}
        },
        {
          "output_type": "display_data",
          "data": {
            "text/plain": "Valid:   0%|          | 0/6 [00:00<?, ?it/s]",
            "application/vnd.jupyter.widget-view+json": {
              "version_major": 2,
              "version_minor": 0,
              "model_id": "c4d43287a5dd409db6c6057578fa9dba"
            }
          },
          "metadata": {}
        },
        {
          "output_type": "stream",
          "name": "stdout",
          "text": [
            "[ Train | 033/200 ] loss = 0.33575, acc = 0.88798\t[ Valid\t| 033/200 ]  loss = 0.91303, acc = 0.75573\n"
          ]
        },
        {
          "output_type": "display_data",
          "data": {
            "text/plain": "PseudoLabels: 0it [00:00, ?it/s]",
            "application/vnd.jupyter.widget-view+json": {
              "version_major": 2,
              "version_minor": 0,
              "model_id": "688256cf988a4e3c90b0e35befc9c0d4"
            }
          },
          "metadata": {}
        },
        {
          "output_type": "stream",
          "name": "stdout",
          "text": [
            "Use pseudo label: 8340\n"
          ]
        },
        {
          "output_type": "display_data",
          "data": {
            "text/plain": "Train:   0%|          | 0/65 [00:00<?, ?it/s]",
            "application/vnd.jupyter.widget-view+json": {
              "version_major": 2,
              "version_minor": 0,
              "model_id": "4388452159a64469a1cc190cf9c80c79"
            }
          },
          "metadata": {}
        },
        {
          "output_type": "display_data",
          "data": {
            "text/plain": "Valid:   0%|          | 0/6 [00:00<?, ?it/s]",
            "application/vnd.jupyter.widget-view+json": {
              "version_major": 2,
              "version_minor": 0,
              "model_id": "47f269452c574154b4197cd6e6555ae1"
            }
          },
          "metadata": {}
        },
        {
          "output_type": "stream",
          "name": "stdout",
          "text": [
            "saving model with acc 0.794\n[ Train | 034/200 ] loss = 0.34590, acc = 0.88822\t[ Valid\t| 034/200 ]  loss = 0.80262, acc = 0.79375\n"
          ]
        },
        {
          "output_type": "display_data",
          "data": {
            "text/plain": "PseudoLabels: 0it [00:00, ?it/s]",
            "application/vnd.jupyter.widget-view+json": {
              "version_major": 2,
              "version_minor": 0,
              "model_id": "3e5d5c54a9e2449bb226228488fac633"
            }
          },
          "metadata": {}
        },
        {
          "output_type": "stream",
          "name": "stdout",
          "text": [
            "Use pseudo label: 8255\n"
          ]
        },
        {
          "output_type": "display_data",
          "data": {
            "text/plain": "Train:   0%|          | 0/64 [00:00<?, ?it/s]",
            "application/vnd.jupyter.widget-view+json": {
              "version_major": 2,
              "version_minor": 0,
              "model_id": "5a8fc7c3e0d54caba8422604fcc9d790"
            }
          },
          "metadata": {}
        },
        {
          "output_type": "display_data",
          "data": {
            "text/plain": "Valid:   0%|          | 0/6 [00:00<?, ?it/s]",
            "application/vnd.jupyter.widget-view+json": {
              "version_major": 2,
              "version_minor": 0,
              "model_id": "a2d3f7a4f3e240619ebddd942797e47d"
            }
          },
          "metadata": {}
        },
        {
          "output_type": "stream",
          "name": "stdout",
          "text": [
            "[ Train | 035/200 ] loss = 0.32086, acc = 0.89551\t[ Valid\t| 035/200 ]  loss = 0.87315, acc = 0.75677\n"
          ]
        },
        {
          "output_type": "display_data",
          "data": {
            "text/plain": "PseudoLabels: 0it [00:00, ?it/s]",
            "application/vnd.jupyter.widget-view+json": {
              "version_major": 2,
              "version_minor": 0,
              "model_id": "47f2be56313a4cd18cfd7dd5e7ba2416"
            }
          },
          "metadata": {}
        },
        {
          "output_type": "stream",
          "name": "stdout",
          "text": [
            "Use pseudo label: 8341\n"
          ]
        },
        {
          "output_type": "display_data",
          "data": {
            "text/plain": "Train:   0%|          | 0/65 [00:00<?, ?it/s]",
            "application/vnd.jupyter.widget-view+json": {
              "version_major": 2,
              "version_minor": 0,
              "model_id": "b9f2afaeed244d36ac3573b542fea404"
            }
          },
          "metadata": {}
        },
        {
          "output_type": "display_data",
          "data": {
            "text/plain": "Valid:   0%|          | 0/6 [00:00<?, ?it/s]",
            "application/vnd.jupyter.widget-view+json": {
              "version_major": 2,
              "version_minor": 0,
              "model_id": "7062d9d88c6e46d6b753e7d11b9fefcb"
            }
          },
          "metadata": {}
        },
        {
          "output_type": "stream",
          "name": "stdout",
          "text": [
            "[ Train | 036/200 ] loss = 0.33821, acc = 0.88894\t[ Valid\t| 036/200 ]  loss = 0.88972, acc = 0.76432\n"
          ]
        },
        {
          "output_type": "display_data",
          "data": {
            "text/plain": "PseudoLabels: 0it [00:00, ?it/s]",
            "application/vnd.jupyter.widget-view+json": {
              "version_major": 2,
              "version_minor": 0,
              "model_id": "74228ee57bd54a4dbdbc16f2fd6272b1"
            }
          },
          "metadata": {}
        },
        {
          "output_type": "stream",
          "name": "stdout",
          "text": [
            "Use pseudo label: 8365\n"
          ]
        },
        {
          "output_type": "display_data",
          "data": {
            "text/plain": "Train:   0%|          | 0/65 [00:00<?, ?it/s]",
            "application/vnd.jupyter.widget-view+json": {
              "version_major": 2,
              "version_minor": 0,
              "model_id": "911e42f4128145c8aefc45cddc556fe9"
            }
          },
          "metadata": {}
        },
        {
          "output_type": "display_data",
          "data": {
            "text/plain": "Valid:   0%|          | 0/6 [00:00<?, ?it/s]",
            "application/vnd.jupyter.widget-view+json": {
              "version_major": 2,
              "version_minor": 0,
              "model_id": "c107c864852c4abb8eb462322b783e85"
            }
          },
          "metadata": {}
        },
        {
          "output_type": "stream",
          "name": "stdout",
          "text": [
            "[ Train | 037/200 ] loss = 0.33322, acc = 0.88666\t[ Valid\t| 037/200 ]  loss = 0.82438, acc = 0.75703\n"
          ]
        },
        {
          "output_type": "display_data",
          "data": {
            "text/plain": "PseudoLabels: 0it [00:00, ?it/s]",
            "application/vnd.jupyter.widget-view+json": {
              "version_major": 2,
              "version_minor": 0,
              "model_id": "719a093ce9254f0f8f720cff59a5f964"
            }
          },
          "metadata": {}
        },
        {
          "output_type": "stream",
          "name": "stdout",
          "text": [
            "Use pseudo label: 8272\n"
          ]
        },
        {
          "output_type": "display_data",
          "data": {
            "text/plain": "Train:   0%|          | 0/64 [00:00<?, ?it/s]",
            "application/vnd.jupyter.widget-view+json": {
              "version_major": 2,
              "version_minor": 0,
              "model_id": "dd7adf9c10bb4dc1a8acb343e89ce03c"
            }
          },
          "metadata": {}
        },
        {
          "output_type": "display_data",
          "data": {
            "text/plain": "Valid:   0%|          | 0/6 [00:00<?, ?it/s]",
            "application/vnd.jupyter.widget-view+json": {
              "version_major": 2,
              "version_minor": 0,
              "model_id": "52a8b38f82b54871b4a7bc2c8f33abd4"
            }
          },
          "metadata": {}
        },
        {
          "output_type": "stream",
          "name": "stdout",
          "text": [
            "[ Train | 038/200 ] loss = 0.35501, acc = 0.88257\t[ Valid\t| 038/200 ]  loss = 0.81159, acc = 0.77839\n"
          ]
        },
        {
          "output_type": "display_data",
          "data": {
            "text/plain": "PseudoLabels: 0it [00:00, ?it/s]",
            "application/vnd.jupyter.widget-view+json": {
              "version_major": 2,
              "version_minor": 0,
              "model_id": "f73b2dc8891e430a82d54dbc589c044d"
            }
          },
          "metadata": {}
        },
        {
          "output_type": "stream",
          "name": "stdout",
          "text": [
            "Use pseudo label: 8348\n"
          ]
        },
        {
          "output_type": "display_data",
          "data": {
            "text/plain": "Train:   0%|          | 0/65 [00:00<?, ?it/s]",
            "application/vnd.jupyter.widget-view+json": {
              "version_major": 2,
              "version_minor": 0,
              "model_id": "583bde6a2a044bc58b2c049ddbd5f141"
            }
          },
          "metadata": {}
        },
        {
          "output_type": "display_data",
          "data": {
            "text/plain": "Valid:   0%|          | 0/6 [00:00<?, ?it/s]",
            "application/vnd.jupyter.widget-view+json": {
              "version_major": 2,
              "version_minor": 0,
              "model_id": "1c2631a35c804a06b6ddb0dabaed3fd4"
            }
          },
          "metadata": {}
        },
        {
          "output_type": "stream",
          "name": "stdout",
          "text": [
            "[ Train | 039/200 ] loss = 0.32545, acc = 0.89062\t[ Valid\t| 039/200 ]  loss = 0.84444, acc = 0.76172\n"
          ]
        },
        {
          "output_type": "display_data",
          "data": {
            "text/plain": "PseudoLabels: 0it [00:00, ?it/s]",
            "application/vnd.jupyter.widget-view+json": {
              "version_major": 2,
              "version_minor": 0,
              "model_id": "cdadfe9862ad45208c914918d8e86bd3"
            }
          },
          "metadata": {}
        },
        {
          "output_type": "stream",
          "name": "stdout",
          "text": [
            "Use pseudo label: 8248\n"
          ]
        },
        {
          "output_type": "display_data",
          "data": {
            "text/plain": "Train:   0%|          | 0/64 [00:00<?, ?it/s]",
            "application/vnd.jupyter.widget-view+json": {
              "version_major": 2,
              "version_minor": 0,
              "model_id": "a45ad773a67a4f79b6675b4c82b1c2e4"
            }
          },
          "metadata": {}
        },
        {
          "output_type": "display_data",
          "data": {
            "text/plain": "Valid:   0%|          | 0/6 [00:00<?, ?it/s]",
            "application/vnd.jupyter.widget-view+json": {
              "version_major": 2,
              "version_minor": 0,
              "model_id": "202e200d568a4d39bb3c03dabf0d9f40"
            }
          },
          "metadata": {}
        },
        {
          "output_type": "stream",
          "name": "stdout",
          "text": [
            "[ Train | 040/200 ] loss = 0.31332, acc = 0.89575\t[ Valid\t| 040/200 ]  loss = 0.91113, acc = 0.76615\n"
          ]
        },
        {
          "output_type": "display_data",
          "data": {
            "text/plain": "PseudoLabels: 0it [00:00, ?it/s]",
            "application/vnd.jupyter.widget-view+json": {
              "version_major": 2,
              "version_minor": 0,
              "model_id": "b23933ff26d0425cae1043c538dbdf18"
            }
          },
          "metadata": {}
        },
        {
          "output_type": "stream",
          "name": "stdout",
          "text": [
            "Use pseudo label: 8296\n"
          ]
        },
        {
          "output_type": "display_data",
          "data": {
            "text/plain": "Train:   0%|          | 0/64 [00:00<?, ?it/s]",
            "application/vnd.jupyter.widget-view+json": {
              "version_major": 2,
              "version_minor": 0,
              "model_id": "6a9db327269f457e862b1a86dae9f80f"
            }
          },
          "metadata": {}
        },
        {
          "output_type": "display_data",
          "data": {
            "text/plain": "Valid:   0%|          | 0/6 [00:00<?, ?it/s]",
            "application/vnd.jupyter.widget-view+json": {
              "version_major": 2,
              "version_minor": 0,
              "model_id": "ed9cd635e2cc4c56a63ee3285980671b"
            }
          },
          "metadata": {}
        },
        {
          "output_type": "stream",
          "name": "stdout",
          "text": [
            "[ Train | 041/200 ] loss = 0.30691, acc = 0.90283\t[ Valid\t| 041/200 ]  loss = 0.81060, acc = 0.77240\n"
          ]
        },
        {
          "output_type": "display_data",
          "data": {
            "text/plain": "PseudoLabels: 0it [00:00, ?it/s]",
            "application/vnd.jupyter.widget-view+json": {
              "version_major": 2,
              "version_minor": 0,
              "model_id": "efb67a88b5e94d22b8adda5286567131"
            }
          },
          "metadata": {}
        },
        {
          "output_type": "stream",
          "name": "stdout",
          "text": [
            "Use pseudo label: 8494\n"
          ]
        },
        {
          "output_type": "display_data",
          "data": {
            "text/plain": "Train:   0%|          | 0/66 [00:00<?, ?it/s]",
            "application/vnd.jupyter.widget-view+json": {
              "version_major": 2,
              "version_minor": 0,
              "model_id": "d0b1c856a7fa46c29f554d49d9a28820"
            }
          },
          "metadata": {}
        },
        {
          "output_type": "display_data",
          "data": {
            "text/plain": "Valid:   0%|          | 0/6 [00:00<?, ?it/s]",
            "application/vnd.jupyter.widget-view+json": {
              "version_major": 2,
              "version_minor": 0,
              "model_id": "7815ebe1827a4099abcf6c2211ecad4b"
            }
          },
          "metadata": {}
        },
        {
          "output_type": "stream",
          "name": "stdout",
          "text": [
            "[ Train | 042/200 ] loss = 0.31205, acc = 0.89181\t[ Valid\t| 042/200 ]  loss = 1.09145, acc = 0.72422\n"
          ]
        },
        {
          "output_type": "display_data",
          "data": {
            "text/plain": "PseudoLabels: 0it [00:00, ?it/s]",
            "application/vnd.jupyter.widget-view+json": {
              "version_major": 2,
              "version_minor": 0,
              "model_id": "2d5f3734c91a4f87962d424c1b0f06e6"
            }
          },
          "metadata": {}
        },
        {
          "output_type": "stream",
          "name": "stdout",
          "text": [
            "Use pseudo label: 8327\n"
          ]
        },
        {
          "output_type": "display_data",
          "data": {
            "text/plain": "Train:   0%|          | 0/65 [00:00<?, ?it/s]",
            "application/vnd.jupyter.widget-view+json": {
              "version_major": 2,
              "version_minor": 0,
              "model_id": "66859fc72f1640b4a9dcd1d182a662c7"
            }
          },
          "metadata": {}
        },
        {
          "output_type": "display_data",
          "data": {
            "text/plain": "Valid:   0%|          | 0/6 [00:00<?, ?it/s]",
            "application/vnd.jupyter.widget-view+json": {
              "version_major": 2,
              "version_minor": 0,
              "model_id": "196d27b6a3da4ef4b2b3af4ff853d475"
            }
          },
          "metadata": {}
        },
        {
          "output_type": "stream",
          "name": "stdout",
          "text": [
            "[ Train | 043/200 ] loss = 0.30244, acc = 0.89964\t[ Valid\t| 043/200 ]  loss = 0.89449, acc = 0.78281\nEpoch    43: reducing learning rate of group 0 to 5.1200e-04.\n"
          ]
        },
        {
          "output_type": "display_data",
          "data": {
            "text/plain": "PseudoLabels: 0it [00:00, ?it/s]",
            "application/vnd.jupyter.widget-view+json": {
              "version_major": 2,
              "version_minor": 0,
              "model_id": "665c20b1754a4a7eacda834803bf69e7"
            }
          },
          "metadata": {}
        },
        {
          "output_type": "stream",
          "name": "stdout",
          "text": [
            "Use pseudo label: 8404\n"
          ]
        },
        {
          "output_type": "display_data",
          "data": {
            "text/plain": "Train:   0%|          | 0/65 [00:00<?, ?it/s]",
            "application/vnd.jupyter.widget-view+json": {
              "version_major": 2,
              "version_minor": 0,
              "model_id": "114063566fa7464692e68b67ede8e2db"
            }
          },
          "metadata": {}
        },
        {
          "output_type": "display_data",
          "data": {
            "text/plain": "Valid:   0%|          | 0/6 [00:00<?, ?it/s]",
            "application/vnd.jupyter.widget-view+json": {
              "version_major": 2,
              "version_minor": 0,
              "model_id": "59a78ab6b58d46ec9da7cd139f0ed3d0"
            }
          },
          "metadata": {}
        },
        {
          "output_type": "stream",
          "name": "stdout",
          "text": [
            "[ Train | 044/200 ] loss = 0.27587, acc = 0.90950\t[ Valid\t| 044/200 ]  loss = 0.88680, acc = 0.77057\n"
          ]
        },
        {
          "output_type": "display_data",
          "data": {
            "text/plain": "PseudoLabels: 0it [00:00, ?it/s]",
            "application/vnd.jupyter.widget-view+json": {
              "version_major": 2,
              "version_minor": 0,
              "model_id": "e10abaae31344a99ac69bc67029a0841"
            }
          },
          "metadata": {}
        },
        {
          "output_type": "stream",
          "name": "stdout",
          "text": [
            "Use pseudo label: 8501\n"
          ]
        },
        {
          "output_type": "display_data",
          "data": {
            "text/plain": "Train:   0%|          | 0/66 [00:00<?, ?it/s]",
            "application/vnd.jupyter.widget-view+json": {
              "version_major": 2,
              "version_minor": 0,
              "model_id": "c507070f99d7485fac471a035bda1284"
            }
          },
          "metadata": {}
        },
        {
          "output_type": "display_data",
          "data": {
            "text/plain": "Valid:   0%|          | 0/6 [00:00<?, ?it/s]",
            "application/vnd.jupyter.widget-view+json": {
              "version_major": 2,
              "version_minor": 0,
              "model_id": "f49f57a661ab4d1b84c9ad7830b315fe"
            }
          },
          "metadata": {}
        },
        {
          "output_type": "stream",
          "name": "stdout",
          "text": [
            "[ Train | 045/200 ] loss = 0.27304, acc = 0.90554\t[ Valid\t| 045/200 ]  loss = 0.92582, acc = 0.78307\n"
          ]
        },
        {
          "output_type": "display_data",
          "data": {
            "text/plain": "PseudoLabels: 0it [00:00, ?it/s]",
            "application/vnd.jupyter.widget-view+json": {
              "version_major": 2,
              "version_minor": 0,
              "model_id": "5e0142f9b42448abb3ccad1e4c8984bf"
            }
          },
          "metadata": {}
        },
        {
          "output_type": "stream",
          "name": "stdout",
          "text": [
            "Use pseudo label: 8535\n"
          ]
        },
        {
          "output_type": "display_data",
          "data": {
            "text/plain": "Train:   0%|          | 0/66 [00:00<?, ?it/s]",
            "application/vnd.jupyter.widget-view+json": {
              "version_major": 2,
              "version_minor": 0,
              "model_id": "1b05f2f077c942e9aa3019a72ff2e39f"
            }
          },
          "metadata": {}
        },
        {
          "output_type": "display_data",
          "data": {
            "text/plain": "Valid:   0%|          | 0/6 [00:00<?, ?it/s]",
            "application/vnd.jupyter.widget-view+json": {
              "version_major": 2,
              "version_minor": 0,
              "model_id": "3b10c9a0b2e6490687f73f2accad23e3"
            }
          },
          "metadata": {}
        },
        {
          "output_type": "stream",
          "name": "stdout",
          "text": [
            "[ Train | 046/200 ] loss = 0.29287, acc = 0.90530\t[ Valid\t| 046/200 ]  loss = 0.99470, acc = 0.75807\n"
          ]
        },
        {
          "output_type": "display_data",
          "data": {
            "text/plain": "PseudoLabels: 0it [00:00, ?it/s]",
            "application/vnd.jupyter.widget-view+json": {
              "version_major": 2,
              "version_minor": 0,
              "model_id": "9cc17137720241928861a53c0719274e"
            }
          },
          "metadata": {}
        },
        {
          "output_type": "stream",
          "name": "stdout",
          "text": [
            "Use pseudo label: 8508\n"
          ]
        },
        {
          "output_type": "display_data",
          "data": {
            "text/plain": "Train:   0%|          | 0/66 [00:00<?, ?it/s]",
            "application/vnd.jupyter.widget-view+json": {
              "version_major": 2,
              "version_minor": 0,
              "model_id": "709dc77cdb1f4a09891a1e08126c0051"
            }
          },
          "metadata": {}
        },
        {
          "output_type": "display_data",
          "data": {
            "text/plain": "Valid:   0%|          | 0/6 [00:00<?, ?it/s]",
            "application/vnd.jupyter.widget-view+json": {
              "version_major": 2,
              "version_minor": 0,
              "model_id": "a1b01ef7ad404b6c9dbce6e7e8eca96f"
            }
          },
          "metadata": {}
        },
        {
          "output_type": "stream",
          "name": "stdout",
          "text": [
            "[ Train | 047/200 ] loss = 0.30083, acc = 0.90388\t[ Valid\t| 047/200 ]  loss = 0.82035, acc = 0.78047\n"
          ]
        },
        {
          "output_type": "display_data",
          "data": {
            "text/plain": "PseudoLabels: 0it [00:00, ?it/s]",
            "application/vnd.jupyter.widget-view+json": {
              "version_major": 2,
              "version_minor": 0,
              "model_id": "4b66822350d649229ad3e2c9e3bbe7a5"
            }
          },
          "metadata": {}
        },
        {
          "output_type": "stream",
          "name": "stdout",
          "text": [
            "Use pseudo label: 8460\n"
          ]
        },
        {
          "output_type": "display_data",
          "data": {
            "text/plain": "Train:   0%|          | 0/66 [00:00<?, ?it/s]",
            "application/vnd.jupyter.widget-view+json": {
              "version_major": 2,
              "version_minor": 0,
              "model_id": "ce5b653f90094576aa4ea17d7d75aa7f"
            }
          },
          "metadata": {}
        },
        {
          "output_type": "display_data",
          "data": {
            "text/plain": "Valid:   0%|          | 0/6 [00:00<?, ?it/s]",
            "application/vnd.jupyter.widget-view+json": {
              "version_major": 2,
              "version_minor": 0,
              "model_id": "8a77a09be84b4efa9f0e618119ae3196"
            }
          },
          "metadata": {}
        },
        {
          "output_type": "stream",
          "name": "stdout",
          "text": [
            "saving model with acc 0.796\n[ Train | 048/200 ] loss = 0.27626, acc = 0.91087\t[ Valid\t| 048/200 ]  loss = 0.75060, acc = 0.79609\n"
          ]
        },
        {
          "output_type": "display_data",
          "data": {
            "text/plain": "PseudoLabels: 0it [00:00, ?it/s]",
            "application/vnd.jupyter.widget-view+json": {
              "version_major": 2,
              "version_minor": 0,
              "model_id": "87ce8c29ca4d4cfcbedc67afb4bf890f"
            }
          },
          "metadata": {}
        },
        {
          "output_type": "stream",
          "name": "stdout",
          "text": [
            "Use pseudo label: 8517\n"
          ]
        },
        {
          "output_type": "display_data",
          "data": {
            "text/plain": "Train:   0%|          | 0/66 [00:00<?, ?it/s]",
            "application/vnd.jupyter.widget-view+json": {
              "version_major": 2,
              "version_minor": 0,
              "model_id": "e44d3d7099654d5897f3bea4e1ddcd9a"
            }
          },
          "metadata": {}
        },
        {
          "output_type": "display_data",
          "data": {
            "text/plain": "Valid:   0%|          | 0/6 [00:00<?, ?it/s]",
            "application/vnd.jupyter.widget-view+json": {
              "version_major": 2,
              "version_minor": 0,
              "model_id": "4f850e04b35f481f9a1d3d3eb1fc79b2"
            }
          },
          "metadata": {}
        },
        {
          "output_type": "stream",
          "name": "stdout",
          "text": [
            "[ Train | 049/200 ] loss = 0.25368, acc = 0.91359\t[ Valid\t| 049/200 ]  loss = 0.74943, acc = 0.79245\n"
          ]
        },
        {
          "output_type": "display_data",
          "data": {
            "text/plain": "PseudoLabels: 0it [00:00, ?it/s]",
            "application/vnd.jupyter.widget-view+json": {
              "version_major": 2,
              "version_minor": 0,
              "model_id": "6ac8bb0891bd4b769e31370ac753ba9e"
            }
          },
          "metadata": {}
        },
        {
          "output_type": "stream",
          "name": "stdout",
          "text": [
            "Use pseudo label: 8626\n"
          ]
        },
        {
          "output_type": "display_data",
          "data": {
            "text/plain": "Train:   0%|          | 0/67 [00:00<?, ?it/s]",
            "application/vnd.jupyter.widget-view+json": {
              "version_major": 2,
              "version_minor": 0,
              "model_id": "4ac1cb301f084a27b7b745e82469f4eb"
            }
          },
          "metadata": {}
        },
        {
          "output_type": "display_data",
          "data": {
            "text/plain": "Valid:   0%|          | 0/6 [00:00<?, ?it/s]",
            "application/vnd.jupyter.widget-view+json": {
              "version_major": 2,
              "version_minor": 0,
              "model_id": "41953dc540c240ee8b1d917a059adf28"
            }
          },
          "metadata": {}
        },
        {
          "output_type": "stream",
          "name": "stdout",
          "text": [
            "[ Train | 050/200 ] loss = 0.26835, acc = 0.91290\t[ Valid\t| 050/200 ]  loss = 0.82882, acc = 0.79036\n"
          ]
        },
        {
          "output_type": "display_data",
          "data": {
            "text/plain": "PseudoLabels: 0it [00:00, ?it/s]",
            "application/vnd.jupyter.widget-view+json": {
              "version_major": 2,
              "version_minor": 0,
              "model_id": "44ce6e1b7a254d109c0bee6117e9cce5"
            }
          },
          "metadata": {}
        },
        {
          "output_type": "stream",
          "name": "stdout",
          "text": [
            "Use pseudo label: 8717\n"
          ]
        },
        {
          "output_type": "display_data",
          "data": {
            "text/plain": "Train:   0%|          | 0/68 [00:00<?, ?it/s]",
            "application/vnd.jupyter.widget-view+json": {
              "version_major": 2,
              "version_minor": 0,
              "model_id": "ca33b8ebf6544fc491d45633312147b3"
            }
          },
          "metadata": {}
        },
        {
          "output_type": "display_data",
          "data": {
            "text/plain": "Valid:   0%|          | 0/6 [00:00<?, ?it/s]",
            "application/vnd.jupyter.widget-view+json": {
              "version_major": 2,
              "version_minor": 0,
              "model_id": "89c90e5f3fe145e388639480f8796f48"
            }
          },
          "metadata": {}
        },
        {
          "output_type": "stream",
          "name": "stdout",
          "text": [
            "[ Train | 051/200 ] loss = 0.28440, acc = 0.90165\t[ Valid\t| 051/200 ]  loss = 0.98605, acc = 0.74453\n"
          ]
        },
        {
          "output_type": "display_data",
          "data": {
            "text/plain": "PseudoLabels: 0it [00:00, ?it/s]",
            "application/vnd.jupyter.widget-view+json": {
              "version_major": 2,
              "version_minor": 0,
              "model_id": "3c929b72169947fbaaf6eb51209943ed"
            }
          },
          "metadata": {}
        },
        {
          "output_type": "stream",
          "name": "stdout",
          "text": [
            "Use pseudo label: 8607\n"
          ]
        },
        {
          "output_type": "display_data",
          "data": {
            "text/plain": "Train:   0%|          | 0/67 [00:00<?, ?it/s]",
            "application/vnd.jupyter.widget-view+json": {
              "version_major": 2,
              "version_minor": 0,
              "model_id": "dbd86920f65344c591499c3501200403"
            }
          },
          "metadata": {}
        },
        {
          "output_type": "display_data",
          "data": {
            "text/plain": "Valid:   0%|          | 0/6 [00:00<?, ?it/s]",
            "application/vnd.jupyter.widget-view+json": {
              "version_major": 2,
              "version_minor": 0,
              "model_id": "98689a3e12264106ba81cc5314d97a17"
            }
          },
          "metadata": {}
        },
        {
          "output_type": "stream",
          "name": "stdout",
          "text": [
            "[ Train | 052/200 ] loss = 0.28174, acc = 0.91278\t[ Valid\t| 052/200 ]  loss = 1.03930, acc = 0.74063\n"
          ]
        },
        {
          "output_type": "display_data",
          "data": {
            "text/plain": "PseudoLabels: 0it [00:00, ?it/s]",
            "application/vnd.jupyter.widget-view+json": {
              "version_major": 2,
              "version_minor": 0,
              "model_id": "a0d66ecd87ed4100b1da308a94cba498"
            }
          },
          "metadata": {}
        },
        {
          "output_type": "stream",
          "name": "stdout",
          "text": [
            "Use pseudo label: 8617\n"
          ]
        },
        {
          "output_type": "display_data",
          "data": {
            "text/plain": "Train:   0%|          | 0/67 [00:00<?, ?it/s]",
            "application/vnd.jupyter.widget-view+json": {
              "version_major": 2,
              "version_minor": 0,
              "model_id": "ce0915c5d047432f846ee76b87b8eba4"
            }
          },
          "metadata": {}
        },
        {
          "output_type": "display_data",
          "data": {
            "text/plain": "Valid:   0%|          | 0/6 [00:00<?, ?it/s]",
            "application/vnd.jupyter.widget-view+json": {
              "version_major": 2,
              "version_minor": 0,
              "model_id": "43ab53e3f5634800a7e9e7f73429f328"
            }
          },
          "metadata": {}
        },
        {
          "output_type": "stream",
          "name": "stdout",
          "text": [
            "[ Train | 053/200 ] loss = 0.27690, acc = 0.90742\t[ Valid\t| 053/200 ]  loss = 0.98684, acc = 0.74687\n"
          ]
        },
        {
          "output_type": "display_data",
          "data": {
            "text/plain": "PseudoLabels: 0it [00:00, ?it/s]",
            "application/vnd.jupyter.widget-view+json": {
              "version_major": 2,
              "version_minor": 0,
              "model_id": "1379ad69031f400fbd02d9583608ef60"
            }
          },
          "metadata": {}
        },
        {
          "output_type": "stream",
          "name": "stdout",
          "text": [
            "Use pseudo label: 8598\n"
          ]
        },
        {
          "output_type": "display_data",
          "data": {
            "text/plain": "Train:   0%|          | 0/67 [00:00<?, ?it/s]",
            "application/vnd.jupyter.widget-view+json": {
              "version_major": 2,
              "version_minor": 0,
              "model_id": "9ff11fa5c162416cb0164a99c06fcdb0"
            }
          },
          "metadata": {}
        },
        {
          "output_type": "display_data",
          "data": {
            "text/plain": "Valid:   0%|          | 0/6 [00:00<?, ?it/s]",
            "application/vnd.jupyter.widget-view+json": {
              "version_major": 2,
              "version_minor": 0,
              "model_id": "6679b171a5bf4bb6ab821da88fe75054"
            }
          },
          "metadata": {}
        },
        {
          "output_type": "stream",
          "name": "stdout",
          "text": [
            "[ Train | 054/200 ] loss = 0.28669, acc = 0.90788\t[ Valid\t| 054/200 ]  loss = 0.98443, acc = 0.73672\n"
          ]
        },
        {
          "output_type": "display_data",
          "data": {
            "text/plain": "PseudoLabels: 0it [00:00, ?it/s]",
            "application/vnd.jupyter.widget-view+json": {
              "version_major": 2,
              "version_minor": 0,
              "model_id": "885d2cbd68454d14983adc99fa3b130b"
            }
          },
          "metadata": {}
        },
        {
          "output_type": "stream",
          "name": "stdout",
          "text": [
            "Use pseudo label: 8641\n"
          ]
        },
        {
          "output_type": "display_data",
          "data": {
            "text/plain": "Train:   0%|          | 0/67 [00:00<?, ?it/s]",
            "application/vnd.jupyter.widget-view+json": {
              "version_major": 2,
              "version_minor": 0,
              "model_id": "388b872e34194279a857775363c79fe0"
            }
          },
          "metadata": {}
        },
        {
          "output_type": "display_data",
          "data": {
            "text/plain": "Valid:   0%|          | 0/6 [00:00<?, ?it/s]",
            "application/vnd.jupyter.widget-view+json": {
              "version_major": 2,
              "version_minor": 0,
              "model_id": "cea500a8fcb842d4b5228229687e1443"
            }
          },
          "metadata": {}
        },
        {
          "output_type": "stream",
          "name": "stdout",
          "text": [
            "[ Train | 055/200 ] loss = 0.28137, acc = 0.90800\t[ Valid\t| 055/200 ]  loss = 0.98740, acc = 0.70755\n"
          ]
        },
        {
          "output_type": "display_data",
          "data": {
            "text/plain": "PseudoLabels: 0it [00:00, ?it/s]",
            "application/vnd.jupyter.widget-view+json": {
              "version_major": 2,
              "version_minor": 0,
              "model_id": "c3d084e7bb0640468d6732c65484bbe2"
            }
          },
          "metadata": {}
        },
        {
          "output_type": "stream",
          "name": "stdout",
          "text": [
            "Use pseudo label: 8581\n"
          ]
        },
        {
          "output_type": "display_data",
          "data": {
            "text/plain": "Train:   0%|          | 0/67 [00:00<?, ?it/s]",
            "application/vnd.jupyter.widget-view+json": {
              "version_major": 2,
              "version_minor": 0,
              "model_id": "1f800c47bafd4d5daa6f3c9ed43fa25b"
            }
          },
          "metadata": {}
        },
        {
          "output_type": "display_data",
          "data": {
            "text/plain": "Valid:   0%|          | 0/6 [00:00<?, ?it/s]",
            "application/vnd.jupyter.widget-view+json": {
              "version_major": 2,
              "version_minor": 0,
              "model_id": "f4eff4bfc6ba4ffdb05c5d347693e25d"
            }
          },
          "metadata": {}
        },
        {
          "output_type": "stream",
          "name": "stdout",
          "text": [
            "[ Train | 056/200 ] loss = 0.26059, acc = 0.91453\t[ Valid\t| 056/200 ]  loss = 0.99114, acc = 0.73385\n"
          ]
        },
        {
          "output_type": "display_data",
          "data": {
            "text/plain": "PseudoLabels: 0it [00:00, ?it/s]",
            "application/vnd.jupyter.widget-view+json": {
              "version_major": 2,
              "version_minor": 0,
              "model_id": "be3b4106ddd74d6e983d2c0c1ed798ba"
            }
          },
          "metadata": {}
        },
        {
          "output_type": "stream",
          "name": "stdout",
          "text": [
            "Use pseudo label: 8598\n"
          ]
        },
        {
          "output_type": "display_data",
          "data": {
            "text/plain": "Train:   0%|          | 0/67 [00:00<?, ?it/s]",
            "application/vnd.jupyter.widget-view+json": {
              "version_major": 2,
              "version_minor": 0,
              "model_id": "edb307741a0b4951ab9175ab0da4dd51"
            }
          },
          "metadata": {}
        },
        {
          "output_type": "display_data",
          "data": {
            "text/plain": "Valid:   0%|          | 0/6 [00:00<?, ?it/s]",
            "application/vnd.jupyter.widget-view+json": {
              "version_major": 2,
              "version_minor": 0,
              "model_id": "3ffeb413c1ef45d29c1244a397543e11"
            }
          },
          "metadata": {}
        },
        {
          "output_type": "stream",
          "name": "stdout",
          "text": [
            "[ Train | 057/200 ] loss = 0.29305, acc = 0.90054\t[ Valid\t| 057/200 ]  loss = 0.81185, acc = 0.77344\nEpoch    57: reducing learning rate of group 0 to 4.0960e-04.\n"
          ]
        },
        {
          "output_type": "display_data",
          "data": {
            "text/plain": "PseudoLabels: 0it [00:00, ?it/s]",
            "application/vnd.jupyter.widget-view+json": {
              "version_major": 2,
              "version_minor": 0,
              "model_id": "ede1b1ac9159407c984945049088a28a"
            }
          },
          "metadata": {}
        },
        {
          "output_type": "stream",
          "name": "stdout",
          "text": [
            "Use pseudo label: 8553\n"
          ]
        },
        {
          "output_type": "display_data",
          "data": {
            "text/plain": "Train:   0%|          | 0/66 [00:00<?, ?it/s]",
            "application/vnd.jupyter.widget-view+json": {
              "version_major": 2,
              "version_minor": 0,
              "model_id": "7a55f2f21dd24d72845a4eb36636506e"
            }
          },
          "metadata": {}
        },
        {
          "output_type": "display_data",
          "data": {
            "text/plain": "Valid:   0%|          | 0/6 [00:00<?, ?it/s]",
            "application/vnd.jupyter.widget-view+json": {
              "version_major": 2,
              "version_minor": 0,
              "model_id": "f6de3bdd653246d38949a9f7d16ae3ec"
            }
          },
          "metadata": {}
        },
        {
          "output_type": "stream",
          "name": "stdout",
          "text": [
            "[ Train | 058/200 ] loss = 0.26613, acc = 0.91312\t[ Valid\t| 058/200 ]  loss = 0.75985, acc = 0.77969\n"
          ]
        },
        {
          "output_type": "display_data",
          "data": {
            "text/plain": "PseudoLabels: 0it [00:00, ?it/s]",
            "application/vnd.jupyter.widget-view+json": {
              "version_major": 2,
              "version_minor": 0,
              "model_id": "df9c0b15415f4464b9a18be92e3969e2"
            }
          },
          "metadata": {}
        },
        {
          "output_type": "stream",
          "name": "stdout",
          "text": [
            "Use pseudo label: 8682\n"
          ]
        },
        {
          "output_type": "display_data",
          "data": {
            "text/plain": "Train:   0%|          | 0/67 [00:00<?, ?it/s]",
            "application/vnd.jupyter.widget-view+json": {
              "version_major": 2,
              "version_minor": 0,
              "model_id": "79620520e188406da523ce1c76a5ef90"
            }
          },
          "metadata": {}
        },
        {
          "output_type": "display_data",
          "data": {
            "text/plain": "Valid:   0%|          | 0/6 [00:00<?, ?it/s]",
            "application/vnd.jupyter.widget-view+json": {
              "version_major": 2,
              "version_minor": 0,
              "model_id": "559d60a01c344e518ccab59ba81a92bf"
            }
          },
          "metadata": {}
        },
        {
          "output_type": "stream",
          "name": "stdout",
          "text": [
            "[ Train | 059/200 ] loss = 0.24053, acc = 0.92292\t[ Valid\t| 059/200 ]  loss = 0.87725, acc = 0.78490\n"
          ]
        },
        {
          "output_type": "display_data",
          "data": {
            "text/plain": "PseudoLabels: 0it [00:00, ?it/s]",
            "application/vnd.jupyter.widget-view+json": {
              "version_major": 2,
              "version_minor": 0,
              "model_id": "8ec430b6688b460985332de48c7f5609"
            }
          },
          "metadata": {}
        },
        {
          "output_type": "stream",
          "name": "stdout",
          "text": [
            "Use pseudo label: 8729\n"
          ]
        },
        {
          "output_type": "display_data",
          "data": {
            "text/plain": "Train:   0%|          | 0/68 [00:00<?, ?it/s]",
            "application/vnd.jupyter.widget-view+json": {
              "version_major": 2,
              "version_minor": 0,
              "model_id": "d6625305cb504c9490a5f1146a1f708d"
            }
          },
          "metadata": {}
        },
        {
          "output_type": "display_data",
          "data": {
            "text/plain": "Valid:   0%|          | 0/6 [00:00<?, ?it/s]",
            "application/vnd.jupyter.widget-view+json": {
              "version_major": 2,
              "version_minor": 0,
              "model_id": "2baaede44bb74f18bca43e214bb1d411"
            }
          },
          "metadata": {}
        },
        {
          "output_type": "stream",
          "name": "stdout",
          "text": [
            "[ Train | 060/200 ] loss = 0.25102, acc = 0.92061\t[ Valid\t| 060/200 ]  loss = 0.92967, acc = 0.75885\n"
          ]
        },
        {
          "output_type": "display_data",
          "data": {
            "text/plain": "PseudoLabels: 0it [00:00, ?it/s]",
            "application/vnd.jupyter.widget-view+json": {
              "version_major": 2,
              "version_minor": 0,
              "model_id": "3e6512df9b2742fc8baeeaa43cceaec1"
            }
          },
          "metadata": {}
        },
        {
          "output_type": "stream",
          "name": "stdout",
          "text": [
            "Use pseudo label: 8701\n"
          ]
        },
        {
          "output_type": "display_data",
          "data": {
            "text/plain": "Train:   0%|          | 0/67 [00:00<?, ?it/s]",
            "application/vnd.jupyter.widget-view+json": {
              "version_major": 2,
              "version_minor": 0,
              "model_id": "ffc482fba9084e45950edb0a8e31a550"
            }
          },
          "metadata": {}
        },
        {
          "output_type": "display_data",
          "data": {
            "text/plain": "Valid:   0%|          | 0/6 [00:00<?, ?it/s]",
            "application/vnd.jupyter.widget-view+json": {
              "version_major": 2,
              "version_minor": 0,
              "model_id": "f34afab4690a486ea2b8e0db4c656fe0"
            }
          },
          "metadata": {}
        },
        {
          "output_type": "stream",
          "name": "stdout",
          "text": [
            "[ Train | 061/200 ] loss = 0.24434, acc = 0.91733\t[ Valid\t| 061/200 ]  loss = 0.95292, acc = 0.74375\n"
          ]
        },
        {
          "output_type": "display_data",
          "data": {
            "text/plain": "PseudoLabels: 0it [00:00, ?it/s]",
            "application/vnd.jupyter.widget-view+json": {
              "version_major": 2,
              "version_minor": 0,
              "model_id": "19b1c84a42d7473cba50b9942741a986"
            }
          },
          "metadata": {}
        },
        {
          "output_type": "stream",
          "name": "stdout",
          "text": [
            "Use pseudo label: 8641\n"
          ]
        },
        {
          "output_type": "display_data",
          "data": {
            "text/plain": "Train:   0%|          | 0/67 [00:00<?, ?it/s]",
            "application/vnd.jupyter.widget-view+json": {
              "version_major": 2,
              "version_minor": 0,
              "model_id": "bdda4f6a977b487a9549dddc40b6dd3c"
            }
          },
          "metadata": {}
        },
        {
          "output_type": "display_data",
          "data": {
            "text/plain": "Valid:   0%|          | 0/6 [00:00<?, ?it/s]",
            "application/vnd.jupyter.widget-view+json": {
              "version_major": 2,
              "version_minor": 0,
              "model_id": "b56661596023497c9326484bcf1d83ee"
            }
          },
          "metadata": {}
        },
        {
          "output_type": "stream",
          "name": "stdout",
          "text": [
            "[ Train | 062/200 ] loss = 0.24687, acc = 0.91943\t[ Valid\t| 062/200 ]  loss = 1.08406, acc = 0.74193\n"
          ]
        },
        {
          "output_type": "display_data",
          "data": {
            "text/plain": "PseudoLabels: 0it [00:00, ?it/s]",
            "application/vnd.jupyter.widget-view+json": {
              "version_major": 2,
              "version_minor": 0,
              "model_id": "749e6deaaf61422eae4cde26d5a96591"
            }
          },
          "metadata": {}
        },
        {
          "output_type": "stream",
          "name": "stdout",
          "text": [
            "Use pseudo label: 8761\n"
          ]
        },
        {
          "output_type": "display_data",
          "data": {
            "text/plain": "Train:   0%|          | 0/68 [00:00<?, ?it/s]",
            "application/vnd.jupyter.widget-view+json": {
              "version_major": 2,
              "version_minor": 0,
              "model_id": "f983ad4cd39543d3b6c370a294c63be9"
            }
          },
          "metadata": {}
        },
        {
          "output_type": "display_data",
          "data": {
            "text/plain": "Valid:   0%|          | 0/6 [00:00<?, ?it/s]",
            "application/vnd.jupyter.widget-view+json": {
              "version_major": 2,
              "version_minor": 0,
              "model_id": "c78c5aa9f43f434d96bdb462017b5389"
            }
          },
          "metadata": {}
        },
        {
          "output_type": "stream",
          "name": "stdout",
          "text": [
            "[ Train | 063/200 ] loss = 0.24476, acc = 0.91820\t[ Valid\t| 063/200 ]  loss = 0.81281, acc = 0.79063\n"
          ]
        },
        {
          "output_type": "display_data",
          "data": {
            "text/plain": "PseudoLabels: 0it [00:00, ?it/s]",
            "application/vnd.jupyter.widget-view+json": {
              "version_major": 2,
              "version_minor": 0,
              "model_id": "52ede18d010f484b879b2b80b6e1b8c1"
            }
          },
          "metadata": {}
        },
        {
          "output_type": "stream",
          "name": "stderr",
          "text": [
            "Exception ignored in: <function _MultiProcessingDataLoaderIter.__del__ at 0x7fdfe4861ca0>\n",
            "Traceback (most recent call last):\n",
            "  File \"/home/csvt32745/anaconda3/envs/torch/lib/python3.8/site-packages/torch/utils/data/dataloader.py\", line 1203, in __del__\n",
            "    self._shutdown_workers()\n",
            "  File \"/home/csvt32745/anaconda3/envs/torch/lib/python3.8/site-packages/torch/utils/data/dataloader.py\", line 1177, in _shutdown_workers\n",
            "    w.join(timeout=_utils.MP_STATUS_CHECK_INTERVAL)\n",
            "  File \"/home/csvt32745/anaconda3/envs/torch/lib/python3.8/multiprocessing/process.py\", line 147, in join\n",
            "    assert self._parent_pid == os.getpid(), 'can only join a child process'\n",
            "AssertionError: can only join a child process\n",
            "Exception ignored in: <function _MultiProcessingDataLoaderIter.__del__ at 0x7fdfe4861ca0>\n",
            "Traceback (most recent call last):\n",
            "  File \"/home/csvt32745/anaconda3/envs/torch/lib/python3.8/site-packages/torch/utils/data/dataloader.py\", line 1203, in __del__\n",
            "    self._shutdown_workers()\n",
            "  File \"/home/csvt32745/anaconda3/envs/torch/lib/python3.8/site-packages/torch/utils/data/dataloader.py\", line 1177, in _shutdown_workers\n",
            "    w.join(timeout=_utils.MP_STATUS_CHECK_INTERVAL)\n",
            "  File \"/home/csvt32745/anaconda3/envs/torch/lib/python3.8/multiprocessing/process.py\", line 147, in join\n",
            "    assert self._parent_pid == os.getpid(), 'can only join a child process'\n",
            "AssertionError: can only join a child process\n",
            "Exception ignored in: <function _MultiProcessingDataLoaderIter.__del__ at 0x7fdfe4861ca0>\n",
            "Traceback (most recent call last):\n",
            "  File \"/home/csvt32745/anaconda3/envs/torch/lib/python3.8/site-packages/torch/utils/data/dataloader.py\", line 1203, in __del__\n",
            "    self._shutdown_workers()\n",
            "  File \"/home/csvt32745/anaconda3/envs/torch/lib/python3.8/site-packages/torch/utils/data/dataloader.py\", line 1177, in _shutdown_workers\n",
            "    w.join(timeout=_utils.MP_STATUS_CHECK_INTERVAL)\n",
            "  File \"/home/csvt32745/anaconda3/envs/torch/lib/python3.8/multiprocessing/process.py\", line 147, in join\n",
            "    assert self._parent_pid == os.getpid(), 'can only join a child process'\n",
            "AssertionError: can only join a child process\n",
            "Use pseudo label: 8735\n"
          ]
        },
        {
          "output_type": "display_data",
          "data": {
            "text/plain": "Train:   0%|          | 0/68 [00:00<?, ?it/s]",
            "application/vnd.jupyter.widget-view+json": {
              "version_major": 2,
              "version_minor": 0,
              "model_id": "0f86aad6d7784159ba7efdc0734dd3cf"
            }
          },
          "metadata": {}
        },
        {
          "output_type": "stream",
          "name": "stderr",
          "text": [
            "Exception ignored in: <function _MultiProcessingDataLoaderIter.__del__ at 0x7fdfe4861ca0>\n",
            "Traceback (most recent call last):\n",
            "  File \"/home/csvt32745/anaconda3/envs/torch/lib/python3.8/site-packages/torch/utils/data/dataloader.py\", line 1203, in __del__\n",
            "    self._shutdown_workers()\n",
            "  File \"/home/csvt32745/anaconda3/envs/torch/lib/python3.8/site-packages/torch/utils/data/dataloader.py\", line 1177, in _shutdown_workers\n",
            "    w.join(timeout=_utils.MP_STATUS_CHECK_INTERVAL)\n",
            "  File \"/home/csvt32745/anaconda3/envs/torch/lib/python3.8/multiprocessing/process.py\", line 147, in join\n",
            "    assert self._parent_pid == os.getpid(), 'can only join a child process'\n",
            "AssertionError: can only join a child process\n",
            "Exception ignored in: <function _MultiProcessingDataLoaderIter.__del__ at 0x7fdfe4861ca0>\n",
            "Traceback (most recent call last):\n",
            "  File \"/home/csvt32745/anaconda3/envs/torch/lib/python3.8/site-packages/torch/utils/data/dataloader.py\", line 1203, in __del__\n",
            "    self._shutdown_workers()\n",
            "  File \"/home/csvt32745/anaconda3/envs/torch/lib/python3.8/site-packages/torch/utils/data/dataloader.py\", line 1177, in _shutdown_workers\n",
            "    w.join(timeout=_utils.MP_STATUS_CHECK_INTERVAL)\n",
            "  File \"/home/csvt32745/anaconda3/envs/torch/lib/python3.8/multiprocessing/process.py\", line 147, in join\n",
            "    assert self._parent_pid == os.getpid(), 'can only join a child process'\n",
            "AssertionError: can only join a child process\n",
            "Exception ignored in: <function _MultiProcessingDataLoaderIter.__del__ at 0x7fdfe4861ca0>\n",
            "Traceback (most recent call last):\n",
            "  File \"/home/csvt32745/anaconda3/envs/torch/lib/python3.8/site-packages/torch/utils/data/dataloader.py\", line 1203, in __del__\n",
            "    self._shutdown_workers()\n",
            "  File \"/home/csvt32745/anaconda3/envs/torch/lib/python3.8/site-packages/torch/utils/data/dataloader.py\", line 1177, in _shutdown_workers\n",
            "    w.join(timeout=_utils.MP_STATUS_CHECK_INTERVAL)\n",
            "  File \"/home/csvt32745/anaconda3/envs/torch/lib/python3.8/multiprocessing/process.py\", line 147, in join\n",
            "    assert self._parent_pid == os.getpid(), 'can only join a child process'\n",
            "AssertionError: can only join a child process\n",
            "Exception ignored in: <function _MultiProcessingDataLoaderIter.__del__ at 0x7fdfe4861ca0>\n",
            "Traceback (most recent call last):\n",
            "  File \"/home/csvt32745/anaconda3/envs/torch/lib/python3.8/site-packages/torch/utils/data/dataloader.py\", line 1203, in __del__\n",
            "    self._shutdown_workers()\n",
            "  File \"/home/csvt32745/anaconda3/envs/torch/lib/python3.8/site-packages/torch/utils/data/dataloader.py\", line 1177, in _shutdown_workers\n",
            "    w.join(timeout=_utils.MP_STATUS_CHECK_INTERVAL)\n",
            "  File \"/home/csvt32745/anaconda3/envs/torch/lib/python3.8/multiprocessing/process.py\", line 147, in join\n",
            "    assert self._parent_pid == os.getpid(), 'can only join a child process'\n",
            "AssertionError: can only join a child process\n",
            "Exception ignored in: <function _MultiProcessingDataLoaderIter.__del__ at 0x7fdfe4861ca0>\n",
            "Traceback (most recent call last):\n",
            "  File \"/home/csvt32745/anaconda3/envs/torch/lib/python3.8/site-packages/torch/utils/data/dataloader.py\", line 1203, in __del__\n",
            "    self._shutdown_workers()\n",
            "  File \"/home/csvt32745/anaconda3/envs/torch/lib/python3.8/site-packages/torch/utils/data/dataloader.py\", line 1177, in _shutdown_workers\n",
            "    w.join(timeout=_utils.MP_STATUS_CHECK_INTERVAL)\n",
            "  File \"/home/csvt32745/anaconda3/envs/torch/lib/python3.8/multiprocessing/process.py\", line 147, in join\n",
            "    assert self._parent_pid == os.getpid(), 'can only join a child process'\n",
            "AssertionError: can only join a child process\n",
            "Exception ignored in: <function _MultiProcessingDataLoaderIter.__del__ at 0x7fdfe4861ca0>\n",
            "Traceback (most recent call last):\n",
            "  File \"/home/csvt32745/anaconda3/envs/torch/lib/python3.8/site-packages/torch/utils/data/dataloader.py\", line 1203, in __del__\n",
            "    self._shutdown_workers()\n",
            "  File \"/home/csvt32745/anaconda3/envs/torch/lib/python3.8/site-packages/torch/utils/data/dataloader.py\", line 1177, in _shutdown_workers\n",
            "    w.join(timeout=_utils.MP_STATUS_CHECK_INTERVAL)\n",
            "  File \"/home/csvt32745/anaconda3/envs/torch/lib/python3.8/multiprocessing/process.py\", line 147, in join\n",
            "    assert self._parent_pid == os.getpid(), 'can only join a child process'\n",
            "AssertionError: can only join a child process\n",
            "Exception ignored in: <function _MultiProcessingDataLoaderIter.__del__ at 0x7fdfe4861ca0>\n",
            "Traceback (most recent call last):\n",
            "  File \"/home/csvt32745/anaconda3/envs/torch/lib/python3.8/site-packages/torch/utils/data/dataloader.py\", line 1203, in __del__\n",
            "    self._shutdown_workers()\n",
            "  File \"/home/csvt32745/anaconda3/envs/torch/lib/python3.8/site-packages/torch/utils/data/dataloader.py\", line 1177, in _shutdown_workers\n",
            "    w.join(timeout=_utils.MP_STATUS_CHECK_INTERVAL)\n",
            "  File \"/home/csvt32745/anaconda3/envs/torch/lib/python3.8/multiprocessing/process.py\", line 147, in join\n",
            "    assert self._parent_pid == os.getpid(), 'can only join a child process'\n",
            "AssertionError: can only join a child process\n",
            "Exception ignored in: <function _MultiProcessingDataLoaderIter.__del__ at 0x7fdfe4861ca0>\n",
            "Traceback (most recent call last):\n",
            "  File \"/home/csvt32745/anaconda3/envs/torch/lib/python3.8/site-packages/torch/utils/data/dataloader.py\", line 1203, in __del__\n",
            "    self._shutdown_workers()\n",
            "  File \"/home/csvt32745/anaconda3/envs/torch/lib/python3.8/site-packages/torch/utils/data/dataloader.py\", line 1177, in _shutdown_workers\n",
            "    w.join(timeout=_utils.MP_STATUS_CHECK_INTERVAL)\n",
            "  File \"/home/csvt32745/anaconda3/envs/torch/lib/python3.8/multiprocessing/process.py\", line 147, in join\n",
            "    assert self._parent_pid == os.getpid(), 'can only join a child process'\n",
            "AssertionError: can only join a child process\n"
          ]
        },
        {
          "output_type": "display_data",
          "data": {
            "text/plain": "Valid:   0%|          | 0/6 [00:00<?, ?it/s]",
            "application/vnd.jupyter.widget-view+json": {
              "version_major": 2,
              "version_minor": 0,
              "model_id": "7f3f18b1c7344440bcf03d75fd5bdaab"
            }
          },
          "metadata": {}
        },
        {
          "output_type": "stream",
          "name": "stderr",
          "text": [
            "Exception ignored in: <function _MultiProcessingDataLoaderIter.__del__ at 0x7fdfe4861ca0>\n",
            "Traceback (most recent call last):\n",
            "  File \"/home/csvt32745/anaconda3/envs/torch/lib/python3.8/site-packages/torch/utils/data/dataloader.py\", line 1203, in __del__\n",
            "    self._shutdown_workers()\n",
            "  File \"/home/csvt32745/anaconda3/envs/torch/lib/python3.8/site-packages/torch/utils/data/dataloader.py\", line 1177, in _shutdown_workers\n",
            "    w.join(timeout=_utils.MP_STATUS_CHECK_INTERVAL)\n",
            "  File \"/home/csvt32745/anaconda3/envs/torch/lib/python3.8/multiprocessing/process.py\", line 147, in join\n",
            "    assert self._parent_pid == os.getpid(), 'can only join a child process'\n",
            "AssertionError: can only join a child process\n",
            "Exception ignored in: <function _MultiProcessingDataLoaderIter.__del__ at 0x7fdfe4861ca0>\n",
            "Traceback (most recent call last):\n",
            "  File \"/home/csvt32745/anaconda3/envs/torch/lib/python3.8/site-packages/torch/utils/data/dataloader.py\", line 1203, in __del__\n",
            "    self._shutdown_workers()\n",
            "  File \"/home/csvt32745/anaconda3/envs/torch/lib/python3.8/site-packages/torch/utils/data/dataloader.py\", line 1177, in _shutdown_workers\n",
            "    w.join(timeout=_utils.MP_STATUS_CHECK_INTERVAL)\n",
            "  File \"/home/csvt32745/anaconda3/envs/torch/lib/python3.8/multiprocessing/process.py\", line 147, in join\n",
            "    assert self._parent_pid == os.getpid(), 'can only join a child process'\n",
            "AssertionError: can only join a child process\n",
            "saving model with acc 0.804\n",
            "[ Train | 064/200 ] loss = 0.23768, acc = 0.92417\t[ Valid\t| 064/200 ]  loss = 0.88959, acc = 0.80443\n",
            "Exception ignored in: "
          ]
        },
        {
          "output_type": "display_data",
          "data": {
            "text/plain": "PseudoLabels: 0it [00:00, ?it/s]",
            "application/vnd.jupyter.widget-view+json": {
              "version_major": 2,
              "version_minor": 0,
              "model_id": "434bdcaa7f6a4204b43f4585a8ab3bb7"
            }
          },
          "metadata": {}
        },
        {
          "output_type": "stream",
          "name": "stderr",
          "text": [
            "Exception ignored in: <function _MultiProcessingDataLoaderIter.__del__ at 0x7fdfe4861ca0><function _MultiProcessingDataLoaderIter.__del__ at 0x7fdfe4861ca0>\n",
            "\n",
            "Traceback (most recent call last):\n",
            "Traceback (most recent call last):\n",
            "  File \"/home/csvt32745/anaconda3/envs/torch/lib/python3.8/site-packages/torch/utils/data/dataloader.py\", line 1203, in __del__\n",
            "  File \"/home/csvt32745/anaconda3/envs/torch/lib/python3.8/site-packages/torch/utils/data/dataloader.py\", line 1203, in __del__\n",
            "    self._shutdown_workers()    \n",
            "self._shutdown_workers()  File \"/home/csvt32745/anaconda3/envs/torch/lib/python3.8/site-packages/torch/utils/data/dataloader.py\", line 1177, in _shutdown_workers\n",
            "\n",
            "  File \"/home/csvt32745/anaconda3/envs/torch/lib/python3.8/site-packages/torch/utils/data/dataloader.py\", line 1177, in _shutdown_workers\n",
            "    Exception ignored in: w.join(timeout=_utils.MP_STATUS_CHECK_INTERVAL)    <function _MultiProcessingDataLoaderIter.__del__ at 0x7fdfe4861ca0>w.join(timeout=_utils.MP_STATUS_CHECK_INTERVAL)\n",
            "Exception ignored in: \n",
            "\n",
            "  File \"/home/csvt32745/anaconda3/envs/torch/lib/python3.8/multiprocessing/process.py\", line 147, in join\n",
            "<function _MultiProcessingDataLoaderIter.__del__ at 0x7fdfe4861ca0>Traceback (most recent call last):\n",
            "  File \"/home/csvt32745/anaconda3/envs/torch/lib/python3.8/multiprocessing/process.py\", line 147, in join\n",
            "    \n",
            "  File \"/home/csvt32745/anaconda3/envs/torch/lib/python3.8/site-packages/torch/utils/data/dataloader.py\", line 1203, in __del__\n",
            "    assert self._parent_pid == os.getpid(), 'can only join a child process'Traceback (most recent call last):\n",
            "assert self._parent_pid == os.getpid(), 'can only join a child process'    \n",
            "  File \"/home/csvt32745/anaconda3/envs/torch/lib/python3.8/site-packages/torch/utils/data/dataloader.py\", line 1203, in __del__\n",
            "\n",
            "self._shutdown_workers()AssertionErrorAssertionError    \n",
            ": : self._shutdown_workers()can only join a child process  File \"/home/csvt32745/anaconda3/envs/torch/lib/python3.8/site-packages/torch/utils/data/dataloader.py\", line 1177, in _shutdown_workers\n",
            "can only join a child process\n",
            "\n",
            "\n",
            "  File \"/home/csvt32745/anaconda3/envs/torch/lib/python3.8/site-packages/torch/utils/data/dataloader.py\", line 1177, in _shutdown_workers\n",
            "        w.join(timeout=_utils.MP_STATUS_CHECK_INTERVAL)w.join(timeout=_utils.MP_STATUS_CHECK_INTERVAL)\n",
            "\n",
            "  File \"/home/csvt32745/anaconda3/envs/torch/lib/python3.8/multiprocessing/process.py\", line 147, in join\n",
            "      File \"/home/csvt32745/anaconda3/envs/torch/lib/python3.8/multiprocessing/process.py\", line 147, in join\n",
            "assert self._parent_pid == os.getpid(), 'can only join a child process'    \n",
            "AssertionErrorassert self._parent_pid == os.getpid(), 'can only join a child process': Exception ignored in: \n",
            "can only join a child process<function _MultiProcessingDataLoaderIter.__del__ at 0x7fdfe4861ca0>\n",
            "AssertionError\n",
            ": Traceback (most recent call last):\n",
            "  File \"/home/csvt32745/anaconda3/envs/torch/lib/python3.8/site-packages/torch/utils/data/dataloader.py\", line 1203, in __del__\n",
            "can only join a child process    \n",
            "self._shutdown_workers()\n",
            "  File \"/home/csvt32745/anaconda3/envs/torch/lib/python3.8/site-packages/torch/utils/data/dataloader.py\", line 1177, in _shutdown_workers\n",
            "    w.join(timeout=_utils.MP_STATUS_CHECK_INTERVAL)\n",
            "  File \"/home/csvt32745/anaconda3/envs/torch/lib/python3.8/multiprocessing/process.py\", line 147, in join\n",
            "    assert self._parent_pid == os.getpid(), 'can only join a child process'\n",
            "AssertionErrorException ignored in: Exception ignored in: Exception ignored in: : <function _MultiProcessingDataLoaderIter.__del__ at 0x7fdfe4861ca0>\n",
            "can only join a child process<function _MultiProcessingDataLoaderIter.__del__ at 0x7fdfe4861ca0>Traceback (most recent call last):\n",
            "Traceback (most recent call last):\n",
            "<function _MultiProcessingDataLoaderIter.__del__ at 0x7fdfe4861ca0>\n",
            "  File \"/home/csvt32745/anaconda3/envs/torch/lib/python3.8/site-packages/torch/utils/data/dataloader.py\", line 1203, in __del__\n",
            "  File \"/home/csvt32745/anaconda3/envs/torch/lib/python3.8/multiprocessing/queues.py\", line 245, in _feed\n",
            "    send_bytes(obj)\n",
            "    Traceback (most recent call last):\n",
            "\n",
            "\n",
            "self._shutdown_workers()  File \"/home/csvt32745/anaconda3/envs/torch/lib/python3.8/multiprocessing/connection.py\", line 200, in send_bytes\n",
            "    self._send_bytes(m[offset:offset + size])\n",
            "Traceback (most recent call last):\n",
            "\n",
            "  File \"/home/csvt32745/anaconda3/envs/torch/lib/python3.8/multiprocessing/queues.py\", line 245, in _feed\n",
            "    send_bytes(obj)\n",
            "Traceback (most recent call last):\n",
            "  File \"/home/csvt32745/anaconda3/envs/torch/lib/python3.8/multiprocessing/connection.py\", line 411, in _send_bytes\n",
            "    self._send(header + buf)\n",
            "  File \"/home/csvt32745/anaconda3/envs/torch/lib/python3.8/site-packages/torch/utils/data/dataloader.py\", line 1177, in _shutdown_workers\n",
            "  File \"/home/csvt32745/anaconda3/envs/torch/lib/python3.8/site-packages/torch/utils/data/dataloader.py\", line 1203, in __del__\n",
            "      File \"/home/csvt32745/anaconda3/envs/torch/lib/python3.8/multiprocessing/connection.py\", line 368, in _send\n",
            "    n = write(self._handle, buf)\n",
            "  File \"/home/csvt32745/anaconda3/envs/torch/lib/python3.8/multiprocessing/connection.py\", line 200, in send_bytes\n",
            "    self._send_bytes(m[offset:offset + size])\n",
            "  File \"/home/csvt32745/anaconda3/envs/torch/lib/python3.8/site-packages/torch/utils/data/dataloader.py\", line 1203, in __del__\n",
            "w.join(timeout=_utils.MP_STATUS_CHECK_INTERVAL)\n",
            "      File \"/home/csvt32745/anaconda3/envs/torch/lib/python3.8/multiprocessing/connection.py\", line 411, in _send_bytes\n",
            "    self._send(header + buf)\n",
            "BrokenPipeError: [Errno 32] Broken pipe\n",
            "  File \"/home/csvt32745/anaconda3/envs/torch/lib/python3.8/multiprocessing/process.py\", line 147, in join\n",
            "self._shutdown_workers()    \n",
            "assert self._parent_pid == os.getpid(), 'can only join a child process'  File \"/home/csvt32745/anaconda3/envs/torch/lib/python3.8/site-packages/torch/utils/data/dataloader.py\", line 1177, in _shutdown_workers\n",
            "  File \"/home/csvt32745/anaconda3/envs/torch/lib/python3.8/multiprocessing/connection.py\", line 368, in _send\n",
            "    n = write(self._handle, buf)\n",
            "    \n",
            "    AssertionErrorBrokenPipeError: [Errno 32] Broken pipe\n",
            "w.join(timeout=_utils.MP_STATUS_CHECK_INTERVAL)self._shutdown_workers(): \n",
            "can only join a child process\n",
            "  File \"/home/csvt32745/anaconda3/envs/torch/lib/python3.8/multiprocessing/process.py\", line 147, in join\n",
            "\n",
            "      File \"/home/csvt32745/anaconda3/envs/torch/lib/python3.8/site-packages/torch/utils/data/dataloader.py\", line 1177, in _shutdown_workers\n",
            "assert self._parent_pid == os.getpid(), 'can only join a child process'\n",
            "AssertionError    : w.join(timeout=_utils.MP_STATUS_CHECK_INTERVAL)can only join a child process\n",
            "\n",
            "  File \"/home/csvt32745/anaconda3/envs/torch/lib/python3.8/multiprocessing/process.py\", line 147, in join\n",
            "    assert self._parent_pid == os.getpid(), 'can only join a child process'\n",
            "AssertionError: can only join a child process\n",
            "Use pseudo label: 8820\n"
          ]
        },
        {
          "output_type": "display_data",
          "data": {
            "text/plain": "Train:   0%|          | 0/68 [00:00<?, ?it/s]",
            "application/vnd.jupyter.widget-view+json": {
              "version_major": 2,
              "version_minor": 0,
              "model_id": "8f70fd2651304b2a92e1e0e20ff04725"
            }
          },
          "metadata": {}
        },
        {
          "output_type": "display_data",
          "data": {
            "text/plain": "Valid:   0%|          | 0/6 [00:00<?, ?it/s]",
            "application/vnd.jupyter.widget-view+json": {
              "version_major": 2,
              "version_minor": 0,
              "model_id": "1a7e0342389c4036844355a0a9c2eec6"
            }
          },
          "metadata": {}
        },
        {
          "output_type": "stream",
          "name": "stdout",
          "text": [
            "[ Train | 065/200 ] loss = 0.23618, acc = 0.92406\t[ Valid\t| 065/200 ]  loss = 0.91705, acc = 0.76641\n"
          ]
        },
        {
          "output_type": "display_data",
          "data": {
            "text/plain": "PseudoLabels: 0it [00:00, ?it/s]",
            "application/vnd.jupyter.widget-view+json": {
              "version_major": 2,
              "version_minor": 0,
              "model_id": "11f801d91eca4aa392e665c8d39c16f3"
            }
          },
          "metadata": {}
        },
        {
          "output_type": "stream",
          "name": "stdout",
          "text": [
            "Use pseudo label: 8764\n"
          ]
        },
        {
          "output_type": "display_data",
          "data": {
            "text/plain": "Train:   0%|          | 0/68 [00:00<?, ?it/s]",
            "application/vnd.jupyter.widget-view+json": {
              "version_major": 2,
              "version_minor": 0,
              "model_id": "d23f23ec1b634cbb8ce39ebe7120a2e4"
            }
          },
          "metadata": {}
        },
        {
          "output_type": "display_data",
          "data": {
            "text/plain": "Valid:   0%|          | 0/6 [00:00<?, ?it/s]",
            "application/vnd.jupyter.widget-view+json": {
              "version_major": 2,
              "version_minor": 0,
              "model_id": "f0d4db6f8a1f41fea3402b1871c18fd0"
            }
          },
          "metadata": {}
        },
        {
          "output_type": "stream",
          "name": "stdout",
          "text": [
            "[ Train | 066/200 ] loss = 0.23007, acc = 0.92268\t[ Valid\t| 066/200 ]  loss = 0.82765, acc = 0.78438\n"
          ]
        },
        {
          "output_type": "display_data",
          "data": {
            "text/plain": "PseudoLabels: 0it [00:00, ?it/s]",
            "application/vnd.jupyter.widget-view+json": {
              "version_major": 2,
              "version_minor": 0,
              "model_id": "d9b73df80dbd4d809d7a418830208a69"
            }
          },
          "metadata": {}
        },
        {
          "output_type": "stream",
          "name": "stdout",
          "text": [
            "Use pseudo label: 8763\n"
          ]
        },
        {
          "output_type": "display_data",
          "data": {
            "text/plain": "Train:   0%|          | 0/68 [00:00<?, ?it/s]",
            "application/vnd.jupyter.widget-view+json": {
              "version_major": 2,
              "version_minor": 0,
              "model_id": "05f4f7788e85412789945e721f2c7497"
            }
          },
          "metadata": {}
        },
        {
          "output_type": "display_data",
          "data": {
            "text/plain": "Valid:   0%|          | 0/6 [00:00<?, ?it/s]",
            "application/vnd.jupyter.widget-view+json": {
              "version_major": 2,
              "version_minor": 0,
              "model_id": "4e552164aa884f2abd081ffbc4784fc0"
            }
          },
          "metadata": {}
        },
        {
          "output_type": "stream",
          "name": "stdout",
          "text": [
            "saving model with acc 0.818\n[ Train | 067/200 ] loss = 0.25394, acc = 0.91808\t[ Valid\t| 067/200 ]  loss = 0.81827, acc = 0.81797\n"
          ]
        },
        {
          "output_type": "display_data",
          "data": {
            "text/plain": "PseudoLabels: 0it [00:00, ?it/s]",
            "application/vnd.jupyter.widget-view+json": {
              "version_major": 2,
              "version_minor": 0,
              "model_id": "4a91db7fa239424dab72f2be1d5b733d"
            }
          },
          "metadata": {}
        },
        {
          "output_type": "stream",
          "name": "stdout",
          "text": [
            "Use pseudo label: 8883\n"
          ]
        },
        {
          "output_type": "display_data",
          "data": {
            "text/plain": "Train:   0%|          | 0/69 [00:00<?, ?it/s]",
            "application/vnd.jupyter.widget-view+json": {
              "version_major": 2,
              "version_minor": 0,
              "model_id": "9661dbde87bf471f81bdcdeff6538d1f"
            }
          },
          "metadata": {}
        },
        {
          "output_type": "display_data",
          "data": {
            "text/plain": "Valid:   0%|          | 0/6 [00:00<?, ?it/s]",
            "application/vnd.jupyter.widget-view+json": {
              "version_major": 2,
              "version_minor": 0,
              "model_id": "3d93295accdb488d9a28a38514098c82"
            }
          },
          "metadata": {}
        },
        {
          "output_type": "stream",
          "name": "stdout",
          "text": [
            "[ Train | 068/200 ] loss = 0.23711, acc = 0.92131\t[ Valid\t| 068/200 ]  loss = 0.95742, acc = 0.76823\n"
          ]
        },
        {
          "output_type": "display_data",
          "data": {
            "text/plain": "PseudoLabels: 0it [00:00, ?it/s]",
            "application/vnd.jupyter.widget-view+json": {
              "version_major": 2,
              "version_minor": 0,
              "model_id": "abcbf5d694e54de48a6245f5d7ae7b0c"
            }
          },
          "metadata": {}
        },
        {
          "output_type": "stream",
          "name": "stdout",
          "text": [
            "Use pseudo label: 8758\n"
          ]
        },
        {
          "output_type": "display_data",
          "data": {
            "text/plain": "Train:   0%|          | 0/68 [00:00<?, ?it/s]",
            "application/vnd.jupyter.widget-view+json": {
              "version_major": 2,
              "version_minor": 0,
              "model_id": "cb502097b4104d03977db3e9b1e99a91"
            }
          },
          "metadata": {}
        },
        {
          "output_type": "display_data",
          "data": {
            "text/plain": "Valid:   0%|          | 0/6 [00:00<?, ?it/s]",
            "application/vnd.jupyter.widget-view+json": {
              "version_major": 2,
              "version_minor": 0,
              "model_id": "5b646398f7c74fb8a14b7881e1343d20"
            }
          },
          "metadata": {}
        },
        {
          "output_type": "stream",
          "name": "stdout",
          "text": [
            "[ Train | 069/200 ] loss = 0.22470, acc = 0.92440\t[ Valid\t| 069/200 ]  loss = 0.90727, acc = 0.77995\n"
          ]
        },
        {
          "output_type": "display_data",
          "data": {
            "text/plain": "PseudoLabels: 0it [00:00, ?it/s]",
            "application/vnd.jupyter.widget-view+json": {
              "version_major": 2,
              "version_minor": 0,
              "model_id": "fe0c4f6c21fc4bed8b928006e5cc61e5"
            }
          },
          "metadata": {}
        },
        {
          "output_type": "stream",
          "name": "stdout",
          "text": [
            "Use pseudo label: 8865\n"
          ]
        },
        {
          "output_type": "display_data",
          "data": {
            "text/plain": "Train:   0%|          | 0/69 [00:00<?, ?it/s]",
            "application/vnd.jupyter.widget-view+json": {
              "version_major": 2,
              "version_minor": 0,
              "model_id": "87499a6d6a7145e698a1c8c8b0948d63"
            }
          },
          "metadata": {}
        },
        {
          "output_type": "display_data",
          "data": {
            "text/plain": "Valid:   0%|          | 0/6 [00:00<?, ?it/s]",
            "application/vnd.jupyter.widget-view+json": {
              "version_major": 2,
              "version_minor": 0,
              "model_id": "8f63d6ffec3c4c34af9eb4777f7c6503"
            }
          },
          "metadata": {}
        },
        {
          "output_type": "stream",
          "name": "stdout",
          "text": [
            "[ Train | 070/200 ] loss = 0.23705, acc = 0.92267\t[ Valid\t| 070/200 ]  loss = 0.82146, acc = 0.81406\n"
          ]
        },
        {
          "output_type": "display_data",
          "data": {
            "text/plain": "PseudoLabels: 0it [00:00, ?it/s]",
            "application/vnd.jupyter.widget-view+json": {
              "version_major": 2,
              "version_minor": 0,
              "model_id": "b1d4a1534665458abe61930d2c1106d4"
            }
          },
          "metadata": {}
        },
        {
          "output_type": "stream",
          "name": "stdout",
          "text": [
            "Use pseudo label: 8804\n"
          ]
        },
        {
          "output_type": "display_data",
          "data": {
            "text/plain": "Train:   0%|          | 0/68 [00:00<?, ?it/s]",
            "application/vnd.jupyter.widget-view+json": {
              "version_major": 2,
              "version_minor": 0,
              "model_id": "3ffeae6b060245588c75a9fe67c1a773"
            }
          },
          "metadata": {}
        },
        {
          "output_type": "display_data",
          "data": {
            "text/plain": "Valid:   0%|          | 0/6 [00:00<?, ?it/s]",
            "application/vnd.jupyter.widget-view+json": {
              "version_major": 2,
              "version_minor": 0,
              "model_id": "018e850b2ca8458887e5acb23b04cc5c"
            }
          },
          "metadata": {}
        },
        {
          "output_type": "stream",
          "name": "stdout",
          "text": [
            "saving model with acc 0.818\n[ Train | 071/200 ] loss = 0.25390, acc = 0.91705\t[ Valid\t| 071/200 ]  loss = 0.79391, acc = 0.81849\n"
          ]
        },
        {
          "output_type": "display_data",
          "data": {
            "text/plain": "PseudoLabels: 0it [00:00, ?it/s]",
            "application/vnd.jupyter.widget-view+json": {
              "version_major": 2,
              "version_minor": 0,
              "model_id": "58505ec90df240ba8de0205c9b0b26a8"
            }
          },
          "metadata": {}
        },
        {
          "output_type": "stream",
          "name": "stdout",
          "text": [
            "Use pseudo label: 8776\n"
          ]
        },
        {
          "output_type": "display_data",
          "data": {
            "text/plain": "Train:   0%|          | 0/68 [00:00<?, ?it/s]",
            "application/vnd.jupyter.widget-view+json": {
              "version_major": 2,
              "version_minor": 0,
              "model_id": "e13036fbdc9245b789ae8f47e73bf6c7"
            }
          },
          "metadata": {}
        },
        {
          "output_type": "display_data",
          "data": {
            "text/plain": "Valid:   0%|          | 0/6 [00:00<?, ?it/s]",
            "application/vnd.jupyter.widget-view+json": {
              "version_major": 2,
              "version_minor": 0,
              "model_id": "7f0b3f8c4ad641f4a90d3308eb0a5e53"
            }
          },
          "metadata": {}
        },
        {
          "output_type": "stream",
          "name": "stdout",
          "text": [
            "[ Train | 072/200 ] loss = 0.21679, acc = 0.93348\t[ Valid\t| 072/200 ]  loss = 0.80680, acc = 0.79271\n"
          ]
        },
        {
          "output_type": "display_data",
          "data": {
            "text/plain": "PseudoLabels: 0it [00:00, ?it/s]",
            "application/vnd.jupyter.widget-view+json": {
              "version_major": 2,
              "version_minor": 0,
              "model_id": "23dc104cdeb945d98ccabc812644d636"
            }
          },
          "metadata": {}
        },
        {
          "output_type": "stream",
          "name": "stdout",
          "text": [
            "Use pseudo label: 8810\n"
          ]
        },
        {
          "output_type": "display_data",
          "data": {
            "text/plain": "Train:   0%|          | 0/68 [00:00<?, ?it/s]",
            "application/vnd.jupyter.widget-view+json": {
              "version_major": 2,
              "version_minor": 0,
              "model_id": "97b96a745e3a4a2b849afec09798bb71"
            }
          },
          "metadata": {}
        },
        {
          "output_type": "display_data",
          "data": {
            "text/plain": "Valid:   0%|          | 0/6 [00:00<?, ?it/s]",
            "application/vnd.jupyter.widget-view+json": {
              "version_major": 2,
              "version_minor": 0,
              "model_id": "afa0cf86eead4b04b27c56305c2b6899"
            }
          },
          "metadata": {}
        },
        {
          "output_type": "stream",
          "name": "stdout",
          "text": [
            "[ Train | 073/200 ] loss = 0.22647, acc = 0.92785\t[ Valid\t| 073/200 ]  loss = 0.82580, acc = 0.78177\n"
          ]
        },
        {
          "output_type": "display_data",
          "data": {
            "text/plain": "PseudoLabels: 0it [00:00, ?it/s]",
            "application/vnd.jupyter.widget-view+json": {
              "version_major": 2,
              "version_minor": 0,
              "model_id": "ea246fe2b480411ca0859172e3c893f3"
            }
          },
          "metadata": {}
        },
        {
          "output_type": "stream",
          "name": "stdout",
          "text": [
            "Use pseudo label: 8794\n"
          ]
        },
        {
          "output_type": "display_data",
          "data": {
            "text/plain": "Train:   0%|          | 0/68 [00:00<?, ?it/s]",
            "application/vnd.jupyter.widget-view+json": {
              "version_major": 2,
              "version_minor": 0,
              "model_id": "bd695427e5234f7280c4db41738ffc65"
            }
          },
          "metadata": {}
        },
        {
          "output_type": "display_data",
          "data": {
            "text/plain": "Valid:   0%|          | 0/6 [00:00<?, ?it/s]",
            "application/vnd.jupyter.widget-view+json": {
              "version_major": 2,
              "version_minor": 0,
              "model_id": "2f0f0e3f53eb4ebcba04b65c90f94a40"
            }
          },
          "metadata": {}
        },
        {
          "output_type": "stream",
          "name": "stdout",
          "text": [
            "[ Train | 074/200 ] loss = 0.23017, acc = 0.92417\t[ Valid\t| 074/200 ]  loss = 1.08865, acc = 0.74010\n"
          ]
        },
        {
          "output_type": "display_data",
          "data": {
            "text/plain": "PseudoLabels: 0it [00:00, ?it/s]",
            "application/vnd.jupyter.widget-view+json": {
              "version_major": 2,
              "version_minor": 0,
              "model_id": "0738c148ea1f4b60965cb43ceab2a2ec"
            }
          },
          "metadata": {}
        },
        {
          "output_type": "stream",
          "name": "stdout",
          "text": [
            "Use pseudo label: 8835\n"
          ]
        },
        {
          "output_type": "display_data",
          "data": {
            "text/plain": "Train:   0%|          | 0/69 [00:00<?, ?it/s]",
            "application/vnd.jupyter.widget-view+json": {
              "version_major": 2,
              "version_minor": 0,
              "model_id": "716d0d55c54a4c90b0b92fc70f7b3d05"
            }
          },
          "metadata": {}
        },
        {
          "output_type": "display_data",
          "data": {
            "text/plain": "Valid:   0%|          | 0/6 [00:00<?, ?it/s]",
            "application/vnd.jupyter.widget-view+json": {
              "version_major": 2,
              "version_minor": 0,
              "model_id": "ead2ce52459e44d183d9e5cbefcd9bc3"
            }
          },
          "metadata": {}
        },
        {
          "output_type": "stream",
          "name": "stdout",
          "text": [
            "[ Train | 075/200 ] loss = 0.23365, acc = 0.92663\t[ Valid\t| 075/200 ]  loss = 1.13558, acc = 0.75078\n"
          ]
        },
        {
          "output_type": "display_data",
          "data": {
            "text/plain": "PseudoLabels: 0it [00:00, ?it/s]",
            "application/vnd.jupyter.widget-view+json": {
              "version_major": 2,
              "version_minor": 0,
              "model_id": "34f96ebeaea6452eb07a5984893e8bdd"
            }
          },
          "metadata": {}
        },
        {
          "output_type": "stream",
          "name": "stdout",
          "text": [
            "Use pseudo label: 8890\n"
          ]
        },
        {
          "output_type": "display_data",
          "data": {
            "text/plain": "Train:   0%|          | 0/69 [00:00<?, ?it/s]",
            "application/vnd.jupyter.widget-view+json": {
              "version_major": 2,
              "version_minor": 0,
              "model_id": "e420dbe9acb745959942ab7480856c55"
            }
          },
          "metadata": {}
        },
        {
          "output_type": "display_data",
          "data": {
            "text/plain": "Valid:   0%|          | 0/6 [00:00<?, ?it/s]",
            "application/vnd.jupyter.widget-view+json": {
              "version_major": 2,
              "version_minor": 0,
              "model_id": "74b43073f67a45248ce37b41e05aff33"
            }
          },
          "metadata": {}
        },
        {
          "output_type": "stream",
          "name": "stdout",
          "text": [
            "[ Train | 076/200 ] loss = 0.22885, acc = 0.92946\t[ Valid\t| 076/200 ]  loss = 1.02657, acc = 0.75990\n"
          ]
        },
        {
          "output_type": "display_data",
          "data": {
            "text/plain": "PseudoLabels: 0it [00:00, ?it/s]",
            "application/vnd.jupyter.widget-view+json": {
              "version_major": 2,
              "version_minor": 0,
              "model_id": "3efef9954b1643bba0bf1facd02f0b04"
            }
          },
          "metadata": {}
        },
        {
          "output_type": "stream",
          "name": "stdout",
          "text": [
            "Use pseudo label: 8842\n"
          ]
        },
        {
          "output_type": "display_data",
          "data": {
            "text/plain": "Train:   0%|          | 0/69 [00:00<?, ?it/s]",
            "application/vnd.jupyter.widget-view+json": {
              "version_major": 2,
              "version_minor": 0,
              "model_id": "e77c0a86c1914c14be1b35e5aef56cac"
            }
          },
          "metadata": {}
        },
        {
          "output_type": "display_data",
          "data": {
            "text/plain": "Valid:   0%|          | 0/6 [00:00<?, ?it/s]",
            "application/vnd.jupyter.widget-view+json": {
              "version_major": 2,
              "version_minor": 0,
              "model_id": "8cfd0a2141c1468cae7d94a71637075a"
            }
          },
          "metadata": {}
        },
        {
          "output_type": "stream",
          "name": "stdout",
          "text": [
            "[ Train | 077/200 ] loss = 0.24587, acc = 0.92403\t[ Valid\t| 077/200 ]  loss = 0.83223, acc = 0.78880\n"
          ]
        },
        {
          "output_type": "display_data",
          "data": {
            "text/plain": "PseudoLabels: 0it [00:00, ?it/s]",
            "application/vnd.jupyter.widget-view+json": {
              "version_major": 2,
              "version_minor": 0,
              "model_id": "be899a2b019b4f4a9d7d7beb3429e0c3"
            }
          },
          "metadata": {}
        },
        {
          "output_type": "stream",
          "name": "stdout",
          "text": [
            "Use pseudo label: 8840\n"
          ]
        },
        {
          "output_type": "display_data",
          "data": {
            "text/plain": "Train:   0%|          | 0/69 [00:00<?, ?it/s]",
            "application/vnd.jupyter.widget-view+json": {
              "version_major": 2,
              "version_minor": 0,
              "model_id": "feb5ceec3b9e4874b21eda8d701ef8c7"
            }
          },
          "metadata": {}
        },
        {
          "output_type": "display_data",
          "data": {
            "text/plain": "Valid:   0%|          | 0/6 [00:00<?, ?it/s]",
            "application/vnd.jupyter.widget-view+json": {
              "version_major": 2,
              "version_minor": 0,
              "model_id": "52780682576141adab3099944c81fdb9"
            }
          },
          "metadata": {}
        },
        {
          "output_type": "stream",
          "name": "stdout",
          "text": [
            "[ Train | 078/200 ] loss = 0.22271, acc = 0.92788\t[ Valid\t| 078/200 ]  loss = 0.78592, acc = 0.79323\n"
          ]
        },
        {
          "output_type": "display_data",
          "data": {
            "text/plain": "PseudoLabels: 0it [00:00, ?it/s]",
            "application/vnd.jupyter.widget-view+json": {
              "version_major": 2,
              "version_minor": 0,
              "model_id": "3f3b1439ce1344d3a8c1a857c08b38ed"
            }
          },
          "metadata": {}
        },
        {
          "output_type": "stream",
          "name": "stdout",
          "text": [
            "Use pseudo label: 8841\n"
          ]
        },
        {
          "output_type": "display_data",
          "data": {
            "text/plain": "Train:   0%|          | 0/69 [00:00<?, ?it/s]",
            "application/vnd.jupyter.widget-view+json": {
              "version_major": 2,
              "version_minor": 0,
              "model_id": "6e149b0467a7479290a24c619496a1fe"
            }
          },
          "metadata": {}
        },
        {
          "output_type": "display_data",
          "data": {
            "text/plain": "Valid:   0%|          | 0/6 [00:00<?, ?it/s]",
            "application/vnd.jupyter.widget-view+json": {
              "version_major": 2,
              "version_minor": 0,
              "model_id": "f7a4394fda784689b5cdc60744d03e2a"
            }
          },
          "metadata": {}
        },
        {
          "output_type": "stream",
          "name": "stdout",
          "text": [
            "[ Train | 079/200 ] loss = 0.21939, acc = 0.92991\t[ Valid\t| 079/200 ]  loss = 0.81705, acc = 0.78698\n"
          ]
        },
        {
          "output_type": "display_data",
          "data": {
            "text/plain": "PseudoLabels: 0it [00:00, ?it/s]",
            "application/vnd.jupyter.widget-view+json": {
              "version_major": 2,
              "version_minor": 0,
              "model_id": "2fe986355d914f12b053ec88905b21af"
            }
          },
          "metadata": {}
        },
        {
          "output_type": "stream",
          "name": "stdout",
          "text": [
            "Use pseudo label: 8875\n"
          ]
        },
        {
          "output_type": "display_data",
          "data": {
            "text/plain": "Train:   0%|          | 0/69 [00:00<?, ?it/s]",
            "application/vnd.jupyter.widget-view+json": {
              "version_major": 2,
              "version_minor": 0,
              "model_id": "5ba2c9ef3dc344738eb7c0ac6b4f080e"
            }
          },
          "metadata": {}
        },
        {
          "output_type": "display_data",
          "data": {
            "text/plain": "Valid:   0%|          | 0/6 [00:00<?, ?it/s]",
            "application/vnd.jupyter.widget-view+json": {
              "version_major": 2,
              "version_minor": 0,
              "model_id": "b105829329054dc7b6e83aac7bdc8145"
            }
          },
          "metadata": {}
        },
        {
          "output_type": "stream",
          "name": "stdout",
          "text": [
            "[ Train | 080/200 ] loss = 0.22812, acc = 0.92606\t[ Valid\t| 080/200 ]  loss = 0.79315, acc = 0.79453\nEpoch    80: reducing learning rate of group 0 to 3.2768e-04.\n"
          ]
        },
        {
          "output_type": "display_data",
          "data": {
            "text/plain": "PseudoLabels: 0it [00:00, ?it/s]",
            "application/vnd.jupyter.widget-view+json": {
              "version_major": 2,
              "version_minor": 0,
              "model_id": "a90ba34496b3439d96afa0b531af7db0"
            }
          },
          "metadata": {}
        },
        {
          "output_type": "stream",
          "name": "stdout",
          "text": [
            "Use pseudo label: 8783\n"
          ]
        },
        {
          "output_type": "display_data",
          "data": {
            "text/plain": "Train:   0%|          | 0/68 [00:00<?, ?it/s]",
            "application/vnd.jupyter.widget-view+json": {
              "version_major": 2,
              "version_minor": 0,
              "model_id": "97a3770465ae4ba6b01dca7b2ee6a9fc"
            }
          },
          "metadata": {}
        },
        {
          "output_type": "display_data",
          "data": {
            "text/plain": "Valid:   0%|          | 0/6 [00:00<?, ?it/s]",
            "application/vnd.jupyter.widget-view+json": {
              "version_major": 2,
              "version_minor": 0,
              "model_id": "3d6d478e4c1243eab14c2656d12b9083"
            }
          },
          "metadata": {}
        },
        {
          "output_type": "stream",
          "name": "stdout",
          "text": [
            "saving model with acc 0.822\n[ Train | 081/200 ] loss = 0.22420, acc = 0.92750\t[ Valid\t| 081/200 ]  loss = 0.82950, acc = 0.82188\n"
          ]
        },
        {
          "output_type": "display_data",
          "data": {
            "text/plain": "PseudoLabels: 0it [00:00, ?it/s]",
            "application/vnd.jupyter.widget-view+json": {
              "version_major": 2,
              "version_minor": 0,
              "model_id": "989305db719a44cca7cd1d0778aaa9b7"
            }
          },
          "metadata": {}
        },
        {
          "output_type": "stream",
          "name": "stdout",
          "text": [
            "Use pseudo label: 8930\n"
          ]
        },
        {
          "output_type": "display_data",
          "data": {
            "text/plain": "Train:   0%|          | 0/69 [00:00<?, ?it/s]",
            "application/vnd.jupyter.widget-view+json": {
              "version_major": 2,
              "version_minor": 0,
              "model_id": "6d7fabc3ec414236b35cb58332764c58"
            }
          },
          "metadata": {}
        },
        {
          "output_type": "display_data",
          "data": {
            "text/plain": "Valid:   0%|          | 0/6 [00:00<?, ?it/s]",
            "application/vnd.jupyter.widget-view+json": {
              "version_major": 2,
              "version_minor": 0,
              "model_id": "9bad6aaa64b44cf69c7fa2185cd15907"
            }
          },
          "metadata": {}
        },
        {
          "output_type": "stream",
          "name": "stdout",
          "text": [
            "[ Train | 082/200 ] loss = 0.20303, acc = 0.93467\t[ Valid\t| 082/200 ]  loss = 0.79253, acc = 0.80417\n"
          ]
        },
        {
          "output_type": "display_data",
          "data": {
            "text/plain": "PseudoLabels: 0it [00:00, ?it/s]",
            "application/vnd.jupyter.widget-view+json": {
              "version_major": 2,
              "version_minor": 0,
              "model_id": "5963982fc505488692208dab152a0f61"
            }
          },
          "metadata": {}
        },
        {
          "output_type": "stream",
          "name": "stdout",
          "text": [
            "Use pseudo label: 8865\n"
          ]
        },
        {
          "output_type": "display_data",
          "data": {
            "text/plain": "Train:   0%|          | 0/69 [00:00<?, ?it/s]",
            "application/vnd.jupyter.widget-view+json": {
              "version_major": 2,
              "version_minor": 0,
              "model_id": "57b5f615cede4c67a4a0c3807b8417a5"
            }
          },
          "metadata": {}
        },
        {
          "output_type": "display_data",
          "data": {
            "text/plain": "Valid:   0%|          | 0/6 [00:00<?, ?it/s]",
            "application/vnd.jupyter.widget-view+json": {
              "version_major": 2,
              "version_minor": 0,
              "model_id": "21585e933f08450f9d1d1cabb4ff9183"
            }
          },
          "metadata": {}
        },
        {
          "output_type": "stream",
          "name": "stdout",
          "text": [
            "[ Train | 083/200 ] loss = 0.21677, acc = 0.93388\t[ Valid\t| 083/200 ]  loss = 0.89935, acc = 0.77240\n"
          ]
        },
        {
          "output_type": "display_data",
          "data": {
            "text/plain": "PseudoLabels: 0it [00:00, ?it/s]",
            "application/vnd.jupyter.widget-view+json": {
              "version_major": 2,
              "version_minor": 0,
              "model_id": "a0e917f4ec2f463d95d19e974fd4007c"
            }
          },
          "metadata": {}
        },
        {
          "output_type": "stream",
          "name": "stdout",
          "text": [
            "Use pseudo label: 8934\n"
          ]
        },
        {
          "output_type": "display_data",
          "data": {
            "text/plain": "Train:   0%|          | 0/69 [00:00<?, ?it/s]",
            "application/vnd.jupyter.widget-view+json": {
              "version_major": 2,
              "version_minor": 0,
              "model_id": "be923a697b3943388ef59ac07692e804"
            }
          },
          "metadata": {}
        },
        {
          "output_type": "display_data",
          "data": {
            "text/plain": "Valid:   0%|          | 0/6 [00:00<?, ?it/s]",
            "application/vnd.jupyter.widget-view+json": {
              "version_major": 2,
              "version_minor": 0,
              "model_id": "887d985ea6f340feb0feec45e31d1b07"
            }
          },
          "metadata": {}
        },
        {
          "output_type": "stream",
          "name": "stdout",
          "text": [
            "[ Train | 084/200 ] loss = 0.21319, acc = 0.92867\t[ Valid\t| 084/200 ]  loss = 0.87360, acc = 0.78958\n"
          ]
        },
        {
          "output_type": "display_data",
          "data": {
            "text/plain": "PseudoLabels: 0it [00:00, ?it/s]",
            "application/vnd.jupyter.widget-view+json": {
              "version_major": 2,
              "version_minor": 0,
              "model_id": "a438f256985342d68e2dffd8f1e7ef79"
            }
          },
          "metadata": {}
        },
        {
          "output_type": "stream",
          "name": "stdout",
          "text": [
            "Use pseudo label: 9017\n"
          ]
        },
        {
          "output_type": "display_data",
          "data": {
            "text/plain": "Train:   0%|          | 0/70 [00:00<?, ?it/s]",
            "application/vnd.jupyter.widget-view+json": {
              "version_major": 2,
              "version_minor": 0,
              "model_id": "92f60d8e8a9444448460ec2cd28b905e"
            }
          },
          "metadata": {}
        },
        {
          "output_type": "display_data",
          "data": {
            "text/plain": "Valid:   0%|          | 0/6 [00:00<?, ?it/s]",
            "application/vnd.jupyter.widget-view+json": {
              "version_major": 2,
              "version_minor": 0,
              "model_id": "b4671305c9e64b10b0f870750b901b1b"
            }
          },
          "metadata": {}
        },
        {
          "output_type": "stream",
          "name": "stdout",
          "text": [
            "[ Train | 085/200 ] loss = 0.21089, acc = 0.93092\t[ Valid\t| 085/200 ]  loss = 0.78668, acc = 0.81719\n"
          ]
        },
        {
          "output_type": "display_data",
          "data": {
            "text/plain": "PseudoLabels: 0it [00:00, ?it/s]",
            "application/vnd.jupyter.widget-view+json": {
              "version_major": 2,
              "version_minor": 0,
              "model_id": "419ec3f679a84b758d738285b91ad7f5"
            }
          },
          "metadata": {}
        },
        {
          "output_type": "stream",
          "name": "stdout",
          "text": [
            "Use pseudo label: 8962\n"
          ]
        },
        {
          "output_type": "display_data",
          "data": {
            "text/plain": "Train:   0%|          | 0/70 [00:00<?, ?it/s]",
            "application/vnd.jupyter.widget-view+json": {
              "version_major": 2,
              "version_minor": 0,
              "model_id": "f5685c63c83346c797e0ddc22d8fd1a6"
            }
          },
          "metadata": {}
        },
        {
          "output_type": "display_data",
          "data": {
            "text/plain": "Valid:   0%|          | 0/6 [00:00<?, ?it/s]",
            "application/vnd.jupyter.widget-view+json": {
              "version_major": 2,
              "version_minor": 0,
              "model_id": "ed65717aef97444a85688d609deed773"
            }
          },
          "metadata": {}
        },
        {
          "output_type": "stream",
          "name": "stdout",
          "text": [
            "[ Train | 086/200 ] loss = 0.21076, acc = 0.93337\t[ Valid\t| 086/200 ]  loss = 0.80346, acc = 0.79167\n"
          ]
        },
        {
          "output_type": "display_data",
          "data": {
            "text/plain": "PseudoLabels: 0it [00:00, ?it/s]",
            "application/vnd.jupyter.widget-view+json": {
              "version_major": 2,
              "version_minor": 0,
              "model_id": "37befa058f5547f89df32b19708320a4"
            }
          },
          "metadata": {}
        },
        {
          "output_type": "stream",
          "name": "stdout",
          "text": [
            "Use pseudo label: 9005\n"
          ]
        },
        {
          "output_type": "display_data",
          "data": {
            "text/plain": "Train:   0%|          | 0/70 [00:00<?, ?it/s]",
            "application/vnd.jupyter.widget-view+json": {
              "version_major": 2,
              "version_minor": 0,
              "model_id": "cfa4d114487945b7a2b8acdeb5a3c27c"
            }
          },
          "metadata": {}
        },
        {
          "output_type": "display_data",
          "data": {
            "text/plain": "Valid:   0%|          | 0/6 [00:00<?, ?it/s]",
            "application/vnd.jupyter.widget-view+json": {
              "version_major": 2,
              "version_minor": 0,
              "model_id": "0a7329873c704754bfdf2e29aff7dfad"
            }
          },
          "metadata": {}
        },
        {
          "output_type": "stream",
          "name": "stdout",
          "text": [
            "saving model with acc 0.829\n[ Train | 087/200 ] loss = 0.18241, acc = 0.94196\t[ Valid\t| 087/200 ]  loss = 0.72782, acc = 0.82891\n"
          ]
        },
        {
          "output_type": "display_data",
          "data": {
            "text/plain": "PseudoLabels: 0it [00:00, ?it/s]",
            "application/vnd.jupyter.widget-view+json": {
              "version_major": 2,
              "version_minor": 0,
              "model_id": "e15e4f9e7a084eb9aa713e5fbef169a2"
            }
          },
          "metadata": {}
        },
        {
          "output_type": "stream",
          "name": "stdout",
          "text": [
            "Use pseudo label: 8989\n"
          ]
        },
        {
          "output_type": "display_data",
          "data": {
            "text/plain": "Train:   0%|          | 0/70 [00:00<?, ?it/s]",
            "application/vnd.jupyter.widget-view+json": {
              "version_major": 2,
              "version_minor": 0,
              "model_id": "1e07b49c359f410ca09527f9b7099e2e"
            }
          },
          "metadata": {}
        },
        {
          "output_type": "display_data",
          "data": {
            "text/plain": "Valid:   0%|          | 0/6 [00:00<?, ?it/s]",
            "application/vnd.jupyter.widget-view+json": {
              "version_major": 2,
              "version_minor": 0,
              "model_id": "4937a7c76f554f50bb2e340d0d5cb6f4"
            }
          },
          "metadata": {}
        },
        {
          "output_type": "stream",
          "name": "stdout",
          "text": [
            "[ Train | 088/200 ] loss = 0.20370, acc = 0.93348\t[ Valid\t| 088/200 ]  loss = 0.84028, acc = 0.79688\n"
          ]
        },
        {
          "output_type": "display_data",
          "data": {
            "text/plain": "PseudoLabels: 0it [00:00, ?it/s]",
            "application/vnd.jupyter.widget-view+json": {
              "version_major": 2,
              "version_minor": 0,
              "model_id": "fbca2481db5e4b3eb819c6f7ec184473"
            }
          },
          "metadata": {}
        },
        {
          "output_type": "stream",
          "name": "stdout",
          "text": [
            "Use pseudo label: 9054\n"
          ]
        },
        {
          "output_type": "display_data",
          "data": {
            "text/plain": "Train:   0%|          | 0/70 [00:00<?, ?it/s]",
            "application/vnd.jupyter.widget-view+json": {
              "version_major": 2,
              "version_minor": 0,
              "model_id": "ef553d45861a4ca08756007eb307e1b6"
            }
          },
          "metadata": {}
        },
        {
          "output_type": "display_data",
          "data": {
            "text/plain": "Valid:   0%|          | 0/6 [00:00<?, ?it/s]",
            "application/vnd.jupyter.widget-view+json": {
              "version_major": 2,
              "version_minor": 0,
              "model_id": "bc84804d96e2417c9745ea840e8a9492"
            }
          },
          "metadata": {}
        },
        {
          "output_type": "stream",
          "name": "stdout",
          "text": [
            "[ Train | 089/200 ] loss = 0.21391, acc = 0.93471\t[ Valid\t| 089/200 ]  loss = 0.87738, acc = 0.80443\n"
          ]
        },
        {
          "output_type": "display_data",
          "data": {
            "text/plain": "PseudoLabels: 0it [00:00, ?it/s]",
            "application/vnd.jupyter.widget-view+json": {
              "version_major": 2,
              "version_minor": 0,
              "model_id": "8f965db593a647f0b5fcf1bb0a696cfa"
            }
          },
          "metadata": {}
        },
        {
          "output_type": "stream",
          "name": "stdout",
          "text": [
            "Use pseudo label: 8959\n"
          ]
        },
        {
          "output_type": "display_data",
          "data": {
            "text/plain": "Train:   0%|          | 0/69 [00:00<?, ?it/s]",
            "application/vnd.jupyter.widget-view+json": {
              "version_major": 2,
              "version_minor": 0,
              "model_id": "4abd43ded672484282be8b029f2fde51"
            }
          },
          "metadata": {}
        },
        {
          "output_type": "display_data",
          "data": {
            "text/plain": "Valid:   0%|          | 0/6 [00:00<?, ?it/s]",
            "application/vnd.jupyter.widget-view+json": {
              "version_major": 2,
              "version_minor": 0,
              "model_id": "d6e5b906b89d4b8aac95e313e2fd7495"
            }
          },
          "metadata": {}
        },
        {
          "output_type": "stream",
          "name": "stdout",
          "text": [
            "[ Train | 090/200 ] loss = 0.21499, acc = 0.93365\t[ Valid\t| 090/200 ]  loss = 1.04243, acc = 0.74740\n"
          ]
        },
        {
          "output_type": "display_data",
          "data": {
            "text/plain": "PseudoLabels: 0it [00:00, ?it/s]",
            "application/vnd.jupyter.widget-view+json": {
              "version_major": 2,
              "version_minor": 0,
              "model_id": "aad05797fbbd4c0e881f836519969d79"
            }
          },
          "metadata": {}
        },
        {
          "output_type": "stream",
          "name": "stdout",
          "text": [
            "Use pseudo label: 8907\n"
          ]
        },
        {
          "output_type": "display_data",
          "data": {
            "text/plain": "Train:   0%|          | 0/69 [00:00<?, ?it/s]",
            "application/vnd.jupyter.widget-view+json": {
              "version_major": 2,
              "version_minor": 0,
              "model_id": "c3271cc6f5ee43cf809bbb8e464022fc"
            }
          },
          "metadata": {}
        },
        {
          "output_type": "display_data",
          "data": {
            "text/plain": "Valid:   0%|          | 0/6 [00:00<?, ?it/s]",
            "application/vnd.jupyter.widget-view+json": {
              "version_major": 2,
              "version_minor": 0,
              "model_id": "f1cdd6cbe82c44958a377c5def533b5f"
            }
          },
          "metadata": {}
        },
        {
          "output_type": "stream",
          "name": "stdout",
          "text": [
            "[ Train | 091/200 ] loss = 0.22149, acc = 0.92742\t[ Valid\t| 091/200 ]  loss = 0.85669, acc = 0.78958\n"
          ]
        },
        {
          "output_type": "display_data",
          "data": {
            "text/plain": "PseudoLabels: 0it [00:00, ?it/s]",
            "application/vnd.jupyter.widget-view+json": {
              "version_major": 2,
              "version_minor": 0,
              "model_id": "5d6f24b9f16a4bbc9762ac549fe24783"
            }
          },
          "metadata": {}
        },
        {
          "output_type": "stream",
          "name": "stdout",
          "text": [
            "Use pseudo label: 8916\n"
          ]
        },
        {
          "output_type": "display_data",
          "data": {
            "text/plain": "Train:   0%|          | 0/69 [00:00<?, ?it/s]",
            "application/vnd.jupyter.widget-view+json": {
              "version_major": 2,
              "version_minor": 0,
              "model_id": "51ffcdf38404444b95cef6f5e5ca505a"
            }
          },
          "metadata": {}
        },
        {
          "output_type": "display_data",
          "data": {
            "text/plain": "Valid:   0%|          | 0/6 [00:00<?, ?it/s]",
            "application/vnd.jupyter.widget-view+json": {
              "version_major": 2,
              "version_minor": 0,
              "model_id": "852455c1961242cc98059c0315b489f0"
            }
          },
          "metadata": {}
        },
        {
          "output_type": "stream",
          "name": "stdout",
          "text": [
            "[ Train | 092/200 ] loss = 0.19802, acc = 0.93761\t[ Valid\t| 092/200 ]  loss = 0.90763, acc = 0.79036\n"
          ]
        },
        {
          "output_type": "display_data",
          "data": {
            "text/plain": "PseudoLabels: 0it [00:00, ?it/s]",
            "application/vnd.jupyter.widget-view+json": {
              "version_major": 2,
              "version_minor": 0,
              "model_id": "7fa48a1631144c299b81a7e70def8e2b"
            }
          },
          "metadata": {}
        },
        {
          "output_type": "stream",
          "name": "stdout",
          "text": [
            "Use pseudo label: 8994\n"
          ]
        },
        {
          "output_type": "display_data",
          "data": {
            "text/plain": "Train:   0%|          | 0/70 [00:00<?, ?it/s]",
            "application/vnd.jupyter.widget-view+json": {
              "version_major": 2,
              "version_minor": 0,
              "model_id": "f9f44b5381244013a2d8bea9d54b6a17"
            }
          },
          "metadata": {}
        },
        {
          "output_type": "display_data",
          "data": {
            "text/plain": "Valid:   0%|          | 0/6 [00:00<?, ?it/s]",
            "application/vnd.jupyter.widget-view+json": {
              "version_major": 2,
              "version_minor": 0,
              "model_id": "92f9c05ba16046288f8bbc4c788db902"
            }
          },
          "metadata": {}
        },
        {
          "output_type": "stream",
          "name": "stdout",
          "text": [
            "[ Train | 093/200 ] loss = 0.21776, acc = 0.92969\t[ Valid\t| 093/200 ]  loss = 0.87243, acc = 0.76953\n"
          ]
        },
        {
          "output_type": "display_data",
          "data": {
            "text/plain": "PseudoLabels: 0it [00:00, ?it/s]",
            "application/vnd.jupyter.widget-view+json": {
              "version_major": 2,
              "version_minor": 0,
              "model_id": "209f7cd996b643daabe92b1aad9eb58e"
            }
          },
          "metadata": {}
        },
        {
          "output_type": "stream",
          "name": "stdout",
          "text": [
            "Use pseudo label: 8950\n"
          ]
        },
        {
          "output_type": "display_data",
          "data": {
            "text/plain": "Train:   0%|          | 0/69 [00:00<?, ?it/s]",
            "application/vnd.jupyter.widget-view+json": {
              "version_major": 2,
              "version_minor": 0,
              "model_id": "41fe583c37bb493ca3ec06856e9b60f9"
            }
          },
          "metadata": {}
        },
        {
          "output_type": "display_data",
          "data": {
            "text/plain": "Valid:   0%|          | 0/6 [00:00<?, ?it/s]",
            "application/vnd.jupyter.widget-view+json": {
              "version_major": 2,
              "version_minor": 0,
              "model_id": "56ed11f8416647e6ad735d9b53d50323"
            }
          },
          "metadata": {}
        },
        {
          "output_type": "stream",
          "name": "stdout",
          "text": [
            "[ Train | 094/200 ] loss = 0.21227, acc = 0.93467\t[ Valid\t| 094/200 ]  loss = 0.77128, acc = 0.78177\n"
          ]
        },
        {
          "output_type": "display_data",
          "data": {
            "text/plain": "PseudoLabels: 0it [00:00, ?it/s]",
            "application/vnd.jupyter.widget-view+json": {
              "version_major": 2,
              "version_minor": 0,
              "model_id": "43970ea84a894405bf4f05359edd59c9"
            }
          },
          "metadata": {}
        },
        {
          "output_type": "stream",
          "name": "stdout",
          "text": [
            "Use pseudo label: 8947\n"
          ]
        },
        {
          "output_type": "display_data",
          "data": {
            "text/plain": "Train:   0%|          | 0/69 [00:00<?, ?it/s]",
            "application/vnd.jupyter.widget-view+json": {
              "version_major": 2,
              "version_minor": 0,
              "model_id": "92aa375f0a304b879ab4c4732285365e"
            }
          },
          "metadata": {}
        },
        {
          "output_type": "display_data",
          "data": {
            "text/plain": "Valid:   0%|          | 0/6 [00:00<?, ?it/s]",
            "application/vnd.jupyter.widget-view+json": {
              "version_major": 2,
              "version_minor": 0,
              "model_id": "6de26d69ee6b4384ae58eee5a777ef1c"
            }
          },
          "metadata": {}
        },
        {
          "output_type": "stream",
          "name": "stdout",
          "text": [
            "[ Train | 095/200 ] loss = 0.21184, acc = 0.93308\t[ Valid\t| 095/200 ]  loss = 0.80526, acc = 0.80234\n"
          ]
        },
        {
          "output_type": "display_data",
          "data": {
            "text/plain": "PseudoLabels: 0it [00:00, ?it/s]",
            "application/vnd.jupyter.widget-view+json": {
              "version_major": 2,
              "version_minor": 0,
              "model_id": "b82c7ea04d164f11a494309388da9da3"
            }
          },
          "metadata": {}
        },
        {
          "output_type": "stream",
          "name": "stdout",
          "text": [
            "Use pseudo label: 8969\n"
          ]
        },
        {
          "output_type": "display_data",
          "data": {
            "text/plain": "Train:   0%|          | 0/70 [00:00<?, ?it/s]",
            "application/vnd.jupyter.widget-view+json": {
              "version_major": 2,
              "version_minor": 0,
              "model_id": "56e2a909c50c4a9c8d237f9685e1531b"
            }
          },
          "metadata": {}
        },
        {
          "output_type": "display_data",
          "data": {
            "text/plain": "Valid:   0%|          | 0/6 [00:00<?, ?it/s]",
            "application/vnd.jupyter.widget-view+json": {
              "version_major": 2,
              "version_minor": 0,
              "model_id": "c3803586a1444d73a335e53baadcc727"
            }
          },
          "metadata": {}
        },
        {
          "output_type": "stream",
          "name": "stdout",
          "text": [
            "[ Train | 096/200 ] loss = 0.20068, acc = 0.93449\t[ Valid\t| 096/200 ]  loss = 0.70568, acc = 0.82760\nEpoch    96: reducing learning rate of group 0 to 2.6214e-04.\n"
          ]
        },
        {
          "output_type": "display_data",
          "data": {
            "text/plain": "PseudoLabels: 0it [00:00, ?it/s]",
            "application/vnd.jupyter.widget-view+json": {
              "version_major": 2,
              "version_minor": 0,
              "model_id": "87dd77f5c730432d89033876db873d95"
            }
          },
          "metadata": {}
        },
        {
          "output_type": "stream",
          "name": "stdout",
          "text": [
            "Use pseudo label: 9010\n"
          ]
        },
        {
          "output_type": "display_data",
          "data": {
            "text/plain": "Train:   0%|          | 0/70 [00:00<?, ?it/s]",
            "application/vnd.jupyter.widget-view+json": {
              "version_major": 2,
              "version_minor": 0,
              "model_id": "04193f0c9ed343dcbbc2ddb3c90d2f0a"
            }
          },
          "metadata": {}
        },
        {
          "output_type": "display_data",
          "data": {
            "text/plain": "Valid:   0%|          | 0/6 [00:00<?, ?it/s]",
            "application/vnd.jupyter.widget-view+json": {
              "version_major": 2,
              "version_minor": 0,
              "model_id": "e8c5782069d5489f8d8c7c4fe3bc178b"
            }
          },
          "metadata": {}
        },
        {
          "output_type": "stream",
          "name": "stdout",
          "text": [
            "[ Train | 097/200 ] loss = 0.19175, acc = 0.93951\t[ Valid\t| 097/200 ]  loss = 0.84538, acc = 0.79297\n"
          ]
        },
        {
          "output_type": "display_data",
          "data": {
            "text/plain": "PseudoLabels: 0it [00:00, ?it/s]",
            "application/vnd.jupyter.widget-view+json": {
              "version_major": 2,
              "version_minor": 0,
              "model_id": "a21b1a5cdff74b70831a715250253b54"
            }
          },
          "metadata": {}
        },
        {
          "output_type": "stream",
          "name": "stdout",
          "text": [
            "Use pseudo label: 9037\n"
          ]
        },
        {
          "output_type": "display_data",
          "data": {
            "text/plain": "Train:   0%|          | 0/70 [00:00<?, ?it/s]",
            "application/vnd.jupyter.widget-view+json": {
              "version_major": 2,
              "version_minor": 0,
              "model_id": "7ae6b64c984e471eb3ff2b7f8f901262"
            }
          },
          "metadata": {}
        },
        {
          "output_type": "display_data",
          "data": {
            "text/plain": "Valid:   0%|          | 0/6 [00:00<?, ?it/s]",
            "application/vnd.jupyter.widget-view+json": {
              "version_major": 2,
              "version_minor": 0,
              "model_id": "484515c4abdf491781dafe6e0f5246fc"
            }
          },
          "metadata": {}
        },
        {
          "output_type": "stream",
          "name": "stdout",
          "text": [
            "[ Train | 098/200 ] loss = 0.17245, acc = 0.94576\t[ Valid\t| 098/200 ]  loss = 0.69974, acc = 0.82448\n"
          ]
        },
        {
          "output_type": "display_data",
          "data": {
            "text/plain": "PseudoLabels: 0it [00:00, ?it/s]",
            "application/vnd.jupyter.widget-view+json": {
              "version_major": 2,
              "version_minor": 0,
              "model_id": "db4238d38d7642d6ae0d0b8a1b192b70"
            }
          },
          "metadata": {}
        },
        {
          "output_type": "stream",
          "name": "stdout",
          "text": [
            "Use pseudo label: 9124\n"
          ]
        },
        {
          "output_type": "display_data",
          "data": {
            "text/plain": "Train:   0%|          | 0/71 [00:00<?, ?it/s]",
            "application/vnd.jupyter.widget-view+json": {
              "version_major": 2,
              "version_minor": 0,
              "model_id": "158ccbd5019646338eeabb1c46b4b9d4"
            }
          },
          "metadata": {}
        },
        {
          "output_type": "display_data",
          "data": {
            "text/plain": "Valid:   0%|          | 0/6 [00:00<?, ?it/s]",
            "application/vnd.jupyter.widget-view+json": {
              "version_major": 2,
              "version_minor": 0,
              "model_id": "f5adaefe7f9e428098f0d4292236f74d"
            }
          },
          "metadata": {}
        },
        {
          "output_type": "stream",
          "name": "stdout",
          "text": [
            "[ Train | 099/200 ] loss = 0.18631, acc = 0.94245\t[ Valid\t| 099/200 ]  loss = 0.84667, acc = 0.81094\n"
          ]
        },
        {
          "output_type": "display_data",
          "data": {
            "text/plain": "PseudoLabels: 0it [00:00, ?it/s]",
            "application/vnd.jupyter.widget-view+json": {
              "version_major": 2,
              "version_minor": 0,
              "model_id": "ca1579e058bc4f82a28f3cbd11795ede"
            }
          },
          "metadata": {}
        },
        {
          "output_type": "stream",
          "name": "stdout",
          "text": [
            "Use pseudo label: 9099\n"
          ]
        },
        {
          "output_type": "display_data",
          "data": {
            "text/plain": "Train:   0%|          | 0/71 [00:00<?, ?it/s]",
            "application/vnd.jupyter.widget-view+json": {
              "version_major": 2,
              "version_minor": 0,
              "model_id": "8adcd7cf16ea46d9b44341b814c5f8c5"
            }
          },
          "metadata": {}
        },
        {
          "output_type": "display_data",
          "data": {
            "text/plain": "Valid:   0%|          | 0/6 [00:00<?, ?it/s]",
            "application/vnd.jupyter.widget-view+json": {
              "version_major": 2,
              "version_minor": 0,
              "model_id": "695aa704fa8f4b2095b535f3951a9bee"
            }
          },
          "metadata": {}
        },
        {
          "output_type": "stream",
          "name": "stdout",
          "text": [
            "[ Train | 100/200 ] loss = 0.17241, acc = 0.94663\t[ Valid\t| 100/200 ]  loss = 0.74770, acc = 0.80573\n"
          ]
        },
        {
          "output_type": "display_data",
          "data": {
            "text/plain": "PseudoLabels: 0it [00:00, ?it/s]",
            "application/vnd.jupyter.widget-view+json": {
              "version_major": 2,
              "version_minor": 0,
              "model_id": "cd741a4d15de4ce2b286229e51dc6f46"
            }
          },
          "metadata": {}
        },
        {
          "output_type": "stream",
          "name": "stdout",
          "text": [
            "Use pseudo label: 9056\n"
          ]
        },
        {
          "output_type": "display_data",
          "data": {
            "text/plain": "Train:   0%|          | 0/70 [00:00<?, ?it/s]",
            "application/vnd.jupyter.widget-view+json": {
              "version_major": 2,
              "version_minor": 0,
              "model_id": "16eaca0bfbb346888fb594a9c2b4b290"
            }
          },
          "metadata": {}
        },
        {
          "output_type": "display_data",
          "data": {
            "text/plain": "Valid:   0%|          | 0/6 [00:00<?, ?it/s]",
            "application/vnd.jupyter.widget-view+json": {
              "version_major": 2,
              "version_minor": 0,
              "model_id": "731821983df5458ca48ae8c5b8115dce"
            }
          },
          "metadata": {}
        },
        {
          "output_type": "stream",
          "name": "stdout",
          "text": [
            "[ Train | 101/200 ] loss = 0.17809, acc = 0.94665\t[ Valid\t| 101/200 ]  loss = 0.75070, acc = 0.82240\n"
          ]
        },
        {
          "output_type": "display_data",
          "data": {
            "text/plain": "PseudoLabels: 0it [00:00, ?it/s]",
            "application/vnd.jupyter.widget-view+json": {
              "version_major": 2,
              "version_minor": 0,
              "model_id": "ffae2bf57373437ab5bdec7e7052fc78"
            }
          },
          "metadata": {}
        },
        {
          "output_type": "stream",
          "name": "stdout",
          "text": [
            "Use pseudo label: 9154\n"
          ]
        },
        {
          "output_type": "display_data",
          "data": {
            "text/plain": "Train:   0%|          | 0/71 [00:00<?, ?it/s]",
            "application/vnd.jupyter.widget-view+json": {
              "version_major": 2,
              "version_minor": 0,
              "model_id": "48417f9c84c54a91877755256e9c8be3"
            }
          },
          "metadata": {}
        },
        {
          "output_type": "display_data",
          "data": {
            "text/plain": "Valid:   0%|          | 0/6 [00:00<?, ?it/s]",
            "application/vnd.jupyter.widget-view+json": {
              "version_major": 2,
              "version_minor": 0,
              "model_id": "88fca229ffa942fb95c5f69b7a5e0540"
            }
          },
          "metadata": {}
        },
        {
          "output_type": "stream",
          "name": "stdout",
          "text": [
            "[ Train | 102/200 ] loss = 0.17961, acc = 0.94201\t[ Valid\t| 102/200 ]  loss = 1.02374, acc = 0.78021\n"
          ]
        },
        {
          "output_type": "display_data",
          "data": {
            "text/plain": "PseudoLabels: 0it [00:00, ?it/s]",
            "application/vnd.jupyter.widget-view+json": {
              "version_major": 2,
              "version_minor": 0,
              "model_id": "aa0b88badd2f4219a3687eaae6fe67f6"
            }
          },
          "metadata": {}
        },
        {
          "output_type": "stream",
          "name": "stdout",
          "text": [
            "Use pseudo label: 9144\n"
          ]
        },
        {
          "output_type": "display_data",
          "data": {
            "text/plain": "Train:   0%|          | 0/71 [00:00<?, ?it/s]",
            "application/vnd.jupyter.widget-view+json": {
              "version_major": 2,
              "version_minor": 0,
              "model_id": "452b077987c740aeb8f9c88775b734d0"
            }
          },
          "metadata": {}
        },
        {
          "output_type": "display_data",
          "data": {
            "text/plain": "Valid:   0%|          | 0/6 [00:00<?, ?it/s]",
            "application/vnd.jupyter.widget-view+json": {
              "version_major": 2,
              "version_minor": 0,
              "model_id": "3f3383d4e04d46d88dadc85c76a3a8c1"
            }
          },
          "metadata": {}
        },
        {
          "output_type": "stream",
          "name": "stdout",
          "text": [
            "[ Train | 103/200 ] loss = 0.18859, acc = 0.94080\t[ Valid\t| 103/200 ]  loss = 0.85426, acc = 0.79479\n"
          ]
        },
        {
          "output_type": "display_data",
          "data": {
            "text/plain": "PseudoLabels: 0it [00:00, ?it/s]",
            "application/vnd.jupyter.widget-view+json": {
              "version_major": 2,
              "version_minor": 0,
              "model_id": "699b79cc32464638a24089e947f2df3d"
            }
          },
          "metadata": {}
        },
        {
          "output_type": "stream",
          "name": "stdout",
          "text": [
            "Use pseudo label: 9090\n"
          ]
        },
        {
          "output_type": "display_data",
          "data": {
            "text/plain": "Train:   0%|          | 0/71 [00:00<?, ?it/s]",
            "application/vnd.jupyter.widget-view+json": {
              "version_major": 2,
              "version_minor": 0,
              "model_id": "ff17c7af7a3049c98b46b9a8b298e632"
            }
          },
          "metadata": {}
        },
        {
          "output_type": "display_data",
          "data": {
            "text/plain": "Valid:   0%|          | 0/6 [00:00<?, ?it/s]",
            "application/vnd.jupyter.widget-view+json": {
              "version_major": 2,
              "version_minor": 0,
              "model_id": "58b9817d90e14e9bbd9c7a386ee24b1e"
            }
          },
          "metadata": {}
        },
        {
          "output_type": "stream",
          "name": "stdout",
          "text": [
            "[ Train | 104/200 ] loss = 0.18694, acc = 0.94267\t[ Valid\t| 104/200 ]  loss = 0.93137, acc = 0.80964\n"
          ]
        },
        {
          "output_type": "display_data",
          "data": {
            "text/plain": "PseudoLabels: 0it [00:00, ?it/s]",
            "application/vnd.jupyter.widget-view+json": {
              "version_major": 2,
              "version_minor": 0,
              "model_id": "e93b3ba0563e4e0a9807bcce5f4faa7c"
            }
          },
          "metadata": {}
        },
        {
          "output_type": "stream",
          "name": "stdout",
          "text": [
            "Use pseudo label: 9113\n"
          ]
        },
        {
          "output_type": "display_data",
          "data": {
            "text/plain": "Train:   0%|          | 0/71 [00:00<?, ?it/s]",
            "application/vnd.jupyter.widget-view+json": {
              "version_major": 2,
              "version_minor": 0,
              "model_id": "d0729dc1699e4755895afda6110f31c9"
            }
          },
          "metadata": {}
        },
        {
          "output_type": "display_data",
          "data": {
            "text/plain": "Valid:   0%|          | 0/6 [00:00<?, ?it/s]",
            "application/vnd.jupyter.widget-view+json": {
              "version_major": 2,
              "version_minor": 0,
              "model_id": "5c941a7c1b3b4c6e8204e6c3cfa41bcc"
            }
          },
          "metadata": {}
        },
        {
          "output_type": "stream",
          "name": "stdout",
          "text": [
            "[ Train | 105/200 ] loss = 0.18358, acc = 0.94190\t[ Valid\t| 105/200 ]  loss = 0.88123, acc = 0.76719\nEpoch   105: reducing learning rate of group 0 to 2.0972e-04.\n"
          ]
        },
        {
          "output_type": "display_data",
          "data": {
            "text/plain": "PseudoLabels: 0it [00:00, ?it/s]",
            "application/vnd.jupyter.widget-view+json": {
              "version_major": 2,
              "version_minor": 0,
              "model_id": "180a575c69bd468dbb9633580027039a"
            }
          },
          "metadata": {}
        },
        {
          "output_type": "stream",
          "name": "stdout",
          "text": [
            "Use pseudo label: 9163\n"
          ]
        },
        {
          "output_type": "display_data",
          "data": {
            "text/plain": "Train:   0%|          | 0/71 [00:00<?, ?it/s]",
            "application/vnd.jupyter.widget-view+json": {
              "version_major": 2,
              "version_minor": 0,
              "model_id": "cb4d2559313c41cc9fb08027dfccabda"
            }
          },
          "metadata": {}
        },
        {
          "output_type": "display_data",
          "data": {
            "text/plain": "Valid:   0%|          | 0/6 [00:00<?, ?it/s]",
            "application/vnd.jupyter.widget-view+json": {
              "version_major": 2,
              "version_minor": 0,
              "model_id": "a67aa814b21b4e26b35d3c66b63afd6c"
            }
          },
          "metadata": {}
        },
        {
          "output_type": "stream",
          "name": "stdout",
          "text": [
            "[ Train | 106/200 ] loss = 0.16652, acc = 0.94806\t[ Valid\t| 106/200 ]  loss = 0.78498, acc = 0.80234\n"
          ]
        },
        {
          "output_type": "display_data",
          "data": {
            "text/plain": "PseudoLabels: 0it [00:00, ?it/s]",
            "application/vnd.jupyter.widget-view+json": {
              "version_major": 2,
              "version_minor": 0,
              "model_id": "679bd9aa156d4397b1d4f50815d77643"
            }
          },
          "metadata": {}
        },
        {
          "output_type": "stream",
          "name": "stdout",
          "text": [
            "Use pseudo label: 9158\n"
          ]
        },
        {
          "output_type": "display_data",
          "data": {
            "text/plain": "Train:   0%|          | 0/71 [00:00<?, ?it/s]",
            "application/vnd.jupyter.widget-view+json": {
              "version_major": 2,
              "version_minor": 0,
              "model_id": "ec20760a12f54eae851fffc7f2af2430"
            }
          },
          "metadata": {}
        },
        {
          "output_type": "display_data",
          "data": {
            "text/plain": "Valid:   0%|          | 0/6 [00:00<?, ?it/s]",
            "application/vnd.jupyter.widget-view+json": {
              "version_major": 2,
              "version_minor": 0,
              "model_id": "4879736e26454083ae94c561c58df0f0"
            }
          },
          "metadata": {}
        },
        {
          "output_type": "stream",
          "name": "stdout",
          "text": [
            "[ Train | 107/200 ] loss = 0.16604, acc = 0.94894\t[ Valid\t| 107/200 ]  loss = 0.82971, acc = 0.79297\n"
          ]
        },
        {
          "output_type": "display_data",
          "data": {
            "text/plain": "PseudoLabels: 0it [00:00, ?it/s]",
            "application/vnd.jupyter.widget-view+json": {
              "version_major": 2,
              "version_minor": 0,
              "model_id": "22de7b79614a47da98d886718cb83fe5"
            }
          },
          "metadata": {}
        },
        {
          "output_type": "stream",
          "name": "stdout",
          "text": [
            "Use pseudo label: 9213\n"
          ]
        },
        {
          "output_type": "display_data",
          "data": {
            "text/plain": "Train:   0%|          | 0/71 [00:00<?, ?it/s]",
            "application/vnd.jupyter.widget-view+json": {
              "version_major": 2,
              "version_minor": 0,
              "model_id": "af07a836e54142e29a4aad7d5ff774de"
            }
          },
          "metadata": {}
        },
        {
          "output_type": "display_data",
          "data": {
            "text/plain": "Valid:   0%|          | 0/6 [00:00<?, ?it/s]",
            "application/vnd.jupyter.widget-view+json": {
              "version_major": 2,
              "version_minor": 0,
              "model_id": "a200953bdd184b21ac0d1812f7090486"
            }
          },
          "metadata": {}
        },
        {
          "output_type": "stream",
          "name": "stdout",
          "text": [
            "[ Train | 108/200 ] loss = 0.17165, acc = 0.94388\t[ Valid\t| 108/200 ]  loss = 0.84691, acc = 0.80339\n"
          ]
        },
        {
          "output_type": "display_data",
          "data": {
            "text/plain": "PseudoLabels: 0it [00:00, ?it/s]",
            "application/vnd.jupyter.widget-view+json": {
              "version_major": 2,
              "version_minor": 0,
              "model_id": "599e48252dc849c08756c7d00eb40b78"
            }
          },
          "metadata": {}
        },
        {
          "output_type": "stream",
          "name": "stdout",
          "text": [
            "Use pseudo label: 9131\n"
          ]
        },
        {
          "output_type": "display_data",
          "data": {
            "text/plain": "Train:   0%|          | 0/71 [00:00<?, ?it/s]",
            "application/vnd.jupyter.widget-view+json": {
              "version_major": 2,
              "version_minor": 0,
              "model_id": "df9ec805537343d38755a8d227681c00"
            }
          },
          "metadata": {}
        },
        {
          "output_type": "display_data",
          "data": {
            "text/plain": "Valid:   0%|          | 0/6 [00:00<?, ?it/s]",
            "application/vnd.jupyter.widget-view+json": {
              "version_major": 2,
              "version_minor": 0,
              "model_id": "bcc625341b4945669294fe5e588a487d"
            }
          },
          "metadata": {}
        },
        {
          "output_type": "stream",
          "name": "stdout",
          "text": [
            "[ Train | 109/200 ] loss = 0.16282, acc = 0.94872\t[ Valid\t| 109/200 ]  loss = 0.82168, acc = 0.80833\n"
          ]
        },
        {
          "output_type": "display_data",
          "data": {
            "text/plain": "PseudoLabels: 0it [00:00, ?it/s]",
            "application/vnd.jupyter.widget-view+json": {
              "version_major": 2,
              "version_minor": 0,
              "model_id": "2580b194a7c749a5a9af9b3484b6cfbb"
            }
          },
          "metadata": {}
        },
        {
          "output_type": "stream",
          "name": "stdout",
          "text": [
            "Use pseudo label: 9224\n"
          ]
        },
        {
          "output_type": "display_data",
          "data": {
            "text/plain": "Train:   0%|          | 0/72 [00:00<?, ?it/s]",
            "application/vnd.jupyter.widget-view+json": {
              "version_major": 2,
              "version_minor": 0,
              "model_id": "a8952cc712c94cc18e476dfa0f67d70f"
            }
          },
          "metadata": {}
        },
        {
          "output_type": "display_data",
          "data": {
            "text/plain": "Valid:   0%|          | 0/6 [00:00<?, ?it/s]",
            "application/vnd.jupyter.widget-view+json": {
              "version_major": 2,
              "version_minor": 0,
              "model_id": "265e48439e0843eb9d5eb0249abdba16"
            }
          },
          "metadata": {}
        },
        {
          "output_type": "stream",
          "name": "stdout",
          "text": [
            "[ Train | 110/200 ] loss = 0.15965, acc = 0.94944\t[ Valid\t| 110/200 ]  loss = 0.80252, acc = 0.80208\n"
          ]
        },
        {
          "output_type": "display_data",
          "data": {
            "text/plain": "PseudoLabels: 0it [00:00, ?it/s]",
            "application/vnd.jupyter.widget-view+json": {
              "version_major": 2,
              "version_minor": 0,
              "model_id": "261672ff28df4f1abc4c0600a92045cb"
            }
          },
          "metadata": {}
        },
        {
          "output_type": "stream",
          "name": "stdout",
          "text": [
            "Use pseudo label: 9199\n"
          ]
        },
        {
          "output_type": "display_data",
          "data": {
            "text/plain": "Train:   0%|          | 0/71 [00:00<?, ?it/s]",
            "application/vnd.jupyter.widget-view+json": {
              "version_major": 2,
              "version_minor": 0,
              "model_id": "f5382d6f1ca644399826ebf7ce8bb53e"
            }
          },
          "metadata": {}
        },
        {
          "output_type": "display_data",
          "data": {
            "text/plain": "Valid:   0%|          | 0/6 [00:00<?, ?it/s]",
            "application/vnd.jupyter.widget-view+json": {
              "version_major": 2,
              "version_minor": 0,
              "model_id": "c14cd7b15e1a48af8fbca924a815a799"
            }
          },
          "metadata": {}
        },
        {
          "output_type": "stream",
          "name": "stdout",
          "text": [
            "[ Train | 111/200 ] loss = 0.15243, acc = 0.95092\t[ Valid\t| 111/200 ]  loss = 0.82346, acc = 0.80391\n"
          ]
        },
        {
          "output_type": "display_data",
          "data": {
            "text/plain": "PseudoLabels: 0it [00:00, ?it/s]",
            "application/vnd.jupyter.widget-view+json": {
              "version_major": 2,
              "version_minor": 0,
              "model_id": "cc12f202d0544d888b45e3f618ba0f46"
            }
          },
          "metadata": {}
        },
        {
          "output_type": "stream",
          "name": "stdout",
          "text": [
            "Use pseudo label: 9205\n"
          ]
        },
        {
          "output_type": "display_data",
          "data": {
            "text/plain": "Train:   0%|          | 0/71 [00:00<?, ?it/s]",
            "application/vnd.jupyter.widget-view+json": {
              "version_major": 2,
              "version_minor": 0,
              "model_id": "3fecb28d3cde422c9f41f9c1d64279cc"
            }
          },
          "metadata": {}
        },
        {
          "output_type": "display_data",
          "data": {
            "text/plain": "Valid:   0%|          | 0/6 [00:00<?, ?it/s]",
            "application/vnd.jupyter.widget-view+json": {
              "version_major": 2,
              "version_minor": 0,
              "model_id": "a9f181a336b54890b302353e19473b89"
            }
          },
          "metadata": {}
        },
        {
          "output_type": "stream",
          "name": "stdout",
          "text": [
            "[ Train | 112/200 ] loss = 0.15244, acc = 0.95169\t[ Valid\t| 112/200 ]  loss = 0.71455, acc = 0.82708\n"
          ]
        },
        {
          "output_type": "display_data",
          "data": {
            "text/plain": "PseudoLabels: 0it [00:00, ?it/s]",
            "application/vnd.jupyter.widget-view+json": {
              "version_major": 2,
              "version_minor": 0,
              "model_id": "f3814dc975e4482682c82dae2a7d2a55"
            }
          },
          "metadata": {}
        },
        {
          "output_type": "stream",
          "name": "stdout",
          "text": [
            "Use pseudo label: 9220\n"
          ]
        },
        {
          "output_type": "display_data",
          "data": {
            "text/plain": "Train:   0%|          | 0/72 [00:00<?, ?it/s]",
            "application/vnd.jupyter.widget-view+json": {
              "version_major": 2,
              "version_minor": 0,
              "model_id": "2abc0a2db76d4078b2ed95d0bcff752e"
            }
          },
          "metadata": {}
        },
        {
          "output_type": "display_data",
          "data": {
            "text/plain": "Valid:   0%|          | 0/6 [00:00<?, ?it/s]",
            "application/vnd.jupyter.widget-view+json": {
              "version_major": 2,
              "version_minor": 0,
              "model_id": "8c246823abfe4b9cb94679b23feadf1e"
            }
          },
          "metadata": {}
        },
        {
          "output_type": "stream",
          "name": "stdout",
          "text": [
            "[ Train | 113/200 ] loss = 0.15789, acc = 0.94911\t[ Valid\t| 113/200 ]  loss = 0.75393, acc = 0.81406\n"
          ]
        },
        {
          "output_type": "display_data",
          "data": {
            "text/plain": "PseudoLabels: 0it [00:00, ?it/s]",
            "application/vnd.jupyter.widget-view+json": {
              "version_major": 2,
              "version_minor": 0,
              "model_id": "a7b5ba0fd9794f8680b3fa5e1c9877c8"
            }
          },
          "metadata": {}
        },
        {
          "output_type": "stream",
          "name": "stdout",
          "text": [
            "Use pseudo label: 9204\n"
          ]
        },
        {
          "output_type": "display_data",
          "data": {
            "text/plain": "Train:   0%|          | 0/71 [00:00<?, ?it/s]",
            "application/vnd.jupyter.widget-view+json": {
              "version_major": 2,
              "version_minor": 0,
              "model_id": "fcbbc752fd57475083b423cd258f43b6"
            }
          },
          "metadata": {}
        },
        {
          "output_type": "display_data",
          "data": {
            "text/plain": "Valid:   0%|          | 0/6 [00:00<?, ?it/s]",
            "application/vnd.jupyter.widget-view+json": {
              "version_major": 2,
              "version_minor": 0,
              "model_id": "22651be1a517490d9a6253a54ffa4c8b"
            }
          },
          "metadata": {}
        },
        {
          "output_type": "stream",
          "name": "stdout",
          "text": [
            "[ Train | 114/200 ] loss = 0.16384, acc = 0.94971\t[ Valid\t| 114/200 ]  loss = 0.90164, acc = 0.78151\nEpoch   114: reducing learning rate of group 0 to 1.6777e-04.\n"
          ]
        },
        {
          "output_type": "display_data",
          "data": {
            "text/plain": "PseudoLabels: 0it [00:00, ?it/s]",
            "application/vnd.jupyter.widget-view+json": {
              "version_major": 2,
              "version_minor": 0,
              "model_id": "30c1fd6c70654eda963ca1bbb991f327"
            }
          },
          "metadata": {}
        },
        {
          "output_type": "stream",
          "name": "stdout",
          "text": [
            "Use pseudo label: 9248\n"
          ]
        },
        {
          "output_type": "display_data",
          "data": {
            "text/plain": "Train:   0%|          | 0/72 [00:00<?, ?it/s]",
            "application/vnd.jupyter.widget-view+json": {
              "version_major": 2,
              "version_minor": 0,
              "model_id": "876600b2977b4503a0b4a3d1d6227956"
            }
          },
          "metadata": {}
        },
        {
          "output_type": "display_data",
          "data": {
            "text/plain": "Valid:   0%|          | 0/6 [00:00<?, ?it/s]",
            "application/vnd.jupyter.widget-view+json": {
              "version_major": 2,
              "version_minor": 0,
              "model_id": "695416e7fe7c43fda9e5c50d9de0cd68"
            }
          },
          "metadata": {}
        },
        {
          "output_type": "stream",
          "name": "stdout",
          "text": [
            "saving model with acc 0.835\n[ Train | 115/200 ] loss = 0.14697, acc = 0.95605\t[ Valid\t| 115/200 ]  loss = 0.70236, acc = 0.83490\n"
          ]
        },
        {
          "output_type": "display_data",
          "data": {
            "text/plain": "PseudoLabels: 0it [00:00, ?it/s]",
            "application/vnd.jupyter.widget-view+json": {
              "version_major": 2,
              "version_minor": 0,
              "model_id": "0286b185824646188d1a69422a284fe7"
            }
          },
          "metadata": {}
        },
        {
          "output_type": "error",
          "ename": "KeyboardInterrupt",
          "evalue": "",
          "traceback": [
            "\u001b[0;31m---------------------------------------------------------------------------\u001b[0m",
            "\u001b[0;31mKeyboardInterrupt\u001b[0m                         Traceback (most recent call last)",
            "\u001b[0;32m<ipython-input-20-04162fe2b73f>\u001b[0m in \u001b[0;36m<module>\u001b[0;34m\u001b[0m\n\u001b[1;32m     34\u001b[0m     \u001b[0;31m# if True:\u001b[0m\u001b[0;34m\u001b[0m\u001b[0;34m\u001b[0m\u001b[0;34m\u001b[0m\u001b[0m\n\u001b[1;32m     35\u001b[0m         \u001b[0;31m# Otain pseudo-labels for unlabeled data using trained model.\u001b[0m\u001b[0;34m\u001b[0m\u001b[0;34m\u001b[0m\u001b[0;34m\u001b[0m\u001b[0m\n\u001b[0;32m---> 36\u001b[0;31m         \u001b[0mpseudo_set\u001b[0m \u001b[0;34m=\u001b[0m \u001b[0mget_pseudo_labels\u001b[0m\u001b[0;34m(\u001b[0m\u001b[0munlabeled_set\u001b[0m\u001b[0;34m,\u001b[0m \u001b[0mmodel\u001b[0m\u001b[0;34m,\u001b[0m \u001b[0mthreshold\u001b[0m\u001b[0;34m=\u001b[0m\u001b[0;36m0.7\u001b[0m\u001b[0;34m)\u001b[0m\u001b[0;34m\u001b[0m\u001b[0;34m\u001b[0m\u001b[0m\n\u001b[0m\u001b[1;32m     37\u001b[0m \u001b[0;34m\u001b[0m\u001b[0m\n\u001b[1;32m     38\u001b[0m         \u001b[0;31m# Construct a new dataset and a data loader for training.\u001b[0m\u001b[0;34m\u001b[0m\u001b[0;34m\u001b[0m\u001b[0;34m\u001b[0m\u001b[0m\n",
            "\u001b[0;32m<ipython-input-12-25de4b9a6fbf>\u001b[0m in \u001b[0;36mget_pseudo_labels\u001b[0;34m(dataset, model, threshold)\u001b[0m\n\u001b[1;32m     27\u001b[0m         \u001b[0;31m# select = (probs1 > threshold) & ((probs1-probs2) > .25)\u001b[0m\u001b[0;34m\u001b[0m\u001b[0;34m\u001b[0m\u001b[0;34m\u001b[0m\u001b[0m\n\u001b[1;32m     28\u001b[0m         \u001b[0mselect\u001b[0m \u001b[0;34m=\u001b[0m \u001b[0;34m(\u001b[0m\u001b[0mprobs1\u001b[0m \u001b[0;34m>\u001b[0m \u001b[0mthreshold\u001b[0m\u001b[0;34m)\u001b[0m\u001b[0;34m\u001b[0m\u001b[0;34m\u001b[0m\u001b[0m\n\u001b[0;32m---> 29\u001b[0;31m         \u001b[0mtargets\u001b[0m \u001b[0;34m+=\u001b[0m \u001b[0mst\u001b[0m\u001b[0;34m[\u001b[0m\u001b[0;36m1\u001b[0m\u001b[0;34m]\u001b[0m\u001b[0;34m[\u001b[0m\u001b[0mselect\u001b[0m\u001b[0;34m,\u001b[0m \u001b[0;36m0\u001b[0m\u001b[0;34m]\u001b[0m\u001b[0;34m.\u001b[0m\u001b[0mtolist\u001b[0m\u001b[0;34m(\u001b[0m\u001b[0;34m)\u001b[0m\u001b[0;34m\u001b[0m\u001b[0;34m\u001b[0m\u001b[0m\n\u001b[0m\u001b[1;32m     30\u001b[0m         \u001b[0midx\u001b[0m \u001b[0;34m+=\u001b[0m \u001b[0;34m(\u001b[0m\u001b[0mtorch\u001b[0m\u001b[0;34m.\u001b[0m\u001b[0mwhere\u001b[0m\u001b[0;34m(\u001b[0m\u001b[0mselect\u001b[0m\u001b[0;34m)\u001b[0m\u001b[0;34m[\u001b[0m\u001b[0;36m0\u001b[0m\u001b[0;34m]\u001b[0m \u001b[0;34m+\u001b[0m \u001b[0mbatch_size\u001b[0m\u001b[0;34m*\u001b[0m\u001b[0mi\u001b[0m\u001b[0;34m)\u001b[0m\u001b[0;34m.\u001b[0m\u001b[0mtolist\u001b[0m\u001b[0;34m(\u001b[0m\u001b[0;34m)\u001b[0m\u001b[0;34m\u001b[0m\u001b[0;34m\u001b[0m\u001b[0m\n\u001b[1;32m     31\u001b[0m \u001b[0;34m\u001b[0m\u001b[0m\n",
            "\u001b[0;31mKeyboardInterrupt\u001b[0m: "
          ]
        }
      ]
    },
    {
      "cell_type": "markdown",
      "metadata": {
        "id": "2o1oCMXy61_3"
      },
      "source": [
        "## **Testing**\n",
        "\n",
        "For inference, we need to make sure the model is in eval mode, and the order of the dataset should not be shuffled (\"shuffle=False\" in test_loader).\n",
        "\n",
        "Last but not least, don't forget to save the predictions into a single CSV file.\n",
        "The format of CSV file should follow the rules mentioned in the slides.\n",
        "\n",
        "### **WARNING -- Keep in Mind**\n",
        "\n",
        "Cheating includes but not limited to:\n",
        "1.   using testing labels,\n",
        "2.   submitting results to previous Kaggle competitions,\n",
        "3.   sharing predictions with others,\n",
        "4.   copying codes from any creatures on Earth,\n",
        "5.   asking other people to do it for you.\n",
        "\n",
        "Any violations bring you punishments from getting a discount on the final grade to failing the course.\n",
        "\n",
        "It is your responsibility to check whether your code violates the rules.\n",
        "When citing codes from the Internet, you should know what these codes exactly do.\n",
        "You will **NOT** be tolerated if you break the rule and claim you don't know what these codes do.\n"
      ]
    },
    {
      "source": [
        "it = iter(test_loader)\n",
        "a = next(it)[0].to(device)\n",
        "ae_model.eval()\n",
        "b = ae_model(a)\n",
        "import cv2\n",
        "b = b.to('cpu').detach().numpy().transpose([0, 2, 3, 1])\n",
        "a = a.to('cpu').detach().numpy().transpose([0, 2, 3, 1])\n",
        "def norm(img):\n",
        "    for i in range(3):\n",
        "        ch = img[:, :, i]\n",
        "        a = ch.min()\n",
        "        b = ch.max()\n",
        "        img[:, :, i] = (ch-a)/(b-a)\n",
        "    return (img*255).astype('uint8')\n",
        "for i, img in enumerate(b):\n",
        "    cv2.imwrite(f\"img/{i}.png\", norm(img))\n",
        "    cv2.imwrite(f\"img/{i}_.png\", norm(a[i]))\n",
        "    if i == 0:\n",
        "        break"
      ],
      "cell_type": "markdown",
      "metadata": {}
    },
    {
      "cell_type": "code",
      "metadata": {
        "id": "4HznI9_-ocrq"
      },
      "source": [
        "# Make sure the model is in eval mode.\n",
        "# Some modules like Dropout or BatchNorm affect if the model is in training mode.\n",
        "model_path = './model.ckpt'\n",
        "device = \"cuda\" if torch.cuda.is_available() else \"cpu\"\n",
        "model = Classifier(1).to(device)\n",
        "model.load_state_dict(torch.load(model_path))\n",
        "model.eval()\n",
        "\n",
        "# Initialize a list to store the predictions.\n",
        "predictions = []\n",
        "\n",
        "# Iterate the testing set by batches.\n",
        "for batch in tqdm(rd_test_loader):\n",
        "    # imgs, _ = batch\n",
        "    imgs = rd_test_set.merge_batch(batch)\n",
        "\n",
        "    # We don't need gradient in testing, and we don't even have labels to compute loss.\n",
        "    # Using torch.no_grad() accelerates the forward process.\n",
        "    with torch.no_grad():\n",
        "        logits = model(imgs.to(device))\n",
        "    \n",
        "    # Take the class with greatest logit as prediction and record it.\n",
        "    # predictions.extend(logits.argmax(dim=-1).cpu().numpy().tolist())\n",
        "    predictions.extend(rd_test_set.merge_predict(logits))"
      ],
      "execution_count": 21,
      "outputs": [
        {
          "output_type": "display_data",
          "data": {
            "text/plain": "  0%|          | 0/419 [00:00<?, ?it/s]",
            "application/vnd.jupyter.widget-view+json": {
              "version_major": 2,
              "version_minor": 0,
              "model_id": "7ca896a2d6bf4396831487d54362c1c6"
            }
          },
          "metadata": {}
        }
      ]
    },
    {
      "cell_type": "code",
      "metadata": {
        "id": "3t2q2Th85ZUE"
      },
      "source": [
        "# Save predictions into the file.\n",
        "with open(\"predict.csv\", \"w\") as f:\n",
        "\n",
        "    # The first row must be \"Id, Category\"\n",
        "    f.write(\"Id,Category\\n\")\n",
        "\n",
        "    # For the rest of the rows, each image id corresponds to a predicted class.\n",
        "    for i, pred in  enumerate(predictions):\n",
        "         f.write(f\"{i},{pred}\\n\")"
      ],
      "execution_count": 22,
      "outputs": []
    },
    {
      "cell_type": "code",
      "execution_count": null,
      "metadata": {},
      "outputs": [],
      "source": []
    }
  ]
}