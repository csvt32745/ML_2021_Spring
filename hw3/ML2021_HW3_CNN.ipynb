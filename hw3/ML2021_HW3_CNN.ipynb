{
  "nbformat": 4,
  "nbformat_minor": 0,
  "metadata": {
    "accelerator": "GPU",
    "colab": {
      "name": "HW3-CNN.ipynb",
      "provenance": [],
      "collapsed_sections": [],
      "toc_visible": true
    },
    "kernelspec": {
      "display_name": "Python 3",
      "name": "python3",
      "language": "python"
    }
  },
  "cells": [
    {
      "cell_type": "markdown",
      "metadata": {
        "id": "D_a2USyd4giE"
      },
      "source": [
        "# **Homework 3 - Convolutional Neural Network**\n",
        "\n",
        "This is the example code of homework 3 of the machine learning course by Prof. Hung-yi Lee.\n",
        "\n",
        "In this homework, you are required to build a convolutional neural network for image classification, possibly with some advanced training tips.\n",
        "\n",
        "\n",
        "There are three levels here:\n",
        "\n",
        "**Easy**: Build a simple convolutional neural network as the baseline. (2 pts)\n",
        "\n",
        "**Medium**: Design a better architecture or adopt different data augmentations to improve the performance. (2 pts)\n",
        "\n",
        "**Hard**: Utilize provided unlabeled data to obtain better results. (2 pts)"
      ]
    },
    {
      "cell_type": "markdown",
      "metadata": {
        "id": "VHpJocsDr6iA"
      },
      "source": [
        "## **About the Dataset**\n",
        "\n",
        "The dataset used here is food-11, a collection of food images in 11 classes.\n",
        "\n",
        "For the requirement in the homework, TAs slightly modified the data.\n",
        "Please DO NOT access the original fully-labeled training data or testing labels.\n",
        "\n",
        "Also, the modified dataset is for this course only, and any further distribution or commercial use is forbidden."
      ]
    },
    {
      "cell_type": "code",
      "execution_count": 1,
      "metadata": {},
      "outputs": [],
      "source": [
        "import os\n",
        "# os.environ['CUDA_VISIBLE_DEVICES'] = '0'"
      ]
    },
    {
      "cell_type": "markdown",
      "metadata": {
        "id": "BBVSCWWhp6uq"
      },
      "source": [
        "## **Import Packages**\n",
        "\n",
        "First, we need to import packages that will be used later.\n",
        "\n",
        "In this homework, we highly rely on **torchvision**, a library of PyTorch."
      ]
    },
    {
      "cell_type": "code",
      "metadata": {
        "id": "9sVrKci4PUFW"
      },
      "source": [
        "# Import necessary packages.\n",
        "import numpy as np\n",
        "import torch\n",
        "import torch.nn as nn\n",
        "import torchvision\n",
        "import torchvision.transforms as transforms\n",
        "from PIL import Image\n",
        "# \"ConcatDataset\" and \"Subset\" are possibly useful when doing semi-supervised learning.\n",
        "from torch.utils.data import ConcatDataset, DataLoader, Subset\n",
        "from torchvision.datasets import DatasetFolder\n",
        "from copy import deepcopy\n",
        "import seaborn as sns\n",
        "\n",
        "# This is for the progress bar.\n",
        "from tqdm.notebook import tqdm"
      ],
      "execution_count": 2,
      "outputs": []
    },
    {
      "cell_type": "markdown",
      "metadata": {
        "id": "F0i9ZCPrOVN_"
      },
      "source": [
        "## **Dataset, Data Loader, and Transforms**\n",
        "\n",
        "Torchvision provides lots of useful utilities for image preprocessing, data wrapping as well as data augmentation.\n",
        "\n",
        "Here, since our data are stored in folders by class labels, we can directly apply **torchvision.datasets.DatasetFolder** for wrapping data without much effort.\n",
        "\n",
        "Please refer to [PyTorch official website](https://pytorch.org/vision/stable/transforms.html) for details about different transforms."
      ]
    },
    {
      "cell_type": "code",
      "metadata": {
        "id": "gKd2abixQghI"
      },
      "source": [
        "\n",
        "tfm_norm = transforms.Normalize(mean=[0.485, 0.456, 0.406], std=[0.229, 0.224, 0.225])\n",
        "# For test voting\n",
        "train_tfm = transforms.Compose([\n",
        "            transforms.RandomResizedCrop(224, scale=(0.7, 1.0), ratio=(.8, 1.2)),\n",
        "            transforms.RandomHorizontalFlip(p=0.5),\n",
        "            transforms.ColorJitter(brightness=0.15, contrast=0.15, saturation=.1, hue=0.07),\n",
        "            transforms.ToTensor(),\n",
        "            tfm_norm\n",
        "        ])\n",
        "\n",
        "\n",
        "test_tfm = transforms.Compose([\n",
        "    transforms.Resize(224),\n",
        "    transforms.CenterCrop(224),\n",
        "    transforms.ToTensor(),\n",
        "    tfm_norm\n",
        "])\n"
      ],
      "execution_count": 3,
      "outputs": []
    },
    {
      "source": [
        "### Dataset of same images with different transforms"
      ],
      "cell_type": "markdown",
      "metadata": {}
    },
    {
      "cell_type": "code",
      "execution_count": 4,
      "metadata": {},
      "outputs": [],
      "source": [
        "class RandomTransformDataset:\n",
        "    def __init__(self, dataset, transform, random_time):\n",
        "        self.dataset = dataset\n",
        "        self.transform = transform\n",
        "        self.random_time = random_time\n",
        "    \n",
        "    def __len__(self):\n",
        "        return len(self.dataset)\n",
        "\n",
        "    def __getitem__(self, idx):\n",
        "        jpg, _ = self.dataset[idx]\n",
        "        imgs = [self.transform(jpg) for i in range(self.random_time)]\n",
        "        return torch.stack(imgs, 0)\n",
        "    \n",
        "    @staticmethod\n",
        "    def merge_batch(imgs):\n",
        "        # (batch, RANDOM_NUM, 3, shape0, shape1)\n",
        "        return imgs.reshape(-1, *imgs.shape[2:])\n",
        "    \n",
        "    def merge_predict(self, predicts):\n",
        "        # (batch*RANOM_NUM, 11)\n",
        "        res = []\n",
        "        labels = torch.argmax(predicts, dim=1).squeeze()\n",
        "        # (batch*RANOM_NUM)\n",
        "        for prob in torch.split(labels, self.random_time):\n",
        "            # (RANDOM_NUM)\n",
        "            # voting\n",
        "            res.append(torch.argmax(torch.bincount(prob)))\n",
        "        # (batch)\n",
        "        return  res\n",
        "\n"
      ]
    },
    {
      "source": [
        "### OneHot Target Transform"
      ],
      "cell_type": "markdown",
      "metadata": {}
    },
    {
      "cell_type": "code",
      "execution_count": 5,
      "metadata": {},
      "outputs": [],
      "source": [
        "onehot_lookup = torch.eye(11)\n",
        "def onehot(label):\n",
        "    return onehot_lookup[label]"
      ]
    },
    {
      "cell_type": "code",
      "metadata": {
        "id": "qz6jeMnkQl0_"
      },
      "source": [
        "batch_size = 64\n",
        "\n",
        "# data_folder = \"/data/ML2021/hw3/\"\n",
        "data_folder = \"\"\n",
        "\n",
        "train_set = DatasetFolder(data_folder+\"food-11/training/labeled\", loader=lambda x: Image.open(x),extensions=\"jpg\", transform=train_tfm, target_transform=onehot)\n",
        "valid_set = DatasetFolder(data_folder+\"food-11/validation\", loader=lambda x: Image.open(x), extensions=\"jpg\", transform=test_tfm, target_transform=onehot)\n",
        "# test_set = DatasetFolder(data_folder+\"food-11/testing\", loader=lambda x: Image.open(x), extensions=\"jpg\", transform=test_tfm)\n",
        "\n",
        "unlabeled_set = DatasetFolder(data_folder+\"food-11/training/unlabeled\", loader=lambda x: Image.open(x), extensions=\"jpg\", transform=train_tfm)\n",
        "unlabeled_set.classes = train_set.classes\n",
        "unlabeled_set.class_to_idx = train_set.class_to_idx\n",
        "\n",
        "# Construct data loaders.\n",
        "train_loader = DataLoader(train_set, batch_size=batch_size, shuffle=True, num_workers=8, pin_memory=True)\n",
        "train_loader_noshuf = DataLoader(train_set, batch_size=batch_size, shuffle=False, num_workers=8, pin_memory=True)\n",
        "unlab_loader = DataLoader(unlabeled_set, batch_size=batch_size, shuffle=False, num_workers=8, pin_memory=True)\n",
        "valid_loader = DataLoader(valid_set, batch_size=batch_size, shuffle=True, num_workers=2, pin_memory=True)\n",
        "# test_loader = DataLoader(test_set, batch_size=batch_size, shuffle=False)"
      ],
      "execution_count": 6,
      "outputs": []
    },
    {
      "cell_type": "code",
      "execution_count": 7,
      "metadata": {},
      "outputs": [],
      "source": [
        "RANDOM_NUM = 8 # 8 different transform\n",
        "test_set = DatasetFolder(data_folder+\"food-11/testing\", loader=lambda x: Image.open(x), extensions=\"jpg\", transform=None)\n",
        "rd_test_set = RandomTransformDataset(test_set, train_tfm, random_time=RANDOM_NUM)\n",
        "rd_test_loader = DataLoader(rd_test_set, batch_size=batch_size//RANDOM_NUM*2, shuffle=False, num_workers=16)\n",
        "test_loader = DataLoader(DatasetFolder(data_folder+\"food-11/testing\", loader=lambda x: Image.open(x), extensions=\"jpg\", transform=test_tfm), batch_size=batch_size, shuffle=False, num_workers=16)\n"
      ]
    },
    {
      "cell_type": "markdown",
      "metadata": {
        "id": "j9YhZo7POPYG"
      },
      "source": [
        "## **Model**\n",
        "\n",
        "The basic model here is simply a stack of convolutional layers followed by some fully-connected layers.\n",
        "\n",
        "Since there are three channels for a color image (RGB), the input channels of the network must be three.\n",
        "In each convolutional layer, typically the channels of inputs grow, while the height and width shrink (or remain unchanged, according to some hyperparameters like stride and padding).\n",
        "\n",
        "Before fed into fully-connected layers, the feature map must be flattened into a single one-dimensional vector (for each image).\n",
        "These features are then transformed by the fully-connected layers, and finally, we obtain the \"logits\" for each class.\n",
        "\n",
        "### **WARNING -- You Must Know**\n",
        "You are free to modify the model architecture here for further improvement.\n",
        "However, if you want to use some well-known architectures such as ResNet50, please make sure **NOT** to load the pre-trained weights.\n",
        "Using such pre-trained models is considered cheating and therefore you will be punished.\n",
        "Similarly, it is your responsibility to make sure no pre-trained weights are used if you use **torch.hub** to load any modules.\n",
        "\n",
        "For example, if you use ResNet-18 as your model:\n",
        "\n",
        "model = torchvision.models.resnet18(pretrained=**False**) → This is fine.\n",
        "\n",
        "model = torchvision.models.resnet18(pretrained=**True**)  → This is **NOT** allowed."
      ]
    },
    {
      "cell_type": "code",
      "execution_count": 8,
      "metadata": {},
      "outputs": [],
      "source": [
        "class BlockLinear(nn.Module):\n",
        "    def __init__(self, ch_in, ch_out, act=None, use_bn=True, drop=0):\n",
        "        super(BlockLinear, self).__init__()\n",
        "        list = [\n",
        "            nn.Linear(ch_in, ch_out)\n",
        "        ]\n",
        "        if use_bn: list.append(nn.BatchNorm1d(ch_out))\n",
        "        if act: list.append(act)\n",
        "        if drop > 0: list.append(nn.Dropout(drop))\n",
        "        self.net = nn.Sequential(*list)\n",
        "\n",
        "    def forward(self, x):\n",
        "          return self.net(x)"
      ]
    },
    {
      "cell_type": "code",
      "metadata": {
        "id": "Y1c-GwrMQqMl"
      },
      "source": [
        "class Classifier(nn.Module):\n",
        "    def __init__(self, encoder, linears=[], drop=.3):\n",
        "        super(Classifier, self).__init__()\n",
        "        # input image size: [3, 224, 224]\n",
        "        self.name = f'{encoder.__name__}_{\"_\".join([str(n) for n in linears])}'\n",
        "        self.encoder = encoder(pretrained=False)\n",
        "        self.dim = self.encoder.fc.in_features\n",
        "        # self.encoder.fc = BlockLinear(512, 128, act=nn.ReLU(), use_bn=True)\n",
        "        # self.n = [512, 128]\n",
        "        self.n = [self.dim] + linears\n",
        "        self.l = len(self.n)\n",
        "        fc = [\n",
        "            BlockLinear(self.n[i], self.n[i+1], act=nn.ReLU(), use_bn=True, drop=drop)\n",
        "            for i in range(self.l-1)\n",
        "        ]\n",
        "        self.encoder.fc = nn.Sequential(*fc)\n",
        "        self.out = nn.Linear(self.n[-1], 11)\n",
        "\n",
        "    def forward(self, x):\n",
        "        x = self.encoder(x)\n",
        "        x = self.out(x)\n",
        "        return x\n",
        "    \n",
        "    # Moveing Avg Update\n",
        "    def ema_update(self, target, alpha):\n",
        "        one_minus_alpha = 1. - alpha\n",
        "        with torch.no_grad():\n",
        "            for para, tar in zip(self.parameters(), target.parameters()):\n",
        "                para.sub_(one_minus_alpha * (para - tar))\n",
        "            \n",
        "            for para, tar in zip(self.buffers(), target.buffers()):\n",
        "                if para.dtype == torch.float:\n",
        "                    para.sub_(one_minus_alpha * (para - tar))\n",
        "                else:\n",
        "                    para.copy_(tar)"
      ],
      "execution_count": 10,
      "outputs": []
    },
    {
      "cell_type": "markdown",
      "metadata": {
        "id": "aEnGbriXORN3"
      },
      "source": [
        "## **Training**\n",
        "\n",
        "You can finish supervised learning by simply running the provided code without any modification.\n",
        "\n",
        "The function \"get_pseudo_labels\" is used for semi-supervised learning.\n",
        "It is expected to get better performance if you use unlabeled data for semi-supervised learning.\n",
        "However, you have to implement the function on your own and need to adjust several hyperparameters manually.\n",
        "\n",
        "For more details about semi-supervised learning, please refer to [Prof. Lee's slides](https://speech.ee.ntu.edu.tw/~tlkagk/courses/ML_2016/Lecture/semi%20(v3).pdf).\n",
        "\n",
        "Again, please notice that utilizing external data (or pre-trained model) for training is **prohibited**."
      ]
    },
    {
      "cell_type": "code",
      "execution_count": 11,
      "metadata": {},
      "outputs": [],
      "source": [
        "# fix random seed\n",
        "def same_seeds(seed):\n",
        "    torch.manual_seed(seed)\n",
        "    if torch.cuda.is_available():\n",
        "        torch.cuda.manual_seed(seed)\n",
        "        torch.cuda.manual_seed_all(seed)  \n",
        "    np.random.seed(seed)  \n",
        "    torch.backends.cudnn.benchmark = False\n",
        "    torch.backends.cudnn.deterministic = True\n",
        "same_seeds(52728) # Waifu number\n",
        "device = \"cuda\" if torch.cuda.is_available() else \"cpu\""
      ]
    },
    {
      "source": [
        "### Additionally define the psudolabels in Subset class"
      ],
      "cell_type": "markdown",
      "metadata": {}
    },
    {
      "cell_type": "code",
      "execution_count": 12,
      "metadata": {},
      "outputs": [],
      "source": [
        "class SubsetCustomLabel:\n",
        "    def __init__(self, dataset, labels, indices):\n",
        "        self.dataset = dataset\n",
        "        self.labels = labels\n",
        "        self.indices = indices\n",
        "\n",
        "    def __len__(self):\n",
        "        return len(self.labels)\n",
        "    \n",
        "    def __getitem__(self, idx):\n",
        "        return self.dataset[self.indices[idx]][0], self.labels[idx]\n",
        "    \n",
        "    def set_transform(self, transform):\n",
        "        self.dataset.transform = transform"
      ]
    },
    {
      "source": [
        "### Custom log"
      ],
      "cell_type": "markdown",
      "metadata": {}
    },
    {
      "cell_type": "code",
      "execution_count": 13,
      "metadata": {},
      "outputs": [],
      "source": [
        "class Log:\n",
        "    def __init__(self, log_path='log', clear=True):\n",
        "        self.log_path = log_path\n",
        "        if clear: self.clean_file()\n",
        "        self.log = open(log_path, 'a')\n",
        "    \n",
        "    def clean_file(self):\n",
        "        if self.log_path in os.listdir():\n",
        "            os.remove(self.log_path)\n",
        "            print('remove log')\n",
        "        \n",
        "    def flush(self):\n",
        "        self.log.flush()\n",
        "    \n",
        "    def write(self, log_str, is_print=True):\n",
        "        self.log.write(log_str + \"\\n\")\n",
        "        if is_print: print(log_str)\n",
        "    \n",
        "    def write_epoch(self, total, cur, sections, is_write=True, is_print=True):\n",
        "        log_str = f\"[ {cur + 1:03d}/{total:03d} ]\"\n",
        "        for n, s in sections:\n",
        "            log_str += f\" {self.section(n, s)}\"\n",
        "        if is_write: self.write(log_str, is_print=is_print)\n",
        "        else: return log_str\n",
        "    \n",
        "    def section(self, dest, dict):\n",
        "        log_str = f\"[ {dest:<5} |\"\n",
        "        flg = False\n",
        "        for n, v in dict.items():\n",
        "            if flg:\n",
        "                log_str += \",\"\n",
        "            log_str += f\" {n} = {v:.5f}\"\n",
        "            flg = True\n",
        "        log_str += \" ]\"\n",
        "        return log_str\n",
        "    "
      ]
    },
    {
      "cell_type": "code",
      "metadata": {
        "id": "swlf5EwA-hxA"
      },
      "source": [
        "def get_pseudo_labels(model, dataloader, threshold=0.5, tempreture=3, is_labeled=False, labeld_alpha=.5):\n",
        "    model.eval()\n",
        "    # Define softmax function.\n",
        "    softmax = nn.Softmax(dim=-1)\n",
        "    idx = []\n",
        "    targets = []\n",
        "    if is_labeled:\n",
        "        count = torch.zeros((11, 11), dtype=torch.float32)\n",
        "    else:\n",
        "        count = torch.zeros(11, dtype=torch.float32)\n",
        "    # Iterate over the dataset by batches.\n",
        "    c = 0\n",
        "    for i, batch in tqdm(enumerate(dataloader), leave=False, desc='PseudoLabels'):\n",
        "        img, ans = batch\n",
        "        with torch.no_grad():\n",
        "            logits = model(img.to(device))\n",
        "\n",
        "        if is_labeled:\n",
        "            l = ans.to(device).argmax(dim=-1)\n",
        "            u = torch.unique(l).cpu()\n",
        "            for i in u:\n",
        "                count[i] += onehot_lookup[logits[l==i].argmax(dim=1).cpu()].sum(dim=0)\n",
        "\n",
        "            targets.append(softmax(logits/tempreture).cpu()*(1-labeld_alpha) + ans*labeld_alpha)\n",
        "\n",
        "        else:\n",
        "            # Obtain the probability distributions by applying softmax on logits.\n",
        "            probs = softmax(logits)\n",
        "            # Filter the data and construct a new dataset.\n",
        "            probs1 = probs.max(dim=1).values\n",
        "            \n",
        "            select = (probs1 > threshold)\n",
        "            c = probs[select].sum(dim=0).cpu()\n",
        "            count[:len(c)] += c\n",
        "            if not (select.any() or is_labeled):\n",
        "                continue\n",
        "            \n",
        "            probs_arg = probs[select].argmax(dim=1)\n",
        "            targets.append(softmax(logits[select]/tempreture).cpu())\n",
        "            idx += (torch.where(select)[0] + batch_size*i).tolist()\n",
        "\n",
        "\n",
        "    # custom subset\n",
        "    targets = torch.cat(targets, dim=0)\n",
        "    if is_labeled:\n",
        "        new = SubsetCustomLabel(dataloader.dataset, targets, torch.arange(len(targets)).tolist())\n",
        "    else:\n",
        "        new = SubsetCustomLabel(dataloader.dataset, targets, idx)\n",
        "    model.train()\n",
        "    return new, count\n",
        "\n",
        "def get_semi_set(model, threshold=0.5, tempreture_l=1, tempreture_p=1, labeld_alpha=0.25):\n",
        "    unlabeled_set.transform = tfm_weak\n",
        "    train_set.transform = tfm_weak\n",
        "    \n",
        "    pseudo_set, count = get_pseudo_labels(\n",
        "        model, unlab_loader, threshold=threshold, tempreture=tempreture_p)\n",
        "    log.write(f\"Use pseudo label: {len(pseudo_set)}\")\n",
        "    log.write(\"Pseudo Labels Distribution:\\n\" + \n",
        "        \", \".join([f'{i+1:02d}: {w*100:05.2f}' for i, w in enumerate(count/count.sum())]))\n",
        "    \n",
        "    labeled_set, confusion = get_pseudo_labels(\n",
        "        model, train_loader_noshuf, tempreture=tempreture_l, is_labeled=True, labeld_alpha=labeld_alpha)\n",
        "    \n",
        "\n",
        "    labeled_loader = DataLoader(labeled_set, batch_size=batch_size, shuffle=True, num_workers=8, pin_memory=True, drop_last=True)\n",
        "    pseudo_loader = DataLoader(pseudo_set, batch_size=batch_size, shuffle=True, num_workers=8, pin_memory=True, drop_last=True)\n",
        "   \n",
        "    unlabeled_set.transform = tfm_strong\n",
        "    train_set.transform = tfm_strong\n",
        "    return labeled_loader, pseudo_loader, confusion"
      ],
      "execution_count": 14,
      "outputs": []
    },
    {
      "cell_type": "code",
      "execution_count": 15,
      "metadata": {},
      "outputs": [],
      "source": [
        "def train(model, loader, criterion, shadow_model=None):\n",
        "    model.train()\n",
        "\n",
        "    train_loss = []\n",
        "    train_accs = []\n",
        "    for batch in tqdm(loader, desc='Train', leave=False):\n",
        "        imgs, labels = batch\n",
        "        logits = model(imgs.to(device))\n",
        "        loss = criterion(logits, labels.to(device))\n",
        "        optimizer.zero_grad()\n",
        "        loss.backward()\n",
        "        grad_norm = nn.utils.clip_grad_norm_(model.parameters(), max_norm=10)\n",
        "        optimizer.step()\n",
        "\n",
        "        acc = (logits.argmax(dim=-1) == labels.to(device).argmax(dim=-1)).float().mean()\n",
        "\n",
        "        train_loss.append(loss.item())\n",
        "        train_accs.append(acc)\n",
        "\n",
        "    if len(train_loss) == 0:\n",
        "        train_loss = 0\n",
        "        train_acc = 0\n",
        "    else:\n",
        "        train_loss = sum(train_loss) / len(train_loss)\n",
        "        train_acc = sum(train_accs) / len(train_accs)\n",
        "\n",
        "    log_dict = ['Train', {'loss': train_loss, 'acc': train_acc}]\n",
        "    if shadow_model:\n",
        "        shadow_model.ema_update(model, ema_decay)\n",
        "    return log_dict\n",
        "\n",
        "def valid(model):    \n",
        "    model.eval()\n",
        "    \n",
        "    valid_loss = []\n",
        "    valid_accs = []\n",
        "    confusion = torch.zeros((11, 11), dtype=float)\n",
        "    for batch in tqdm(valid_loader, desc='Valid', leave=False):\n",
        "        imgs, labels = batch\n",
        "        imgs = imgs.to(device)\n",
        "        with torch.no_grad():\n",
        "            logits = model(imgs)\n",
        "\n",
        "        loss = criterion(logits, labels.to(device))\n",
        "        \n",
        "        l = labels.to(device).argmax(dim=-1)\n",
        "        acc = (logits.argmax(dim=-1) == l).float().mean()\n",
        "        u = torch.unique(l)\n",
        "        for i in u:\n",
        "            confusion[i] += onehot_lookup[logits[l==i].argmax(dim=1).cpu()].sum(dim=0)\n",
        "\n",
        "        valid_loss.append(loss.item())\n",
        "        valid_accs.append(acc)\n",
        "\n",
        "    valid_loss = sum(valid_loss) / len(valid_loss)\n",
        "    valid_acc = sum(valid_accs) / len(valid_accs)\n",
        "    \n",
        "    log_dict = ['Valid', {'loss': valid_loss, 'acc': valid_acc}]\n",
        "    return log_dict, valid_acc, confusion"
      ]
    },
    {
      "cell_type": "code",
      "execution_count": 16,
      "metadata": {},
      "outputs": [],
      "source": [
        "from torchvision.models import resnet18, resnet34, resnet50, resnext50_32x4d\n",
        "\n",
        "tfm_weak = transforms.Compose([\n",
        "            transforms.RandomResizedCrop(224, scale=(0.7, 1.0), ratio=(.8, 1.2)),\n",
        "            transforms.RandomRotation(90),\n",
        "            transforms.RandomHorizontalFlip(p=0.5),\n",
        "            transforms.ColorJitter(brightness=0.15, contrast=0.15, saturation=.15, hue=0.07),\n",
        "            transforms.RandomGrayscale(p=0.1),\n",
        "            transforms.ToTensor(),\n",
        "            tfm_norm\n",
        "        ])\n",
        "tfm_strong = transforms.Compose([\n",
        "            transforms.RandomResizedCrop(224, scale=(0.7, 1.0), ratio=(.8, 1.2)),\n",
        "            transforms.RandomRotation(90),\n",
        "            transforms.AutoAugment(),\n",
        "            transforms.ToTensor(),\n",
        "            transforms.RandomErasing(\n",
        "                p=0.5, scale=(0.05, 0.2), ratio=(0.3, 2), value=0),\n",
        "            tfm_norm\n",
        "        ])"
      ]
    },
    {
      "cell_type": "code",
      "execution_count": 17,
      "metadata": {},
      "outputs": [
        {
          "output_type": "stream",
          "name": "stdout",
          "text": [
            "remove log\n"
          ]
        }
      ],
      "source": [
        "log = Log()\n",
        "name_t = 'teacher'\n",
        "name_s = 'student'\n",
        "# model_ = [resnet34, [256, 64], 0.5]\n",
        "model_ = [resnext50_32x4d, [1024, 128], 0.5]\n"
      ]
    },
    {
      "cell_type": "code",
      "metadata": {
        "id": "PHaFE-8oQtkC",
        "tags": []
      },
      "source": [
        "torch.cuda.empty_cache()\n",
        "model_path = \"./model_{}.ckpt\"\n",
        "# for student\n",
        "log_soft = nn.LogSoftmax(dim=1)\n",
        "kl_div = nn.KLDivLoss(reduction='none', log_target=False)\n",
        "\n",
        "# for teacher\n",
        "kl_div_batch = nn.KLDivLoss(reduction='batchmean', log_target=False)\n",
        "# criterion = lambda x, t: (kl_div(log_soft(x), t)*weight).sum(dim=1).mean()\n",
        "criterion = lambda x, t: (kl_div_batch(log_soft(x), t))\n",
        "# weight = torch.ones((1, 11)).float().to(device)\n",
        "\n",
        "ema_decay = 0.9\n",
        "epoch_t = 0\n",
        "epoch_s = 5\n",
        "round_s = 30\n",
        "\n",
        "loader = train_loader\n",
        "# ---------- Teacher ----------\n",
        "\n",
        "log.write(\"=\"*10 + f\" {name_t} \" + \"=\"*10)\n",
        "log.flush()\n",
        "\n",
        "# tfm_weak = train_tfm\n",
        "unlabeled_set.transform = tfm_weak\n",
        "train_set.transform = tfm_weak\n",
        "model_t = Classifier(*model_).to(device)\n",
        "# model_t.load_state_dict(torch.load(model_path.format(name_t)))\n",
        "\n",
        "optimizer = torch.optim.AdamW(\n",
        "    model_t.parameters(), lr=4e-4, weight_decay=1e-4\n",
        ")\n",
        "lr_scheduler = torch.optim.lr_scheduler.CosineAnnealingLR(\n",
        "    optimizer, T_max=epoch_t, eta_min=1e-6, verbose=True)\n",
        "\n",
        "best_acc = 0\n",
        "for epoch in range(epoch_t):\n",
        "    # ---------- Training ----------\n",
        "    train_dict = train(model_t, train_loader, criterion)\n",
        "    # ---------- Validation ----------\n",
        "    valid_dict, valid_acc, _ = valid(model_t)\n",
        "    if valid_acc >= best_acc:\n",
        "        best_acc = valid_acc\n",
        "        best_model = model_t.state_dict()\n",
        "        torch.save(model_t.state_dict(), model_path.format(name_t))\n",
        "        log.write(f'Saving {name_t} model with acc {best_acc:.3f}')\n",
        "    \n",
        "    log.write_epoch(epoch_t, epoch, [train_dict, valid_dict])\n",
        "    log.flush()\n",
        "    lr_scheduler.step()\n",
        "\n",
        "# ---------- Mutual Learning ----------\n",
        "\n",
        "log.flush()\n",
        "model_t.load_state_dict(torch.load(model_path.format(name_t)))\n",
        "model_s = deepcopy(model_t) # clone teacher network\n",
        "\n",
        "optimizer = torch.optim.AdamW(\n",
        "    model_s.parameters(), lr=1e-4, weight_decay=5e-4)\n",
        "lr_scheduler = torch.optim.lr_scheduler.CosineAnnealingLR(\n",
        "    optimizer, T_max=epoch_s*round_s, eta_min=0, verbose=True)\n",
        "    \n",
        "best_acc_t = best_acc\n",
        "best_acc = 0\n",
        "for round in range(round_s):\n",
        "    log.write(\"=\"*10 + f\" {name_s}_round {round+1:02d} \" + \"=\"*10)\n",
        "    # ---------- Pseudo Labels ----------\n",
        "    # Label datas by teacher\n",
        "\n",
        "    valid_dict, valid_acc, confusion = valid(model_t)\n",
        "    best_acc_t = max(valid_acc, best_acc_t)\n",
        "    # valid_dict[0] = 'Teacher Valid'\n",
        "    # log.write(log.section(*valid_dict))\n",
        "    log.write(\"Confusion:\\n\" + \", \".join([f'{i+1:02d}: {w:.2f}' for i, w in enumerate(confusion.diag()/64)]))\n",
        "    \n",
        "    unlabeled_set.transform = tfm_weak\n",
        "    train_set.transform = tfm_weak\n",
        "\n",
        "    labeled_loader, pseudo_loader, confusion_tr = get_semi_set(\n",
        "        model_t, threshold=.7, tempreture_l=1.5, tempreture_p=.7, labeld_alpha=0.25)\n",
        "\n",
        "    count = confusion_tr.diag()\n",
        "    count /= 280\n",
        "    count = count*10\n",
        "\n",
        "    weight_labeled = nn.functional.softmax(-count, dim=-1).reshape((1, 11)).to(device)*11\n",
        "    weight_pseudo = nn.functional.softmax(count, dim=-1).reshape((1, 11)).to(device)*11\n",
        "\n",
        "    log.write(\"Labeled Weight:\\n\" + \", \".join([f'{i+1:02d}: {w:04.2f}' for i, w in enumerate(weight_labeled[0])]))\n",
        "    log.write(\"Pseudo Weight:\\n\" + \", \".join([f'{i+1:02d}: {w:04.2f}' for i, w in enumerate(weight_pseudo[0])]))\n",
        "\n",
        "    criterion_labeled = lambda x, t: 1.5*(kl_div(log_soft(x), t)*weight_labeled).sum(dim=1).mean()\n",
        "    criterion_pseudo = lambda x, t: 0.5*(kl_div(log_soft(x), t)*weight_pseudo).sum(dim=1).mean()\n",
        "\n",
        "    # ---------- Student ----------\n",
        "    \n",
        "    torch.cuda.empty_cache()\n",
        "    unlabeled_set.transform = tfm_strong\n",
        "    train_set.transform = tfm_strong\n",
        "\n",
        "    for epoch in range(epoch_s):\n",
        "        # ---------- Training ----------\n",
        "        # train_dict = train(model_s)\n",
        "        secs = []\n",
        "        if valid_acc >= 0.6:\n",
        "            train_dict_p = train(model_s, pseudo_loader, criterion_pseudo, shadow_model=model_t)\n",
        "            train_dict_p[0] = 'Train Pseudo'\n",
        "            secs.append(train_dict_p)\n",
        "        else:\n",
        "            log.write(\"Abort Pseudo\")\n",
        "        train_dict_l = train(model_s, labeled_loader, criterion_labeled, shadow_model=model_t)\n",
        "        train_dict_l[0] = 'Train Labeled'\n",
        "        secs.append(train_dict_l)\n",
        "        log.write_epoch(epoch_s, epoch, secs)\n",
        "\n",
        "        # ---------- Validation ----------\n",
        "        valid_dict, valid_acc, _ = valid(model_s)\n",
        "        valid_dict_t, valid_acc_t, _ = valid(model_t)\n",
        "        valid_dict_t[0] = 'Valid T'\n",
        "\n",
        "        if valid_acc_t > best_acc_t:\n",
        "        # if False:\n",
        "            log.write(f'Saving {name_t} model with acc {valid_acc_t:.3f}')\n",
        "            torch.save(model_t.state_dict(), model_path.format(name_t))\n",
        "            best_acc_t = valid_acc_t\n",
        "\n",
        "        if valid_acc >= best_acc:\n",
        "            best_acc = valid_acc\n",
        "            best_model = model_s.state_dict()\n",
        "            torch.save(model_s.state_dict(), model_path.format(name_s))\n",
        "            log.write(f'Saving {name_s} model with acc {best_acc:.3f}')\n",
        "              \n",
        "        log.write_epoch(epoch_s, epoch, [valid_dict, valid_dict_t])        \n",
        "        log.flush()\n",
        "        lr_scheduler.step()"
      ],
      "execution_count": 18,
      "outputs": [
        {
          "output_type": "stream",
          "name": "stdout",
          "text": [
            "========== teacher ==========\n",
            "Adjusting learning rate of group 0 to 4.0000e-04.\n",
            "Adjusting learning rate of group 0 to 1.0000e-04.\n",
            "========== student_round 01 ==========\n"
          ]
        },
        {
          "output_type": "display_data",
          "data": {
            "text/plain": "Valid:   0%|          | 0/11 [00:00<?, ?it/s]",
            "application/vnd.jupyter.widget-view+json": {
              "version_major": 2,
              "version_minor": 0,
              "model_id": "783a943a25e2442dbab72c0a0289ce8a"
            }
          },
          "metadata": {}
        },
        {
          "output_type": "stream",
          "name": "stdout",
          "text": [
            "Confusion:\n01: 0.61, 02: 0.78, 03: 0.70, 04: 0.83, 05: 0.84, 06: 0.80, 07: 0.89, 08: 0.89, 09: 0.83, 10: 0.92, 11: 0.86\n"
          ]
        },
        {
          "output_type": "display_data",
          "data": {
            "text/plain": "PseudoLabels: 0it [00:00, ?it/s]",
            "application/vnd.jupyter.widget-view+json": {
              "version_major": 2,
              "version_minor": 0,
              "model_id": "e7c59d748f80405d8f9b32fb1e177fbd"
            }
          },
          "metadata": {}
        },
        {
          "output_type": "stream",
          "name": "stdout",
          "text": [
            "Use pseudo label: 2232\nPseudo Labels Distribution:\n01: 12.69, 02: 02.74, 03: 13.83, 04: 15.90, 05: 16.54, 06: 23.14, 07: 00.53, 08: 00.10, 09: 11.58, 10: 00.49, 11: 02.46\n"
          ]
        },
        {
          "output_type": "display_data",
          "data": {
            "text/plain": "PseudoLabels: 0it [00:00, ?it/s]",
            "application/vnd.jupyter.widget-view+json": {
              "version_major": 2,
              "version_minor": 0,
              "model_id": "6019913a67344a379f1c0104264471d3"
            }
          },
          "metadata": {}
        },
        {
          "output_type": "stream",
          "name": "stdout",
          "text": [
            "Labeled Weight:\n01: 1.22, 02: 0.86, 03: 0.83, 04: 1.69, 05: 1.06, 06: 1.31, 07: 0.77, 08: 0.69, 09: 0.86, 10: 0.89, 11: 0.83\nPseudo Weight:\n01: 0.77, 02: 1.09, 03: 1.13, 04: 0.56, 05: 0.88, 06: 0.71, 07: 1.22, 08: 1.36, 09: 1.09, 10: 1.06, 11: 1.13\n"
          ]
        },
        {
          "output_type": "display_data",
          "data": {
            "text/plain": "Train:   0%|          | 0/34 [00:00<?, ?it/s]",
            "application/vnd.jupyter.widget-view+json": {
              "version_major": 2,
              "version_minor": 0,
              "model_id": "a86e25ccee1640069d071f53e898b361"
            }
          },
          "metadata": {}
        },
        {
          "output_type": "display_data",
          "data": {
            "text/plain": "Train:   0%|          | 0/48 [00:00<?, ?it/s]",
            "application/vnd.jupyter.widget-view+json": {
              "version_major": 2,
              "version_minor": 0,
              "model_id": "2364630e1cb7456286c2e585f7d7e602"
            }
          },
          "metadata": {}
        },
        {
          "output_type": "stream",
          "name": "stdout",
          "text": [
            "[ 001/005 ] [ Train Pseudo | loss = 0.07702, acc = 0.94256 ] [ Train Labeled | loss = 0.13181, acc = 0.92936 ]\n"
          ]
        },
        {
          "output_type": "display_data",
          "data": {
            "text/plain": "Valid:   0%|          | 0/11 [00:00<?, ?it/s]",
            "application/vnd.jupyter.widget-view+json": {
              "version_major": 2,
              "version_minor": 0,
              "model_id": "214257f1505e4a9987edd3040f5eefe5"
            }
          },
          "metadata": {}
        },
        {
          "output_type": "display_data",
          "data": {
            "text/plain": "Valid:   0%|          | 0/11 [00:00<?, ?it/s]",
            "application/vnd.jupyter.widget-view+json": {
              "version_major": 2,
              "version_minor": 0,
              "model_id": "bef36e3415a14504aec8699dce6fc99a"
            }
          },
          "metadata": {}
        },
        {
          "output_type": "stream",
          "name": "stdout",
          "text": [
            "Saving student model with acc 0.847\n[ 001/005 ] [ Valid | loss = 0.93308, acc = 0.84688 ] [ Valid T | loss = 0.76810, acc = 0.85199 ]\nAdjusting learning rate of group 0 to 9.9989e-05.\n"
          ]
        },
        {
          "output_type": "display_data",
          "data": {
            "text/plain": "Train:   0%|          | 0/34 [00:00<?, ?it/s]",
            "application/vnd.jupyter.widget-view+json": {
              "version_major": 2,
              "version_minor": 0,
              "model_id": "e76097dbadc346af9f6d87c04aca7b01"
            }
          },
          "metadata": {}
        },
        {
          "output_type": "display_data",
          "data": {
            "text/plain": "Train:   0%|          | 0/48 [00:00<?, ?it/s]",
            "application/vnd.jupyter.widget-view+json": {
              "version_major": 2,
              "version_minor": 0,
              "model_id": "7a069a768bc34b679e23b38876851259"
            }
          },
          "metadata": {}
        },
        {
          "output_type": "stream",
          "name": "stdout",
          "text": [
            "[ 002/005 ] [ Train Pseudo | loss = 0.07916, acc = 0.94256 ] [ Train Labeled | loss = 0.12775, acc = 0.93750 ]\n"
          ]
        },
        {
          "output_type": "display_data",
          "data": {
            "text/plain": "Valid:   0%|          | 0/11 [00:00<?, ?it/s]",
            "application/vnd.jupyter.widget-view+json": {
              "version_major": 2,
              "version_minor": 0,
              "model_id": "17e825e774684acfb7e3588b422df382"
            }
          },
          "metadata": {}
        },
        {
          "output_type": "display_data",
          "data": {
            "text/plain": "Valid:   0%|          | 0/11 [00:00<?, ?it/s]",
            "application/vnd.jupyter.widget-view+json": {
              "version_major": 2,
              "version_minor": 0,
              "model_id": "d069a39ee00441be8fd6dacad51118ca"
            }
          },
          "metadata": {}
        },
        {
          "output_type": "stream",
          "name": "stdout",
          "text": [
            "Saving student model with acc 0.857\n[ 002/005 ] [ Valid | loss = 0.89868, acc = 0.85739 ] [ Valid T | loss = 0.73403, acc = 0.86307 ]\nAdjusting learning rate of group 0 to 9.9956e-05.\n"
          ]
        },
        {
          "output_type": "display_data",
          "data": {
            "text/plain": "Train:   0%|          | 0/34 [00:00<?, ?it/s]",
            "application/vnd.jupyter.widget-view+json": {
              "version_major": 2,
              "version_minor": 0,
              "model_id": "6ff4e3f78730465d9ca8c54d2e981ee0"
            }
          },
          "metadata": {}
        },
        {
          "output_type": "display_data",
          "data": {
            "text/plain": "Train:   0%|          | 0/48 [00:00<?, ?it/s]",
            "application/vnd.jupyter.widget-view+json": {
              "version_major": 2,
              "version_minor": 0,
              "model_id": "1dd3fcd4e8104a3ba49b3943a78d7ee9"
            }
          },
          "metadata": {}
        },
        {
          "output_type": "stream",
          "name": "stdout",
          "text": [
            "[ 003/005 ] [ Train Pseudo | loss = 0.07708, acc = 0.94301 ] [ Train Labeled | loss = 0.13457, acc = 0.93424 ]\n"
          ]
        },
        {
          "output_type": "display_data",
          "data": {
            "text/plain": "Valid:   0%|          | 0/11 [00:00<?, ?it/s]",
            "application/vnd.jupyter.widget-view+json": {
              "version_major": 2,
              "version_minor": 0,
              "model_id": "6caae6cfff9045a6a6862552bac7dd25"
            }
          },
          "metadata": {}
        },
        {
          "output_type": "display_data",
          "data": {
            "text/plain": "Valid:   0%|          | 0/11 [00:00<?, ?it/s]",
            "application/vnd.jupyter.widget-view+json": {
              "version_major": 2,
              "version_minor": 0,
              "model_id": "3b772544b772467aba535fac087cb18e"
            }
          },
          "metadata": {}
        },
        {
          "output_type": "stream",
          "name": "stdout",
          "text": [
            "[ 003/005 ] [ Valid | loss = 0.96761, acc = 0.83239 ] [ Valid T | loss = 0.73540, acc = 0.86761 ]\nAdjusting learning rate of group 0 to 9.9901e-05.\n"
          ]
        },
        {
          "output_type": "display_data",
          "data": {
            "text/plain": "Train:   0%|          | 0/34 [00:00<?, ?it/s]",
            "application/vnd.jupyter.widget-view+json": {
              "version_major": 2,
              "version_minor": 0,
              "model_id": "dcf677a86046412c8285fe0117f94297"
            }
          },
          "metadata": {}
        },
        {
          "output_type": "display_data",
          "data": {
            "text/plain": "Train:   0%|          | 0/48 [00:00<?, ?it/s]",
            "application/vnd.jupyter.widget-view+json": {
              "version_major": 2,
              "version_minor": 0,
              "model_id": "f0caf3c0ba5a46ec87ffa56343dcc849"
            }
          },
          "metadata": {}
        },
        {
          "output_type": "stream",
          "name": "stdout",
          "text": [
            "[ 004/005 ] [ Train Pseudo | loss = 0.07408, acc = 0.94301 ] [ Train Labeled | loss = 0.11998, acc = 0.94043 ]\n"
          ]
        },
        {
          "output_type": "display_data",
          "data": {
            "text/plain": "Valid:   0%|          | 0/11 [00:00<?, ?it/s]",
            "application/vnd.jupyter.widget-view+json": {
              "version_major": 2,
              "version_minor": 0,
              "model_id": "a747f499ff7b4a82af5b534afc0e9552"
            }
          },
          "metadata": {}
        },
        {
          "output_type": "display_data",
          "data": {
            "text/plain": "Valid:   0%|          | 0/11 [00:00<?, ?it/s]",
            "application/vnd.jupyter.widget-view+json": {
              "version_major": 2,
              "version_minor": 0,
              "model_id": "a12a4f4e64f24e51a71e9a8eb7a2cf17"
            }
          },
          "metadata": {}
        },
        {
          "output_type": "stream",
          "name": "stdout",
          "text": [
            "[ 004/005 ] [ Valid | loss = 0.93702, acc = 0.84261 ] [ Valid T | loss = 0.76318, acc = 0.85682 ]\nAdjusting learning rate of group 0 to 9.9825e-05.\n"
          ]
        },
        {
          "output_type": "display_data",
          "data": {
            "text/plain": "Train:   0%|          | 0/34 [00:00<?, ?it/s]",
            "application/vnd.jupyter.widget-view+json": {
              "version_major": 2,
              "version_minor": 0,
              "model_id": "ee93beba2278405ebcb30b87c0a9bb41"
            }
          },
          "metadata": {}
        },
        {
          "output_type": "display_data",
          "data": {
            "text/plain": "Train:   0%|          | 0/48 [00:00<?, ?it/s]",
            "application/vnd.jupyter.widget-view+json": {
              "version_major": 2,
              "version_minor": 0,
              "model_id": "137b2745558a4d00ac8eec5f02918e1d"
            }
          },
          "metadata": {}
        },
        {
          "output_type": "stream",
          "name": "stdout",
          "text": [
            "[ 005/005 ] [ Train Pseudo | loss = 0.08038, acc = 0.93750 ] [ Train Labeled | loss = 0.11886, acc = 0.93652 ]\n"
          ]
        },
        {
          "output_type": "display_data",
          "data": {
            "text/plain": "Valid:   0%|          | 0/11 [00:00<?, ?it/s]",
            "application/vnd.jupyter.widget-view+json": {
              "version_major": 2,
              "version_minor": 0,
              "model_id": "4da0ae2d12734b06b8d9b221eb737c42"
            }
          },
          "metadata": {}
        },
        {
          "output_type": "display_data",
          "data": {
            "text/plain": "Valid:   0%|          | 0/11 [00:00<?, ?it/s]",
            "application/vnd.jupyter.widget-view+json": {
              "version_major": 2,
              "version_minor": 0,
              "model_id": "7c6e68f7f0924840b821263e04fd09f1"
            }
          },
          "metadata": {}
        },
        {
          "output_type": "stream",
          "name": "stdout",
          "text": [
            "[ 005/005 ] [ Valid | loss = 0.95337, acc = 0.84574 ] [ Valid T | loss = 0.75511, acc = 0.85540 ]\nAdjusting learning rate of group 0 to 9.9726e-05.\n========== student_round 02 ==========\n"
          ]
        },
        {
          "output_type": "display_data",
          "data": {
            "text/plain": "Valid:   0%|          | 0/11 [00:00<?, ?it/s]",
            "application/vnd.jupyter.widget-view+json": {
              "version_major": 2,
              "version_minor": 0,
              "model_id": "ea06e2a9da5046cd8fbf28f692fad5e4"
            }
          },
          "metadata": {}
        },
        {
          "output_type": "stream",
          "name": "stdout",
          "text": [
            "Confusion:\n01: 0.59, 02: 0.75, 03: 0.70, 04: 0.83, 05: 0.84, 06: 0.80, 07: 0.89, 08: 0.88, 09: 0.83, 10: 0.91, 11: 0.84\n"
          ]
        },
        {
          "output_type": "display_data",
          "data": {
            "text/plain": "PseudoLabels: 0it [00:00, ?it/s]",
            "application/vnd.jupyter.widget-view+json": {
              "version_major": 2,
              "version_minor": 0,
              "model_id": "34a1a66931ce465cb3cef0724efd4ddb"
            }
          },
          "metadata": {}
        },
        {
          "output_type": "stream",
          "name": "stdout",
          "text": [
            "Use pseudo label: 1897\nPseudo Labels Distribution:\n01: 13.46, 02: 01.97, 03: 10.93, 04: 19.02, 05: 15.91, 06: 27.23, 07: 00.51, 08: 00.10, 09: 08.83, 10: 00.52, 11: 01.51\n"
          ]
        },
        {
          "output_type": "display_data",
          "data": {
            "text/plain": "PseudoLabels: 0it [00:00, ?it/s]",
            "application/vnd.jupyter.widget-view+json": {
              "version_major": 2,
              "version_minor": 0,
              "model_id": "e7912211a632480ebea30c4f688d20d3"
            }
          },
          "metadata": {}
        },
        {
          "output_type": "stream",
          "name": "stdout",
          "text": [
            "Labeled Weight:\n01: 1.24, 02: 1.00, 03: 0.97, 04: 1.04, 05: 1.54, 06: 1.29, 07: 0.75, 08: 0.73, 09: 0.87, 10: 0.87, 11: 0.70\nPseudo Weight:\n01: 0.76, 02: 0.94, 03: 0.98, 04: 0.91, 05: 0.61, 06: 0.73, 07: 1.25, 08: 1.30, 09: 1.09, 10: 1.09, 11: 1.35\n"
          ]
        },
        {
          "output_type": "display_data",
          "data": {
            "text/plain": "Train:   0%|          | 0/29 [00:00<?, ?it/s]",
            "application/vnd.jupyter.widget-view+json": {
              "version_major": 2,
              "version_minor": 0,
              "model_id": "1e3f17267817454b8e8f01ea3251dc7c"
            }
          },
          "metadata": {}
        },
        {
          "output_type": "display_data",
          "data": {
            "text/plain": "Train:   0%|          | 0/48 [00:00<?, ?it/s]",
            "application/vnd.jupyter.widget-view+json": {
              "version_major": 2,
              "version_minor": 0,
              "model_id": "5a9c1357c7254ae4ad19fd2ac86f7241"
            }
          },
          "metadata": {}
        },
        {
          "output_type": "stream",
          "name": "stdout",
          "text": [
            "[ 001/005 ] [ Train Pseudo | loss = 0.08079, acc = 0.94073 ] [ Train Labeled | loss = 0.13687, acc = 0.93490 ]\n"
          ]
        },
        {
          "output_type": "display_data",
          "data": {
            "text/plain": "Valid:   0%|          | 0/11 [00:00<?, ?it/s]",
            "application/vnd.jupyter.widget-view+json": {
              "version_major": 2,
              "version_minor": 0,
              "model_id": "8144669e534e45b381bafc938a80d108"
            }
          },
          "metadata": {}
        },
        {
          "output_type": "display_data",
          "data": {
            "text/plain": "Valid:   0%|          | 0/11 [00:00<?, ?it/s]",
            "application/vnd.jupyter.widget-view+json": {
              "version_major": 2,
              "version_minor": 0,
              "model_id": "ea42e07025dc461b91da5c993adff755"
            }
          },
          "metadata": {}
        },
        {
          "output_type": "stream",
          "name": "stdout",
          "text": [
            "[ 001/005 ] [ Valid | loss = 0.94810, acc = 0.84972 ] [ Valid T | loss = 0.75023, acc = 0.86307 ]\nAdjusting learning rate of group 0 to 9.9606e-05.\n"
          ]
        },
        {
          "output_type": "display_data",
          "data": {
            "text/plain": "Train:   0%|          | 0/29 [00:00<?, ?it/s]",
            "application/vnd.jupyter.widget-view+json": {
              "version_major": 2,
              "version_minor": 0,
              "model_id": "2ee57697f4eb40a3b9e3e3430474c424"
            }
          },
          "metadata": {}
        },
        {
          "output_type": "display_data",
          "data": {
            "text/plain": "Train:   0%|          | 0/48 [00:00<?, ?it/s]",
            "application/vnd.jupyter.widget-view+json": {
              "version_major": 2,
              "version_minor": 0,
              "model_id": "774f96a1f8f94a0780f53b2a43f713c4"
            }
          },
          "metadata": {}
        },
        {
          "output_type": "stream",
          "name": "stdout",
          "text": [
            "[ 002/005 ] [ Train Pseudo | loss = 0.07728, acc = 0.93966 ] [ Train Labeled | loss = 0.12341, acc = 0.93945 ]\n"
          ]
        },
        {
          "output_type": "display_data",
          "data": {
            "text/plain": "Valid:   0%|          | 0/11 [00:00<?, ?it/s]",
            "application/vnd.jupyter.widget-view+json": {
              "version_major": 2,
              "version_minor": 0,
              "model_id": "8df5b2bf8ac54399a87cc3a99667919a"
            }
          },
          "metadata": {}
        },
        {
          "output_type": "display_data",
          "data": {
            "text/plain": "Valid:   0%|          | 0/11 [00:00<?, ?it/s]",
            "application/vnd.jupyter.widget-view+json": {
              "version_major": 2,
              "version_minor": 0,
              "model_id": "7d05a94a88ab4515a62228334025539b"
            }
          },
          "metadata": {}
        },
        {
          "output_type": "stream",
          "name": "stdout",
          "text": [
            "[ 002/005 ] [ Valid | loss = 0.97906, acc = 0.85284 ] [ Valid T | loss = 0.75922, acc = 0.86165 ]\nAdjusting learning rate of group 0 to 9.9464e-05.\n"
          ]
        },
        {
          "output_type": "display_data",
          "data": {
            "text/plain": "Train:   0%|          | 0/29 [00:00<?, ?it/s]",
            "application/vnd.jupyter.widget-view+json": {
              "version_major": 2,
              "version_minor": 0,
              "model_id": "0516d0fbd5ab476c8d5368d7ad604b84"
            }
          },
          "metadata": {}
        },
        {
          "output_type": "display_data",
          "data": {
            "text/plain": "Train:   0%|          | 0/48 [00:00<?, ?it/s]",
            "application/vnd.jupyter.widget-view+json": {
              "version_major": 2,
              "version_minor": 0,
              "model_id": "637810641be040e29e48ff2267be1aab"
            }
          },
          "metadata": {}
        },
        {
          "output_type": "stream",
          "name": "stdout",
          "text": [
            "[ 003/005 ] [ Train Pseudo | loss = 0.07592, acc = 0.93696 ] [ Train Labeled | loss = 0.12617, acc = 0.93392 ]\n"
          ]
        },
        {
          "output_type": "display_data",
          "data": {
            "text/plain": "Valid:   0%|          | 0/11 [00:00<?, ?it/s]",
            "application/vnd.jupyter.widget-view+json": {
              "version_major": 2,
              "version_minor": 0,
              "model_id": "0fd05608e5384386bf1af297a6ba541b"
            }
          },
          "metadata": {}
        },
        {
          "output_type": "display_data",
          "data": {
            "text/plain": "Valid:   0%|          | 0/11 [00:00<?, ?it/s]",
            "application/vnd.jupyter.widget-view+json": {
              "version_major": 2,
              "version_minor": 0,
              "model_id": "78ab2fcee0ed4c3d8c2b1e3e67578e53"
            }
          },
          "metadata": {}
        },
        {
          "output_type": "stream",
          "name": "stdout",
          "text": [
            "[ 003/005 ] [ Valid | loss = 0.95844, acc = 0.84830 ] [ Valid T | loss = 0.79205, acc = 0.84943 ]\nAdjusting learning rate of group 0 to 9.9300e-05.\n"
          ]
        },
        {
          "output_type": "display_data",
          "data": {
            "text/plain": "Train:   0%|          | 0/29 [00:00<?, ?it/s]",
            "application/vnd.jupyter.widget-view+json": {
              "version_major": 2,
              "version_minor": 0,
              "model_id": "24daebd524f14dda9ffc144fe3a388e5"
            }
          },
          "metadata": {}
        },
        {
          "output_type": "display_data",
          "data": {
            "text/plain": "Train:   0%|          | 0/48 [00:00<?, ?it/s]",
            "application/vnd.jupyter.widget-view+json": {
              "version_major": 2,
              "version_minor": 0,
              "model_id": "4568c1715c2c4e0dab4f39b9bfd28007"
            }
          },
          "metadata": {}
        },
        {
          "output_type": "stream",
          "name": "stdout",
          "text": [
            "[ 004/005 ] [ Train Pseudo | loss = 0.08833, acc = 0.92726 ] [ Train Labeled | loss = 0.12386, acc = 0.93913 ]\n"
          ]
        },
        {
          "output_type": "display_data",
          "data": {
            "text/plain": "Valid:   0%|          | 0/11 [00:00<?, ?it/s]",
            "application/vnd.jupyter.widget-view+json": {
              "version_major": 2,
              "version_minor": 0,
              "model_id": "af52433568114360b1bfc17ca83bb5fa"
            }
          },
          "metadata": {}
        },
        {
          "output_type": "display_data",
          "data": {
            "text/plain": "Valid:   0%|          | 0/11 [00:00<?, ?it/s]",
            "application/vnd.jupyter.widget-view+json": {
              "version_major": 2,
              "version_minor": 0,
              "model_id": "553113dd88fa4419b4b7d085faac9f49"
            }
          },
          "metadata": {}
        },
        {
          "output_type": "stream",
          "name": "stdout",
          "text": [
            "[ 004/005 ] [ Valid | loss = 0.98855, acc = 0.82869 ] [ Valid T | loss = 0.77292, acc = 0.86307 ]\nAdjusting learning rate of group 0 to 9.9114e-05.\n"
          ]
        },
        {
          "output_type": "display_data",
          "data": {
            "text/plain": "Train:   0%|          | 0/29 [00:00<?, ?it/s]",
            "application/vnd.jupyter.widget-view+json": {
              "version_major": 2,
              "version_minor": 0,
              "model_id": "bb64535469c74ca8aaa205edc96b4e21"
            }
          },
          "metadata": {}
        },
        {
          "output_type": "display_data",
          "data": {
            "text/plain": "Train:   0%|          | 0/48 [00:00<?, ?it/s]",
            "application/vnd.jupyter.widget-view+json": {
              "version_major": 2,
              "version_minor": 0,
              "model_id": "0daa0bc485d14c30ab6f722ecbd130d1"
            }
          },
          "metadata": {}
        },
        {
          "output_type": "stream",
          "name": "stdout",
          "text": [
            "[ 005/005 ] [ Train Pseudo | loss = 0.08039, acc = 0.94127 ] [ Train Labeled | loss = 0.12327, acc = 0.94010 ]\n"
          ]
        },
        {
          "output_type": "display_data",
          "data": {
            "text/plain": "Valid:   0%|          | 0/11 [00:00<?, ?it/s]",
            "application/vnd.jupyter.widget-view+json": {
              "version_major": 2,
              "version_minor": 0,
              "model_id": "df5b43b544b740f29db46240341796b3"
            }
          },
          "metadata": {}
        },
        {
          "output_type": "display_data",
          "data": {
            "text/plain": "Valid:   0%|          | 0/11 [00:00<?, ?it/s]",
            "application/vnd.jupyter.widget-view+json": {
              "version_major": 2,
              "version_minor": 0,
              "model_id": "22f500461fae4a82a3b4431e888a35db"
            }
          },
          "metadata": {}
        },
        {
          "output_type": "stream",
          "name": "stdout",
          "text": [
            "[ 005/005 ] [ Valid | loss = 0.95417, acc = 0.85000 ] [ Valid T | loss = 0.77475, acc = 0.86023 ]\nAdjusting learning rate of group 0 to 9.8907e-05.\n========== student_round 03 ==========\n"
          ]
        },
        {
          "output_type": "display_data",
          "data": {
            "text/plain": "Valid:   0%|          | 0/11 [00:00<?, ?it/s]",
            "application/vnd.jupyter.widget-view+json": {
              "version_major": 2,
              "version_minor": 0,
              "model_id": "db085ee39efe42a495373e59655933e2"
            }
          },
          "metadata": {}
        },
        {
          "output_type": "stream",
          "name": "stdout",
          "text": [
            "Confusion:\n01: 0.61, 02: 0.77, 03: 0.69, 04: 0.81, 05: 0.83, 06: 0.81, 07: 0.88, 08: 0.88, 09: 0.81, 10: 0.92, 11: 0.84\n"
          ]
        },
        {
          "output_type": "display_data",
          "data": {
            "text/plain": "PseudoLabels: 0it [00:00, ?it/s]",
            "application/vnd.jupyter.widget-view+json": {
              "version_major": 2,
              "version_minor": 0,
              "model_id": "16ad9a251bdf4c59a0d36cca45ce9c28"
            }
          },
          "metadata": {}
        },
        {
          "output_type": "stream",
          "name": "stdout",
          "text": [
            "Use pseudo label: 1711\nPseudo Labels Distribution:\n01: 12.77, 02: 02.44, 03: 11.40, 04: 18.81, 05: 18.63, 06: 27.98, 07: 00.50, 08: 00.10, 09: 05.55, 10: 00.58, 11: 01.24\n"
          ]
        },
        {
          "output_type": "display_data",
          "data": {
            "text/plain": "PseudoLabels: 0it [00:00, ?it/s]",
            "application/vnd.jupyter.widget-view+json": {
              "version_major": 2,
              "version_minor": 0,
              "model_id": "f35f9b5776ba4b259147d71e846d65d7"
            }
          },
          "metadata": {}
        },
        {
          "output_type": "stream",
          "name": "stdout",
          "text": [
            "Labeled Weight:\n01: 1.07, 02: 0.81, 03: 0.78, 04: 1.71, 05: 1.07, 06: 1.48, 07: 0.78, 08: 0.68, 09: 0.97, 10: 0.75, 11: 0.90\nPseudo Weight:\n01: 0.86, 02: 1.15, 03: 1.19, 04: 0.54, 05: 0.86, 06: 0.62, 07: 1.19, 08: 1.37, 09: 0.96, 10: 1.23, 11: 1.03\n"
          ]
        },
        {
          "output_type": "display_data",
          "data": {
            "text/plain": "Train:   0%|          | 0/26 [00:00<?, ?it/s]",
            "application/vnd.jupyter.widget-view+json": {
              "version_major": 2,
              "version_minor": 0,
              "model_id": "1507a348fff342258ec4c0a6b54ce15c"
            }
          },
          "metadata": {}
        },
        {
          "output_type": "display_data",
          "data": {
            "text/plain": "Train:   0%|          | 0/48 [00:00<?, ?it/s]",
            "application/vnd.jupyter.widget-view+json": {
              "version_major": 2,
              "version_minor": 0,
              "model_id": "e9c69229d9af4c6f836871766d840b10"
            }
          },
          "metadata": {}
        },
        {
          "output_type": "stream",
          "name": "stdout",
          "text": [
            "[ 001/005 ] [ Train Pseudo | loss = 0.06571, acc = 0.94111 ] [ Train Labeled | loss = 0.11614, acc = 0.93685 ]\n"
          ]
        },
        {
          "output_type": "display_data",
          "data": {
            "text/plain": "Valid:   0%|          | 0/11 [00:00<?, ?it/s]",
            "application/vnd.jupyter.widget-view+json": {
              "version_major": 2,
              "version_minor": 0,
              "model_id": "828dc103419a4d9cb4fd9626d886925f"
            }
          },
          "metadata": {}
        },
        {
          "output_type": "display_data",
          "data": {
            "text/plain": "Valid:   0%|          | 0/11 [00:00<?, ?it/s]",
            "application/vnd.jupyter.widget-view+json": {
              "version_major": 2,
              "version_minor": 0,
              "model_id": "1e29351b30b743d1ad8e62698e4a7e5a"
            }
          },
          "metadata": {}
        },
        {
          "output_type": "stream",
          "name": "stdout",
          "text": [
            "[ 001/005 ] [ Valid | loss = 0.97207, acc = 0.85455 ] [ Valid T | loss = 0.79065, acc = 0.85824 ]\nAdjusting learning rate of group 0 to 9.8679e-05.\n"
          ]
        },
        {
          "output_type": "display_data",
          "data": {
            "text/plain": "Train:   0%|          | 0/26 [00:00<?, ?it/s]",
            "application/vnd.jupyter.widget-view+json": {
              "version_major": 2,
              "version_minor": 0,
              "model_id": "454c80cbf7aa4f748fb5dc0b4b64cffd"
            }
          },
          "metadata": {}
        },
        {
          "output_type": "display_data",
          "data": {
            "text/plain": "Train:   0%|          | 0/48 [00:00<?, ?it/s]",
            "application/vnd.jupyter.widget-view+json": {
              "version_major": 2,
              "version_minor": 0,
              "model_id": "4bfecc9c1db04f28921b6da1bb34f1fd"
            }
          },
          "metadata": {}
        },
        {
          "output_type": "stream",
          "name": "stdout",
          "text": [
            "[ 002/005 ] [ Train Pseudo | loss = 0.06818, acc = 0.94772 ] [ Train Labeled | loss = 0.09989, acc = 0.93522 ]\n"
          ]
        },
        {
          "output_type": "display_data",
          "data": {
            "text/plain": "Valid:   0%|          | 0/11 [00:00<?, ?it/s]",
            "application/vnd.jupyter.widget-view+json": {
              "version_major": 2,
              "version_minor": 0,
              "model_id": "8654419e950b43bf8c233952f3fe0711"
            }
          },
          "metadata": {}
        },
        {
          "output_type": "display_data",
          "data": {
            "text/plain": "Valid:   0%|          | 0/11 [00:00<?, ?it/s]",
            "application/vnd.jupyter.widget-view+json": {
              "version_major": 2,
              "version_minor": 0,
              "model_id": "29235c5304c14291959a4a9155ef84c9"
            }
          },
          "metadata": {}
        },
        {
          "output_type": "stream",
          "name": "stdout",
          "text": [
            "[ 002/005 ] [ Valid | loss = 0.97239, acc = 0.85057 ] [ Valid T | loss = 0.78022, acc = 0.86136 ]\nAdjusting learning rate of group 0 to 9.8429e-05.\n"
          ]
        },
        {
          "output_type": "display_data",
          "data": {
            "text/plain": "Train:   0%|          | 0/26 [00:00<?, ?it/s]",
            "application/vnd.jupyter.widget-view+json": {
              "version_major": 2,
              "version_minor": 0,
              "model_id": "d4f5e1cebd8649148fa7efe3109089c6"
            }
          },
          "metadata": {}
        },
        {
          "output_type": "display_data",
          "data": {
            "text/plain": "Train:   0%|          | 0/48 [00:00<?, ?it/s]",
            "application/vnd.jupyter.widget-view+json": {
              "version_major": 2,
              "version_minor": 0,
              "model_id": "06c7c62deb954c4992d132b2e591bfd1"
            }
          },
          "metadata": {}
        },
        {
          "output_type": "stream",
          "name": "stdout",
          "text": [
            "[ 003/005 ] [ Train Pseudo | loss = 0.06674, acc = 0.95132 ] [ Train Labeled | loss = 0.09516, acc = 0.93359 ]\n"
          ]
        },
        {
          "output_type": "display_data",
          "data": {
            "text/plain": "Valid:   0%|          | 0/11 [00:00<?, ?it/s]",
            "application/vnd.jupyter.widget-view+json": {
              "version_major": 2,
              "version_minor": 0,
              "model_id": "e05d5d78c726470f9a4e36bdfeb898be"
            }
          },
          "metadata": {}
        },
        {
          "output_type": "display_data",
          "data": {
            "text/plain": "Valid:   0%|          | 0/11 [00:00<?, ?it/s]",
            "application/vnd.jupyter.widget-view+json": {
              "version_major": 2,
              "version_minor": 0,
              "model_id": "7c0e33a7534c481da4b3b7bc4d549909"
            }
          },
          "metadata": {}
        },
        {
          "output_type": "stream",
          "name": "stdout",
          "text": [
            "Saving teacher model with acc 0.872\n",
            "[ 003/005 ] [ Valid | loss = 0.97449, acc = 0.84432 ] [ Valid T | loss = 0.78348, acc = 0.87187 ]\n",
            "Adjusting learning rate of group 0 to 9.8158e-05.\n"
          ]
        },
        {
          "output_type": "display_data",
          "data": {
            "text/plain": "Train:   0%|          | 0/26 [00:00<?, ?it/s]",
            "application/vnd.jupyter.widget-view+json": {
              "version_major": 2,
              "version_minor": 0,
              "model_id": "be78b43c0f104579b84a93f109f886ff"
            }
          },
          "metadata": {}
        },
        {
          "output_type": "display_data",
          "data": {
            "text/plain": "Train:   0%|          | 0/48 [00:00<?, ?it/s]",
            "application/vnd.jupyter.widget-view+json": {
              "version_major": 2,
              "version_minor": 0,
              "model_id": "3a15da560662478da61bdee9fdb42f55"
            }
          },
          "metadata": {}
        },
        {
          "output_type": "stream",
          "name": "stdout",
          "text": [
            "[ 004/005 ] [ Train Pseudo | loss = 0.06135, acc = 0.95433 ] [ Train Labeled | loss = 0.10917, acc = 0.93229 ]\n"
          ]
        },
        {
          "output_type": "display_data",
          "data": {
            "text/plain": "Valid:   0%|          | 0/11 [00:00<?, ?it/s]",
            "application/vnd.jupyter.widget-view+json": {
              "version_major": 2,
              "version_minor": 0,
              "model_id": "652359b0e3914293af6fafd0acd41d4f"
            }
          },
          "metadata": {}
        },
        {
          "output_type": "display_data",
          "data": {
            "text/plain": "Valid:   0%|          | 0/11 [00:00<?, ?it/s]",
            "application/vnd.jupyter.widget-view+json": {
              "version_major": 2,
              "version_minor": 0,
              "model_id": "71651f6193674d6e8387c6c2120ff9c9"
            }
          },
          "metadata": {}
        },
        {
          "output_type": "stream",
          "name": "stdout",
          "text": [
            "[ 004/005 ] [ Valid | loss = 0.97415, acc = 0.85000 ] [ Valid T | loss = 0.81218, acc = 0.86136 ]\nAdjusting learning rate of group 0 to 9.7866e-05.\n"
          ]
        },
        {
          "output_type": "display_data",
          "data": {
            "text/plain": "Train:   0%|          | 0/26 [00:00<?, ?it/s]",
            "application/vnd.jupyter.widget-view+json": {
              "version_major": 2,
              "version_minor": 0,
              "model_id": "ccaac491dbcf407d8cb938af556f6f4f"
            }
          },
          "metadata": {}
        },
        {
          "output_type": "display_data",
          "data": {
            "text/plain": "Train:   0%|          | 0/48 [00:00<?, ?it/s]",
            "application/vnd.jupyter.widget-view+json": {
              "version_major": 2,
              "version_minor": 0,
              "model_id": "4ccbaa781b53453ba504c8312619f935"
            }
          },
          "metadata": {}
        },
        {
          "output_type": "stream",
          "name": "stdout",
          "text": [
            "[ 005/005 ] [ Train Pseudo | loss = 0.06115, acc = 0.95313 ] [ Train Labeled | loss = 0.09647, acc = 0.93229 ]\n"
          ]
        },
        {
          "output_type": "display_data",
          "data": {
            "text/plain": "Valid:   0%|          | 0/11 [00:00<?, ?it/s]",
            "application/vnd.jupyter.widget-view+json": {
              "version_major": 2,
              "version_minor": 0,
              "model_id": "fad056d2522f4a9a97ac264f7583998f"
            }
          },
          "metadata": {}
        },
        {
          "output_type": "display_data",
          "data": {
            "text/plain": "Valid:   0%|          | 0/11 [00:00<?, ?it/s]",
            "application/vnd.jupyter.widget-view+json": {
              "version_major": 2,
              "version_minor": 0,
              "model_id": "3c32d7d2d941451f811ac20f8cc7ea57"
            }
          },
          "metadata": {}
        },
        {
          "output_type": "stream",
          "name": "stdout",
          "text": [
            "[ 005/005 ] [ Valid | loss = 0.96690, acc = 0.84602 ] [ Valid T | loss = 0.80428, acc = 0.85369 ]\nAdjusting learning rate of group 0 to 9.7553e-05.\n========== student_round 04 ==========\n"
          ]
        },
        {
          "output_type": "display_data",
          "data": {
            "text/plain": "Valid:   0%|          | 0/11 [00:00<?, ?it/s]",
            "application/vnd.jupyter.widget-view+json": {
              "version_major": 2,
              "version_minor": 0,
              "model_id": "4924a89168af40f0b483d45aede56611"
            }
          },
          "metadata": {}
        },
        {
          "output_type": "stream",
          "name": "stdout",
          "text": [
            "Confusion:\n01: 0.58, 02: 0.78, 03: 0.67, 04: 0.83, 05: 0.83, 06: 0.81, 07: 0.91, 08: 0.88, 09: 0.83, 10: 0.92, 11: 0.84\n"
          ]
        },
        {
          "output_type": "display_data",
          "data": {
            "text/plain": "PseudoLabels: 0it [00:00, ?it/s]",
            "application/vnd.jupyter.widget-view+json": {
              "version_major": 2,
              "version_minor": 0,
              "model_id": "f34551e92c6445ba9e50cee13649da95"
            }
          },
          "metadata": {}
        },
        {
          "output_type": "stream",
          "name": "stdout",
          "text": [
            "Use pseudo label: 1459\nPseudo Labels Distribution:\n01: 10.94, 02: 01.75, 03: 06.07, 04: 22.29, 05: 18.54, 06: 33.24, 07: 00.47, 08: 00.09, 09: 04.87, 10: 00.52, 11: 01.25\n"
          ]
        },
        {
          "output_type": "display_data",
          "data": {
            "text/plain": "PseudoLabels: 0it [00:00, ?it/s]",
            "application/vnd.jupyter.widget-view+json": {
              "version_major": 2,
              "version_minor": 0,
              "model_id": "8a8f52f129bb41ab8428d1f4f4c753c8"
            }
          },
          "metadata": {}
        },
        {
          "output_type": "stream",
          "name": "stdout",
          "text": [
            "Labeled Weight:\n01: 1.41, 02: 0.95, 03: 1.06, 04: 0.99, 05: 1.22, 06: 1.14, 07: 0.80, 08: 0.89, 09: 0.99, 10: 0.80, 11: 0.77\nPseudo Weight:\n01: 0.69, 02: 1.02, 03: 0.91, 04: 0.98, 05: 0.79, 06: 0.85, 07: 1.22, 08: 1.09, 09: 0.98, 10: 1.22, 11: 1.26\n"
          ]
        },
        {
          "output_type": "display_data",
          "data": {
            "text/plain": "Train:   0%|          | 0/22 [00:00<?, ?it/s]",
            "application/vnd.jupyter.widget-view+json": {
              "version_major": 2,
              "version_minor": 0,
              "model_id": "d28c6107b8254187a9073a9dc598ce6d"
            }
          },
          "metadata": {}
        },
        {
          "output_type": "display_data",
          "data": {
            "text/plain": "Train:   0%|          | 0/48 [00:00<?, ?it/s]",
            "application/vnd.jupyter.widget-view+json": {
              "version_major": 2,
              "version_minor": 0,
              "model_id": "286c9fc2875c47e3b0ad1e54c236d555"
            }
          },
          "metadata": {}
        },
        {
          "output_type": "stream",
          "name": "stdout",
          "text": [
            "[ 001/005 ] [ Train Pseudo | loss = 0.09815, acc = 0.92614 ] [ Train Labeled | loss = 0.15385, acc = 0.93132 ]\n"
          ]
        },
        {
          "output_type": "display_data",
          "data": {
            "text/plain": "Valid:   0%|          | 0/11 [00:00<?, ?it/s]",
            "application/vnd.jupyter.widget-view+json": {
              "version_major": 2,
              "version_minor": 0,
              "model_id": "9b22bcdaeddf455393bd356b4b81c054"
            }
          },
          "metadata": {}
        },
        {
          "output_type": "display_data",
          "data": {
            "text/plain": "Valid:   0%|          | 0/11 [00:00<?, ?it/s]",
            "application/vnd.jupyter.widget-view+json": {
              "version_major": 2,
              "version_minor": 0,
              "model_id": "76212c0005e0453eb3f07efaccddb924"
            }
          },
          "metadata": {}
        },
        {
          "output_type": "stream",
          "name": "stdout",
          "text": [
            "[ 001/005 ] [ Valid | loss = 0.99528, acc = 0.84290 ] [ Valid T | loss = 0.78316, acc = 0.86932 ]\nAdjusting learning rate of group 0 to 9.7219e-05.\n"
          ]
        },
        {
          "output_type": "display_data",
          "data": {
            "text/plain": "Train:   0%|          | 0/22 [00:00<?, ?it/s]",
            "application/vnd.jupyter.widget-view+json": {
              "version_major": 2,
              "version_minor": 0,
              "model_id": "1970613412044f1bacbae170670838b0"
            }
          },
          "metadata": {}
        },
        {
          "output_type": "display_data",
          "data": {
            "text/plain": "Train:   0%|          | 0/48 [00:00<?, ?it/s]",
            "application/vnd.jupyter.widget-view+json": {
              "version_major": 2,
              "version_minor": 0,
              "model_id": "31e28cbf74dc4c0d9a812e1e6b7c3ab5"
            }
          },
          "metadata": {}
        },
        {
          "output_type": "stream",
          "name": "stdout",
          "text": [
            "[ 002/005 ] [ Train Pseudo | loss = 0.10692, acc = 0.92188 ] [ Train Labeled | loss = 0.14341, acc = 0.94076 ]\n"
          ]
        },
        {
          "output_type": "display_data",
          "data": {
            "text/plain": "Valid:   0%|          | 0/11 [00:00<?, ?it/s]",
            "application/vnd.jupyter.widget-view+json": {
              "version_major": 2,
              "version_minor": 0,
              "model_id": "f4e5dae1c5594c03a1f9918d0142c0f6"
            }
          },
          "metadata": {}
        },
        {
          "output_type": "display_data",
          "data": {
            "text/plain": "Valid:   0%|          | 0/11 [00:00<?, ?it/s]",
            "application/vnd.jupyter.widget-view+json": {
              "version_major": 2,
              "version_minor": 0,
              "model_id": "6774eaeb23bf4355a3a9f725e6a0001b"
            }
          },
          "metadata": {}
        },
        {
          "output_type": "stream",
          "name": "stdout",
          "text": [
            "[ 002/005 ] [ Valid | loss = 1.00203, acc = 0.82358 ] [ Valid T | loss = 0.82533, acc = 0.85682 ]\nAdjusting learning rate of group 0 to 9.6864e-05.\n"
          ]
        },
        {
          "output_type": "display_data",
          "data": {
            "text/plain": "Train:   0%|          | 0/22 [00:00<?, ?it/s]",
            "application/vnd.jupyter.widget-view+json": {
              "version_major": 2,
              "version_minor": 0,
              "model_id": "ead4b1941274499f8667b42d25661906"
            }
          },
          "metadata": {}
        },
        {
          "output_type": "display_data",
          "data": {
            "text/plain": "Train:   0%|          | 0/48 [00:00<?, ?it/s]",
            "application/vnd.jupyter.widget-view+json": {
              "version_major": 2,
              "version_minor": 0,
              "model_id": "ffa49894c60e49b49a674b632af9fe9f"
            }
          },
          "metadata": {}
        },
        {
          "output_type": "stream",
          "name": "stdout",
          "text": [
            "[ 003/005 ] [ Train Pseudo | loss = 0.10184, acc = 0.92827 ] [ Train Labeled | loss = 0.13836, acc = 0.93522 ]\n"
          ]
        },
        {
          "output_type": "display_data",
          "data": {
            "text/plain": "Valid:   0%|          | 0/11 [00:00<?, ?it/s]",
            "application/vnd.jupyter.widget-view+json": {
              "version_major": 2,
              "version_minor": 0,
              "model_id": "6a8aa430317e40298873f4cf4ab6d7db"
            }
          },
          "metadata": {}
        },
        {
          "output_type": "display_data",
          "data": {
            "text/plain": "Valid:   0%|          | 0/11 [00:00<?, ?it/s]",
            "application/vnd.jupyter.widget-view+json": {
              "version_major": 2,
              "version_minor": 0,
              "model_id": "5dd68151af404d3096a12ff8261e6f42"
            }
          },
          "metadata": {}
        },
        {
          "output_type": "stream",
          "name": "stdout",
          "text": [
            "[ 003/005 ] [ Valid | loss = 0.97830, acc = 0.84290 ] [ Valid T | loss = 0.81795, acc = 0.86307 ]\nAdjusting learning rate of group 0 to 9.6489e-05.\n"
          ]
        },
        {
          "output_type": "display_data",
          "data": {
            "text/plain": "Train:   0%|          | 0/22 [00:00<?, ?it/s]",
            "application/vnd.jupyter.widget-view+json": {
              "version_major": 2,
              "version_minor": 0,
              "model_id": "4c1a8680567b46d0a1e4f9f78c2f3a70"
            }
          },
          "metadata": {}
        },
        {
          "output_type": "display_data",
          "data": {
            "text/plain": "Train:   0%|          | 0/48 [00:00<?, ?it/s]",
            "application/vnd.jupyter.widget-view+json": {
              "version_major": 2,
              "version_minor": 0,
              "model_id": "6801606ed7074a9182def5c734e66bf4"
            }
          },
          "metadata": {}
        },
        {
          "output_type": "stream",
          "name": "stdout",
          "text": [
            "[ 004/005 ] [ Train Pseudo | loss = 0.08796, acc = 0.95028 ] [ Train Labeled | loss = 0.12821, acc = 0.94661 ]\n"
          ]
        },
        {
          "output_type": "display_data",
          "data": {
            "text/plain": "Valid:   0%|          | 0/11 [00:00<?, ?it/s]",
            "application/vnd.jupyter.widget-view+json": {
              "version_major": 2,
              "version_minor": 0,
              "model_id": "abf80fca44b749aba06a212bb7495755"
            }
          },
          "metadata": {}
        },
        {
          "output_type": "display_data",
          "data": {
            "text/plain": "Valid:   0%|          | 0/11 [00:00<?, ?it/s]",
            "application/vnd.jupyter.widget-view+json": {
              "version_major": 2,
              "version_minor": 0,
              "model_id": "bcd9050bb9e04eb698293c187e8b874a"
            }
          },
          "metadata": {}
        },
        {
          "output_type": "stream",
          "name": "stdout",
          "text": [
            "[ 004/005 ] [ Valid | loss = 0.97436, acc = 0.84716 ] [ Valid T | loss = 0.80663, acc = 0.85710 ]\nAdjusting learning rate of group 0 to 9.6093e-05.\n"
          ]
        },
        {
          "output_type": "display_data",
          "data": {
            "text/plain": "Train:   0%|          | 0/22 [00:00<?, ?it/s]",
            "application/vnd.jupyter.widget-view+json": {
              "version_major": 2,
              "version_minor": 0,
              "model_id": "6d39d9f96930451fa806ae4b7914c6c3"
            }
          },
          "metadata": {}
        },
        {
          "output_type": "display_data",
          "data": {
            "text/plain": "Train:   0%|          | 0/48 [00:00<?, ?it/s]",
            "application/vnd.jupyter.widget-view+json": {
              "version_major": 2,
              "version_minor": 0,
              "model_id": "490f16d1e1aa47d58bae4008f38ad3c9"
            }
          },
          "metadata": {}
        },
        {
          "output_type": "stream",
          "name": "stdout",
          "text": [
            "[ 005/005 ] [ Train Pseudo | loss = 0.08608, acc = 0.94744 ] [ Train Labeled | loss = 0.12814, acc = 0.94727 ]\n"
          ]
        },
        {
          "output_type": "display_data",
          "data": {
            "text/plain": "Valid:   0%|          | 0/11 [00:00<?, ?it/s]",
            "application/vnd.jupyter.widget-view+json": {
              "version_major": 2,
              "version_minor": 0,
              "model_id": "eb2f4d8b8e2c40449616c588177f801d"
            }
          },
          "metadata": {}
        },
        {
          "output_type": "display_data",
          "data": {
            "text/plain": "Valid:   0%|          | 0/11 [00:00<?, ?it/s]",
            "application/vnd.jupyter.widget-view+json": {
              "version_major": 2,
              "version_minor": 0,
              "model_id": "e27cd772ed88481092cc37a7edfa2edb"
            }
          },
          "metadata": {}
        },
        {
          "output_type": "stream",
          "name": "stdout",
          "text": [
            "[ 005/005 ] [ Valid | loss = 0.96582, acc = 0.84858 ] [ Valid T | loss = 0.79856, acc = 0.86619 ]\nAdjusting learning rate of group 0 to 9.5677e-05.\n========== student_round 05 ==========\n"
          ]
        },
        {
          "output_type": "display_data",
          "data": {
            "text/plain": "Valid:   0%|          | 0/11 [00:00<?, ?it/s]",
            "application/vnd.jupyter.widget-view+json": {
              "version_major": 2,
              "version_minor": 0,
              "model_id": "c9011a132b0e491e8e5597c482304f5b"
            }
          },
          "metadata": {}
        },
        {
          "output_type": "stream",
          "name": "stdout",
          "text": [
            "Confusion:\n01: 0.59, 02: 0.77, 03: 0.67, 04: 0.83, 05: 0.81, 06: 0.81, 07: 0.89, 08: 0.88, 09: 0.84, 10: 0.94, 11: 0.84\n"
          ]
        },
        {
          "output_type": "display_data",
          "data": {
            "text/plain": "PseudoLabels: 0it [00:00, ?it/s]",
            "application/vnd.jupyter.widget-view+json": {
              "version_major": 2,
              "version_minor": 0,
              "model_id": "a2dc067ec25946a2b2815460fee96302"
            }
          },
          "metadata": {}
        },
        {
          "output_type": "stream",
          "name": "stdout",
          "text": [
            "Use pseudo label: 1456\nPseudo Labels Distribution:\n01: 13.05, 02: 01.90, 03: 11.44, 04: 19.64, 05: 17.00, 06: 29.65, 07: 00.51, 08: 00.09, 09: 04.82, 10: 00.62, 11: 01.27\n"
          ]
        },
        {
          "output_type": "display_data",
          "data": {
            "text/plain": "PseudoLabels: 0it [00:00, ?it/s]",
            "application/vnd.jupyter.widget-view+json": {
              "version_major": 2,
              "version_minor": 0,
              "model_id": "8945d25b79524d81808f02e48cc8908a"
            }
          },
          "metadata": {}
        },
        {
          "output_type": "stream",
          "name": "stdout",
          "text": [
            "Labeled Weight:\n01: 1.13, 02: 1.22, 03: 1.02, 04: 1.22, 05: 1.02, 06: 0.95, 07: 0.77, 08: 0.77, 09: 0.98, 10: 0.91, 11: 1.02\nPseudo Weight:\n01: 0.86, 02: 0.80, 03: 0.96, 04: 0.80, 05: 0.96, 06: 1.03, 07: 1.28, 08: 1.28, 09: 1.00, 10: 1.07, 11: 0.96\n"
          ]
        },
        {
          "output_type": "display_data",
          "data": {
            "text/plain": "Train:   0%|          | 0/22 [00:00<?, ?it/s]",
            "application/vnd.jupyter.widget-view+json": {
              "version_major": 2,
              "version_minor": 0,
              "model_id": "8c1439c35d844c4ca7767c67fd08835a"
            }
          },
          "metadata": {}
        },
        {
          "output_type": "display_data",
          "data": {
            "text/plain": "Train:   0%|          | 0/48 [00:00<?, ?it/s]",
            "application/vnd.jupyter.widget-view+json": {
              "version_major": 2,
              "version_minor": 0,
              "model_id": "dc513cad2bc849f29b686a83882ea548"
            }
          },
          "metadata": {}
        },
        {
          "output_type": "stream",
          "name": "stdout",
          "text": [
            "[ 001/005 ] [ Train Pseudo | loss = 0.08819, acc = 0.95170 ] [ Train Labeled | loss = 0.15636, acc = 0.93620 ]\n"
          ]
        },
        {
          "output_type": "display_data",
          "data": {
            "text/plain": "Valid:   0%|          | 0/11 [00:00<?, ?it/s]",
            "application/vnd.jupyter.widget-view+json": {
              "version_major": 2,
              "version_minor": 0,
              "model_id": "86199982f6d04264a1546a074d28eb0f"
            }
          },
          "metadata": {}
        },
        {
          "output_type": "display_data",
          "data": {
            "text/plain": "Valid:   0%|          | 0/11 [00:00<?, ?it/s]",
            "application/vnd.jupyter.widget-view+json": {
              "version_major": 2,
              "version_minor": 0,
              "model_id": "dfbf5a936723401aa76199ae48398185"
            }
          },
          "metadata": {}
        },
        {
          "output_type": "stream",
          "name": "stdout",
          "text": [
            "[ 001/005 ] [ Valid | loss = 0.94518, acc = 0.85597 ] [ Valid T | loss = 0.80874, acc = 0.86307 ]\nAdjusting learning rate of group 0 to 9.5241e-05.\n"
          ]
        },
        {
          "output_type": "display_data",
          "data": {
            "text/plain": "Train:   0%|          | 0/22 [00:00<?, ?it/s]",
            "application/vnd.jupyter.widget-view+json": {
              "version_major": 2,
              "version_minor": 0,
              "model_id": "98d595e09b29429394427f2e7cb90d8d"
            }
          },
          "metadata": {}
        },
        {
          "output_type": "display_data",
          "data": {
            "text/plain": "Train:   0%|          | 0/48 [00:00<?, ?it/s]",
            "application/vnd.jupyter.widget-view+json": {
              "version_major": 2,
              "version_minor": 0,
              "model_id": "e467a9c3632844eba060b8b8a8dea62f"
            }
          },
          "metadata": {}
        },
        {
          "output_type": "stream",
          "name": "stdout",
          "text": [
            "[ 002/005 ] [ Train Pseudo | loss = 0.08261, acc = 0.95881 ] [ Train Labeled | loss = 0.14022, acc = 0.94889 ]\n"
          ]
        },
        {
          "output_type": "display_data",
          "data": {
            "text/plain": "Valid:   0%|          | 0/11 [00:00<?, ?it/s]",
            "application/vnd.jupyter.widget-view+json": {
              "version_major": 2,
              "version_minor": 0,
              "model_id": "2620d9ede67d4f98869fa0a0c0c65453"
            }
          },
          "metadata": {}
        },
        {
          "output_type": "display_data",
          "data": {
            "text/plain": "Valid:   0%|          | 0/11 [00:00<?, ?it/s]",
            "application/vnd.jupyter.widget-view+json": {
              "version_major": 2,
              "version_minor": 0,
              "model_id": "4b5654bc053546b8a281e0720878403c"
            }
          },
          "metadata": {}
        },
        {
          "output_type": "stream",
          "name": "stdout",
          "text": [
            "Saving student model with acc 0.865\n[ 002/005 ] [ Valid | loss = 0.94335, acc = 0.86477 ] [ Valid T | loss = 0.80676, acc = 0.86563 ]\nAdjusting learning rate of group 0 to 9.4786e-05.\n"
          ]
        },
        {
          "output_type": "display_data",
          "data": {
            "text/plain": "Train:   0%|          | 0/22 [00:00<?, ?it/s]",
            "application/vnd.jupyter.widget-view+json": {
              "version_major": 2,
              "version_minor": 0,
              "model_id": "904671db98ad48068ea7235fecda6e79"
            }
          },
          "metadata": {}
        },
        {
          "output_type": "display_data",
          "data": {
            "text/plain": "Train:   0%|          | 0/48 [00:00<?, ?it/s]",
            "application/vnd.jupyter.widget-view+json": {
              "version_major": 2,
              "version_minor": 0,
              "model_id": "6502fbf3e05e45d49ca751079337c9a2"
            }
          },
          "metadata": {}
        },
        {
          "output_type": "stream",
          "name": "stdout",
          "text": [
            "[ 003/005 ] [ Train Pseudo | loss = 0.08268, acc = 0.95455 ] [ Train Labeled | loss = 0.14065, acc = 0.94694 ]\n"
          ]
        },
        {
          "output_type": "display_data",
          "data": {
            "text/plain": "Valid:   0%|          | 0/11 [00:00<?, ?it/s]",
            "application/vnd.jupyter.widget-view+json": {
              "version_major": 2,
              "version_minor": 0,
              "model_id": "2d84b33d4ade4db889ba86df7c36f2ad"
            }
          },
          "metadata": {}
        },
        {
          "output_type": "display_data",
          "data": {
            "text/plain": "Valid:   0%|          | 0/11 [00:00<?, ?it/s]",
            "application/vnd.jupyter.widget-view+json": {
              "version_major": 2,
              "version_minor": 0,
              "model_id": "d07dcf9b69a44a88a82107576ebbebf5"
            }
          },
          "metadata": {}
        },
        {
          "output_type": "stream",
          "name": "stdout",
          "text": [
            "[ 003/005 ] [ Valid | loss = 0.96590, acc = 0.85824 ] [ Valid T | loss = 0.80067, acc = 0.86733 ]\nAdjusting learning rate of group 0 to 9.4310e-05.\n"
          ]
        },
        {
          "output_type": "display_data",
          "data": {
            "text/plain": "Train:   0%|          | 0/22 [00:00<?, ?it/s]",
            "application/vnd.jupyter.widget-view+json": {
              "version_major": 2,
              "version_minor": 0,
              "model_id": "7f39045b4e7849a594f5196416e2934f"
            }
          },
          "metadata": {}
        },
        {
          "output_type": "display_data",
          "data": {
            "text/plain": "Train:   0%|          | 0/48 [00:00<?, ?it/s]",
            "application/vnd.jupyter.widget-view+json": {
              "version_major": 2,
              "version_minor": 0,
              "model_id": "23627e40968f41648489b16e66b127a5"
            }
          },
          "metadata": {}
        },
        {
          "output_type": "stream",
          "name": "stdout",
          "text": [
            "[ 004/005 ] [ Train Pseudo | loss = 0.07208, acc = 0.96662 ] [ Train Labeled | loss = 0.13349, acc = 0.94499 ]\n"
          ]
        },
        {
          "output_type": "display_data",
          "data": {
            "text/plain": "Valid:   0%|          | 0/11 [00:00<?, ?it/s]",
            "application/vnd.jupyter.widget-view+json": {
              "version_major": 2,
              "version_minor": 0,
              "model_id": "f196b5501d634c97be7ee093fb87151b"
            }
          },
          "metadata": {}
        },
        {
          "output_type": "display_data",
          "data": {
            "text/plain": "Valid:   0%|          | 0/11 [00:00<?, ?it/s]",
            "application/vnd.jupyter.widget-view+json": {
              "version_major": 2,
              "version_minor": 0,
              "model_id": "f578b62df0f64d05958cd271dcf461b0"
            }
          },
          "metadata": {}
        },
        {
          "output_type": "stream",
          "name": "stdout",
          "text": [
            "[ 004/005 ] [ Valid | loss = 0.96448, acc = 0.84659 ] [ Valid T | loss = 0.80202, acc = 0.85994 ]\nAdjusting learning rate of group 0 to 9.3815e-05.\n"
          ]
        },
        {
          "output_type": "display_data",
          "data": {
            "text/plain": "Train:   0%|          | 0/22 [00:00<?, ?it/s]",
            "application/vnd.jupyter.widget-view+json": {
              "version_major": 2,
              "version_minor": 0,
              "model_id": "691487765f224450a48e65d38d885f18"
            }
          },
          "metadata": {}
        },
        {
          "output_type": "display_data",
          "data": {
            "text/plain": "Train:   0%|          | 0/48 [00:00<?, ?it/s]",
            "application/vnd.jupyter.widget-view+json": {
              "version_major": 2,
              "version_minor": 0,
              "model_id": "711d0ba237cb41eab0e58c039732467b"
            }
          },
          "metadata": {}
        },
        {
          "output_type": "stream",
          "name": "stdout",
          "text": [
            "[ 005/005 ] [ Train Pseudo | loss = 0.08023, acc = 0.95881 ] [ Train Labeled | loss = 0.14630, acc = 0.94727 ]\n"
          ]
        },
        {
          "output_type": "display_data",
          "data": {
            "text/plain": "Valid:   0%|          | 0/11 [00:00<?, ?it/s]",
            "application/vnd.jupyter.widget-view+json": {
              "version_major": 2,
              "version_minor": 0,
              "model_id": "16baea47b0e74f2db9899de71e5f43a6"
            }
          },
          "metadata": {}
        },
        {
          "output_type": "display_data",
          "data": {
            "text/plain": "Valid:   0%|          | 0/11 [00:00<?, ?it/s]",
            "application/vnd.jupyter.widget-view+json": {
              "version_major": 2,
              "version_minor": 0,
              "model_id": "1f1983c07349431fbf918bdd9880019e"
            }
          },
          "metadata": {}
        },
        {
          "output_type": "stream",
          "name": "stdout",
          "text": [
            "[ 005/005 ] [ Valid | loss = 0.95780, acc = 0.85597 ] [ Valid T | loss = 0.82808, acc = 0.85369 ]\nAdjusting learning rate of group 0 to 9.3301e-05.\n========== student_round 06 ==========\n"
          ]
        },
        {
          "output_type": "display_data",
          "data": {
            "text/plain": "Valid:   0%|          | 0/11 [00:00<?, ?it/s]",
            "application/vnd.jupyter.widget-view+json": {
              "version_major": 2,
              "version_minor": 0,
              "model_id": "4ba49dd0ba1349128313dfd7b02e90fe"
            }
          },
          "metadata": {}
        },
        {
          "output_type": "stream",
          "name": "stdout",
          "text": [
            "Confusion:\n01: 0.58, 02: 0.77, 03: 0.66, 04: 0.83, 05: 0.83, 06: 0.80, 07: 0.91, 08: 0.89, 09: 0.84, 10: 0.92, 11: 0.86\n"
          ]
        },
        {
          "output_type": "display_data",
          "data": {
            "text/plain": "PseudoLabels: 0it [00:00, ?it/s]",
            "application/vnd.jupyter.widget-view+json": {
              "version_major": 2,
              "version_minor": 0,
              "model_id": "09afb1b2667d4fa88978e686889c2aaf"
            }
          },
          "metadata": {}
        },
        {
          "output_type": "stream",
          "name": "stdout",
          "text": [
            "Use pseudo label: 1405\nPseudo Labels Distribution:\n01: 12.52, 02: 03.51, 03: 15.19, 04: 20.26, 05: 15.04, 06: 25.36, 07: 00.51, 08: 00.08, 09: 05.39, 10: 00.72, 11: 01.42\n"
          ]
        },
        {
          "output_type": "display_data",
          "data": {
            "text/plain": "PseudoLabels: 0it [00:00, ?it/s]",
            "application/vnd.jupyter.widget-view+json": {
              "version_major": 2,
              "version_minor": 0,
              "model_id": "e37007c462ad4b06935941dbdb921c19"
            }
          },
          "metadata": {}
        },
        {
          "output_type": "stream",
          "name": "stdout",
          "text": [
            "Labeled Weight:\n01: 1.50, 02: 0.94, 03: 0.88, 04: 1.12, 05: 1.21, 06: 1.12, 07: 0.73, 08: 0.76, 09: 0.79, 10: 0.98, 11: 0.98\nPseudo Weight:\n01: 0.64, 02: 1.02, 03: 1.09, 04: 0.85, 05: 0.79, 06: 0.85, 07: 1.31, 08: 1.26, 09: 1.22, 10: 0.98, 11: 0.98\n"
          ]
        },
        {
          "output_type": "display_data",
          "data": {
            "text/plain": "Train:   0%|          | 0/21 [00:00<?, ?it/s]",
            "application/vnd.jupyter.widget-view+json": {
              "version_major": 2,
              "version_minor": 0,
              "model_id": "d5eb89b9a6c5426c93b2f956c004ce34"
            }
          },
          "metadata": {}
        },
        {
          "output_type": "display_data",
          "data": {
            "text/plain": "Train:   0%|          | 0/48 [00:00<?, ?it/s]",
            "application/vnd.jupyter.widget-view+json": {
              "version_major": 2,
              "version_minor": 0,
              "model_id": "bc7ca7e778bd4a6f964c261a50c329bc"
            }
          },
          "metadata": {}
        },
        {
          "output_type": "stream",
          "name": "stdout",
          "text": [
            "[ 001/005 ] [ Train Pseudo | loss = 0.06477, acc = 0.95759 ] [ Train Labeled | loss = 0.13079, acc = 0.94954 ]\n"
          ]
        },
        {
          "output_type": "display_data",
          "data": {
            "text/plain": "Valid:   0%|          | 0/11 [00:00<?, ?it/s]",
            "application/vnd.jupyter.widget-view+json": {
              "version_major": 2,
              "version_minor": 0,
              "model_id": "03a3c23de98b4622bc3ca94c6c67733b"
            }
          },
          "metadata": {}
        },
        {
          "output_type": "display_data",
          "data": {
            "text/plain": "Valid:   0%|          | 0/11 [00:00<?, ?it/s]",
            "application/vnd.jupyter.widget-view+json": {
              "version_major": 2,
              "version_minor": 0,
              "model_id": "075e8660e5834a919f711636729add9b"
            }
          },
          "metadata": {}
        },
        {
          "output_type": "stream",
          "name": "stdout",
          "text": [
            "[ 001/005 ] [ Valid | loss = 0.98826, acc = 0.84261 ] [ Valid T | loss = 0.82603, acc = 0.85369 ]\nAdjusting learning rate of group 0 to 9.2768e-05.\n"
          ]
        },
        {
          "output_type": "display_data",
          "data": {
            "text/plain": "Train:   0%|          | 0/21 [00:00<?, ?it/s]",
            "application/vnd.jupyter.widget-view+json": {
              "version_major": 2,
              "version_minor": 0,
              "model_id": "9276ccdd52634d4d950bb148ba2df052"
            }
          },
          "metadata": {}
        },
        {
          "output_type": "display_data",
          "data": {
            "text/plain": "Train:   0%|          | 0/48 [00:00<?, ?it/s]",
            "application/vnd.jupyter.widget-view+json": {
              "version_major": 2,
              "version_minor": 0,
              "model_id": "2db831a768dc45d19da6248f23b1e38a"
            }
          },
          "metadata": {}
        },
        {
          "output_type": "stream",
          "name": "stdout",
          "text": [
            "[ 002/005 ] [ Train Pseudo | loss = 0.06587, acc = 0.95982 ] [ Train Labeled | loss = 0.12551, acc = 0.94271 ]\n"
          ]
        },
        {
          "output_type": "display_data",
          "data": {
            "text/plain": "Valid:   0%|          | 0/11 [00:00<?, ?it/s]",
            "application/vnd.jupyter.widget-view+json": {
              "version_major": 2,
              "version_minor": 0,
              "model_id": "54ffa1fe3baa4fefa8d67e843733aa08"
            }
          },
          "metadata": {}
        },
        {
          "output_type": "display_data",
          "data": {
            "text/plain": "Valid:   0%|          | 0/11 [00:00<?, ?it/s]",
            "application/vnd.jupyter.widget-view+json": {
              "version_major": 2,
              "version_minor": 0,
              "model_id": "f1d14a43d8e84140a9b3172eca474395"
            }
          },
          "metadata": {}
        },
        {
          "output_type": "stream",
          "name": "stdout",
          "text": [
            "[ 002/005 ] [ Valid | loss = 1.00456, acc = 0.84517 ] [ Valid T | loss = 0.81276, acc = 0.86165 ]\nAdjusting learning rate of group 0 to 9.2216e-05.\n"
          ]
        },
        {
          "output_type": "display_data",
          "data": {
            "text/plain": "Train:   0%|          | 0/21 [00:00<?, ?it/s]",
            "application/vnd.jupyter.widget-view+json": {
              "version_major": 2,
              "version_minor": 0,
              "model_id": "5126b193f4424be2b378c4b3611cd5d0"
            }
          },
          "metadata": {}
        },
        {
          "output_type": "display_data",
          "data": {
            "text/plain": "Train:   0%|          | 0/48 [00:00<?, ?it/s]",
            "application/vnd.jupyter.widget-view+json": {
              "version_major": 2,
              "version_minor": 0,
              "model_id": "98df34e8a7554015b73ffc9e5c328714"
            }
          },
          "metadata": {}
        },
        {
          "output_type": "stream",
          "name": "stdout",
          "text": [
            "[ 003/005 ] [ Train Pseudo | loss = 0.07755, acc = 0.95536 ] [ Train Labeled | loss = 0.12612, acc = 0.94108 ]\n"
          ]
        },
        {
          "output_type": "display_data",
          "data": {
            "text/plain": "Valid:   0%|          | 0/11 [00:00<?, ?it/s]",
            "application/vnd.jupyter.widget-view+json": {
              "version_major": 2,
              "version_minor": 0,
              "model_id": "ea9d86a2511344d8a700305f61a9e90e"
            }
          },
          "metadata": {}
        },
        {
          "output_type": "display_data",
          "data": {
            "text/plain": "Valid:   0%|          | 0/11 [00:00<?, ?it/s]",
            "application/vnd.jupyter.widget-view+json": {
              "version_major": 2,
              "version_minor": 0,
              "model_id": "7752d36d5a3b48c0bf3bb72d8d113c67"
            }
          },
          "metadata": {}
        },
        {
          "output_type": "stream",
          "name": "stdout",
          "text": [
            "[ 003/005 ] [ Valid | loss = 0.96034, acc = 0.85767 ] [ Valid T | loss = 0.81897, acc = 0.85739 ]\nAdjusting learning rate of group 0 to 9.1646e-05.\n"
          ]
        },
        {
          "output_type": "display_data",
          "data": {
            "text/plain": "Train:   0%|          | 0/21 [00:00<?, ?it/s]",
            "application/vnd.jupyter.widget-view+json": {
              "version_major": 2,
              "version_minor": 0,
              "model_id": "deb58fd72a094723879e848d1ea33818"
            }
          },
          "metadata": {}
        },
        {
          "output_type": "display_data",
          "data": {
            "text/plain": "Train:   0%|          | 0/48 [00:00<?, ?it/s]",
            "application/vnd.jupyter.widget-view+json": {
              "version_major": 2,
              "version_minor": 0,
              "model_id": "b31a85b3127546a9a88d402112e76f2b"
            }
          },
          "metadata": {}
        },
        {
          "output_type": "stream",
          "name": "stdout",
          "text": [
            "[ 004/005 ] [ Train Pseudo | loss = 0.05934, acc = 0.96726 ] [ Train Labeled | loss = 0.12768, acc = 0.93848 ]\n"
          ]
        },
        {
          "output_type": "display_data",
          "data": {
            "text/plain": "Valid:   0%|          | 0/11 [00:00<?, ?it/s]",
            "application/vnd.jupyter.widget-view+json": {
              "version_major": 2,
              "version_minor": 0,
              "model_id": "6958b814452440d3955597687011f264"
            }
          },
          "metadata": {}
        },
        {
          "output_type": "display_data",
          "data": {
            "text/plain": "Valid:   0%|          | 0/11 [00:00<?, ?it/s]",
            "application/vnd.jupyter.widget-view+json": {
              "version_major": 2,
              "version_minor": 0,
              "model_id": "90c4967e3ee543c18983d2dbc720834a"
            }
          },
          "metadata": {}
        },
        {
          "output_type": "stream",
          "name": "stdout",
          "text": [
            "[ 004/005 ] [ Valid | loss = 0.99621, acc = 0.85028 ] [ Valid T | loss = 0.83525, acc = 0.84489 ]\nAdjusting learning rate of group 0 to 9.1057e-05.\n"
          ]
        },
        {
          "output_type": "display_data",
          "data": {
            "text/plain": "Train:   0%|          | 0/21 [00:00<?, ?it/s]",
            "application/vnd.jupyter.widget-view+json": {
              "version_major": 2,
              "version_minor": 0,
              "model_id": "873cde81f03c41b68d9b121ef7bd7a27"
            }
          },
          "metadata": {}
        },
        {
          "output_type": "display_data",
          "data": {
            "text/plain": "Train:   0%|          | 0/48 [00:00<?, ?it/s]",
            "application/vnd.jupyter.widget-view+json": {
              "version_major": 2,
              "version_minor": 0,
              "model_id": "fbb87d2c594e4264853dff0c920895c3"
            }
          },
          "metadata": {}
        },
        {
          "output_type": "stream",
          "name": "stdout",
          "text": [
            "[ 005/005 ] [ Train Pseudo | loss = 0.06556, acc = 0.95908 ] [ Train Labeled | loss = 0.11638, acc = 0.94499 ]\n"
          ]
        },
        {
          "output_type": "display_data",
          "data": {
            "text/plain": "Valid:   0%|          | 0/11 [00:00<?, ?it/s]",
            "application/vnd.jupyter.widget-view+json": {
              "version_major": 2,
              "version_minor": 0,
              "model_id": "325117832c524c809d74e5372da5f865"
            }
          },
          "metadata": {}
        },
        {
          "output_type": "display_data",
          "data": {
            "text/plain": "Valid:   0%|          | 0/11 [00:00<?, ?it/s]",
            "application/vnd.jupyter.widget-view+json": {
              "version_major": 2,
              "version_minor": 0,
              "model_id": "420c42457ed64015823319d961ac3edf"
            }
          },
          "metadata": {}
        },
        {
          "output_type": "stream",
          "name": "stdout",
          "text": [
            "[ 005/005 ] [ Valid | loss = 0.96023, acc = 0.85597 ] [ Valid T | loss = 0.82577, acc = 0.85426 ]\nAdjusting learning rate of group 0 to 9.0451e-05.\n========== student_round 07 ==========\n"
          ]
        },
        {
          "output_type": "display_data",
          "data": {
            "text/plain": "Valid:   0%|          | 0/11 [00:00<?, ?it/s]",
            "application/vnd.jupyter.widget-view+json": {
              "version_major": 2,
              "version_minor": 0,
              "model_id": "b0ac16bb7adb40628744d36a1f062119"
            }
          },
          "metadata": {}
        },
        {
          "output_type": "stream",
          "name": "stdout",
          "text": [
            "Confusion:\n01: 0.56, 02: 0.77, 03: 0.67, 04: 0.81, 05: 0.81, 06: 0.81, 07: 0.91, 08: 0.86, 09: 0.83, 10: 0.92, 11: 0.86\n"
          ]
        },
        {
          "output_type": "display_data",
          "data": {
            "text/plain": "PseudoLabels: 0it [00:00, ?it/s]",
            "application/vnd.jupyter.widget-view+json": {
              "version_major": 2,
              "version_minor": 0,
              "model_id": "1aefa5c9742f40a5bf6d1387f4c0c4e2"
            }
          },
          "metadata": {}
        },
        {
          "output_type": "stream",
          "name": "stdout",
          "text": [
            "Use pseudo label: 1214\nPseudo Labels Distribution:\n01: 16.43, 02: 03.07, 03: 12.13, 04: 19.20, 05: 15.07, 06: 27.74, 07: 00.51, 08: 00.08, 09: 03.42, 10: 00.80, 11: 01.55\n"
          ]
        },
        {
          "output_type": "display_data",
          "data": {
            "text/plain": "PseudoLabels: 0it [00:00, ?it/s]",
            "application/vnd.jupyter.widget-view+json": {
              "version_major": 2,
              "version_minor": 0,
              "model_id": "88f5912389414efc8b05ac8aea89eefb"
            }
          },
          "metadata": {}
        },
        {
          "output_type": "stream",
          "name": "stdout",
          "text": [
            "Labeled Weight:\n01: 1.27, 02: 0.74, 03: 1.03, 04: 1.23, 05: 1.32, 06: 0.92, 07: 0.74, 08: 0.77, 09: 1.18, 10: 0.77, 11: 1.03\nPseudo Weight:\n01: 0.75, 02: 1.28, 03: 0.93, 04: 0.78, 05: 0.72, 06: 1.04, 07: 1.28, 08: 1.24, 09: 0.81, 10: 1.24, 11: 0.93\n"
          ]
        },
        {
          "output_type": "display_data",
          "data": {
            "text/plain": "Train:   0%|          | 0/18 [00:00<?, ?it/s]",
            "application/vnd.jupyter.widget-view+json": {
              "version_major": 2,
              "version_minor": 0,
              "model_id": "f37327d5505a4711a50c925a0ef90bcf"
            }
          },
          "metadata": {}
        },
        {
          "output_type": "display_data",
          "data": {
            "text/plain": "Train:   0%|          | 0/48 [00:00<?, ?it/s]",
            "application/vnd.jupyter.widget-view+json": {
              "version_major": 2,
              "version_minor": 0,
              "model_id": "06b3adc971c04abd883a1cae34eeb80d"
            }
          },
          "metadata": {}
        },
        {
          "output_type": "stream",
          "name": "stdout",
          "text": [
            "[ 001/005 ] [ Train Pseudo | loss = 0.06169, acc = 0.96701 ] [ Train Labeled | loss = 0.12584, acc = 0.94889 ]\n"
          ]
        },
        {
          "output_type": "display_data",
          "data": {
            "text/plain": "Valid:   0%|          | 0/11 [00:00<?, ?it/s]",
            "application/vnd.jupyter.widget-view+json": {
              "version_major": 2,
              "version_minor": 0,
              "model_id": "46e36898269a484da74085fedf683b8e"
            }
          },
          "metadata": {}
        },
        {
          "output_type": "display_data",
          "data": {
            "text/plain": "Valid:   0%|          | 0/11 [00:00<?, ?it/s]",
            "application/vnd.jupyter.widget-view+json": {
              "version_major": 2,
              "version_minor": 0,
              "model_id": "44b0ef6035f94990bf2973b3f3084d71"
            }
          },
          "metadata": {}
        },
        {
          "output_type": "stream",
          "name": "stdout",
          "text": [
            "[ 001/005 ] [ Valid | loss = 1.00082, acc = 0.83835 ] [ Valid T | loss = 0.81768, acc = 0.85739 ]\nAdjusting learning rate of group 0 to 8.9826e-05.\n"
          ]
        },
        {
          "output_type": "display_data",
          "data": {
            "text/plain": "Train:   0%|          | 0/18 [00:00<?, ?it/s]",
            "application/vnd.jupyter.widget-view+json": {
              "version_major": 2,
              "version_minor": 0,
              "model_id": "14d0c3035a364eefa1f9abb6181ab8d6"
            }
          },
          "metadata": {}
        },
        {
          "output_type": "display_data",
          "data": {
            "text/plain": "Train:   0%|          | 0/48 [00:00<?, ?it/s]",
            "application/vnd.jupyter.widget-view+json": {
              "version_major": 2,
              "version_minor": 0,
              "model_id": "3e2f896d20c14e008b8a85902f7b3b88"
            }
          },
          "metadata": {}
        },
        {
          "output_type": "stream",
          "name": "stdout",
          "text": [
            "[ 002/005 ] [ Train Pseudo | loss = 0.06374, acc = 0.96094 ] [ Train Labeled | loss = 0.12121, acc = 0.94564 ]\n"
          ]
        },
        {
          "output_type": "display_data",
          "data": {
            "text/plain": "Valid:   0%|          | 0/11 [00:00<?, ?it/s]",
            "application/vnd.jupyter.widget-view+json": {
              "version_major": 2,
              "version_minor": 0,
              "model_id": "f0eb1954523142a7a991f6adf5426336"
            }
          },
          "metadata": {}
        },
        {
          "output_type": "display_data",
          "data": {
            "text/plain": "Valid:   0%|          | 0/11 [00:00<?, ?it/s]",
            "application/vnd.jupyter.widget-view+json": {
              "version_major": 2,
              "version_minor": 0,
              "model_id": "85451480a5574030a61e5fd9f0adcff8"
            }
          },
          "metadata": {}
        },
        {
          "output_type": "stream",
          "name": "stdout",
          "text": [
            "Saving student model with acc 0.868\n[ 002/005 ] [ Valid | loss = 0.96559, acc = 0.86847 ] [ Valid T | loss = 0.81858, acc = 0.85739 ]\nAdjusting learning rate of group 0 to 8.9185e-05.\n"
          ]
        },
        {
          "output_type": "display_data",
          "data": {
            "text/plain": "Train:   0%|          | 0/18 [00:00<?, ?it/s]",
            "application/vnd.jupyter.widget-view+json": {
              "version_major": 2,
              "version_minor": 0,
              "model_id": "4faa286313684d12ae083436f264c80d"
            }
          },
          "metadata": {}
        },
        {
          "output_type": "display_data",
          "data": {
            "text/plain": "Train:   0%|          | 0/48 [00:00<?, ?it/s]",
            "application/vnd.jupyter.widget-view+json": {
              "version_major": 2,
              "version_minor": 0,
              "model_id": "8d6bba9fe3324724925a4acd9674104c"
            }
          },
          "metadata": {}
        },
        {
          "output_type": "stream",
          "name": "stdout",
          "text": [
            "[ 003/005 ] [ Train Pseudo | loss = 0.06428, acc = 0.96354 ] [ Train Labeled | loss = 0.11481, acc = 0.95150 ]\n"
          ]
        },
        {
          "output_type": "display_data",
          "data": {
            "text/plain": "Valid:   0%|          | 0/11 [00:00<?, ?it/s]",
            "application/vnd.jupyter.widget-view+json": {
              "version_major": 2,
              "version_minor": 0,
              "model_id": "548e9f456e0249aaaef56c9d205bbbd0"
            }
          },
          "metadata": {}
        },
        {
          "output_type": "display_data",
          "data": {
            "text/plain": "Valid:   0%|          | 0/11 [00:00<?, ?it/s]",
            "application/vnd.jupyter.widget-view+json": {
              "version_major": 2,
              "version_minor": 0,
              "model_id": "cc5e1bb9c53d4ec0a0e7f0b070558d10"
            }
          },
          "metadata": {}
        },
        {
          "output_type": "stream",
          "name": "stdout",
          "text": [
            "[ 003/005 ] [ Valid | loss = 0.98774, acc = 0.85994 ] [ Valid T | loss = 0.82374, acc = 0.86165 ]\nAdjusting learning rate of group 0 to 8.8526e-05.\n"
          ]
        },
        {
          "output_type": "display_data",
          "data": {
            "text/plain": "Train:   0%|          | 0/18 [00:00<?, ?it/s]",
            "application/vnd.jupyter.widget-view+json": {
              "version_major": 2,
              "version_minor": 0,
              "model_id": "5dc02fb73c7845d5a9db4ef269de3404"
            }
          },
          "metadata": {}
        },
        {
          "output_type": "display_data",
          "data": {
            "text/plain": "Train:   0%|          | 0/48 [00:00<?, ?it/s]",
            "application/vnd.jupyter.widget-view+json": {
              "version_major": 2,
              "version_minor": 0,
              "model_id": "9d9fc2b29d1b4314b4bcdd4f7b796047"
            }
          },
          "metadata": {}
        },
        {
          "output_type": "stream",
          "name": "stdout",
          "text": [
            "[ 004/005 ] [ Train Pseudo | loss = 0.06416, acc = 0.96441 ] [ Train Labeled | loss = 0.11587, acc = 0.95475 ]\n"
          ]
        },
        {
          "output_type": "display_data",
          "data": {
            "text/plain": "Valid:   0%|          | 0/11 [00:00<?, ?it/s]",
            "application/vnd.jupyter.widget-view+json": {
              "version_major": 2,
              "version_minor": 0,
              "model_id": "e7cd8a15c66942c7b32acca8561d86ad"
            }
          },
          "metadata": {}
        },
        {
          "output_type": "display_data",
          "data": {
            "text/plain": "Valid:   0%|          | 0/11 [00:00<?, ?it/s]",
            "application/vnd.jupyter.widget-view+json": {
              "version_major": 2,
              "version_minor": 0,
              "model_id": "eac06799d6184750948db19c47502696"
            }
          },
          "metadata": {}
        },
        {
          "output_type": "stream",
          "name": "stdout",
          "text": [
            "[ 004/005 ] [ Valid | loss = 0.98197, acc = 0.84631 ] [ Valid T | loss = 0.83321, acc = 0.86619 ]\nAdjusting learning rate of group 0 to 8.7850e-05.\n"
          ]
        },
        {
          "output_type": "display_data",
          "data": {
            "text/plain": "Train:   0%|          | 0/18 [00:00<?, ?it/s]",
            "application/vnd.jupyter.widget-view+json": {
              "version_major": 2,
              "version_minor": 0,
              "model_id": "03663e571e2345349e93a6a6e153b94c"
            }
          },
          "metadata": {}
        },
        {
          "output_type": "display_data",
          "data": {
            "text/plain": "Train:   0%|          | 0/48 [00:00<?, ?it/s]",
            "application/vnd.jupyter.widget-view+json": {
              "version_major": 2,
              "version_minor": 0,
              "model_id": "ebbcdcfcf6ce47f08d8598b6ee97e520"
            }
          },
          "metadata": {}
        },
        {
          "output_type": "stream",
          "name": "stdout",
          "text": [
            "[ 005/005 ] [ Train Pseudo | loss = 0.06150, acc = 0.96267 ] [ Train Labeled | loss = 0.11592, acc = 0.95215 ]\n"
          ]
        },
        {
          "output_type": "display_data",
          "data": {
            "text/plain": "Valid:   0%|          | 0/11 [00:00<?, ?it/s]",
            "application/vnd.jupyter.widget-view+json": {
              "version_major": 2,
              "version_minor": 0,
              "model_id": "6125ffe55eb04328929389de820171ea"
            }
          },
          "metadata": {}
        },
        {
          "output_type": "display_data",
          "data": {
            "text/plain": "Valid:   0%|          | 0/11 [00:00<?, ?it/s]",
            "application/vnd.jupyter.widget-view+json": {
              "version_major": 2,
              "version_minor": 0,
              "model_id": "aca727699fed4fb7ba2448a437179b9c"
            }
          },
          "metadata": {}
        },
        {
          "output_type": "stream",
          "name": "stdout",
          "text": [
            "[ 005/005 ] [ Valid | loss = 0.97360, acc = 0.85852 ] [ Valid T | loss = 0.82704, acc = 0.85682 ]\nAdjusting learning rate of group 0 to 8.7157e-05.\n========== student_round 08 ==========\n"
          ]
        },
        {
          "output_type": "display_data",
          "data": {
            "text/plain": "Valid:   0%|          | 0/11 [00:00<?, ?it/s]",
            "application/vnd.jupyter.widget-view+json": {
              "version_major": 2,
              "version_minor": 0,
              "model_id": "09c707e4f29c4ade876812b00db181fd"
            }
          },
          "metadata": {}
        },
        {
          "output_type": "stream",
          "name": "stdout",
          "text": [
            "Confusion:\n01: 0.56, 02: 0.77, 03: 0.69, 04: 0.83, 05: 0.84, 06: 0.81, 07: 0.89, 08: 0.86, 09: 0.84, 10: 0.91, 11: 0.88\n"
          ]
        },
        {
          "output_type": "display_data",
          "data": {
            "text/plain": "PseudoLabels: 0it [00:00, ?it/s]",
            "application/vnd.jupyter.widget-view+json": {
              "version_major": 2,
              "version_minor": 0,
              "model_id": "9c3070d540cc43708b4ab2b9180b3cb1"
            }
          },
          "metadata": {}
        },
        {
          "output_type": "stream",
          "name": "stdout",
          "text": [
            "Use pseudo label: 1040\nPseudo Labels Distribution:\n01: 15.53, 02: 02.26, 03: 15.63, 04: 21.50, 05: 20.02, 06: 17.10, 07: 00.48, 08: 00.07, 09: 04.90, 10: 00.82, 11: 01.69\n"
          ]
        },
        {
          "output_type": "display_data",
          "data": {
            "text/plain": "PseudoLabels: 0it [00:00, ?it/s]",
            "application/vnd.jupyter.widget-view+json": {
              "version_major": 2,
              "version_minor": 0,
              "model_id": "bff9b0a99aaf44bd9003004268591c9f"
            }
          },
          "metadata": {}
        },
        {
          "output_type": "stream",
          "name": "stdout",
          "text": [
            "Labeled Weight:\n01: 1.46, 02: 0.83, 03: 0.86, 04: 1.06, 05: 1.36, 06: 1.18, 07: 0.72, 08: 0.72, 09: 0.80, 10: 0.80, 11: 1.22\nPseudo Weight:\n01: 0.64, 02: 1.14, 03: 1.10, 04: 0.89, 05: 0.69, 06: 0.80, 07: 1.31, 08: 1.31, 09: 1.18, 10: 1.18, 11: 0.77\n"
          ]
        },
        {
          "output_type": "display_data",
          "data": {
            "text/plain": "Train:   0%|          | 0/16 [00:00<?, ?it/s]",
            "application/vnd.jupyter.widget-view+json": {
              "version_major": 2,
              "version_minor": 0,
              "model_id": "4ac7c030007049e1a1673e571df8b7e8"
            }
          },
          "metadata": {}
        },
        {
          "output_type": "display_data",
          "data": {
            "text/plain": "Train:   0%|          | 0/48 [00:00<?, ?it/s]",
            "application/vnd.jupyter.widget-view+json": {
              "version_major": 2,
              "version_minor": 0,
              "model_id": "79ab4387b74f4a8f900ddd6a6c52dd1f"
            }
          },
          "metadata": {}
        },
        {
          "output_type": "stream",
          "name": "stdout",
          "text": [
            "[ 001/005 ] [ Train Pseudo | loss = 0.07293, acc = 0.94434 ] [ Train Labeled | loss = 0.10782, acc = 0.94466 ]\n"
          ]
        },
        {
          "output_type": "display_data",
          "data": {
            "text/plain": "Valid:   0%|          | 0/11 [00:00<?, ?it/s]",
            "application/vnd.jupyter.widget-view+json": {
              "version_major": 2,
              "version_minor": 0,
              "model_id": "08548b131ce54dd9a7a3d89908a159c1"
            }
          },
          "metadata": {}
        },
        {
          "output_type": "display_data",
          "data": {
            "text/plain": "Valid:   0%|          | 0/11 [00:00<?, ?it/s]",
            "application/vnd.jupyter.widget-view+json": {
              "version_major": 2,
              "version_minor": 0,
              "model_id": "a0ad3268532c4cc893d1b26df27a1dd5"
            }
          },
          "metadata": {}
        },
        {
          "output_type": "stream",
          "name": "stdout",
          "text": [
            "[ 001/005 ] [ Valid | loss = 0.99435, acc = 0.84233 ] [ Valid T | loss = 0.82677, acc = 0.86790 ]\nAdjusting learning rate of group 0 to 8.6448e-05.\n"
          ]
        },
        {
          "output_type": "display_data",
          "data": {
            "text/plain": "Train:   0%|          | 0/16 [00:00<?, ?it/s]",
            "application/vnd.jupyter.widget-view+json": {
              "version_major": 2,
              "version_minor": 0,
              "model_id": "d8f7af44a1024388b3a4810496ae6f40"
            }
          },
          "metadata": {}
        },
        {
          "output_type": "display_data",
          "data": {
            "text/plain": "Train:   0%|          | 0/48 [00:00<?, ?it/s]",
            "application/vnd.jupyter.widget-view+json": {
              "version_major": 2,
              "version_minor": 0,
              "model_id": "3546aa48d4134ec78a8dfd4d6fc42a39"
            }
          },
          "metadata": {}
        },
        {
          "output_type": "stream",
          "name": "stdout",
          "text": [
            "[ 002/005 ] [ Train Pseudo | loss = 0.06789, acc = 0.94727 ] [ Train Labeled | loss = 0.09989, acc = 0.94661 ]\n"
          ]
        },
        {
          "output_type": "display_data",
          "data": {
            "text/plain": "Valid:   0%|          | 0/11 [00:00<?, ?it/s]",
            "application/vnd.jupyter.widget-view+json": {
              "version_major": 2,
              "version_minor": 0,
              "model_id": "ed1bed0b4e294873ad3a3c1576f62f08"
            }
          },
          "metadata": {}
        },
        {
          "output_type": "display_data",
          "data": {
            "text/plain": "Valid:   0%|          | 0/11 [00:00<?, ?it/s]",
            "application/vnd.jupyter.widget-view+json": {
              "version_major": 2,
              "version_minor": 0,
              "model_id": "2246866df0f347f68a96bf09c792dd7c"
            }
          },
          "metadata": {}
        },
        {
          "output_type": "stream",
          "name": "stdout",
          "text": [
            "[ 002/005 ] [ Valid | loss = 0.99862, acc = 0.85227 ] [ Valid T | loss = 0.83507, acc = 0.86449 ]\nAdjusting learning rate of group 0 to 8.5724e-05.\n"
          ]
        },
        {
          "output_type": "display_data",
          "data": {
            "text/plain": "Train:   0%|          | 0/16 [00:00<?, ?it/s]",
            "application/vnd.jupyter.widget-view+json": {
              "version_major": 2,
              "version_minor": 0,
              "model_id": "3ec5cda6d5464a18a4d12bbc23cdab99"
            }
          },
          "metadata": {}
        },
        {
          "output_type": "display_data",
          "data": {
            "text/plain": "Train:   0%|          | 0/48 [00:00<?, ?it/s]",
            "application/vnd.jupyter.widget-view+json": {
              "version_major": 2,
              "version_minor": 0,
              "model_id": "c7ac16b7ad82483d979b7247ac30a646"
            }
          },
          "metadata": {}
        },
        {
          "output_type": "stream",
          "name": "stdout",
          "text": [
            "[ 003/005 ] [ Train Pseudo | loss = 0.06096, acc = 0.95117 ] [ Train Labeled | loss = 0.10094, acc = 0.94987 ]\n"
          ]
        },
        {
          "output_type": "display_data",
          "data": {
            "text/plain": "Valid:   0%|          | 0/11 [00:00<?, ?it/s]",
            "application/vnd.jupyter.widget-view+json": {
              "version_major": 2,
              "version_minor": 0,
              "model_id": "bdcd476173c84803a48c4cd1e446b6aa"
            }
          },
          "metadata": {}
        },
        {
          "output_type": "display_data",
          "data": {
            "text/plain": "Valid:   0%|          | 0/11 [00:00<?, ?it/s]",
            "application/vnd.jupyter.widget-view+json": {
              "version_major": 2,
              "version_minor": 0,
              "model_id": "2085fedfe8dc4e359bd13263b36e4c18"
            }
          },
          "metadata": {}
        },
        {
          "output_type": "stream",
          "name": "stdout",
          "text": [
            "[ 003/005 ] [ Valid | loss = 1.00167, acc = 0.85426 ] [ Valid T | loss = 0.83669, acc = 0.87187 ]\nAdjusting learning rate of group 0 to 8.4983e-05.\n"
          ]
        },
        {
          "output_type": "display_data",
          "data": {
            "text/plain": "Train:   0%|          | 0/16 [00:00<?, ?it/s]",
            "application/vnd.jupyter.widget-view+json": {
              "version_major": 2,
              "version_minor": 0,
              "model_id": "ecf5b8843c3840759b8e99c480384c46"
            }
          },
          "metadata": {}
        },
        {
          "output_type": "display_data",
          "data": {
            "text/plain": "Train:   0%|          | 0/48 [00:00<?, ?it/s]",
            "application/vnd.jupyter.widget-view+json": {
              "version_major": 2,
              "version_minor": 0,
              "model_id": "30c14798ea834fa1a9db1ad35bb05919"
            }
          },
          "metadata": {}
        },
        {
          "output_type": "stream",
          "name": "stdout",
          "text": [
            "[ 004/005 ] [ Train Pseudo | loss = 0.06308, acc = 0.95312 ] [ Train Labeled | loss = 0.09957, acc = 0.94824 ]\n"
          ]
        },
        {
          "output_type": "display_data",
          "data": {
            "text/plain": "Valid:   0%|          | 0/11 [00:00<?, ?it/s]",
            "application/vnd.jupyter.widget-view+json": {
              "version_major": 2,
              "version_minor": 0,
              "model_id": "1c8f9d7a1dc34beda6d071bd114f791d"
            }
          },
          "metadata": {}
        },
        {
          "output_type": "display_data",
          "data": {
            "text/plain": "Valid:   0%|          | 0/11 [00:00<?, ?it/s]",
            "application/vnd.jupyter.widget-view+json": {
              "version_major": 2,
              "version_minor": 0,
              "model_id": "5e21e7eca7104c78a9acd4a3df808908"
            }
          },
          "metadata": {}
        },
        {
          "output_type": "stream",
          "name": "stdout",
          "text": [
            "[ 004/005 ] [ Valid | loss = 1.02257, acc = 0.84830 ] [ Valid T | loss = 0.86413, acc = 0.85795 ]\nAdjusting learning rate of group 0 to 8.4227e-05.\n"
          ]
        },
        {
          "output_type": "display_data",
          "data": {
            "text/plain": "Train:   0%|          | 0/16 [00:00<?, ?it/s]",
            "application/vnd.jupyter.widget-view+json": {
              "version_major": 2,
              "version_minor": 0,
              "model_id": "4209aac1eaba4bc8bbf077337c55ca5b"
            }
          },
          "metadata": {}
        },
        {
          "output_type": "display_data",
          "data": {
            "text/plain": "Train:   0%|          | 0/48 [00:00<?, ?it/s]",
            "application/vnd.jupyter.widget-view+json": {
              "version_major": 2,
              "version_minor": 0,
              "model_id": "3619c9ab3b7445d6ab68d0ee2e483ed1"
            }
          },
          "metadata": {}
        },
        {
          "output_type": "stream",
          "name": "stdout",
          "text": [
            "[ 005/005 ] [ Train Pseudo | loss = 0.06232, acc = 0.95898 ] [ Train Labeled | loss = 0.10599, acc = 0.94727 ]\n"
          ]
        },
        {
          "output_type": "display_data",
          "data": {
            "text/plain": "Valid:   0%|          | 0/11 [00:00<?, ?it/s]",
            "application/vnd.jupyter.widget-view+json": {
              "version_major": 2,
              "version_minor": 0,
              "model_id": "ee1af73a21764a9a9efc1fabf35702d1"
            }
          },
          "metadata": {}
        },
        {
          "output_type": "display_data",
          "data": {
            "text/plain": "Valid:   0%|          | 0/11 [00:00<?, ?it/s]",
            "application/vnd.jupyter.widget-view+json": {
              "version_major": 2,
              "version_minor": 0,
              "model_id": "e6f3df1b34bf48919a9bbb30081c4f05"
            }
          },
          "metadata": {}
        },
        {
          "output_type": "stream",
          "name": "stdout",
          "text": [
            "[ 005/005 ] [ Valid | loss = 0.98743, acc = 0.85597 ] [ Valid T | loss = 0.84794, acc = 0.87045 ]\nAdjusting learning rate of group 0 to 8.3457e-05.\n========== student_round 09 ==========\n"
          ]
        },
        {
          "output_type": "display_data",
          "data": {
            "text/plain": "Valid:   0%|          | 0/11 [00:00<?, ?it/s]",
            "application/vnd.jupyter.widget-view+json": {
              "version_major": 2,
              "version_minor": 0,
              "model_id": "c3dbab96caa64d0782cc5ac7eec16aa4"
            }
          },
          "metadata": {}
        },
        {
          "output_type": "stream",
          "name": "stdout",
          "text": [
            "Confusion:\n01: 0.61, 02: 0.77, 03: 0.67, 04: 0.80, 05: 0.86, 06: 0.81, 07: 0.91, 08: 0.88, 09: 0.84, 10: 0.91, 11: 0.88\n"
          ]
        },
        {
          "output_type": "display_data",
          "data": {
            "text/plain": "PseudoLabels: 0it [00:00, ?it/s]",
            "application/vnd.jupyter.widget-view+json": {
              "version_major": 2,
              "version_minor": 0,
              "model_id": "8885c994c97a460db0f09b5574c5210d"
            }
          },
          "metadata": {}
        },
        {
          "output_type": "stream",
          "name": "stdout",
          "text": [
            "Use pseudo label: 767\nPseudo Labels Distribution:\n01: 23.07, 02: 01.98, 03: 05.58, 04: 16.23, 05: 25.96, 06: 20.11, 07: 00.45, 08: 00.08, 09: 03.72, 10: 00.72, 11: 02.09\n"
          ]
        },
        {
          "output_type": "display_data",
          "data": {
            "text/plain": "PseudoLabels: 0it [00:00, ?it/s]",
            "application/vnd.jupyter.widget-view+json": {
              "version_major": 2,
              "version_minor": 0,
              "model_id": "88706e81e41347b68629e54391234f56"
            }
          },
          "metadata": {}
        },
        {
          "output_type": "stream",
          "name": "stdout",
          "text": [
            "Labeled Weight:\n01: 1.13, 02: 0.79, 03: 1.05, 04: 1.45, 05: 1.13, 06: 1.05, 07: 0.79, 08: 0.91, 09: 1.01, 10: 0.82, 11: 0.88\nPseudo Weight:\n01: 0.86, 02: 1.23, 03: 0.92, 04: 0.67, 05: 0.86, 06: 0.92, 07: 1.23, 08: 1.06, 09: 0.96, 10: 1.19, 11: 1.10\n"
          ]
        },
        {
          "output_type": "display_data",
          "data": {
            "text/plain": "Train:   0%|          | 0/11 [00:00<?, ?it/s]",
            "application/vnd.jupyter.widget-view+json": {
              "version_major": 2,
              "version_minor": 0,
              "model_id": "a79b7191ac454bc1a77c117b3aa35f62"
            }
          },
          "metadata": {}
        },
        {
          "output_type": "display_data",
          "data": {
            "text/plain": "Train:   0%|          | 0/48 [00:00<?, ?it/s]",
            "application/vnd.jupyter.widget-view+json": {
              "version_major": 2,
              "version_minor": 0,
              "model_id": "35f6f20998fd476ba53452fa7a229f87"
            }
          },
          "metadata": {}
        },
        {
          "output_type": "stream",
          "name": "stdout",
          "text": [
            "[ 001/005 ] [ Train Pseudo | loss = 0.10925, acc = 0.91761 ] [ Train Labeled | loss = 0.12697, acc = 0.94694 ]\n"
          ]
        },
        {
          "output_type": "display_data",
          "data": {
            "text/plain": "Valid:   0%|          | 0/11 [00:00<?, ?it/s]",
            "application/vnd.jupyter.widget-view+json": {
              "version_major": 2,
              "version_minor": 0,
              "model_id": "d65dd62504e7484d9b8d65d7c9db3e9d"
            }
          },
          "metadata": {}
        },
        {
          "output_type": "display_data",
          "data": {
            "text/plain": "Valid:   0%|          | 0/11 [00:00<?, ?it/s]",
            "application/vnd.jupyter.widget-view+json": {
              "version_major": 2,
              "version_minor": 0,
              "model_id": "901840b6c9554faabfc1af2aa017e3c7"
            }
          },
          "metadata": {}
        },
        {
          "output_type": "stream",
          "name": "stdout",
          "text": [
            "[ 001/005 ] [ Valid | loss = 0.98826, acc = 0.86023 ] [ Valid T | loss = 0.85020, acc = 0.86591 ]\nAdjusting learning rate of group 0 to 8.2671e-05.\n"
          ]
        },
        {
          "output_type": "display_data",
          "data": {
            "text/plain": "Train:   0%|          | 0/11 [00:00<?, ?it/s]",
            "application/vnd.jupyter.widget-view+json": {
              "version_major": 2,
              "version_minor": 0,
              "model_id": "b3c3bf938ef0425a95cb6d8e7336319b"
            }
          },
          "metadata": {}
        },
        {
          "output_type": "display_data",
          "data": {
            "text/plain": "Train:   0%|          | 0/48 [00:00<?, ?it/s]",
            "application/vnd.jupyter.widget-view+json": {
              "version_major": 2,
              "version_minor": 0,
              "model_id": "d8333fb122c746689bcc70a89afc5ce1"
            }
          },
          "metadata": {}
        },
        {
          "output_type": "stream",
          "name": "stdout",
          "text": [
            "[ 002/005 ] [ Train Pseudo | loss = 0.10717, acc = 0.91477 ] [ Train Labeled | loss = 0.11627, acc = 0.95052 ]\n"
          ]
        },
        {
          "output_type": "display_data",
          "data": {
            "text/plain": "Valid:   0%|          | 0/11 [00:00<?, ?it/s]",
            "application/vnd.jupyter.widget-view+json": {
              "version_major": 2,
              "version_minor": 0,
              "model_id": "72a394da942342f0accf49be87c7306e"
            }
          },
          "metadata": {}
        },
        {
          "output_type": "display_data",
          "data": {
            "text/plain": "Valid:   0%|          | 0/11 [00:00<?, ?it/s]",
            "application/vnd.jupyter.widget-view+json": {
              "version_major": 2,
              "version_minor": 0,
              "model_id": "076f2aa7cd7d462c997b7dbddfe64070"
            }
          },
          "metadata": {}
        },
        {
          "output_type": "stream",
          "name": "stdout",
          "text": [
            "[ 002/005 ] [ Valid | loss = 1.00270, acc = 0.85085 ] [ Valid T | loss = 0.86026, acc = 0.86903 ]\nAdjusting learning rate of group 0 to 8.1871e-05.\n"
          ]
        },
        {
          "output_type": "display_data",
          "data": {
            "text/plain": "Train:   0%|          | 0/11 [00:00<?, ?it/s]",
            "application/vnd.jupyter.widget-view+json": {
              "version_major": 2,
              "version_minor": 0,
              "model_id": "75b4338cc0c44a1f9c10ea908ac0fa23"
            }
          },
          "metadata": {}
        },
        {
          "output_type": "display_data",
          "data": {
            "text/plain": "Train:   0%|          | 0/48 [00:00<?, ?it/s]",
            "application/vnd.jupyter.widget-view+json": {
              "version_major": 2,
              "version_minor": 0,
              "model_id": "1b4c527762bb4d2689ee00de7178a7cb"
            }
          },
          "metadata": {}
        },
        {
          "output_type": "stream",
          "name": "stdout",
          "text": [
            "[ 003/005 ] [ Train Pseudo | loss = 0.09814, acc = 0.93892 ] [ Train Labeled | loss = 0.11413, acc = 0.95150 ]\n"
          ]
        },
        {
          "output_type": "display_data",
          "data": {
            "text/plain": "Valid:   0%|          | 0/11 [00:00<?, ?it/s]",
            "application/vnd.jupyter.widget-view+json": {
              "version_major": 2,
              "version_minor": 0,
              "model_id": "1f9637dfff9f4f41bf47e901e7a9d2a6"
            }
          },
          "metadata": {}
        },
        {
          "output_type": "display_data",
          "data": {
            "text/plain": "Valid:   0%|          | 0/11 [00:00<?, ?it/s]",
            "application/vnd.jupyter.widget-view+json": {
              "version_major": 2,
              "version_minor": 0,
              "model_id": "3346a62703a946f4999d2be3ed8f8481"
            }
          },
          "metadata": {}
        },
        {
          "output_type": "stream",
          "name": "stdout",
          "text": [
            "[ 003/005 ] [ Valid | loss = 0.98279, acc = 0.85312 ] [ Valid T | loss = 0.85629, acc = 0.87045 ]\nAdjusting learning rate of group 0 to 8.1057e-05.\n"
          ]
        },
        {
          "output_type": "display_data",
          "data": {
            "text/plain": "Train:   0%|          | 0/11 [00:00<?, ?it/s]",
            "application/vnd.jupyter.widget-view+json": {
              "version_major": 2,
              "version_minor": 0,
              "model_id": "1d02db6c604544969b315210739ed2c8"
            }
          },
          "metadata": {}
        },
        {
          "output_type": "display_data",
          "data": {
            "text/plain": "Train:   0%|          | 0/48 [00:00<?, ?it/s]",
            "application/vnd.jupyter.widget-view+json": {
              "version_major": 2,
              "version_minor": 0,
              "model_id": "3f702c1ff52746ef9a323d2dbac5a60a"
            }
          },
          "metadata": {}
        },
        {
          "output_type": "stream",
          "name": "stdout",
          "text": [
            "[ 004/005 ] [ Train Pseudo | loss = 0.11556, acc = 0.91335 ] [ Train Labeled | loss = 0.11126, acc = 0.95215 ]\n"
          ]
        },
        {
          "output_type": "display_data",
          "data": {
            "text/plain": "Valid:   0%|          | 0/11 [00:00<?, ?it/s]",
            "application/vnd.jupyter.widget-view+json": {
              "version_major": 2,
              "version_minor": 0,
              "model_id": "a2000fb721814142a73e9725202970e0"
            }
          },
          "metadata": {}
        },
        {
          "output_type": "display_data",
          "data": {
            "text/plain": "Valid:   0%|          | 0/11 [00:00<?, ?it/s]",
            "application/vnd.jupyter.widget-view+json": {
              "version_major": 2,
              "version_minor": 0,
              "model_id": "3bae24b35ff34ed89e54cfcfb2475758"
            }
          },
          "metadata": {}
        },
        {
          "output_type": "stream",
          "name": "stdout",
          "text": [
            "[ 004/005 ] [ Valid | loss = 0.99191, acc = 0.85739 ] [ Valid T | loss = 0.88923, acc = 0.85767 ]\nAdjusting learning rate of group 0 to 8.0230e-05.\n"
          ]
        },
        {
          "output_type": "display_data",
          "data": {
            "text/plain": "Train:   0%|          | 0/11 [00:00<?, ?it/s]",
            "application/vnd.jupyter.widget-view+json": {
              "version_major": 2,
              "version_minor": 0,
              "model_id": "4428f81480f54c8daa762f01e4ebf491"
            }
          },
          "metadata": {}
        },
        {
          "output_type": "display_data",
          "data": {
            "text/plain": "Train:   0%|          | 0/48 [00:00<?, ?it/s]",
            "application/vnd.jupyter.widget-view+json": {
              "version_major": 2,
              "version_minor": 0,
              "model_id": "9d6fd93529164f5ba8a49eefcdef6e86"
            }
          },
          "metadata": {}
        },
        {
          "output_type": "stream",
          "name": "stdout",
          "text": [
            "[ 005/005 ] [ Train Pseudo | loss = 0.10087, acc = 0.92472 ] [ Train Labeled | loss = 0.10850, acc = 0.95736 ]\n"
          ]
        },
        {
          "output_type": "display_data",
          "data": {
            "text/plain": "Valid:   0%|          | 0/11 [00:00<?, ?it/s]",
            "application/vnd.jupyter.widget-view+json": {
              "version_major": 2,
              "version_minor": 0,
              "model_id": "33e8a35d45fd4ead8dec916b1c3d5f86"
            }
          },
          "metadata": {}
        },
        {
          "output_type": "display_data",
          "data": {
            "text/plain": "Valid:   0%|          | 0/11 [00:00<?, ?it/s]",
            "application/vnd.jupyter.widget-view+json": {
              "version_major": 2,
              "version_minor": 0,
              "model_id": "3c2b96a4c9ad4b358cf1c8847ee3e497"
            }
          },
          "metadata": {}
        },
        {
          "output_type": "stream",
          "name": "stdout",
          "text": [
            "[ 005/005 ] [ Valid | loss = 0.99392, acc = 0.85767 ] [ Valid T | loss = 0.88125, acc = 0.86563 ]\nAdjusting learning rate of group 0 to 7.9389e-05.\n========== student_round 10 ==========\n"
          ]
        },
        {
          "output_type": "display_data",
          "data": {
            "text/plain": "Valid:   0%|          | 0/11 [00:00<?, ?it/s]",
            "application/vnd.jupyter.widget-view+json": {
              "version_major": 2,
              "version_minor": 0,
              "model_id": "22b3568918234a5393cf8607fb9f7b8e"
            }
          },
          "metadata": {}
        },
        {
          "output_type": "stream",
          "name": "stdout",
          "text": [
            "Confusion:\n01: 0.59, 02: 0.75, 03: 0.69, 04: 0.84, 05: 0.84, 06: 0.81, 07: 0.91, 08: 0.88, 09: 0.84, 10: 0.91, 11: 0.88\n"
          ]
        },
        {
          "output_type": "display_data",
          "data": {
            "text/plain": "PseudoLabels: 0it [00:00, ?it/s]",
            "application/vnd.jupyter.widget-view+json": {
              "version_major": 2,
              "version_minor": 0,
              "model_id": "a2ed7d2f69fe4400acafb89570a5ebe8"
            }
          },
          "metadata": {}
        },
        {
          "output_type": "stream",
          "name": "stdout",
          "text": [
            "Use pseudo label: 441\nPseudo Labels Distribution:\n01: 15.37, 02: 01.99, 03: 06.92, 04: 36.61, 05: 18.82, 06: 13.13, 07: 00.50, 08: 00.08, 09: 03.88, 10: 00.82, 11: 01.88\n"
          ]
        },
        {
          "output_type": "display_data",
          "data": {
            "text/plain": "PseudoLabels: 0it [00:00, ?it/s]",
            "application/vnd.jupyter.widget-view+json": {
              "version_major": 2,
              "version_minor": 0,
              "model_id": "6c567ba00b2c4195a2e0a1b28d12f8bf"
            }
          },
          "metadata": {}
        },
        {
          "output_type": "stream",
          "name": "stdout",
          "text": [
            "Labeled Weight:\n01: 1.23, 02: 0.80, 03: 1.10, 04: 1.42, 05: 1.47, 06: 1.10, 07: 0.74, 08: 0.65, 09: 0.83, 10: 0.86, 11: 0.80\nPseudo Weight:\n01: 0.76, 02: 1.17, 03: 0.85, 04: 0.66, 05: 0.64, 06: 0.85, 07: 1.25, 08: 1.45, 09: 1.13, 10: 1.09, 11: 1.17\n"
          ]
        },
        {
          "output_type": "display_data",
          "data": {
            "text/plain": "Train:   0%|          | 0/6 [00:00<?, ?it/s]",
            "application/vnd.jupyter.widget-view+json": {
              "version_major": 2,
              "version_minor": 0,
              "model_id": "2228fe140e594c8ba8e7bba3eb505786"
            }
          },
          "metadata": {}
        },
        {
          "output_type": "display_data",
          "data": {
            "text/plain": "Train:   0%|          | 0/48 [00:00<?, ?it/s]",
            "application/vnd.jupyter.widget-view+json": {
              "version_major": 2,
              "version_minor": 0,
              "model_id": "56008ec12c69457ab5e25c091ad6cd98"
            }
          },
          "metadata": {}
        },
        {
          "output_type": "stream",
          "name": "stdout",
          "text": [
            "[ 001/005 ] [ Train Pseudo | loss = 0.12261, acc = 0.86719 ] [ Train Labeled | loss = 0.09527, acc = 0.95150 ]\n"
          ]
        },
        {
          "output_type": "display_data",
          "data": {
            "text/plain": "Valid:   0%|          | 0/11 [00:00<?, ?it/s]",
            "application/vnd.jupyter.widget-view+json": {
              "version_major": 2,
              "version_minor": 0,
              "model_id": "a480160c0399429493c8f9ef1ffa5305"
            }
          },
          "metadata": {}
        },
        {
          "output_type": "display_data",
          "data": {
            "text/plain": "Valid:   0%|          | 0/11 [00:00<?, ?it/s]",
            "application/vnd.jupyter.widget-view+json": {
              "version_major": 2,
              "version_minor": 0,
              "model_id": "1f0f9b4d3c374d66829b2e8e29857a3a"
            }
          },
          "metadata": {}
        },
        {
          "output_type": "stream",
          "name": "stdout",
          "text": [
            "[ 001/005 ] [ Valid | loss = 1.02060, acc = 0.86364 ] [ Valid T | loss = 0.88694, acc = 0.86733 ]\nAdjusting learning rate of group 0 to 7.8536e-05.\n"
          ]
        },
        {
          "output_type": "display_data",
          "data": {
            "text/plain": "Train:   0%|          | 0/6 [00:00<?, ?it/s]",
            "application/vnd.jupyter.widget-view+json": {
              "version_major": 2,
              "version_minor": 0,
              "model_id": "76c73093d42e4149b2dcf6158026247f"
            }
          },
          "metadata": {}
        },
        {
          "output_type": "display_data",
          "data": {
            "text/plain": "Train:   0%|          | 0/48 [00:00<?, ?it/s]",
            "application/vnd.jupyter.widget-view+json": {
              "version_major": 2,
              "version_minor": 0,
              "model_id": "65e50cf3218e466eb86b8f41613dc732"
            }
          },
          "metadata": {}
        },
        {
          "output_type": "stream",
          "name": "stdout",
          "text": [
            "[ 002/005 ] [ Train Pseudo | loss = 0.10729, acc = 0.89062 ] [ Train Labeled | loss = 0.08834, acc = 0.94987 ]\n"
          ]
        },
        {
          "output_type": "display_data",
          "data": {
            "text/plain": "Valid:   0%|          | 0/11 [00:00<?, ?it/s]",
            "application/vnd.jupyter.widget-view+json": {
              "version_major": 2,
              "version_minor": 0,
              "model_id": "b74eb3ec8dc94532a71f223cd5ea464d"
            }
          },
          "metadata": {}
        },
        {
          "output_type": "display_data",
          "data": {
            "text/plain": "Valid:   0%|          | 0/11 [00:00<?, ?it/s]",
            "application/vnd.jupyter.widget-view+json": {
              "version_major": 2,
              "version_minor": 0,
              "model_id": "144da30c1eb44bd8baa19f2f1095bfd6"
            }
          },
          "metadata": {}
        },
        {
          "output_type": "stream",
          "name": "stdout",
          "text": [
            "[ 002/005 ] [ Valid | loss = 1.01511, acc = 0.86761 ] [ Valid T | loss = 0.90404, acc = 0.85824 ]\nAdjusting learning rate of group 0 to 7.7670e-05.\n"
          ]
        },
        {
          "output_type": "display_data",
          "data": {
            "text/plain": "Train:   0%|          | 0/6 [00:00<?, ?it/s]",
            "application/vnd.jupyter.widget-view+json": {
              "version_major": 2,
              "version_minor": 0,
              "model_id": "7e599b2912b64266839292896f024ff8"
            }
          },
          "metadata": {}
        },
        {
          "output_type": "display_data",
          "data": {
            "text/plain": "Train:   0%|          | 0/48 [00:00<?, ?it/s]",
            "application/vnd.jupyter.widget-view+json": {
              "version_major": 2,
              "version_minor": 0,
              "model_id": "c7bfd0863ff14e59b2ce01004ead03a2"
            }
          },
          "metadata": {}
        },
        {
          "output_type": "stream",
          "name": "stdout",
          "text": [
            "[ 003/005 ] [ Train Pseudo | loss = 0.10844, acc = 0.86979 ] [ Train Labeled | loss = 0.08568, acc = 0.94759 ]\n"
          ]
        },
        {
          "output_type": "display_data",
          "data": {
            "text/plain": "Valid:   0%|          | 0/11 [00:00<?, ?it/s]",
            "application/vnd.jupyter.widget-view+json": {
              "version_major": 2,
              "version_minor": 0,
              "model_id": "168d074e942b4e599ce856bd94818a34"
            }
          },
          "metadata": {}
        },
        {
          "output_type": "display_data",
          "data": {
            "text/plain": "Valid:   0%|          | 0/11 [00:00<?, ?it/s]",
            "application/vnd.jupyter.widget-view+json": {
              "version_major": 2,
              "version_minor": 0,
              "model_id": "c80dbcb0e83b408aa73ecc9ab4becacb"
            }
          },
          "metadata": {}
        },
        {
          "output_type": "stream",
          "name": "stdout",
          "text": [
            "Saving student model with acc 0.872\n[ 003/005 ] [ Valid | loss = 1.01574, acc = 0.87216 ] [ Valid T | loss = 0.91863, acc = 0.85994 ]\nAdjusting learning rate of group 0 to 7.6791e-05.\n"
          ]
        },
        {
          "output_type": "display_data",
          "data": {
            "text/plain": "Train:   0%|          | 0/6 [00:00<?, ?it/s]",
            "application/vnd.jupyter.widget-view+json": {
              "version_major": 2,
              "version_minor": 0,
              "model_id": "e245333bcab14cd58348a17bf0a3beeb"
            }
          },
          "metadata": {}
        },
        {
          "output_type": "display_data",
          "data": {
            "text/plain": "Train:   0%|          | 0/48 [00:00<?, ?it/s]",
            "application/vnd.jupyter.widget-view+json": {
              "version_major": 2,
              "version_minor": 0,
              "model_id": "483fcffa7c1842f88c0b37ef33029996"
            }
          },
          "metadata": {}
        },
        {
          "output_type": "stream",
          "name": "stdout",
          "text": [
            "[ 004/005 ] [ Train Pseudo | loss = 0.09778, acc = 0.89844 ] [ Train Labeled | loss = 0.08581, acc = 0.95605 ]\n"
          ]
        },
        {
          "output_type": "display_data",
          "data": {
            "text/plain": "Valid:   0%|          | 0/11 [00:00<?, ?it/s]",
            "application/vnd.jupyter.widget-view+json": {
              "version_major": 2,
              "version_minor": 0,
              "model_id": "de9e706ec4c440e9a1836e5a366b9b37"
            }
          },
          "metadata": {}
        },
        {
          "output_type": "display_data",
          "data": {
            "text/plain": "Valid:   0%|          | 0/11 [00:00<?, ?it/s]",
            "application/vnd.jupyter.widget-view+json": {
              "version_major": 2,
              "version_minor": 0,
              "model_id": "f14aa4f040a44aceb039f1796bd54540"
            }
          },
          "metadata": {}
        },
        {
          "output_type": "stream",
          "name": "stdout",
          "text": [
            "[ 004/005 ] [ Valid | loss = 1.05904, acc = 0.86108 ] [ Valid T | loss = 0.91316, acc = 0.86591 ]\nAdjusting learning rate of group 0 to 7.5901e-05.\n"
          ]
        },
        {
          "output_type": "display_data",
          "data": {
            "text/plain": "Train:   0%|          | 0/6 [00:00<?, ?it/s]",
            "application/vnd.jupyter.widget-view+json": {
              "version_major": 2,
              "version_minor": 0,
              "model_id": "6ea0aaea52994ccd8120267b68fcaa83"
            }
          },
          "metadata": {}
        },
        {
          "output_type": "display_data",
          "data": {
            "text/plain": "Train:   0%|          | 0/48 [00:00<?, ?it/s]",
            "application/vnd.jupyter.widget-view+json": {
              "version_major": 2,
              "version_minor": 0,
              "model_id": "cf3558a983354082a281c420b1fd50e9"
            }
          },
          "metadata": {}
        },
        {
          "output_type": "stream",
          "name": "stdout",
          "text": [
            "[ 005/005 ] [ Train Pseudo | loss = 0.09270, acc = 0.89062 ] [ Train Labeled | loss = 0.08577, acc = 0.95215 ]\n"
          ]
        },
        {
          "output_type": "display_data",
          "data": {
            "text/plain": "Valid:   0%|          | 0/11 [00:00<?, ?it/s]",
            "application/vnd.jupyter.widget-view+json": {
              "version_major": 2,
              "version_minor": 0,
              "model_id": "b4dbcf988b3540bf8953e6939e660454"
            }
          },
          "metadata": {}
        },
        {
          "output_type": "display_data",
          "data": {
            "text/plain": "Valid:   0%|          | 0/11 [00:00<?, ?it/s]",
            "application/vnd.jupyter.widget-view+json": {
              "version_major": 2,
              "version_minor": 0,
              "model_id": "33d5abd8ee9b49afaf656d8d262969da"
            }
          },
          "metadata": {}
        },
        {
          "output_type": "stream",
          "name": "stdout",
          "text": [
            "[ 005/005 ] [ Valid | loss = 1.03672, acc = 0.85398 ] [ Valid T | loss = 0.91856, acc = 0.87017 ]\nAdjusting learning rate of group 0 to 7.5000e-05.\n========== student_round 11 ==========\n"
          ]
        },
        {
          "output_type": "display_data",
          "data": {
            "text/plain": "Valid:   0%|          | 0/11 [00:00<?, ?it/s]",
            "application/vnd.jupyter.widget-view+json": {
              "version_major": 2,
              "version_minor": 0,
              "model_id": "0f1368d99f2b4d2cb5752cf533845c93"
            }
          },
          "metadata": {}
        },
        {
          "output_type": "stream",
          "name": "stdout",
          "text": [
            "Confusion:\n01: 0.62, 02: 0.77, 03: 0.67, 04: 0.84, 05: 0.84, 06: 0.81, 07: 0.91, 08: 0.88, 09: 0.83, 10: 0.91, 11: 0.88\n"
          ]
        },
        {
          "output_type": "display_data",
          "data": {
            "text/plain": "PseudoLabels: 0it [00:00, ?it/s]",
            "application/vnd.jupyter.widget-view+json": {
              "version_major": 2,
              "version_minor": 0,
              "model_id": "0988fbcb1e234a4688eaa3b8acef087f"
            }
          },
          "metadata": {}
        },
        {
          "output_type": "stream",
          "name": "stdout",
          "text": [
            "Use pseudo label: 146\nPseudo Labels Distribution:\n01: 08.03, 02: 01.93, 03: 05.80, 04: 42.24, 05: 31.13, 06: 04.16, 07: 00.52, 08: 00.07, 09: 03.51, 10: 00.84, 11: 01.78\n"
          ]
        },
        {
          "output_type": "display_data",
          "data": {
            "text/plain": "PseudoLabels: 0it [00:00, ?it/s]",
            "application/vnd.jupyter.widget-view+json": {
              "version_major": 2,
              "version_minor": 0,
              "model_id": "8ec355d3110f496db1372f1bf4120cba"
            }
          },
          "metadata": {}
        },
        {
          "output_type": "stream",
          "name": "stdout",
          "text": [
            "Labeled Weight:\n01: 1.28, 02: 0.89, 03: 0.86, 04: 1.23, 05: 1.11, 06: 1.19, 07: 0.80, 08: 0.86, 09: 1.03, 10: 0.92, 11: 0.83\nPseudo Weight:\n01: 0.76, 02: 1.09, 03: 1.13, 04: 0.79, 05: 0.88, 06: 0.82, 07: 1.22, 08: 1.13, 09: 0.95, 10: 1.05, 11: 1.17\n"
          ]
        },
        {
          "output_type": "display_data",
          "data": {
            "text/plain": "Train:   0%|          | 0/2 [00:00<?, ?it/s]",
            "application/vnd.jupyter.widget-view+json": {
              "version_major": 2,
              "version_minor": 0,
              "model_id": "677297123dcd45bbb2f9199cbcb8cf0b"
            }
          },
          "metadata": {}
        },
        {
          "output_type": "display_data",
          "data": {
            "text/plain": "Train:   0%|          | 0/48 [00:00<?, ?it/s]",
            "application/vnd.jupyter.widget-view+json": {
              "version_major": 2,
              "version_minor": 0,
              "model_id": "d918492627234f04adf9a67f8982ce01"
            }
          },
          "metadata": {}
        },
        {
          "output_type": "stream",
          "name": "stdout",
          "text": [
            "[ 001/005 ] [ Train Pseudo | loss = 0.37181, acc = 0.61719 ] [ Train Labeled | loss = 0.10563, acc = 0.95671 ]\n"
          ]
        },
        {
          "output_type": "display_data",
          "data": {
            "text/plain": "Valid:   0%|          | 0/11 [00:00<?, ?it/s]",
            "application/vnd.jupyter.widget-view+json": {
              "version_major": 2,
              "version_minor": 0,
              "model_id": "9262faa2fd6741139fd31ea13a7aa244"
            }
          },
          "metadata": {}
        },
        {
          "output_type": "display_data",
          "data": {
            "text/plain": "Valid:   0%|          | 0/11 [00:00<?, ?it/s]",
            "application/vnd.jupyter.widget-view+json": {
              "version_major": 2,
              "version_minor": 0,
              "model_id": "2194d0d19925410e9e9d04e2b751a020"
            }
          },
          "metadata": {}
        },
        {
          "output_type": "stream",
          "name": "stdout",
          "text": [
            "Saving teacher model with acc 0.874\n",
            "[ 001/005 ] [ Valid | loss = 1.04800, acc = 0.85540 ] [ Valid T | loss = 0.93499, acc = 0.87443 ]\n",
            "Adjusting learning rate of group 0 to 7.4088e-05.\n"
          ]
        },
        {
          "output_type": "display_data",
          "data": {
            "text/plain": "Train:   0%|          | 0/2 [00:00<?, ?it/s]",
            "application/vnd.jupyter.widget-view+json": {
              "version_major": 2,
              "version_minor": 0,
              "model_id": "b88be3d9639245c4951bdad75eaa6400"
            }
          },
          "metadata": {}
        },
        {
          "output_type": "display_data",
          "data": {
            "text/plain": "Train:   0%|          | 0/48 [00:00<?, ?it/s]",
            "application/vnd.jupyter.widget-view+json": {
              "version_major": 2,
              "version_minor": 0,
              "model_id": "0d63ddac97714fe1b827605c934c1d95"
            }
          },
          "metadata": {}
        },
        {
          "output_type": "stream",
          "name": "stdout",
          "text": [
            "[ 002/005 ] [ Train Pseudo | loss = 0.37120, acc = 0.67188 ] [ Train Labeled | loss = 0.09921, acc = 0.95345 ]\n"
          ]
        },
        {
          "output_type": "display_data",
          "data": {
            "text/plain": "Valid:   0%|          | 0/11 [00:00<?, ?it/s]",
            "application/vnd.jupyter.widget-view+json": {
              "version_major": 2,
              "version_minor": 0,
              "model_id": "2b26fb91b7144a85bc7a530c5e84bd3c"
            }
          },
          "metadata": {}
        },
        {
          "output_type": "display_data",
          "data": {
            "text/plain": "Valid:   0%|          | 0/11 [00:00<?, ?it/s]",
            "application/vnd.jupyter.widget-view+json": {
              "version_major": 2,
              "version_minor": 0,
              "model_id": "77de06d048fc419c89a18427a68f0194"
            }
          },
          "metadata": {}
        },
        {
          "output_type": "stream",
          "name": "stdout",
          "text": [
            "[ 002/005 ] [ Valid | loss = 1.04223, acc = 0.86165 ] [ Valid T | loss = 0.96098, acc = 0.87301 ]\nAdjusting learning rate of group 0 to 7.3165e-05.\n"
          ]
        },
        {
          "output_type": "display_data",
          "data": {
            "text/plain": "Train:   0%|          | 0/2 [00:00<?, ?it/s]",
            "application/vnd.jupyter.widget-view+json": {
              "version_major": 2,
              "version_minor": 0,
              "model_id": "57b786aa23274a75a622d99519fec33a"
            }
          },
          "metadata": {}
        },
        {
          "output_type": "display_data",
          "data": {
            "text/plain": "Train:   0%|          | 0/48 [00:00<?, ?it/s]",
            "application/vnd.jupyter.widget-view+json": {
              "version_major": 2,
              "version_minor": 0,
              "model_id": "55ac6b45865d4b028d6b19737f44bcd1"
            }
          },
          "metadata": {}
        },
        {
          "output_type": "stream",
          "name": "stdout",
          "text": [
            "[ 003/005 ] [ Train Pseudo | loss = 0.32577, acc = 0.66406 ] [ Train Labeled | loss = 0.10368, acc = 0.95540 ]\n"
          ]
        },
        {
          "output_type": "display_data",
          "data": {
            "text/plain": "Valid:   0%|          | 0/11 [00:00<?, ?it/s]",
            "application/vnd.jupyter.widget-view+json": {
              "version_major": 2,
              "version_minor": 0,
              "model_id": "23327112862c4bfaaeeacd1fbd3efb03"
            }
          },
          "metadata": {}
        },
        {
          "output_type": "display_data",
          "data": {
            "text/plain": "Valid:   0%|          | 0/11 [00:00<?, ?it/s]",
            "application/vnd.jupyter.widget-view+json": {
              "version_major": 2,
              "version_minor": 0,
              "model_id": "3b6862c0122148e9851a8c1bf40e1ead"
            }
          },
          "metadata": {}
        },
        {
          "output_type": "stream",
          "name": "stdout",
          "text": [
            "[ 003/005 ] [ Valid | loss = 1.04872, acc = 0.85256 ] [ Valid T | loss = 0.97416, acc = 0.86080 ]\nAdjusting learning rate of group 0 to 7.2232e-05.\n"
          ]
        },
        {
          "output_type": "display_data",
          "data": {
            "text/plain": "Train:   0%|          | 0/2 [00:00<?, ?it/s]",
            "application/vnd.jupyter.widget-view+json": {
              "version_major": 2,
              "version_minor": 0,
              "model_id": "2e62f413363a4774bf220fabde1332c1"
            }
          },
          "metadata": {}
        },
        {
          "output_type": "display_data",
          "data": {
            "text/plain": "Train:   0%|          | 0/48 [00:00<?, ?it/s]",
            "application/vnd.jupyter.widget-view+json": {
              "version_major": 2,
              "version_minor": 0,
              "model_id": "86a97e0a42d54f3199d2b12236f57053"
            }
          },
          "metadata": {}
        },
        {
          "output_type": "stream",
          "name": "stdout",
          "text": [
            "[ 004/005 ] [ Train Pseudo | loss = 0.33755, acc = 0.66406 ] [ Train Labeled | loss = 0.10070, acc = 0.95475 ]\n"
          ]
        },
        {
          "output_type": "display_data",
          "data": {
            "text/plain": "Valid:   0%|          | 0/11 [00:00<?, ?it/s]",
            "application/vnd.jupyter.widget-view+json": {
              "version_major": 2,
              "version_minor": 0,
              "model_id": "a6879d1eaf1b4d82bedd5ff257152195"
            }
          },
          "metadata": {}
        },
        {
          "output_type": "display_data",
          "data": {
            "text/plain": "Valid:   0%|          | 0/11 [00:00<?, ?it/s]",
            "application/vnd.jupyter.widget-view+json": {
              "version_major": 2,
              "version_minor": 0,
              "model_id": "ae1403e015d3441bb1b26667a6a28ac3"
            }
          },
          "metadata": {}
        },
        {
          "output_type": "stream",
          "name": "stdout",
          "text": [
            "[ 004/005 ] [ Valid | loss = 1.05187, acc = 0.85824 ] [ Valid T | loss = 0.96745, acc = 0.87187 ]\nAdjusting learning rate of group 0 to 7.1289e-05.\n"
          ]
        },
        {
          "output_type": "display_data",
          "data": {
            "text/plain": "Train:   0%|          | 0/2 [00:00<?, ?it/s]",
            "application/vnd.jupyter.widget-view+json": {
              "version_major": 2,
              "version_minor": 0,
              "model_id": "f534c1ddfbbb47c396eaf646eb81dc7f"
            }
          },
          "metadata": {}
        },
        {
          "output_type": "display_data",
          "data": {
            "text/plain": "Train:   0%|          | 0/48 [00:00<?, ?it/s]",
            "application/vnd.jupyter.widget-view+json": {
              "version_major": 2,
              "version_minor": 0,
              "model_id": "404afc8b0e524be88db393b94050ddd8"
            }
          },
          "metadata": {}
        },
        {
          "output_type": "stream",
          "name": "stdout",
          "text": [
            "[ 005/005 ] [ Train Pseudo | loss = 0.30946, acc = 0.66406 ] [ Train Labeled | loss = 0.10508, acc = 0.95605 ]\n"
          ]
        },
        {
          "output_type": "display_data",
          "data": {
            "text/plain": "Valid:   0%|          | 0/11 [00:00<?, ?it/s]",
            "application/vnd.jupyter.widget-view+json": {
              "version_major": 2,
              "version_minor": 0,
              "model_id": "f5f28b72048a403487b64773dad94b4f"
            }
          },
          "metadata": {}
        },
        {
          "output_type": "display_data",
          "data": {
            "text/plain": "Valid:   0%|          | 0/11 [00:00<?, ?it/s]",
            "application/vnd.jupyter.widget-view+json": {
              "version_major": 2,
              "version_minor": 0,
              "model_id": "3a2c7ad651d54c37be0bfdb6ad6ad150"
            }
          },
          "metadata": {}
        },
        {
          "output_type": "stream",
          "name": "stdout",
          "text": [
            "[ 005/005 ] [ Valid | loss = 1.03218, acc = 0.86307 ] [ Valid T | loss = 0.98280, acc = 0.86108 ]\nAdjusting learning rate of group 0 to 7.0337e-05.\n========== student_round 12 ==========\n"
          ]
        },
        {
          "output_type": "display_data",
          "data": {
            "text/plain": "Valid:   0%|          | 0/11 [00:00<?, ?it/s]",
            "application/vnd.jupyter.widget-view+json": {
              "version_major": 2,
              "version_minor": 0,
              "model_id": "b994e3e24c12415aa3ccfe970e9e7355"
            }
          },
          "metadata": {}
        },
        {
          "output_type": "stream",
          "name": "stdout",
          "text": [
            "Confusion:\n01: 0.64, 02: 0.75, 03: 0.66, 04: 0.86, 05: 0.83, 06: 0.81, 07: 0.91, 08: 0.86, 09: 0.83, 10: 0.91, 11: 0.88\n"
          ]
        },
        {
          "output_type": "display_data",
          "data": {
            "text/plain": "PseudoLabels: 0it [00:00, ?it/s]",
            "application/vnd.jupyter.widget-view+json": {
              "version_major": 2,
              "version_minor": 0,
              "model_id": "df3f6ab8c6dc4b3f91c75a430e2fea59"
            }
          },
          "metadata": {}
        },
        {
          "output_type": "error",
          "ename": "RuntimeError",
          "evalue": "There were no tensor arguments to this function (e.g., you passed an empty list of Tensors), but no fallback function is registered for schema aten::_cat.  This usually means that this function requires a non-empty list of Tensors.  Available functions are [CPU, CUDA, QuantizedCPU, BackendSelect, Named, AutogradOther, AutogradCPU, AutogradCUDA, AutogradXLA, AutogradNestedTensor, UNKNOWN_TENSOR_TYPE_ID, AutogradPrivateUse1, AutogradPrivateUse2, AutogradPrivateUse3, Tracer, Autocast, Batched, VmapMode].\n\nCPU: registered at /pytorch/build/aten/src/ATen/RegisterCPU.cpp:5925 [kernel]\nCUDA: registered at /pytorch/build/aten/src/ATen/RegisterCUDA.cpp:7100 [kernel]\nQuantizedCPU: registered at /pytorch/build/aten/src/ATen/RegisterQuantizedCPU.cpp:641 [kernel]\nBackendSelect: fallthrough registered at /pytorch/aten/src/ATen/core/BackendSelectFallbackKernel.cpp:3 [backend fallback]\nNamed: registered at /pytorch/aten/src/ATen/core/NamedRegistrations.cpp:7 [backend fallback]\nAutogradOther: registered at /pytorch/torch/csrc/autograd/generated/VariableType_2.cpp:9122 [autograd kernel]\nAutogradCPU: registered at /pytorch/torch/csrc/autograd/generated/VariableType_2.cpp:9122 [autograd kernel]\nAutogradCUDA: registered at /pytorch/torch/csrc/autograd/generated/VariableType_2.cpp:9122 [autograd kernel]\nAutogradXLA: registered at /pytorch/torch/csrc/autograd/generated/VariableType_2.cpp:9122 [autograd kernel]\nAutogradNestedTensor: registered at /pytorch/torch/csrc/autograd/generated/VariableType_2.cpp:9122 [autograd kernel]\nUNKNOWN_TENSOR_TYPE_ID: registered at /pytorch/torch/csrc/autograd/generated/VariableType_2.cpp:9122 [autograd kernel]\nAutogradPrivateUse1: registered at /pytorch/torch/csrc/autograd/generated/VariableType_2.cpp:9122 [autograd kernel]\nAutogradPrivateUse2: registered at /pytorch/torch/csrc/autograd/generated/VariableType_2.cpp:9122 [autograd kernel]\nAutogradPrivateUse3: registered at /pytorch/torch/csrc/autograd/generated/VariableType_2.cpp:9122 [autograd kernel]\nTracer: registered at /pytorch/torch/csrc/autograd/generated/TraceType_2.cpp:10525 [kernel]\nAutocast: registered at /pytorch/aten/src/ATen/autocast_mode.cpp:254 [kernel]\nBatched: registered at /pytorch/aten/src/ATen/BatchingRegistrations.cpp:1016 [backend fallback]\nVmapMode: fallthrough registered at /pytorch/aten/src/ATen/VmapModeRegistrations.cpp:33 [backend fallback]\n",
          "traceback": [
            "\u001b[0;31m---------------------------------------------------------------------------\u001b[0m",
            "\u001b[0;31mRuntimeError\u001b[0m                              Traceback (most recent call last)",
            "\u001b[0;32m<ipython-input-18-0c6dfcf00840>\u001b[0m in \u001b[0;36m<module>\u001b[0;34m\u001b[0m\n\u001b[1;32m     79\u001b[0m     \u001b[0;31m# model_t.load_state_dict(torch.load(model_path.format(name_t)))\u001b[0m\u001b[0;34m\u001b[0m\u001b[0;34m\u001b[0m\u001b[0;34m\u001b[0m\u001b[0m\n\u001b[1;32m     80\u001b[0m     \u001b[0;31m# pseudo_loader, count = get_semi_set(model_t, threshold=.7, tempreture=1.5)\u001b[0m\u001b[0;34m\u001b[0m\u001b[0;34m\u001b[0m\u001b[0;34m\u001b[0m\u001b[0m\n\u001b[0;32m---> 81\u001b[0;31m     labeled_loader, pseudo_loader, confusion_tr = get_semi_set(\n\u001b[0m\u001b[1;32m     82\u001b[0m         model_t, threshold=.7, tempreture_l=1.5, tempreture_p=.7, labeld_alpha=0.25)\n\u001b[1;32m     83\u001b[0m     \u001b[0;31m# count += 280\u001b[0m\u001b[0;34m\u001b[0m\u001b[0;34m\u001b[0m\u001b[0;34m\u001b[0m\u001b[0m\n",
            "\u001b[0;32m<ipython-input-14-02af217194f4>\u001b[0m in \u001b[0;36mget_semi_set\u001b[0;34m(model, threshold, tempreture_l, tempreture_p, labeld_alpha)\u001b[0m\n\u001b[1;32m     61\u001b[0m     \u001b[0mtrain_set\u001b[0m\u001b[0;34m.\u001b[0m\u001b[0mtransform\u001b[0m \u001b[0;34m=\u001b[0m \u001b[0mtfm_weak\u001b[0m\u001b[0;34m\u001b[0m\u001b[0;34m\u001b[0m\u001b[0m\n\u001b[1;32m     62\u001b[0m \u001b[0;34m\u001b[0m\u001b[0m\n\u001b[0;32m---> 63\u001b[0;31m     pseudo_set, count = get_pseudo_labels(\n\u001b[0m\u001b[1;32m     64\u001b[0m         model, unlab_loader, threshold=threshold, tempreture=tempreture_p)\n\u001b[1;32m     65\u001b[0m     \u001b[0mlog\u001b[0m\u001b[0;34m.\u001b[0m\u001b[0mwrite\u001b[0m\u001b[0;34m(\u001b[0m\u001b[0;34mf\"Use pseudo label: {len(pseudo_set)}\"\u001b[0m\u001b[0;34m)\u001b[0m\u001b[0;34m\u001b[0m\u001b[0;34m\u001b[0m\u001b[0m\n",
            "\u001b[0;32m<ipython-input-14-02af217194f4>\u001b[0m in \u001b[0;36mget_pseudo_labels\u001b[0;34m(model, dataloader, threshold, tempreture, is_labeled, labeld_alpha)\u001b[0m\n\u001b[1;32m     49\u001b[0m \u001b[0;34m\u001b[0m\u001b[0m\n\u001b[1;32m     50\u001b[0m     \u001b[0;31m# custom subset\u001b[0m\u001b[0;34m\u001b[0m\u001b[0;34m\u001b[0m\u001b[0;34m\u001b[0m\u001b[0m\n\u001b[0;32m---> 51\u001b[0;31m     \u001b[0mtargets\u001b[0m \u001b[0;34m=\u001b[0m \u001b[0mtorch\u001b[0m\u001b[0;34m.\u001b[0m\u001b[0mcat\u001b[0m\u001b[0;34m(\u001b[0m\u001b[0mtargets\u001b[0m\u001b[0;34m,\u001b[0m \u001b[0mdim\u001b[0m\u001b[0;34m=\u001b[0m\u001b[0;36m0\u001b[0m\u001b[0;34m)\u001b[0m\u001b[0;34m\u001b[0m\u001b[0;34m\u001b[0m\u001b[0m\n\u001b[0m\u001b[1;32m     52\u001b[0m     \u001b[0;32mif\u001b[0m \u001b[0mis_labeled\u001b[0m\u001b[0;34m:\u001b[0m\u001b[0;34m\u001b[0m\u001b[0;34m\u001b[0m\u001b[0m\n\u001b[1;32m     53\u001b[0m         \u001b[0mnew\u001b[0m \u001b[0;34m=\u001b[0m \u001b[0mSubsetCustomLabel\u001b[0m\u001b[0;34m(\u001b[0m\u001b[0mdataloader\u001b[0m\u001b[0;34m.\u001b[0m\u001b[0mdataset\u001b[0m\u001b[0;34m,\u001b[0m \u001b[0mtargets\u001b[0m\u001b[0;34m,\u001b[0m \u001b[0mtorch\u001b[0m\u001b[0;34m.\u001b[0m\u001b[0marange\u001b[0m\u001b[0;34m(\u001b[0m\u001b[0mlen\u001b[0m\u001b[0;34m(\u001b[0m\u001b[0mtargets\u001b[0m\u001b[0;34m)\u001b[0m\u001b[0;34m)\u001b[0m\u001b[0;34m.\u001b[0m\u001b[0mtolist\u001b[0m\u001b[0;34m(\u001b[0m\u001b[0;34m)\u001b[0m\u001b[0;34m)\u001b[0m\u001b[0;34m\u001b[0m\u001b[0;34m\u001b[0m\u001b[0m\n",
            "\u001b[0;31mRuntimeError\u001b[0m: There were no tensor arguments to this function (e.g., you passed an empty list of Tensors), but no fallback function is registered for schema aten::_cat.  This usually means that this function requires a non-empty list of Tensors.  Available functions are [CPU, CUDA, QuantizedCPU, BackendSelect, Named, AutogradOther, AutogradCPU, AutogradCUDA, AutogradXLA, AutogradNestedTensor, UNKNOWN_TENSOR_TYPE_ID, AutogradPrivateUse1, AutogradPrivateUse2, AutogradPrivateUse3, Tracer, Autocast, Batched, VmapMode].\n\nCPU: registered at /pytorch/build/aten/src/ATen/RegisterCPU.cpp:5925 [kernel]\nCUDA: registered at /pytorch/build/aten/src/ATen/RegisterCUDA.cpp:7100 [kernel]\nQuantizedCPU: registered at /pytorch/build/aten/src/ATen/RegisterQuantizedCPU.cpp:641 [kernel]\nBackendSelect: fallthrough registered at /pytorch/aten/src/ATen/core/BackendSelectFallbackKernel.cpp:3 [backend fallback]\nNamed: registered at /pytorch/aten/src/ATen/core/NamedRegistrations.cpp:7 [backend fallback]\nAutogradOther: registered at /pytorch/torch/csrc/autograd/generated/VariableType_2.cpp:9122 [autograd kernel]\nAutogradCPU: registered at /pytorch/torch/csrc/autograd/generated/VariableType_2.cpp:9122 [autograd kernel]\nAutogradCUDA: registered at /pytorch/torch/csrc/autograd/generated/VariableType_2.cpp:9122 [autograd kernel]\nAutogradXLA: registered at /pytorch/torch/csrc/autograd/generated/VariableType_2.cpp:9122 [autograd kernel]\nAutogradNestedTensor: registered at /pytorch/torch/csrc/autograd/generated/VariableType_2.cpp:9122 [autograd kernel]\nUNKNOWN_TENSOR_TYPE_ID: registered at /pytorch/torch/csrc/autograd/generated/VariableType_2.cpp:9122 [autograd kernel]\nAutogradPrivateUse1: registered at /pytorch/torch/csrc/autograd/generated/VariableType_2.cpp:9122 [autograd kernel]\nAutogradPrivateUse2: registered at /pytorch/torch/csrc/autograd/generated/VariableType_2.cpp:9122 [autograd kernel]\nAutogradPrivateUse3: registered at /pytorch/torch/csrc/autograd/generated/VariableType_2.cpp:9122 [autograd kernel]\nTracer: registered at /pytorch/torch/csrc/autograd/generated/TraceType_2.cpp:10525 [kernel]\nAutocast: registered at /pytorch/aten/src/ATen/autocast_mode.cpp:254 [kernel]\nBatched: registered at /pytorch/aten/src/ATen/BatchingRegistrations.cpp:1016 [backend fallback]\nVmapMode: fallthrough registered at /pytorch/aten/src/ATen/VmapModeRegistrations.cpp:33 [backend fallback]\n"
          ]
        }
      ]
    },
    {
      "cell_type": "code",
      "execution_count": null,
      "metadata": {},
      "outputs": [],
      "source": [
        "torch.save(model_t.state_dict(), model_path.format(name_t+\"_final\"))"
      ]
    },
    {
      "source": [
        "1. calculate weight based on confusion of valid\n",
        "    - remove logit of fake labels?\n",
        "    - argmax or confidence?\n",
        "2. different weight on label and pseudo label depend on confidence\n",
        "    - High confidence: less on labeled, more on pseudo label"
      ],
      "cell_type": "markdown",
      "metadata": {}
    },
    {
      "cell_type": "code",
      "execution_count": 19,
      "metadata": {},
      "outputs": [],
      "source": [
        "torch.cuda.empty_cache()"
      ]
    },
    {
      "cell_type": "markdown",
      "metadata": {
        "id": "2o1oCMXy61_3"
      },
      "source": [
        "## **Testing**\n",
        "\n",
        "For inference, we need to make sure the model is in eval mode, and the order of the dataset should not be shuffled (\"shuffle=False\" in test_loader).\n",
        "\n",
        "Last but not least, don't forget to save the predictions into a single CSV file.\n",
        "The format of CSV file should follow the rules mentioned in the slides.\n",
        "\n",
        "### **WARNING -- Keep in Mind**\n",
        "\n",
        "Cheating includes but not limited to:\n",
        "1.   using testing labels,\n",
        "2.   submitting results to previous Kaggle competitions,\n",
        "3.   sharing predictions with others,\n",
        "4.   copying codes from any creatures on Earth,\n",
        "5.   asking other people to do it for you.\n",
        "\n",
        "Any violations bring you punishments from getting a discount on the final grade to failing the course.\n",
        "\n",
        "It is your responsibility to check whether your code violates the rules.\n",
        "When citing codes from the Internet, you should know what these codes exactly do.\n",
        "You will **NOT** be tolerated if you break the rule and claim you don't know what these codes do.\n"
      ]
    },
    {
      "cell_type": "code",
      "metadata": {
        "id": "4HznI9_-ocrq"
      },
      "source": [
        "# device = \"cuda\" if torch.cuda.is_available() else \"cpu\"\n",
        "model = Classifier(*model_).to(device)\n",
        "model_path = f'./model_{name_t}.ckpt'\n",
        "model.load_state_dict(torch.load(model_path))\n",
        "model.eval()\n",
        "\n",
        "# Initialize a list to store the predictions.\n",
        "predictions = []\n",
        "\n",
        "# Iterate the testing set by batches.\n",
        "for batch in tqdm(rd_test_loader):\n",
        "    imgs = rd_test_set.merge_batch(batch)\n",
        "\n",
        "    with torch.no_grad():\n",
        "        logits = model(imgs.to(device))\n",
        "    \n",
        "    # Take the class with greatest logit as prediction and record it.\n",
        "    predictions.extend(rd_test_set.merge_predict(logits))"
      ],
      "execution_count": 18,
      "outputs": [
        {
          "output_type": "display_data",
          "data": {
            "text/plain": "  0%|          | 0/210 [00:00<?, ?it/s]",
            "application/vnd.jupyter.widget-view+json": {
              "version_major": 2,
              "version_minor": 0,
              "model_id": "c7f5dc96969949c4b0ebb1778d9e5584"
            }
          },
          "metadata": {}
        }
      ]
    },
    {
      "cell_type": "code",
      "metadata": {
        "id": "3t2q2Th85ZUE"
      },
      "source": [
        "# Save predictions into the file.\n",
        "with open(\"predict.csv\", \"w\") as f:\n",
        "\n",
        "    # The first row must be \"Id, Category\"\n",
        "    f.write(\"Id,Category\\n\")\n",
        "\n",
        "    # For the rest of the rows, each image id corresponds to a predicted class.\n",
        "    for i, pred in  enumerate(predictions):\n",
        "         f.write(f\"{i},{pred}\\n\")"
      ],
      "execution_count": 19,
      "outputs": []
    },
    {
      "cell_type": "code",
      "execution_count": 20,
      "metadata": {},
      "outputs": [],
      "source": [
        "torch.cuda.empty_cache()"
      ]
    }
  ]
}