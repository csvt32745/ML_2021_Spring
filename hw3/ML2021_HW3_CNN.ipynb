{
  "nbformat": 4,
  "nbformat_minor": 0,
  "metadata": {
    "accelerator": "GPU",
    "colab": {
      "name": "HW3-CNN.ipynb",
      "provenance": [],
      "collapsed_sections": [],
      "toc_visible": true
    },
    "kernelspec": {
      "display_name": "Python 3",
      "name": "python3",
      "language": "python"
    }
  },
  "cells": [
    {
      "cell_type": "markdown",
      "metadata": {
        "id": "D_a2USyd4giE"
      },
      "source": [
        "# **Homework 3 - Convolutional Neural Network**\n",
        "\n",
        "This is the example code of homework 3 of the machine learning course by Prof. Hung-yi Lee.\n",
        "\n",
        "In this homework, you are required to build a convolutional neural network for image classification, possibly with some advanced training tips.\n",
        "\n",
        "\n",
        "There are three levels here:\n",
        "\n",
        "**Easy**: Build a simple convolutional neural network as the baseline. (2 pts)\n",
        "\n",
        "**Medium**: Design a better architecture or adopt different data augmentations to improve the performance. (2 pts)\n",
        "\n",
        "**Hard**: Utilize provided unlabeled data to obtain better results. (2 pts)"
      ]
    },
    {
      "cell_type": "markdown",
      "metadata": {
        "id": "VHpJocsDr6iA"
      },
      "source": [
        "## **About the Dataset**\n",
        "\n",
        "The dataset used here is food-11, a collection of food images in 11 classes.\n",
        "\n",
        "For the requirement in the homework, TAs slightly modified the data.\n",
        "Please DO NOT access the original fully-labeled training data or testing labels.\n",
        "\n",
        "Also, the modified dataset is for this course only, and any further distribution or commercial use is forbidden."
      ]
    },
    {
      "cell_type": "code",
      "execution_count": 1,
      "metadata": {},
      "outputs": [],
      "source": [
        "import os\n",
        "\n",
        "os.environ['CUDA_VISIBLE_DEVICES'] = '0'"
      ]
    },
    {
      "cell_type": "code",
      "metadata": {
        "id": "zhzdomRTOKoJ"
      },
      "source": [
        "# Download the dataset\n",
        "# You may choose where to download the data.\n",
        "\n",
        "# Google Drive\n",
        "# !gdown --id '1awF7pZ9Dz7X1jn1_QAiKN-_v56veCEKy' --output food-11.zip\n",
        "\n",
        "# Dropbox\n",
        "# !wget https://www.dropbox.com/s/m9q6273jl3djall/food-11.zip -O food-11.zip\n",
        "\n",
        "# Unzip the dataset.\n",
        "# This may take some time.\n",
        "# !unzip -q food-11.zip"
      ],
      "execution_count": 2,
      "outputs": []
    },
    {
      "cell_type": "markdown",
      "metadata": {
        "id": "BBVSCWWhp6uq"
      },
      "source": [
        "## **Import Packages**\n",
        "\n",
        "First, we need to import packages that will be used later.\n",
        "\n",
        "In this homework, we highly rely on **torchvision**, a library of PyTorch."
      ]
    },
    {
      "cell_type": "code",
      "metadata": {
        "id": "9sVrKci4PUFW"
      },
      "source": [
        "# Import necessary packages.\n",
        "import numpy as np\n",
        "import torch\n",
        "import torch.nn as nn\n",
        "import torchvision\n",
        "import torchvision.transforms as transforms\n",
        "from PIL import Image\n",
        "# \"ConcatDataset\" and \"Subset\" are possibly useful when doing semi-supervised learning.\n",
        "from torch.utils.data import ConcatDataset, DataLoader, Subset\n",
        "from torchvision.datasets import DatasetFolder\n",
        "\n",
        "# This is for the progress bar.\n",
        "from tqdm.notebook import tqdm"
      ],
      "execution_count": 3,
      "outputs": []
    },
    {
      "cell_type": "markdown",
      "metadata": {
        "id": "F0i9ZCPrOVN_"
      },
      "source": [
        "## **Dataset, Data Loader, and Transforms**\n",
        "\n",
        "Torchvision provides lots of useful utilities for image preprocessing, data wrapping as well as data augmentation.\n",
        "\n",
        "Here, since our data are stored in folders by class labels, we can directly apply **torchvision.datasets.DatasetFolder** for wrapping data without much effort.\n",
        "\n",
        "Please refer to [PyTorch official website](https://pytorch.org/vision/stable/transforms.html) for details about different transforms."
      ]
    },
    {
      "cell_type": "code",
      "metadata": {
        "id": "gKd2abixQghI"
      },
      "source": [
        "# It is important to do data augmentation in training.\n",
        "# However, not every augmentation is useful.\n",
        "# Please think about what kind of augmentation is helpful for food recognition.\n",
        "train_tfm = transforms.Compose([\n",
        "    # Resize the image into a fixed shape (height = width = 128)\n",
        "    # transforms.Resize(256),\n",
        "    transforms.RandomRotation(180),\n",
        "    transforms.RandomResizedCrop(224),\n",
        "    # transforms.RandomCrop(224),\n",
        "    # transforms.CenterCrop(224),\n",
        "    # transforms.ColorJitter(brightness=0.3, contrast=0.3, saturation=.2, hue=0.08),\n",
        "    transforms.RandomHorizontalFlip(p=0.5),\n",
        "    transforms.RandomApply(\n",
        "                [transforms.ColorJitter(brightness=0.4, contrast=0.4,saturation=0.2, hue=0.1)],\n",
        "                p=0.8\n",
        "    ),\n",
        "    transforms.RandomGrayscale(p=0.2),\n",
        "    transforms.GaussianBlur(kernel_size=9, sigma=(0.1, 2.0)),\n",
        "    transforms.ToTensor(),\n",
        "    transforms.RandomErasing(p=0.5, scale=(0.05, 0.2), ratio=(0.5, 1.5), value=0, inplace=False),\n",
        "    transforms.Normalize(mean=[0.485, 0.456, 0.406], std=[0.229, 0.224, 0.225]),\n",
        "])\n",
        "\n",
        "# We don't need augmentations in testing and validation.\n",
        "# All we need here is to resize the PIL image and transform it into Tensor.\n",
        "test_tfm = transforms.Compose([\n",
        "    transforms.Resize(256),\n",
        "    transforms.CenterCrop(224),\n",
        "    transforms.ToTensor(),\n",
        "    transforms.Normalize(mean=[0.485, 0.456, 0.406], std=[0.229, 0.224, 0.225]),\n",
        "])\n"
      ],
      "execution_count": 4,
      "outputs": []
    },
    {
      "cell_type": "code",
      "execution_count": 5,
      "metadata": {},
      "outputs": [],
      "source": [
        "class RandomTransformDataset:\n",
        "    def __init__(self, dataset, transform, random_time):\n",
        "        self.dataset = dataset\n",
        "        self.transform = transform\n",
        "        self.random_time = random_time\n",
        "    \n",
        "    def __len__(self):\n",
        "        return len(self.dataset)\n",
        "\n",
        "    def __getitem__(self, idx):\n",
        "        jpg, ans = self.dataset[idx]\n",
        "        imgs = [self.transform(jpg) for i in range(self.random_time)]\n",
        "        # (RANDOM_NUM, 3, shape0, shape1)\n",
        "        return torch.stack(imgs, 0)\n",
        "    \n",
        "    def merge_batch(self, imgs, ans=None):\n",
        "        # imgs: (batch, RANDOM_NUM, 3, shape0, shape1) -> (batch*RANDOM_NUM, ...)\n",
        "        # ans:  (batch) -> (batch*RANDOM_NUM)\n",
        "        # if ans:\n",
        "        #     return imgs.reshape(-1, *imgs.shape[2:]), torch.repeat_interleave(ans, self.random_time)\n",
        "        # else:\n",
        "        return imgs.reshape(-1, *imgs.shape[2:])\n",
        "    \n",
        "    def merge_predict(self, predicts):\n",
        "        # (batch*RANOM_NUM, 11)\n",
        "        res = []\n",
        "        labels = torch.argmax(predicts, dim=1).squeeze()\n",
        "        # (batch*RANOM_NUM)\n",
        "        for prob in torch.split(labels, self.random_time):\n",
        "            # (RANDOM_NUM)\n",
        "            # voting\n",
        "            res.append(torch.argmax(torch.bincount(prob)))\n",
        "        # (batch)\n",
        "        return  res\n",
        "\n",
        "class CLRDataset:\n",
        "    def __init__(self, dataset, transformA , transformB):\n",
        "        self.dataset = dataset\n",
        "        self.transformA = transformA\n",
        "        self.transformB = transformB\n",
        "    \n",
        "    def __len__(self):\n",
        "        return len(self.dataset)\n",
        "\n",
        "    def __getitem__(self, idx):\n",
        "        jpg, ans = self.dataset[idx]\n",
        "        imgs = [self.transformA(jpg), self.transformB(jpg)]\n",
        "        # (RANDOM_NUM, 3, shape0, shape1)\n",
        "        return torch.stack(imgs, 0), ans\n"
      ]
    },
    {
      "cell_type": "code",
      "metadata": {
        "id": "qz6jeMnkQl0_"
      },
      "source": [
        "# Batch size for training, validation, and testing.\n",
        "# A greater batch size usually gives a more stable gradient.\n",
        "# But the GPU memory is limited, so please adjust it carefully.\n",
        "batch_size = 128\n",
        "\n",
        "# Construct datasets.\n",
        "# The argument \"loader\" tells how torchvision reads the data.\n",
        "data_folder = \"/data/ML2021/hw3/\"\n",
        "\n",
        "train_set = DatasetFolder(data_folder+\"food-11/training/labeled\", loader=lambda x: Image.open(x),extensions=\"jpg\", transform=train_tfm)\n",
        "# clr_train_set = CLRDataset(train_set, train_tfm, train_tfm)\n",
        "valid_set = DatasetFolder(data_folder+\"food-11/validation\", loader=lambda x: Image.open(x), extensions=\"jpg\", transform=test_tfm)\n",
        "# test_set = DatasetFolder(data_folder+\"food-11/testing\", loader=lambda x: Image.open(x), extensions=\"jpg\", transform=test_tfm)\n",
        "\n",
        "unlabeled_set = DatasetFolder(data_folder+\"food-11/training/unlabeled\", loader=lambda x: Image.open(x), extensions=\"jpg\", transform=None)\n",
        "unlabeled_set.classes = train_set.classes\n",
        "unlabeled_set.class_to_idx = train_set.class_to_idx\n",
        "clr_unlab_set = CLRDataset(unlabeled_set, train_tfm, train_tfm)\n",
        "\n",
        "# Construct data loaders.\n",
        "# TODO: CLR on labeled data\n",
        "train_loader = DataLoader(train_set, batch_size=batch_size, shuffle=True, num_workers=8, pin_memory=True, drop_last=True)\n",
        "unlab_loader = DataLoader(clr_unlab_set, batch_size=batch_size//2, shuffle=True, num_workers=16, pin_memory=True, drop_last=True)\n",
        "valid_loader = DataLoader(valid_set, batch_size=batch_size, shuffle=True, num_workers=2, pin_memory=True)\n",
        "# test_loader = DataLoader(test_set, batch_size=batch_size, shuffle=False)"
      ],
      "execution_count": 6,
      "outputs": []
    },
    {
      "cell_type": "code",
      "execution_count": 7,
      "metadata": {},
      "outputs": [],
      "source": [
        "RANDOM_NUM = 16\n",
        "test_set = DatasetFolder(data_folder+\"food-11/testing\", loader=lambda x: Image.open(x), extensions=\"jpg\", transform=None)\n",
        "rd_test_set = RandomTransformDataset(test_set, train_tfm, random_time=RANDOM_NUM)\n",
        "rd_test_loader = DataLoader(rd_test_set, batch_size=batch_size//RANDOM_NUM*2, shuffle=False, num_workers=16)\n",
        "test_loader = DataLoader(DatasetFolder(data_folder+\"food-11/testing\", loader=lambda x: Image.open(x), extensions=\"jpg\", transform=test_tfm), batch_size=batch_size, shuffle=False, num_workers=16)\n"
      ]
    },
    {
      "cell_type": "markdown",
      "metadata": {
        "id": "j9YhZo7POPYG"
      },
      "source": [
        "## **Model**\n",
        "\n",
        "The basic model here is simply a stack of convolutional layers followed by some fully-connected layers.\n",
        "\n",
        "Since there are three channels for a color image (RGB), the input channels of the network must be three.\n",
        "In each convolutional layer, typically the channels of inputs grow, while the height and width shrink (or remain unchanged, according to some hyperparameters like stride and padding).\n",
        "\n",
        "Before fed into fully-connected layers, the feature map must be flattened into a single one-dimensional vector (for each image).\n",
        "These features are then transformed by the fully-connected layers, and finally, we obtain the \"logits\" for each class.\n",
        "\n",
        "### **WARNING -- You Must Know**\n",
        "You are free to modify the model architecture here for further improvement.\n",
        "However, if you want to use some well-known architectures such as ResNet50, please make sure **NOT** to load the pre-trained weights.\n",
        "Using such pre-trained models is considered cheating and therefore you will be punished.\n",
        "Similarly, it is your responsibility to make sure no pre-trained weights are used if you use **torch.hub** to load any modules.\n",
        "\n",
        "For example, if you use ResNet-18 as your model:\n",
        "\n",
        "model = torchvision.models.resnet18(pretrained=**False**) → This is fine.\n",
        "\n",
        "model = torchvision.models.resnet18(pretrained=**True**)  → This is **NOT** allowed."
      ]
    },
    {
      "cell_type": "code",
      "execution_count": 8,
      "metadata": {},
      "outputs": [],
      "source": [
        "class BlockConv2d(nn.Module):\n",
        "    def __init__(self, ch_in, ch_out, k, stride=1,\n",
        "            act=None, pooling=None, use_bn=True, drop=0, is_dconv=False, is_pad=True):\n",
        "\n",
        "        super(BlockConv2d, self).__init__()\n",
        "        pad = k//2 if is_pad else 0\n",
        "        if is_dconv:\n",
        "            conv = nn.ConvTranspose2d(ch_in, ch_out, k, padding=pad, stride=stride, output_padding=stride-1)\n",
        "        else:\n",
        "            conv = nn.Conv2d(ch_in, ch_out, k, padding=pad, stride=stride)\n",
        "            \n",
        "        list = [\n",
        "            conv\n",
        "        ]\n",
        "        if use_bn: list.append(nn.BatchNorm2d(ch_out))\n",
        "        if act: list.append(act)\n",
        "        if pooling: list.append(pooling)\n",
        "        if drop > 0: list.append(nn.Dropout2d(drop))\n",
        "        self.net = nn.Sequential(*list)\n",
        "\n",
        "    def forward(self, x):\n",
        "          return self.net(x)\n",
        "\n",
        "class BlockLinear(nn.Module):\n",
        "    def __init__(self, ch_in, ch_out, act=None, use_bn=True, drop=0, bias=True):\n",
        "        super(BlockLinear, self).__init__()\n",
        "        list = [\n",
        "            nn.Linear(ch_in, ch_out, bias=bias)\n",
        "        ]\n",
        "        if use_bn: list.append(nn.BatchNorm1d(ch_out))\n",
        "        if act: list.append(act)\n",
        "        if drop > 0: list.append(nn.Dropout(drop))\n",
        "        self.net = nn.Sequential(*list)\n",
        "\n",
        "    def forward(self, x):\n",
        "          return self.net(x)"
      ]
    },
    {
      "cell_type": "code",
      "execution_count": 9,
      "metadata": {},
      "outputs": [],
      "source": [
        "# m = torchvision.models.resnext50_32x4d(pretrained=False)\n",
        "# for i, j in (m.state_dict().items()):\n",
        "    # print(i, \"\\t\", j.shape)\n",
        "# m.fc"
      ]
    },
    {
      "cell_type": "code",
      "metadata": {
        "id": "Y1c-GwrMQqMl"
      },
      "source": [
        "class Classifier(nn.Module):\n",
        "    def __init__(self):\n",
        "        super(Classifier, self).__init__()\n",
        "        # input image size: [3, 128, 128]\n",
        "        self.dim = 2048\n",
        "\n",
        "        self.encoder = torchvision.models.resnext50_32x4d(pretrained=False, zero_init_residual=True)\n",
        "        # self.encoder.fc = BlockLinear(2048, self.dim, act=nn.ReLU(), use_bn=True, drop=.5)\n",
        "        # self.encoder.fc = nn.Identity()\n",
        "        \n",
        "        self.act = nn.ReLU()\n",
        "        self.n = [self.dim, self.dim*2, self.dim*2]\n",
        "        self.l = len(self.n)\n",
        "        fc = [\n",
        "            BlockLinear(self.n[i], self.n[i+1], act=nn.ReLU(), use_bn=True, drop=0, bias=False)\n",
        "            for i in range(self.l-2)\n",
        "        ]\n",
        "        fc += [nn.Linear(self.n[-2], self.n[-1], bias=False)]\n",
        "        self.encoder.fc = nn.Sequential(*fc)\n",
        "\n",
        "        self.n2 = [self.n[-1], 1024, 256]\n",
        "        self.l2 = len(self.n2)\n",
        "        fc2 = [\n",
        "            BlockLinear(self.n2[i], self.n2[i+1], act=nn.ReLU(), use_bn=True, drop=0)\n",
        "            for i in range(self.l2-1)\n",
        "        ]\n",
        "        self.classifier = nn.Sequential(*fc2)\n",
        "\n",
        "        self.out = nn.Linear(self.n2[-1], 11)\n",
        "\n",
        "    def forward(self, x):\n",
        "        # input (x): [batch_size, 3, 128, 128]\n",
        "        # output: [batch_size, 11]\n",
        "        x = self.encoder(x)\n",
        "        x = self.classifier(x)\n",
        "        x = self.out(x)\n",
        "        return x\n",
        "    \n",
        "    def predict(self, x):\n",
        "        \"\"\" Predict class by representation \"\"\"\n",
        "        return self.out(self.classifier(x))\n",
        "    \n",
        "    def repr(self, x):\n",
        "        \"\"\" Encode to the representation \"\"\"\n",
        "        return self.encoder(x)\n",
        "    "
      ],
      "execution_count": 10,
      "outputs": []
    },
    {
      "cell_type": "markdown",
      "metadata": {
        "id": "aEnGbriXORN3"
      },
      "source": [
        "## **Training**\n",
        "\n",
        "You can finish supervised learning by simply running the provided code without any modification.\n",
        "\n",
        "The function \"get_pseudo_labels\" is used for semi-supervised learning.\n",
        "It is expected to get better performance if you use unlabeled data for semi-supervised learning.\n",
        "However, you have to implement the function on your own and need to adjust several hyperparameters manually.\n",
        "\n",
        "For more details about semi-supervised learning, please refer to [Prof. Lee's slides](https://speech.ee.ntu.edu.tw/~tlkagk/courses/ML_2016/Lecture/semi%20(v3).pdf).\n",
        "\n",
        "Again, please notice that utilizing external data (or pre-trained model) for training is **prohibited**."
      ]
    },
    {
      "cell_type": "code",
      "execution_count": 11,
      "metadata": {},
      "outputs": [],
      "source": [
        "device = \"cuda\" if torch.cuda.is_available() else \"cpu\""
      ]
    },
    {
      "cell_type": "code",
      "execution_count": 12,
      "metadata": {},
      "outputs": [],
      "source": [
        "# Explicitly define the psudolabels in Subset class\n",
        "def get_pseudosample(self, idx):\n",
        "    return self.dataset[self.indices[idx]][0], self.labels[idx]\n",
        "\n",
        "def init_pseudolabel(self, dataset, labels, indices):\n",
        "    self.dataset = dataset\n",
        "    self.labels = labels\n",
        "    self.indices = indices\n",
        "Subset.__getitem__ = get_pseudosample\n",
        "Subset.__init__ = init_pseudolabel"
      ]
    },
    {
      "cell_type": "code",
      "metadata": {
        "id": "swlf5EwA-hxA"
      },
      "source": [
        "def get_pseudo_labels(dataset, model, threshold=0.5):\n",
        "    # This functions generates pseudo-labels of a dataset using given model.\n",
        "    # It returns an instance of DatasetFolder containing images whose prediction confidences exceed a given threshold.\n",
        "    # You are NOT allowed to use any models trained on external data for pseudo-labeling.\n",
        "    device = \"cuda\" if torch.cuda.is_available() else \"cpu\"\n",
        "\n",
        "    # Make sure the model is in eval mode.\n",
        "    model.eval()\n",
        "    # Define softmax function.\n",
        "    softmax = nn.Softmax(dim=-1)\n",
        "    idx = []\n",
        "    targets = []\n",
        "    # Iterate over the dataset by batches.\n",
        "    for i, batch in tqdm(enumerate(unlab_loader), leave=False, desc='PseudoLabels'):\n",
        "        img, _ = batch\n",
        "        with torch.no_grad():\n",
        "            logits = model(img.to(device))\n",
        "\n",
        "        # Obtain the probability distributions by applying softmax on logits.\n",
        "        probs = softmax(logits)\n",
        "        st = torch.topk(probs, 2, dim=1)\n",
        "        \n",
        "        # ---------- TODO ----------\n",
        "        # Filter the data and construct a new dataset.\n",
        "        probs1 = st[0][:, 0]\n",
        "        # probs2 = st[0][:, 1]\n",
        "        # select = (probs1 > threshold) & ((probs1-probs2) > .25)\n",
        "        select = (probs1 > threshold)\n",
        "        targets += st[1][select, 0].tolist()\n",
        "        idx += (torch.where(select)[0] + batch_size*i).tolist()\n",
        "\n",
        "    # custom subset\n",
        "    new = Subset(dataset, targets, idx)\n",
        "    model.train()\n",
        "    return new"
      ],
      "execution_count": 13,
      "outputs": []
    },
    {
      "cell_type": "code",
      "execution_count": 14,
      "metadata": {},
      "outputs": [
        {
          "output_type": "stream",
          "name": "stdout",
          "text": [
            "remove log\n"
          ]
        }
      ],
      "source": [
        "log_path = 'log'\n",
        "if log_path in os.listdir():\n",
        "    os.remove(log_path)\n",
        "    print('remove log')\n",
        "log = open(log_path, 'a')"
      ]
    },
    {
      "cell_type": "code",
      "execution_count": 15,
      "metadata": {},
      "outputs": [],
      "source": [
        "def train(imgs, is_supervised=False, ans=None, criterion=None, clr_lambda=1):\n",
        "    imgs = imgs.to(device)\n",
        "    reprA = model.repr(imgs[:, 0])\n",
        "    reprB = model.repr(imgs[:, 1])\n",
        "\n",
        "    reprA_norm = (reprA - reprA.mean(0)) / (reprA.std(0)+1e-7)\n",
        "    reprB_norm = (reprB - reprB.mean(0)) / (reprB.std(0)+1e-7)\n",
        "\n",
        "    # covariance matrix\n",
        "    c = torch.mm(reprA_norm.T, reprB_norm) / len(reprB_norm)\n",
        "    # loss: offdiag -> 0\n",
        "    c_offdiag = clr_reg*(torch.triu(c, diagonal=1)**2).sum()\n",
        "    # loss: diag -> 1\n",
        "    c_diag = ((c.diag()-1)**2).sum()\n",
        "    loss = clr_lambda*(c_offdiag+c_diag)\n",
        "    \n",
        "    if is_supervised:\n",
        "        pred = model.predict(torch.cat([reprA, reprB], 0))\n",
        "        ans = ans.repeat(2)\n",
        "        # loss = criterion(pred, ans.to(device))\n",
        "        loss += criterion(pred, ans.to(device))\n",
        "        return loss, pred, ans, c_diag.item(), c_offdiag.item()\n",
        "    return loss, c_diag.item(), c_offdiag.item()"
      ]
    },
    {
      "cell_type": "code",
      "metadata": {
        "id": "PHaFE-8oQtkC",
        "tags": []
      },
      "source": [
        "model_path = \"./model.ckpt\"\n",
        "\n",
        "model = Classifier().to(device)\n",
        "# model.load_state_dict(torch.load(model_path))\n",
        "\n",
        "lr = 1e-3\n",
        "criterion = nn.CrossEntropyLoss()\n",
        "optimizer = torch.optim.AdamW(model.parameters(), lr=lr, weight_decay=5e-4)\n",
        "lr_scheduler = torch.optim.lr_scheduler.ReduceLROnPlateau(\n",
        "    optimizer, mode='min', factor=0.5, patience=5, threshold=2e-4, min_lr=1e-5, verbose=True,\n",
        ")\n",
        "\n",
        "\n",
        "\n",
        "n_epochs = 200\n",
        "# classifier | CLR | classifier\n",
        "n_phase1 = 50\n",
        "n_phase2 = 100\n",
        "best_acc = 0\n",
        "valid_acc = 0\n",
        "\n",
        "best_semi = 0\n",
        "semi_flg = False\n",
        "semi_count = 0\n",
        "clr_reg = 1e-3\n",
        "# clr_reg = 2/(model.dim*(model.dim-1))\n",
        "clr_lambda = 1/1000\n",
        "loader = train_loader\n",
        "for epoch in range(n_epochs):\n",
        "#     if epoch == n_pretrain:\n",
        "#         optimizer.param_groups[0]['lr'] = lr\n",
        "#         lr_scheduler = torch.optim.lr_scheduler.ReduceLROnPlateau(\n",
        "#     optimizer, mode='min', factor=0.8, patience=5, threshold=2e-4, min_lr=1e-5, verbose=True\n",
        "# )\n",
        "\n",
        "    model.train()\n",
        "\n",
        "    # ---------- CLR ----------\n",
        "    # if False:\n",
        "    if n_phase1 <= epoch < n_phase2:\n",
        "        train_loss = []\n",
        "        diag_loss = []\n",
        "        offdiag_loss = []\n",
        "        for batch in tqdm(unlab_loader, desc='CLR', leave=False):\n",
        "            loss, c_diag, c_offdiag = train(batch[0])\n",
        "            optimizer.zero_grad()\n",
        "            loss.backward()\n",
        "            # grad_norm = nn.utils.clip_grad_norm_(model.parameters(), max_norm=10)\n",
        "            optimizer.step()\n",
        "            train_loss.append(loss.item())\n",
        "            diag_loss.append(c_diag)\n",
        "            offdiag_loss.append(c_offdiag)\n",
        "\n",
        "        train_loss = np.mean(train_loss)\n",
        "        diag_loss = np.mean(diag_loss)\n",
        "        offdiag_loss = np.mean(offdiag_loss)\n",
        "\n",
        "        log_str = (f\"[ CLR   | {epoch + 1:03d}/{n_epochs:03d} ] loss = {train_loss:.5f}, diag = {diag_loss:5.2f}, offdiag = {offdiag_loss:5.2f}\")\n",
        "        log.write(log_str+'\\n')\n",
        "        log.flush()\n",
        "        print(log_str)\n",
        "\n",
        "    # ---------- Training ----------\n",
        "\n",
        "    if not(n_phase1 <= epoch < n_phase2):\n",
        "        train_loss = []\n",
        "        train_accs = []\n",
        "        # diag_loss = []\n",
        "        # offdiag_loss = []\n",
        "        # # for batch in train_loader:\n",
        "        for batch in tqdm(train_loader, desc='Train', leave=False):\n",
        "\n",
        "            imgs, labels = batch\n",
        "            # loss, logits, labels, c_diag, c_offdiag = train(\n",
        "            #     imgs, \n",
        "            #     is_supervised=True, ans=labels, criterion=criterion, clr_lambda=clr_lambda\n",
        "            # )\n",
        "            logits = model(imgs.to(device))\n",
        "            loss = criterion(logits, labels.to(device))\n",
        "            optimizer.zero_grad()\n",
        "            loss.backward()\n",
        "            grad_norm = nn.utils.clip_grad_norm_(model.parameters(), max_norm=10)\n",
        "            optimizer.step()\n",
        "\n",
        "            acc = (logits.argmax(dim=-1) == labels.to(device)).float().mean()\n",
        "            train_loss.append(loss.item())\n",
        "            train_accs.append(acc)\n",
        "            # diag_loss.append(c_diag)\n",
        "            # offdiag_loss.append(c_offdiag)\n",
        "\n",
        "        train_loss = sum(train_loss) / len(train_loss)\n",
        "        train_acc = sum(train_accs) / len(train_accs)\n",
        "        # diag_loss = np.mean(diag_loss)\n",
        "        # offdiag_loss = np.mean(offdiag_loss)\n",
        "        # train_loss = 1\n",
        "        # train_acc = 1\n",
        "\n",
        "        # log_str = (f\"[ Train | {epoch + 1:03d}/{n_epochs:03d} ] loss = {train_loss:.5f}, acc = {train_acc:.5f}, diag = {diag_loss:5.2f}, offdiag = {offdiag_loss:5.2f}\")\n",
        "        log_str = (f\"[ Train | {epoch + 1:03d}/{n_epochs:03d} ] loss = {train_loss:.5f}, acc = {train_acc:.5f}\")\n",
        "        log.write(log_str+'\\n')\n",
        "        print(log_str)\n",
        "    \n",
        "    # ---------- Validation ----------\n",
        "    model.eval()\n",
        "    \n",
        "    valid_loss = []\n",
        "    valid_accs = []\n",
        "\n",
        "    # for batch in valid_loader:\n",
        "    for batch in tqdm(valid_loader, desc='Valid', leave=False):\n",
        "        imgs, labels = batch\n",
        "\n",
        "        with torch.no_grad():\n",
        "          logits = model(imgs.to(device))\n",
        "\n",
        "        loss = criterion(logits, labels.to(device))\n",
        "        acc = (logits.argmax(dim=-1) == labels.to(device)).float().mean()\n",
        "        valid_loss.append(loss.item())\n",
        "        valid_accs.append(acc)\n",
        "\n",
        "    valid_loss = sum(valid_loss) / len(valid_loss)\n",
        "    valid_acc = sum(valid_accs) / len(valid_accs)\n",
        "    if valid_acc >= best_acc:\n",
        "        best_acc = valid_acc\n",
        "        best_model = model.state_dict()\n",
        "        torch.save(model.state_dict(), model_path)\n",
        "        log_str = ('saving model with acc {:.3f}'.format(best_acc))\n",
        "        print(log_str)\n",
        "        log.write(log_str+\"\\n\")\n",
        "        semi_count = 0\n",
        "    \n",
        "    # semi early stop\n",
        "    # if semi_flg:\n",
        "    #     if valid_acc > best_semi:\n",
        "    #         best_semi = valid_acc\n",
        "    #         semi_count = 0\n",
        "    #     else:\n",
        "    #         semi_count += 1\n",
        "\n",
        "    log_str = f\"[ Valid | {epoch + 1:03d}/{n_epochs:03d} ]  loss = {valid_loss:.5f}, acc = {valid_acc:.5f}\"\n",
        "    log.write(log_str+'\\n')\n",
        "    print(log_str)\n",
        "    # print(log_str1)\n",
        "    # log.write(log_str1+\"\\n\")\n",
        "    log.flush()\n",
        "    if not(n_phase1 <= epoch < n_phase2):\n",
        "        lr_scheduler.step(valid_loss)\n",
        "    # print(f\"[ Valid\\t| {epoch + 1:03d}/{n_epochs:03d} ] ae_loss = {valid_ae:.5f}, loss = {valid_loss:.5f}, acc = {valid_acc:.5f}\")"
      ],
      "execution_count": 16,
      "outputs": [
        {
          "output_type": "display_data",
          "data": {
            "text/plain": "Train:   0%|          | 0/24 [00:00<?, ?it/s]",
            "application/vnd.jupyter.widget-view+json": {
              "version_major": 2,
              "version_minor": 0,
              "model_id": "6ba21b337cea4b47b7cd1cf7f526177d"
            }
          },
          "metadata": {}
        },
        {
          "output_type": "stream",
          "name": "stdout",
          "text": [
            "[ Train | 001/200 ] loss = 2.35270, acc = 0.16569\n"
          ]
        },
        {
          "output_type": "display_data",
          "data": {
            "text/plain": "Valid:   0%|          | 0/6 [00:00<?, ?it/s]",
            "application/vnd.jupyter.widget-view+json": {
              "version_major": 2,
              "version_minor": 0,
              "model_id": "6f83e605440644528b7d8f6492383961"
            }
          },
          "metadata": {}
        },
        {
          "output_type": "stream",
          "name": "stdout",
          "text": [
            "saving model with acc 0.179\n[ Valid | 001/200 ]  loss = 2.25937, acc = 0.17943\n"
          ]
        },
        {
          "output_type": "display_data",
          "data": {
            "text/plain": "Train:   0%|          | 0/24 [00:00<?, ?it/s]",
            "application/vnd.jupyter.widget-view+json": {
              "version_major": 2,
              "version_minor": 0,
              "model_id": "22127c0030d5409fb69f13b20adf7c63"
            }
          },
          "metadata": {}
        },
        {
          "output_type": "stream",
          "name": "stdout",
          "text": [
            "[ Train | 002/200 ] loss = 2.25558, acc = 0.19564\n"
          ]
        },
        {
          "output_type": "display_data",
          "data": {
            "text/plain": "Valid:   0%|          | 0/6 [00:00<?, ?it/s]",
            "application/vnd.jupyter.widget-view+json": {
              "version_major": 2,
              "version_minor": 0,
              "model_id": "fd95c58d6a814434983d9fe7098134d7"
            }
          },
          "metadata": {}
        },
        {
          "output_type": "stream",
          "name": "stdout",
          "text": [
            "saving model with acc 0.204\n[ Valid | 002/200 ]  loss = 2.22573, acc = 0.20443\n"
          ]
        },
        {
          "output_type": "display_data",
          "data": {
            "text/plain": "Train:   0%|          | 0/24 [00:00<?, ?it/s]",
            "application/vnd.jupyter.widget-view+json": {
              "version_major": 2,
              "version_minor": 0,
              "model_id": "f02947b1857c443bbdf0fca3279cdb16"
            }
          },
          "metadata": {}
        },
        {
          "output_type": "stream",
          "name": "stdout",
          "text": [
            "[ Train | 003/200 ] loss = 2.22479, acc = 0.20638\n"
          ]
        },
        {
          "output_type": "display_data",
          "data": {
            "text/plain": "Valid:   0%|          | 0/6 [00:00<?, ?it/s]",
            "application/vnd.jupyter.widget-view+json": {
              "version_major": 2,
              "version_minor": 0,
              "model_id": "9162d703dd114118b622cb85afecac5b"
            }
          },
          "metadata": {}
        },
        {
          "output_type": "stream",
          "name": "stdout",
          "text": [
            "saving model with acc 0.275\n[ Valid | 003/200 ]  loss = 2.05140, acc = 0.27500\n"
          ]
        },
        {
          "output_type": "display_data",
          "data": {
            "text/plain": "Train:   0%|          | 0/24 [00:00<?, ?it/s]",
            "application/vnd.jupyter.widget-view+json": {
              "version_major": 2,
              "version_minor": 0,
              "model_id": "bee5e928b70b48e99404fa16c0971631"
            }
          },
          "metadata": {}
        },
        {
          "output_type": "stream",
          "name": "stdout",
          "text": [
            "[ Train | 004/200 ] loss = 2.19729, acc = 0.21322\n"
          ]
        },
        {
          "output_type": "display_data",
          "data": {
            "text/plain": "Valid:   0%|          | 0/6 [00:00<?, ?it/s]",
            "application/vnd.jupyter.widget-view+json": {
              "version_major": 2,
              "version_minor": 0,
              "model_id": "84da0cc16a3146d0b4028af2a7ed687a"
            }
          },
          "metadata": {}
        },
        {
          "output_type": "stream",
          "name": "stdout",
          "text": [
            "[ Valid | 004/200 ]  loss = 2.11687, acc = 0.21927\n"
          ]
        },
        {
          "output_type": "display_data",
          "data": {
            "text/plain": "Train:   0%|          | 0/24 [00:00<?, ?it/s]",
            "application/vnd.jupyter.widget-view+json": {
              "version_major": 2,
              "version_minor": 0,
              "model_id": "3e2ef6d9916747b89f6ea0fa5092e5d5"
            }
          },
          "metadata": {}
        },
        {
          "output_type": "stream",
          "name": "stdout",
          "text": [
            "[ Train | 005/200 ] loss = 2.17012, acc = 0.23177\n"
          ]
        },
        {
          "output_type": "display_data",
          "data": {
            "text/plain": "Valid:   0%|          | 0/6 [00:00<?, ?it/s]",
            "application/vnd.jupyter.widget-view+json": {
              "version_major": 2,
              "version_minor": 0,
              "model_id": "3e6b5938a4984a6ca583cec263f6c23b"
            }
          },
          "metadata": {}
        },
        {
          "output_type": "stream",
          "name": "stdout",
          "text": [
            "[ Valid | 005/200 ]  loss = 2.06884, acc = 0.25469\n"
          ]
        },
        {
          "output_type": "display_data",
          "data": {
            "text/plain": "Train:   0%|          | 0/24 [00:00<?, ?it/s]",
            "application/vnd.jupyter.widget-view+json": {
              "version_major": 2,
              "version_minor": 0,
              "model_id": "9db4dea8cc2d429d8fc3115dedbf2f9b"
            }
          },
          "metadata": {}
        },
        {
          "output_type": "stream",
          "name": "stdout",
          "text": [
            "[ Train | 006/200 ] loss = 2.15348, acc = 0.23763\n"
          ]
        },
        {
          "output_type": "display_data",
          "data": {
            "text/plain": "Valid:   0%|          | 0/6 [00:00<?, ?it/s]",
            "application/vnd.jupyter.widget-view+json": {
              "version_major": 2,
              "version_minor": 0,
              "model_id": "18361db42c0f4f98859778a40c0ae411"
            }
          },
          "metadata": {}
        },
        {
          "output_type": "stream",
          "name": "stdout",
          "text": [
            "[ Valid | 006/200 ]  loss = 2.08035, acc = 0.25182\n"
          ]
        },
        {
          "output_type": "display_data",
          "data": {
            "text/plain": "Train:   0%|          | 0/24 [00:00<?, ?it/s]",
            "application/vnd.jupyter.widget-view+json": {
              "version_major": 2,
              "version_minor": 0,
              "model_id": "032dfa18d17042d7a1fc6431ba9cedce"
            }
          },
          "metadata": {}
        },
        {
          "output_type": "stream",
          "name": "stdout",
          "text": [
            "[ Train | 007/200 ] loss = 2.15867, acc = 0.22656\n"
          ]
        },
        {
          "output_type": "display_data",
          "data": {
            "text/plain": "Valid:   0%|          | 0/6 [00:00<?, ?it/s]",
            "application/vnd.jupyter.widget-view+json": {
              "version_major": 2,
              "version_minor": 0,
              "model_id": "c50729512023456aab7a0901f44359ae"
            }
          },
          "metadata": {}
        },
        {
          "output_type": "stream",
          "name": "stdout",
          "text": [
            "[ Valid | 007/200 ]  loss = 2.07372, acc = 0.25104\n"
          ]
        },
        {
          "output_type": "display_data",
          "data": {
            "text/plain": "Train:   0%|          | 0/24 [00:00<?, ?it/s]",
            "application/vnd.jupyter.widget-view+json": {
              "version_major": 2,
              "version_minor": 0,
              "model_id": "13f5921c12c5447db3363b8e1fade458"
            }
          },
          "metadata": {}
        },
        {
          "output_type": "stream",
          "name": "stdout",
          "text": [
            "[ Train | 008/200 ] loss = 2.13031, acc = 0.24870\n"
          ]
        },
        {
          "output_type": "display_data",
          "data": {
            "text/plain": "Valid:   0%|          | 0/6 [00:00<?, ?it/s]",
            "application/vnd.jupyter.widget-view+json": {
              "version_major": 2,
              "version_minor": 0,
              "model_id": "061a027c89d942b5b13a13b4cd10da64"
            }
          },
          "metadata": {}
        },
        {
          "output_type": "stream",
          "name": "stdout",
          "text": [
            "saving model with acc 0.296\n[ Valid | 008/200 ]  loss = 2.05065, acc = 0.29557\n"
          ]
        },
        {
          "output_type": "display_data",
          "data": {
            "text/plain": "Train:   0%|          | 0/24 [00:00<?, ?it/s]",
            "application/vnd.jupyter.widget-view+json": {
              "version_major": 2,
              "version_minor": 0,
              "model_id": "d6f4a27a9ce24a6cacb4116ae1ac442f"
            }
          },
          "metadata": {}
        },
        {
          "output_type": "stream",
          "name": "stdout",
          "text": [
            "[ Train | 009/200 ] loss = 2.13813, acc = 0.24382\n"
          ]
        },
        {
          "output_type": "display_data",
          "data": {
            "text/plain": "Valid:   0%|          | 0/6 [00:00<?, ?it/s]",
            "application/vnd.jupyter.widget-view+json": {
              "version_major": 2,
              "version_minor": 0,
              "model_id": "d894836fe11b49e9b92f2f7eb28bcaf8"
            }
          },
          "metadata": {}
        },
        {
          "output_type": "stream",
          "name": "stdout",
          "text": [
            "[ Valid | 009/200 ]  loss = 2.06969, acc = 0.29115\n"
          ]
        },
        {
          "output_type": "display_data",
          "data": {
            "text/plain": "Train:   0%|          | 0/24 [00:00<?, ?it/s]",
            "application/vnd.jupyter.widget-view+json": {
              "version_major": 2,
              "version_minor": 0,
              "model_id": "dd3dbb4bce7c4c79812442215648259c"
            }
          },
          "metadata": {}
        },
        {
          "output_type": "stream",
          "name": "stdout",
          "text": [
            "[ Train | 010/200 ] loss = 2.08962, acc = 0.26172\n"
          ]
        },
        {
          "output_type": "display_data",
          "data": {
            "text/plain": "Valid:   0%|          | 0/6 [00:00<?, ?it/s]",
            "application/vnd.jupyter.widget-view+json": {
              "version_major": 2,
              "version_minor": 0,
              "model_id": "288f5a059bc640049f1366b14f6839ba"
            }
          },
          "metadata": {}
        },
        {
          "output_type": "stream",
          "name": "stdout",
          "text": [
            "saving model with acc 0.322\n[ Valid | 010/200 ]  loss = 1.92897, acc = 0.32214\n"
          ]
        },
        {
          "output_type": "display_data",
          "data": {
            "text/plain": "Train:   0%|          | 0/24 [00:00<?, ?it/s]",
            "application/vnd.jupyter.widget-view+json": {
              "version_major": 2,
              "version_minor": 0,
              "model_id": "7340e64976a0423da291d0c7048f4e71"
            }
          },
          "metadata": {}
        },
        {
          "output_type": "stream",
          "name": "stdout",
          "text": [
            "[ Train | 011/200 ] loss = 2.09354, acc = 0.26237\n"
          ]
        },
        {
          "output_type": "display_data",
          "data": {
            "text/plain": "Valid:   0%|          | 0/6 [00:00<?, ?it/s]",
            "application/vnd.jupyter.widget-view+json": {
              "version_major": 2,
              "version_minor": 0,
              "model_id": "bdec509b9baf4bbaabde240a0ba2e3ef"
            }
          },
          "metadata": {}
        },
        {
          "output_type": "stream",
          "name": "stdout",
          "text": [
            "[ Valid | 011/200 ]  loss = 2.16252, acc = 0.23724\n"
          ]
        },
        {
          "output_type": "display_data",
          "data": {
            "text/plain": "Train:   0%|          | 0/24 [00:00<?, ?it/s]",
            "application/vnd.jupyter.widget-view+json": {
              "version_major": 2,
              "version_minor": 0,
              "model_id": "4fabd10290694800bb92e65edb8249a9"
            }
          },
          "metadata": {}
        },
        {
          "output_type": "stream",
          "name": "stdout",
          "text": [
            "[ Train | 012/200 ] loss = 2.08441, acc = 0.26628\n"
          ]
        },
        {
          "output_type": "display_data",
          "data": {
            "text/plain": "Valid:   0%|          | 0/6 [00:00<?, ?it/s]",
            "application/vnd.jupyter.widget-view+json": {
              "version_major": 2,
              "version_minor": 0,
              "model_id": "d0dc73a6df244e62ad1faf289932c132"
            }
          },
          "metadata": {}
        },
        {
          "output_type": "stream",
          "name": "stdout",
          "text": [
            "[ Valid | 012/200 ]  loss = 1.99582, acc = 0.29583\n"
          ]
        },
        {
          "output_type": "display_data",
          "data": {
            "text/plain": "Train:   0%|          | 0/24 [00:00<?, ?it/s]",
            "application/vnd.jupyter.widget-view+json": {
              "version_major": 2,
              "version_minor": 0,
              "model_id": "52454e895d764a5d8bb8f0e68d70a0af"
            }
          },
          "metadata": {}
        },
        {
          "output_type": "stream",
          "name": "stdout",
          "text": [
            "[ Train | 013/200 ] loss = 2.07129, acc = 0.27181\n"
          ]
        },
        {
          "output_type": "display_data",
          "data": {
            "text/plain": "Valid:   0%|          | 0/6 [00:00<?, ?it/s]",
            "application/vnd.jupyter.widget-view+json": {
              "version_major": 2,
              "version_minor": 0,
              "model_id": "3c6ca38c8ed24a82b8d9f0d2f2546cc6"
            }
          },
          "metadata": {}
        },
        {
          "output_type": "stream",
          "name": "stdout",
          "text": [
            "[ Valid | 013/200 ]  loss = 2.11548, acc = 0.27344\n"
          ]
        },
        {
          "output_type": "display_data",
          "data": {
            "text/plain": "Train:   0%|          | 0/24 [00:00<?, ?it/s]",
            "application/vnd.jupyter.widget-view+json": {
              "version_major": 2,
              "version_minor": 0,
              "model_id": "166182263343441488141aa3b0a3a68d"
            }
          },
          "metadata": {}
        },
        {
          "output_type": "stream",
          "name": "stdout",
          "text": [
            "[ Train | 014/200 ] loss = 2.06618, acc = 0.26725\n"
          ]
        },
        {
          "output_type": "display_data",
          "data": {
            "text/plain": "Valid:   0%|          | 0/6 [00:00<?, ?it/s]",
            "application/vnd.jupyter.widget-view+json": {
              "version_major": 2,
              "version_minor": 0,
              "model_id": "eb99dc0608ef4fdea6ecd040b40f9179"
            }
          },
          "metadata": {}
        },
        {
          "output_type": "stream",
          "name": "stdout",
          "text": [
            "[ Valid | 014/200 ]  loss = 2.02011, acc = 0.28932\n"
          ]
        },
        {
          "output_type": "display_data",
          "data": {
            "text/plain": "Train:   0%|          | 0/24 [00:00<?, ?it/s]",
            "application/vnd.jupyter.widget-view+json": {
              "version_major": 2,
              "version_minor": 0,
              "model_id": "9596243b950c43fd902db1a8714d639f"
            }
          },
          "metadata": {}
        },
        {
          "output_type": "stream",
          "name": "stdout",
          "text": [
            "[ Train | 015/200 ] loss = 2.04852, acc = 0.28190\n"
          ]
        },
        {
          "output_type": "display_data",
          "data": {
            "text/plain": "Valid:   0%|          | 0/6 [00:00<?, ?it/s]",
            "application/vnd.jupyter.widget-view+json": {
              "version_major": 2,
              "version_minor": 0,
              "model_id": "f19a19e806204baf8eb205d795850a3d"
            }
          },
          "metadata": {}
        },
        {
          "output_type": "stream",
          "name": "stdout",
          "text": [
            "[ Valid | 015/200 ]  loss = 2.13890, acc = 0.28385\n"
          ]
        },
        {
          "output_type": "display_data",
          "data": {
            "text/plain": "Train:   0%|          | 0/24 [00:00<?, ?it/s]",
            "application/vnd.jupyter.widget-view+json": {
              "version_major": 2,
              "version_minor": 0,
              "model_id": "a029864a30d641c4aeecf02ca77204a8"
            }
          },
          "metadata": {}
        },
        {
          "output_type": "stream",
          "name": "stdout",
          "text": [
            "[ Train | 016/200 ] loss = 2.02059, acc = 0.28516\n"
          ]
        },
        {
          "output_type": "display_data",
          "data": {
            "text/plain": "Valid:   0%|          | 0/6 [00:00<?, ?it/s]",
            "application/vnd.jupyter.widget-view+json": {
              "version_major": 2,
              "version_minor": 0,
              "model_id": "155bf0edb36f4e05af872ef4aaffa118"
            }
          },
          "metadata": {}
        },
        {
          "output_type": "stream",
          "name": "stdout",
          "text": [
            "[ Valid | 016/200 ]  loss = 2.15934, acc = 0.27630\nEpoch    16: reducing learning rate of group 0 to 5.0000e-04.\n"
          ]
        },
        {
          "output_type": "display_data",
          "data": {
            "text/plain": "Train:   0%|          | 0/24 [00:00<?, ?it/s]",
            "application/vnd.jupyter.widget-view+json": {
              "version_major": 2,
              "version_minor": 0,
              "model_id": "4b193966eb6b476e8995bb31f3d71e3d"
            }
          },
          "metadata": {}
        },
        {
          "output_type": "stream",
          "name": "stdout",
          "text": [
            "[ Train | 017/200 ] loss = 1.98770, acc = 0.30143\n"
          ]
        },
        {
          "output_type": "display_data",
          "data": {
            "text/plain": "Valid:   0%|          | 0/6 [00:00<?, ?it/s]",
            "application/vnd.jupyter.widget-view+json": {
              "version_major": 2,
              "version_minor": 0,
              "model_id": "0bb0dde41c2a41429eb186abfaea9e07"
            }
          },
          "metadata": {}
        },
        {
          "output_type": "stream",
          "name": "stdout",
          "text": [
            "saving model with acc 0.345\n[ Valid | 017/200 ]  loss = 1.97346, acc = 0.34505\n"
          ]
        },
        {
          "output_type": "display_data",
          "data": {
            "text/plain": "Train:   0%|          | 0/24 [00:00<?, ?it/s]",
            "application/vnd.jupyter.widget-view+json": {
              "version_major": 2,
              "version_minor": 0,
              "model_id": "21d91bd352874a80ab981c7d083e9a34"
            }
          },
          "metadata": {}
        },
        {
          "output_type": "stream",
          "name": "stdout",
          "text": [
            "[ Train | 018/200 ] loss = 1.96951, acc = 0.31283\n"
          ]
        },
        {
          "output_type": "display_data",
          "data": {
            "text/plain": "Valid:   0%|          | 0/6 [00:00<?, ?it/s]",
            "application/vnd.jupyter.widget-view+json": {
              "version_major": 2,
              "version_minor": 0,
              "model_id": "b5273450d962415e884be27995827d09"
            }
          },
          "metadata": {}
        },
        {
          "output_type": "stream",
          "name": "stdout",
          "text": [
            "saving model with acc 0.399\n[ Valid | 018/200 ]  loss = 1.79299, acc = 0.39870\n"
          ]
        },
        {
          "output_type": "display_data",
          "data": {
            "text/plain": "Train:   0%|          | 0/24 [00:00<?, ?it/s]",
            "application/vnd.jupyter.widget-view+json": {
              "version_major": 2,
              "version_minor": 0,
              "model_id": "c8670bfdffff4e4d86e270dd0eea2f50"
            }
          },
          "metadata": {}
        },
        {
          "output_type": "stream",
          "name": "stdout",
          "text": [
            "[ Train | 019/200 ] loss = 1.95084, acc = 0.29818\n"
          ]
        },
        {
          "output_type": "display_data",
          "data": {
            "text/plain": "Valid:   0%|          | 0/6 [00:00<?, ?it/s]",
            "application/vnd.jupyter.widget-view+json": {
              "version_major": 2,
              "version_minor": 0,
              "model_id": "79ec18846f4445058acd222645ca09fe"
            }
          },
          "metadata": {}
        },
        {
          "output_type": "stream",
          "name": "stdout",
          "text": [
            "[ Valid | 019/200 ]  loss = 2.11764, acc = 0.31745\n"
          ]
        },
        {
          "output_type": "display_data",
          "data": {
            "text/plain": "Train:   0%|          | 0/24 [00:00<?, ?it/s]",
            "application/vnd.jupyter.widget-view+json": {
              "version_major": 2,
              "version_minor": 0,
              "model_id": "f36db1b842364b86a5aeafdf145c3794"
            }
          },
          "metadata": {}
        },
        {
          "output_type": "stream",
          "name": "stdout",
          "text": [
            "[ Train | 020/200 ] loss = 1.96135, acc = 0.29948\n"
          ]
        },
        {
          "output_type": "display_data",
          "data": {
            "text/plain": "Valid:   0%|          | 0/6 [00:00<?, ?it/s]",
            "application/vnd.jupyter.widget-view+json": {
              "version_major": 2,
              "version_minor": 0,
              "model_id": "fe0633f70a874d7eaba71c7fc5625bec"
            }
          },
          "metadata": {}
        },
        {
          "output_type": "stream",
          "name": "stdout",
          "text": [
            "[ Valid | 020/200 ]  loss = 1.89362, acc = 0.34193\n"
          ]
        },
        {
          "output_type": "display_data",
          "data": {
            "text/plain": "Train:   0%|          | 0/24 [00:00<?, ?it/s]",
            "application/vnd.jupyter.widget-view+json": {
              "version_major": 2,
              "version_minor": 0,
              "model_id": "f4358ed35bcd42e3afa58ee8ccee865c"
            }
          },
          "metadata": {}
        },
        {
          "output_type": "stream",
          "name": "stdout",
          "text": [
            "[ Train | 021/200 ] loss = 1.95765, acc = 0.30990\n"
          ]
        },
        {
          "output_type": "display_data",
          "data": {
            "text/plain": "Valid:   0%|          | 0/6 [00:00<?, ?it/s]",
            "application/vnd.jupyter.widget-view+json": {
              "version_major": 2,
              "version_minor": 0,
              "model_id": "f8a11cc5fa4c4ffaa13399bd83e04dca"
            }
          },
          "metadata": {}
        },
        {
          "output_type": "stream",
          "name": "stdout",
          "text": [
            "[ Valid | 021/200 ]  loss = 1.75641, acc = 0.39740\n"
          ]
        },
        {
          "output_type": "display_data",
          "data": {
            "text/plain": "Train:   0%|          | 0/24 [00:00<?, ?it/s]",
            "application/vnd.jupyter.widget-view+json": {
              "version_major": 2,
              "version_minor": 0,
              "model_id": "b4cb90c08c8f43df98d130ab43b978ba"
            }
          },
          "metadata": {}
        },
        {
          "output_type": "stream",
          "name": "stdout",
          "text": [
            "[ Train | 022/200 ] loss = 1.94724, acc = 0.31771\n"
          ]
        },
        {
          "output_type": "display_data",
          "data": {
            "text/plain": "Valid:   0%|          | 0/6 [00:00<?, ?it/s]",
            "application/vnd.jupyter.widget-view+json": {
              "version_major": 2,
              "version_minor": 0,
              "model_id": "749b0c57361b4a5991660f91a0da6f3a"
            }
          },
          "metadata": {}
        },
        {
          "output_type": "stream",
          "name": "stdout",
          "text": [
            "[ Valid | 022/200 ]  loss = 1.82799, acc = 0.35521\n"
          ]
        },
        {
          "output_type": "display_data",
          "data": {
            "text/plain": "Train:   0%|          | 0/24 [00:00<?, ?it/s]",
            "application/vnd.jupyter.widget-view+json": {
              "version_major": 2,
              "version_minor": 0,
              "model_id": "22f106d8103546ffaf644a266028794b"
            }
          },
          "metadata": {}
        },
        {
          "output_type": "stream",
          "name": "stdout",
          "text": [
            "[ Train | 023/200 ] loss = 1.94815, acc = 0.30892\n"
          ]
        },
        {
          "output_type": "display_data",
          "data": {
            "text/plain": "Valid:   0%|          | 0/6 [00:00<?, ?it/s]",
            "application/vnd.jupyter.widget-view+json": {
              "version_major": 2,
              "version_minor": 0,
              "model_id": "4f7aa3f2ac2c431e9d196406ab5754d2"
            }
          },
          "metadata": {}
        },
        {
          "output_type": "stream",
          "name": "stdout",
          "text": [
            "[ Valid | 023/200 ]  loss = 1.90413, acc = 0.32839\n"
          ]
        },
        {
          "output_type": "display_data",
          "data": {
            "text/plain": "Train:   0%|          | 0/24 [00:00<?, ?it/s]",
            "application/vnd.jupyter.widget-view+json": {
              "version_major": 2,
              "version_minor": 0,
              "model_id": "cd2034444e4d4144afa407d081e87ffd"
            }
          },
          "metadata": {}
        },
        {
          "output_type": "stream",
          "name": "stdout",
          "text": [
            "[ Train | 024/200 ] loss = 1.93472, acc = 0.29948\n"
          ]
        },
        {
          "output_type": "display_data",
          "data": {
            "text/plain": "Valid:   0%|          | 0/6 [00:00<?, ?it/s]",
            "application/vnd.jupyter.widget-view+json": {
              "version_major": 2,
              "version_minor": 0,
              "model_id": "415071dbbc174a40ab0e17204e6a10bc"
            }
          },
          "metadata": {}
        },
        {
          "output_type": "stream",
          "name": "stdout",
          "text": [
            "[ Valid | 024/200 ]  loss = 1.82578, acc = 0.36276\n"
          ]
        },
        {
          "output_type": "display_data",
          "data": {
            "text/plain": "Train:   0%|          | 0/24 [00:00<?, ?it/s]",
            "application/vnd.jupyter.widget-view+json": {
              "version_major": 2,
              "version_minor": 0,
              "model_id": "c7b8d25fe5444a4d827ecfed9ca493a6"
            }
          },
          "metadata": {}
        },
        {
          "output_type": "stream",
          "name": "stdout",
          "text": [
            "[ Train | 025/200 ] loss = 1.92686, acc = 0.32259\n"
          ]
        },
        {
          "output_type": "display_data",
          "data": {
            "text/plain": "Valid:   0%|          | 0/6 [00:00<?, ?it/s]",
            "application/vnd.jupyter.widget-view+json": {
              "version_major": 2,
              "version_minor": 0,
              "model_id": "1e8c6008eb6f464080177988ff221938"
            }
          },
          "metadata": {}
        },
        {
          "output_type": "stream",
          "name": "stdout",
          "text": [
            "[ Valid | 025/200 ]  loss = 1.85782, acc = 0.35208\n"
          ]
        },
        {
          "output_type": "display_data",
          "data": {
            "text/plain": "Train:   0%|          | 0/24 [00:00<?, ?it/s]",
            "application/vnd.jupyter.widget-view+json": {
              "version_major": 2,
              "version_minor": 0,
              "model_id": "935e1396c4c14f859e421b74cf1ed10d"
            }
          },
          "metadata": {}
        },
        {
          "output_type": "stream",
          "name": "stdout",
          "text": [
            "[ Train | 026/200 ] loss = 1.90990, acc = 0.32292\n"
          ]
        },
        {
          "output_type": "display_data",
          "data": {
            "text/plain": "Valid:   0%|          | 0/6 [00:00<?, ?it/s]",
            "application/vnd.jupyter.widget-view+json": {
              "version_major": 2,
              "version_minor": 0,
              "model_id": "7bb9a60f27374098b7c0df8939d403d0"
            }
          },
          "metadata": {}
        },
        {
          "output_type": "stream",
          "name": "stdout",
          "text": [
            "saving model with acc 0.404\n[ Valid | 026/200 ]  loss = 1.77490, acc = 0.40443\n"
          ]
        },
        {
          "output_type": "display_data",
          "data": {
            "text/plain": "Train:   0%|          | 0/24 [00:00<?, ?it/s]",
            "application/vnd.jupyter.widget-view+json": {
              "version_major": 2,
              "version_minor": 0,
              "model_id": "482155430ae945148b0086a873dde63e"
            }
          },
          "metadata": {}
        },
        {
          "output_type": "stream",
          "name": "stdout",
          "text": [
            "[ Train | 027/200 ] loss = 1.89340, acc = 0.31966\n"
          ]
        },
        {
          "output_type": "display_data",
          "data": {
            "text/plain": "Valid:   0%|          | 0/6 [00:00<?, ?it/s]",
            "application/vnd.jupyter.widget-view+json": {
              "version_major": 2,
              "version_minor": 0,
              "model_id": "a6bb45fdacda4e9fb5cdc3aacc7a70c9"
            }
          },
          "metadata": {}
        },
        {
          "output_type": "stream",
          "name": "stdout",
          "text": [
            "[ Valid | 027/200 ]  loss = 1.91138, acc = 0.32422\nEpoch    27: reducing learning rate of group 0 to 2.5000e-04.\n"
          ]
        },
        {
          "output_type": "display_data",
          "data": {
            "text/plain": "Train:   0%|          | 0/24 [00:00<?, ?it/s]",
            "application/vnd.jupyter.widget-view+json": {
              "version_major": 2,
              "version_minor": 0,
              "model_id": "58b183b95da142eeb80556346cb0732e"
            }
          },
          "metadata": {}
        },
        {
          "output_type": "stream",
          "name": "stdout",
          "text": [
            "[ Train | 028/200 ] loss = 1.85731, acc = 0.35254\n"
          ]
        },
        {
          "output_type": "display_data",
          "data": {
            "text/plain": "Valid:   0%|          | 0/6 [00:00<?, ?it/s]",
            "application/vnd.jupyter.widget-view+json": {
              "version_major": 2,
              "version_minor": 0,
              "model_id": "4b3467b7de1f4fe3a25e8694418414c1"
            }
          },
          "metadata": {}
        },
        {
          "output_type": "stream",
          "name": "stdout",
          "text": [
            "[ Valid | 028/200 ]  loss = 1.79365, acc = 0.40000\n"
          ]
        },
        {
          "output_type": "display_data",
          "data": {
            "text/plain": "Train:   0%|          | 0/24 [00:00<?, ?it/s]",
            "application/vnd.jupyter.widget-view+json": {
              "version_major": 2,
              "version_minor": 0,
              "model_id": "3245007495d74f99bfc64aa85e8db380"
            }
          },
          "metadata": {}
        },
        {
          "output_type": "stream",
          "name": "stdout",
          "text": [
            "[ Train | 029/200 ] loss = 1.85617, acc = 0.33561\n"
          ]
        },
        {
          "output_type": "display_data",
          "data": {
            "text/plain": "Valid:   0%|          | 0/6 [00:00<?, ?it/s]",
            "application/vnd.jupyter.widget-view+json": {
              "version_major": 2,
              "version_minor": 0,
              "model_id": "dc0ae6bc31954c129ac9da6b6a3ceb31"
            }
          },
          "metadata": {}
        },
        {
          "output_type": "stream",
          "name": "stdout",
          "text": [
            "[ Valid | 029/200 ]  loss = 1.75426, acc = 0.39427\n"
          ]
        },
        {
          "output_type": "display_data",
          "data": {
            "text/plain": "Train:   0%|          | 0/24 [00:00<?, ?it/s]",
            "application/vnd.jupyter.widget-view+json": {
              "version_major": 2,
              "version_minor": 0,
              "model_id": "1d92aef5f12c418fa7f336285627c2e9"
            }
          },
          "metadata": {}
        },
        {
          "output_type": "stream",
          "name": "stdout",
          "text": [
            "[ Train | 030/200 ] loss = 1.86535, acc = 0.34180\n"
          ]
        },
        {
          "output_type": "display_data",
          "data": {
            "text/plain": "Valid:   0%|          | 0/6 [00:00<?, ?it/s]",
            "application/vnd.jupyter.widget-view+json": {
              "version_major": 2,
              "version_minor": 0,
              "model_id": "8a03a4aa884c45248119521d532e1d6e"
            }
          },
          "metadata": {}
        },
        {
          "output_type": "stream",
          "name": "stdout",
          "text": [
            "[ Valid | 030/200 ]  loss = 1.78923, acc = 0.39557\n"
          ]
        },
        {
          "output_type": "display_data",
          "data": {
            "text/plain": "Train:   0%|          | 0/24 [00:00<?, ?it/s]",
            "application/vnd.jupyter.widget-view+json": {
              "version_major": 2,
              "version_minor": 0,
              "model_id": "eb68b0e2f436402c8e0187f48b28054b"
            }
          },
          "metadata": {}
        },
        {
          "output_type": "stream",
          "name": "stdout",
          "text": [
            "[ Train | 031/200 ] loss = 1.85841, acc = 0.34766\n"
          ]
        },
        {
          "output_type": "display_data",
          "data": {
            "text/plain": "Valid:   0%|          | 0/6 [00:00<?, ?it/s]",
            "application/vnd.jupyter.widget-view+json": {
              "version_major": 2,
              "version_minor": 0,
              "model_id": "2d0ad86ef1f9455bbd03dbd1492f809b"
            }
          },
          "metadata": {}
        },
        {
          "output_type": "stream",
          "name": "stdout",
          "text": [
            "[ Valid | 031/200 ]  loss = 1.74579, acc = 0.40156\n"
          ]
        },
        {
          "output_type": "display_data",
          "data": {
            "text/plain": "Train:   0%|          | 0/24 [00:00<?, ?it/s]",
            "application/vnd.jupyter.widget-view+json": {
              "version_major": 2,
              "version_minor": 0,
              "model_id": "a7b977adc2fa4c45b511e543aa628f15"
            }
          },
          "metadata": {}
        },
        {
          "output_type": "stream",
          "name": "stdout",
          "text": [
            "[ Train | 032/200 ] loss = 1.83644, acc = 0.35059\n"
          ]
        },
        {
          "output_type": "display_data",
          "data": {
            "text/plain": "Valid:   0%|          | 0/6 [00:00<?, ?it/s]",
            "application/vnd.jupyter.widget-view+json": {
              "version_major": 2,
              "version_minor": 0,
              "model_id": "397ec3f9e15940d59051bd8845f55dde"
            }
          },
          "metadata": {}
        },
        {
          "output_type": "stream",
          "name": "stdout",
          "text": [
            "saving model with acc 0.438\n[ Valid | 032/200 ]  loss = 1.69977, acc = 0.43750\n"
          ]
        },
        {
          "output_type": "display_data",
          "data": {
            "text/plain": "Train:   0%|          | 0/24 [00:00<?, ?it/s]",
            "application/vnd.jupyter.widget-view+json": {
              "version_major": 2,
              "version_minor": 0,
              "model_id": "6ecec2037c7f41369b3d51cfc33f81b6"
            }
          },
          "metadata": {}
        },
        {
          "output_type": "stream",
          "name": "stdout",
          "text": [
            "[ Train | 033/200 ] loss = 1.81497, acc = 0.36556\n"
          ]
        },
        {
          "output_type": "display_data",
          "data": {
            "text/plain": "Valid:   0%|          | 0/6 [00:00<?, ?it/s]",
            "application/vnd.jupyter.widget-view+json": {
              "version_major": 2,
              "version_minor": 0,
              "model_id": "4cb0914c242448cfb5d4398749c13e30"
            }
          },
          "metadata": {}
        },
        {
          "output_type": "stream",
          "name": "stdout",
          "text": [
            "[ Valid | 033/200 ]  loss = 1.73136, acc = 0.41693\n"
          ]
        },
        {
          "output_type": "display_data",
          "data": {
            "text/plain": "Train:   0%|          | 0/24 [00:00<?, ?it/s]",
            "application/vnd.jupyter.widget-view+json": {
              "version_major": 2,
              "version_minor": 0,
              "model_id": "9bf643819fb8440a8a1d3466355fb730"
            }
          },
          "metadata": {}
        },
        {
          "output_type": "stream",
          "name": "stdout",
          "text": [
            "[ Train | 034/200 ] loss = 1.80893, acc = 0.36230\n"
          ]
        },
        {
          "output_type": "display_data",
          "data": {
            "text/plain": "Valid:   0%|          | 0/6 [00:00<?, ?it/s]",
            "application/vnd.jupyter.widget-view+json": {
              "version_major": 2,
              "version_minor": 0,
              "model_id": "05e40de8d60c4afbbe41774dcd95f6ac"
            }
          },
          "metadata": {}
        },
        {
          "output_type": "stream",
          "name": "stdout",
          "text": [
            "[ Valid | 034/200 ]  loss = 1.75819, acc = 0.42188\n"
          ]
        },
        {
          "output_type": "display_data",
          "data": {
            "text/plain": "Train:   0%|          | 0/24 [00:00<?, ?it/s]",
            "application/vnd.jupyter.widget-view+json": {
              "version_major": 2,
              "version_minor": 0,
              "model_id": "9a8ba0ea31d34f3eb5c42584b42eba7a"
            }
          },
          "metadata": {}
        },
        {
          "output_type": "stream",
          "name": "stdout",
          "text": [
            "[ Train | 035/200 ] loss = 1.82903, acc = 0.34538\n"
          ]
        },
        {
          "output_type": "display_data",
          "data": {
            "text/plain": "Valid:   0%|          | 0/6 [00:00<?, ?it/s]",
            "application/vnd.jupyter.widget-view+json": {
              "version_major": 2,
              "version_minor": 0,
              "model_id": "cfc05ba672c943af965377ef7791ebbb"
            }
          },
          "metadata": {}
        },
        {
          "output_type": "stream",
          "name": "stdout",
          "text": [
            "[ Valid | 035/200 ]  loss = 1.79833, acc = 0.34896\n"
          ]
        },
        {
          "output_type": "display_data",
          "data": {
            "text/plain": "Train:   0%|          | 0/24 [00:00<?, ?it/s]",
            "application/vnd.jupyter.widget-view+json": {
              "version_major": 2,
              "version_minor": 0,
              "model_id": "0b15b277936c43e7a2e00f8f2d06bc82"
            }
          },
          "metadata": {}
        },
        {
          "output_type": "stream",
          "name": "stdout",
          "text": [
            "[ Train | 036/200 ] loss = 1.81789, acc = 0.35645\n"
          ]
        },
        {
          "output_type": "display_data",
          "data": {
            "text/plain": "Valid:   0%|          | 0/6 [00:00<?, ?it/s]",
            "application/vnd.jupyter.widget-view+json": {
              "version_major": 2,
              "version_minor": 0,
              "model_id": "e098814eca024f5f9896f3f3596a6e3b"
            }
          },
          "metadata": {}
        },
        {
          "output_type": "stream",
          "name": "stdout",
          "text": [
            "saving model with acc 0.444\n[ Valid | 036/200 ]  loss = 1.72159, acc = 0.44401\n"
          ]
        },
        {
          "output_type": "display_data",
          "data": {
            "text/plain": "Train:   0%|          | 0/24 [00:00<?, ?it/s]",
            "application/vnd.jupyter.widget-view+json": {
              "version_major": 2,
              "version_minor": 0,
              "model_id": "09c45de768ad44858ec7314556f6fa37"
            }
          },
          "metadata": {}
        },
        {
          "output_type": "stream",
          "name": "stdout",
          "text": [
            "[ Train | 037/200 ] loss = 1.80820, acc = 0.35645\n"
          ]
        },
        {
          "output_type": "display_data",
          "data": {
            "text/plain": "Valid:   0%|          | 0/6 [00:00<?, ?it/s]",
            "application/vnd.jupyter.widget-view+json": {
              "version_major": 2,
              "version_minor": 0,
              "model_id": "568eaa3f956144b296fa502b76de2bcd"
            }
          },
          "metadata": {}
        },
        {
          "output_type": "stream",
          "name": "stdout",
          "text": [
            "saving model with acc 0.453\n[ Valid | 037/200 ]  loss = 1.68149, acc = 0.45286\n"
          ]
        },
        {
          "output_type": "display_data",
          "data": {
            "text/plain": "Train:   0%|          | 0/24 [00:00<?, ?it/s]",
            "application/vnd.jupyter.widget-view+json": {
              "version_major": 2,
              "version_minor": 0,
              "model_id": "3f3222b4c5ea4c05afb0c632e6dbce91"
            }
          },
          "metadata": {}
        },
        {
          "output_type": "stream",
          "name": "stdout",
          "text": [
            "[ Train | 038/200 ] loss = 1.80531, acc = 0.36621\n"
          ]
        },
        {
          "output_type": "display_data",
          "data": {
            "text/plain": "Valid:   0%|          | 0/6 [00:00<?, ?it/s]",
            "application/vnd.jupyter.widget-view+json": {
              "version_major": 2,
              "version_minor": 0,
              "model_id": "98619d1e29e345eeb9a3728f96340c42"
            }
          },
          "metadata": {}
        },
        {
          "output_type": "stream",
          "name": "stdout",
          "text": [
            "[ Valid | 038/200 ]  loss = 1.63152, acc = 0.42031\n"
          ]
        },
        {
          "output_type": "display_data",
          "data": {
            "text/plain": "Train:   0%|          | 0/24 [00:00<?, ?it/s]",
            "application/vnd.jupyter.widget-view+json": {
              "version_major": 2,
              "version_minor": 0,
              "model_id": "3964d1004ea04b64bc9e00cc54891da7"
            }
          },
          "metadata": {}
        },
        {
          "output_type": "stream",
          "name": "stdout",
          "text": [
            "[ Train | 039/200 ] loss = 1.81169, acc = 0.35026\n"
          ]
        },
        {
          "output_type": "display_data",
          "data": {
            "text/plain": "Valid:   0%|          | 0/6 [00:00<?, ?it/s]",
            "application/vnd.jupyter.widget-view+json": {
              "version_major": 2,
              "version_minor": 0,
              "model_id": "297437d98b8f4f91855bedcc9f06f7cd"
            }
          },
          "metadata": {}
        },
        {
          "output_type": "stream",
          "name": "stdout",
          "text": [
            "[ Valid | 039/200 ]  loss = 1.67289, acc = 0.40391\n"
          ]
        },
        {
          "output_type": "display_data",
          "data": {
            "text/plain": "Train:   0%|          | 0/24 [00:00<?, ?it/s]",
            "application/vnd.jupyter.widget-view+json": {
              "version_major": 2,
              "version_minor": 0,
              "model_id": "d9975fe137194a82866ef68b94dcb66e"
            }
          },
          "metadata": {}
        },
        {
          "output_type": "stream",
          "name": "stdout",
          "text": [
            "[ Train | 040/200 ] loss = 1.79449, acc = 0.36589\n"
          ]
        },
        {
          "output_type": "display_data",
          "data": {
            "text/plain": "Valid:   0%|          | 0/6 [00:00<?, ?it/s]",
            "application/vnd.jupyter.widget-view+json": {
              "version_major": 2,
              "version_minor": 0,
              "model_id": "7b6a310cd592407d8075c7a80f7843ba"
            }
          },
          "metadata": {}
        },
        {
          "output_type": "stream",
          "name": "stdout",
          "text": [
            "[ Valid | 040/200 ]  loss = 1.73123, acc = 0.40990\n"
          ]
        },
        {
          "output_type": "display_data",
          "data": {
            "text/plain": "Train:   0%|          | 0/24 [00:00<?, ?it/s]",
            "application/vnd.jupyter.widget-view+json": {
              "version_major": 2,
              "version_minor": 0,
              "model_id": "84e49d261d62418bae1859818f5d9edc"
            }
          },
          "metadata": {}
        },
        {
          "output_type": "stream",
          "name": "stdout",
          "text": [
            "[ Train | 041/200 ] loss = 1.78375, acc = 0.37598\n"
          ]
        },
        {
          "output_type": "display_data",
          "data": {
            "text/plain": "Valid:   0%|          | 0/6 [00:00<?, ?it/s]",
            "application/vnd.jupyter.widget-view+json": {
              "version_major": 2,
              "version_minor": 0,
              "model_id": "836259ddf90949a892264d2539085858"
            }
          },
          "metadata": {}
        },
        {
          "output_type": "stream",
          "name": "stdout",
          "text": [
            "[ Valid | 041/200 ]  loss = 1.73485, acc = 0.38984\n"
          ]
        },
        {
          "output_type": "display_data",
          "data": {
            "text/plain": "Train:   0%|          | 0/24 [00:00<?, ?it/s]",
            "application/vnd.jupyter.widget-view+json": {
              "version_major": 2,
              "version_minor": 0,
              "model_id": "4ca609f91a204c49a9b38c8dde9c42f3"
            }
          },
          "metadata": {}
        },
        {
          "output_type": "stream",
          "name": "stdout",
          "text": [
            "[ Train | 042/200 ] loss = 1.78709, acc = 0.37500\n"
          ]
        },
        {
          "output_type": "display_data",
          "data": {
            "text/plain": "Valid:   0%|          | 0/6 [00:00<?, ?it/s]",
            "application/vnd.jupyter.widget-view+json": {
              "version_major": 2,
              "version_minor": 0,
              "model_id": "d3200d97b4164568b6a37242b12ede2b"
            }
          },
          "metadata": {}
        },
        {
          "output_type": "stream",
          "name": "stdout",
          "text": [
            "[ Valid | 042/200 ]  loss = 1.63602, acc = 0.43984\n"
          ]
        },
        {
          "output_type": "display_data",
          "data": {
            "text/plain": "Train:   0%|          | 0/24 [00:00<?, ?it/s]",
            "application/vnd.jupyter.widget-view+json": {
              "version_major": 2,
              "version_minor": 0,
              "model_id": "2df135a0a74c4d42844fd8479c7c534e"
            }
          },
          "metadata": {}
        },
        {
          "output_type": "stream",
          "name": "stdout",
          "text": [
            "[ Train | 043/200 ] loss = 1.79713, acc = 0.36556\n"
          ]
        },
        {
          "output_type": "display_data",
          "data": {
            "text/plain": "Valid:   0%|          | 0/6 [00:00<?, ?it/s]",
            "application/vnd.jupyter.widget-view+json": {
              "version_major": 2,
              "version_minor": 0,
              "model_id": "6c190c0e7f0343d387861ef9a5318d85"
            }
          },
          "metadata": {}
        },
        {
          "output_type": "stream",
          "name": "stdout",
          "text": [
            "[ Valid | 043/200 ]  loss = 1.66369, acc = 0.42604\n"
          ]
        },
        {
          "output_type": "display_data",
          "data": {
            "text/plain": "Train:   0%|          | 0/24 [00:00<?, ?it/s]",
            "application/vnd.jupyter.widget-view+json": {
              "version_major": 2,
              "version_minor": 0,
              "model_id": "b53d7ba403ec41adae43b447e1f61446"
            }
          },
          "metadata": {}
        },
        {
          "output_type": "stream",
          "name": "stdout",
          "text": [
            "[ Train | 044/200 ] loss = 1.77348, acc = 0.37305\n"
          ]
        },
        {
          "output_type": "display_data",
          "data": {
            "text/plain": "Valid:   0%|          | 0/6 [00:00<?, ?it/s]",
            "application/vnd.jupyter.widget-view+json": {
              "version_major": 2,
              "version_minor": 0,
              "model_id": "ce9facee24fa4e149ef11f421e6de4ff"
            }
          },
          "metadata": {}
        },
        {
          "output_type": "stream",
          "name": "stdout",
          "text": [
            "[ Valid | 044/200 ]  loss = 1.71602, acc = 0.40703\nEpoch    44: reducing learning rate of group 0 to 1.2500e-04.\n"
          ]
        },
        {
          "output_type": "display_data",
          "data": {
            "text/plain": "Train:   0%|          | 0/24 [00:00<?, ?it/s]",
            "application/vnd.jupyter.widget-view+json": {
              "version_major": 2,
              "version_minor": 0,
              "model_id": "ebf3dbd3ee39460b8d430dee1b1f61de"
            }
          },
          "metadata": {}
        },
        {
          "output_type": "stream",
          "name": "stdout",
          "text": [
            "[ Train | 045/200 ] loss = 1.76549, acc = 0.37760\n"
          ]
        },
        {
          "output_type": "display_data",
          "data": {
            "text/plain": "Valid:   0%|          | 0/6 [00:00<?, ?it/s]",
            "application/vnd.jupyter.widget-view+json": {
              "version_major": 2,
              "version_minor": 0,
              "model_id": "5351f17804c040e0be062fea9969752f"
            }
          },
          "metadata": {}
        },
        {
          "output_type": "stream",
          "name": "stdout",
          "text": [
            "saving model with acc 0.454\n[ Valid | 045/200 ]  loss = 1.70048, acc = 0.45443\n"
          ]
        },
        {
          "output_type": "display_data",
          "data": {
            "text/plain": "Train:   0%|          | 0/24 [00:00<?, ?it/s]",
            "application/vnd.jupyter.widget-view+json": {
              "version_major": 2,
              "version_minor": 0,
              "model_id": "b9844bd3f3bb41e29744deef450ff069"
            }
          },
          "metadata": {}
        },
        {
          "output_type": "stream",
          "name": "stdout",
          "text": [
            "[ Train | 046/200 ] loss = 1.73797, acc = 0.39225\n"
          ]
        },
        {
          "output_type": "display_data",
          "data": {
            "text/plain": "Valid:   0%|          | 0/6 [00:00<?, ?it/s]",
            "application/vnd.jupyter.widget-view+json": {
              "version_major": 2,
              "version_minor": 0,
              "model_id": "13a6f24e31f54f609e75b756edfbbd24"
            }
          },
          "metadata": {}
        },
        {
          "output_type": "stream",
          "name": "stdout",
          "text": [
            "saving model with acc 0.468\n[ Valid | 046/200 ]  loss = 1.57395, acc = 0.46849\n"
          ]
        },
        {
          "output_type": "display_data",
          "data": {
            "text/plain": "Train:   0%|          | 0/24 [00:00<?, ?it/s]",
            "application/vnd.jupyter.widget-view+json": {
              "version_major": 2,
              "version_minor": 0,
              "model_id": "81fc50f285c946d88fc8330df5c31541"
            }
          },
          "metadata": {}
        },
        {
          "output_type": "stream",
          "name": "stdout",
          "text": [
            "[ Train | 047/200 ] loss = 1.73040, acc = 0.39681\n"
          ]
        },
        {
          "output_type": "display_data",
          "data": {
            "text/plain": "Valid:   0%|          | 0/6 [00:00<?, ?it/s]",
            "application/vnd.jupyter.widget-view+json": {
              "version_major": 2,
              "version_minor": 0,
              "model_id": "c994ed56485e4585b45c523d09cb464f"
            }
          },
          "metadata": {}
        },
        {
          "output_type": "stream",
          "name": "stdout",
          "text": [
            "[ Valid | 047/200 ]  loss = 1.62369, acc = 0.44401\n"
          ]
        },
        {
          "output_type": "display_data",
          "data": {
            "text/plain": "Train:   0%|          | 0/24 [00:00<?, ?it/s]",
            "application/vnd.jupyter.widget-view+json": {
              "version_major": 2,
              "version_minor": 0,
              "model_id": "e87db9e8fa1f46e6b73c28e55653c9e6"
            }
          },
          "metadata": {}
        },
        {
          "output_type": "stream",
          "name": "stdout",
          "text": [
            "[ Train | 048/200 ] loss = 1.72791, acc = 0.38379\n"
          ]
        },
        {
          "output_type": "display_data",
          "data": {
            "text/plain": "Valid:   0%|          | 0/6 [00:00<?, ?it/s]",
            "application/vnd.jupyter.widget-view+json": {
              "version_major": 2,
              "version_minor": 0,
              "model_id": "d58e50270dd94cd5913362b5b3f3a191"
            }
          },
          "metadata": {}
        },
        {
          "output_type": "stream",
          "name": "stdout",
          "text": [
            "[ Valid | 048/200 ]  loss = 1.66751, acc = 0.43646\n"
          ]
        },
        {
          "output_type": "display_data",
          "data": {
            "text/plain": "Train:   0%|          | 0/24 [00:00<?, ?it/s]",
            "application/vnd.jupyter.widget-view+json": {
              "version_major": 2,
              "version_minor": 0,
              "model_id": "123d0254bcc845a7b817991ad7ec1db0"
            }
          },
          "metadata": {}
        },
        {
          "output_type": "stream",
          "name": "stdout",
          "text": [
            "[ Train | 049/200 ] loss = 1.73392, acc = 0.38379\n"
          ]
        },
        {
          "output_type": "display_data",
          "data": {
            "text/plain": "Valid:   0%|          | 0/6 [00:00<?, ?it/s]",
            "application/vnd.jupyter.widget-view+json": {
              "version_major": 2,
              "version_minor": 0,
              "model_id": "23a6cc5ad1414885b004ce777f47669f"
            }
          },
          "metadata": {}
        },
        {
          "output_type": "stream",
          "name": "stdout",
          "text": [
            "[ Valid | 049/200 ]  loss = 1.58684, acc = 0.44115\n"
          ]
        },
        {
          "output_type": "display_data",
          "data": {
            "text/plain": "Train:   0%|          | 0/24 [00:00<?, ?it/s]",
            "application/vnd.jupyter.widget-view+json": {
              "version_major": 2,
              "version_minor": 0,
              "model_id": "7b56a3f996be4577b63301f3999c8a93"
            }
          },
          "metadata": {}
        },
        {
          "output_type": "stream",
          "name": "stdout",
          "text": [
            "[ Train | 050/200 ] loss = 1.73019, acc = 0.38835\n"
          ]
        },
        {
          "output_type": "display_data",
          "data": {
            "text/plain": "Valid:   0%|          | 0/6 [00:00<?, ?it/s]",
            "application/vnd.jupyter.widget-view+json": {
              "version_major": 2,
              "version_minor": 0,
              "model_id": "1bda344f93fa4379a8df37ec82854ee7"
            }
          },
          "metadata": {}
        },
        {
          "output_type": "stream",
          "name": "stdout",
          "text": [
            "[ Valid | 050/200 ]  loss = 1.64891, acc = 0.44245\n"
          ]
        },
        {
          "output_type": "display_data",
          "data": {
            "text/plain": "CLR:   0%|          | 0/106 [00:00<?, ?it/s]",
            "application/vnd.jupyter.widget-view+json": {
              "version_major": 2,
              "version_minor": 0,
              "model_id": "0464837038ab4a34a50933e0562832c3"
            }
          },
          "metadata": {}
        },
        {
          "output_type": "stream",
          "name": "stdout",
          "text": [
            "[ CLR   | 051/200 ] loss = 1299.57213, diag = 733.04, offdiag = 566.54\n"
          ]
        },
        {
          "output_type": "display_data",
          "data": {
            "text/plain": "Valid:   0%|          | 0/6 [00:00<?, ?it/s]",
            "application/vnd.jupyter.widget-view+json": {
              "version_major": 2,
              "version_minor": 0,
              "model_id": "d2615e149c5b44e099d2bad142ad47fa"
            }
          },
          "metadata": {}
        },
        {
          "output_type": "stream",
          "name": "stdout",
          "text": [
            "[ Valid | 051/200 ]  loss = 2.05946, acc = 0.37734\n"
          ]
        },
        {
          "output_type": "display_data",
          "data": {
            "text/plain": "CLR:   0%|          | 0/106 [00:00<?, ?it/s]",
            "application/vnd.jupyter.widget-view+json": {
              "version_major": 2,
              "version_minor": 0,
              "model_id": "e0482ce6106342b3bb125c91328ac6cd"
            }
          },
          "metadata": {}
        },
        {
          "output_type": "stream",
          "name": "stdout",
          "text": [
            "[ CLR   | 052/200 ] loss = 1152.45454, diag = 566.86, offdiag = 585.59\n"
          ]
        },
        {
          "output_type": "display_data",
          "data": {
            "text/plain": "Valid:   0%|          | 0/6 [00:00<?, ?it/s]",
            "application/vnd.jupyter.widget-view+json": {
              "version_major": 2,
              "version_minor": 0,
              "model_id": "9137ca06292945459b769dc0c5fbc3f0"
            }
          },
          "metadata": {}
        },
        {
          "output_type": "stream",
          "name": "stdout",
          "text": [
            "[ Valid | 052/200 ]  loss = 2.15668, acc = 0.30911\n"
          ]
        },
        {
          "output_type": "display_data",
          "data": {
            "text/plain": "CLR:   0%|          | 0/106 [00:00<?, ?it/s]",
            "application/vnd.jupyter.widget-view+json": {
              "version_major": 2,
              "version_minor": 0,
              "model_id": "c27dd0af411f4311b6d3167047d67080"
            }
          },
          "metadata": {}
        },
        {
          "output_type": "stream",
          "name": "stdout",
          "text": [
            "[ CLR   | 053/200 ] loss = 1124.44308, diag = 575.96, offdiag = 548.48\n"
          ]
        },
        {
          "output_type": "display_data",
          "data": {
            "text/plain": "Valid:   0%|          | 0/6 [00:00<?, ?it/s]",
            "application/vnd.jupyter.widget-view+json": {
              "version_major": 2,
              "version_minor": 0,
              "model_id": "ef86b0db9e9148519cb82b7511b7ba85"
            }
          },
          "metadata": {}
        },
        {
          "output_type": "stream",
          "name": "stdout",
          "text": [
            "[ Valid | 053/200 ]  loss = 2.09657, acc = 0.33906\n"
          ]
        },
        {
          "output_type": "display_data",
          "data": {
            "text/plain": "CLR:   0%|          | 0/106 [00:00<?, ?it/s]",
            "application/vnd.jupyter.widget-view+json": {
              "version_major": 2,
              "version_minor": 0,
              "model_id": "ceae7f1048e24e86937a515de2a6ae17"
            }
          },
          "metadata": {}
        },
        {
          "output_type": "stream",
          "name": "stdout",
          "text": [
            "[ CLR   | 054/200 ] loss = 1074.09199, diag = 570.45, offdiag = 503.64\n"
          ]
        },
        {
          "output_type": "display_data",
          "data": {
            "text/plain": "Valid:   0%|          | 0/6 [00:00<?, ?it/s]",
            "application/vnd.jupyter.widget-view+json": {
              "version_major": 2,
              "version_minor": 0,
              "model_id": "e4564f057a2244a48166eda868b864ce"
            }
          },
          "metadata": {}
        },
        {
          "output_type": "stream",
          "name": "stdout",
          "text": [
            "[ Valid | 054/200 ]  loss = 2.04260, acc = 0.34167\n"
          ]
        },
        {
          "output_type": "display_data",
          "data": {
            "text/plain": "CLR:   0%|          | 0/106 [00:00<?, ?it/s]",
            "application/vnd.jupyter.widget-view+json": {
              "version_major": 2,
              "version_minor": 0,
              "model_id": "f3b2444d819042c3a8e565b7d0651c0d"
            }
          },
          "metadata": {}
        },
        {
          "output_type": "stream",
          "name": "stdout",
          "text": [
            "[ CLR   | 055/200 ] loss = 1044.66660, diag = 553.05, offdiag = 491.61\n"
          ]
        },
        {
          "output_type": "display_data",
          "data": {
            "text/plain": "Valid:   0%|          | 0/6 [00:00<?, ?it/s]",
            "application/vnd.jupyter.widget-view+json": {
              "version_major": 2,
              "version_minor": 0,
              "model_id": "a7b2273f81d04bcf84e49a0a9a358ef9"
            }
          },
          "metadata": {}
        },
        {
          "output_type": "stream",
          "name": "stdout",
          "text": [
            "[ Valid | 055/200 ]  loss = 2.05816, acc = 0.29505\n"
          ]
        },
        {
          "output_type": "display_data",
          "data": {
            "text/plain": "CLR:   0%|          | 0/106 [00:00<?, ?it/s]",
            "application/vnd.jupyter.widget-view+json": {
              "version_major": 2,
              "version_minor": 0,
              "model_id": "d3f1ac33dae14647968bd914ad521d4f"
            }
          },
          "metadata": {}
        },
        {
          "output_type": "stream",
          "name": "stdout",
          "text": [
            "[ CLR   | 056/200 ] loss = 1031.50400, diag = 553.90, offdiag = 477.60\n"
          ]
        },
        {
          "output_type": "display_data",
          "data": {
            "text/plain": "Valid:   0%|          | 0/6 [00:00<?, ?it/s]",
            "application/vnd.jupyter.widget-view+json": {
              "version_major": 2,
              "version_minor": 0,
              "model_id": "ce1afa755ec14871836c7f882106d1d6"
            }
          },
          "metadata": {}
        },
        {
          "output_type": "stream",
          "name": "stdout",
          "text": [
            "[ Valid | 056/200 ]  loss = 2.00430, acc = 0.33177\n"
          ]
        },
        {
          "output_type": "display_data",
          "data": {
            "text/plain": "CLR:   0%|          | 0/106 [00:00<?, ?it/s]",
            "application/vnd.jupyter.widget-view+json": {
              "version_major": 2,
              "version_minor": 0,
              "model_id": "3876b030c6454d48aabda33d0c42da08"
            }
          },
          "metadata": {}
        },
        {
          "output_type": "stream",
          "name": "stdout",
          "text": [
            "[ CLR   | 057/200 ] loss = 1000.25784, diag = 526.69, offdiag = 473.57\n"
          ]
        },
        {
          "output_type": "display_data",
          "data": {
            "text/plain": "Valid:   0%|          | 0/6 [00:00<?, ?it/s]",
            "application/vnd.jupyter.widget-view+json": {
              "version_major": 2,
              "version_minor": 0,
              "model_id": "38973e00c5a741aaa82e9c146d6915da"
            }
          },
          "metadata": {}
        },
        {
          "output_type": "stream",
          "name": "stdout",
          "text": [
            "[ Valid | 057/200 ]  loss = 2.09278, acc = 0.30026\n"
          ]
        },
        {
          "output_type": "display_data",
          "data": {
            "text/plain": "CLR:   0%|          | 0/106 [00:00<?, ?it/s]",
            "application/vnd.jupyter.widget-view+json": {
              "version_major": 2,
              "version_minor": 0,
              "model_id": "bfc2a9cd5e284d7da3a273ea5915b813"
            }
          },
          "metadata": {}
        },
        {
          "output_type": "stream",
          "name": "stdout",
          "text": [
            "[ CLR   | 058/200 ] loss = 997.62654, diag = 534.06, offdiag = 463.57\n"
          ]
        },
        {
          "output_type": "display_data",
          "data": {
            "text/plain": "Valid:   0%|          | 0/6 [00:00<?, ?it/s]",
            "application/vnd.jupyter.widget-view+json": {
              "version_major": 2,
              "version_minor": 0,
              "model_id": "ad10c7eb6b0746e8b1413887b66e353a"
            }
          },
          "metadata": {}
        },
        {
          "output_type": "stream",
          "name": "stdout",
          "text": [
            "[ Valid | 058/200 ]  loss = 2.04326, acc = 0.29818\n"
          ]
        },
        {
          "output_type": "display_data",
          "data": {
            "text/plain": "CLR:   0%|          | 0/106 [00:00<?, ?it/s]",
            "application/vnd.jupyter.widget-view+json": {
              "version_major": 2,
              "version_minor": 0,
              "model_id": "c4881c8e2a844813b2b1f93fbfcbd50d"
            }
          },
          "metadata": {}
        },
        {
          "output_type": "stream",
          "name": "stdout",
          "text": [
            "[ CLR   | 059/200 ] loss = 974.01709, diag = 518.03, offdiag = 455.99\n"
          ]
        },
        {
          "output_type": "display_data",
          "data": {
            "text/plain": "Valid:   0%|          | 0/6 [00:00<?, ?it/s]",
            "application/vnd.jupyter.widget-view+json": {
              "version_major": 2,
              "version_minor": 0,
              "model_id": "8e9f0704fe454369ace89a33c7688802"
            }
          },
          "metadata": {}
        },
        {
          "output_type": "stream",
          "name": "stdout",
          "text": [
            "[ Valid | 059/200 ]  loss = 1.99155, acc = 0.32786\n"
          ]
        },
        {
          "output_type": "display_data",
          "data": {
            "text/plain": "CLR:   0%|          | 0/106 [00:00<?, ?it/s]",
            "application/vnd.jupyter.widget-view+json": {
              "version_major": 2,
              "version_minor": 0,
              "model_id": "332496f696e845efaaeff1e32f45b9fa"
            }
          },
          "metadata": {}
        },
        {
          "output_type": "stream",
          "name": "stdout",
          "text": [
            "[ CLR   | 060/200 ] loss = 972.64100, diag = 522.02, offdiag = 450.62\n"
          ]
        },
        {
          "output_type": "display_data",
          "data": {
            "text/plain": "Valid:   0%|          | 0/6 [00:00<?, ?it/s]",
            "application/vnd.jupyter.widget-view+json": {
              "version_major": 2,
              "version_minor": 0,
              "model_id": "d25f7aab5dec45d3b316e7fd6b5152e3"
            }
          },
          "metadata": {}
        },
        {
          "output_type": "stream",
          "name": "stdout",
          "text": [
            "[ Valid | 060/200 ]  loss = 2.00844, acc = 0.33594\n"
          ]
        },
        {
          "output_type": "display_data",
          "data": {
            "text/plain": "CLR:   0%|          | 0/106 [00:00<?, ?it/s]",
            "application/vnd.jupyter.widget-view+json": {
              "version_major": 2,
              "version_minor": 0,
              "model_id": "d0a9d7eaf00b49c889460ac2156d3953"
            }
          },
          "metadata": {}
        },
        {
          "output_type": "stream",
          "name": "stdout",
          "text": [
            "[ CLR   | 061/200 ] loss = 953.84502, diag = 511.45, offdiag = 442.40\n"
          ]
        },
        {
          "output_type": "display_data",
          "data": {
            "text/plain": "Valid:   0%|          | 0/6 [00:00<?, ?it/s]",
            "application/vnd.jupyter.widget-view+json": {
              "version_major": 2,
              "version_minor": 0,
              "model_id": "7382f8dd5e02468a8786606bacb321a5"
            }
          },
          "metadata": {}
        },
        {
          "output_type": "stream",
          "name": "stdout",
          "text": [
            "[ Valid | 061/200 ]  loss = 2.00264, acc = 0.34479\n"
          ]
        },
        {
          "output_type": "display_data",
          "data": {
            "text/plain": "CLR:   0%|          | 0/106 [00:00<?, ?it/s]",
            "application/vnd.jupyter.widget-view+json": {
              "version_major": 2,
              "version_minor": 0,
              "model_id": "f0559300beae46ea83aa2103e1dc56e4"
            }
          },
          "metadata": {}
        },
        {
          "output_type": "stream",
          "name": "stdout",
          "text": [
            "[ CLR   | 062/200 ] loss = 940.91424, diag = 508.00, offdiag = 432.92\n"
          ]
        },
        {
          "output_type": "display_data",
          "data": {
            "text/plain": "Valid:   0%|          | 0/6 [00:00<?, ?it/s]",
            "application/vnd.jupyter.widget-view+json": {
              "version_major": 2,
              "version_minor": 0,
              "model_id": "c28ff3803c59497d8fff67ecb03216a9"
            }
          },
          "metadata": {}
        },
        {
          "output_type": "stream",
          "name": "stdout",
          "text": [
            "[ Valid | 062/200 ]  loss = 1.92762, acc = 0.34453\n"
          ]
        },
        {
          "output_type": "display_data",
          "data": {
            "text/plain": "CLR:   0%|          | 0/106 [00:00<?, ?it/s]",
            "application/vnd.jupyter.widget-view+json": {
              "version_major": 2,
              "version_minor": 0,
              "model_id": "04845f7882ca4772968f37fcd8eb62e5"
            }
          },
          "metadata": {}
        },
        {
          "output_type": "stream",
          "name": "stdout",
          "text": [
            "[ CLR   | 063/200 ] loss = 932.12771, diag = 508.49, offdiag = 423.64\n"
          ]
        },
        {
          "output_type": "display_data",
          "data": {
            "text/plain": "Valid:   0%|          | 0/6 [00:00<?, ?it/s]",
            "application/vnd.jupyter.widget-view+json": {
              "version_major": 2,
              "version_minor": 0,
              "model_id": "c4fde795e29a47edb89d914da0edf268"
            }
          },
          "metadata": {}
        },
        {
          "output_type": "stream",
          "name": "stdout",
          "text": [
            "[ Valid | 063/200 ]  loss = 1.98035, acc = 0.33646\n"
          ]
        },
        {
          "output_type": "display_data",
          "data": {
            "text/plain": "CLR:   0%|          | 0/106 [00:00<?, ?it/s]",
            "application/vnd.jupyter.widget-view+json": {
              "version_major": 2,
              "version_minor": 0,
              "model_id": "bb607dd9ef494b049752bd2cc0eb6163"
            }
          },
          "metadata": {}
        },
        {
          "output_type": "stream",
          "name": "stdout",
          "text": [
            "[ CLR   | 064/200 ] loss = 915.62306, diag = 494.22, offdiag = 421.41\n"
          ]
        },
        {
          "output_type": "display_data",
          "data": {
            "text/plain": "Valid:   0%|          | 0/6 [00:00<?, ?it/s]",
            "application/vnd.jupyter.widget-view+json": {
              "version_major": 2,
              "version_minor": 0,
              "model_id": "0a930608cbac4153889b687f92a32e49"
            }
          },
          "metadata": {}
        },
        {
          "output_type": "stream",
          "name": "stdout",
          "text": [
            "[ Valid | 064/200 ]  loss = 2.01016, acc = 0.33750\n"
          ]
        },
        {
          "output_type": "display_data",
          "data": {
            "text/plain": "CLR:   0%|          | 0/106 [00:00<?, ?it/s]",
            "application/vnd.jupyter.widget-view+json": {
              "version_major": 2,
              "version_minor": 0,
              "model_id": "902fde00ba00492d89f46a11c49ac57d"
            }
          },
          "metadata": {}
        },
        {
          "output_type": "stream",
          "name": "stdout",
          "text": [
            "[ CLR   | 065/200 ] loss = 930.58063, diag = 514.36, offdiag = 416.22\n"
          ]
        },
        {
          "output_type": "display_data",
          "data": {
            "text/plain": "Valid:   0%|          | 0/6 [00:00<?, ?it/s]",
            "application/vnd.jupyter.widget-view+json": {
              "version_major": 2,
              "version_minor": 0,
              "model_id": "c8508e8268ca4976ade2496bd509977e"
            }
          },
          "metadata": {}
        },
        {
          "output_type": "stream",
          "name": "stdout",
          "text": [
            "[ Valid | 065/200 ]  loss = 1.84480, acc = 0.36432\n"
          ]
        },
        {
          "output_type": "display_data",
          "data": {
            "text/plain": "CLR:   0%|          | 0/106 [00:00<?, ?it/s]",
            "application/vnd.jupyter.widget-view+json": {
              "version_major": 2,
              "version_minor": 0,
              "model_id": "b8eaf8fcd3d94b6e898cf80674f60662"
            }
          },
          "metadata": {}
        },
        {
          "output_type": "stream",
          "name": "stdout",
          "text": [
            "[ CLR   | 066/200 ] loss = 901.73420, diag = 488.20, offdiag = 413.53\n"
          ]
        },
        {
          "output_type": "display_data",
          "data": {
            "text/plain": "Valid:   0%|          | 0/6 [00:00<?, ?it/s]",
            "application/vnd.jupyter.widget-view+json": {
              "version_major": 2,
              "version_minor": 0,
              "model_id": "a27523e1707440158adc3a59a4b8027b"
            }
          },
          "metadata": {}
        },
        {
          "output_type": "stream",
          "name": "stdout",
          "text": [
            "[ Valid | 066/200 ]  loss = 2.02405, acc = 0.29635\n"
          ]
        },
        {
          "output_type": "display_data",
          "data": {
            "text/plain": "CLR:   0%|          | 0/106 [00:00<?, ?it/s]",
            "application/vnd.jupyter.widget-view+json": {
              "version_major": 2,
              "version_minor": 0,
              "model_id": "bb604f80a8aa433abb6432047aefe93c"
            }
          },
          "metadata": {}
        },
        {
          "output_type": "stream",
          "name": "stdout",
          "text": [
            "[ CLR   | 067/200 ] loss = 893.89436, diag = 480.90, offdiag = 413.00\n"
          ]
        },
        {
          "output_type": "display_data",
          "data": {
            "text/plain": "Valid:   0%|          | 0/6 [00:00<?, ?it/s]",
            "application/vnd.jupyter.widget-view+json": {
              "version_major": 2,
              "version_minor": 0,
              "model_id": "7ba2d4656b9f44ab8835e8014db85071"
            }
          },
          "metadata": {}
        },
        {
          "output_type": "stream",
          "name": "stdout",
          "text": [
            "[ Valid | 067/200 ]  loss = 2.00840, acc = 0.31901\n"
          ]
        },
        {
          "output_type": "display_data",
          "data": {
            "text/plain": "CLR:   0%|          | 0/106 [00:00<?, ?it/s]",
            "application/vnd.jupyter.widget-view+json": {
              "version_major": 2,
              "version_minor": 0,
              "model_id": "14a58f464e1a42988093ed64454c0391"
            }
          },
          "metadata": {}
        },
        {
          "output_type": "stream",
          "name": "stdout",
          "text": [
            "[ CLR   | 068/200 ] loss = 885.93114, diag = 483.36, offdiag = 402.57\n"
          ]
        },
        {
          "output_type": "display_data",
          "data": {
            "text/plain": "Valid:   0%|          | 0/6 [00:00<?, ?it/s]",
            "application/vnd.jupyter.widget-view+json": {
              "version_major": 2,
              "version_minor": 0,
              "model_id": "aaa9c39495a34c10b0de41155a695503"
            }
          },
          "metadata": {}
        },
        {
          "output_type": "stream",
          "name": "stdout",
          "text": [
            "[ Valid | 068/200 ]  loss = 1.93325, acc = 0.34531\n"
          ]
        },
        {
          "output_type": "display_data",
          "data": {
            "text/plain": "CLR:   0%|          | 0/106 [00:00<?, ?it/s]",
            "application/vnd.jupyter.widget-view+json": {
              "version_major": 2,
              "version_minor": 0,
              "model_id": "a81a1c5dc79045c8883a8a7dfb9cf4aa"
            }
          },
          "metadata": {}
        },
        {
          "output_type": "stream",
          "name": "stdout",
          "text": [
            "[ CLR   | 069/200 ] loss = 880.69956, diag = 473.05, offdiag = 407.65\n"
          ]
        },
        {
          "output_type": "display_data",
          "data": {
            "text/plain": "Valid:   0%|          | 0/6 [00:00<?, ?it/s]",
            "application/vnd.jupyter.widget-view+json": {
              "version_major": 2,
              "version_minor": 0,
              "model_id": "3b651f9b11ae446fad23c0a26a329602"
            }
          },
          "metadata": {}
        },
        {
          "output_type": "stream",
          "name": "stdout",
          "text": [
            "[ Valid | 069/200 ]  loss = 1.93839, acc = 0.33229\n"
          ]
        },
        {
          "output_type": "display_data",
          "data": {
            "text/plain": "CLR:   0%|          | 0/106 [00:00<?, ?it/s]",
            "application/vnd.jupyter.widget-view+json": {
              "version_major": 2,
              "version_minor": 0,
              "model_id": "57983e9594544127a7989a666ee15e4a"
            }
          },
          "metadata": {}
        },
        {
          "output_type": "stream",
          "name": "stdout",
          "text": [
            "[ CLR   | 070/200 ] loss = 886.69329, diag = 486.44, offdiag = 400.25\n"
          ]
        },
        {
          "output_type": "display_data",
          "data": {
            "text/plain": "Valid:   0%|          | 0/6 [00:00<?, ?it/s]",
            "application/vnd.jupyter.widget-view+json": {
              "version_major": 2,
              "version_minor": 0,
              "model_id": "8166a1fd1784485182942cd38043e221"
            }
          },
          "metadata": {}
        },
        {
          "output_type": "stream",
          "name": "stdout",
          "text": [
            "[ Valid | 070/200 ]  loss = 1.99108, acc = 0.31823\n"
          ]
        },
        {
          "output_type": "display_data",
          "data": {
            "text/plain": "CLR:   0%|          | 0/106 [00:00<?, ?it/s]",
            "application/vnd.jupyter.widget-view+json": {
              "version_major": 2,
              "version_minor": 0,
              "model_id": "f7dde1bb1f0e456cabe778ad5a520d62"
            }
          },
          "metadata": {}
        },
        {
          "output_type": "stream",
          "name": "stdout",
          "text": [
            "[ CLR   | 071/200 ] loss = 875.14375, diag = 477.33, offdiag = 397.82\n"
          ]
        },
        {
          "output_type": "display_data",
          "data": {
            "text/plain": "Valid:   0%|          | 0/6 [00:00<?, ?it/s]",
            "application/vnd.jupyter.widget-view+json": {
              "version_major": 2,
              "version_minor": 0,
              "model_id": "9202eee913864041b720eeaf8d227eb6"
            }
          },
          "metadata": {}
        },
        {
          "output_type": "stream",
          "name": "stdout",
          "text": [
            "[ Valid | 071/200 ]  loss = 2.03377, acc = 0.28724\n"
          ]
        },
        {
          "output_type": "display_data",
          "data": {
            "text/plain": "CLR:   0%|          | 0/106 [00:00<?, ?it/s]",
            "application/vnd.jupyter.widget-view+json": {
              "version_major": 2,
              "version_minor": 0,
              "model_id": "b55da4ab8d6340ea960cbd6c096d1988"
            }
          },
          "metadata": {}
        },
        {
          "output_type": "stream",
          "name": "stdout",
          "text": [
            "[ CLR   | 072/200 ] loss = 871.72366, diag = 475.39, offdiag = 396.34\n"
          ]
        },
        {
          "output_type": "display_data",
          "data": {
            "text/plain": "Valid:   0%|          | 0/6 [00:00<?, ?it/s]",
            "application/vnd.jupyter.widget-view+json": {
              "version_major": 2,
              "version_minor": 0,
              "model_id": "2254e4d3ceb24465a5b2cc78cc5b70b5"
            }
          },
          "metadata": {}
        },
        {
          "output_type": "stream",
          "name": "stdout",
          "text": [
            "[ Valid | 072/200 ]  loss = 1.93105, acc = 0.33568\n"
          ]
        },
        {
          "output_type": "display_data",
          "data": {
            "text/plain": "CLR:   0%|          | 0/106 [00:00<?, ?it/s]",
            "application/vnd.jupyter.widget-view+json": {
              "version_major": 2,
              "version_minor": 0,
              "model_id": "d3fa30f31f064f2fac03cc773909318a"
            }
          },
          "metadata": {}
        },
        {
          "output_type": "stream",
          "name": "stdout",
          "text": [
            "[ CLR   | 073/200 ] loss = 850.37652, diag = 451.16, offdiag = 399.21\n"
          ]
        },
        {
          "output_type": "display_data",
          "data": {
            "text/plain": "Valid:   0%|          | 0/6 [00:00<?, ?it/s]",
            "application/vnd.jupyter.widget-view+json": {
              "version_major": 2,
              "version_minor": 0,
              "model_id": "5460b78bcf854aae803ce09e69f7032b"
            }
          },
          "metadata": {}
        },
        {
          "output_type": "stream",
          "name": "stdout",
          "text": [
            "[ Valid | 073/200 ]  loss = 1.89222, acc = 0.34635\n"
          ]
        },
        {
          "output_type": "display_data",
          "data": {
            "text/plain": "CLR:   0%|          | 0/106 [00:00<?, ?it/s]",
            "application/vnd.jupyter.widget-view+json": {
              "version_major": 2,
              "version_minor": 0,
              "model_id": "0d8b937231854d9cabfbcd421ae84147"
            }
          },
          "metadata": {}
        },
        {
          "output_type": "stream",
          "name": "stdout",
          "text": [
            "[ CLR   | 074/200 ] loss = 857.51899, diag = 465.84, offdiag = 391.68\n"
          ]
        },
        {
          "output_type": "display_data",
          "data": {
            "text/plain": "Valid:   0%|          | 0/6 [00:00<?, ?it/s]",
            "application/vnd.jupyter.widget-view+json": {
              "version_major": 2,
              "version_minor": 0,
              "model_id": "aa084c8c16914b6b8a1f1c2cc70c6179"
            }
          },
          "metadata": {}
        },
        {
          "output_type": "stream",
          "name": "stdout",
          "text": [
            "[ Valid | 074/200 ]  loss = 1.92933, acc = 0.32005\n"
          ]
        },
        {
          "output_type": "display_data",
          "data": {
            "text/plain": "CLR:   0%|          | 0/106 [00:00<?, ?it/s]",
            "application/vnd.jupyter.widget-view+json": {
              "version_major": 2,
              "version_minor": 0,
              "model_id": "f55534ddc73b4c1888f38f5fd54ee9c5"
            }
          },
          "metadata": {}
        },
        {
          "output_type": "stream",
          "name": "stdout",
          "text": [
            "[ CLR   | 075/200 ] loss = 851.62565, diag = 462.37, offdiag = 389.26\n"
          ]
        },
        {
          "output_type": "display_data",
          "data": {
            "text/plain": "Valid:   0%|          | 0/6 [00:00<?, ?it/s]",
            "application/vnd.jupyter.widget-view+json": {
              "version_major": 2,
              "version_minor": 0,
              "model_id": "0e263c01e52c432e95a722afb6b85db8"
            }
          },
          "metadata": {}
        },
        {
          "output_type": "stream",
          "name": "stdout",
          "text": [
            "[ Valid | 075/200 ]  loss = 1.97205, acc = 0.31745\n"
          ]
        },
        {
          "output_type": "display_data",
          "data": {
            "text/plain": "CLR:   0%|          | 0/106 [00:00<?, ?it/s]",
            "application/vnd.jupyter.widget-view+json": {
              "version_major": 2,
              "version_minor": 0,
              "model_id": "26bb5f5860474809becbb1c9b42f6368"
            }
          },
          "metadata": {}
        },
        {
          "output_type": "stream",
          "name": "stdout",
          "text": [
            "[ CLR   | 076/200 ] loss = 849.42780, diag = 460.47, offdiag = 388.96\n"
          ]
        },
        {
          "output_type": "display_data",
          "data": {
            "text/plain": "Valid:   0%|          | 0/6 [00:00<?, ?it/s]",
            "application/vnd.jupyter.widget-view+json": {
              "version_major": 2,
              "version_minor": 0,
              "model_id": "0d726512fc124baab86dd947d2392343"
            }
          },
          "metadata": {}
        },
        {
          "output_type": "stream",
          "name": "stdout",
          "text": [
            "[ Valid | 076/200 ]  loss = 1.96457, acc = 0.31380\n"
          ]
        },
        {
          "output_type": "display_data",
          "data": {
            "text/plain": "CLR:   0%|          | 0/106 [00:00<?, ?it/s]",
            "application/vnd.jupyter.widget-view+json": {
              "version_major": 2,
              "version_minor": 0,
              "model_id": "15b14ac514d348b091ccf9eb46879470"
            }
          },
          "metadata": {}
        },
        {
          "output_type": "stream",
          "name": "stdout",
          "text": [
            "[ CLR   | 077/200 ] loss = 853.45629, diag = 462.75, offdiag = 390.70\n"
          ]
        },
        {
          "output_type": "display_data",
          "data": {
            "text/plain": "Valid:   0%|          | 0/6 [00:00<?, ?it/s]",
            "application/vnd.jupyter.widget-view+json": {
              "version_major": 2,
              "version_minor": 0,
              "model_id": "2a1f060a696c4820bc4f28a4834cc2d7"
            }
          },
          "metadata": {}
        },
        {
          "output_type": "stream",
          "name": "stdout",
          "text": [
            "[ Valid | 077/200 ]  loss = 1.95883, acc = 0.34635\n"
          ]
        },
        {
          "output_type": "display_data",
          "data": {
            "text/plain": "CLR:   0%|          | 0/106 [00:00<?, ?it/s]",
            "application/vnd.jupyter.widget-view+json": {
              "version_major": 2,
              "version_minor": 0,
              "model_id": "dddff59c2f9349678668ad8026b2e50f"
            }
          },
          "metadata": {}
        },
        {
          "output_type": "stream",
          "name": "stdout",
          "text": [
            "[ CLR   | 078/200 ] loss = 838.09476, diag = 453.45, offdiag = 384.65\n"
          ]
        },
        {
          "output_type": "display_data",
          "data": {
            "text/plain": "Valid:   0%|          | 0/6 [00:00<?, ?it/s]",
            "application/vnd.jupyter.widget-view+json": {
              "version_major": 2,
              "version_minor": 0,
              "model_id": "d4958ace748c44ff9c35096b79ffc0c1"
            }
          },
          "metadata": {}
        },
        {
          "output_type": "stream",
          "name": "stdout",
          "text": [
            "[ Valid | 078/200 ]  loss = 2.00112, acc = 0.31276\n"
          ]
        },
        {
          "output_type": "display_data",
          "data": {
            "text/plain": "CLR:   0%|          | 0/106 [00:00<?, ?it/s]",
            "application/vnd.jupyter.widget-view+json": {
              "version_major": 2,
              "version_minor": 0,
              "model_id": "16e681a6db1c409293db70fd0879987c"
            }
          },
          "metadata": {}
        },
        {
          "output_type": "stream",
          "name": "stdout",
          "text": [
            "[ CLR   | 079/200 ] loss = 837.57045, diag = 454.85, offdiag = 382.72\n"
          ]
        },
        {
          "output_type": "display_data",
          "data": {
            "text/plain": "Valid:   0%|          | 0/6 [00:00<?, ?it/s]",
            "application/vnd.jupyter.widget-view+json": {
              "version_major": 2,
              "version_minor": 0,
              "model_id": "10852230776e4a8ea64b37dff6986786"
            }
          },
          "metadata": {}
        },
        {
          "output_type": "stream",
          "name": "stdout",
          "text": [
            "[ Valid | 079/200 ]  loss = 2.04868, acc = 0.29271\n"
          ]
        },
        {
          "output_type": "display_data",
          "data": {
            "text/plain": "CLR:   0%|          | 0/106 [00:00<?, ?it/s]",
            "application/vnd.jupyter.widget-view+json": {
              "version_major": 2,
              "version_minor": 0,
              "model_id": "f5a12c7ab1634c65b8bab7b9eb261312"
            }
          },
          "metadata": {}
        },
        {
          "output_type": "stream",
          "name": "stdout",
          "text": [
            "[ CLR   | 080/200 ] loss = 822.99588, diag = 438.89, offdiag = 384.11\n"
          ]
        },
        {
          "output_type": "display_data",
          "data": {
            "text/plain": "Valid:   0%|          | 0/6 [00:00<?, ?it/s]",
            "application/vnd.jupyter.widget-view+json": {
              "version_major": 2,
              "version_minor": 0,
              "model_id": "106471797e004c44938ea569bb0aa0a3"
            }
          },
          "metadata": {}
        },
        {
          "output_type": "stream",
          "name": "stdout",
          "text": [
            "[ Valid | 080/200 ]  loss = 2.04095, acc = 0.29505\n"
          ]
        },
        {
          "output_type": "display_data",
          "data": {
            "text/plain": "CLR:   0%|          | 0/106 [00:00<?, ?it/s]",
            "application/vnd.jupyter.widget-view+json": {
              "version_major": 2,
              "version_minor": 0,
              "model_id": "311a8bb0fe2f4ba6bc1d162ad5f9c419"
            }
          },
          "metadata": {}
        },
        {
          "output_type": "stream",
          "name": "stdout",
          "text": [
            "[ CLR   | 081/200 ] loss = 812.82477, diag = 427.45, offdiag = 385.37\n"
          ]
        },
        {
          "output_type": "display_data",
          "data": {
            "text/plain": "Valid:   0%|          | 0/6 [00:00<?, ?it/s]",
            "application/vnd.jupyter.widget-view+json": {
              "version_major": 2,
              "version_minor": 0,
              "model_id": "94075961903a47fa84072f3088012fe4"
            }
          },
          "metadata": {}
        },
        {
          "output_type": "stream",
          "name": "stdout",
          "text": [
            "[ Valid | 081/200 ]  loss = 2.01148, acc = 0.30182\n"
          ]
        },
        {
          "output_type": "display_data",
          "data": {
            "text/plain": "CLR:   0%|          | 0/106 [00:00<?, ?it/s]",
            "application/vnd.jupyter.widget-view+json": {
              "version_major": 2,
              "version_minor": 0,
              "model_id": "a541e26bdc994bcba88f43dca56a1eb8"
            }
          },
          "metadata": {}
        },
        {
          "output_type": "stream",
          "name": "stdout",
          "text": [
            "[ CLR   | 082/200 ] loss = 812.17648, diag = 432.66, offdiag = 379.52\n"
          ]
        },
        {
          "output_type": "display_data",
          "data": {
            "text/plain": "Valid:   0%|          | 0/6 [00:00<?, ?it/s]",
            "application/vnd.jupyter.widget-view+json": {
              "version_major": 2,
              "version_minor": 0,
              "model_id": "762fcd98579f446bb86fea7f6cfc400c"
            }
          },
          "metadata": {}
        },
        {
          "output_type": "stream",
          "name": "stdout",
          "text": [
            "[ Valid | 082/200 ]  loss = 2.00931, acc = 0.30573\n"
          ]
        },
        {
          "output_type": "display_data",
          "data": {
            "text/plain": "CLR:   0%|          | 0/106 [00:00<?, ?it/s]",
            "application/vnd.jupyter.widget-view+json": {
              "version_major": 2,
              "version_minor": 0,
              "model_id": "11ac1d35f4614514a5bea3c862b6b98c"
            }
          },
          "metadata": {}
        },
        {
          "output_type": "stream",
          "name": "stdout",
          "text": [
            "[ CLR   | 083/200 ] loss = 829.42645, diag = 448.77, offdiag = 380.65\n"
          ]
        },
        {
          "output_type": "display_data",
          "data": {
            "text/plain": "Valid:   0%|          | 0/6 [00:00<?, ?it/s]",
            "application/vnd.jupyter.widget-view+json": {
              "version_major": 2,
              "version_minor": 0,
              "model_id": "ea7fa460a16948579f90364a83e457a4"
            }
          },
          "metadata": {}
        },
        {
          "output_type": "stream",
          "name": "stdout",
          "text": [
            "[ Valid | 083/200 ]  loss = 2.02148, acc = 0.31276\n"
          ]
        },
        {
          "output_type": "display_data",
          "data": {
            "text/plain": "CLR:   0%|          | 0/106 [00:00<?, ?it/s]",
            "application/vnd.jupyter.widget-view+json": {
              "version_major": 2,
              "version_minor": 0,
              "model_id": "50c54dcd7e634307a9b840135f533df5"
            }
          },
          "metadata": {}
        },
        {
          "output_type": "stream",
          "name": "stdout",
          "text": [
            "[ CLR   | 084/200 ] loss = 818.61355, diag = 441.71, offdiag = 376.90\n"
          ]
        },
        {
          "output_type": "display_data",
          "data": {
            "text/plain": "Valid:   0%|          | 0/6 [00:00<?, ?it/s]",
            "application/vnd.jupyter.widget-view+json": {
              "version_major": 2,
              "version_minor": 0,
              "model_id": "2f1ee77287eb4d4abba889a04db954f1"
            }
          },
          "metadata": {}
        },
        {
          "output_type": "stream",
          "name": "stdout",
          "text": [
            "[ Valid | 084/200 ]  loss = 2.05974, acc = 0.28594\n"
          ]
        },
        {
          "output_type": "display_data",
          "data": {
            "text/plain": "CLR:   0%|          | 0/106 [00:00<?, ?it/s]",
            "application/vnd.jupyter.widget-view+json": {
              "version_major": 2,
              "version_minor": 0,
              "model_id": "f0887274d97344c796440fbed2a00b4e"
            }
          },
          "metadata": {}
        },
        {
          "output_type": "stream",
          "name": "stdout",
          "text": [
            "[ CLR   | 085/200 ] loss = 799.53615, diag = 421.41, offdiag = 378.13\n"
          ]
        },
        {
          "output_type": "display_data",
          "data": {
            "text/plain": "Valid:   0%|          | 0/6 [00:00<?, ?it/s]",
            "application/vnd.jupyter.widget-view+json": {
              "version_major": 2,
              "version_minor": 0,
              "model_id": "7f93d268d36c4ed6a0b2c3ba4102a887"
            }
          },
          "metadata": {}
        },
        {
          "output_type": "stream",
          "name": "stdout",
          "text": [
            "[ Valid | 085/200 ]  loss = 2.01960, acc = 0.29453\n"
          ]
        },
        {
          "output_type": "display_data",
          "data": {
            "text/plain": "CLR:   0%|          | 0/106 [00:00<?, ?it/s]",
            "application/vnd.jupyter.widget-view+json": {
              "version_major": 2,
              "version_minor": 0,
              "model_id": "ca1192d8a9834dd2b611fdab8f1b70f4"
            }
          },
          "metadata": {}
        },
        {
          "output_type": "stream",
          "name": "stdout",
          "text": [
            "[ CLR   | 086/200 ] loss = 812.88785, diag = 441.22, offdiag = 371.67\n"
          ]
        },
        {
          "output_type": "display_data",
          "data": {
            "text/plain": "Valid:   0%|          | 0/6 [00:00<?, ?it/s]",
            "application/vnd.jupyter.widget-view+json": {
              "version_major": 2,
              "version_minor": 0,
              "model_id": "fbdc579645594eb895844cb3bb9a333c"
            }
          },
          "metadata": {}
        },
        {
          "output_type": "stream",
          "name": "stdout",
          "text": [
            "[ Valid | 086/200 ]  loss = 2.07796, acc = 0.30052\n"
          ]
        },
        {
          "output_type": "display_data",
          "data": {
            "text/plain": "CLR:   0%|          | 0/106 [00:00<?, ?it/s]",
            "application/vnd.jupyter.widget-view+json": {
              "version_major": 2,
              "version_minor": 0,
              "model_id": "99b87769503043a0bab10ef9a9cc3d55"
            }
          },
          "metadata": {}
        },
        {
          "output_type": "stream",
          "name": "stdout",
          "text": [
            "[ CLR   | 087/200 ] loss = 804.84828, diag = 430.08, offdiag = 374.77\n"
          ]
        },
        {
          "output_type": "display_data",
          "data": {
            "text/plain": "Valid:   0%|          | 0/6 [00:00<?, ?it/s]",
            "application/vnd.jupyter.widget-view+json": {
              "version_major": 2,
              "version_minor": 0,
              "model_id": "c4d4f9ff5451449abca187d05067159f"
            }
          },
          "metadata": {}
        },
        {
          "output_type": "stream",
          "name": "stdout",
          "text": [
            "[ Valid | 087/200 ]  loss = 2.04740, acc = 0.28255\n"
          ]
        },
        {
          "output_type": "display_data",
          "data": {
            "text/plain": "CLR:   0%|          | 0/106 [00:00<?, ?it/s]",
            "application/vnd.jupyter.widget-view+json": {
              "version_major": 2,
              "version_minor": 0,
              "model_id": "b973268ec0a44fa29812606033848159"
            }
          },
          "metadata": {}
        },
        {
          "output_type": "stream",
          "name": "stdout",
          "text": [
            "[ CLR   | 088/200 ] loss = 802.00587, diag = 428.96, offdiag = 373.05\n"
          ]
        },
        {
          "output_type": "display_data",
          "data": {
            "text/plain": "Valid:   0%|          | 0/6 [00:00<?, ?it/s]",
            "application/vnd.jupyter.widget-view+json": {
              "version_major": 2,
              "version_minor": 0,
              "model_id": "53cffdd092824045b3ecd012b5275b64"
            }
          },
          "metadata": {}
        },
        {
          "output_type": "stream",
          "name": "stdout",
          "text": [
            "[ Valid | 088/200 ]  loss = 2.10314, acc = 0.27266\n"
          ]
        },
        {
          "output_type": "display_data",
          "data": {
            "text/plain": "CLR:   0%|          | 0/106 [00:00<?, ?it/s]",
            "application/vnd.jupyter.widget-view+json": {
              "version_major": 2,
              "version_minor": 0,
              "model_id": "134d465d48b94468bff97a1c191c74bd"
            }
          },
          "metadata": {}
        },
        {
          "output_type": "stream",
          "name": "stdout",
          "text": [
            "[ CLR   | 089/200 ] loss = 774.29032, diag = 403.21, offdiag = 371.08\n"
          ]
        },
        {
          "output_type": "display_data",
          "data": {
            "text/plain": "Valid:   0%|          | 0/6 [00:00<?, ?it/s]",
            "application/vnd.jupyter.widget-view+json": {
              "version_major": 2,
              "version_minor": 0,
              "model_id": "30953968151747b5969b58e8963e2e8d"
            }
          },
          "metadata": {}
        },
        {
          "output_type": "stream",
          "name": "stdout",
          "text": [
            "[ Valid | 089/200 ]  loss = 2.02662, acc = 0.28099\n"
          ]
        },
        {
          "output_type": "display_data",
          "data": {
            "text/plain": "CLR:   0%|          | 0/106 [00:00<?, ?it/s]",
            "application/vnd.jupyter.widget-view+json": {
              "version_major": 2,
              "version_minor": 0,
              "model_id": "612ad2b980384de781df5dc635e6facb"
            }
          },
          "metadata": {}
        },
        {
          "output_type": "stream",
          "name": "stdout",
          "text": [
            "[ CLR   | 090/200 ] loss = 780.52997, diag = 410.00, offdiag = 370.53\n"
          ]
        },
        {
          "output_type": "display_data",
          "data": {
            "text/plain": "Valid:   0%|          | 0/6 [00:00<?, ?it/s]",
            "application/vnd.jupyter.widget-view+json": {
              "version_major": 2,
              "version_minor": 0,
              "model_id": "27f77c6945764f169b886743cdc66f8b"
            }
          },
          "metadata": {}
        },
        {
          "output_type": "stream",
          "name": "stdout",
          "text": [
            "[ Valid | 090/200 ]  loss = 2.08752, acc = 0.28177\n"
          ]
        },
        {
          "output_type": "display_data",
          "data": {
            "text/plain": "CLR:   0%|          | 0/106 [00:00<?, ?it/s]",
            "application/vnd.jupyter.widget-view+json": {
              "version_major": 2,
              "version_minor": 0,
              "model_id": "25bcb8f8308341f585a768034bca4eb8"
            }
          },
          "metadata": {}
        },
        {
          "output_type": "stream",
          "name": "stdout",
          "text": [
            "[ CLR   | 091/200 ] loss = 784.00342, diag = 418.41, offdiag = 365.60\n"
          ]
        },
        {
          "output_type": "display_data",
          "data": {
            "text/plain": "Valid:   0%|          | 0/6 [00:00<?, ?it/s]",
            "application/vnd.jupyter.widget-view+json": {
              "version_major": 2,
              "version_minor": 0,
              "model_id": "fc4d0022ddfc47dbbe466fe69e7dd11a"
            }
          },
          "metadata": {}
        },
        {
          "output_type": "stream",
          "name": "stdout",
          "text": [
            "[ Valid | 091/200 ]  loss = 2.14696, acc = 0.25781\n"
          ]
        },
        {
          "output_type": "display_data",
          "data": {
            "text/plain": "CLR:   0%|          | 0/106 [00:00<?, ?it/s]",
            "application/vnd.jupyter.widget-view+json": {
              "version_major": 2,
              "version_minor": 0,
              "model_id": "119df836a9c647f7a6a1159714666407"
            }
          },
          "metadata": {}
        },
        {
          "output_type": "stream",
          "name": "stdout",
          "text": [
            "[ CLR   | 092/200 ] loss = 792.28977, diag = 423.17, offdiag = 369.12\n"
          ]
        },
        {
          "output_type": "display_data",
          "data": {
            "text/plain": "Valid:   0%|          | 0/6 [00:00<?, ?it/s]",
            "application/vnd.jupyter.widget-view+json": {
              "version_major": 2,
              "version_minor": 0,
              "model_id": "e59a1175c3f84620b448a11acc9a542b"
            }
          },
          "metadata": {}
        },
        {
          "output_type": "stream",
          "name": "stdout",
          "text": [
            "[ Valid | 092/200 ]  loss = 2.09403, acc = 0.30104\n"
          ]
        },
        {
          "output_type": "display_data",
          "data": {
            "text/plain": "CLR:   0%|          | 0/106 [00:00<?, ?it/s]",
            "application/vnd.jupyter.widget-view+json": {
              "version_major": 2,
              "version_minor": 0,
              "model_id": "a927a73484384c60a4f19361cb127224"
            }
          },
          "metadata": {}
        },
        {
          "output_type": "stream",
          "name": "stdout",
          "text": [
            "[ CLR   | 093/200 ] loss = 780.10362, diag = 413.88, offdiag = 366.23\n"
          ]
        },
        {
          "output_type": "display_data",
          "data": {
            "text/plain": "Valid:   0%|          | 0/6 [00:00<?, ?it/s]",
            "application/vnd.jupyter.widget-view+json": {
              "version_major": 2,
              "version_minor": 0,
              "model_id": "1145aa143bdb4763a8dd840d67969404"
            }
          },
          "metadata": {}
        },
        {
          "output_type": "stream",
          "name": "stdout",
          "text": [
            "[ Valid | 093/200 ]  loss = 2.05508, acc = 0.27969\n"
          ]
        },
        {
          "output_type": "display_data",
          "data": {
            "text/plain": "CLR:   0%|          | 0/106 [00:00<?, ?it/s]",
            "application/vnd.jupyter.widget-view+json": {
              "version_major": 2,
              "version_minor": 0,
              "model_id": "b6f774f8d10c48b5ac7402e6f903b613"
            }
          },
          "metadata": {}
        },
        {
          "output_type": "stream",
          "name": "stdout",
          "text": [
            "[ CLR   | 094/200 ] loss = 772.89297, diag = 407.75, offdiag = 365.14\n"
          ]
        },
        {
          "output_type": "display_data",
          "data": {
            "text/plain": "Valid:   0%|          | 0/6 [00:00<?, ?it/s]",
            "application/vnd.jupyter.widget-view+json": {
              "version_major": 2,
              "version_minor": 0,
              "model_id": "3d36ea3bb8874a47b1ce0e5e1de1b065"
            }
          },
          "metadata": {}
        },
        {
          "output_type": "stream",
          "name": "stdout",
          "text": [
            "[ Valid | 094/200 ]  loss = 2.07030, acc = 0.27995\n"
          ]
        },
        {
          "output_type": "display_data",
          "data": {
            "text/plain": "CLR:   0%|          | 0/106 [00:00<?, ?it/s]",
            "application/vnd.jupyter.widget-view+json": {
              "version_major": 2,
              "version_minor": 0,
              "model_id": "cb56e94fb11a4596a80ff670f18e8424"
            }
          },
          "metadata": {}
        },
        {
          "output_type": "stream",
          "name": "stdout",
          "text": [
            "[ CLR   | 095/200 ] loss = 787.93619, diag = 422.29, offdiag = 365.64\n"
          ]
        },
        {
          "output_type": "display_data",
          "data": {
            "text/plain": "Valid:   0%|          | 0/6 [00:00<?, ?it/s]",
            "application/vnd.jupyter.widget-view+json": {
              "version_major": 2,
              "version_minor": 0,
              "model_id": "d5a60fed55904311aecd9b946c4fc184"
            }
          },
          "metadata": {}
        },
        {
          "output_type": "stream",
          "name": "stdout",
          "text": [
            "[ Valid | 095/200 ]  loss = 2.08835, acc = 0.27526\n"
          ]
        },
        {
          "output_type": "display_data",
          "data": {
            "text/plain": "CLR:   0%|          | 0/106 [00:00<?, ?it/s]",
            "application/vnd.jupyter.widget-view+json": {
              "version_major": 2,
              "version_minor": 0,
              "model_id": "eeb69506f19d4c13a813da1979188999"
            }
          },
          "metadata": {}
        },
        {
          "output_type": "stream",
          "name": "stdout",
          "text": [
            "[ CLR   | 096/200 ] loss = 777.84758, diag = 415.57, offdiag = 362.27\n"
          ]
        },
        {
          "output_type": "display_data",
          "data": {
            "text/plain": "Valid:   0%|          | 0/6 [00:00<?, ?it/s]",
            "application/vnd.jupyter.widget-view+json": {
              "version_major": 2,
              "version_minor": 0,
              "model_id": "c5f209659a7f4c869846e4691b1434ba"
            }
          },
          "metadata": {}
        },
        {
          "output_type": "stream",
          "name": "stdout",
          "text": [
            "[ Valid | 096/200 ]  loss = 2.03287, acc = 0.28099\n"
          ]
        },
        {
          "output_type": "display_data",
          "data": {
            "text/plain": "CLR:   0%|          | 0/106 [00:00<?, ?it/s]",
            "application/vnd.jupyter.widget-view+json": {
              "version_major": 2,
              "version_minor": 0,
              "model_id": "055350b8b89843e59c0eb7d2024e8b46"
            }
          },
          "metadata": {}
        },
        {
          "output_type": "stream",
          "name": "stdout",
          "text": [
            "[ CLR   | 097/200 ] loss = 762.29678, diag = 397.68, offdiag = 364.62\n"
          ]
        },
        {
          "output_type": "display_data",
          "data": {
            "text/plain": "Valid:   0%|          | 0/6 [00:00<?, ?it/s]",
            "application/vnd.jupyter.widget-view+json": {
              "version_major": 2,
              "version_minor": 0,
              "model_id": "fc34627b8a0947e9acee8c6f4dc87d35"
            }
          },
          "metadata": {}
        },
        {
          "output_type": "stream",
          "name": "stdout",
          "text": [
            "[ Valid | 097/200 ]  loss = 2.12110, acc = 0.25938\n"
          ]
        },
        {
          "output_type": "display_data",
          "data": {
            "text/plain": "CLR:   0%|          | 0/106 [00:00<?, ?it/s]",
            "application/vnd.jupyter.widget-view+json": {
              "version_major": 2,
              "version_minor": 0,
              "model_id": "5fbec8f575c149b2b96c11c0bf2a1f59"
            }
          },
          "metadata": {}
        },
        {
          "output_type": "stream",
          "name": "stdout",
          "text": [
            "[ CLR   | 098/200 ] loss = 757.89802, diag = 399.38, offdiag = 358.52\n"
          ]
        },
        {
          "output_type": "display_data",
          "data": {
            "text/plain": "Valid:   0%|          | 0/6 [00:00<?, ?it/s]",
            "application/vnd.jupyter.widget-view+json": {
              "version_major": 2,
              "version_minor": 0,
              "model_id": "60715fcc5ac8488eb2eebabb8bd20c43"
            }
          },
          "metadata": {}
        },
        {
          "output_type": "stream",
          "name": "stdout",
          "text": [
            "[ Valid | 098/200 ]  loss = 2.10669, acc = 0.28047\n"
          ]
        },
        {
          "output_type": "display_data",
          "data": {
            "text/plain": "CLR:   0%|          | 0/106 [00:00<?, ?it/s]",
            "application/vnd.jupyter.widget-view+json": {
              "version_major": 2,
              "version_minor": 0,
              "model_id": "7af26541f714438d9e621687d7e0343d"
            }
          },
          "metadata": {}
        },
        {
          "output_type": "stream",
          "name": "stdout",
          "text": [
            "[ CLR   | 099/200 ] loss = 751.78918, diag = 394.34, offdiag = 357.45\n"
          ]
        },
        {
          "output_type": "display_data",
          "data": {
            "text/plain": "Valid:   0%|          | 0/6 [00:00<?, ?it/s]",
            "application/vnd.jupyter.widget-view+json": {
              "version_major": 2,
              "version_minor": 0,
              "model_id": "d6a976e9187b4a24909a7451f642683a"
            }
          },
          "metadata": {}
        },
        {
          "output_type": "stream",
          "name": "stdout",
          "text": [
            "[ Valid | 099/200 ]  loss = 2.16016, acc = 0.25964\n"
          ]
        },
        {
          "output_type": "display_data",
          "data": {
            "text/plain": "CLR:   0%|          | 0/106 [00:00<?, ?it/s]",
            "application/vnd.jupyter.widget-view+json": {
              "version_major": 2,
              "version_minor": 0,
              "model_id": "107f8bfbbe5b4ea0949e96b550780f01"
            }
          },
          "metadata": {}
        },
        {
          "output_type": "stream",
          "name": "stdout",
          "text": [
            "[ CLR   | 100/200 ] loss = 758.93176, diag = 403.68, offdiag = 355.25\n"
          ]
        },
        {
          "output_type": "display_data",
          "data": {
            "text/plain": "Valid:   0%|          | 0/6 [00:00<?, ?it/s]",
            "application/vnd.jupyter.widget-view+json": {
              "version_major": 2,
              "version_minor": 0,
              "model_id": "f798bd6ac7124633b1b117208f8ee50c"
            }
          },
          "metadata": {}
        },
        {
          "output_type": "stream",
          "name": "stdout",
          "text": [
            "[ Valid | 100/200 ]  loss = 2.10020, acc = 0.26771\n"
          ]
        },
        {
          "output_type": "display_data",
          "data": {
            "text/plain": "Train:   0%|          | 0/24 [00:00<?, ?it/s]",
            "application/vnd.jupyter.widget-view+json": {
              "version_major": 2,
              "version_minor": 0,
              "model_id": "98fbcb8f26cd41a38e246b09aa476895"
            }
          },
          "metadata": {}
        },
        {
          "output_type": "stream",
          "name": "stdout",
          "text": [
            "[ Train | 101/200 ] loss = 1.80643, acc = 0.36589\n"
          ]
        },
        {
          "output_type": "display_data",
          "data": {
            "text/plain": "Valid:   0%|          | 0/6 [00:00<?, ?it/s]",
            "application/vnd.jupyter.widget-view+json": {
              "version_major": 2,
              "version_minor": 0,
              "model_id": "2fcced3977a74df6bac32dbd5a6eb24a"
            }
          },
          "metadata": {}
        },
        {
          "output_type": "stream",
          "name": "stdout",
          "text": [
            "[ Valid | 101/200 ]  loss = 1.61287, acc = 0.46120\n"
          ]
        },
        {
          "output_type": "display_data",
          "data": {
            "text/plain": "Train:   0%|          | 0/24 [00:00<?, ?it/s]",
            "application/vnd.jupyter.widget-view+json": {
              "version_major": 2,
              "version_minor": 0,
              "model_id": "a7b5f2d41be84620b8f2c5acf1ab0027"
            }
          },
          "metadata": {}
        },
        {
          "output_type": "stream",
          "name": "stdout",
          "text": [
            "[ Train | 102/200 ] loss = 1.69806, acc = 0.40397\n"
          ]
        },
        {
          "output_type": "display_data",
          "data": {
            "text/plain": "Valid:   0%|          | 0/6 [00:00<?, ?it/s]",
            "application/vnd.jupyter.widget-view+json": {
              "version_major": 2,
              "version_minor": 0,
              "model_id": "76f4d21e8b25482c9886167ab44879f2"
            }
          },
          "metadata": {}
        },
        {
          "output_type": "stream",
          "name": "stdout",
          "text": [
            "[ Valid | 102/200 ]  loss = 1.56274, acc = 0.46068\n"
          ]
        },
        {
          "output_type": "display_data",
          "data": {
            "text/plain": "Train:   0%|          | 0/24 [00:00<?, ?it/s]",
            "application/vnd.jupyter.widget-view+json": {
              "version_major": 2,
              "version_minor": 0,
              "model_id": "5ecd800ab3584dddb9bc6ec56ab7f9c7"
            }
          },
          "metadata": {}
        },
        {
          "output_type": "stream",
          "name": "stdout",
          "text": [
            "[ Train | 103/200 ] loss = 1.67267, acc = 0.41276\n"
          ]
        },
        {
          "output_type": "display_data",
          "data": {
            "text/plain": "Valid:   0%|          | 0/6 [00:00<?, ?it/s]",
            "application/vnd.jupyter.widget-view+json": {
              "version_major": 2,
              "version_minor": 0,
              "model_id": "2211372db6ad4df2b6d131741ea5144c"
            }
          },
          "metadata": {}
        },
        {
          "output_type": "stream",
          "name": "stdout",
          "text": [
            "[ Valid | 103/200 ]  loss = 1.52816, acc = 0.46250\n"
          ]
        },
        {
          "output_type": "display_data",
          "data": {
            "text/plain": "Train:   0%|          | 0/24 [00:00<?, ?it/s]",
            "application/vnd.jupyter.widget-view+json": {
              "version_major": 2,
              "version_minor": 0,
              "model_id": "c50d13136ff94948ac9d0bd4df675361"
            }
          },
          "metadata": {}
        },
        {
          "output_type": "stream",
          "name": "stdout",
          "text": [
            "[ Train | 104/200 ] loss = 1.68255, acc = 0.40723\n"
          ]
        },
        {
          "output_type": "display_data",
          "data": {
            "text/plain": "Valid:   0%|          | 0/6 [00:00<?, ?it/s]",
            "application/vnd.jupyter.widget-view+json": {
              "version_major": 2,
              "version_minor": 0,
              "model_id": "97978fdde47547089fec30bcbc88a34f"
            }
          },
          "metadata": {}
        },
        {
          "output_type": "stream",
          "name": "stdout",
          "text": [
            "saving model with acc 0.473\n[ Valid | 104/200 ]  loss = 1.52485, acc = 0.47266\n"
          ]
        },
        {
          "output_type": "display_data",
          "data": {
            "text/plain": "Train:   0%|          | 0/24 [00:00<?, ?it/s]",
            "application/vnd.jupyter.widget-view+json": {
              "version_major": 2,
              "version_minor": 0,
              "model_id": "bbd3a9b7b1c540b68d09e437a48f2cb2"
            }
          },
          "metadata": {}
        },
        {
          "output_type": "stream",
          "name": "stdout",
          "text": [
            "[ Train | 105/200 ] loss = 1.64589, acc = 0.42253\n"
          ]
        },
        {
          "output_type": "display_data",
          "data": {
            "text/plain": "Valid:   0%|          | 0/6 [00:00<?, ?it/s]",
            "application/vnd.jupyter.widget-view+json": {
              "version_major": 2,
              "version_minor": 0,
              "model_id": "cff8a9d42a9a4337acba672616653e19"
            }
          },
          "metadata": {}
        },
        {
          "output_type": "stream",
          "name": "stdout",
          "text": [
            "[ Valid | 105/200 ]  loss = 1.52108, acc = 0.46250\n"
          ]
        },
        {
          "output_type": "display_data",
          "data": {
            "text/plain": "Train:   0%|          | 0/24 [00:00<?, ?it/s]",
            "application/vnd.jupyter.widget-view+json": {
              "version_major": 2,
              "version_minor": 0,
              "model_id": "2c00833b6b8748ca87e01a1fd1162bb6"
            }
          },
          "metadata": {}
        },
        {
          "output_type": "stream",
          "name": "stdout",
          "text": [
            "[ Train | 106/200 ] loss = 1.60877, acc = 0.43392\n"
          ]
        },
        {
          "output_type": "display_data",
          "data": {
            "text/plain": "Valid:   0%|          | 0/6 [00:00<?, ?it/s]",
            "application/vnd.jupyter.widget-view+json": {
              "version_major": 2,
              "version_minor": 0,
              "model_id": "2a15149afe0b435b8989dbc4d80fcec5"
            }
          },
          "metadata": {}
        },
        {
          "output_type": "stream",
          "name": "stdout",
          "text": [
            "[ Valid | 106/200 ]  loss = 1.56035, acc = 0.46120\n"
          ]
        },
        {
          "output_type": "display_data",
          "data": {
            "text/plain": "Train:   0%|          | 0/24 [00:00<?, ?it/s]",
            "application/vnd.jupyter.widget-view+json": {
              "version_major": 2,
              "version_minor": 0,
              "model_id": "26b5abaac7bd42b69f161f7a1ff041b3"
            }
          },
          "metadata": {}
        },
        {
          "output_type": "stream",
          "name": "stdout",
          "text": [
            "[ Train | 107/200 ] loss = 1.63101, acc = 0.42253\n"
          ]
        },
        {
          "output_type": "display_data",
          "data": {
            "text/plain": "Valid:   0%|          | 0/6 [00:00<?, ?it/s]",
            "application/vnd.jupyter.widget-view+json": {
              "version_major": 2,
              "version_minor": 0,
              "model_id": "5f54ef6650444ca2a61d267b95b08ead"
            }
          },
          "metadata": {}
        },
        {
          "output_type": "stream",
          "name": "stdout",
          "text": [
            "saving model with acc 0.494\n[ Valid | 107/200 ]  loss = 1.48280, acc = 0.49401\n"
          ]
        },
        {
          "output_type": "display_data",
          "data": {
            "text/plain": "Train:   0%|          | 0/24 [00:00<?, ?it/s]",
            "application/vnd.jupyter.widget-view+json": {
              "version_major": 2,
              "version_minor": 0,
              "model_id": "eee4c18916c14c18aa1ba8eae97c4e80"
            }
          },
          "metadata": {}
        },
        {
          "output_type": "stream",
          "name": "stdout",
          "text": [
            "[ Train | 108/200 ] loss = 1.60844, acc = 0.43490\n"
          ]
        },
        {
          "output_type": "display_data",
          "data": {
            "text/plain": "Valid:   0%|          | 0/6 [00:00<?, ?it/s]",
            "application/vnd.jupyter.widget-view+json": {
              "version_major": 2,
              "version_minor": 0,
              "model_id": "096803f63f974a3482fc0fb6d1a50197"
            }
          },
          "metadata": {}
        },
        {
          "output_type": "stream",
          "name": "stdout",
          "text": [
            "saving model with acc 0.505\n[ Valid | 108/200 ]  loss = 1.45665, acc = 0.50547\n"
          ]
        },
        {
          "output_type": "display_data",
          "data": {
            "text/plain": "Train:   0%|          | 0/24 [00:00<?, ?it/s]",
            "application/vnd.jupyter.widget-view+json": {
              "version_major": 2,
              "version_minor": 0,
              "model_id": "f98dc34bdd3b4555969e2fcdc54f84de"
            }
          },
          "metadata": {}
        },
        {
          "output_type": "stream",
          "name": "stdout",
          "text": [
            "[ Train | 109/200 ] loss = 1.61107, acc = 0.43717\n"
          ]
        },
        {
          "output_type": "display_data",
          "data": {
            "text/plain": "Valid:   0%|          | 0/6 [00:00<?, ?it/s]",
            "application/vnd.jupyter.widget-view+json": {
              "version_major": 2,
              "version_minor": 0,
              "model_id": "7eb18d6e776f4b1785951bd53fc0e8b0"
            }
          },
          "metadata": {}
        },
        {
          "output_type": "stream",
          "name": "stdout",
          "text": [
            "[ Valid | 109/200 ]  loss = 1.46837, acc = 0.50104\n"
          ]
        },
        {
          "output_type": "display_data",
          "data": {
            "text/plain": "Train:   0%|          | 0/24 [00:00<?, ?it/s]",
            "application/vnd.jupyter.widget-view+json": {
              "version_major": 2,
              "version_minor": 0,
              "model_id": "4eed1b605a574e90a66fd6132e556c54"
            }
          },
          "metadata": {}
        },
        {
          "output_type": "stream",
          "name": "stdout",
          "text": [
            "[ Train | 110/200 ] loss = 1.59631, acc = 0.43717\n"
          ]
        },
        {
          "output_type": "display_data",
          "data": {
            "text/plain": "Valid:   0%|          | 0/6 [00:00<?, ?it/s]",
            "application/vnd.jupyter.widget-view+json": {
              "version_major": 2,
              "version_minor": 0,
              "model_id": "a73862706a8540dba0ee8f5c1d402179"
            }
          },
          "metadata": {}
        },
        {
          "output_type": "stream",
          "name": "stdout",
          "text": [
            "[ Valid | 110/200 ]  loss = 1.49975, acc = 0.49271\n"
          ]
        },
        {
          "output_type": "display_data",
          "data": {
            "text/plain": "Train:   0%|          | 0/24 [00:00<?, ?it/s]",
            "application/vnd.jupyter.widget-view+json": {
              "version_major": 2,
              "version_minor": 0,
              "model_id": "522d3698c2834e8cb0898ee933594068"
            }
          },
          "metadata": {}
        },
        {
          "output_type": "stream",
          "name": "stdout",
          "text": [
            "[ Train | 111/200 ] loss = 1.60177, acc = 0.43262\n"
          ]
        },
        {
          "output_type": "display_data",
          "data": {
            "text/plain": "Valid:   0%|          | 0/6 [00:00<?, ?it/s]",
            "application/vnd.jupyter.widget-view+json": {
              "version_major": 2,
              "version_minor": 0,
              "model_id": "d2444e29123c4bd78cc16b75c4cae816"
            }
          },
          "metadata": {}
        },
        {
          "output_type": "stream",
          "name": "stdout",
          "text": [
            "[ Valid | 111/200 ]  loss = 1.44746, acc = 0.48958\n"
          ]
        },
        {
          "output_type": "display_data",
          "data": {
            "text/plain": "Train:   0%|          | 0/24 [00:00<?, ?it/s]",
            "application/vnd.jupyter.widget-view+json": {
              "version_major": 2,
              "version_minor": 0,
              "model_id": "d5fd9473b4424ffc8d4d35526883cfba"
            }
          },
          "metadata": {}
        },
        {
          "output_type": "stream",
          "name": "stdout",
          "text": [
            "[ Train | 112/200 ] loss = 1.59572, acc = 0.43262\n"
          ]
        },
        {
          "output_type": "display_data",
          "data": {
            "text/plain": "Valid:   0%|          | 0/6 [00:00<?, ?it/s]",
            "application/vnd.jupyter.widget-view+json": {
              "version_major": 2,
              "version_minor": 0,
              "model_id": "062e1699d8ca4992a123d8377fcbc184"
            }
          },
          "metadata": {}
        },
        {
          "output_type": "stream",
          "name": "stdout",
          "text": [
            "[ Valid | 112/200 ]  loss = 1.46468, acc = 0.48568\n"
          ]
        },
        {
          "output_type": "display_data",
          "data": {
            "text/plain": "Train:   0%|          | 0/24 [00:00<?, ?it/s]",
            "application/vnd.jupyter.widget-view+json": {
              "version_major": 2,
              "version_minor": 0,
              "model_id": "5c3b23c8e3764a8191f52d4628058c6e"
            }
          },
          "metadata": {}
        },
        {
          "output_type": "stream",
          "name": "stdout",
          "text": [
            "[ Train | 113/200 ] loss = 1.60038, acc = 0.42741\n"
          ]
        },
        {
          "output_type": "display_data",
          "data": {
            "text/plain": "Valid:   0%|          | 0/6 [00:00<?, ?it/s]",
            "application/vnd.jupyter.widget-view+json": {
              "version_major": 2,
              "version_minor": 0,
              "model_id": "6e13a4d0a8a94c48bbfdc1c8c3e9118c"
            }
          },
          "metadata": {}
        },
        {
          "output_type": "stream",
          "name": "stdout",
          "text": [
            "[ Valid | 113/200 ]  loss = 1.46643, acc = 0.49089\n"
          ]
        },
        {
          "output_type": "display_data",
          "data": {
            "text/plain": "Train:   0%|          | 0/24 [00:00<?, ?it/s]",
            "application/vnd.jupyter.widget-view+json": {
              "version_major": 2,
              "version_minor": 0,
              "model_id": "f03ab1f22eba4f9788aef83e982162b6"
            }
          },
          "metadata": {}
        },
        {
          "output_type": "stream",
          "name": "stdout",
          "text": [
            "[ Train | 114/200 ] loss = 1.59821, acc = 0.43392\n"
          ]
        },
        {
          "output_type": "display_data",
          "data": {
            "text/plain": "Valid:   0%|          | 0/6 [00:00<?, ?it/s]",
            "application/vnd.jupyter.widget-view+json": {
              "version_major": 2,
              "version_minor": 0,
              "model_id": "6976dd67740a4114a3b4564c7957a08a"
            }
          },
          "metadata": {}
        },
        {
          "output_type": "stream",
          "name": "stdout",
          "text": [
            "[ Valid | 114/200 ]  loss = 1.49328, acc = 0.45365\n"
          ]
        },
        {
          "output_type": "display_data",
          "data": {
            "text/plain": "Train:   0%|          | 0/24 [00:00<?, ?it/s]",
            "application/vnd.jupyter.widget-view+json": {
              "version_major": 2,
              "version_minor": 0,
              "model_id": "43b89c9fb8c047d4846bc9168b25281b"
            }
          },
          "metadata": {}
        },
        {
          "output_type": "stream",
          "name": "stdout",
          "text": [
            "[ Train | 115/200 ] loss = 1.59101, acc = 0.43848\n"
          ]
        },
        {
          "output_type": "display_data",
          "data": {
            "text/plain": "Valid:   0%|          | 0/6 [00:00<?, ?it/s]",
            "application/vnd.jupyter.widget-view+json": {
              "version_major": 2,
              "version_minor": 0,
              "model_id": "bec8a19f32cf46f79bf24f1108a3eec1"
            }
          },
          "metadata": {}
        },
        {
          "output_type": "stream",
          "name": "stdout",
          "text": [
            "[ Valid | 115/200 ]  loss = 1.46759, acc = 0.47474\n"
          ]
        },
        {
          "output_type": "display_data",
          "data": {
            "text/plain": "Train:   0%|          | 0/24 [00:00<?, ?it/s]",
            "application/vnd.jupyter.widget-view+json": {
              "version_major": 2,
              "version_minor": 0,
              "model_id": "28ef4f1bdd2b486189e6c569c80f8f51"
            }
          },
          "metadata": {}
        },
        {
          "output_type": "stream",
          "name": "stdout",
          "text": [
            "[ Train | 116/200 ] loss = 1.56719, acc = 0.44076\n"
          ]
        },
        {
          "output_type": "display_data",
          "data": {
            "text/plain": "Valid:   0%|          | 0/6 [00:00<?, ?it/s]",
            "application/vnd.jupyter.widget-view+json": {
              "version_major": 2,
              "version_minor": 0,
              "model_id": "0dd0684fbbdf4e449875edc1ca64d49a"
            }
          },
          "metadata": {}
        },
        {
          "output_type": "stream",
          "name": "stdout",
          "text": [
            "[ Valid | 116/200 ]  loss = 1.47486, acc = 0.47865\n"
          ]
        },
        {
          "output_type": "display_data",
          "data": {
            "text/plain": "Train:   0%|          | 0/24 [00:00<?, ?it/s]",
            "application/vnd.jupyter.widget-view+json": {
              "version_major": 2,
              "version_minor": 0,
              "model_id": "084b91ecf3a04185a3b0171b29d30612"
            }
          },
          "metadata": {}
        },
        {
          "output_type": "stream",
          "name": "stdout",
          "text": [
            "[ Train | 117/200 ] loss = 1.55081, acc = 0.45833\n"
          ]
        },
        {
          "output_type": "display_data",
          "data": {
            "text/plain": "Valid:   0%|          | 0/6 [00:00<?, ?it/s]",
            "application/vnd.jupyter.widget-view+json": {
              "version_major": 2,
              "version_minor": 0,
              "model_id": "5a56129ba4f847f9a0ffe9cdedab2982"
            }
          },
          "metadata": {}
        },
        {
          "output_type": "stream",
          "name": "stdout",
          "text": [
            "[ Valid | 117/200 ]  loss = 1.47490, acc = 0.47500\nEpoch    67: reducing learning rate of group 0 to 6.2500e-05.\n"
          ]
        },
        {
          "output_type": "display_data",
          "data": {
            "text/plain": "Train:   0%|          | 0/24 [00:00<?, ?it/s]",
            "application/vnd.jupyter.widget-view+json": {
              "version_major": 2,
              "version_minor": 0,
              "model_id": "96d39bdd705c409da0c5546365d1b222"
            }
          },
          "metadata": {}
        },
        {
          "output_type": "stream",
          "name": "stdout",
          "text": [
            "[ Train | 118/200 ] loss = 1.54539, acc = 0.45085\n"
          ]
        },
        {
          "output_type": "display_data",
          "data": {
            "text/plain": "Valid:   0%|          | 0/6 [00:00<?, ?it/s]",
            "application/vnd.jupyter.widget-view+json": {
              "version_major": 2,
              "version_minor": 0,
              "model_id": "95c260c5b14d4302a85ff060cd25a35f"
            }
          },
          "metadata": {}
        },
        {
          "output_type": "stream",
          "name": "stdout",
          "text": [
            "[ Valid | 118/200 ]  loss = 1.49589, acc = 0.49609\n"
          ]
        },
        {
          "output_type": "display_data",
          "data": {
            "text/plain": "Train:   0%|          | 0/24 [00:00<?, ?it/s]",
            "application/vnd.jupyter.widget-view+json": {
              "version_major": 2,
              "version_minor": 0,
              "model_id": "1ed524c8e38046dc836247d56d7d5002"
            }
          },
          "metadata": {}
        },
        {
          "output_type": "stream",
          "name": "stdout",
          "text": [
            "[ Train | 119/200 ] loss = 1.55992, acc = 0.44531\n"
          ]
        },
        {
          "output_type": "display_data",
          "data": {
            "text/plain": "Valid:   0%|          | 0/6 [00:00<?, ?it/s]",
            "application/vnd.jupyter.widget-view+json": {
              "version_major": 2,
              "version_minor": 0,
              "model_id": "66ded4df7b964337b267b595e116bd5c"
            }
          },
          "metadata": {}
        },
        {
          "output_type": "stream",
          "name": "stdout",
          "text": [
            "[ Valid | 119/200 ]  loss = 1.44488, acc = 0.48385\n"
          ]
        },
        {
          "output_type": "display_data",
          "data": {
            "text/plain": "Train:   0%|          | 0/24 [00:00<?, ?it/s]",
            "application/vnd.jupyter.widget-view+json": {
              "version_major": 2,
              "version_minor": 0,
              "model_id": "5bd38d0d355244988e29367b45269954"
            }
          },
          "metadata": {}
        },
        {
          "output_type": "stream",
          "name": "stdout",
          "text": [
            "[ Train | 120/200 ] loss = 1.54308, acc = 0.45182\n"
          ]
        },
        {
          "output_type": "display_data",
          "data": {
            "text/plain": "Valid:   0%|          | 0/6 [00:00<?, ?it/s]",
            "application/vnd.jupyter.widget-view+json": {
              "version_major": 2,
              "version_minor": 0,
              "model_id": "90949c4669c44b81b61a7221094365fd"
            }
          },
          "metadata": {}
        },
        {
          "output_type": "stream",
          "name": "stdout",
          "text": [
            "saving model with acc 0.510\n[ Valid | 120/200 ]  loss = 1.42623, acc = 0.51016\n"
          ]
        },
        {
          "output_type": "display_data",
          "data": {
            "text/plain": "Train:   0%|          | 0/24 [00:00<?, ?it/s]",
            "application/vnd.jupyter.widget-view+json": {
              "version_major": 2,
              "version_minor": 0,
              "model_id": "34e6bbf1daaa43c69acbb9a9ee495534"
            }
          },
          "metadata": {}
        },
        {
          "output_type": "stream",
          "name": "stdout",
          "text": [
            "[ Train | 121/200 ] loss = 1.55639, acc = 0.45703\n"
          ]
        },
        {
          "output_type": "display_data",
          "data": {
            "text/plain": "Valid:   0%|          | 0/6 [00:00<?, ?it/s]",
            "application/vnd.jupyter.widget-view+json": {
              "version_major": 2,
              "version_minor": 0,
              "model_id": "0552c71e6d8a40bab0b6885acf5b76e7"
            }
          },
          "metadata": {}
        },
        {
          "output_type": "stream",
          "name": "stdout",
          "text": [
            "[ Valid | 121/200 ]  loss = 1.48851, acc = 0.47891\n"
          ]
        },
        {
          "output_type": "display_data",
          "data": {
            "text/plain": "Train:   0%|          | 0/24 [00:00<?, ?it/s]",
            "application/vnd.jupyter.widget-view+json": {
              "version_major": 2,
              "version_minor": 0,
              "model_id": "7d363c9e224948c89f10f8bfee0e677b"
            }
          },
          "metadata": {}
        },
        {
          "output_type": "stream",
          "name": "stdout",
          "text": [
            "[ Train | 122/200 ] loss = 1.54077, acc = 0.45150\n"
          ]
        },
        {
          "output_type": "display_data",
          "data": {
            "text/plain": "Valid:   0%|          | 0/6 [00:00<?, ?it/s]",
            "application/vnd.jupyter.widget-view+json": {
              "version_major": 2,
              "version_minor": 0,
              "model_id": "121add7d9d13424190b4561d17edc12d"
            }
          },
          "metadata": {}
        },
        {
          "output_type": "stream",
          "name": "stdout",
          "text": [
            "[ Valid | 122/200 ]  loss = 1.46639, acc = 0.49297\n"
          ]
        },
        {
          "output_type": "display_data",
          "data": {
            "text/plain": "Train:   0%|          | 0/24 [00:00<?, ?it/s]",
            "application/vnd.jupyter.widget-view+json": {
              "version_major": 2,
              "version_minor": 0,
              "model_id": "c641843d06ac4e81bd573b43002588dc"
            }
          },
          "metadata": {}
        },
        {
          "output_type": "stream",
          "name": "stdout",
          "text": [
            "[ Train | 123/200 ] loss = 1.55002, acc = 0.45964\n"
          ]
        },
        {
          "output_type": "display_data",
          "data": {
            "text/plain": "Valid:   0%|          | 0/6 [00:00<?, ?it/s]",
            "application/vnd.jupyter.widget-view+json": {
              "version_major": 2,
              "version_minor": 0,
              "model_id": "cce357a2c4a54a7c9fde66dd32c26033"
            }
          },
          "metadata": {}
        },
        {
          "output_type": "stream",
          "name": "stdout",
          "text": [
            "[ Valid | 123/200 ]  loss = 1.45197, acc = 0.49557\n"
          ]
        },
        {
          "output_type": "display_data",
          "data": {
            "text/plain": "Train:   0%|          | 0/24 [00:00<?, ?it/s]",
            "application/vnd.jupyter.widget-view+json": {
              "version_major": 2,
              "version_minor": 0,
              "model_id": "a7330eb2874449269c32ef25bdb7a4ca"
            }
          },
          "metadata": {}
        },
        {
          "output_type": "stream",
          "name": "stdout",
          "text": [
            "[ Train | 124/200 ] loss = 1.52967, acc = 0.45671\n"
          ]
        },
        {
          "output_type": "display_data",
          "data": {
            "text/plain": "Valid:   0%|          | 0/6 [00:00<?, ?it/s]",
            "application/vnd.jupyter.widget-view+json": {
              "version_major": 2,
              "version_minor": 0,
              "model_id": "e610f181d7034c369864b29f7d69de4b"
            }
          },
          "metadata": {}
        },
        {
          "output_type": "stream",
          "name": "stdout",
          "text": [
            "[ Valid | 124/200 ]  loss = 1.42288, acc = 0.49740\n"
          ]
        },
        {
          "output_type": "display_data",
          "data": {
            "text/plain": "Train:   0%|          | 0/24 [00:00<?, ?it/s]",
            "application/vnd.jupyter.widget-view+json": {
              "version_major": 2,
              "version_minor": 0,
              "model_id": "70ad088744be48f3b8de1fdf0e4cdb0d"
            }
          },
          "metadata": {}
        },
        {
          "output_type": "stream",
          "name": "stdout",
          "text": [
            "[ Train | 125/200 ] loss = 1.53338, acc = 0.45117\n"
          ]
        },
        {
          "output_type": "display_data",
          "data": {
            "text/plain": "Valid:   0%|          | 0/6 [00:00<?, ?it/s]",
            "application/vnd.jupyter.widget-view+json": {
              "version_major": 2,
              "version_minor": 0,
              "model_id": "b82a6893216140adbf11a4fa41174f16"
            }
          },
          "metadata": {}
        },
        {
          "output_type": "stream",
          "name": "stdout",
          "text": [
            "saving model with acc 0.512\n[ Valid | 125/200 ]  loss = 1.45558, acc = 0.51224\n"
          ]
        },
        {
          "output_type": "display_data",
          "data": {
            "text/plain": "Train:   0%|          | 0/24 [00:00<?, ?it/s]",
            "application/vnd.jupyter.widget-view+json": {
              "version_major": 2,
              "version_minor": 0,
              "model_id": "793d9f73df5f4f59b3fa841fba8c3abb"
            }
          },
          "metadata": {}
        },
        {
          "output_type": "stream",
          "name": "stdout",
          "text": [
            "[ Train | 126/200 ] loss = 1.51087, acc = 0.45898\n"
          ]
        },
        {
          "output_type": "display_data",
          "data": {
            "text/plain": "Valid:   0%|          | 0/6 [00:00<?, ?it/s]",
            "application/vnd.jupyter.widget-view+json": {
              "version_major": 2,
              "version_minor": 0,
              "model_id": "dfdc625276bf41f9bac675f777c3e4e4"
            }
          },
          "metadata": {}
        },
        {
          "output_type": "stream",
          "name": "stdout",
          "text": [
            "[ Valid | 126/200 ]  loss = 1.45841, acc = 0.48776\n"
          ]
        },
        {
          "output_type": "display_data",
          "data": {
            "text/plain": "Train:   0%|          | 0/24 [00:00<?, ?it/s]",
            "application/vnd.jupyter.widget-view+json": {
              "version_major": 2,
              "version_minor": 0,
              "model_id": "217de363543748f88086fed08e4ad757"
            }
          },
          "metadata": {}
        },
        {
          "output_type": "stream",
          "name": "stdout",
          "text": [
            "[ Train | 127/200 ] loss = 1.55391, acc = 0.45898\n"
          ]
        },
        {
          "output_type": "display_data",
          "data": {
            "text/plain": "Valid:   0%|          | 0/6 [00:00<?, ?it/s]",
            "application/vnd.jupyter.widget-view+json": {
              "version_major": 2,
              "version_minor": 0,
              "model_id": "47341b3240724cc48d6580fc8fcd9966"
            }
          },
          "metadata": {}
        },
        {
          "output_type": "stream",
          "name": "stdout",
          "text": [
            "saving model with acc 0.527\n[ Valid | 127/200 ]  loss = 1.39631, acc = 0.52682\n"
          ]
        },
        {
          "output_type": "display_data",
          "data": {
            "text/plain": "Train:   0%|          | 0/24 [00:00<?, ?it/s]",
            "application/vnd.jupyter.widget-view+json": {
              "version_major": 2,
              "version_minor": 0,
              "model_id": "3812236aaf9a4ad0bd81c2cdd1131f1a"
            }
          },
          "metadata": {}
        },
        {
          "output_type": "stream",
          "name": "stdout",
          "text": [
            "[ Train | 128/200 ] loss = 1.52640, acc = 0.46973\n"
          ]
        },
        {
          "output_type": "display_data",
          "data": {
            "text/plain": "Valid:   0%|          | 0/6 [00:00<?, ?it/s]",
            "application/vnd.jupyter.widget-view+json": {
              "version_major": 2,
              "version_minor": 0,
              "model_id": "52a2a5d2fe3a4aac9a9888b6ac038fd3"
            }
          },
          "metadata": {}
        },
        {
          "output_type": "stream",
          "name": "stdout",
          "text": [
            "[ Valid | 128/200 ]  loss = 1.43088, acc = 0.50573\n"
          ]
        },
        {
          "output_type": "display_data",
          "data": {
            "text/plain": "Train:   0%|          | 0/24 [00:00<?, ?it/s]",
            "application/vnd.jupyter.widget-view+json": {
              "version_major": 2,
              "version_minor": 0,
              "model_id": "11d932b0830f4e84a665e48d74473cc1"
            }
          },
          "metadata": {}
        },
        {
          "output_type": "stream",
          "name": "stdout",
          "text": [
            "[ Train | 129/200 ] loss = 1.53773, acc = 0.46257\n"
          ]
        },
        {
          "output_type": "display_data",
          "data": {
            "text/plain": "Valid:   0%|          | 0/6 [00:00<?, ?it/s]",
            "application/vnd.jupyter.widget-view+json": {
              "version_major": 2,
              "version_minor": 0,
              "model_id": "1456b9ca05e8467d8bb9b980965770c0"
            }
          },
          "metadata": {}
        },
        {
          "output_type": "stream",
          "name": "stdout",
          "text": [
            "[ Valid | 129/200 ]  loss = 1.48886, acc = 0.47630\n"
          ]
        },
        {
          "output_type": "display_data",
          "data": {
            "text/plain": "Train:   0%|          | 0/24 [00:00<?, ?it/s]",
            "application/vnd.jupyter.widget-view+json": {
              "version_major": 2,
              "version_minor": 0,
              "model_id": "3214150fb50d427cb850c2729fd94925"
            }
          },
          "metadata": {}
        },
        {
          "output_type": "stream",
          "name": "stdout",
          "text": [
            "[ Train | 130/200 ] loss = 1.50973, acc = 0.46615\n"
          ]
        },
        {
          "output_type": "display_data",
          "data": {
            "text/plain": "Valid:   0%|          | 0/6 [00:00<?, ?it/s]",
            "application/vnd.jupyter.widget-view+json": {
              "version_major": 2,
              "version_minor": 0,
              "model_id": "a6abd0ced1b3409bb3e1555049dd4651"
            }
          },
          "metadata": {}
        },
        {
          "output_type": "stream",
          "name": "stdout",
          "text": [
            "[ Valid | 130/200 ]  loss = 1.51801, acc = 0.49688\n"
          ]
        },
        {
          "output_type": "display_data",
          "data": {
            "text/plain": "Train:   0%|          | 0/24 [00:00<?, ?it/s]",
            "application/vnd.jupyter.widget-view+json": {
              "version_major": 2,
              "version_minor": 0,
              "model_id": "4a58c624943c4b49bcb2abc0fbef51c4"
            }
          },
          "metadata": {}
        },
        {
          "output_type": "stream",
          "name": "stdout",
          "text": [
            "[ Train | 131/200 ] loss = 1.52922, acc = 0.45410\n"
          ]
        },
        {
          "output_type": "display_data",
          "data": {
            "text/plain": "Valid:   0%|          | 0/6 [00:00<?, ?it/s]",
            "application/vnd.jupyter.widget-view+json": {
              "version_major": 2,
              "version_minor": 0,
              "model_id": "3497dd31bd7843938848afb85c39098a"
            }
          },
          "metadata": {}
        },
        {
          "output_type": "stream",
          "name": "stdout",
          "text": [
            "[ Valid | 131/200 ]  loss = 1.45065, acc = 0.49297\n"
          ]
        },
        {
          "output_type": "display_data",
          "data": {
            "text/plain": "Train:   0%|          | 0/24 [00:00<?, ?it/s]",
            "application/vnd.jupyter.widget-view+json": {
              "version_major": 2,
              "version_minor": 0,
              "model_id": "aea60780b2a841698e442c2810fd8b96"
            }
          },
          "metadata": {}
        },
        {
          "output_type": "stream",
          "name": "stdout",
          "text": [
            "[ Train | 132/200 ] loss = 1.51965, acc = 0.46517\n"
          ]
        },
        {
          "output_type": "display_data",
          "data": {
            "text/plain": "Valid:   0%|          | 0/6 [00:00<?, ?it/s]",
            "application/vnd.jupyter.widget-view+json": {
              "version_major": 2,
              "version_minor": 0,
              "model_id": "1bd8e62d7af742ff87e73480e79bf243"
            }
          },
          "metadata": {}
        },
        {
          "output_type": "stream",
          "name": "stdout",
          "text": [
            "[ Valid | 132/200 ]  loss = 1.42820, acc = 0.50078\n"
          ]
        },
        {
          "output_type": "display_data",
          "data": {
            "text/plain": "Train:   0%|          | 0/24 [00:00<?, ?it/s]",
            "application/vnd.jupyter.widget-view+json": {
              "version_major": 2,
              "version_minor": 0,
              "model_id": "115a141c9d614a4eba597ce2fcdeb1d5"
            }
          },
          "metadata": {}
        },
        {
          "output_type": "stream",
          "name": "stdout",
          "text": [
            "[ Train | 133/200 ] loss = 1.52699, acc = 0.48730\n"
          ]
        },
        {
          "output_type": "display_data",
          "data": {
            "text/plain": "Valid:   0%|          | 0/6 [00:00<?, ?it/s]",
            "application/vnd.jupyter.widget-view+json": {
              "version_major": 2,
              "version_minor": 0,
              "model_id": "d906ed54d43c490e834eb5c1eb6e1735"
            }
          },
          "metadata": {}
        },
        {
          "output_type": "stream",
          "name": "stdout",
          "text": [
            "[ Valid | 133/200 ]  loss = 1.49929, acc = 0.49505\nEpoch    83: reducing learning rate of group 0 to 3.1250e-05.\n"
          ]
        },
        {
          "output_type": "display_data",
          "data": {
            "text/plain": "Train:   0%|          | 0/24 [00:00<?, ?it/s]",
            "application/vnd.jupyter.widget-view+json": {
              "version_major": 2,
              "version_minor": 0,
              "model_id": "7f337384ea6e4504a9758f353c8cf237"
            }
          },
          "metadata": {}
        },
        {
          "output_type": "stream",
          "name": "stdout",
          "text": [
            "[ Train | 134/200 ] loss = 1.50884, acc = 0.46517\n"
          ]
        },
        {
          "output_type": "display_data",
          "data": {
            "text/plain": "Valid:   0%|          | 0/6 [00:00<?, ?it/s]",
            "application/vnd.jupyter.widget-view+json": {
              "version_major": 2,
              "version_minor": 0,
              "model_id": "10e005adb9e240a3b69b00bc3e211361"
            }
          },
          "metadata": {}
        },
        {
          "output_type": "stream",
          "name": "stdout",
          "text": [
            "[ Valid | 134/200 ]  loss = 1.46650, acc = 0.50208\n"
          ]
        },
        {
          "output_type": "display_data",
          "data": {
            "text/plain": "Train:   0%|          | 0/24 [00:00<?, ?it/s]",
            "application/vnd.jupyter.widget-view+json": {
              "version_major": 2,
              "version_minor": 0,
              "model_id": "d3d4fcb3bf1e4d7d95729e9fb9d90b90"
            }
          },
          "metadata": {}
        },
        {
          "output_type": "stream",
          "name": "stdout",
          "text": [
            "[ Train | 135/200 ] loss = 1.53002, acc = 0.46191\n"
          ]
        },
        {
          "output_type": "display_data",
          "data": {
            "text/plain": "Valid:   0%|          | 0/6 [00:00<?, ?it/s]",
            "application/vnd.jupyter.widget-view+json": {
              "version_major": 2,
              "version_minor": 0,
              "model_id": "d43050d68bed43d6837748ab46a163b3"
            }
          },
          "metadata": {}
        },
        {
          "output_type": "stream",
          "name": "stdout",
          "text": [
            "[ Valid | 135/200 ]  loss = 1.44525, acc = 0.51927\n"
          ]
        },
        {
          "output_type": "display_data",
          "data": {
            "text/plain": "Train:   0%|          | 0/24 [00:00<?, ?it/s]",
            "application/vnd.jupyter.widget-view+json": {
              "version_major": 2,
              "version_minor": 0,
              "model_id": "573cd89f5fe4433683a626d56b7324af"
            }
          },
          "metadata": {}
        },
        {
          "output_type": "stream",
          "name": "stdout",
          "text": [
            "[ Train | 136/200 ] loss = 1.50762, acc = 0.45638\n"
          ]
        },
        {
          "output_type": "display_data",
          "data": {
            "text/plain": "Valid:   0%|          | 0/6 [00:00<?, ?it/s]",
            "application/vnd.jupyter.widget-view+json": {
              "version_major": 2,
              "version_minor": 0,
              "model_id": "b0745c283ca84d40b97e9dae72de834e"
            }
          },
          "metadata": {}
        },
        {
          "output_type": "stream",
          "name": "stdout",
          "text": [
            "[ Valid | 136/200 ]  loss = 1.38509, acc = 0.52109\n"
          ]
        },
        {
          "output_type": "display_data",
          "data": {
            "text/plain": "Train:   0%|          | 0/24 [00:00<?, ?it/s]",
            "application/vnd.jupyter.widget-view+json": {
              "version_major": 2,
              "version_minor": 0,
              "model_id": "599d35f915ca4c2a8d4d1e72b6b53aa5"
            }
          },
          "metadata": {}
        },
        {
          "output_type": "stream",
          "name": "stdout",
          "text": [
            "[ Train | 137/200 ] loss = 1.49703, acc = 0.48633\n"
          ]
        },
        {
          "output_type": "display_data",
          "data": {
            "text/plain": "Valid:   0%|          | 0/6 [00:00<?, ?it/s]",
            "application/vnd.jupyter.widget-view+json": {
              "version_major": 2,
              "version_minor": 0,
              "model_id": "f459af8bad4f4c5783cd6d01337da18b"
            }
          },
          "metadata": {}
        },
        {
          "output_type": "stream",
          "name": "stdout",
          "text": [
            "[ Valid | 137/200 ]  loss = 1.48624, acc = 0.48854\n"
          ]
        },
        {
          "output_type": "display_data",
          "data": {
            "text/plain": "Train:   0%|          | 0/24 [00:00<?, ?it/s]",
            "application/vnd.jupyter.widget-view+json": {
              "version_major": 2,
              "version_minor": 0,
              "model_id": "0029f2af64d84abf837b483e0bc31d82"
            }
          },
          "metadata": {}
        },
        {
          "output_type": "stream",
          "name": "stdout",
          "text": [
            "[ Train | 138/200 ] loss = 1.50464, acc = 0.47266\n"
          ]
        },
        {
          "output_type": "display_data",
          "data": {
            "text/plain": "Valid:   0%|          | 0/6 [00:00<?, ?it/s]",
            "application/vnd.jupyter.widget-view+json": {
              "version_major": 2,
              "version_minor": 0,
              "model_id": "105bc66216cf4ce3bc673d39c84bfc8d"
            }
          },
          "metadata": {}
        },
        {
          "output_type": "stream",
          "name": "stdout",
          "text": [
            "[ Valid | 138/200 ]  loss = 1.43516, acc = 0.50391\n"
          ]
        },
        {
          "output_type": "display_data",
          "data": {
            "text/plain": "Train:   0%|          | 0/24 [00:00<?, ?it/s]",
            "application/vnd.jupyter.widget-view+json": {
              "version_major": 2,
              "version_minor": 0,
              "model_id": "f050f8dc893e4800861c35b22482de68"
            }
          },
          "metadata": {}
        },
        {
          "output_type": "stream",
          "name": "stdout",
          "text": [
            "[ Train | 139/200 ] loss = 1.50458, acc = 0.47038\n"
          ]
        },
        {
          "output_type": "display_data",
          "data": {
            "text/plain": "Valid:   0%|          | 0/6 [00:00<?, ?it/s]",
            "application/vnd.jupyter.widget-view+json": {
              "version_major": 2,
              "version_minor": 0,
              "model_id": "1a6b489e13c84d28ab64cf8367058d8b"
            }
          },
          "metadata": {}
        },
        {
          "output_type": "stream",
          "name": "stdout",
          "text": [
            "[ Valid | 139/200 ]  loss = 1.48079, acc = 0.51224\n"
          ]
        },
        {
          "output_type": "display_data",
          "data": {
            "text/plain": "Train:   0%|          | 0/24 [00:00<?, ?it/s]",
            "application/vnd.jupyter.widget-view+json": {
              "version_major": 2,
              "version_minor": 0,
              "model_id": "362ad84dd84b469ea5037f003bca39c0"
            }
          },
          "metadata": {}
        },
        {
          "output_type": "stream",
          "name": "stdout",
          "text": [
            "[ Train | 140/200 ] loss = 1.51373, acc = 0.46875\n"
          ]
        },
        {
          "output_type": "display_data",
          "data": {
            "text/plain": "Valid:   0%|          | 0/6 [00:00<?, ?it/s]",
            "application/vnd.jupyter.widget-view+json": {
              "version_major": 2,
              "version_minor": 0,
              "model_id": "2b1d16aceecd4e1e807881f36bf20d3e"
            }
          },
          "metadata": {}
        },
        {
          "output_type": "stream",
          "name": "stdout",
          "text": [
            "[ Valid | 140/200 ]  loss = 1.47598, acc = 0.48984\n"
          ]
        },
        {
          "output_type": "display_data",
          "data": {
            "text/plain": "Train:   0%|          | 0/24 [00:00<?, ?it/s]",
            "application/vnd.jupyter.widget-view+json": {
              "version_major": 2,
              "version_minor": 0,
              "model_id": "bfc6d8e4a2bb4c84bc8d9bd6ccd1c7eb"
            }
          },
          "metadata": {}
        },
        {
          "output_type": "stream",
          "name": "stdout",
          "text": [
            "[ Train | 141/200 ] loss = 1.50660, acc = 0.47363\n"
          ]
        },
        {
          "output_type": "display_data",
          "data": {
            "text/plain": "Valid:   0%|          | 0/6 [00:00<?, ?it/s]",
            "application/vnd.jupyter.widget-view+json": {
              "version_major": 2,
              "version_minor": 0,
              "model_id": "83337522ec4442e1b1afc10fa953b7fc"
            }
          },
          "metadata": {}
        },
        {
          "output_type": "stream",
          "name": "stdout",
          "text": [
            "[ Valid | 141/200 ]  loss = 1.49408, acc = 0.49115\n"
          ]
        },
        {
          "output_type": "display_data",
          "data": {
            "text/plain": "Train:   0%|          | 0/24 [00:00<?, ?it/s]",
            "application/vnd.jupyter.widget-view+json": {
              "version_major": 2,
              "version_minor": 0,
              "model_id": "3afea15dd3d6474d8dfd01d4fedaed28"
            }
          },
          "metadata": {}
        },
        {
          "output_type": "stream",
          "name": "stdout",
          "text": [
            "[ Train | 142/200 ] loss = 1.51411, acc = 0.46712\n"
          ]
        },
        {
          "output_type": "display_data",
          "data": {
            "text/plain": "Valid:   0%|          | 0/6 [00:00<?, ?it/s]",
            "application/vnd.jupyter.widget-view+json": {
              "version_major": 2,
              "version_minor": 0,
              "model_id": "7c6750c75dfc422291f16a9c36213a9d"
            }
          },
          "metadata": {}
        },
        {
          "output_type": "stream",
          "name": "stdout",
          "text": [
            "[ Valid | 142/200 ]  loss = 1.46391, acc = 0.48411\nEpoch    92: reducing learning rate of group 0 to 1.5625e-05.\n"
          ]
        },
        {
          "output_type": "display_data",
          "data": {
            "text/plain": "Train:   0%|          | 0/24 [00:00<?, ?it/s]",
            "application/vnd.jupyter.widget-view+json": {
              "version_major": 2,
              "version_minor": 0,
              "model_id": "ac217d6c1ea942e5947bda41a05d0b04"
            }
          },
          "metadata": {}
        },
        {
          "output_type": "stream",
          "name": "stdout",
          "text": [
            "[ Train | 143/200 ] loss = 1.51972, acc = 0.46484\n"
          ]
        },
        {
          "output_type": "display_data",
          "data": {
            "text/plain": "Valid:   0%|          | 0/6 [00:00<?, ?it/s]",
            "application/vnd.jupyter.widget-view+json": {
              "version_major": 2,
              "version_minor": 0,
              "model_id": "02b6618272d04b1281cf53b8365c888e"
            }
          },
          "metadata": {}
        },
        {
          "output_type": "stream",
          "name": "stdout",
          "text": [
            "[ Valid | 143/200 ]  loss = 1.46727, acc = 0.51484\n"
          ]
        },
        {
          "output_type": "display_data",
          "data": {
            "text/plain": "Train:   0%|          | 0/24 [00:00<?, ?it/s]",
            "application/vnd.jupyter.widget-view+json": {
              "version_major": 2,
              "version_minor": 0,
              "model_id": "a8fc2d12076742a889d6ed3bda728576"
            }
          },
          "metadata": {}
        },
        {
          "output_type": "stream",
          "name": "stdout",
          "text": [
            "[ Train | 144/200 ] loss = 1.51808, acc = 0.46777\n"
          ]
        },
        {
          "output_type": "display_data",
          "data": {
            "text/plain": "Valid:   0%|          | 0/6 [00:00<?, ?it/s]",
            "application/vnd.jupyter.widget-view+json": {
              "version_major": 2,
              "version_minor": 0,
              "model_id": "cb8bff1c6a184ee5a061e936e823abd6"
            }
          },
          "metadata": {}
        },
        {
          "output_type": "stream",
          "name": "stdout",
          "text": [
            "[ Valid | 144/200 ]  loss = 1.44294, acc = 0.50651\n"
          ]
        },
        {
          "output_type": "display_data",
          "data": {
            "text/plain": "Train:   0%|          | 0/24 [00:00<?, ?it/s]",
            "application/vnd.jupyter.widget-view+json": {
              "version_major": 2,
              "version_minor": 0,
              "model_id": "0c463b075724424fa04c1627d6cec424"
            }
          },
          "metadata": {}
        },
        {
          "output_type": "stream",
          "name": "stdout",
          "text": [
            "[ Train | 145/200 ] loss = 1.49068, acc = 0.47754\n"
          ]
        },
        {
          "output_type": "display_data",
          "data": {
            "text/plain": "Valid:   0%|          | 0/6 [00:00<?, ?it/s]",
            "application/vnd.jupyter.widget-view+json": {
              "version_major": 2,
              "version_minor": 0,
              "model_id": "e332bfa317dc47f9924dc2047c1cdbaf"
            }
          },
          "metadata": {}
        },
        {
          "output_type": "stream",
          "name": "stdout",
          "text": [
            "[ Valid | 145/200 ]  loss = 1.48950, acc = 0.48802\n"
          ]
        },
        {
          "output_type": "display_data",
          "data": {
            "text/plain": "Train:   0%|          | 0/24 [00:00<?, ?it/s]",
            "application/vnd.jupyter.widget-view+json": {
              "version_major": 2,
              "version_minor": 0,
              "model_id": "27efda3ad90c4264a91a0b55d7351ac2"
            }
          },
          "metadata": {}
        },
        {
          "output_type": "stream",
          "name": "stdout",
          "text": [
            "[ Train | 146/200 ] loss = 1.50028, acc = 0.46973\n"
          ]
        },
        {
          "output_type": "display_data",
          "data": {
            "text/plain": "Valid:   0%|          | 0/6 [00:00<?, ?it/s]",
            "application/vnd.jupyter.widget-view+json": {
              "version_major": 2,
              "version_minor": 0,
              "model_id": "dfabbbbf14804fb0ab8b093430313ee6"
            }
          },
          "metadata": {}
        },
        {
          "output_type": "stream",
          "name": "stdout",
          "text": [
            "[ Valid | 146/200 ]  loss = 1.46109, acc = 0.47708\n"
          ]
        },
        {
          "output_type": "display_data",
          "data": {
            "text/plain": "Train:   0%|          | 0/24 [00:00<?, ?it/s]",
            "application/vnd.jupyter.widget-view+json": {
              "version_major": 2,
              "version_minor": 0,
              "model_id": "249aa8bef078458190953f7d9254b573"
            }
          },
          "metadata": {}
        },
        {
          "output_type": "stream",
          "name": "stdout",
          "text": [
            "[ Train | 147/200 ] loss = 1.48931, acc = 0.46322\n"
          ]
        },
        {
          "output_type": "display_data",
          "data": {
            "text/plain": "Valid:   0%|          | 0/6 [00:00<?, ?it/s]",
            "application/vnd.jupyter.widget-view+json": {
              "version_major": 2,
              "version_minor": 0,
              "model_id": "1030a0292cb94f299333bca1bacb265e"
            }
          },
          "metadata": {}
        },
        {
          "output_type": "stream",
          "name": "stdout",
          "text": [
            "[ Valid | 147/200 ]  loss = 1.49143, acc = 0.48802\n"
          ]
        },
        {
          "output_type": "display_data",
          "data": {
            "text/plain": "Train:   0%|          | 0/24 [00:00<?, ?it/s]",
            "application/vnd.jupyter.widget-view+json": {
              "version_major": 2,
              "version_minor": 0,
              "model_id": "65324c54e514470fa43f0869a1f12996"
            }
          },
          "metadata": {}
        },
        {
          "output_type": "stream",
          "name": "stdout",
          "text": [
            "[ Train | 148/200 ] loss = 1.47455, acc = 0.48796\n"
          ]
        },
        {
          "output_type": "display_data",
          "data": {
            "text/plain": "Valid:   0%|          | 0/6 [00:00<?, ?it/s]",
            "application/vnd.jupyter.widget-view+json": {
              "version_major": 2,
              "version_minor": 0,
              "model_id": "fa0f3e84d1d84f02aaddebf053591f74"
            }
          },
          "metadata": {}
        },
        {
          "output_type": "stream",
          "name": "stdout",
          "text": [
            "[ Valid | 148/200 ]  loss = 1.48368, acc = 0.49115\nEpoch    98: reducing learning rate of group 0 to 1.0000e-05.\n"
          ]
        },
        {
          "output_type": "display_data",
          "data": {
            "text/plain": "Train:   0%|          | 0/24 [00:00<?, ?it/s]",
            "application/vnd.jupyter.widget-view+json": {
              "version_major": 2,
              "version_minor": 0,
              "model_id": "507061359d354257acf1a6e38ac215c1"
            }
          },
          "metadata": {}
        },
        {
          "output_type": "stream",
          "name": "stdout",
          "text": [
            "[ Train | 149/200 ] loss = 1.51581, acc = 0.45964\n"
          ]
        },
        {
          "output_type": "display_data",
          "data": {
            "text/plain": "Valid:   0%|          | 0/6 [00:00<?, ?it/s]",
            "application/vnd.jupyter.widget-view+json": {
              "version_major": 2,
              "version_minor": 0,
              "model_id": "bed08f40f0e04703bd4b32ef7cfb43e8"
            }
          },
          "metadata": {}
        },
        {
          "output_type": "stream",
          "name": "stdout",
          "text": [
            "[ Valid | 149/200 ]  loss = 1.45147, acc = 0.49688\n"
          ]
        },
        {
          "output_type": "display_data",
          "data": {
            "text/plain": "Train:   0%|          | 0/24 [00:00<?, ?it/s]",
            "application/vnd.jupyter.widget-view+json": {
              "version_major": 2,
              "version_minor": 0,
              "model_id": "f2665db0f618405f9551d01db1a6be86"
            }
          },
          "metadata": {}
        },
        {
          "output_type": "stream",
          "name": "stdout",
          "text": [
            "[ Train | 150/200 ] loss = 1.48236, acc = 0.48047\n"
          ]
        },
        {
          "output_type": "display_data",
          "data": {
            "text/plain": "Valid:   0%|          | 0/6 [00:00<?, ?it/s]",
            "application/vnd.jupyter.widget-view+json": {
              "version_major": 2,
              "version_minor": 0,
              "model_id": "9a59f68893cf42128093d930f9ef4efb"
            }
          },
          "metadata": {}
        },
        {
          "output_type": "stream",
          "name": "stdout",
          "text": [
            "[ Valid | 150/200 ]  loss = 1.49854, acc = 0.49427\n"
          ]
        },
        {
          "output_type": "display_data",
          "data": {
            "text/plain": "Train:   0%|          | 0/24 [00:00<?, ?it/s]",
            "application/vnd.jupyter.widget-view+json": {
              "version_major": 2,
              "version_minor": 0,
              "model_id": "79ab10ca9e9a429fae49011bcdeb5a5a"
            }
          },
          "metadata": {}
        },
        {
          "output_type": "stream",
          "name": "stdout",
          "text": [
            "[ Train | 151/200 ] loss = 1.51033, acc = 0.45736\n"
          ]
        },
        {
          "output_type": "display_data",
          "data": {
            "text/plain": "Valid:   0%|          | 0/6 [00:00<?, ?it/s]",
            "application/vnd.jupyter.widget-view+json": {
              "version_major": 2,
              "version_minor": 0,
              "model_id": "555003104e6747d781d183d6599acd6a"
            }
          },
          "metadata": {}
        },
        {
          "output_type": "stream",
          "name": "stdout",
          "text": [
            "[ Valid | 151/200 ]  loss = 1.44798, acc = 0.51172\n"
          ]
        },
        {
          "output_type": "display_data",
          "data": {
            "text/plain": "Train:   0%|          | 0/24 [00:00<?, ?it/s]",
            "application/vnd.jupyter.widget-view+json": {
              "version_major": 2,
              "version_minor": 0,
              "model_id": "65e049d965af4ef49a77c37f0dc01d36"
            }
          },
          "metadata": {}
        },
        {
          "output_type": "stream",
          "name": "stdout",
          "text": [
            "[ Train | 152/200 ] loss = 1.49935, acc = 0.46680\n"
          ]
        },
        {
          "output_type": "display_data",
          "data": {
            "text/plain": "Valid:   0%|          | 0/6 [00:00<?, ?it/s]",
            "application/vnd.jupyter.widget-view+json": {
              "version_major": 2,
              "version_minor": 0,
              "model_id": "4a260ab7ddcd4e32877578450e0b59c9"
            }
          },
          "metadata": {}
        },
        {
          "output_type": "stream",
          "name": "stdout",
          "text": [
            "[ Valid | 152/200 ]  loss = 1.37540, acc = 0.52318\n"
          ]
        },
        {
          "output_type": "display_data",
          "data": {
            "text/plain": "Train:   0%|          | 0/24 [00:00<?, ?it/s]",
            "application/vnd.jupyter.widget-view+json": {
              "version_major": 2,
              "version_minor": 0,
              "model_id": "c6c63f2f483341859f02204d91ade54b"
            }
          },
          "metadata": {}
        },
        {
          "output_type": "stream",
          "name": "stdout",
          "text": [
            "[ Train | 153/200 ] loss = 1.48344, acc = 0.47917\n"
          ]
        },
        {
          "output_type": "display_data",
          "data": {
            "text/plain": "Valid:   0%|          | 0/6 [00:00<?, ?it/s]",
            "application/vnd.jupyter.widget-view+json": {
              "version_major": 2,
              "version_minor": 0,
              "model_id": "5b411d49bf2f4f469c46e441503dc3c6"
            }
          },
          "metadata": {}
        },
        {
          "output_type": "stream",
          "name": "stdout",
          "text": [
            "[ Valid | 153/200 ]  loss = 1.46030, acc = 0.49557\n"
          ]
        },
        {
          "output_type": "display_data",
          "data": {
            "text/plain": "Train:   0%|          | 0/24 [00:00<?, ?it/s]",
            "application/vnd.jupyter.widget-view+json": {
              "version_major": 2,
              "version_minor": 0,
              "model_id": "d1b5f5e9211a464fbe35571ba1be45e5"
            }
          },
          "metadata": {}
        },
        {
          "output_type": "stream",
          "name": "stdout",
          "text": [
            "[ Train | 154/200 ] loss = 1.48124, acc = 0.48372\n"
          ]
        },
        {
          "output_type": "display_data",
          "data": {
            "text/plain": "Valid:   0%|          | 0/6 [00:00<?, ?it/s]",
            "application/vnd.jupyter.widget-view+json": {
              "version_major": 2,
              "version_minor": 0,
              "model_id": "33e7551132974750ad1e37f9283d91d9"
            }
          },
          "metadata": {}
        },
        {
          "output_type": "stream",
          "name": "stdout",
          "text": [
            "[ Valid | 154/200 ]  loss = 1.40370, acc = 0.52500\n"
          ]
        },
        {
          "output_type": "display_data",
          "data": {
            "text/plain": "Train:   0%|          | 0/24 [00:00<?, ?it/s]",
            "application/vnd.jupyter.widget-view+json": {
              "version_major": 2,
              "version_minor": 0,
              "model_id": "2e49992ff49e4ee6bdef4e2bb1c7092b"
            }
          },
          "metadata": {}
        },
        {
          "output_type": "stream",
          "name": "stdout",
          "text": [
            "[ Train | 155/200 ] loss = 1.47972, acc = 0.48535\n"
          ]
        },
        {
          "output_type": "display_data",
          "data": {
            "text/plain": "Valid:   0%|          | 0/6 [00:00<?, ?it/s]",
            "application/vnd.jupyter.widget-view+json": {
              "version_major": 2,
              "version_minor": 0,
              "model_id": "1767045ece4c45d080f21f4b2cfe6890"
            }
          },
          "metadata": {}
        },
        {
          "output_type": "stream",
          "name": "stdout",
          "text": [
            "[ Valid | 155/200 ]  loss = 1.45819, acc = 0.49818\n"
          ]
        },
        {
          "output_type": "display_data",
          "data": {
            "text/plain": "Train:   0%|          | 0/24 [00:00<?, ?it/s]",
            "application/vnd.jupyter.widget-view+json": {
              "version_major": 2,
              "version_minor": 0,
              "model_id": "e7859e4de72b482eaafcb17395d44ed7"
            }
          },
          "metadata": {}
        },
        {
          "output_type": "stream",
          "name": "stdout",
          "text": [
            "[ Train | 156/200 ] loss = 1.48962, acc = 0.47656\n"
          ]
        },
        {
          "output_type": "display_data",
          "data": {
            "text/plain": "Valid:   0%|          | 0/6 [00:00<?, ?it/s]",
            "application/vnd.jupyter.widget-view+json": {
              "version_major": 2,
              "version_minor": 0,
              "model_id": "f879646a3d4e488ebaab562ec2474d25"
            }
          },
          "metadata": {}
        },
        {
          "output_type": "stream",
          "name": "stdout",
          "text": [
            "[ Valid | 156/200 ]  loss = 1.48039, acc = 0.50208\n"
          ]
        },
        {
          "output_type": "display_data",
          "data": {
            "text/plain": "Train:   0%|          | 0/24 [00:00<?, ?it/s]",
            "application/vnd.jupyter.widget-view+json": {
              "version_major": 2,
              "version_minor": 0,
              "model_id": "114ca8b891a54a2494896ffd638d05be"
            }
          },
          "metadata": {}
        },
        {
          "output_type": "stream",
          "name": "stdout",
          "text": [
            "[ Train | 157/200 ] loss = 1.47056, acc = 0.48079\n"
          ]
        },
        {
          "output_type": "display_data",
          "data": {
            "text/plain": "Valid:   0%|          | 0/6 [00:00<?, ?it/s]",
            "application/vnd.jupyter.widget-view+json": {
              "version_major": 2,
              "version_minor": 0,
              "model_id": "6da0cd9a322146469bb4fdcbda9702fb"
            }
          },
          "metadata": {}
        },
        {
          "output_type": "stream",
          "name": "stdout",
          "text": [
            "[ Valid | 157/200 ]  loss = 1.47410, acc = 0.50391\n"
          ]
        },
        {
          "output_type": "display_data",
          "data": {
            "text/plain": "Train:   0%|          | 0/24 [00:00<?, ?it/s]",
            "application/vnd.jupyter.widget-view+json": {
              "version_major": 2,
              "version_minor": 0,
              "model_id": "7badc9d4b00d4144baf0697864ad58b4"
            }
          },
          "metadata": {}
        },
        {
          "output_type": "stream",
          "name": "stdout",
          "text": [
            "[ Train | 158/200 ] loss = 1.51137, acc = 0.46875\n"
          ]
        },
        {
          "output_type": "display_data",
          "data": {
            "text/plain": "Valid:   0%|          | 0/6 [00:00<?, ?it/s]",
            "application/vnd.jupyter.widget-view+json": {
              "version_major": 2,
              "version_minor": 0,
              "model_id": "8fb86b0c99b74ae3b4d8cf54eccc3e61"
            }
          },
          "metadata": {}
        },
        {
          "output_type": "stream",
          "name": "stdout",
          "text": [
            "[ Valid | 158/200 ]  loss = 1.43838, acc = 0.50651\n"
          ]
        },
        {
          "output_type": "display_data",
          "data": {
            "text/plain": "Train:   0%|          | 0/24 [00:00<?, ?it/s]",
            "application/vnd.jupyter.widget-view+json": {
              "version_major": 2,
              "version_minor": 0,
              "model_id": "9e186250dd3d4ef8853b2bfe77b1cce1"
            }
          },
          "metadata": {}
        },
        {
          "output_type": "stream",
          "name": "stdout",
          "text": [
            "[ Train | 159/200 ] loss = 1.49775, acc = 0.47038\n"
          ]
        },
        {
          "output_type": "display_data",
          "data": {
            "text/plain": "Valid:   0%|          | 0/6 [00:00<?, ?it/s]",
            "application/vnd.jupyter.widget-view+json": {
              "version_major": 2,
              "version_minor": 0,
              "model_id": "eccc09ce52624d6d814be48faef58371"
            }
          },
          "metadata": {}
        },
        {
          "output_type": "stream",
          "name": "stdout",
          "text": [
            "[ Valid | 159/200 ]  loss = 1.42553, acc = 0.52188\n"
          ]
        },
        {
          "output_type": "display_data",
          "data": {
            "text/plain": "Train:   0%|          | 0/24 [00:00<?, ?it/s]",
            "application/vnd.jupyter.widget-view+json": {
              "version_major": 2,
              "version_minor": 0,
              "model_id": "29716795079e4fd2a02eab39ecbf6a80"
            }
          },
          "metadata": {}
        },
        {
          "output_type": "stream",
          "name": "stdout",
          "text": [
            "[ Train | 160/200 ] loss = 1.49796, acc = 0.47103\n"
          ]
        },
        {
          "output_type": "display_data",
          "data": {
            "text/plain": "Valid:   0%|          | 0/6 [00:00<?, ?it/s]",
            "application/vnd.jupyter.widget-view+json": {
              "version_major": 2,
              "version_minor": 0,
              "model_id": "894d7d8a80e242c4a68ebe426db48148"
            }
          },
          "metadata": {}
        },
        {
          "output_type": "stream",
          "name": "stdout",
          "text": [
            "[ Valid | 160/200 ]  loss = 1.48730, acc = 0.48229\n"
          ]
        },
        {
          "output_type": "display_data",
          "data": {
            "text/plain": "Train:   0%|          | 0/24 [00:00<?, ?it/s]",
            "application/vnd.jupyter.widget-view+json": {
              "version_major": 2,
              "version_minor": 0,
              "model_id": "126132aa0d4747d3985a09a3307532fb"
            }
          },
          "metadata": {}
        },
        {
          "output_type": "stream",
          "name": "stdout",
          "text": [
            "[ Train | 161/200 ] loss = 1.48073, acc = 0.47591\n"
          ]
        },
        {
          "output_type": "display_data",
          "data": {
            "text/plain": "Valid:   0%|          | 0/6 [00:00<?, ?it/s]",
            "application/vnd.jupyter.widget-view+json": {
              "version_major": 2,
              "version_minor": 0,
              "model_id": "6b6fa65a26bd4276a91ca7d60225702c"
            }
          },
          "metadata": {}
        },
        {
          "output_type": "stream",
          "name": "stdout",
          "text": [
            "[ Valid | 161/200 ]  loss = 1.47395, acc = 0.49375\n"
          ]
        },
        {
          "output_type": "display_data",
          "data": {
            "text/plain": "Train:   0%|          | 0/24 [00:00<?, ?it/s]",
            "application/vnd.jupyter.widget-view+json": {
              "version_major": 2,
              "version_minor": 0,
              "model_id": "0d04467a2b7244b6b314c2d0f5c6ab45"
            }
          },
          "metadata": {}
        },
        {
          "output_type": "stream",
          "name": "stdout",
          "text": [
            "[ Train | 162/200 ] loss = 1.44575, acc = 0.49349\n"
          ]
        },
        {
          "output_type": "display_data",
          "data": {
            "text/plain": "Valid:   0%|          | 0/6 [00:00<?, ?it/s]",
            "application/vnd.jupyter.widget-view+json": {
              "version_major": 2,
              "version_minor": 0,
              "model_id": "7e3d93bf302b45f98a63c0975cd740b0"
            }
          },
          "metadata": {}
        },
        {
          "output_type": "stream",
          "name": "stdout",
          "text": [
            "[ Valid | 162/200 ]  loss = 1.37809, acc = 0.52448\n"
          ]
        },
        {
          "output_type": "display_data",
          "data": {
            "text/plain": "Train:   0%|          | 0/24 [00:00<?, ?it/s]",
            "application/vnd.jupyter.widget-view+json": {
              "version_major": 2,
              "version_minor": 0,
              "model_id": "e67aa40a725e4a84a5d3fd4044119166"
            }
          },
          "metadata": {}
        },
        {
          "output_type": "stream",
          "name": "stdout",
          "text": [
            "[ Train | 163/200 ] loss = 1.47995, acc = 0.48014\n"
          ]
        },
        {
          "output_type": "display_data",
          "data": {
            "text/plain": "Valid:   0%|          | 0/6 [00:00<?, ?it/s]",
            "application/vnd.jupyter.widget-view+json": {
              "version_major": 2,
              "version_minor": 0,
              "model_id": "3d82cf6f7e5c400292ddc9469e90bc08"
            }
          },
          "metadata": {}
        },
        {
          "output_type": "stream",
          "name": "stdout",
          "text": [
            "[ Valid | 163/200 ]  loss = 1.45384, acc = 0.48854\n"
          ]
        },
        {
          "output_type": "display_data",
          "data": {
            "text/plain": "Train:   0%|          | 0/24 [00:00<?, ?it/s]",
            "application/vnd.jupyter.widget-view+json": {
              "version_major": 2,
              "version_minor": 0,
              "model_id": "99ea93d7a3894b30ab4a2433ed1678ae"
            }
          },
          "metadata": {}
        },
        {
          "output_type": "stream",
          "name": "stdout",
          "text": [
            "[ Train | 164/200 ] loss = 1.48957, acc = 0.46419\n"
          ]
        },
        {
          "output_type": "display_data",
          "data": {
            "text/plain": "Valid:   0%|          | 0/6 [00:00<?, ?it/s]",
            "application/vnd.jupyter.widget-view+json": {
              "version_major": 2,
              "version_minor": 0,
              "model_id": "dafad0294a5d4e2e99a72165d8c8f93f"
            }
          },
          "metadata": {}
        },
        {
          "output_type": "stream",
          "name": "stdout",
          "text": [
            "[ Valid | 164/200 ]  loss = 1.48734, acc = 0.49115\n"
          ]
        },
        {
          "output_type": "display_data",
          "data": {
            "text/plain": "Train:   0%|          | 0/24 [00:00<?, ?it/s]",
            "application/vnd.jupyter.widget-view+json": {
              "version_major": 2,
              "version_minor": 0,
              "model_id": "0e4e507a1188497693db1d2df0cad7e6"
            }
          },
          "metadata": {}
        },
        {
          "output_type": "stream",
          "name": "stdout",
          "text": [
            "[ Train | 165/200 ] loss = 1.48990, acc = 0.46647\n"
          ]
        },
        {
          "output_type": "display_data",
          "data": {
            "text/plain": "Valid:   0%|          | 0/6 [00:00<?, ?it/s]",
            "application/vnd.jupyter.widget-view+json": {
              "version_major": 2,
              "version_minor": 0,
              "model_id": "2e01d25dbc814176a817d21ebc369a21"
            }
          },
          "metadata": {}
        },
        {
          "output_type": "stream",
          "name": "stdout",
          "text": [
            "[ Valid | 165/200 ]  loss = 1.38773, acc = 0.52500\n"
          ]
        },
        {
          "output_type": "display_data",
          "data": {
            "text/plain": "Train:   0%|          | 0/24 [00:00<?, ?it/s]",
            "application/vnd.jupyter.widget-view+json": {
              "version_major": 2,
              "version_minor": 0,
              "model_id": "b841d8a8c8c1436f85d27020dffa1f62"
            }
          },
          "metadata": {}
        },
        {
          "output_type": "stream",
          "name": "stdout",
          "text": [
            "[ Train | 166/200 ] loss = 1.49112, acc = 0.47038\n"
          ]
        },
        {
          "output_type": "display_data",
          "data": {
            "text/plain": "Valid:   0%|          | 0/6 [00:00<?, ?it/s]",
            "application/vnd.jupyter.widget-view+json": {
              "version_major": 2,
              "version_minor": 0,
              "model_id": "3c49a440756a482485c543acf34c11c7"
            }
          },
          "metadata": {}
        },
        {
          "output_type": "stream",
          "name": "stdout",
          "text": [
            "[ Valid | 166/200 ]  loss = 1.48852, acc = 0.47969\n"
          ]
        },
        {
          "output_type": "display_data",
          "data": {
            "text/plain": "Train:   0%|          | 0/24 [00:00<?, ?it/s]",
            "application/vnd.jupyter.widget-view+json": {
              "version_major": 2,
              "version_minor": 0,
              "model_id": "bdce79d400694b73bec4fad6f54270a9"
            }
          },
          "metadata": {}
        },
        {
          "output_type": "stream",
          "name": "stdout",
          "text": [
            "[ Train | 167/200 ] loss = 1.48392, acc = 0.47689\n"
          ]
        },
        {
          "output_type": "display_data",
          "data": {
            "text/plain": "Valid:   0%|          | 0/6 [00:00<?, ?it/s]",
            "application/vnd.jupyter.widget-view+json": {
              "version_major": 2,
              "version_minor": 0,
              "model_id": "81609a57edfc43a6978bbbac958767b9"
            }
          },
          "metadata": {}
        },
        {
          "output_type": "stream",
          "name": "stdout",
          "text": [
            "[ Valid | 167/200 ]  loss = 1.44329, acc = 0.49505\n"
          ]
        },
        {
          "output_type": "display_data",
          "data": {
            "text/plain": "Train:   0%|          | 0/24 [00:00<?, ?it/s]",
            "application/vnd.jupyter.widget-view+json": {
              "version_major": 2,
              "version_minor": 0,
              "model_id": "84df41b9c576435fb030b62e070e37ff"
            }
          },
          "metadata": {}
        },
        {
          "output_type": "stream",
          "name": "stdout",
          "text": [
            "[ Train | 168/200 ] loss = 1.47600, acc = 0.47396\n"
          ]
        },
        {
          "output_type": "display_data",
          "data": {
            "text/plain": "Valid:   0%|          | 0/6 [00:00<?, ?it/s]",
            "application/vnd.jupyter.widget-view+json": {
              "version_major": 2,
              "version_minor": 0,
              "model_id": "ac222a8764ce4f7c93bb4bffe796f4d7"
            }
          },
          "metadata": {}
        },
        {
          "output_type": "stream",
          "name": "stdout",
          "text": [
            "[ Valid | 168/200 ]  loss = 1.45850, acc = 0.51224\n"
          ]
        },
        {
          "output_type": "display_data",
          "data": {
            "text/plain": "Train:   0%|          | 0/24 [00:00<?, ?it/s]",
            "application/vnd.jupyter.widget-view+json": {
              "version_major": 2,
              "version_minor": 0,
              "model_id": "3b9ab69f3f1848749b1d8667c791c57b"
            }
          },
          "metadata": {}
        },
        {
          "output_type": "stream",
          "name": "stdout",
          "text": [
            "[ Train | 169/200 ] loss = 1.49846, acc = 0.46973\n"
          ]
        },
        {
          "output_type": "display_data",
          "data": {
            "text/plain": "Valid:   0%|          | 0/6 [00:00<?, ?it/s]",
            "application/vnd.jupyter.widget-view+json": {
              "version_major": 2,
              "version_minor": 0,
              "model_id": "b6db896552e14863868e217f2559ab6f"
            }
          },
          "metadata": {}
        },
        {
          "output_type": "stream",
          "name": "stdout",
          "text": [
            "[ Valid | 169/200 ]  loss = 1.45692, acc = 0.49505\n"
          ]
        },
        {
          "output_type": "display_data",
          "data": {
            "text/plain": "Train:   0%|          | 0/24 [00:00<?, ?it/s]",
            "application/vnd.jupyter.widget-view+json": {
              "version_major": 2,
              "version_minor": 0,
              "model_id": "56d3b838c5464968aacde7c0723085bb"
            }
          },
          "metadata": {}
        },
        {
          "output_type": "stream",
          "name": "stdout",
          "text": [
            "[ Train | 170/200 ] loss = 1.46083, acc = 0.48242\n"
          ]
        },
        {
          "output_type": "display_data",
          "data": {
            "text/plain": "Valid:   0%|          | 0/6 [00:00<?, ?it/s]",
            "application/vnd.jupyter.widget-view+json": {
              "version_major": 2,
              "version_minor": 0,
              "model_id": "ccebb0db18ad409c92856dfd8f644bcd"
            }
          },
          "metadata": {}
        },
        {
          "output_type": "stream",
          "name": "stdout",
          "text": [
            "[ Valid | 170/200 ]  loss = 1.48858, acc = 0.49688\n"
          ]
        },
        {
          "output_type": "display_data",
          "data": {
            "text/plain": "Train:   0%|          | 0/24 [00:00<?, ?it/s]",
            "application/vnd.jupyter.widget-view+json": {
              "version_major": 2,
              "version_minor": 0,
              "model_id": "c2b49e4b2eb44a2490bbb3370f933c46"
            }
          },
          "metadata": {}
        },
        {
          "output_type": "stream",
          "name": "stdout",
          "text": [
            "[ Train | 171/200 ] loss = 1.48419, acc = 0.48535\n"
          ]
        },
        {
          "output_type": "display_data",
          "data": {
            "text/plain": "Valid:   0%|          | 0/6 [00:00<?, ?it/s]",
            "application/vnd.jupyter.widget-view+json": {
              "version_major": 2,
              "version_minor": 0,
              "model_id": "6d960e526acf40f1b7d3363f9728788a"
            }
          },
          "metadata": {}
        },
        {
          "output_type": "stream",
          "name": "stdout",
          "text": [
            "[ Valid | 171/200 ]  loss = 1.43526, acc = 0.49688\n"
          ]
        },
        {
          "output_type": "display_data",
          "data": {
            "text/plain": "Train:   0%|          | 0/24 [00:00<?, ?it/s]",
            "application/vnd.jupyter.widget-view+json": {
              "version_major": 2,
              "version_minor": 0,
              "model_id": "407aab07db9c448a83b654473539e440"
            }
          },
          "metadata": {}
        },
        {
          "output_type": "stream",
          "name": "stdout",
          "text": [
            "[ Train | 172/200 ] loss = 1.47115, acc = 0.47070\n"
          ]
        },
        {
          "output_type": "display_data",
          "data": {
            "text/plain": "Valid:   0%|          | 0/6 [00:00<?, ?it/s]",
            "application/vnd.jupyter.widget-view+json": {
              "version_major": 2,
              "version_minor": 0,
              "model_id": "75e8aebd2fbd4ffa917f85175fc920b2"
            }
          },
          "metadata": {}
        },
        {
          "output_type": "stream",
          "name": "stdout",
          "text": [
            "[ Valid | 172/200 ]  loss = 1.36582, acc = 0.52370\n"
          ]
        },
        {
          "output_type": "display_data",
          "data": {
            "text/plain": "Train:   0%|          | 0/24 [00:00<?, ?it/s]",
            "application/vnd.jupyter.widget-view+json": {
              "version_major": 2,
              "version_minor": 0,
              "model_id": "334a0b4048894f07a9c02dc78196d6c7"
            }
          },
          "metadata": {}
        },
        {
          "output_type": "stream",
          "name": "stdout",
          "text": [
            "[ Train | 173/200 ] loss = 1.48802, acc = 0.49251\n"
          ]
        },
        {
          "output_type": "display_data",
          "data": {
            "text/plain": "Valid:   0%|          | 0/6 [00:00<?, ?it/s]",
            "application/vnd.jupyter.widget-view+json": {
              "version_major": 2,
              "version_minor": 0,
              "model_id": "aa7b476955ee463ca532a9aa6d4c92e1"
            }
          },
          "metadata": {}
        },
        {
          "output_type": "stream",
          "name": "stdout",
          "text": [
            "[ Valid | 173/200 ]  loss = 1.44035, acc = 0.52318\n"
          ]
        },
        {
          "output_type": "display_data",
          "data": {
            "text/plain": "Train:   0%|          | 0/24 [00:00<?, ?it/s]",
            "application/vnd.jupyter.widget-view+json": {
              "version_major": 2,
              "version_minor": 0,
              "model_id": "bb96ebe4dcd54ecd9c216b97525b1d02"
            }
          },
          "metadata": {}
        },
        {
          "output_type": "stream",
          "name": "stdout",
          "text": [
            "[ Train | 174/200 ] loss = 1.48279, acc = 0.47461\n"
          ]
        },
        {
          "output_type": "display_data",
          "data": {
            "text/plain": "Valid:   0%|          | 0/6 [00:00<?, ?it/s]",
            "application/vnd.jupyter.widget-view+json": {
              "version_major": 2,
              "version_minor": 0,
              "model_id": "da0fcaa9fa8a43d7b0cb38392191032c"
            }
          },
          "metadata": {}
        },
        {
          "output_type": "stream",
          "name": "stdout",
          "text": [
            "[ Valid | 174/200 ]  loss = 1.47713, acc = 0.50990\n"
          ]
        },
        {
          "output_type": "display_data",
          "data": {
            "text/plain": "Train:   0%|          | 0/24 [00:00<?, ?it/s]",
            "application/vnd.jupyter.widget-view+json": {
              "version_major": 2,
              "version_minor": 0,
              "model_id": "1fbcfcf2f1ff43d297b10a0ac81be8ec"
            }
          },
          "metadata": {}
        },
        {
          "output_type": "stream",
          "name": "stdout",
          "text": [
            "[ Train | 175/200 ] loss = 1.50625, acc = 0.47396\n"
          ]
        },
        {
          "output_type": "display_data",
          "data": {
            "text/plain": "Valid:   0%|          | 0/6 [00:00<?, ?it/s]",
            "application/vnd.jupyter.widget-view+json": {
              "version_major": 2,
              "version_minor": 0,
              "model_id": "22e388513c424018ac4124eab4ca272e"
            }
          },
          "metadata": {}
        },
        {
          "output_type": "stream",
          "name": "stdout",
          "text": [
            "[ Valid | 175/200 ]  loss = 1.40204, acc = 0.49948\n"
          ]
        },
        {
          "output_type": "display_data",
          "data": {
            "text/plain": "Train:   0%|          | 0/24 [00:00<?, ?it/s]",
            "application/vnd.jupyter.widget-view+json": {
              "version_major": 2,
              "version_minor": 0,
              "model_id": "de570778fdb2449d9b947596d7ea130b"
            }
          },
          "metadata": {}
        },
        {
          "output_type": "stream",
          "name": "stdout",
          "text": [
            "[ Train | 176/200 ] loss = 1.46617, acc = 0.49219\n"
          ]
        },
        {
          "output_type": "display_data",
          "data": {
            "text/plain": "Valid:   0%|          | 0/6 [00:00<?, ?it/s]",
            "application/vnd.jupyter.widget-view+json": {
              "version_major": 2,
              "version_minor": 0,
              "model_id": "33fd74e178164da7a9b440918d273c18"
            }
          },
          "metadata": {}
        },
        {
          "output_type": "stream",
          "name": "stdout",
          "text": [
            "saving model with acc 0.530\n[ Valid | 176/200 ]  loss = 1.37222, acc = 0.53021\n"
          ]
        },
        {
          "output_type": "display_data",
          "data": {
            "text/plain": "Train:   0%|          | 0/24 [00:00<?, ?it/s]",
            "application/vnd.jupyter.widget-view+json": {
              "version_major": 2,
              "version_minor": 0,
              "model_id": "d9378bcc31dc4817bea2de78514244c3"
            }
          },
          "metadata": {}
        },
        {
          "output_type": "stream",
          "name": "stdout",
          "text": [
            "[ Train | 177/200 ] loss = 1.50581, acc = 0.46484\n"
          ]
        },
        {
          "output_type": "display_data",
          "data": {
            "text/plain": "Valid:   0%|          | 0/6 [00:00<?, ?it/s]",
            "application/vnd.jupyter.widget-view+json": {
              "version_major": 2,
              "version_minor": 0,
              "model_id": "d33b4b84178b4a3396ccd3b07355f09b"
            }
          },
          "metadata": {}
        },
        {
          "output_type": "stream",
          "name": "stdout",
          "text": [
            "[ Valid | 177/200 ]  loss = 1.47756, acc = 0.49193\n"
          ]
        },
        {
          "output_type": "display_data",
          "data": {
            "text/plain": "Train:   0%|          | 0/24 [00:00<?, ?it/s]",
            "application/vnd.jupyter.widget-view+json": {
              "version_major": 2,
              "version_minor": 0,
              "model_id": "345ea53ed7414938b69f742aeb451266"
            }
          },
          "metadata": {}
        },
        {
          "output_type": "stream",
          "name": "stdout",
          "text": [
            "[ Train | 178/200 ] loss = 1.47629, acc = 0.48438\n"
          ]
        },
        {
          "output_type": "display_data",
          "data": {
            "text/plain": "Valid:   0%|          | 0/6 [00:00<?, ?it/s]",
            "application/vnd.jupyter.widget-view+json": {
              "version_major": 2,
              "version_minor": 0,
              "model_id": "e18fd2c7c5df49ed93fc7cc5b1dc0312"
            }
          },
          "metadata": {}
        },
        {
          "output_type": "stream",
          "name": "stdout",
          "text": [
            "[ Valid | 178/200 ]  loss = 1.40791, acc = 0.52318\n"
          ]
        },
        {
          "output_type": "display_data",
          "data": {
            "text/plain": "Train:   0%|          | 0/24 [00:00<?, ?it/s]",
            "application/vnd.jupyter.widget-view+json": {
              "version_major": 2,
              "version_minor": 0,
              "model_id": "8374ca45ffa944ed9484bbdc46fce90d"
            }
          },
          "metadata": {}
        },
        {
          "output_type": "stream",
          "name": "stdout",
          "text": [
            "[ Train | 179/200 ] loss = 1.49242, acc = 0.47559\n"
          ]
        },
        {
          "output_type": "display_data",
          "data": {
            "text/plain": "Valid:   0%|          | 0/6 [00:00<?, ?it/s]",
            "application/vnd.jupyter.widget-view+json": {
              "version_major": 2,
              "version_minor": 0,
              "model_id": "c5120be947ac445298492b3553fbdb69"
            }
          },
          "metadata": {}
        },
        {
          "output_type": "stream",
          "name": "stdout",
          "text": [
            "[ Valid | 179/200 ]  loss = 1.45962, acc = 0.50208\n"
          ]
        },
        {
          "output_type": "display_data",
          "data": {
            "text/plain": "Train:   0%|          | 0/24 [00:00<?, ?it/s]",
            "application/vnd.jupyter.widget-view+json": {
              "version_major": 2,
              "version_minor": 0,
              "model_id": "fea48fa18f0a498faf44cb873e3d7c38"
            }
          },
          "metadata": {}
        },
        {
          "output_type": "stream",
          "name": "stdout",
          "text": [
            "[ Train | 180/200 ] loss = 1.52552, acc = 0.46159\n"
          ]
        },
        {
          "output_type": "display_data",
          "data": {
            "text/plain": "Valid:   0%|          | 0/6 [00:00<?, ?it/s]",
            "application/vnd.jupyter.widget-view+json": {
              "version_major": 2,
              "version_minor": 0,
              "model_id": "51c883a07f504652b4f004b7b52a8d88"
            }
          },
          "metadata": {}
        },
        {
          "output_type": "stream",
          "name": "stdout",
          "text": [
            "[ Valid | 180/200 ]  loss = 1.42698, acc = 0.51094\n"
          ]
        },
        {
          "output_type": "display_data",
          "data": {
            "text/plain": "Train:   0%|          | 0/24 [00:00<?, ?it/s]",
            "application/vnd.jupyter.widget-view+json": {
              "version_major": 2,
              "version_minor": 0,
              "model_id": "8d9cdd20222343a0bd18f4d2db45ebeb"
            }
          },
          "metadata": {}
        },
        {
          "output_type": "stream",
          "name": "stdout",
          "text": [
            "[ Train | 181/200 ] loss = 1.46563, acc = 0.48275\n"
          ]
        },
        {
          "output_type": "display_data",
          "data": {
            "text/plain": "Valid:   0%|          | 0/6 [00:00<?, ?it/s]",
            "application/vnd.jupyter.widget-view+json": {
              "version_major": 2,
              "version_minor": 0,
              "model_id": "707b968f9c734edb9fdf6cea19b4a863"
            }
          },
          "metadata": {}
        },
        {
          "output_type": "stream",
          "name": "stdout",
          "text": [
            "[ Valid | 181/200 ]  loss = 1.40353, acc = 0.52448\n"
          ]
        },
        {
          "output_type": "display_data",
          "data": {
            "text/plain": "Train:   0%|          | 0/24 [00:00<?, ?it/s]",
            "application/vnd.jupyter.widget-view+json": {
              "version_major": 2,
              "version_minor": 0,
              "model_id": "36058cc0165941b19f65f0607398d0b2"
            }
          },
          "metadata": {}
        },
        {
          "output_type": "stream",
          "name": "stdout",
          "text": [
            "[ Train | 182/200 ] loss = 1.46621, acc = 0.49674\n"
          ]
        },
        {
          "output_type": "display_data",
          "data": {
            "text/plain": "Valid:   0%|          | 0/6 [00:00<?, ?it/s]",
            "application/vnd.jupyter.widget-view+json": {
              "version_major": 2,
              "version_minor": 0,
              "model_id": "6b6ff52dd79247968ceb936208fcc02a"
            }
          },
          "metadata": {}
        },
        {
          "output_type": "stream",
          "name": "stdout",
          "text": [
            "[ Valid | 182/200 ]  loss = 1.49328, acc = 0.48359\n"
          ]
        },
        {
          "output_type": "display_data",
          "data": {
            "text/plain": "Train:   0%|          | 0/24 [00:00<?, ?it/s]",
            "application/vnd.jupyter.widget-view+json": {
              "version_major": 2,
              "version_minor": 0,
              "model_id": "5881d22fba664ce9a1209897e9baaf8c"
            }
          },
          "metadata": {}
        },
        {
          "output_type": "stream",
          "name": "stdout",
          "text": [
            "[ Train | 183/200 ] loss = 1.47987, acc = 0.47396\n"
          ]
        },
        {
          "output_type": "display_data",
          "data": {
            "text/plain": "Valid:   0%|          | 0/6 [00:00<?, ?it/s]",
            "application/vnd.jupyter.widget-view+json": {
              "version_major": 2,
              "version_minor": 0,
              "model_id": "dc52127444c847cdb9c3ad695f26b68c"
            }
          },
          "metadata": {}
        },
        {
          "output_type": "stream",
          "name": "stdout",
          "text": [
            "[ Valid | 183/200 ]  loss = 1.47198, acc = 0.49505\n"
          ]
        },
        {
          "output_type": "display_data",
          "data": {
            "text/plain": "Train:   0%|          | 0/24 [00:00<?, ?it/s]",
            "application/vnd.jupyter.widget-view+json": {
              "version_major": 2,
              "version_minor": 0,
              "model_id": "4184a84fd1b241818558fc981d2106b9"
            }
          },
          "metadata": {}
        },
        {
          "output_type": "stream",
          "name": "stdout",
          "text": [
            "[ Train | 184/200 ] loss = 1.47989, acc = 0.47201\n"
          ]
        },
        {
          "output_type": "display_data",
          "data": {
            "text/plain": "Valid:   0%|          | 0/6 [00:00<?, ?it/s]",
            "application/vnd.jupyter.widget-view+json": {
              "version_major": 2,
              "version_minor": 0,
              "model_id": "49c13dfba3b04662969547a857df4f4d"
            }
          },
          "metadata": {}
        },
        {
          "output_type": "stream",
          "name": "stdout",
          "text": [
            "[ Valid | 184/200 ]  loss = 1.44169, acc = 0.50911\n"
          ]
        },
        {
          "output_type": "display_data",
          "data": {
            "text/plain": "Train:   0%|          | 0/24 [00:00<?, ?it/s]",
            "application/vnd.jupyter.widget-view+json": {
              "version_major": 2,
              "version_minor": 0,
              "model_id": "4c18890cd7954739bd579c4f4f5de5ff"
            }
          },
          "metadata": {}
        },
        {
          "output_type": "stream",
          "name": "stdout",
          "text": [
            "[ Train | 185/200 ] loss = 1.49143, acc = 0.47786\n"
          ]
        },
        {
          "output_type": "display_data",
          "data": {
            "text/plain": "Valid:   0%|          | 0/6 [00:00<?, ?it/s]",
            "application/vnd.jupyter.widget-view+json": {
              "version_major": 2,
              "version_minor": 0,
              "model_id": "32d798992ad7491a96614e7df485fd07"
            }
          },
          "metadata": {}
        },
        {
          "output_type": "stream",
          "name": "stdout",
          "text": [
            "[ Valid | 185/200 ]  loss = 1.51021, acc = 0.48594\n"
          ]
        },
        {
          "output_type": "display_data",
          "data": {
            "text/plain": "Train:   0%|          | 0/24 [00:00<?, ?it/s]",
            "application/vnd.jupyter.widget-view+json": {
              "version_major": 2,
              "version_minor": 0,
              "model_id": "86ca1988aaeb478ca0dfb81af2e9da5c"
            }
          },
          "metadata": {}
        },
        {
          "output_type": "stream",
          "name": "stdout",
          "text": [
            "[ Train | 186/200 ] loss = 1.47728, acc = 0.47721\n"
          ]
        },
        {
          "output_type": "display_data",
          "data": {
            "text/plain": "Valid:   0%|          | 0/6 [00:00<?, ?it/s]",
            "application/vnd.jupyter.widget-view+json": {
              "version_major": 2,
              "version_minor": 0,
              "model_id": "4edc57e7c3414621b091e3083bb1f733"
            }
          },
          "metadata": {}
        },
        {
          "output_type": "stream",
          "name": "stdout",
          "text": [
            "[ Valid | 186/200 ]  loss = 1.45030, acc = 0.51354\n"
          ]
        },
        {
          "output_type": "display_data",
          "data": {
            "text/plain": "Train:   0%|          | 0/24 [00:00<?, ?it/s]",
            "application/vnd.jupyter.widget-view+json": {
              "version_major": 2,
              "version_minor": 0,
              "model_id": "0e5c825b9d3c4d0c9d04dca3a1d2f601"
            }
          },
          "metadata": {}
        },
        {
          "output_type": "stream",
          "name": "stdout",
          "text": [
            "[ Train | 187/200 ] loss = 1.47630, acc = 0.47819\n"
          ]
        },
        {
          "output_type": "display_data",
          "data": {
            "text/plain": "Valid:   0%|          | 0/6 [00:00<?, ?it/s]",
            "application/vnd.jupyter.widget-view+json": {
              "version_major": 2,
              "version_minor": 0,
              "model_id": "f436607cf53547cfba7398a96e449cfa"
            }
          },
          "metadata": {}
        },
        {
          "output_type": "stream",
          "name": "stdout",
          "text": [
            "[ Valid | 187/200 ]  loss = 1.37887, acc = 0.52760\n"
          ]
        },
        {
          "output_type": "display_data",
          "data": {
            "text/plain": "Train:   0%|          | 0/24 [00:00<?, ?it/s]",
            "application/vnd.jupyter.widget-view+json": {
              "version_major": 2,
              "version_minor": 0,
              "model_id": "326d559810cb4d75ba63342c493a5a47"
            }
          },
          "metadata": {}
        },
        {
          "output_type": "stream",
          "name": "stdout",
          "text": [
            "[ Train | 188/200 ] loss = 1.46783, acc = 0.48600\n"
          ]
        },
        {
          "output_type": "display_data",
          "data": {
            "text/plain": "Valid:   0%|          | 0/6 [00:00<?, ?it/s]",
            "application/vnd.jupyter.widget-view+json": {
              "version_major": 2,
              "version_minor": 0,
              "model_id": "049e43f0bc174fdfb19131fe98b3b386"
            }
          },
          "metadata": {}
        },
        {
          "output_type": "stream",
          "name": "stdout",
          "text": [
            "[ Valid | 188/200 ]  loss = 1.43938, acc = 0.48984\n"
          ]
        },
        {
          "output_type": "display_data",
          "data": {
            "text/plain": "Train:   0%|          | 0/24 [00:00<?, ?it/s]",
            "application/vnd.jupyter.widget-view+json": {
              "version_major": 2,
              "version_minor": 0,
              "model_id": "afe83d4b89714497988979eeb727c122"
            }
          },
          "metadata": {}
        },
        {
          "output_type": "stream",
          "name": "stdout",
          "text": [
            "[ Train | 189/200 ] loss = 1.49799, acc = 0.47363\n"
          ]
        },
        {
          "output_type": "display_data",
          "data": {
            "text/plain": "Valid:   0%|          | 0/6 [00:00<?, ?it/s]",
            "application/vnd.jupyter.widget-view+json": {
              "version_major": 2,
              "version_minor": 0,
              "model_id": "9c622cf9934d4867b10adde4efddc4ec"
            }
          },
          "metadata": {}
        },
        {
          "output_type": "stream",
          "name": "stdout",
          "text": [
            "[ Valid | 189/200 ]  loss = 1.41973, acc = 0.52057\n"
          ]
        },
        {
          "output_type": "display_data",
          "data": {
            "text/plain": "Train:   0%|          | 0/24 [00:00<?, ?it/s]",
            "application/vnd.jupyter.widget-view+json": {
              "version_major": 2,
              "version_minor": 0,
              "model_id": "abfb4337fc054dae89b7c1e682e32bcb"
            }
          },
          "metadata": {}
        },
        {
          "output_type": "stream",
          "name": "stdout",
          "text": [
            "[ Train | 190/200 ] loss = 1.48808, acc = 0.47917\n"
          ]
        },
        {
          "output_type": "display_data",
          "data": {
            "text/plain": "Valid:   0%|          | 0/6 [00:00<?, ?it/s]",
            "application/vnd.jupyter.widget-view+json": {
              "version_major": 2,
              "version_minor": 0,
              "model_id": "3fc17c07927840c3852b969e93dc67b5"
            }
          },
          "metadata": {}
        },
        {
          "output_type": "stream",
          "name": "stdout",
          "text": [
            "[ Valid | 190/200 ]  loss = 1.42296, acc = 0.51875\n"
          ]
        },
        {
          "output_type": "display_data",
          "data": {
            "text/plain": "Train:   0%|          | 0/24 [00:00<?, ?it/s]",
            "application/vnd.jupyter.widget-view+json": {
              "version_major": 2,
              "version_minor": 0,
              "model_id": "f8988ec8cb97494fa742e36d897cb9bf"
            }
          },
          "metadata": {}
        },
        {
          "output_type": "stream",
          "name": "stdout",
          "text": [
            "[ Train | 191/200 ] loss = 1.49718, acc = 0.46647\n"
          ]
        },
        {
          "output_type": "display_data",
          "data": {
            "text/plain": "Valid:   0%|          | 0/6 [00:00<?, ?it/s]",
            "application/vnd.jupyter.widget-view+json": {
              "version_major": 2,
              "version_minor": 0,
              "model_id": "db6b2297ae32493783cf6bc25c120d72"
            }
          },
          "metadata": {}
        },
        {
          "output_type": "stream",
          "name": "stdout",
          "text": [
            "[ Valid | 191/200 ]  loss = 1.42828, acc = 0.50781\n"
          ]
        },
        {
          "output_type": "display_data",
          "data": {
            "text/plain": "Train:   0%|          | 0/24 [00:00<?, ?it/s]",
            "application/vnd.jupyter.widget-view+json": {
              "version_major": 2,
              "version_minor": 0,
              "model_id": "246d83246b714cf296999820adf1d2e7"
            }
          },
          "metadata": {}
        },
        {
          "output_type": "stream",
          "name": "stdout",
          "text": [
            "[ Train | 192/200 ] loss = 1.48418, acc = 0.47135\n"
          ]
        },
        {
          "output_type": "display_data",
          "data": {
            "text/plain": "Valid:   0%|          | 0/6 [00:00<?, ?it/s]",
            "application/vnd.jupyter.widget-view+json": {
              "version_major": 2,
              "version_minor": 0,
              "model_id": "76ffafedbd7a460397064c03d5a2f4bd"
            }
          },
          "metadata": {}
        },
        {
          "output_type": "stream",
          "name": "stdout",
          "text": [
            "[ Valid | 192/200 ]  loss = 1.42616, acc = 0.51042\n"
          ]
        },
        {
          "output_type": "display_data",
          "data": {
            "text/plain": "Train:   0%|          | 0/24 [00:00<?, ?it/s]",
            "application/vnd.jupyter.widget-view+json": {
              "version_major": 2,
              "version_minor": 0,
              "model_id": "0910f79904dc4798884b796085cf9f99"
            }
          },
          "metadata": {}
        },
        {
          "output_type": "stream",
          "name": "stdout",
          "text": [
            "[ Train | 193/200 ] loss = 1.47970, acc = 0.47135\n"
          ]
        },
        {
          "output_type": "display_data",
          "data": {
            "text/plain": "Valid:   0%|          | 0/6 [00:00<?, ?it/s]",
            "application/vnd.jupyter.widget-view+json": {
              "version_major": 2,
              "version_minor": 0,
              "model_id": "4244cde54fe84d868697941561bcfc7a"
            }
          },
          "metadata": {}
        },
        {
          "output_type": "stream",
          "name": "stdout",
          "text": [
            "[ Valid | 193/200 ]  loss = 1.41710, acc = 0.52500\n"
          ]
        },
        {
          "output_type": "display_data",
          "data": {
            "text/plain": "Train:   0%|          | 0/24 [00:00<?, ?it/s]",
            "application/vnd.jupyter.widget-view+json": {
              "version_major": 2,
              "version_minor": 0,
              "model_id": "5fbbb3688cad42d4bdadfc2db3281554"
            }
          },
          "metadata": {}
        },
        {
          "output_type": "stream",
          "name": "stdout",
          "text": [
            "[ Train | 194/200 ] loss = 1.49214, acc = 0.46549\n"
          ]
        },
        {
          "output_type": "display_data",
          "data": {
            "text/plain": "Valid:   0%|          | 0/6 [00:00<?, ?it/s]",
            "application/vnd.jupyter.widget-view+json": {
              "version_major": 2,
              "version_minor": 0,
              "model_id": "cf4428c189b14f7188b01c9890150238"
            }
          },
          "metadata": {}
        },
        {
          "output_type": "stream",
          "name": "stdout",
          "text": [
            "[ Valid | 194/200 ]  loss = 1.39718, acc = 0.51927\n"
          ]
        },
        {
          "output_type": "display_data",
          "data": {
            "text/plain": "Train:   0%|          | 0/24 [00:00<?, ?it/s]",
            "application/vnd.jupyter.widget-view+json": {
              "version_major": 2,
              "version_minor": 0,
              "model_id": "73da1b9cc3d24211935863b5a7497a39"
            }
          },
          "metadata": {}
        },
        {
          "output_type": "stream",
          "name": "stdout",
          "text": [
            "[ Train | 195/200 ] loss = 1.47774, acc = 0.47721\n"
          ]
        },
        {
          "output_type": "display_data",
          "data": {
            "text/plain": "Valid:   0%|          | 0/6 [00:00<?, ?it/s]",
            "application/vnd.jupyter.widget-view+json": {
              "version_major": 2,
              "version_minor": 0,
              "model_id": "af3ecd07597f4344aa8b8fd45dd9f766"
            }
          },
          "metadata": {}
        },
        {
          "output_type": "stream",
          "name": "stdout",
          "text": [
            "[ Valid | 195/200 ]  loss = 1.42703, acc = 0.50651\n"
          ]
        },
        {
          "output_type": "display_data",
          "data": {
            "text/plain": "Train:   0%|          | 0/24 [00:00<?, ?it/s]",
            "application/vnd.jupyter.widget-view+json": {
              "version_major": 2,
              "version_minor": 0,
              "model_id": "e0d22986bffe40e0bc6e909d691262c6"
            }
          },
          "metadata": {}
        },
        {
          "output_type": "stream",
          "name": "stdout",
          "text": [
            "[ Train | 196/200 ] loss = 1.46690, acc = 0.47298\n"
          ]
        },
        {
          "output_type": "display_data",
          "data": {
            "text/plain": "Valid:   0%|          | 0/6 [00:00<?, ?it/s]",
            "application/vnd.jupyter.widget-view+json": {
              "version_major": 2,
              "version_minor": 0,
              "model_id": "c3a851a093f84edd84931faf6feb0de9"
            }
          },
          "metadata": {}
        },
        {
          "output_type": "stream",
          "name": "stdout",
          "text": [
            "[ Valid | 196/200 ]  loss = 1.47113, acc = 0.50208\n"
          ]
        },
        {
          "output_type": "display_data",
          "data": {
            "text/plain": "Train:   0%|          | 0/24 [00:00<?, ?it/s]",
            "application/vnd.jupyter.widget-view+json": {
              "version_major": 2,
              "version_minor": 0,
              "model_id": "c98b9881a2064b05b3742e76bb4e5fe3"
            }
          },
          "metadata": {}
        },
        {
          "output_type": "stream",
          "name": "stdout",
          "text": [
            "[ Train | 197/200 ] loss = 1.48292, acc = 0.47363\n"
          ]
        },
        {
          "output_type": "display_data",
          "data": {
            "text/plain": "Valid:   0%|          | 0/6 [00:00<?, ?it/s]",
            "application/vnd.jupyter.widget-view+json": {
              "version_major": 2,
              "version_minor": 0,
              "model_id": "5c8314a75ca94a51b1d168e71253c469"
            }
          },
          "metadata": {}
        },
        {
          "output_type": "stream",
          "name": "stdout",
          "text": [
            "[ Valid | 197/200 ]  loss = 1.43842, acc = 0.49245\n"
          ]
        },
        {
          "output_type": "display_data",
          "data": {
            "text/plain": "Train:   0%|          | 0/24 [00:00<?, ?it/s]",
            "application/vnd.jupyter.widget-view+json": {
              "version_major": 2,
              "version_minor": 0,
              "model_id": "a73a194375044dfeb6a9cedf26c10d5b"
            }
          },
          "metadata": {}
        },
        {
          "output_type": "stream",
          "name": "stdout",
          "text": [
            "[ Train | 198/200 ] loss = 1.48321, acc = 0.48112\n"
          ]
        },
        {
          "output_type": "display_data",
          "data": {
            "text/plain": "Valid:   0%|          | 0/6 [00:00<?, ?it/s]",
            "application/vnd.jupyter.widget-view+json": {
              "version_major": 2,
              "version_minor": 0,
              "model_id": "f2f87d7d6e444215a34f631c40b69702"
            }
          },
          "metadata": {}
        },
        {
          "output_type": "stream",
          "name": "stdout",
          "text": [
            "[ Valid | 198/200 ]  loss = 1.40105, acc = 0.51797\n"
          ]
        },
        {
          "output_type": "display_data",
          "data": {
            "text/plain": "Train:   0%|          | 0/24 [00:00<?, ?it/s]",
            "application/vnd.jupyter.widget-view+json": {
              "version_major": 2,
              "version_minor": 0,
              "model_id": "2f6385f512324704aaba8893f61fe63c"
            }
          },
          "metadata": {}
        },
        {
          "output_type": "stream",
          "name": "stdout",
          "text": [
            "[ Train | 199/200 ] loss = 1.49292, acc = 0.47103\n"
          ]
        },
        {
          "output_type": "display_data",
          "data": {
            "text/plain": "Valid:   0%|          | 0/6 [00:00<?, ?it/s]",
            "application/vnd.jupyter.widget-view+json": {
              "version_major": 2,
              "version_minor": 0,
              "model_id": "593002d1106c4212a561e3bab2592afa"
            }
          },
          "metadata": {}
        },
        {
          "output_type": "stream",
          "name": "stdout",
          "text": [
            "[ Valid | 199/200 ]  loss = 1.41726, acc = 0.49688\n"
          ]
        },
        {
          "output_type": "display_data",
          "data": {
            "text/plain": "Train:   0%|          | 0/24 [00:00<?, ?it/s]",
            "application/vnd.jupyter.widget-view+json": {
              "version_major": 2,
              "version_minor": 0,
              "model_id": "593c54189e924fad92b677e144552228"
            }
          },
          "metadata": {}
        },
        {
          "output_type": "stream",
          "name": "stdout",
          "text": [
            "[ Train | 200/200 ] loss = 1.48912, acc = 0.47233\n"
          ]
        },
        {
          "output_type": "display_data",
          "data": {
            "text/plain": "Valid:   0%|          | 0/6 [00:00<?, ?it/s]",
            "application/vnd.jupyter.widget-view+json": {
              "version_major": 2,
              "version_minor": 0,
              "model_id": "9c9536e71b094fedb500f3975981577e"
            }
          },
          "metadata": {}
        },
        {
          "output_type": "stream",
          "name": "stdout",
          "text": [
            "[ Valid | 200/200 ]  loss = 1.42137, acc = 0.50391\n"
          ]
        }
      ]
    },
    {
      "cell_type": "markdown",
      "metadata": {
        "id": "2o1oCMXy61_3"
      },
      "source": [
        "## **Testing**\n",
        "\n",
        "For inference, we need to make sure the model is in eval mode, and the order of the dataset should not be shuffled (\"shuffle=False\" in test_loader).\n",
        "\n",
        "Last but not least, don't forget to save the predictions into a single CSV file.\n",
        "The format of CSV file should follow the rules mentioned in the slides.\n",
        "\n",
        "### **WARNING -- Keep in Mind**\n",
        "\n",
        "Cheating includes but not limited to:\n",
        "1.   using testing labels,\n",
        "2.   submitting results to previous Kaggle competitions,\n",
        "3.   sharing predictions with others,\n",
        "4.   copying codes from any creatures on Earth,\n",
        "5.   asking other people to do it for you.\n",
        "\n",
        "Any violations bring you punishments from getting a discount on the final grade to failing the course.\n",
        "\n",
        "It is your responsibility to check whether your code violates the rules.\n",
        "When citing codes from the Internet, you should know what these codes exactly do.\n",
        "You will **NOT** be tolerated if you break the rule and claim you don't know what these codes do.\n"
      ]
    },
    {
      "source": [
        "it = iter(test_loader)\n",
        "a = next(it)[0].to(device)\n",
        "ae_model.eval()\n",
        "b = ae_model(a)\n",
        "import cv2\n",
        "b = b.to('cpu').detach().numpy().transpose([0, 2, 3, 1])\n",
        "a = a.to('cpu').detach().numpy().transpose([0, 2, 3, 1])\n",
        "def norm(img):\n",
        "    for i in range(3):\n",
        "        ch = img[:, :, i]\n",
        "        a = ch.min()\n",
        "        b = ch.max()\n",
        "        img[:, :, i] = (ch-a)/(b-a)\n",
        "    return (img*255).astype('uint8')\n",
        "for i, img in enumerate(b):\n",
        "    cv2.imwrite(f\"img/{i}.png\", norm(img))\n",
        "    cv2.imwrite(f\"img/{i}_.png\", norm(a[i]))\n",
        "    if i == 0:\n",
        "        break"
      ],
      "cell_type": "markdown",
      "metadata": {}
    },
    {
      "cell_type": "code",
      "metadata": {
        "id": "4HznI9_-ocrq"
      },
      "source": [
        "# Make sure the model is in eval mode.\n",
        "# Some modules like Dropout or BatchNorm affect if the model is in training mode.\n",
        "model_path = './model.ckpt'\n",
        "device = \"cuda\" if torch.cuda.is_available() else \"cpu\"\n",
        "model = Classifier().to(device)\n",
        "model.load_state_dict(torch.load(model_path))\n",
        "model.eval()\n",
        "\n",
        "# Initialize a list to store the predictions.\n",
        "predictions = []\n",
        "\n",
        "# Iterate the testing set by batches.\n",
        "for batch in tqdm(rd_test_loader):\n",
        "    # imgs, _ = batch\n",
        "    imgs = rd_test_set.merge_batch(batch)\n",
        "\n",
        "    # We don't need gradient in testing, and we don't even have labels to compute loss.\n",
        "    # Using torch.no_grad() accelerates the forward process.\n",
        "    with torch.no_grad():\n",
        "        logits = model(imgs.to(device))\n",
        "    \n",
        "    # Take the class with greatest logit as prediction and record it.\n",
        "    # predictions.extend(logits.argmax(dim=-1).cpu().numpy().tolist())\n",
        "    predictions.extend(rd_test_set.merge_predict(logits))"
      ],
      "execution_count": 17,
      "outputs": [
        {
          "output_type": "display_data",
          "data": {
            "text/plain": "  0%|          | 0/210 [00:00<?, ?it/s]",
            "application/vnd.jupyter.widget-view+json": {
              "version_major": 2,
              "version_minor": 0,
              "model_id": "1e2ae17863554be4888a560e24f714e3"
            }
          },
          "metadata": {}
        }
      ]
    },
    {
      "cell_type": "code",
      "metadata": {
        "id": "3t2q2Th85ZUE"
      },
      "source": [
        "# Save predictions into the file.\n",
        "with open(\"predict.csv\", \"w\") as f:\n",
        "\n",
        "    # The first row must be \"Id, Category\"\n",
        "    f.write(\"Id,Category\\n\")\n",
        "\n",
        "    # For the rest of the rows, each image id corresponds to a predicted class.\n",
        "    for i, pred in  enumerate(predictions):\n",
        "         f.write(f\"{i},{pred}\\n\")"
      ],
      "execution_count": 18,
      "outputs": []
    },
    {
      "cell_type": "code",
      "execution_count": null,
      "metadata": {},
      "outputs": [],
      "source": []
    }
  ]
}