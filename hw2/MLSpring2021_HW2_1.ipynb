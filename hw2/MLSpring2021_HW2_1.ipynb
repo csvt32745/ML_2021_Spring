{
  "nbformat": 4,
  "nbformat_minor": 0,
  "metadata": {
    "accelerator": "GPU",
    "colab": {
      "name": "SHARE MLSpring2021 - HW2-1.ipynb",
      "provenance": [],
      "collapsed_sections": []
    },
    "kernelspec": {
      "display_name": "Python 3",
      "name": "python3",
      "language": "python"
    }
  },
  "cells": [
    {
      "cell_type": "markdown",
      "metadata": {
        "id": "OYlaRwNu7ojq"
      },
      "source": [
        "# **Homework 2-1 Phoneme Classification**"
      ]
    },
    {
      "cell_type": "markdown",
      "metadata": {
        "id": "emUd7uS7crTz"
      },
      "source": [
        "## The DARPA TIMIT Acoustic-Phonetic Continuous Speech Corpus (TIMIT)\n",
        "The TIMIT corpus of reading speech has been designed to provide speech data for the acquisition of acoustic-phonetic knowledge and for the development and evaluation of automatic speech recognition systems.\n",
        "\n",
        "This homework is a multiclass classification task, \n",
        "we are going to train a deep neural network classifier to predict the phonemes for each frame from the speech corpus TIMIT.\n",
        "\n",
        "link: https://academictorrents.com/details/34e2b78745138186976cbc27939b1b34d18bd5b3"
      ]
    },
    {
      "cell_type": "markdown",
      "metadata": {
        "id": "KVUGfWTo7_Oj"
      },
      "source": [
        "## Download Data\n",
        "Download data from google drive, then unzip it.\n",
        "\n",
        "You should have `timit_11/train_11.npy`, `timit_11/train_label_11.npy`, and `timit_11/test_11.npy` after running this block.<br><br>\n",
        "`timit_11/`\n",
        "- `train_11.npy`: training data<br>\n",
        "- `train_label_11.npy`: training label<br>\n",
        "- `test_11.npy`:  testing data<br><br>\n",
        "\n",
        "**notes: if the google drive link is dead, you can download the data directly from Kaggle and upload it to the workspace**\n",
        "\n",
        "\n"
      ]
    },
    {
      "cell_type": "code",
      "metadata": {
        "colab": {
          "base_uri": "https://localhost:8080/"
        },
        "id": "OzkiMEcC3Foq",
        "outputId": "4308c64c-6885-4d1c-8eb7-a2d9b8038401"
      },
      "source": [
        "# !gdown --id '1HPkcmQmFGu-3OknddKIa5dNDsR05lIQR' --output data.zip\n",
        "# !unzip data.zip\n",
        "# !ls "
      ],
      "execution_count": 38,
      "outputs": []
    },
    {
      "cell_type": "code",
      "execution_count": 39,
      "metadata": {},
      "outputs": [],
      "source": [
        "import os\n",
        "from tqdm import tqdm\n",
        "os.environ['CUDA_VISIBLE_DEVICES'] = '1'"
      ]
    },
    {
      "cell_type": "markdown",
      "metadata": {
        "id": "_L_4anls8Drv"
      },
      "source": [
        "## Preparing Data\n",
        "Load the training and testing data from the `.npy` file (NumPy array)."
      ]
    },
    {
      "cell_type": "code",
      "metadata": {
        "colab": {
          "base_uri": "https://localhost:8080/"
        },
        "id": "IJjLT8em-y9G",
        "outputId": "8edc6bfe-7511-447f-f239-00b96dba6dcf"
      },
      "source": [
        "import numpy as np\n",
        "\n",
        "print('Loading data ...')\n",
        "\n",
        "data_root='./timit_11/'\n",
        "train = np.load(data_root + 'train_11.npy')\n",
        "train_label = np.load(data_root + 'train_label_11.npy')\n",
        "test = np.load(data_root + 'test_11.npy')\n",
        "\n",
        "# reshape to 2d feature\n",
        "train = train.reshape(-1, 1, 11, 39)\n",
        "test = test.reshape(-1, 1, 11, 39)"
      ],
      "execution_count": 40,
      "outputs": [
        {
          "output_type": "stream",
          "name": "stdout",
          "text": [
            "Loading data ...\n"
          ]
        }
      ]
    },
    {
      "cell_type": "code",
      "execution_count": 41,
      "metadata": {},
      "outputs": [
        {
          "output_type": "stream",
          "name": "stdout",
          "text": [
            "Size of training data: (1229932, 1, 11, 39)\nSize of testing data: (451552, 1, 11, 39)\n"
          ]
        }
      ],
      "source": [
        "print('Size of training data: {}'.format(train.shape))\n",
        "print('Size of testing data: {}'.format(test.shape))"
      ]
    },
    {
      "cell_type": "markdown",
      "metadata": {
        "id": "us5XW_x6udZQ"
      },
      "source": [
        "## Create Dataset"
      ]
    },
    {
      "cell_type": "code",
      "metadata": {
        "id": "Fjf5EcmJtf4e"
      },
      "source": [
        "import torch\n",
        "from torch.utils.data import Dataset\n",
        "\n",
        "class TIMITDataset(Dataset):\n",
        "    def __init__(self, X, y=None):\n",
        "        self.data = torch.from_numpy(X).float()\n",
        "        if y is not None:\n",
        "            y = y.astype(np.int)\n",
        "            self.label = torch.LongTensor(y)\n",
        "        else:\n",
        "            self.label = None\n",
        "\n",
        "    def __getitem__(self, idx):\n",
        "        if self.label is not None:\n",
        "            return self.data[idx], self.label[idx]\n",
        "        else:\n",
        "            return self.data[idx]\n",
        "\n",
        "    def __len__(self):\n",
        "        return len(self.data)\n"
      ],
      "execution_count": 42,
      "outputs": []
    },
    {
      "cell_type": "markdown",
      "metadata": {
        "id": "otIC6WhGeh9v"
      },
      "source": [
        "Split the labeled data into a training set and a validation set, you can modify the variable `VAL_RATIO` to change the ratio of validation data."
      ]
    },
    {
      "cell_type": "code",
      "metadata": {
        "colab": {
          "base_uri": "https://localhost:8080/"
        },
        "id": "sYqi_lAuvC59",
        "outputId": "13dabe63-4849-47ee-fe04-57427b9d601c"
      },
      "source": [
        "# VAL_RATIO = 0.2\n",
        "VAL_RATIO = 0.2\n",
        "\n",
        "percent = int(train.shape[0] * (1 - VAL_RATIO))\n",
        "train_x, train_y, val_x, val_y = train[:percent], train_label[:percent], train[percent:], train_label[percent:]\n",
        "print('Size of training set: {}'.format(train_x.shape))\n",
        "print('Size of validation set: {}'.format(val_x.shape))"
      ],
      "execution_count": 43,
      "outputs": [
        {
          "output_type": "stream",
          "name": "stdout",
          "text": [
            "Size of training set: (983945, 1, 11, 39)\nSize of validation set: (245987, 1, 11, 39)\n"
          ]
        }
      ]
    },
    {
      "cell_type": "markdown",
      "metadata": {
        "id": "nbCfclUIgMTX"
      },
      "source": [
        "Create a data loader from the dataset, feel free to tweak the variable `BATCH_SIZE` here."
      ]
    },
    {
      "cell_type": "code",
      "metadata": {
        "id": "RUCbQvqJurYc"
      },
      "source": [
        "BATCH_SIZE = 256\n",
        "\n",
        "from torch.utils.data import DataLoader\n",
        "\n",
        "train_set = TIMITDataset(train_x, train_y)\n",
        "val_set = TIMITDataset(val_x, val_y)\n",
        "train_loader = DataLoader(train_set, batch_size=BATCH_SIZE, shuffle=True) #only shuffle the training data\n",
        "val_loader = DataLoader(val_set, batch_size=BATCH_SIZE, shuffle=False)"
      ],
      "execution_count": 44,
      "outputs": []
    },
    {
      "cell_type": "markdown",
      "metadata": {
        "id": "_SY7X0lUgb50"
      },
      "source": [
        "Cleanup the unneeded variables to save memory.<br>\n",
        "\n",
        "**notes: if you need to use these variables later, then you may remove this block or clean up unneeded variables later<br>the data size is quite huge, so be aware of memory usage in colab**"
      ]
    },
    {
      "cell_type": "code",
      "metadata": {
        "colab": {
          "base_uri": "https://localhost:8080/"
        },
        "id": "y8rzkGraeYeN",
        "outputId": "dc790996-a43c-4a99-90d4-e7928892a899"
      },
      "source": [
        "import gc\n",
        "\n",
        "del train, train_label, train_x, train_y, val_x, val_y\n",
        "gc.collect()"
      ],
      "execution_count": 45,
      "outputs": [
        {
          "output_type": "execute_result",
          "data": {
            "text/plain": [
              "776"
            ]
          },
          "metadata": {},
          "execution_count": 45
        }
      ]
    },
    {
      "cell_type": "markdown",
      "metadata": {
        "id": "IRqKNvNZwe3V"
      },
      "source": [
        "## Create Model"
      ]
    },
    {
      "cell_type": "markdown",
      "metadata": {
        "id": "FYr1ng5fh9pA"
      },
      "source": [
        "Define model architecture, you are encouraged to change and experiment with the model architecture."
      ]
    },
    {
      "cell_type": "code",
      "metadata": {
        "id": "lbZrwT6Ny0XL"
      },
      "source": [
        "import torch\n",
        "import torch.nn as nn\n",
        "\n",
        "class Classifier(nn.Module):\n",
        "    def __init__(self):\n",
        "        super(Classifier, self).__init__()\n",
        "        self.conv1 = nn.Conv2d(1, 32, (3, 21))\n",
        "        # self.pool1 = nn.MaxPool2d((1, 2))\n",
        "        self.bn1 =  nn.BatchNorm2d(32)\n",
        "        self.conv2 = nn.Conv2d(32, 64, (5, 1))\n",
        "        # self.pool2 = nn.MaxPool2d((1, 2))\n",
        "        self.bn2 =  nn.BatchNorm2d(64)\n",
        "        self.conv3 = nn.Conv2d(64, 32, (5, 11))\n",
        "        # self.pool3 = nn.MaxPool2d((1, 2))\n",
        "        self.bn3 =  nn.BatchNorm2d(32)\n",
        "        # self.conv4 = nn.Conv2d(64, 64, (3, 7))\n",
        "        # self.bn4 =  nn.BatchNorm2d(64)\n",
        "        # self.conv5 = nn.Conv2d(64, 32, (3, 7))\n",
        "        # self.bn5 =  nn.BatchNorm2d(32)\n",
        "\n",
        "        self.flat = nn.Flatten()\n",
        "\n",
        "        self.linear1 = nn.Linear(288, 256) \n",
        "        self.bn_l1 =  nn.BatchNorm1d(256)\n",
        "        self.linear2 = nn.Linear(256, 128) \n",
        "        self.bn_l2 =  nn.BatchNorm1d(128)\n",
        "        self.out = nn.Linear(128, 39) \n",
        "        self.relu = nn.ReLU()\n",
        "        # self.relu = nn.LeakyReLU(0.1)\n",
        "        self.act_fn = nn.Sigmoid()\n",
        "\n",
        "        self.drop1 = nn.Dropout(0.2)\n",
        "        self.drop2 = nn.Dropout(0.2)\n",
        "        self.drop3 = nn.Dropout(0.2)\n",
        "\n",
        "    def forward(self, x):\n",
        "        x = self.conv1(x)\n",
        "        # x = self.drop1(x)\n",
        "        # x = self.pool1(x)\n",
        "        x = self.relu(x)\n",
        "        x = self.bn1(x)\n",
        "    \n",
        "        x = self.conv2(x)\n",
        "        # x = self.pool2(x)\n",
        "        x = self.drop2(x)\n",
        "        x = self.relu(x)\n",
        "        x = self.bn2(x)\n",
        "        \n",
        "        x = self.conv3(x)\n",
        "        # x = self.pool3(x)\n",
        "        x = self.relu(x)\n",
        "        x = self.bn3(x)\n",
        "\n",
        "        # x = self.conv4(x)\n",
        "        # x = self.bn4(x)\n",
        "        # x = self.relu(x)\n",
        "\n",
        "        # x = self.conv5(x)\n",
        "        # x = self.bn5(x)\n",
        "        # x = self.relu(x)\n",
        "\n",
        "        x = self.flat(x)\n",
        "\n",
        "        x = self.linear1(x)\n",
        "        x = self.drop3(x)\n",
        "        x = self.relu(x)\n",
        "        x = self.bn_l1(x)\n",
        "\n",
        "        x = self.linear2(x)\n",
        "        x = self.relu(x)\n",
        "        x = self.bn_l2(x)\n",
        "        x = self.out(x)\n",
        "        \n",
        "\n",
        "        return x"
      ],
      "execution_count": 65,
      "outputs": []
    },
    {
      "cell_type": "markdown",
      "metadata": {
        "id": "VRYciXZvPbYh"
      },
      "source": [
        "## Training"
      ]
    },
    {
      "cell_type": "code",
      "metadata": {
        "id": "y114Vmm3Ja6o"
      },
      "source": [
        "#check device\n",
        "def get_device():\n",
        "  return 'cuda' if torch.cuda.is_available() else 'cpu'"
      ],
      "execution_count": 10,
      "outputs": []
    },
    {
      "cell_type": "markdown",
      "metadata": {
        "id": "sEX-yjHjhGuH"
      },
      "source": [
        "Fix random seeds for reproducibility."
      ]
    },
    {
      "cell_type": "code",
      "metadata": {
        "id": "88xPiUnm0tAd"
      },
      "source": [
        "# fix random seed\n",
        "def same_seeds(seed):\n",
        "    torch.manual_seed(seed)\n",
        "    if torch.cuda.is_available():\n",
        "        torch.cuda.manual_seed(seed)\n",
        "        torch.cuda.manual_seed_all(seed)  \n",
        "    np.random.seed(seed)  \n",
        "    torch.backends.cudnn.benchmark = False\n",
        "    torch.backends.cudnn.deterministic = True"
      ],
      "execution_count": 62,
      "outputs": []
    },
    {
      "cell_type": "markdown",
      "metadata": {
        "id": "KbBcBXkSp6RA"
      },
      "source": [
        "Feel free to change the training parameters here."
      ]
    },
    {
      "cell_type": "code",
      "metadata": {
        "id": "QTp3ZXg1yO9Y"
      },
      "source": [
        "# fix random seed for reproducibility\n",
        "same_seeds(52728)\n",
        "\n",
        "# get device \n",
        "device = get_device()\n",
        "print(f'DEVICE: {device}')\n",
        "\n",
        "# training parameters\n",
        "num_epoch = 30               # number of training epoch\n",
        "learning_rate = 2e-4       # learning rate\n",
        "\n",
        "# the path where checkpoint saved\n",
        "model_path = './model.ckpt'\n",
        "\n",
        "# create model, define a loss function, and optimizer\n",
        "model = Classifier().to(device)\n",
        "# model.load_state_dict(torch.load(model_path))\n",
        "criterion = nn.CrossEntropyLoss() \n",
        "optimizer = torch.optim.Adam(model.parameters(), lr=learning_rate)\n",
        "# optimizer = torch.optim.Adam(model.parameters(), lr=learning_rate, weight_decay=5e-4)"
      ],
      "execution_count": 66,
      "outputs": [
        {
          "output_type": "stream",
          "name": "stdout",
          "text": [
            "DEVICE: cuda\n"
          ]
        }
      ]
    },
    {
      "cell_type": "code",
      "metadata": {
        "id": "CdMWsBs7zzNs",
        "colab": {
          "base_uri": "https://localhost:8080/"
        },
        "outputId": "c5ed561e-610d-4a35-d936-fd97adf342a0"
      },
      "source": [
        "# start training\n",
        "\n",
        "best_acc = 0.0\n",
        "for epoch in range(num_epoch):\n",
        "    train_acc = 0.0\n",
        "    train_loss = 0.0\n",
        "    val_acc = 0.0\n",
        "    val_loss = 0.0\n",
        "\n",
        "    # training\n",
        "    model.train() # set the model to training mode\n",
        "    for i, data in enumerate(tqdm(train_loader)):\n",
        "        inputs, labels = data\n",
        "        inputs, labels = inputs.to(device), labels.to(device)\n",
        "        optimizer.zero_grad() \n",
        "        outputs = model(inputs) \n",
        "        batch_loss = criterion(outputs, labels)\n",
        "        _, train_pred = torch.max(outputs, 1) # get the index of the class with the highest probability\n",
        "        batch_loss.backward() \n",
        "        optimizer.step() \n",
        "\n",
        "        train_acc += (train_pred.cpu() == labels.cpu()).sum().item()\n",
        "        train_loss += batch_loss.item()\n",
        "\n",
        "    # validation\n",
        "    if len(val_set) > 0:\n",
        "        model.eval() # set the model to evaluation mode\n",
        "        with torch.no_grad():\n",
        "            for i, data in enumerate(val_loader):\n",
        "                inputs, labels = data\n",
        "                inputs, labels = inputs.to(device), labels.to(device)\n",
        "                outputs = model(inputs)\n",
        "                batch_loss = criterion(outputs, labels) \n",
        "                _, val_pred = torch.max(outputs, 1) \n",
        "            \n",
        "                val_acc += (val_pred.cpu() == labels.cpu()).sum().item() # get the index of the class with the highest probability\n",
        "                val_loss += batch_loss.item()\n",
        "\n",
        "            print('[{:03d}/{:03d}] Train Acc: {:3.6f} Loss: {:3.6f} | Val Acc: {:3.6f} loss: {:3.6f}'.format(\n",
        "                epoch + 1, num_epoch, train_acc/len(train_set), train_loss/len(train_loader), val_acc/len(val_set), val_loss/len(val_loader)\n",
        "            ))\n",
        "\n",
        "            # if the model improves, save a checkpoint at this epoch\n",
        "            if val_acc > best_acc:\n",
        "                best_acc = val_acc\n",
        "                torch.save(model.state_dict(), model_path)\n",
        "                print('saving model with acc {:.3f}'.format(best_acc/len(val_set)))\n",
        "    else:\n",
        "        print('[{:03d}/{:03d}] Train Acc: {:3.6f} Loss: {:3.6f}'.format(\n",
        "            epoch + 1, num_epoch, train_acc/len(train_set), train_loss/len(train_loader)\n",
        "        ))\n",
        "\n",
        "# if not validating, save the last epoch\n",
        "if len(val_set) == 0:\n",
        "    torch.save(model.state_dict(), model_path)\n",
        "    print('saving model at last epoch')\n"
      ],
      "execution_count": 67,
      "outputs": [
        {
          "output_type": "stream",
          "name": "stderr",
          "text": [
            "100%|██████████| 3844/3844 [01:09<00:00, 55.33it/s]\n",
            "  0%|          | 1/3844 [00:00<06:40,  9.60it/s][001/030] Train Acc: 0.584264 Loss: 1.383921 | Val Acc: 0.665279 loss: 1.056921\n",
            "saving model with acc 0.665\n",
            "100%|██████████| 3844/3844 [01:09<00:00, 55.43it/s]\n",
            "  0%|          | 1/3844 [00:00<07:29,  8.55it/s][002/030] Train Acc: 0.655162 Loss: 1.088801 | Val Acc: 0.684443 loss: 0.982163\n",
            "saving model with acc 0.684\n",
            "100%|██████████| 3844/3844 [01:08<00:00, 55.78it/s]\n",
            "  0%|          | 1/3844 [00:00<06:38,  9.63it/s][003/030] Train Acc: 0.673944 Loss: 1.015435 | Val Acc: 0.693134 loss: 0.949485\n",
            "saving model with acc 0.693\n",
            "100%|██████████| 3844/3844 [01:09<00:00, 55.23it/s]\n",
            "  0%|          | 1/3844 [00:00<06:41,  9.57it/s][004/030] Train Acc: 0.686278 Loss: 0.972016 | Val Acc: 0.697675 loss: 0.931045\n",
            "saving model with acc 0.698\n",
            "100%|██████████| 3844/3844 [01:09<00:00, 55.57it/s]\n",
            "  0%|          | 1/3844 [00:00<07:43,  8.29it/s][005/030] Train Acc: 0.694715 Loss: 0.942059 | Val Acc: 0.701704 loss: 0.917590\n",
            "saving model with acc 0.702\n",
            "100%|██████████| 3844/3844 [01:09<00:00, 55.00it/s]\n",
            "  0%|          | 1/3844 [00:00<06:37,  9.67it/s][006/030] Train Acc: 0.700433 Loss: 0.919598 | Val Acc: 0.703305 loss: 0.909883\n",
            "saving model with acc 0.703\n",
            "100%|██████████| 3844/3844 [01:09<00:00, 55.52it/s]\n",
            "  0%|          | 1/3844 [00:00<07:19,  8.74it/s][007/030] Train Acc: 0.705353 Loss: 0.901704 | Val Acc: 0.703525 loss: 0.909507\n",
            "saving model with acc 0.704\n",
            "100%|██████████| 3844/3844 [01:09<00:00, 55.25it/s]\n",
            "  0%|          | 3/3844 [00:00<02:08, 29.95it/s][008/030] Train Acc: 0.709835 Loss: 0.885706 | Val Acc: 0.707029 loss: 0.898548\n",
            "saving model with acc 0.707\n",
            "100%|██████████| 3844/3844 [01:09<00:00, 55.24it/s]\n",
            "  0%|          | 1/3844 [00:00<06:42,  9.55it/s][009/030] Train Acc: 0.712801 Loss: 0.874547 | Val Acc: 0.706066 loss: 0.899043\n",
            "100%|██████████| 3844/3844 [01:08<00:00, 55.72it/s]\n",
            "  0%|          | 1/3844 [00:00<06:40,  9.58it/s][010/030] Train Acc: 0.715531 Loss: 0.863245 | Val Acc: 0.708916 loss: 0.894835\n",
            "saving model with acc 0.709\n",
            "100%|██████████| 3844/3844 [01:09<00:00, 55.32it/s]\n",
            "  0%|          | 1/3844 [00:00<06:48,  9.41it/s][011/030] Train Acc: 0.718488 Loss: 0.853955 | Val Acc: 0.709497 loss: 0.890492\n",
            "saving model with acc 0.709\n",
            "100%|██████████| 3844/3844 [01:09<00:00, 55.34it/s]\n",
            "  0%|          | 1/3844 [00:00<07:30,  8.54it/s][012/030] Train Acc: 0.721266 Loss: 0.845536 | Val Acc: 0.709761 loss: 0.889812\n",
            "saving model with acc 0.710\n",
            "100%|██████████| 3844/3844 [01:09<00:00, 55.12it/s]\n",
            "  0%|          | 1/3844 [00:00<06:35,  9.71it/s][013/030] Train Acc: 0.722320 Loss: 0.839232 | Val Acc: 0.710468 loss: 0.887569\n",
            "saving model with acc 0.710\n",
            "100%|██████████| 3844/3844 [01:09<00:00, 55.13it/s]\n",
            "  0%|          | 1/3844 [00:00<06:49,  9.38it/s][014/030] Train Acc: 0.724175 Loss: 0.833410 | Val Acc: 0.710436 loss: 0.890291\n",
            "100%|██████████| 3844/3844 [01:09<00:00, 55.22it/s]\n",
            "  0%|          | 1/3844 [00:00<06:57,  9.20it/s][015/030] Train Acc: 0.726075 Loss: 0.826308 | Val Acc: 0.710192 loss: 0.889932\n",
            "100%|██████████| 3844/3844 [01:09<00:00, 55.24it/s]\n",
            "  0%|          | 1/3844 [00:00<07:23,  8.66it/s][016/030] Train Acc: 0.728442 Loss: 0.820376 | Val Acc: 0.710920 loss: 0.885289\n",
            "saving model with acc 0.711\n",
            "100%|██████████| 3844/3844 [01:09<00:00, 55.12it/s]\n",
            "  0%|          | 1/3844 [00:00<06:40,  9.59it/s][017/030] Train Acc: 0.729356 Loss: 0.815561 | Val Acc: 0.709578 loss: 0.889210\n",
            "100%|██████████| 3844/3844 [01:09<00:00, 55.04it/s]\n",
            "  0%|          | 1/3844 [00:00<06:48,  9.40it/s][018/030] Train Acc: 0.730335 Loss: 0.811593 | Val Acc: 0.711525 loss: 0.886765\n",
            "saving model with acc 0.712\n",
            "100%|██████████| 3844/3844 [01:09<00:00, 55.16it/s]\n",
            "  0%|          | 1/3844 [00:00<06:36,  9.70it/s][019/030] Train Acc: 0.731192 Loss: 0.808642 | Val Acc: 0.710806 loss: 0.886174\n",
            "100%|██████████| 3844/3844 [01:10<00:00, 54.45it/s]\n",
            "  0%|          | 1/3844 [00:00<06:42,  9.55it/s][020/030] Train Acc: 0.732483 Loss: 0.803618 | Val Acc: 0.710847 loss: 0.886553\n",
            "100%|██████████| 3844/3844 [01:09<00:00, 55.44it/s]\n",
            "  0%|          | 1/3844 [00:00<07:04,  9.05it/s][021/030] Train Acc: 0.733684 Loss: 0.799263 | Val Acc: 0.711188 loss: 0.889178\n",
            "100%|██████████| 3844/3844 [01:10<00:00, 54.88it/s]\n",
            "  0%|          | 1/3844 [00:00<06:37,  9.68it/s][022/030] Train Acc: 0.734626 Loss: 0.796138 | Val Acc: 0.712375 loss: 0.886593\n",
            "saving model with acc 0.712\n",
            "100%|██████████| 3844/3844 [01:09<00:00, 55.14it/s]\n",
            "  0%|          | 1/3844 [00:00<06:42,  9.56it/s][023/030] Train Acc: 0.735823 Loss: 0.792662 | Val Acc: 0.712156 loss: 0.888019\n",
            "100%|██████████| 3844/3844 [01:10<00:00, 54.91it/s]\n",
            "  0%|          | 1/3844 [00:00<06:37,  9.67it/s][024/030] Train Acc: 0.736447 Loss: 0.788939 | Val Acc: 0.712273 loss: 0.888083\n",
            "100%|██████████| 3844/3844 [01:09<00:00, 55.28it/s]\n",
            "  0%|          | 1/3844 [00:00<07:30,  8.53it/s][025/030] Train Acc: 0.737653 Loss: 0.786017 | Val Acc: 0.713359 loss: 0.886239\n",
            "saving model with acc 0.713\n",
            "100%|██████████| 3844/3844 [01:09<00:00, 54.95it/s]\n",
            "  0%|          | 1/3844 [00:00<06:37,  9.66it/s][026/030] Train Acc: 0.738392 Loss: 0.784575 | Val Acc: 0.712814 loss: 0.886817\n",
            "100%|██████████| 3844/3844 [01:09<00:00, 55.14it/s]\n",
            "  0%|          | 1/3844 [00:00<06:43,  9.52it/s][027/030] Train Acc: 0.738708 Loss: 0.782102 | Val Acc: 0.712497 loss: 0.887755\n",
            "100%|██████████| 3844/3844 [01:09<00:00, 55.04it/s]\n",
            "  0%|          | 1/3844 [00:00<07:28,  8.57it/s][028/030] Train Acc: 0.739228 Loss: 0.779934 | Val Acc: 0.713371 loss: 0.884983\n",
            "saving model with acc 0.713\n",
            "100%|██████████| 3844/3844 [01:09<00:00, 55.01it/s]\n",
            "  0%|          | 1/3844 [00:00<07:18,  8.77it/s][029/030] Train Acc: 0.740125 Loss: 0.777059 | Val Acc: 0.713761 loss: 0.885984\n",
            "saving model with acc 0.714\n",
            "100%|██████████| 3844/3844 [01:09<00:00, 55.25it/s]\n",
            "[030/030] Train Acc: 0.740883 Loss: 0.774555 | Val Acc: 0.713298 loss: 0.886393\n"
          ]
        }
      ]
    },
    {
      "cell_type": "markdown",
      "metadata": {
        "id": "1Hi7jTn3PX-m"
      },
      "source": [
        "## Testing"
      ]
    },
    {
      "cell_type": "markdown",
      "metadata": {
        "id": "NfUECMFCn5VG"
      },
      "source": [
        "Create a testing dataset, and load model from the saved checkpoint."
      ]
    },
    {
      "cell_type": "code",
      "metadata": {
        "id": "1PKjtAScPWtr",
        "colab": {
          "base_uri": "https://localhost:8080/"
        },
        "outputId": "8c17272b-536a-4692-a95f-a3292766c698"
      },
      "source": [
        "# create testing dataset\n",
        "test_set = TIMITDataset(test, None)\n",
        "test_loader = DataLoader(test_set, batch_size=BATCH_SIZE, shuffle=False)\n",
        "\n",
        "# create model and load weights from checkpoint\n",
        "model = Classifier().to(device)\n",
        "model.load_state_dict(torch.load(model_path))"
      ],
      "execution_count": 26,
      "outputs": [
        {
          "output_type": "execute_result",
          "data": {
            "text/plain": [
              "<All keys matched successfully>"
            ]
          },
          "metadata": {},
          "execution_count": 26
        }
      ]
    },
    {
      "cell_type": "markdown",
      "metadata": {
        "id": "940TtCCdoYd0"
      },
      "source": [
        "Make prediction."
      ]
    },
    {
      "cell_type": "code",
      "metadata": {
        "id": "84HU5GGjPqR0"
      },
      "source": [
        "predict = []\n",
        "model.eval() # set the model to evaluation mode\n",
        "with torch.no_grad():\n",
        "    for i, data in enumerate(test_loader):\n",
        "        inputs = data\n",
        "        inputs = inputs.to(device)\n",
        "        outputs = model(inputs)\n",
        "        _, test_pred = torch.max(outputs, 1) # get the index of the class with the highest probability\n",
        "\n",
        "        for y in test_pred.cpu().numpy():\n",
        "            predict.append(y)"
      ],
      "execution_count": 27,
      "outputs": []
    },
    {
      "cell_type": "markdown",
      "metadata": {
        "id": "AWDf_C-omElb"
      },
      "source": [
        "Write prediction to a CSV file.\n",
        "\n",
        "After finish running this block, download the file `prediction.csv` from the files section on the left-hand side and submit it to Kaggle."
      ]
    },
    {
      "cell_type": "code",
      "metadata": {
        "id": "GuljYSPHcZir"
      },
      "source": [
        "with open('prediction.csv', 'w') as f:\n",
        "    f.write('Id,Class\\n')\n",
        "    for i, y in enumerate(predict):\n",
        "        f.write('{},{}\\n'.format(i, y))"
      ],
      "execution_count": 28,
      "outputs": []
    },
    {
      "cell_type": "code",
      "execution_count": null,
      "metadata": {},
      "outputs": [],
      "source": []
    }
  ]
}