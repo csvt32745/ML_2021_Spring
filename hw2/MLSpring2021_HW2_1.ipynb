{
  "nbformat": 4,
  "nbformat_minor": 0,
  "metadata": {
    "accelerator": "GPU",
    "colab": {
      "name": "SHARE MLSpring2021 - HW2-1.ipynb",
      "provenance": [],
      "collapsed_sections": []
    },
    "kernelspec": {
      "display_name": "Python 3",
      "name": "python3",
      "language": "python"
    }
  },
  "cells": [
    {
      "cell_type": "markdown",
      "metadata": {
        "id": "OYlaRwNu7ojq"
      },
      "source": [
        "# **Homework 2-1 Phoneme Classification**"
      ]
    },
    {
      "cell_type": "markdown",
      "metadata": {
        "id": "emUd7uS7crTz"
      },
      "source": [
        "## The DARPA TIMIT Acoustic-Phonetic Continuous Speech Corpus (TIMIT)\n",
        "The TIMIT corpus of reading speech has been designed to provide speech data for the acquisition of acoustic-phonetic knowledge and for the development and evaluation of automatic speech recognition systems.\n",
        "\n",
        "This homework is a multiclass classification task, \n",
        "we are going to train a deep neural network classifier to predict the phonemes for each frame from the speech corpus TIMIT.\n",
        "\n",
        "link: https://academictorrents.com/details/34e2b78745138186976cbc27939b1b34d18bd5b3"
      ]
    },
    {
      "cell_type": "markdown",
      "metadata": {
        "id": "KVUGfWTo7_Oj"
      },
      "source": [
        "## Download Data\n",
        "Download data from google drive, then unzip it.\n",
        "\n",
        "You should have `timit_11/train_11.npy`, `timit_11/train_label_11.npy`, and `timit_11/test_11.npy` after running this block.<br><br>\n",
        "`timit_11/`\n",
        "- `train_11.npy`: training data<br>\n",
        "- `train_label_11.npy`: training label<br>\n",
        "- `test_11.npy`:  testing data<br><br>\n",
        "\n",
        "**notes: if the google drive link is dead, you can download the data directly from Kaggle and upload it to the workspace**\n",
        "\n",
        "\n"
      ]
    },
    {
      "cell_type": "code",
      "metadata": {
        "colab": {
          "base_uri": "https://localhost:8080/"
        },
        "id": "OzkiMEcC3Foq",
        "outputId": "4308c64c-6885-4d1c-8eb7-a2d9b8038401"
      },
      "source": [
        "# !gdown --id '1HPkcmQmFGu-3OknddKIa5dNDsR05lIQR' --output data.zip\n",
        "# !unzip data.zip\n",
        "# !ls "
      ],
      "execution_count": 2,
      "outputs": []
    },
    {
      "cell_type": "code",
      "execution_count": 3,
      "metadata": {},
      "outputs": [],
      "source": [
        "import os\n",
        "from tqdm import tqdm\n",
        "os.environ['CUDA_VISIBLE_DEVICES'] = '1'"
      ]
    },
    {
      "cell_type": "markdown",
      "metadata": {
        "id": "_L_4anls8Drv"
      },
      "source": [
        "## Preparing Data\n",
        "Load the training and testing data from the `.npy` file (NumPy array)."
      ]
    },
    {
      "cell_type": "code",
      "metadata": {
        "colab": {
          "base_uri": "https://localhost:8080/"
        },
        "id": "IJjLT8em-y9G",
        "outputId": "8edc6bfe-7511-447f-f239-00b96dba6dcf"
      },
      "source": [
        "import numpy as np\n",
        "\n",
        "print('Loading data ...')\n",
        "\n",
        "data_root='./timit_11/'\n",
        "train = np.load(data_root + 'train_11.npy')\n",
        "train_label = np.load(data_root + 'train_label_11.npy')\n",
        "test = np.load(data_root + 'test_11.npy')\n",
        "\n",
        "# reshape to 2d feature\n",
        "train = train.reshape(-1, 1, 11, 39)\n",
        "test = test.reshape(-1, 1, 11, 39)"
      ],
      "execution_count": 4,
      "outputs": [
        {
          "output_type": "stream",
          "name": "stdout",
          "text": [
            "Loading data ...\n"
          ]
        }
      ]
    },
    {
      "cell_type": "code",
      "execution_count": 5,
      "metadata": {},
      "outputs": [
        {
          "output_type": "stream",
          "name": "stdout",
          "text": [
            "Size of training data: (1229932, 1, 11, 39)\nSize of testing data: (451552, 1, 11, 39)\n"
          ]
        }
      ],
      "source": [
        "print('Size of training data: {}'.format(train.shape))\n",
        "print('Size of testing data: {}'.format(test.shape))"
      ]
    },
    {
      "cell_type": "markdown",
      "metadata": {
        "id": "us5XW_x6udZQ"
      },
      "source": [
        "## Create Dataset"
      ]
    },
    {
      "cell_type": "code",
      "metadata": {
        "id": "Fjf5EcmJtf4e"
      },
      "source": [
        "import torch\n",
        "from torch.utils.data import Dataset\n",
        "\n",
        "class TIMITDataset(Dataset):\n",
        "    def __init__(self, X, y=None):\n",
        "        self.data = torch.from_numpy(X).float()\n",
        "        if y is not None:\n",
        "            y = y.astype(np.int)\n",
        "            self.label = torch.LongTensor(y)\n",
        "        else:\n",
        "            self.label = None\n",
        "\n",
        "    def __getitem__(self, idx):\n",
        "        if self.label is not None:\n",
        "            return self.data[idx], self.label[idx]\n",
        "        else:\n",
        "            return self.data[idx]\n",
        "\n",
        "    def __len__(self):\n",
        "        return len(self.data)\n"
      ],
      "execution_count": 6,
      "outputs": []
    },
    {
      "cell_type": "markdown",
      "metadata": {
        "id": "otIC6WhGeh9v"
      },
      "source": [
        "Split the labeled data into a training set and a validation set, you can modify the variable `VAL_RATIO` to change the ratio of validation data."
      ]
    },
    {
      "cell_type": "code",
      "metadata": {
        "colab": {
          "base_uri": "https://localhost:8080/"
        },
        "id": "sYqi_lAuvC59",
        "outputId": "13dabe63-4849-47ee-fe04-57427b9d601c"
      },
      "source": [
        "# VAL_RATIO = 0.2\n",
        "VAL_RATIO = 0.2\n",
        "\n",
        "percent = int(train.shape[0] * (1 - VAL_RATIO))\n",
        "train_x, train_y, val_x, val_y = train[:percent], train_label[:percent], train[percent:], train_label[percent:]\n",
        "print('Size of training set: {}'.format(train_x.shape))\n",
        "print('Size of validation set: {}'.format(val_x.shape))"
      ],
      "execution_count": 7,
      "outputs": [
        {
          "output_type": "stream",
          "name": "stdout",
          "text": [
            "Size of training set: (983945, 1, 11, 39)\nSize of validation set: (245987, 1, 11, 39)\n"
          ]
        }
      ]
    },
    {
      "cell_type": "markdown",
      "metadata": {
        "id": "nbCfclUIgMTX"
      },
      "source": [
        "Create a data loader from the dataset, feel free to tweak the variable `BATCH_SIZE` here."
      ]
    },
    {
      "cell_type": "code",
      "metadata": {
        "id": "RUCbQvqJurYc"
      },
      "source": [
        "BATCH_SIZE = 256\n",
        "\n",
        "from torch.utils.data import DataLoader\n",
        "\n",
        "train_set = TIMITDataset(train_x, train_y)\n",
        "val_set = TIMITDataset(val_x, val_y)\n",
        "train_loader = DataLoader(train_set, batch_size=BATCH_SIZE, shuffle=True) #only shuffle the training data\n",
        "val_loader = DataLoader(val_set, batch_size=BATCH_SIZE, shuffle=False)"
      ],
      "execution_count": 8,
      "outputs": []
    },
    {
      "cell_type": "markdown",
      "metadata": {
        "id": "_SY7X0lUgb50"
      },
      "source": [
        "Cleanup the unneeded variables to save memory.<br>\n",
        "\n",
        "**notes: if you need to use these variables later, then you may remove this block or clean up unneeded variables later<br>the data size is quite huge, so be aware of memory usage in colab**"
      ]
    },
    {
      "cell_type": "code",
      "metadata": {
        "colab": {
          "base_uri": "https://localhost:8080/"
        },
        "id": "y8rzkGraeYeN",
        "outputId": "dc790996-a43c-4a99-90d4-e7928892a899"
      },
      "source": [
        "import gc\n",
        "\n",
        "del train, train_label, train_x, train_y, val_x, val_y\n",
        "gc.collect()"
      ],
      "execution_count": 9,
      "outputs": [
        {
          "output_type": "execute_result",
          "data": {
            "text/plain": [
              "80"
            ]
          },
          "metadata": {},
          "execution_count": 9
        }
      ]
    },
    {
      "cell_type": "markdown",
      "metadata": {
        "id": "IRqKNvNZwe3V"
      },
      "source": [
        "## Create Model"
      ]
    },
    {
      "cell_type": "markdown",
      "metadata": {
        "id": "FYr1ng5fh9pA"
      },
      "source": [
        "Define model architecture, you are encouraged to change and experiment with the model architecture."
      ]
    },
    {
      "cell_type": "code",
      "execution_count": 10,
      "metadata": {},
      "outputs": [],
      "source": [
        "import torch\n",
        "import torch.nn as nn"
      ]
    },
    {
      "cell_type": "code",
      "execution_count": 35,
      "metadata": {},
      "outputs": [],
      "source": [
        "class BlockConv2d(nn.Module):\n",
        "    def __init__(self, ch_in, ch_out, k, act, use_bn=True, drop=0):\n",
        "        super(BlockConv2d, self).__init__()\n",
        "        list = [\n",
        "            nn.Conv2d(ch_in, ch_out, k),\n",
        "            act,\n",
        "        ]\n",
        "        if use_bn: list.append(nn.BatchNorm2d(ch_out))\n",
        "        if drop > 0: list.append(nn.Dropout(drop))\n",
        "        self.net = nn.Sequential(*list)\n",
        "\n",
        "    def forward(self, x):\n",
        "          return self.net(x)\n",
        "\n",
        "class BlockLinear(nn.Module):\n",
        "    def __init__(self, ch_in, ch_out, act, use_bn=True, drop=0):\n",
        "        super(BlockLinear, self).__init__()\n",
        "        list = [\n",
        "            nn.Linear(ch_in, ch_out),\n",
        "            act,\n",
        "        ]\n",
        "        if use_bn: list.append(nn.BatchNorm1d(ch_out))\n",
        "        if drop > 0: list.append(nn.Dropout(drop))\n",
        "        self.net = nn.Sequential(*list)\n",
        "\n",
        "    def forward(self, x):\n",
        "          return self.net(x)\n"
      ]
    },
    {
      "cell_type": "code",
      "metadata": {
        "id": "lbZrwT6Ny0XL"
      },
      "source": [
        "class Classifier(nn.Module):\n",
        "    def __init__(self):\n",
        "        super(Classifier, self).__init__()\n",
        "        self.act = nn.SELU()\n",
        "        # self.act = nn.ReLU()\n",
        "\n",
        "        # size = (1, 11, 39)\n",
        "        self.n_0 = [1, 1024] + [128]*2\n",
        "        self.k_0 = [(1, 39)]*1 + [(5, 1)]*2\n",
        "        self.l_0 = len(self.k_0)\n",
        "        self.conv0 = [\n",
        "            BlockConv2d(self.n_0[i], self.n_0[i+1], self.k_0[i], self.act, use_bn=True, drop=0.1)\n",
        "            for i in range(self.l_0)]\n",
        "        self.conv0 = nn.Sequential(*self.conv0)\n",
        "\n",
        "        # size = (128, 9, 3)\n",
        "        self.flat = nn.Flatten()\n",
        "\n",
        "        # size = (9*9*3)\n",
        "        self.n_1 = [128*3, 256, 128]\n",
        "        self.l_1 = len(self.n_1)\n",
        "        self.linears = [\n",
        "            BlockLinear(self.n_1[i], self.n_1[i+1], self.act, use_bn=True, drop=0.1)\n",
        "            for i in range(self.l_1-1)\n",
        "        ]\n",
        "        self.linears = nn.Sequential(*self.linears)\n",
        "\n",
        "        self.out = nn.Linear(self.n_1[-1], 39)\n",
        "\n",
        "    def forward(self, x):\n",
        "        x = self.conv0(x)\n",
        "        x = self.flat(x)\n",
        "        x = self.linears(x)\n",
        "        x = self.out(x)\n",
        "        return x"
      ],
      "execution_count": 71,
      "outputs": []
    },
    {
      "cell_type": "markdown",
      "metadata": {
        "id": "VRYciXZvPbYh"
      },
      "source": [
        "## Training"
      ]
    },
    {
      "cell_type": "code",
      "metadata": {
        "id": "y114Vmm3Ja6o"
      },
      "source": [
        "#check device\n",
        "def get_device():\n",
        "  return 'cuda' if torch.cuda.is_available() else 'cpu'"
      ],
      "execution_count": 13,
      "outputs": []
    },
    {
      "cell_type": "markdown",
      "metadata": {
        "id": "sEX-yjHjhGuH"
      },
      "source": [
        "Fix random seeds for reproducibility."
      ]
    },
    {
      "cell_type": "code",
      "metadata": {
        "id": "88xPiUnm0tAd"
      },
      "source": [
        "# fix random seed\n",
        "def same_seeds(seed):\n",
        "    torch.manual_seed(seed)\n",
        "    if torch.cuda.is_available():\n",
        "        torch.cuda.manual_seed(seed)\n",
        "        torch.cuda.manual_seed_all(seed)  \n",
        "    np.random.seed(seed)  \n",
        "    torch.backends.cudnn.benchmark = False\n",
        "    torch.backends.cudnn.deterministic = True"
      ],
      "execution_count": 72,
      "outputs": []
    },
    {
      "cell_type": "markdown",
      "metadata": {
        "id": "KbBcBXkSp6RA"
      },
      "source": [
        "Feel free to change the training parameters here."
      ]
    },
    {
      "cell_type": "code",
      "metadata": {
        "id": "QTp3ZXg1yO9Y"
      },
      "source": [
        "# fix random seed for reproducibility\n",
        "same_seeds(52728)\n",
        "\n",
        "# get device \n",
        "device = get_device()\n",
        "print(f'DEVICE: {device}')\n",
        "\n",
        "# training parameters\n",
        "num_epoch = 30               # number of training epoch\n",
        "learning_rate = 1e-4       # learning rate\n",
        "\n",
        "# the path where checkpoint saved\n",
        "model_path = './model.ckpt'\n",
        "overfit_model_path = './overfit_model.ckpt'\n",
        "\n",
        "# create model, define a loss function, and optimizer\n",
        "model = Classifier().to(device)\n",
        "# model.load_state_dict(torch.load(model_path))\n",
        "criterion = nn.CrossEntropyLoss() \n",
        "# optimizer = torch.optim.Adam(model.parameters(), lr=learning_rate)\n",
        "optimizer = torch.optim.Adam(model.parameters(), lr=learning_rate, weight_decay=1e-4)"
      ],
      "execution_count": 73,
      "outputs": [
        {
          "output_type": "stream",
          "name": "stdout",
          "text": [
            "DEVICE: cuda\n"
          ]
        }
      ]
    },
    {
      "cell_type": "code",
      "execution_count": 64,
      "metadata": {},
      "outputs": [
        {
          "output_type": "stream",
          "name": "stdout",
          "text": [
            "Classifier(\n  (act): SELU()\n  (conv0): Sequential(\n    (0): BlockConv2d(\n      (net): Sequential(\n        (0): Conv2d(1, 128, kernel_size=(1, 7), stride=(1, 1))\n        (1): SELU()\n        (2): BatchNorm2d(128, eps=1e-05, momentum=0.1, affine=True, track_running_stats=True)\n        (3): Dropout(p=0.1, inplace=False)\n      )\n    )\n    (1): BlockConv2d(\n      (net): Sequential(\n        (0): Conv2d(128, 32, kernel_size=(1, 7), stride=(1, 1))\n        (1): SELU()\n        (2): BatchNorm2d(32, eps=1e-05, momentum=0.1, affine=True, track_running_stats=True)\n        (3): Dropout(p=0.1, inplace=False)\n      )\n    )\n    (2): BlockConv2d(\n      (net): Sequential(\n        (0): Conv2d(32, 32, kernel_size=(1, 7), stride=(1, 1))\n        (1): SELU()\n        (2): BatchNorm2d(32, eps=1e-05, momentum=0.1, affine=True, track_running_stats=True)\n        (3): Dropout(p=0.1, inplace=False)\n      )\n    )\n    (3): BlockConv2d(\n      (net): Sequential(\n        (0): Conv2d(32, 32, kernel_size=(1, 7), stride=(1, 1))\n        (1): SELU()\n        (2): BatchNorm2d(32, eps=1e-05, momentum=0.1, affine=True, track_running_stats=True)\n        (3): Dropout(p=0.1, inplace=False)\n      )\n    )\n    (4): BlockConv2d(\n      (net): Sequential(\n        (0): Conv2d(32, 32, kernel_size=(5, 1), stride=(1, 1))\n        (1): SELU()\n        (2): BatchNorm2d(32, eps=1e-05, momentum=0.1, affine=True, track_running_stats=True)\n        (3): Dropout(p=0.1, inplace=False)\n      )\n    )\n    (5): BlockConv2d(\n      (net): Sequential(\n        (0): Conv2d(32, 32, kernel_size=(5, 1), stride=(1, 1))\n        (1): SELU()\n        (2): BatchNorm2d(32, eps=1e-05, momentum=0.1, affine=True, track_running_stats=True)\n        (3): Dropout(p=0.1, inplace=False)\n      )\n    )\n  )\n  (flat): Flatten(start_dim=1, end_dim=-1)\n  (linears): Sequential(\n    (0): BlockLinear(\n      (net): Sequential(\n        (0): Linear(in_features=864, out_features=512, bias=True)\n        (1): SELU()\n        (2): BatchNorm1d(512, eps=1e-05, momentum=0.1, affine=True, track_running_stats=True)\n        (3): Dropout(p=0.1, inplace=False)\n      )\n    )\n    (1): BlockLinear(\n      (net): Sequential(\n        (0): Linear(in_features=512, out_features=256, bias=True)\n        (1): SELU()\n        (2): BatchNorm1d(256, eps=1e-05, momentum=0.1, affine=True, track_running_stats=True)\n        (3): Dropout(p=0.1, inplace=False)\n      )\n    )\n    (2): BlockLinear(\n      (net): Sequential(\n        (0): Linear(in_features=256, out_features=128, bias=True)\n        (1): SELU()\n        (2): BatchNorm1d(128, eps=1e-05, momentum=0.1, affine=True, track_running_stats=True)\n        (3): Dropout(p=0.1, inplace=False)\n      )\n    )\n  )\n  (out): Linear(in_features=128, out_features=39, bias=True)\n)\n"
          ]
        }
      ],
      "source": [
        "print(model)"
      ]
    },
    {
      "cell_type": "code",
      "metadata": {
        "id": "CdMWsBs7zzNs",
        "colab": {
          "base_uri": "https://localhost:8080/"
        },
        "outputId": "c5ed561e-610d-4a35-d936-fd97adf342a0"
      },
      "source": [
        "# start training\n",
        "\n",
        "best_acc = 0.0\n",
        "for epoch in range(num_epoch):\n",
        "    train_acc = 0.0\n",
        "    train_loss = 0.0\n",
        "    val_acc = 0.0\n",
        "    val_loss = 0.0\n",
        "\n",
        "    # training\n",
        "    model.train() # set the model to training mode\n",
        "    for i, data in enumerate(tqdm(train_loader)):\n",
        "        inputs, labels = data\n",
        "        inputs, labels = inputs.to(device), labels.to(device)\n",
        "        optimizer.zero_grad() \n",
        "        outputs = model(inputs) \n",
        "        batch_loss = criterion(outputs, labels)\n",
        "        _, train_pred = torch.max(outputs, 1) # get the index of the class with the highest probability\n",
        "        batch_loss.backward() \n",
        "        optimizer.step() \n",
        "\n",
        "        train_acc += (train_pred.cpu() == labels.cpu()).sum().item()\n",
        "        train_loss += batch_loss.item()\n",
        "\n",
        "    # validation\n",
        "    if len(val_set) > 0:\n",
        "        model.eval() # set the model to evaluation mode\n",
        "        with torch.no_grad():\n",
        "            for i, data in enumerate(val_loader):\n",
        "                inputs, labels = data\n",
        "                inputs, labels = inputs.to(device), labels.to(device)\n",
        "                outputs = model(inputs)\n",
        "                batch_loss = criterion(outputs, labels) \n",
        "                _, val_pred = torch.max(outputs, 1) \n",
        "            \n",
        "                val_acc += (val_pred.cpu() == labels.cpu()).sum().item() # get the index of the class with the highest probability\n",
        "                val_loss += batch_loss.item()\n",
        "\n",
        "            print('[{:03d}/{:03d}] Train Acc: {:3.6f} Loss: {:3.6f} | Val Acc: {:3.6f} loss: {:3.6f}'.format(\n",
        "                epoch + 1, num_epoch, train_acc/len(train_set), train_loss/len(train_loader), val_acc/len(val_set), val_loss/len(val_loader)\n",
        "            ))\n",
        "\n",
        "            # if the model improves, save a checkpoint at this epoch\n",
        "            if val_acc > best_acc:\n",
        "                best_acc = val_acc\n",
        "                torch.save(model.state_dict(), model_path)\n",
        "                print('saving model with acc {:.3f}'.format(best_acc/len(val_set)))\n",
        "    else:\n",
        "        print('[{:03d}/{:03d}] Train Acc: {:3.6f} Loss: {:3.6f}'.format(\n",
        "            epoch + 1, num_epoch, train_acc/len(train_set), train_loss/len(train_loader)\n",
        "        ))\n",
        "\n",
        "# if not validating, save the last epoch\n",
        "if len(val_set) == 0:\n",
        "    torch.save(model.state_dict(), model_path)\n",
        "    print('saving model at last epoch')\n",
        "else:\n",
        "    torch.save(model.state_dict(), overfit_model_path)\n",
        "    print('saving overfit model')"
      ],
      "execution_count": 74,
      "outputs": [
        {
          "output_type": "stream",
          "name": "stderr",
          "text": [
            "100%|██████████| 3844/3844 [01:19<00:00, 48.63it/s]\n",
            "  0%|          | 1/3844 [00:00<07:17,  8.78it/s][001/030] Train Acc: 0.589900 Loss: 1.350520 | Val Acc: 0.665377 loss: 1.066045\n",
            "saving model with acc 0.665\n",
            "100%|██████████| 3844/3844 [01:18<00:00, 48.69it/s]\n",
            "  0%|          | 1/3844 [00:00<06:59,  9.17it/s][002/030] Train Acc: 0.648051 Loss: 1.114756 | Val Acc: 0.685654 loss: 0.978985\n",
            "saving model with acc 0.686\n",
            "100%|██████████| 3844/3844 [01:19<00:00, 48.54it/s]\n",
            "  0%|          | 1/3844 [00:00<07:24,  8.64it/s][003/030] Train Acc: 0.669285 Loss: 1.037483 | Val Acc: 0.699834 loss: 0.925837\n",
            "saving model with acc 0.700\n",
            "100%|██████████| 3844/3844 [01:20<00:00, 48.02it/s]\n",
            "  0%|          | 1/3844 [00:00<07:08,  8.97it/s][004/030] Train Acc: 0.682964 Loss: 0.985461 | Val Acc: 0.709753 loss: 0.890929\n",
            "saving model with acc 0.710\n",
            "100%|██████████| 3844/3844 [01:19<00:00, 48.44it/s]\n",
            "  0%|          | 1/3844 [00:00<07:13,  8.87it/s][005/030] Train Acc: 0.693480 Loss: 0.947118 | Val Acc: 0.716879 loss: 0.865400\n",
            "saving model with acc 0.717\n",
            "100%|██████████| 3844/3844 [01:18<00:00, 48.68it/s]\n",
            "  0%|          | 1/3844 [00:00<07:02,  9.09it/s][006/030] Train Acc: 0.702092 Loss: 0.917354 | Val Acc: 0.722111 loss: 0.847805\n",
            "saving model with acc 0.722\n",
            "100%|██████████| 3844/3844 [01:21<00:00, 47.27it/s]\n",
            "  0%|          | 1/3844 [00:00<07:20,  8.73it/s][007/030] Train Acc: 0.708202 Loss: 0.894368 | Val Acc: 0.726620 loss: 0.830506\n",
            "saving model with acc 0.727\n",
            "100%|██████████| 3844/3844 [01:20<00:00, 48.02it/s]\n",
            "  0%|          | 1/3844 [00:00<07:16,  8.80it/s][008/030] Train Acc: 0.714067 Loss: 0.873715 | Val Acc: 0.728896 loss: 0.823428\n",
            "saving model with acc 0.729\n",
            "100%|██████████| 3844/3844 [01:19<00:00, 48.45it/s]\n",
            "  0%|          | 1/3844 [00:00<06:55,  9.25it/s][009/030] Train Acc: 0.719000 Loss: 0.857393 | Val Acc: 0.731409 loss: 0.814942\n",
            "saving model with acc 0.731\n",
            "100%|██████████| 3844/3844 [01:19<00:00, 48.62it/s]\n",
            "  0%|          | 3/3844 [00:00<02:19, 27.47it/s][010/030] Train Acc: 0.722952 Loss: 0.841613 | Val Acc: 0.731648 loss: 0.809584\n",
            "saving model with acc 0.732\n",
            "100%|██████████| 3844/3844 [01:20<00:00, 47.95it/s]\n",
            "  0%|          | 1/3844 [00:00<07:52,  8.13it/s][011/030] Train Acc: 0.726411 Loss: 0.829981 | Val Acc: 0.735941 loss: 0.800096\n",
            "saving model with acc 0.736\n",
            "100%|██████████| 3844/3844 [01:19<00:00, 48.49it/s]\n",
            "  0%|          | 1/3844 [00:00<07:08,  8.97it/s][012/030] Train Acc: 0.730080 Loss: 0.819068 | Val Acc: 0.738397 loss: 0.788479\n",
            "saving model with acc 0.738\n",
            "100%|██████████| 3844/3844 [01:19<00:00, 48.12it/s]\n",
            "  0%|          | 1/3844 [00:00<07:01,  9.12it/s][013/030] Train Acc: 0.732233 Loss: 0.809002 | Val Acc: 0.737815 loss: 0.791308\n",
            "100%|██████████| 3844/3844 [01:19<00:00, 48.21it/s]\n",
            "  0%|          | 1/3844 [00:00<07:07,  8.98it/s][014/030] Train Acc: 0.735007 Loss: 0.800309 | Val Acc: 0.738547 loss: 0.788721\n",
            "saving model with acc 0.739\n",
            "100%|██████████| 3844/3844 [01:19<00:00, 48.50it/s]\n",
            "  0%|          | 1/3844 [00:00<07:02,  9.09it/s][015/030] Train Acc: 0.738036 Loss: 0.790841 | Val Acc: 0.739864 loss: 0.784078\n",
            "saving model with acc 0.740\n",
            "100%|██████████| 3844/3844 [01:19<00:00, 48.46it/s]\n",
            "  0%|          | 1/3844 [00:00<07:02,  9.09it/s][016/030] Train Acc: 0.739697 Loss: 0.783874 | Val Acc: 0.742181 loss: 0.778495\n",
            "saving model with acc 0.742\n",
            "100%|██████████| 3844/3844 [01:16<00:00, 50.20it/s]\n",
            "  0%|          | 1/3844 [00:00<06:54,  9.27it/s][017/030] Train Acc: 0.741342 Loss: 0.776678 | Val Acc: 0.742340 loss: 0.775813\n",
            "saving model with acc 0.742\n",
            "100%|██████████| 3844/3844 [01:19<00:00, 48.53it/s]\n",
            "  0%|          | 1/3844 [00:00<06:51,  9.33it/s][018/030] Train Acc: 0.742861 Loss: 0.770107 | Val Acc: 0.744714 loss: 0.771161\n",
            "saving model with acc 0.745\n",
            "100%|██████████| 3844/3844 [01:18<00:00, 48.86it/s]\n",
            "  0%|          | 1/3844 [00:00<07:06,  9.01it/s][019/030] Train Acc: 0.745142 Loss: 0.764158 | Val Acc: 0.745039 loss: 0.770582\n",
            "saving model with acc 0.745\n",
            "100%|██████████| 3844/3844 [01:19<00:00, 48.32it/s]\n",
            "  0%|          | 1/3844 [00:00<06:53,  9.29it/s][020/030] Train Acc: 0.747163 Loss: 0.758400 | Val Acc: 0.744295 loss: 0.770405\n",
            "100%|██████████| 3844/3844 [01:19<00:00, 48.41it/s]\n",
            "  0%|          | 1/3844 [00:00<06:55,  9.25it/s][021/030] Train Acc: 0.748220 Loss: 0.753869 | Val Acc: 0.745560 loss: 0.766576\n",
            "saving model with acc 0.746\n",
            "100%|██████████| 3844/3844 [01:19<00:00, 48.44it/s]\n",
            "  0%|          | 1/3844 [00:00<06:59,  9.16it/s][022/030] Train Acc: 0.749917 Loss: 0.749297 | Val Acc: 0.747397 loss: 0.764121\n",
            "saving model with acc 0.747\n",
            "100%|██████████| 3844/3844 [01:19<00:00, 48.53it/s]\n",
            "  0%|          | 1/3844 [00:00<06:53,  9.28it/s][023/030] Train Acc: 0.750613 Loss: 0.743885 | Val Acc: 0.746572 loss: 0.762152\n",
            "100%|██████████| 3844/3844 [01:19<00:00, 48.48it/s]\n",
            "  0%|          | 1/3844 [00:00<06:55,  9.24it/s][024/030] Train Acc: 0.752416 Loss: 0.739159 | Val Acc: 0.747645 loss: 0.760812\n",
            "saving model with acc 0.748\n",
            "100%|██████████| 3844/3844 [01:19<00:00, 48.64it/s]\n",
            "  0%|          | 1/3844 [00:00<06:59,  9.17it/s][025/030] Train Acc: 0.753279 Loss: 0.735644 | Val Acc: 0.746377 loss: 0.762189\n",
            "100%|██████████| 3844/3844 [01:19<00:00, 48.63it/s]\n",
            "  0%|          | 1/3844 [00:00<07:01,  9.12it/s][026/030] Train Acc: 0.754577 Loss: 0.731040 | Val Acc: 0.748023 loss: 0.762478\n",
            "saving model with acc 0.748\n",
            "100%|██████████| 3844/3844 [01:18<00:00, 48.84it/s]\n",
            "  0%|          | 1/3844 [00:00<06:57,  9.20it/s][027/030] Train Acc: 0.755361 Loss: 0.726636 | Val Acc: 0.749076 loss: 0.759989\n",
            "saving model with acc 0.749\n",
            "100%|██████████| 3844/3844 [01:21<00:00, 47.24it/s]\n",
            "  0%|          | 1/3844 [00:00<07:11,  8.90it/s][028/030] Train Acc: 0.756435 Loss: 0.724487 | Val Acc: 0.747877 loss: 0.760807\n",
            "100%|██████████| 3844/3844 [01:19<00:00, 48.47it/s]\n",
            "  0%|          | 1/3844 [00:00<07:05,  9.02it/s][029/030] Train Acc: 0.757274 Loss: 0.720507 | Val Acc: 0.747808 loss: 0.762587\n",
            "100%|██████████| 3844/3844 [01:19<00:00, 48.35it/s]\n",
            "[030/030] Train Acc: 0.758618 Loss: 0.717191 | Val Acc: 0.747641 loss: 0.763193\n",
            "saving overfit model\n"
          ]
        }
      ]
    },
    {
      "cell_type": "markdown",
      "metadata": {
        "id": "1Hi7jTn3PX-m"
      },
      "source": [
        "## Testing"
      ]
    },
    {
      "cell_type": "markdown",
      "metadata": {
        "id": "NfUECMFCn5VG"
      },
      "source": [
        "Create a testing dataset, and load model from the saved checkpoint."
      ]
    },
    {
      "cell_type": "code",
      "metadata": {
        "id": "1PKjtAScPWtr",
        "colab": {
          "base_uri": "https://localhost:8080/"
        },
        "outputId": "8c17272b-536a-4692-a95f-a3292766c698"
      },
      "source": [
        "# create testing dataset\n",
        "test_set = TIMITDataset(test, None)\n",
        "test_loader = DataLoader(test_set, batch_size=BATCH_SIZE, shuffle=False)\n",
        "\n",
        "# create model and load weights from checkpoint\n",
        "model = Classifier().to(device)\n",
        "model.load_state_dict(torch.load(model_path))"
      ],
      "execution_count": 75,
      "outputs": [
        {
          "output_type": "execute_result",
          "data": {
            "text/plain": [
              "<All keys matched successfully>"
            ]
          },
          "metadata": {},
          "execution_count": 75
        }
      ]
    },
    {
      "cell_type": "markdown",
      "metadata": {
        "id": "940TtCCdoYd0"
      },
      "source": [
        "Make prediction."
      ]
    },
    {
      "cell_type": "code",
      "metadata": {
        "id": "84HU5GGjPqR0"
      },
      "source": [
        "predict = []\n",
        "model.eval() # set the model to evaluation mode\n",
        "with torch.no_grad():\n",
        "    for i, data in enumerate(test_loader):\n",
        "        inputs = data\n",
        "        inputs = inputs.to(device)\n",
        "        outputs = model(inputs)\n",
        "        _, test_pred = torch.max(outputs, 1) # get the index of the class with the highest probability\n",
        "\n",
        "        for y in test_pred.cpu().numpy():\n",
        "            predict.append(y)"
      ],
      "execution_count": 76,
      "outputs": []
    },
    {
      "cell_type": "markdown",
      "metadata": {
        "id": "AWDf_C-omElb"
      },
      "source": [
        "Write prediction to a CSV file.\n",
        "\n",
        "After finish running this block, download the file `prediction.csv` from the files section on the left-hand side and submit it to Kaggle."
      ]
    },
    {
      "cell_type": "code",
      "metadata": {
        "id": "GuljYSPHcZir"
      },
      "source": [
        "with open('prediction.csv', 'w') as f:\n",
        "    f.write('Id,Class\\n')\n",
        "    for i, y in enumerate(predict):\n",
        "        f.write('{},{}\\n'.format(i, y))"
      ],
      "execution_count": 77,
      "outputs": []
    },
    {
      "cell_type": "code",
      "execution_count": null,
      "metadata": {},
      "outputs": [],
      "source": []
    }
  ]
}