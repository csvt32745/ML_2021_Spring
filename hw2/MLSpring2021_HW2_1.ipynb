{
  "nbformat": 4,
  "nbformat_minor": 0,
  "metadata": {
    "accelerator": "GPU",
    "colab": {
      "name": "SHARE MLSpring2021 - HW2-1.ipynb",
      "provenance": [],
      "collapsed_sections": []
    },
    "kernelspec": {
      "display_name": "Python 3",
      "name": "python3",
      "language": "python"
    }
  },
  "cells": [
    {
      "cell_type": "markdown",
      "metadata": {
        "id": "OYlaRwNu7ojq"
      },
      "source": [
        "# **Homework 2-1 Phoneme Classification**"
      ]
    },
    {
      "cell_type": "markdown",
      "metadata": {
        "id": "emUd7uS7crTz"
      },
      "source": [
        "## The DARPA TIMIT Acoustic-Phonetic Continuous Speech Corpus (TIMIT)\n",
        "The TIMIT corpus of reading speech has been designed to provide speech data for the acquisition of acoustic-phonetic knowledge and for the development and evaluation of automatic speech recognition systems.\n",
        "\n",
        "This homework is a multiclass classification task, \n",
        "we are going to train a deep neural network classifier to predict the phonemes for each frame from the speech corpus TIMIT.\n",
        "\n",
        "link: https://academictorrents.com/details/34e2b78745138186976cbc27939b1b34d18bd5b3"
      ]
    },
    {
      "cell_type": "markdown",
      "metadata": {
        "id": "KVUGfWTo7_Oj"
      },
      "source": [
        "## Download Data\n",
        "Download data from google drive, then unzip it.\n",
        "\n",
        "You should have `timit_11/train_11.npy`, `timit_11/train_label_11.npy`, and `timit_11/test_11.npy` after running this block.<br><br>\n",
        "`timit_11/`\n",
        "- `train_11.npy`: training data<br>\n",
        "- `train_label_11.npy`: training label<br>\n",
        "- `test_11.npy`:  testing data<br><br>\n",
        "\n",
        "**notes: if the google drive link is dead, you can download the data directly from Kaggle and upload it to the workspace**\n",
        "\n",
        "\n"
      ]
    },
    {
      "cell_type": "code",
      "metadata": {
        "colab": {
          "base_uri": "https://localhost:8080/"
        },
        "id": "OzkiMEcC3Foq",
        "outputId": "4308c64c-6885-4d1c-8eb7-a2d9b8038401"
      },
      "source": [
        "# !gdown --id '1HPkcmQmFGu-3OknddKIa5dNDsR05lIQR' --output data.zip\n",
        "# !unzip data.zip\n",
        "# !ls "
      ],
      "execution_count": 1,
      "outputs": []
    },
    {
      "cell_type": "code",
      "execution_count": 2,
      "metadata": {},
      "outputs": [],
      "source": [
        "import os\n",
        "from tqdm import tqdm\n",
        "os.environ['CUDA_VISIBLE_DEVICES'] = '1'"
      ]
    },
    {
      "cell_type": "markdown",
      "metadata": {
        "id": "_L_4anls8Drv"
      },
      "source": [
        "## Preparing Data\n",
        "Load the training and testing data from the `.npy` file (NumPy array)."
      ]
    },
    {
      "cell_type": "code",
      "metadata": {
        "colab": {
          "base_uri": "https://localhost:8080/"
        },
        "id": "IJjLT8em-y9G",
        "outputId": "8edc6bfe-7511-447f-f239-00b96dba6dcf"
      },
      "source": [
        "import numpy as np\n",
        "\n",
        "print('Loading data ...')\n",
        "\n",
        "data_root='./timit_11/'\n",
        "train = np.load(data_root + 'train_11.npy')\n",
        "train_label = np.load(data_root + 'train_label_11.npy')\n",
        "test = np.load(data_root + 'test_11.npy')\n",
        "\n",
        "# reshape to 2d feature\n",
        "train = train.reshape(-1, 1, 11, 39)\n",
        "test = test.reshape(-1, 1, 11, 39)"
      ],
      "execution_count": 3,
      "outputs": [
        {
          "output_type": "stream",
          "name": "stdout",
          "text": [
            "Loading data ...\n"
          ]
        }
      ]
    },
    {
      "cell_type": "code",
      "execution_count": 4,
      "metadata": {},
      "outputs": [
        {
          "output_type": "stream",
          "name": "stdout",
          "text": [
            "Size of training data: (1229932, 1, 11, 39)\nSize of testing data: (451552, 1, 11, 39)\n"
          ]
        }
      ],
      "source": [
        "print('Size of training data: {}'.format(train.shape))\n",
        "print('Size of testing data: {}'.format(test.shape))"
      ]
    },
    {
      "cell_type": "markdown",
      "metadata": {
        "id": "us5XW_x6udZQ"
      },
      "source": [
        "## Create Dataset"
      ]
    },
    {
      "cell_type": "code",
      "metadata": {
        "id": "Fjf5EcmJtf4e"
      },
      "source": [
        "import torch\n",
        "from torch.utils.data import Dataset\n",
        "\n",
        "class TIMITDataset(Dataset):\n",
        "    def __init__(self, X, y=None):\n",
        "        self.data = torch.from_numpy(X).float()\n",
        "\n",
        "        if y is not None:\n",
        "            y = y.astype(np.int)\n",
        "            self.label = torch.LongTensor(y)\n",
        "        else:\n",
        "            self.label = None\n",
        "        \n",
        "\n",
        "    def __getitem__(self, idx):\n",
        "        if self.label is not None:\n",
        "            return self.data[idx], self.label[idx]\n",
        "        else:\n",
        "            return self.data[idx]\n",
        "\n",
        "    def __len__(self):\n",
        "        return len(self.data)\n",
        "\n"
      ],
      "execution_count": 5,
      "outputs": []
    },
    {
      "cell_type": "markdown",
      "metadata": {
        "id": "otIC6WhGeh9v"
      },
      "source": [
        "Split the labeled data into a training set and a validation set, you can modify the variable `VAL_RATIO` to change the ratio of validation data."
      ]
    },
    {
      "cell_type": "code",
      "metadata": {
        "colab": {
          "base_uri": "https://localhost:8080/"
        },
        "id": "sYqi_lAuvC59",
        "outputId": "13dabe63-4849-47ee-fe04-57427b9d601c"
      },
      "source": [
        "VAL_RATIO=0.2\n",
        "\n",
        "percent = int(train.shape[0] * (1 - VAL_RATIO))\n",
        "train_x, train_y, val_x, val_y = train[:percent], train_label[:percent], train[percent:], train_label[percent:]\n",
        "print('Size of training set: {}'.format(train_x.shape))\n",
        "print('Size of validation set: {}'.format(val_x.shape))"
      ],
      "execution_count": 6,
      "outputs": [
        {
          "output_type": "stream",
          "name": "stdout",
          "text": [
            "Size of training set: (983945, 1, 11, 39)\nSize of validation set: (245987, 1, 11, 39)\n"
          ]
        }
      ]
    },
    {
      "source": [
        "## Normalization"
      ],
      "cell_type": "markdown",
      "metadata": {}
    },
    {
      "cell_type": "code",
      "execution_count": 7,
      "metadata": {},
      "outputs": [],
      "source": [
        "tr = train_x[:, 0, 5].reshape(-1, 1, 1, 39)\n",
        "mean = tr.mean(axis=0, keepdims=True)\n",
        "std = tr.std(axis=0, keepdims=True)\n",
        "norm = lambda x: (x-mean)/std\n",
        "train_x = norm(train_x)\n",
        "val_x = norm(val_x)\n",
        "test = norm(test)\n",
        "\n",
        "del mean, std, tr, norm"
      ]
    },
    {
      "cell_type": "markdown",
      "metadata": {
        "id": "nbCfclUIgMTX"
      },
      "source": [
        "Create a data loader from the dataset, feel free to tweak the variable `BATCH_SIZE` here."
      ]
    },
    {
      "cell_type": "code",
      "metadata": {
        "id": "RUCbQvqJurYc"
      },
      "source": [
        "BATCH_SIZE = 512\n",
        "\n",
        "from torch.utils.data import DataLoader\n",
        "\n",
        "\n",
        "train_set = TIMITDataset(train_x, train_y)\n",
        "val_set = TIMITDataset(val_x, val_y)\n",
        "train_loader = DataLoader(train_set, batch_size=BATCH_SIZE, shuffle=True) #only shuffle the training data\n",
        "val_loader = DataLoader(val_set, batch_size=BATCH_SIZE, shuffle=False)"
      ],
      "execution_count": 8,
      "outputs": []
    },
    {
      "cell_type": "markdown",
      "metadata": {
        "id": "_SY7X0lUgb50"
      },
      "source": [
        "Cleanup the unneeded variables to save memory.<br>\n",
        "\n",
        "**notes: if you need to use these variables later, then you may remove this block or clean up unneeded variables later<br>the data size is quite huge, so be aware of memory usage in colab**"
      ]
    },
    {
      "cell_type": "code",
      "metadata": {
        "colab": {
          "base_uri": "https://localhost:8080/"
        },
        "id": "y8rzkGraeYeN",
        "outputId": "dc790996-a43c-4a99-90d4-e7928892a899"
      },
      "source": [
        "import gc\n",
        "\n",
        "del train, train_label, train_x, train_y, val_x, val_y\n",
        "gc.collect()"
      ],
      "execution_count": 9,
      "outputs": [
        {
          "output_type": "execute_result",
          "data": {
            "text/plain": [
              "352"
            ]
          },
          "metadata": {},
          "execution_count": 9
        }
      ]
    },
    {
      "cell_type": "markdown",
      "metadata": {
        "id": "IRqKNvNZwe3V"
      },
      "source": [
        "## Create Model"
      ]
    },
    {
      "cell_type": "markdown",
      "metadata": {
        "id": "FYr1ng5fh9pA"
      },
      "source": [
        "Define model architecture, you are encouraged to change and experiment with the model architecture."
      ]
    },
    {
      "cell_type": "code",
      "execution_count": 10,
      "metadata": {},
      "outputs": [],
      "source": [
        "import torch\n",
        "import torch.nn as nn"
      ]
    },
    {
      "cell_type": "code",
      "execution_count": 11,
      "metadata": {},
      "outputs": [],
      "source": [
        "class BlockConv2d(nn.Module):\n",
        "    def __init__(self, ch_in, ch_out, k, act=None, use_bn=True, drop=0):\n",
        "        super(BlockConv2d, self).__init__()\n",
        "        list = [\n",
        "            nn.Conv2d(ch_in, ch_out, k),\n",
        "        ]\n",
        "        if use_bn: list.append(nn.BatchNorm2d(ch_out))\n",
        "        if act: list.append(act)\n",
        "        if drop > 0: list.append(nn.Dropout2d(drop))\n",
        "        self.net = nn.Sequential(*list)\n",
        "\n",
        "    def forward(self, x):\n",
        "          return self.net(x)\n",
        "\n",
        "class BlockLinear(nn.Module):\n",
        "    def __init__(self, ch_in, ch_out, act=None, use_bn=True, drop=0):\n",
        "        super(BlockLinear, self).__init__()\n",
        "        list = [\n",
        "            nn.Linear(ch_in, ch_out)\n",
        "        ]\n",
        "        if use_bn: list.append(nn.BatchNorm1d(ch_out))\n",
        "        if act: list.append(act)\n",
        "        if drop > 0: list.append(nn.Dropout(drop))\n",
        "        self.net = nn.Sequential(*list)\n",
        "\n",
        "    def forward(self, x):\n",
        "          return self.net(x)\n"
      ]
    },
    {
      "cell_type": "code",
      "metadata": {
        "id": "lbZrwT6Ny0XL"
      },
      "source": [
        "class Classifier(nn.Module):\n",
        "    def __init__(self):\n",
        "        super(Classifier, self).__init__()\n",
        "        self.act = nn.SELU()\n",
        "        # self.act = nn.ReLU()\n",
        "\n",
        "        # size = (1, 11, 39)\n",
        "        self.n_0 = [1] + [1024] + [512]\n",
        "        self.k_0 = [(1, 39)] + [(9, 1)]\n",
        "        self.l_0 = len(self.k_0)\n",
        "        self.conv0 = [\n",
        "            BlockConv2d(self.n_0[i], self.n_0[i+1], self.k_0[i], self.act, use_bn=True, drop=0.4)\n",
        "            for i in range(self.l_0)]\n",
        "        self.conv0 = nn.Sequential(*self.conv0)\n",
        "\n",
        "        # size = (128, 9, 3)\n",
        "        self.flat = nn.Flatten()\n",
        "\n",
        "        # size = (9*9*3)\n",
        "        self.n_1 = [3*512] + [1024, 256, 64]\n",
        "        self.l_1 = len(self.n_1)\n",
        "        self.linears = [\n",
        "            BlockLinear(self.n_1[i], self.n_1[i+1], self.act, use_bn=True, drop=0.2)\n",
        "            for i in range(self.l_1-1)\n",
        "        ]\n",
        "        self.linears = nn.Sequential(*self.linears)\n",
        "\n",
        "        self.out = nn.Linear(self.n_1[-1], 39)\n",
        "\n",
        "    def forward(self, x):\n",
        "        x = self.conv0(x)\n",
        "        x = self.flat(x)\n",
        "        x = self.linears(x)\n",
        "        x = self.out(x)\n",
        "        return x"
      ],
      "execution_count": 12,
      "outputs": []
    },
    {
      "cell_type": "markdown",
      "metadata": {
        "id": "VRYciXZvPbYh"
      },
      "source": [
        "## Training"
      ]
    },
    {
      "cell_type": "code",
      "metadata": {
        "id": "y114Vmm3Ja6o"
      },
      "source": [
        "#check device\n",
        "def get_device():\n",
        "  return 'cuda' if torch.cuda.is_available() else 'cpu'"
      ],
      "execution_count": 13,
      "outputs": []
    },
    {
      "cell_type": "markdown",
      "metadata": {
        "id": "sEX-yjHjhGuH"
      },
      "source": [
        "Fix random seeds for reproducibility."
      ]
    },
    {
      "cell_type": "code",
      "metadata": {
        "id": "88xPiUnm0tAd"
      },
      "source": [
        "# fix random seed\n",
        "def same_seeds(seed):\n",
        "    torch.manual_seed(seed)\n",
        "    if torch.cuda.is_available():\n",
        "        torch.cuda.manual_seed(seed)\n",
        "        torch.cuda.manual_seed_all(seed)  \n",
        "    np.random.seed(seed)  \n",
        "    torch.backends.cudnn.benchmark = False\n",
        "    torch.backends.cudnn.deterministic = True"
      ],
      "execution_count": 14,
      "outputs": []
    },
    {
      "cell_type": "markdown",
      "metadata": {
        "id": "KbBcBXkSp6RA"
      },
      "source": [
        "Feel free to change the training parameters here."
      ]
    },
    {
      "cell_type": "code",
      "metadata": {
        "id": "QTp3ZXg1yO9Y"
      },
      "source": [
        "# fix random seed for reproducibility\n",
        "same_seeds(52728)\n",
        "\n",
        "# get device \n",
        "device = get_device()\n",
        "print(f'DEVICE: {device}')\n",
        "\n",
        "# training parameters\n",
        "num_epoch = 300               # number of training epoch\n",
        "learning_rate = 1e-2          # learning rate\n",
        "weight_decay = 1e-6\n",
        "n_batch = len(train_set)\n",
        "# the path where checkpoint saved\n",
        "model_path = './model.ckpt'\n",
        "overfit_model_path = './overfit_model.ckpt'\n",
        "\n",
        "# create model, define a loss function, and optimizer\n",
        "model = Classifier().to(device)\n",
        "# print(model.load_state_dict(torch.load(model_path)))\n",
        "criterion = nn.CrossEntropyLoss() \n",
        "\n",
        "optimizer = torch.optim.Adam(model.parameters(), lr=learning_rate, weight_decay=weight_decay)\n",
        "\n",
        "lr_scheduler = torch.optim.lr_scheduler.CosineAnnealingWarmRestarts(optimizer, T_0=30, T_mult=1, eta_min=1e-6, last_epoch=-1, verbose=True)\n",
        "lr_scheduler.T_mult = 1.05 # Since the constructor only allows integer :("
      ],
      "execution_count": 15,
      "outputs": [
        {
          "output_type": "stream",
          "name": "stdout",
          "text": [
            "DEVICE: cuda\n",
            "Epoch     0: adjusting learning rate of group 0 to 1.0000e-02.\n"
          ]
        }
      ]
    },
    {
      "cell_type": "code",
      "execution_count": 16,
      "metadata": {},
      "outputs": [
        {
          "output_type": "stream",
          "name": "stdout",
          "text": [
            "remove log\n"
          ]
        }
      ],
      "source": [
        "log_path = 'log'\n",
        "if log_path in os.listdir():\n",
        "    os.remove(log_path)\n",
        "    print('remove log')\n",
        "log = open(log_path, 'a')"
      ]
    },
    {
      "cell_type": "code",
      "execution_count": 17,
      "metadata": {},
      "outputs": [],
      "source": [
        "# !rm models/*"
      ]
    },
    {
      "cell_type": "code",
      "execution_count": 18,
      "metadata": {},
      "outputs": [
        {
          "output_type": "stream",
          "name": "stdout",
          "text": [
            "Classifier(\n  (act): SELU()\n  (conv0): Sequential(\n    (0): BlockConv2d(\n      (net): Sequential(\n        (0): Conv2d(1, 1024, kernel_size=(1, 39), stride=(1, 1))\n        (1): BatchNorm2d(1024, eps=1e-05, momentum=0.1, affine=True, track_running_stats=True)\n        (2): SELU()\n        (3): Dropout2d(p=0.4, inplace=False)\n      )\n    )\n    (1): BlockConv2d(\n      (net): Sequential(\n        (0): Conv2d(1024, 512, kernel_size=(9, 1), stride=(1, 1))\n        (1): BatchNorm2d(512, eps=1e-05, momentum=0.1, affine=True, track_running_stats=True)\n        (2): SELU()\n        (3): Dropout2d(p=0.4, inplace=False)\n      )\n    )\n  )\n  (flat): Flatten(start_dim=1, end_dim=-1)\n  (linears): Sequential(\n    (0): BlockLinear(\n      (net): Sequential(\n        (0): Linear(in_features=1536, out_features=1024, bias=True)\n        (1): BatchNorm1d(1024, eps=1e-05, momentum=0.1, affine=True, track_running_stats=True)\n        (2): SELU()\n        (3): Dropout(p=0.2, inplace=False)\n      )\n    )\n    (1): BlockLinear(\n      (net): Sequential(\n        (0): Linear(in_features=1024, out_features=256, bias=True)\n        (1): BatchNorm1d(256, eps=1e-05, momentum=0.1, affine=True, track_running_stats=True)\n        (2): SELU()\n        (3): Dropout(p=0.2, inplace=False)\n      )\n    )\n    (2): BlockLinear(\n      (net): Sequential(\n        (0): Linear(in_features=256, out_features=64, bias=True)\n        (1): BatchNorm1d(64, eps=1e-05, momentum=0.1, affine=True, track_running_stats=True)\n        (2): SELU()\n        (3): Dropout(p=0.2, inplace=False)\n      )\n    )\n  )\n  (out): Linear(in_features=64, out_features=39, bias=True)\n)\n"
          ]
        }
      ],
      "source": [
        "print(model)"
      ]
    },
    {
      "cell_type": "code",
      "execution_count": 19,
      "metadata": {},
      "outputs": [
        {
          "output_type": "stream",
          "name": "stdout",
          "text": [
            "conv0.0.net.0.weight torch.Size([1024, 1, 1, 39])\nnormal init\nconv0.0.net.0.bias torch.Size([1024])\nconv0.0.net.1.weight torch.Size([1024])\nconv0.0.net.1.bias torch.Size([1024])\nconv0.1.net.0.weight torch.Size([512, 1024, 9, 1])\nnormal init\nconv0.1.net.0.bias torch.Size([512])\nconv0.1.net.1.weight torch.Size([512])\nconv0.1.net.1.bias torch.Size([512])\nlinears.0.net.0.weight torch.Size([1024, 1536])\nnormal init\nlinears.0.net.0.bias torch.Size([1024])\nlinears.0.net.1.weight torch.Size([1024])\nlinears.0.net.1.bias torch.Size([1024])\nlinears.1.net.0.weight torch.Size([256, 1024])\nnormal init\nlinears.1.net.0.bias torch.Size([256])\nlinears.1.net.1.weight torch.Size([256])\nlinears.1.net.1.bias torch.Size([256])\nlinears.2.net.0.weight torch.Size([64, 256])\nnormal init\nlinears.2.net.0.bias torch.Size([64])\nlinears.2.net.1.weight torch.Size([64])\nlinears.2.net.1.bias torch.Size([64])\nout.weight torch.Size([39, 64])\nnormal init\nout.bias torch.Size([39])\n"
          ]
        }
      ],
      "source": [
        "gain = 3/4 # for selu\n",
        "for n, p in model.named_parameters():\n",
        "    print(n, p.shape)\n",
        "    if p.dim() >= 2:\n",
        "        print(\"normal init\")\n",
        "        nn.init.xavier_normal_(p, gain)"
      ]
    },
    {
      "cell_type": "code",
      "metadata": {
        "id": "CdMWsBs7zzNs",
        "colab": {
          "base_uri": "https://localhost:8080/"
        },
        "outputId": "c5ed561e-610d-4a35-d936-fd97adf342a0",
        "tags": []
      },
      "source": [
        "# start training\n",
        "\n",
        "lr_step = 1 / len(train_loader)\n",
        "best_acc = 0\n",
        "best_acc_period = 0\n",
        "model_period_count = 0\n",
        "last_t = -1\n",
        "for epoch in range(num_epoch):\n",
        "    train_acc = 0.0\n",
        "    train_loss = 0.0\n",
        "    val_acc = 0.0\n",
        "    val_loss = 0.0\n",
        "\n",
        "    # training\n",
        "    model.train() # set the model to training mode\n",
        "    lr_arg = epoch\n",
        "    for i, data in enumerate(tqdm(train_loader)):\n",
        "        inputs, labels = data\n",
        "        inputs, labels = inputs.to(device), labels.to(device)\n",
        "        optimizer.zero_grad() \n",
        "        y = model(inputs)\n",
        "        batch_loss = criterion(y, labels)\n",
        "        _, train_pred = torch.max(y, 1) # get the index of the class with the highest probability\n",
        "        batch_loss.backward() \n",
        "        optimizer.step() \n",
        "\n",
        "        train_acc += (train_pred.cpu() == labels.cpu()).sum().item()\n",
        "        train_loss += batch_loss.item()\n",
        "\n",
        "    # validation\n",
        "    if len(val_set) > 0:\n",
        "        model.eval() # set the model to evaluation mode\n",
        "        with torch.no_grad():\n",
        "            for i, data in enumerate(val_loader):\n",
        "                inputs, labels = data\n",
        "                inputs, labels = inputs.to(device), labels.to(device)\n",
        "                y = model(inputs)\n",
        "                batch_loss = criterion(y, labels) \n",
        "                _, val_pred = torch.max(y, 1) \n",
        "            \n",
        "                val_acc += (val_pred.cpu() == labels.cpu()).sum().item() # get the index of the class with the highest probability\n",
        "                val_loss += batch_loss.item()\n",
        "            \n",
        "            acc = val_acc/len(val_set)\n",
        "            log_str = ('[{:03d}/{:03d}] Train Acc: {:3.6f} Loss: {:3.6f} | Val Acc: {:3.6f} loss: {:3.6f} | lr: {}'.format(\n",
        "                epoch + 1, num_epoch, train_acc/len(train_set), train_loss/len(train_loader), acc, val_loss/len(val_loader), optimizer.param_groups[0]['lr']\n",
        "            ))\n",
        "            print(log_str)\n",
        "            log.write(log_str + \"\\n\")\n",
        "\n",
        "            # lr update\n",
        "            lr_scheduler.step()\n",
        "\n",
        "            # For voting on CosineAnnealingWarmRestart....\n",
        "            if acc > best_acc_period:\n",
        "                best_acc_period = acc\n",
        "                best_model_period = model.state_dict()\n",
        "            if lr_scheduler.T_cur < last_t: # the condition when the lr reset\n",
        "                if best_acc_period >= 0.765:\n",
        "                    log_str = ('saving {} period model with acc {:.4f}'.format(model_period_count, best_acc_period))\n",
        "                    print(log_str)\n",
        "                    log.write(log_str + \"\\n\")\n",
        "                    torch.save(best_model_period, \"models/{}_{:.4f}.ckpt\".format(model_period_count, best_acc_period))\n",
        "                    model_period_count += 1\n",
        "                best_acc_period = 0\n",
        "                last_t = 0\n",
        "            else:\n",
        "                last_t = lr_scheduler.T_cur\n",
        "\n",
        "            # if the model improves, save a checkpoint at this epoch\n",
        "            if val_acc > best_acc:\n",
        "                best_acc = val_acc\n",
        "                torch.save(model.state_dict(), model_path)\n",
        "                log_str = ('saving model with acc {:.3f}'.format(best_acc/len(val_set)))\n",
        "                print(log_str)\n",
        "                log.write(log_str + \"\\n\")\n",
        "            \n",
        "            log.flush()\n",
        "    else:\n",
        "        # lr update\n",
        "        lr_scheduler.step(train_acc/len(train_set))\n",
        "\n",
        "        print('[{:03d}/{:03d}] Train Acc: {:3.6f} Loss: {:3.6f}'.format(\n",
        "            epoch + 1, num_epoch, train_acc/len(train_set), train_loss/len(train_loader)\n",
        "        ))\n",
        "\n",
        "\n",
        "# if not validating, save the last epoch\n",
        "if len(val_set) == 0:\n",
        "    torch.save(model.state_dict(), model_path)\n",
        "    print('saving model at last epoch')\n",
        "else:\n",
        "    torch.save(model.state_dict(), overfit_model_path)\n",
        "    print('saving overfit model')"
      ],
      "execution_count": 20,
      "outputs": [
        {
          "output_type": "stream",
          "name": "stderr",
          "text": [
            " 12%|█▏        | 233/1922 [00:05<00:34, 49.18it/s]"
          ]
        }
      ]
    },
    {
      "cell_type": "markdown",
      "metadata": {
        "id": "1Hi7jTn3PX-m"
      },
      "source": [
        "## Testing"
      ]
    },
    {
      "cell_type": "markdown",
      "metadata": {
        "id": "NfUECMFCn5VG"
      },
      "source": [
        "Create a testing dataset, and load model from the saved checkpoint."
      ]
    },
    {
      "cell_type": "code",
      "metadata": {
        "id": "1PKjtAScPWtr",
        "colab": {
          "base_uri": "https://localhost:8080/"
        },
        "outputId": "8c17272b-536a-4692-a95f-a3292766c698"
      },
      "source": [
        "# create testing dataset\n",
        "test_set = TIMITDataset(test, None)\n",
        "test_loader = DataLoader(test_set, batch_size=BATCH_SIZE, shuffle=False)\n",
        "\n",
        "# create model and load weights from checkpoint\n",
        "model = Classifier().to(device)\n",
        "# model.load_state_dict(torch.load(model_path))"
      ],
      "execution_count": null,
      "outputs": []
    },
    {
      "source": [
        "Collect the predictions with models in different local-minima"
      ],
      "cell_type": "markdown",
      "metadata": {}
    },
    {
      "cell_type": "code",
      "execution_count": null,
      "metadata": {},
      "outputs": [],
      "source": [
        "models = os.listdir('models')\n",
        "threshold = 7770 # 0.7770\n",
        "preds = []\n",
        "for m in tqdm(models):\n",
        "    acc = m.split(\".\")[1]\n",
        "    print(acc)\n",
        "    if int(acc) < threshold:\n",
        "        continue\n",
        "    print(f\"load model with 0.{acc}\")\n",
        "    model.load_state_dict(torch.load(\"models/\" + m))\n",
        "    model.eval() # set the model to evaluation mode\n",
        "    predict = []\n",
        "    with torch.no_grad():\n",
        "        for i, data in enumerate(test_loader):\n",
        "            inputs = data\n",
        "            inputs = inputs.to(device)\n",
        "            outputs = model(inputs)\n",
        "            _, test_pred = torch.max(outputs, 1)\n",
        "            predict.append(test_pred.cpu().numpy().copy())\n",
        "    preds.append(np.concatenate(predict))\n",
        "preds = np.array(preds)\n",
        "print(preds.shape)\n"
      ]
    },
    {
      "source": [
        "Aggregate the predictions"
      ],
      "cell_type": "markdown",
      "metadata": {}
    },
    {
      "cell_type": "code",
      "execution_count": null,
      "metadata": {
        "tags": []
      },
      "outputs": [],
      "source": [
        "# _, idx, counts = np.unique(preds, return_inverse=True, return_counts=True, axis=1)\n",
        "np.unique(preds.T[0], return_counts=True, return_inverse=True)\n",
        "predict = []\n",
        "for p in tqdm(preds.T):\n",
        "    u, count = np.unique(p, return_counts=True)\n",
        "    predict.append(u[np.argmax(count)])\n",
        "print(len(predict))\n"
      ]
    },
    {
      "cell_type": "markdown",
      "metadata": {
        "id": "940TtCCdoYd0"
      },
      "source": [
        "Make prediction."
      ]
    },
    {
      "cell_type": "markdown",
      "metadata": {
        "id": "AWDf_C-omElb"
      },
      "source": [
        "Write prediction to a CSV file.\n",
        "\n",
        "After finish running this block, download the file `prediction.csv` from the files section on the left-hand side and submit it to Kaggle."
      ]
    },
    {
      "cell_type": "code",
      "metadata": {
        "id": "GuljYSPHcZir"
      },
      "source": [
        "with open('prediction.csv', 'w') as f:\n",
        "    f.write('Id,Class\\n')\n",
        "    for i, y in enumerate(predict):\n",
        "        f.write('{},{}\\n'.format(i, y))"
      ],
      "execution_count": null,
      "outputs": []
    }
  ]
}