{
  "nbformat": 4,
  "nbformat_minor": 0,
  "metadata": {
    "accelerator": "GPU",
    "colab": {
      "name": "SHARE MLSpring2021 - HW2-1.ipynb",
      "provenance": [],
      "collapsed_sections": []
    },
    "kernelspec": {
      "display_name": "Python 3",
      "name": "python3",
      "language": "python"
    }
  },
  "cells": [
    {
      "cell_type": "markdown",
      "metadata": {
        "id": "OYlaRwNu7ojq"
      },
      "source": [
        "# **Homework 2-1 Phoneme Classification**"
      ]
    },
    {
      "cell_type": "markdown",
      "metadata": {
        "id": "emUd7uS7crTz"
      },
      "source": [
        "## The DARPA TIMIT Acoustic-Phonetic Continuous Speech Corpus (TIMIT)\n",
        "The TIMIT corpus of reading speech has been designed to provide speech data for the acquisition of acoustic-phonetic knowledge and for the development and evaluation of automatic speech recognition systems.\n",
        "\n",
        "This homework is a multiclass classification task, \n",
        "we are going to train a deep neural network classifier to predict the phonemes for each frame from the speech corpus TIMIT.\n",
        "\n",
        "link: https://academictorrents.com/details/34e2b78745138186976cbc27939b1b34d18bd5b3"
      ]
    },
    {
      "cell_type": "markdown",
      "metadata": {
        "id": "KVUGfWTo7_Oj"
      },
      "source": [
        "## Download Data\n",
        "Download data from google drive, then unzip it.\n",
        "\n",
        "You should have `timit_11/train_11.npy`, `timit_11/train_label_11.npy`, and `timit_11/test_11.npy` after running this block.<br><br>\n",
        "`timit_11/`\n",
        "- `train_11.npy`: training data<br>\n",
        "- `train_label_11.npy`: training label<br>\n",
        "- `test_11.npy`:  testing data<br><br>\n",
        "\n",
        "**notes: if the google drive link is dead, you can download the data directly from Kaggle and upload it to the workspace**\n",
        "\n",
        "\n"
      ]
    },
    {
      "cell_type": "code",
      "metadata": {
        "colab": {
          "base_uri": "https://localhost:8080/"
        },
        "id": "OzkiMEcC3Foq",
        "outputId": "4308c64c-6885-4d1c-8eb7-a2d9b8038401"
      },
      "source": [
        "# !gdown --id '1HPkcmQmFGu-3OknddKIa5dNDsR05lIQR' --output data.zip\n",
        "# !unzip data.zip\n",
        "# !ls "
      ],
      "execution_count": 19,
      "outputs": []
    },
    {
      "cell_type": "code",
      "execution_count": 20,
      "metadata": {},
      "outputs": [],
      "source": [
        "import os\n",
        "from tqdm import tqdm\n",
        "os.environ['CUDA_VISIBLE_DEVICES'] = '1'"
      ]
    },
    {
      "cell_type": "markdown",
      "metadata": {
        "id": "_L_4anls8Drv"
      },
      "source": [
        "## Preparing Data\n",
        "Load the training and testing data from the `.npy` file (NumPy array)."
      ]
    },
    {
      "cell_type": "code",
      "metadata": {
        "colab": {
          "base_uri": "https://localhost:8080/"
        },
        "id": "IJjLT8em-y9G",
        "outputId": "8edc6bfe-7511-447f-f239-00b96dba6dcf"
      },
      "source": [
        "import numpy as np\n",
        "\n",
        "print('Loading data ...')\n",
        "\n",
        "data_root='./timit_11/'\n",
        "train = np.load(data_root + 'train_11.npy')\n",
        "train_label = np.load(data_root + 'train_label_11.npy')\n",
        "test = np.load(data_root + 'test_11.npy')\n",
        "\n",
        "# reshape to 2d feature\n",
        "train = train.reshape(-1, 1, 11, 39)\n",
        "test = test.reshape(-1, 1, 11, 39)"
      ],
      "execution_count": 21,
      "outputs": [
        {
          "output_type": "stream",
          "name": "stdout",
          "text": [
            "Loading data ...\n"
          ]
        }
      ]
    },
    {
      "cell_type": "code",
      "execution_count": 22,
      "metadata": {},
      "outputs": [
        {
          "output_type": "stream",
          "name": "stdout",
          "text": [
            "Size of training data: (1229932, 1, 11, 39)\nSize of testing data: (451552, 1, 11, 39)\n"
          ]
        }
      ],
      "source": [
        "print('Size of training data: {}'.format(train.shape))\n",
        "print('Size of testing data: {}'.format(test.shape))"
      ]
    },
    {
      "cell_type": "markdown",
      "metadata": {
        "id": "us5XW_x6udZQ"
      },
      "source": [
        "## Create Dataset"
      ]
    },
    {
      "cell_type": "code",
      "metadata": {
        "id": "Fjf5EcmJtf4e"
      },
      "source": [
        "import torch\n",
        "from torch.utils.data import Dataset\n",
        "\n",
        "class TIMITDataset(Dataset):\n",
        "    def __init__(self, X, y=None):\n",
        "        self.data = torch.from_numpy(X).float()\n",
        "\n",
        "        if y is not None:\n",
        "            y = y.astype(np.int)\n",
        "            self.label = torch.LongTensor(y)\n",
        "        else:\n",
        "            self.label = None\n",
        "        \n",
        "\n",
        "    def __getitem__(self, idx):\n",
        "        if self.label is not None:\n",
        "            return self.data[idx], self.label[idx]\n",
        "        else:\n",
        "            return self.data[idx]\n",
        "\n",
        "    def __len__(self):\n",
        "        return len(self.data)\n",
        "\n"
      ],
      "execution_count": 23,
      "outputs": []
    },
    {
      "cell_type": "markdown",
      "metadata": {
        "id": "otIC6WhGeh9v"
      },
      "source": [
        "Split the labeled data into a training set and a validation set, you can modify the variable `VAL_RATIO` to change the ratio of validation data."
      ]
    },
    {
      "cell_type": "code",
      "metadata": {
        "colab": {
          "base_uri": "https://localhost:8080/"
        },
        "id": "sYqi_lAuvC59",
        "outputId": "13dabe63-4849-47ee-fe04-57427b9d601c"
      },
      "source": [
        "VAL_RATIO=0.2\n",
        "\n",
        "percent = int(train.shape[0] * (1 - VAL_RATIO))\n",
        "train_x, train_y, val_x, val_y = train[:percent], train_label[:percent], train[percent:], train_label[percent:]\n",
        "print('Size of training set: {}'.format(train_x.shape))\n",
        "print('Size of validation set: {}'.format(val_x.shape))"
      ],
      "execution_count": 24,
      "outputs": [
        {
          "output_type": "stream",
          "name": "stdout",
          "text": [
            "Size of training set: (983945, 1, 11, 39)\nSize of validation set: (245987, 1, 11, 39)\n"
          ]
        }
      ]
    },
    {
      "source": [
        "## Normalization"
      ],
      "cell_type": "markdown",
      "metadata": {}
    },
    {
      "cell_type": "code",
      "execution_count": 25,
      "metadata": {},
      "outputs": [],
      "source": [
        "tr = train_x[:, 0, 5].reshape(-1, 1, 1, 39)\n",
        "mean = tr.mean(axis=0, keepdims=True)\n",
        "std = tr.std(axis=0, keepdims=True)\n",
        "norm = lambda x: (x-mean)/std\n",
        "train_x = norm(train_x)\n",
        "val_x = norm(val_x)\n",
        "test = norm(test)"
      ]
    },
    {
      "cell_type": "markdown",
      "metadata": {
        "id": "nbCfclUIgMTX"
      },
      "source": [
        "Create a data loader from the dataset, feel free to tweak the variable `BATCH_SIZE` here."
      ]
    },
    {
      "cell_type": "code",
      "metadata": {
        "id": "RUCbQvqJurYc"
      },
      "source": [
        "BATCH_SIZE = 256\n",
        "\n",
        "from torch.utils.data import DataLoader\n",
        "\n",
        "\n",
        "train_set = TIMITDataset(train_x, train_y)\n",
        "val_set = TIMITDataset(val_x, val_y)\n",
        "train_loader = DataLoader(train_set, batch_size=BATCH_SIZE, shuffle=True) #only shuffle the training data\n",
        "val_loader = DataLoader(val_set, batch_size=BATCH_SIZE, shuffle=False)"
      ],
      "execution_count": 26,
      "outputs": []
    },
    {
      "cell_type": "markdown",
      "metadata": {
        "id": "_SY7X0lUgb50"
      },
      "source": [
        "Cleanup the unneeded variables to save memory.<br>\n",
        "\n",
        "**notes: if you need to use these variables later, then you may remove this block or clean up unneeded variables later<br>the data size is quite huge, so be aware of memory usage in colab**"
      ]
    },
    {
      "cell_type": "code",
      "metadata": {
        "colab": {
          "base_uri": "https://localhost:8080/"
        },
        "id": "y8rzkGraeYeN",
        "outputId": "dc790996-a43c-4a99-90d4-e7928892a899"
      },
      "source": [
        "import gc\n",
        "\n",
        "del train, train_label, train_x, train_y, val_x, val_y\n",
        "gc.collect()"
      ],
      "execution_count": 27,
      "outputs": [
        {
          "output_type": "execute_result",
          "data": {
            "text/plain": [
              "174"
            ]
          },
          "metadata": {},
          "execution_count": 27
        }
      ]
    },
    {
      "cell_type": "markdown",
      "metadata": {
        "id": "IRqKNvNZwe3V"
      },
      "source": [
        "## Create Model"
      ]
    },
    {
      "cell_type": "markdown",
      "metadata": {
        "id": "FYr1ng5fh9pA"
      },
      "source": [
        "Define model architecture, you are encouraged to change and experiment with the model architecture."
      ]
    },
    {
      "cell_type": "code",
      "execution_count": 28,
      "metadata": {},
      "outputs": [],
      "source": [
        "import torch\n",
        "import torch.nn as nn"
      ]
    },
    {
      "cell_type": "code",
      "execution_count": 29,
      "metadata": {},
      "outputs": [],
      "source": [
        "class BlockConv2d(nn.Module):\n",
        "    def __init__(self, ch_in, ch_out, k, act, use_bn=True, drop=0):\n",
        "        super(BlockConv2d, self).__init__()\n",
        "        list = [\n",
        "            nn.Conv2d(ch_in, ch_out, k),\n",
        "            act,\n",
        "        ]\n",
        "        if use_bn: list.append(nn.BatchNorm2d(ch_out))\n",
        "        if drop > 0: list.append(nn.Dropout(drop))\n",
        "        self.net = nn.Sequential(*list)\n",
        "\n",
        "    def forward(self, x):\n",
        "          return self.net(x)\n",
        "\n",
        "class BlockLinear(nn.Module):\n",
        "    def __init__(self, ch_in, ch_out, act, use_bn=True, drop=0):\n",
        "        super(BlockLinear, self).__init__()\n",
        "        list = [\n",
        "            nn.Linear(ch_in, ch_out),\n",
        "            act,\n",
        "        ]\n",
        "        if use_bn: list.append(nn.BatchNorm1d(ch_out))\n",
        "        if drop > 0: list.append(nn.Dropout(drop))\n",
        "        self.net = nn.Sequential(*list)\n",
        "\n",
        "    def forward(self, x):\n",
        "          return self.net(x)\n"
      ]
    },
    {
      "cell_type": "code",
      "metadata": {
        "id": "lbZrwT6Ny0XL"
      },
      "source": [
        "class Classifier(nn.Module):\n",
        "    def __init__(self):\n",
        "        super(Classifier, self).__init__()\n",
        "        self.act = nn.SELU()\n",
        "        # self.act = nn.ReLU()\n",
        "\n",
        "        # size = (1, 11, 39)\n",
        "        self.n_0 = [1, 1024, 256] + [128]*3\n",
        "        self.k_0 = [(1, 39)] + [(1, 1)] + [(3, 1)]*3\n",
        "        self.l_0 = len(self.k_0)\n",
        "        self.conv0 = [\n",
        "            BlockConv2d(self.n_0[i], self.n_0[i+1], self.k_0[i], self.act, use_bn=True, drop=0.1)\n",
        "            for i in range(self.l_0)]\n",
        "        self.conv0 = nn.Sequential(*self.conv0)\n",
        "\n",
        "        # size = (128, 9, 3)\n",
        "        self.flat = nn.Flatten()\n",
        "\n",
        "        # size = (9*9*3)\n",
        "        self.n_1 = [128*5, 512, 256, 256, 256]\n",
        "        self.l_1 = len(self.n_1)\n",
        "        self.linears = [\n",
        "            BlockLinear(self.n_1[i], self.n_1[i+1], self.act, use_bn=True, drop=0.1)\n",
        "            for i in range(self.l_1-1)\n",
        "        ]\n",
        "        self.linears = nn.Sequential(*self.linears)\n",
        "\n",
        "        self.out = nn.Linear(self.n_1[-1], 39)\n",
        "\n",
        "    def forward(self, x):\n",
        "        x = self.conv0(x)\n",
        "        x = self.flat(x)\n",
        "        x = self.linears(x)\n",
        "        x = self.out(x)\n",
        "        return x"
      ],
      "execution_count": 34,
      "outputs": []
    },
    {
      "cell_type": "markdown",
      "metadata": {
        "id": "VRYciXZvPbYh"
      },
      "source": [
        "## Training"
      ]
    },
    {
      "cell_type": "code",
      "metadata": {
        "id": "y114Vmm3Ja6o"
      },
      "source": [
        "#check device\n",
        "def get_device():\n",
        "  return 'cuda' if torch.cuda.is_available() else 'cpu'"
      ],
      "execution_count": 31,
      "outputs": []
    },
    {
      "cell_type": "markdown",
      "metadata": {
        "id": "sEX-yjHjhGuH"
      },
      "source": [
        "Fix random seeds for reproducibility."
      ]
    },
    {
      "cell_type": "code",
      "metadata": {
        "id": "88xPiUnm0tAd"
      },
      "source": [
        "# fix random seed\n",
        "def same_seeds(seed):\n",
        "    torch.manual_seed(seed)\n",
        "    if torch.cuda.is_available():\n",
        "        torch.cuda.manual_seed(seed)\n",
        "        torch.cuda.manual_seed_all(seed)  \n",
        "    np.random.seed(seed)  \n",
        "    torch.backends.cudnn.benchmark = False\n",
        "    torch.backends.cudnn.deterministic = True"
      ],
      "execution_count": 32,
      "outputs": []
    },
    {
      "cell_type": "markdown",
      "metadata": {
        "id": "KbBcBXkSp6RA"
      },
      "source": [
        "Feel free to change the training parameters here."
      ]
    },
    {
      "cell_type": "code",
      "metadata": {
        "id": "QTp3ZXg1yO9Y"
      },
      "source": [
        "# fix random seed for reproducibility\n",
        "same_seeds(52728)\n",
        "\n",
        "# get device \n",
        "device = get_device()\n",
        "print(f'DEVICE: {device}')\n",
        "\n",
        "# training parameters\n",
        "num_epoch = 50               # number of training epoch\n",
        "learning_rate = 1e-4       # learning rate\n",
        "\n",
        "# the path where checkpoint saved\n",
        "model_path = './model.ckpt'\n",
        "overfit_model_path = './overfit_model.ckpt'\n",
        "\n",
        "# create model, define a loss function, and optimizer\n",
        "model = Classifier().to(device)\n",
        "# model.load_state_dict(torch.load(overfit_model_path))\n",
        "criterion = nn.CrossEntropyLoss() \n",
        "# optimizer = torch.optim.Adam(model.parameters(), lr=learning_rate)\n",
        "optimizer = torch.optim.Adam(model.parameters(), lr=learning_rate, weight_decay=1e-4)"
      ],
      "execution_count": 35,
      "outputs": [
        {
          "output_type": "stream",
          "name": "stdout",
          "text": [
            "DEVICE: cuda\n"
          ]
        }
      ]
    },
    {
      "cell_type": "code",
      "execution_count": 36,
      "metadata": {},
      "outputs": [
        {
          "output_type": "stream",
          "name": "stdout",
          "text": [
            "Classifier(\n  (act): SELU()\n  (conv0): Sequential(\n    (0): BlockConv2d(\n      (net): Sequential(\n        (0): Conv2d(1, 1024, kernel_size=(1, 39), stride=(1, 1))\n        (1): SELU()\n        (2): BatchNorm2d(1024, eps=1e-05, momentum=0.1, affine=True, track_running_stats=True)\n        (3): Dropout(p=0.1, inplace=False)\n      )\n    )\n    (1): BlockConv2d(\n      (net): Sequential(\n        (0): Conv2d(1024, 256, kernel_size=(1, 1), stride=(1, 1))\n        (1): SELU()\n        (2): BatchNorm2d(256, eps=1e-05, momentum=0.1, affine=True, track_running_stats=True)\n        (3): Dropout(p=0.1, inplace=False)\n      )\n    )\n    (2): BlockConv2d(\n      (net): Sequential(\n        (0): Conv2d(256, 128, kernel_size=(3, 1), stride=(1, 1))\n        (1): SELU()\n        (2): BatchNorm2d(128, eps=1e-05, momentum=0.1, affine=True, track_running_stats=True)\n        (3): Dropout(p=0.1, inplace=False)\n      )\n    )\n    (3): BlockConv2d(\n      (net): Sequential(\n        (0): Conv2d(128, 128, kernel_size=(3, 1), stride=(1, 1))\n        (1): SELU()\n        (2): BatchNorm2d(128, eps=1e-05, momentum=0.1, affine=True, track_running_stats=True)\n        (3): Dropout(p=0.1, inplace=False)\n      )\n    )\n    (4): BlockConv2d(\n      (net): Sequential(\n        (0): Conv2d(128, 128, kernel_size=(3, 1), stride=(1, 1))\n        (1): SELU()\n        (2): BatchNorm2d(128, eps=1e-05, momentum=0.1, affine=True, track_running_stats=True)\n        (3): Dropout(p=0.1, inplace=False)\n      )\n    )\n  )\n  (flat): Flatten(start_dim=1, end_dim=-1)\n  (linears): Sequential(\n    (0): BlockLinear(\n      (net): Sequential(\n        (0): Linear(in_features=640, out_features=512, bias=True)\n        (1): SELU()\n        (2): BatchNorm1d(512, eps=1e-05, momentum=0.1, affine=True, track_running_stats=True)\n        (3): Dropout(p=0.1, inplace=False)\n      )\n    )\n    (1): BlockLinear(\n      (net): Sequential(\n        (0): Linear(in_features=512, out_features=256, bias=True)\n        (1): SELU()\n        (2): BatchNorm1d(256, eps=1e-05, momentum=0.1, affine=True, track_running_stats=True)\n        (3): Dropout(p=0.1, inplace=False)\n      )\n    )\n    (2): BlockLinear(\n      (net): Sequential(\n        (0): Linear(in_features=256, out_features=256, bias=True)\n        (1): SELU()\n        (2): BatchNorm1d(256, eps=1e-05, momentum=0.1, affine=True, track_running_stats=True)\n        (3): Dropout(p=0.1, inplace=False)\n      )\n    )\n    (3): BlockLinear(\n      (net): Sequential(\n        (0): Linear(in_features=256, out_features=256, bias=True)\n        (1): SELU()\n        (2): BatchNorm1d(256, eps=1e-05, momentum=0.1, affine=True, track_running_stats=True)\n        (3): Dropout(p=0.1, inplace=False)\n      )\n    )\n  )\n  (out): Linear(in_features=256, out_features=39, bias=True)\n)\n"
          ]
        }
      ],
      "source": [
        "print(model)"
      ]
    },
    {
      "cell_type": "code",
      "execution_count": 37,
      "metadata": {},
      "outputs": [
        {
          "output_type": "stream",
          "name": "stdout",
          "text": [
            "conv0.0.net.0.weight torch.Size([1024, 1, 1, 39])\nnormal init\nconv0.0.net.0.bias torch.Size([1024])\nconv0.0.net.2.weight torch.Size([1024])\nconv0.0.net.2.bias torch.Size([1024])\nconv0.1.net.0.weight torch.Size([256, 1024, 1, 1])\nnormal init\nconv0.1.net.0.bias torch.Size([256])\nconv0.1.net.2.weight torch.Size([256])\nconv0.1.net.2.bias torch.Size([256])\nconv0.2.net.0.weight torch.Size([128, 256, 3, 1])\nnormal init\nconv0.2.net.0.bias torch.Size([128])\nconv0.2.net.2.weight torch.Size([128])\nconv0.2.net.2.bias torch.Size([128])\nconv0.3.net.0.weight torch.Size([128, 128, 3, 1])\nnormal init\nconv0.3.net.0.bias torch.Size([128])\nconv0.3.net.2.weight torch.Size([128])\nconv0.3.net.2.bias torch.Size([128])\nconv0.4.net.0.weight torch.Size([128, 128, 3, 1])\nnormal init\nconv0.4.net.0.bias torch.Size([128])\nconv0.4.net.2.weight torch.Size([128])\nconv0.4.net.2.bias torch.Size([128])\nlinears.0.net.0.weight torch.Size([512, 640])\nnormal init\nlinears.0.net.0.bias torch.Size([512])\nlinears.0.net.2.weight torch.Size([512])\nlinears.0.net.2.bias torch.Size([512])\nlinears.1.net.0.weight torch.Size([256, 512])\nnormal init\nlinears.1.net.0.bias torch.Size([256])\nlinears.1.net.2.weight torch.Size([256])\nlinears.1.net.2.bias torch.Size([256])\nlinears.2.net.0.weight torch.Size([256, 256])\nnormal init\nlinears.2.net.0.bias torch.Size([256])\nlinears.2.net.2.weight torch.Size([256])\nlinears.2.net.2.bias torch.Size([256])\nlinears.3.net.0.weight torch.Size([256, 256])\nnormal init\nlinears.3.net.0.bias torch.Size([256])\nlinears.3.net.2.weight torch.Size([256])\nlinears.3.net.2.bias torch.Size([256])\nout.weight torch.Size([39, 256])\nnormal init\nout.bias torch.Size([39])\n"
          ]
        }
      ],
      "source": [
        "gain = 3/4 # for selu\n",
        "for n, p in model.named_parameters():\n",
        "    print(n, p.shape)\n",
        "    if p.dim() >= 2:\n",
        "        print(\"normal init\")\n",
        "        nn.init.xavier_normal_(p, gain)"
      ]
    },
    {
      "cell_type": "code",
      "metadata": {
        "id": "CdMWsBs7zzNs",
        "colab": {
          "base_uri": "https://localhost:8080/"
        },
        "outputId": "c5ed561e-610d-4a35-d936-fd97adf342a0"
      },
      "source": [
        "# start training\n",
        "\n",
        "best_acc = 0.0\n",
        "for epoch in range(num_epoch):\n",
        "    train_acc = 0.0\n",
        "    train_loss = 0.0\n",
        "    val_acc = 0.0\n",
        "    val_loss = 0.0\n",
        "\n",
        "    # training\n",
        "    model.train() # set the model to training mode\n",
        "    for i, data in enumerate(tqdm(train_loader)):\n",
        "        inputs, labels = data\n",
        "        inputs, labels = inputs.to(device), labels.to(device)\n",
        "        optimizer.zero_grad() \n",
        "        outputs = model(inputs) \n",
        "        batch_loss = criterion(outputs, labels)\n",
        "        _, train_pred = torch.max(outputs, 1) # get the index of the class with the highest probability\n",
        "        batch_loss.backward() \n",
        "        optimizer.step() \n",
        "\n",
        "        train_acc += (train_pred.cpu() == labels.cpu()).sum().item()\n",
        "        train_loss += batch_loss.item()\n",
        "\n",
        "    # validation\n",
        "    if len(val_set) > 0:\n",
        "        model.eval() # set the model to evaluation mode\n",
        "        with torch.no_grad():\n",
        "            for i, data in enumerate(val_loader):\n",
        "                inputs, labels = data\n",
        "                inputs, labels = inputs.to(device), labels.to(device)\n",
        "                outputs = model(inputs)\n",
        "                batch_loss = criterion(outputs, labels) \n",
        "                _, val_pred = torch.max(outputs, 1) \n",
        "            \n",
        "                val_acc += (val_pred.cpu() == labels.cpu()).sum().item() # get the index of the class with the highest probability\n",
        "                val_loss += batch_loss.item()\n",
        "\n",
        "            print('[{:03d}/{:03d}] Train Acc: {:3.6f} Loss: {:3.6f} | Val Acc: {:3.6f} loss: {:3.6f}'.format(\n",
        "                epoch + 1, num_epoch, train_acc/len(train_set), train_loss/len(train_loader), val_acc/len(val_set), val_loss/len(val_loader)\n",
        "            ))\n",
        "\n",
        "            # if the model improves, save a checkpoint at this epoch\n",
        "            if val_acc > best_acc:\n",
        "                best_acc = val_acc\n",
        "                torch.save(model.state_dict(), model_path)\n",
        "                print('saving model with acc {:.3f}'.format(best_acc/len(val_set)))\n",
        "    else:\n",
        "        print('[{:03d}/{:03d}] Train Acc: {:3.6f} Loss: {:3.6f}'.format(\n",
        "            epoch + 1, num_epoch, train_acc/len(train_set), train_loss/len(train_loader)\n",
        "        ))\n",
        "\n",
        "# if not validating, save the last epoch\n",
        "if len(val_set) == 0:\n",
        "    torch.save(model.state_dict(), model_path)\n",
        "    print('saving model at last epoch')\n",
        "else:\n",
        "    torch.save(model.state_dict(), overfit_model_path)\n",
        "    print('saving overfit model')"
      ],
      "execution_count": 38,
      "outputs": [
        {
          "output_type": "stream",
          "name": "stderr",
          "text": [
            "100%|██████████| 3844/3844 [01:58<00:00, 32.42it/s]\n",
            "  0%|          | 1/3844 [00:00<07:53,  8.11it/s][001/050] Train Acc: 0.565967 Loss: 1.426780 | Val Acc: 0.661515 loss: 1.068313\n",
            "saving model with acc 0.662\n",
            "100%|██████████| 3844/3844 [01:57<00:00, 32.58it/s]\n",
            "  0%|          | 1/3844 [00:00<07:19,  8.74it/s][002/050] Train Acc: 0.636561 Loss: 1.153132 | Val Acc: 0.690016 loss: 0.965876\n",
            "saving model with acc 0.690\n",
            "100%|██████████| 3844/3844 [01:58<00:00, 32.57it/s]\n",
            "  0%|          | 1/3844 [00:00<07:24,  8.65it/s][003/050] Train Acc: 0.660130 Loss: 1.064399 | Val Acc: 0.702899 loss: 0.915769\n",
            "saving model with acc 0.703\n",
            "100%|██████████| 3844/3844 [01:58<00:00, 32.41it/s]\n",
            "  0%|          | 1/3844 [00:00<07:25,  8.64it/s][004/050] Train Acc: 0.675873 Loss: 1.007235 | Val Acc: 0.713395 loss: 0.874585\n",
            "saving model with acc 0.713\n",
            "100%|██████████| 3844/3844 [01:59<00:00, 32.15it/s]\n",
            "  0%|          | 1/3844 [00:00<07:25,  8.62it/s][005/050] Train Acc: 0.687808 Loss: 0.964939 | Val Acc: 0.720197 loss: 0.853370\n",
            "saving model with acc 0.720\n",
            "100%|██████████| 3844/3844 [01:58<00:00, 32.34it/s]\n",
            "  0%|          | 1/3844 [00:00<07:20,  8.72it/s][006/050] Train Acc: 0.697678 Loss: 0.930312 | Val Acc: 0.726103 loss: 0.831733\n",
            "saving model with acc 0.726\n",
            "100%|██████████| 3844/3844 [01:58<00:00, 32.53it/s]\n",
            "  0%|          | 1/3844 [00:00<07:32,  8.50it/s][007/050] Train Acc: 0.705234 Loss: 0.902793 | Val Acc: 0.730433 loss: 0.818161\n",
            "saving model with acc 0.730\n",
            "100%|██████████| 3844/3844 [01:58<00:00, 32.40it/s]\n",
            "  0%|          | 1/3844 [00:00<07:36,  8.42it/s][008/050] Train Acc: 0.711984 Loss: 0.879574 | Val Acc: 0.734441 loss: 0.804984\n",
            "saving model with acc 0.734\n",
            "100%|██████████| 3844/3844 [01:58<00:00, 32.42it/s]\n",
            "  0%|          | 1/3844 [00:00<08:25,  7.61it/s][009/050] Train Acc: 0.718297 Loss: 0.858714 | Val Acc: 0.736218 loss: 0.795484\n",
            "saving model with acc 0.736\n",
            "100%|██████████| 3844/3844 [01:58<00:00, 32.56it/s]\n",
            "  0%|          | 1/3844 [00:00<07:25,  8.63it/s][010/050] Train Acc: 0.722982 Loss: 0.840864 | Val Acc: 0.740104 loss: 0.783205\n",
            "saving model with acc 0.740\n",
            "100%|██████████| 3844/3844 [01:29<00:00, 42.77it/s]\n",
            "  0%|          | 1/3844 [00:00<07:44,  8.27it/s][011/050] Train Acc: 0.728148 Loss: 0.823917 | Val Acc: 0.742702 loss: 0.774326\n",
            "saving model with acc 0.743\n",
            "100%|██████████| 3844/3844 [01:56<00:00, 32.88it/s]\n",
            "  0%|          | 1/3844 [00:00<07:36,  8.42it/s][012/050] Train Acc: 0.731894 Loss: 0.810233 | Val Acc: 0.743352 loss: 0.771514\n",
            "saving model with acc 0.743\n",
            "100%|██████████| 3844/3844 [01:58<00:00, 32.45it/s]\n",
            "  0%|          | 1/3844 [00:00<07:23,  8.66it/s][013/050] Train Acc: 0.736169 Loss: 0.795551 | Val Acc: 0.745239 loss: 0.768236\n",
            "saving model with acc 0.745\n",
            "100%|██████████| 3844/3844 [01:59<00:00, 32.24it/s]\n",
            "  0%|          | 1/3844 [00:00<07:50,  8.17it/s][014/050] Train Acc: 0.739591 Loss: 0.784143 | Val Acc: 0.746052 loss: 0.765657\n",
            "saving model with acc 0.746\n",
            "100%|██████████| 3844/3844 [01:59<00:00, 32.23it/s]\n",
            "  0%|          | 1/3844 [00:00<07:39,  8.36it/s][015/050] Train Acc: 0.742838 Loss: 0.772319 | Val Acc: 0.747129 loss: 0.763332\n",
            "saving model with acc 0.747\n",
            "100%|██████████| 3844/3844 [01:58<00:00, 32.54it/s]\n",
            "  0%|          | 1/3844 [00:00<07:35,  8.43it/s][016/050] Train Acc: 0.745919 Loss: 0.761560 | Val Acc: 0.749666 loss: 0.750789\n",
            "saving model with acc 0.750\n",
            "100%|██████████| 3844/3844 [01:57<00:00, 32.69it/s]\n",
            "  0%|          | 1/3844 [00:00<07:24,  8.65it/s][017/050] Train Acc: 0.748913 Loss: 0.751757 | Val Acc: 0.751048 loss: 0.751054\n",
            "saving model with acc 0.751\n",
            "100%|██████████| 3844/3844 [02:05<00:00, 30.71it/s]\n",
            "  0%|          | 1/3844 [00:00<07:28,  8.57it/s][018/050] Train Acc: 0.750983 Loss: 0.743991 | Val Acc: 0.750832 loss: 0.750653\n",
            "100%|██████████| 3844/3844 [01:58<00:00, 32.41it/s]\n",
            "  0%|          | 1/3844 [00:00<07:23,  8.66it/s][019/050] Train Acc: 0.754106 Loss: 0.734429 | Val Acc: 0.751763 loss: 0.749669\n",
            "saving model with acc 0.752\n",
            "100%|██████████| 3844/3844 [01:58<00:00, 32.49it/s]\n",
            "  0%|          | 1/3844 [00:00<08:00,  7.99it/s][020/050] Train Acc: 0.755627 Loss: 0.727306 | Val Acc: 0.752235 loss: 0.746651\n",
            "saving model with acc 0.752\n",
            " 77%|███████▋  | 2975/3844 [01:31<00:26, 32.59it/s]\n"
          ]
        },
        {
          "output_type": "error",
          "ename": "KeyboardInterrupt",
          "evalue": "",
          "traceback": [
            "\u001b[0;31m---------------------------------------------------------------------------\u001b[0m",
            "\u001b[0;31mKeyboardInterrupt\u001b[0m                         Traceback (most recent call last)",
            "\u001b[0;32m<ipython-input-38-22025d8dcf0f>\u001b[0m in \u001b[0;36m<module>\u001b[0;34m\u001b[0m\n\u001b[1;32m     17\u001b[0m         \u001b[0mbatch_loss\u001b[0m \u001b[0;34m=\u001b[0m \u001b[0mcriterion\u001b[0m\u001b[0;34m(\u001b[0m\u001b[0moutputs\u001b[0m\u001b[0;34m,\u001b[0m \u001b[0mlabels\u001b[0m\u001b[0;34m)\u001b[0m\u001b[0;34m\u001b[0m\u001b[0;34m\u001b[0m\u001b[0m\n\u001b[1;32m     18\u001b[0m         \u001b[0m_\u001b[0m\u001b[0;34m,\u001b[0m \u001b[0mtrain_pred\u001b[0m \u001b[0;34m=\u001b[0m \u001b[0mtorch\u001b[0m\u001b[0;34m.\u001b[0m\u001b[0mmax\u001b[0m\u001b[0;34m(\u001b[0m\u001b[0moutputs\u001b[0m\u001b[0;34m,\u001b[0m \u001b[0;36m1\u001b[0m\u001b[0;34m)\u001b[0m \u001b[0;31m# get the index of the class with the highest probability\u001b[0m\u001b[0;34m\u001b[0m\u001b[0;34m\u001b[0m\u001b[0m\n\u001b[0;32m---> 19\u001b[0;31m         \u001b[0mbatch_loss\u001b[0m\u001b[0;34m.\u001b[0m\u001b[0mbackward\u001b[0m\u001b[0;34m(\u001b[0m\u001b[0;34m)\u001b[0m\u001b[0;34m\u001b[0m\u001b[0;34m\u001b[0m\u001b[0m\n\u001b[0m\u001b[1;32m     20\u001b[0m         \u001b[0moptimizer\u001b[0m\u001b[0;34m.\u001b[0m\u001b[0mstep\u001b[0m\u001b[0;34m(\u001b[0m\u001b[0;34m)\u001b[0m\u001b[0;34m\u001b[0m\u001b[0;34m\u001b[0m\u001b[0m\n\u001b[1;32m     21\u001b[0m \u001b[0;34m\u001b[0m\u001b[0m\n",
            "\u001b[0;32m~/anaconda3/envs/torch/lib/python3.8/site-packages/torch/tensor.py\u001b[0m in \u001b[0;36mbackward\u001b[0;34m(self, gradient, retain_graph, create_graph)\u001b[0m\n\u001b[1;32m    219\u001b[0m                 \u001b[0mretain_graph\u001b[0m\u001b[0;34m=\u001b[0m\u001b[0mretain_graph\u001b[0m\u001b[0;34m,\u001b[0m\u001b[0;34m\u001b[0m\u001b[0;34m\u001b[0m\u001b[0m\n\u001b[1;32m    220\u001b[0m                 create_graph=create_graph)\n\u001b[0;32m--> 221\u001b[0;31m         \u001b[0mtorch\u001b[0m\u001b[0;34m.\u001b[0m\u001b[0mautograd\u001b[0m\u001b[0;34m.\u001b[0m\u001b[0mbackward\u001b[0m\u001b[0;34m(\u001b[0m\u001b[0mself\u001b[0m\u001b[0;34m,\u001b[0m \u001b[0mgradient\u001b[0m\u001b[0;34m,\u001b[0m \u001b[0mretain_graph\u001b[0m\u001b[0;34m,\u001b[0m \u001b[0mcreate_graph\u001b[0m\u001b[0;34m)\u001b[0m\u001b[0;34m\u001b[0m\u001b[0;34m\u001b[0m\u001b[0m\n\u001b[0m\u001b[1;32m    222\u001b[0m \u001b[0;34m\u001b[0m\u001b[0m\n\u001b[1;32m    223\u001b[0m     \u001b[0;32mdef\u001b[0m \u001b[0mregister_hook\u001b[0m\u001b[0;34m(\u001b[0m\u001b[0mself\u001b[0m\u001b[0;34m,\u001b[0m \u001b[0mhook\u001b[0m\u001b[0;34m)\u001b[0m\u001b[0;34m:\u001b[0m\u001b[0;34m\u001b[0m\u001b[0;34m\u001b[0m\u001b[0m\n",
            "\u001b[0;32m~/anaconda3/envs/torch/lib/python3.8/site-packages/torch/autograd/__init__.py\u001b[0m in \u001b[0;36mbackward\u001b[0;34m(tensors, grad_tensors, retain_graph, create_graph, grad_variables)\u001b[0m\n\u001b[1;32m    128\u001b[0m         \u001b[0mretain_graph\u001b[0m \u001b[0;34m=\u001b[0m \u001b[0mcreate_graph\u001b[0m\u001b[0;34m\u001b[0m\u001b[0;34m\u001b[0m\u001b[0m\n\u001b[1;32m    129\u001b[0m \u001b[0;34m\u001b[0m\u001b[0m\n\u001b[0;32m--> 130\u001b[0;31m     Variable._execution_engine.run_backward(\n\u001b[0m\u001b[1;32m    131\u001b[0m         \u001b[0mtensors\u001b[0m\u001b[0;34m,\u001b[0m \u001b[0mgrad_tensors_\u001b[0m\u001b[0;34m,\u001b[0m \u001b[0mretain_graph\u001b[0m\u001b[0;34m,\u001b[0m \u001b[0mcreate_graph\u001b[0m\u001b[0;34m,\u001b[0m\u001b[0;34m\u001b[0m\u001b[0;34m\u001b[0m\u001b[0m\n\u001b[1;32m    132\u001b[0m         allow_unreachable=True)  # allow_unreachable flag\n",
            "\u001b[0;31mKeyboardInterrupt\u001b[0m: "
          ]
        }
      ]
    },
    {
      "cell_type": "markdown",
      "metadata": {
        "id": "1Hi7jTn3PX-m"
      },
      "source": [
        "## Testing"
      ]
    },
    {
      "cell_type": "markdown",
      "metadata": {
        "id": "NfUECMFCn5VG"
      },
      "source": [
        "Create a testing dataset, and load model from the saved checkpoint."
      ]
    },
    {
      "cell_type": "code",
      "metadata": {
        "id": "1PKjtAScPWtr",
        "colab": {
          "base_uri": "https://localhost:8080/"
        },
        "outputId": "8c17272b-536a-4692-a95f-a3292766c698"
      },
      "source": [
        "# create testing dataset\n",
        "test_set = TIMITDataset(test, None)\n",
        "test_loader = DataLoader(test_set, batch_size=BATCH_SIZE, shuffle=False)\n",
        "\n",
        "# create model and load weights from checkpoint\n",
        "model = Classifier().to(device)\n",
        "model.load_state_dict(torch.load(model_path))"
      ],
      "execution_count": 39,
      "outputs": [
        {
          "output_type": "execute_result",
          "data": {
            "text/plain": [
              "<All keys matched successfully>"
            ]
          },
          "metadata": {},
          "execution_count": 39
        }
      ]
    },
    {
      "cell_type": "markdown",
      "metadata": {
        "id": "940TtCCdoYd0"
      },
      "source": [
        "Make prediction."
      ]
    },
    {
      "cell_type": "code",
      "metadata": {
        "id": "84HU5GGjPqR0"
      },
      "source": [
        "predict = []\n",
        "model.eval() # set the model to evaluation mode\n",
        "with torch.no_grad():\n",
        "    for i, data in enumerate(test_loader):\n",
        "        inputs = data\n",
        "        inputs = inputs.to(device)\n",
        "        outputs = model(inputs)\n",
        "        _, test_pred = torch.max(outputs, 1) # get the index of the class with the highest probability\n",
        "\n",
        "        for y in test_pred.cpu().numpy():\n",
        "            predict.append(y)"
      ],
      "execution_count": 40,
      "outputs": []
    },
    {
      "cell_type": "markdown",
      "metadata": {
        "id": "AWDf_C-omElb"
      },
      "source": [
        "Write prediction to a CSV file.\n",
        "\n",
        "After finish running this block, download the file `prediction.csv` from the files section on the left-hand side and submit it to Kaggle."
      ]
    },
    {
      "cell_type": "code",
      "metadata": {
        "id": "GuljYSPHcZir"
      },
      "source": [
        "with open('prediction.csv', 'w') as f:\n",
        "    f.write('Id,Class\\n')\n",
        "    for i, y in enumerate(predict):\n",
        "        f.write('{},{}\\n'.format(i, y))"
      ],
      "execution_count": 41,
      "outputs": []
    },
    {
      "cell_type": "code",
      "execution_count": null,
      "metadata": {},
      "outputs": [],
      "source": []
    }
  ]
}